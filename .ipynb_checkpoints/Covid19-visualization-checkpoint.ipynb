{
 "cells": [
  {
   "cell_type": "code",
   "execution_count": 14,
   "metadata": {},
   "outputs": [],
   "source": [
    "import pandas as pd\n",
    "import altair as alt\n",
    "import matplotlib.pyplot as plt\n",
    "import plotly.express as px"
   ]
  },
  {
   "cell_type": "code",
   "execution_count": 33,
   "metadata": {},
   "outputs": [],
   "source": [
    "full_grouped = pd.read_csv('COVID-19-complete-new.csv', parse_dates=['Date'])\n",
    "canada = full_grouped[full_grouped['Country/Region'] == 'Canada']"
   ]
  },
  {
   "cell_type": "code",
   "execution_count": 34,
   "metadata": {},
   "outputs": [],
   "source": [
    "base = alt.Chart(canada).mark_bar().encode(\n",
    "    x='monthdate(Date):O',\n",
    ").properties(\n",
    "    width=500\n",
    ")"
   ]
  },
  {
   "cell_type": "code",
   "execution_count": 35,
   "metadata": {},
   "outputs": [
    {
     "data": {
      "text/html": [
       "\n",
       "<div id=\"altair-viz-488497482a184b1e9b2e9073744e4411\"></div>\n",
       "<script type=\"text/javascript\">\n",
       "  (function(spec, embedOpt){\n",
       "    let outputDiv = document.currentScript.previousElementSibling;\n",
       "    if (outputDiv.id !== \"altair-viz-488497482a184b1e9b2e9073744e4411\") {\n",
       "      outputDiv = document.getElementById(\"altair-viz-488497482a184b1e9b2e9073744e4411\");\n",
       "    }\n",
       "    const paths = {\n",
       "      \"vega\": \"https://cdn.jsdelivr.net/npm//vega@5?noext\",\n",
       "      \"vega-lib\": \"https://cdn.jsdelivr.net/npm//vega-lib?noext\",\n",
       "      \"vega-lite\": \"https://cdn.jsdelivr.net/npm//vega-lite@4.8.1?noext\",\n",
       "      \"vega-embed\": \"https://cdn.jsdelivr.net/npm//vega-embed@6?noext\",\n",
       "    };\n",
       "\n",
       "    function loadScript(lib) {\n",
       "      return new Promise(function(resolve, reject) {\n",
       "        var s = document.createElement('script');\n",
       "        s.src = paths[lib];\n",
       "        s.async = true;\n",
       "        s.onload = () => resolve(paths[lib]);\n",
       "        s.onerror = () => reject(`Error loading script: ${paths[lib]}`);\n",
       "        document.getElementsByTagName(\"head\")[0].appendChild(s);\n",
       "      });\n",
       "    }\n",
       "\n",
       "    function showError(err) {\n",
       "      outputDiv.innerHTML = `<div class=\"error\" style=\"color:red;\">${err}</div>`;\n",
       "      throw err;\n",
       "    }\n",
       "\n",
       "    function displayChart(vegaEmbed) {\n",
       "      vegaEmbed(outputDiv, spec, embedOpt)\n",
       "        .catch(err => showError(`Javascript Error: ${err.message}<br>This usually means there's a typo in your chart specification. See the javascript console for the full traceback.`));\n",
       "    }\n",
       "\n",
       "    if(typeof define === \"function\" && define.amd) {\n",
       "      requirejs.config({paths});\n",
       "      require([\"vega-embed\"], displayChart, err => showError(`Error loading script: ${err.message}`));\n",
       "    } else if (typeof vegaEmbed === \"function\") {\n",
       "      displayChart(vegaEmbed);\n",
       "    } else {\n",
       "      loadScript(\"vega\")\n",
       "        .then(() => loadScript(\"vega-lite\"))\n",
       "        .then(() => loadScript(\"vega-embed\"))\n",
       "        .catch(showError)\n",
       "        .then(() => displayChart(vegaEmbed));\n",
       "    }\n",
       "  })({\"config\": {\"view\": {\"continuousWidth\": 400, \"continuousHeight\": 300}}, \"hconcat\": [{\"mark\": \"bar\", \"encoding\": {\"x\": {\"type\": \"ordinal\", \"field\": \"Date\", \"timeUnit\": \"monthdate\"}, \"y\": {\"type\": \"quantitative\", \"field\": \"Confirmed\"}}, \"title\": \"Total Confirmed\", \"width\": 500}, {\"mark\": \"bar\", \"encoding\": {\"color\": {\"value\": \"#f54242\"}, \"x\": {\"type\": \"ordinal\", \"field\": \"Date\", \"timeUnit\": \"monthdate\"}, \"y\": {\"type\": \"quantitative\", \"field\": \"Deaths\"}}, \"title\": \"Total Deaths\", \"width\": 500}], \"data\": {\"name\": \"data-dfe9d3ec8ee2467f385346aa1597aea3\"}, \"$schema\": \"https://vega.github.io/schema/vega-lite/v4.8.1.json\", \"datasets\": {\"data-dfe9d3ec8ee2467f385346aa1597aea3\": [{\"Unnamed: 0\": 32, \"Date\": \"2020-01-22T00:00:00\", \"Country/Region\": \"Canada\", \"Confirmed\": 0, \"Deaths\": 0, \"Recovered\": 0.0, \"Active\": 0.0, \"New cases\": 0, \"New deaths\": 0, \"New recovered\": 0}, {\"Unnamed: 0\": 218, \"Date\": \"2020-01-23T00:00:00\", \"Country/Region\": \"Canada\", \"Confirmed\": 0, \"Deaths\": 0, \"Recovered\": 0.0, \"Active\": 0.0, \"New cases\": 0, \"New deaths\": 0, \"New recovered\": 0}, {\"Unnamed: 0\": 404, \"Date\": \"2020-01-24T00:00:00\", \"Country/Region\": \"Canada\", \"Confirmed\": 0, \"Deaths\": 0, \"Recovered\": 0.0, \"Active\": 0.0, \"New cases\": 0, \"New deaths\": 0, \"New recovered\": 0}, {\"Unnamed: 0\": 590, \"Date\": \"2020-01-25T00:00:00\", \"Country/Region\": \"Canada\", \"Confirmed\": 0, \"Deaths\": 0, \"Recovered\": 0.0, \"Active\": 0.0, \"New cases\": 0, \"New deaths\": 0, \"New recovered\": 0}, {\"Unnamed: 0\": 776, \"Date\": \"2020-01-26T00:00:00\", \"Country/Region\": \"Canada\", \"Confirmed\": 1, \"Deaths\": 0, \"Recovered\": 0.0, \"Active\": 1.0, \"New cases\": 1, \"New deaths\": 0, \"New recovered\": 0}, {\"Unnamed: 0\": 962, \"Date\": \"2020-01-27T00:00:00\", \"Country/Region\": \"Canada\", \"Confirmed\": 1, \"Deaths\": 0, \"Recovered\": 0.0, \"Active\": 1.0, \"New cases\": 0, \"New deaths\": 0, \"New recovered\": 0}, {\"Unnamed: 0\": 1148, \"Date\": \"2020-01-28T00:00:00\", \"Country/Region\": \"Canada\", \"Confirmed\": 2, \"Deaths\": 0, \"Recovered\": 0.0, \"Active\": 2.0, \"New cases\": 1, \"New deaths\": 0, \"New recovered\": 0}, {\"Unnamed: 0\": 1334, \"Date\": \"2020-01-29T00:00:00\", \"Country/Region\": \"Canada\", \"Confirmed\": 2, \"Deaths\": 0, \"Recovered\": 0.0, \"Active\": 2.0, \"New cases\": 0, \"New deaths\": 0, \"New recovered\": 0}, {\"Unnamed: 0\": 1520, \"Date\": \"2020-01-30T00:00:00\", \"Country/Region\": \"Canada\", \"Confirmed\": 2, \"Deaths\": 0, \"Recovered\": 0.0, \"Active\": 2.0, \"New cases\": 0, \"New deaths\": 0, \"New recovered\": 0}, {\"Unnamed: 0\": 1706, \"Date\": \"2020-01-31T00:00:00\", \"Country/Region\": \"Canada\", \"Confirmed\": 4, \"Deaths\": 0, \"Recovered\": 0.0, \"Active\": 4.0, \"New cases\": 2, \"New deaths\": 0, \"New recovered\": 0}, {\"Unnamed: 0\": 1892, \"Date\": \"2020-02-01T00:00:00\", \"Country/Region\": \"Canada\", \"Confirmed\": 4, \"Deaths\": 0, \"Recovered\": 0.0, \"Active\": 4.0, \"New cases\": 0, \"New deaths\": 0, \"New recovered\": 0}, {\"Unnamed: 0\": 2078, \"Date\": \"2020-02-02T00:00:00\", \"Country/Region\": \"Canada\", \"Confirmed\": 4, \"Deaths\": 0, \"Recovered\": 0.0, \"Active\": 4.0, \"New cases\": 0, \"New deaths\": 0, \"New recovered\": 0}, {\"Unnamed: 0\": 2264, \"Date\": \"2020-02-03T00:00:00\", \"Country/Region\": \"Canada\", \"Confirmed\": 4, \"Deaths\": 0, \"Recovered\": 0.0, \"Active\": 4.0, \"New cases\": 0, \"New deaths\": 0, \"New recovered\": 0}, {\"Unnamed: 0\": 2450, \"Date\": \"2020-02-04T00:00:00\", \"Country/Region\": \"Canada\", \"Confirmed\": 4, \"Deaths\": 0, \"Recovered\": 0.0, \"Active\": 4.0, \"New cases\": 0, \"New deaths\": 0, \"New recovered\": 0}, {\"Unnamed: 0\": 2636, \"Date\": \"2020-02-05T00:00:00\", \"Country/Region\": \"Canada\", \"Confirmed\": 5, \"Deaths\": 0, \"Recovered\": 0.0, \"Active\": 5.0, \"New cases\": 1, \"New deaths\": 0, \"New recovered\": 0}, {\"Unnamed: 0\": 2822, \"Date\": \"2020-02-06T00:00:00\", \"Country/Region\": \"Canada\", \"Confirmed\": 5, \"Deaths\": 0, \"Recovered\": 0.0, \"Active\": 5.0, \"New cases\": 0, \"New deaths\": 0, \"New recovered\": 0}, {\"Unnamed: 0\": 3008, \"Date\": \"2020-02-07T00:00:00\", \"Country/Region\": \"Canada\", \"Confirmed\": 7, \"Deaths\": 0, \"Recovered\": 0.0, \"Active\": 7.0, \"New cases\": 2, \"New deaths\": 0, \"New recovered\": 0}, {\"Unnamed: 0\": 3194, \"Date\": \"2020-02-08T00:00:00\", \"Country/Region\": \"Canada\", \"Confirmed\": 7, \"Deaths\": 0, \"Recovered\": 0.0, \"Active\": 7.0, \"New cases\": 0, \"New deaths\": 0, \"New recovered\": 0}, {\"Unnamed: 0\": 3380, \"Date\": \"2020-02-09T00:00:00\", \"Country/Region\": \"Canada\", \"Confirmed\": 7, \"Deaths\": 0, \"Recovered\": 0.0, \"Active\": 7.0, \"New cases\": 0, \"New deaths\": 0, \"New recovered\": 0}, {\"Unnamed: 0\": 3566, \"Date\": \"2020-02-10T00:00:00\", \"Country/Region\": \"Canada\", \"Confirmed\": 7, \"Deaths\": 0, \"Recovered\": 0.0, \"Active\": 7.0, \"New cases\": 0, \"New deaths\": 0, \"New recovered\": 0}, {\"Unnamed: 0\": 3752, \"Date\": \"2020-02-11T00:00:00\", \"Country/Region\": \"Canada\", \"Confirmed\": 7, \"Deaths\": 0, \"Recovered\": 0.0, \"Active\": 7.0, \"New cases\": 0, \"New deaths\": 0, \"New recovered\": 0}, {\"Unnamed: 0\": 3938, \"Date\": \"2020-02-12T00:00:00\", \"Country/Region\": \"Canada\", \"Confirmed\": 7, \"Deaths\": 0, \"Recovered\": 1.0, \"Active\": 6.0, \"New cases\": 0, \"New deaths\": 0, \"New recovered\": 1}, {\"Unnamed: 0\": 4124, \"Date\": \"2020-02-13T00:00:00\", \"Country/Region\": \"Canada\", \"Confirmed\": 7, \"Deaths\": 0, \"Recovered\": 1.0, \"Active\": 6.0, \"New cases\": 0, \"New deaths\": 0, \"New recovered\": 0}, {\"Unnamed: 0\": 4310, \"Date\": \"2020-02-14T00:00:00\", \"Country/Region\": \"Canada\", \"Confirmed\": 7, \"Deaths\": 0, \"Recovered\": 1.0, \"Active\": 6.0, \"New cases\": 0, \"New deaths\": 0, \"New recovered\": 0}, {\"Unnamed: 0\": 4496, \"Date\": \"2020-02-15T00:00:00\", \"Country/Region\": \"Canada\", \"Confirmed\": 7, \"Deaths\": 0, \"Recovered\": 1.0, \"Active\": 6.0, \"New cases\": 0, \"New deaths\": 0, \"New recovered\": 0}, {\"Unnamed: 0\": 4682, \"Date\": \"2020-02-16T00:00:00\", \"Country/Region\": \"Canada\", \"Confirmed\": 7, \"Deaths\": 0, \"Recovered\": 1.0, \"Active\": 6.0, \"New cases\": 0, \"New deaths\": 0, \"New recovered\": 0}, {\"Unnamed: 0\": 4868, \"Date\": \"2020-02-17T00:00:00\", \"Country/Region\": \"Canada\", \"Confirmed\": 8, \"Deaths\": 0, \"Recovered\": 1.0, \"Active\": 7.0, \"New cases\": 1, \"New deaths\": 0, \"New recovered\": 0}, {\"Unnamed: 0\": 5054, \"Date\": \"2020-02-18T00:00:00\", \"Country/Region\": \"Canada\", \"Confirmed\": 8, \"Deaths\": 0, \"Recovered\": 1.0, \"Active\": 7.0, \"New cases\": 0, \"New deaths\": 0, \"New recovered\": 0}, {\"Unnamed: 0\": 5240, \"Date\": \"2020-02-19T00:00:00\", \"Country/Region\": \"Canada\", \"Confirmed\": 8, \"Deaths\": 0, \"Recovered\": 1.0, \"Active\": 7.0, \"New cases\": 0, \"New deaths\": 0, \"New recovered\": 0}, {\"Unnamed: 0\": 5426, \"Date\": \"2020-02-20T00:00:00\", \"Country/Region\": \"Canada\", \"Confirmed\": 8, \"Deaths\": 0, \"Recovered\": 1.0, \"Active\": 7.0, \"New cases\": 0, \"New deaths\": 0, \"New recovered\": 0}, {\"Unnamed: 0\": 5612, \"Date\": \"2020-02-21T00:00:00\", \"Country/Region\": \"Canada\", \"Confirmed\": 9, \"Deaths\": 0, \"Recovered\": 3.0, \"Active\": 6.0, \"New cases\": 1, \"New deaths\": 0, \"New recovered\": 2}, {\"Unnamed: 0\": 5798, \"Date\": \"2020-02-22T00:00:00\", \"Country/Region\": \"Canada\", \"Confirmed\": 9, \"Deaths\": 0, \"Recovered\": 3.0, \"Active\": 6.0, \"New cases\": 0, \"New deaths\": 0, \"New recovered\": 0}, {\"Unnamed: 0\": 5984, \"Date\": \"2020-02-23T00:00:00\", \"Country/Region\": \"Canada\", \"Confirmed\": 9, \"Deaths\": 0, \"Recovered\": 3.0, \"Active\": 6.0, \"New cases\": 0, \"New deaths\": 0, \"New recovered\": 0}, {\"Unnamed: 0\": 6170, \"Date\": \"2020-02-24T00:00:00\", \"Country/Region\": \"Canada\", \"Confirmed\": 10, \"Deaths\": 0, \"Recovered\": 3.0, \"Active\": 7.0, \"New cases\": 1, \"New deaths\": 0, \"New recovered\": 0}, {\"Unnamed: 0\": 6356, \"Date\": \"2020-02-25T00:00:00\", \"Country/Region\": \"Canada\", \"Confirmed\": 11, \"Deaths\": 0, \"Recovered\": 3.0, \"Active\": 8.0, \"New cases\": 1, \"New deaths\": 0, \"New recovered\": 0}, {\"Unnamed: 0\": 6542, \"Date\": \"2020-02-26T00:00:00\", \"Country/Region\": \"Canada\", \"Confirmed\": 11, \"Deaths\": 0, \"Recovered\": 3.0, \"Active\": 8.0, \"New cases\": 0, \"New deaths\": 0, \"New recovered\": 0}, {\"Unnamed: 0\": 6728, \"Date\": \"2020-02-27T00:00:00\", \"Country/Region\": \"Canada\", \"Confirmed\": 13, \"Deaths\": 0, \"Recovered\": 6.0, \"Active\": 7.0, \"New cases\": 2, \"New deaths\": 0, \"New recovered\": 3}, {\"Unnamed: 0\": 6914, \"Date\": \"2020-02-28T00:00:00\", \"Country/Region\": \"Canada\", \"Confirmed\": 14, \"Deaths\": 0, \"Recovered\": 6.0, \"Active\": 8.0, \"New cases\": 1, \"New deaths\": 0, \"New recovered\": 0}, {\"Unnamed: 0\": 7100, \"Date\": \"2020-02-29T00:00:00\", \"Country/Region\": \"Canada\", \"Confirmed\": 20, \"Deaths\": 0, \"Recovered\": 6.0, \"Active\": 14.0, \"New cases\": 6, \"New deaths\": 0, \"New recovered\": 0}, {\"Unnamed: 0\": 7286, \"Date\": \"2020-03-01T00:00:00\", \"Country/Region\": \"Canada\", \"Confirmed\": 24, \"Deaths\": 0, \"Recovered\": 6.0, \"Active\": 18.0, \"New cases\": 4, \"New deaths\": 0, \"New recovered\": 0}, {\"Unnamed: 0\": 7472, \"Date\": \"2020-03-02T00:00:00\", \"Country/Region\": \"Canada\", \"Confirmed\": 27, \"Deaths\": 0, \"Recovered\": 6.0, \"Active\": 21.0, \"New cases\": 3, \"New deaths\": 0, \"New recovered\": 0}, {\"Unnamed: 0\": 7658, \"Date\": \"2020-03-03T00:00:00\", \"Country/Region\": \"Canada\", \"Confirmed\": 30, \"Deaths\": 0, \"Recovered\": 6.0, \"Active\": 24.0, \"New cases\": 3, \"New deaths\": 0, \"New recovered\": 0}, {\"Unnamed: 0\": 7844, \"Date\": \"2020-03-04T00:00:00\", \"Country/Region\": \"Canada\", \"Confirmed\": 33, \"Deaths\": 0, \"Recovered\": 6.0, \"Active\": 27.0, \"New cases\": 3, \"New deaths\": 0, \"New recovered\": 0}, {\"Unnamed: 0\": 8030, \"Date\": \"2020-03-05T00:00:00\", \"Country/Region\": \"Canada\", \"Confirmed\": 37, \"Deaths\": 0, \"Recovered\": 6.0, \"Active\": 31.0, \"New cases\": 4, \"New deaths\": 0, \"New recovered\": 0}, {\"Unnamed: 0\": 8216, \"Date\": \"2020-03-06T00:00:00\", \"Country/Region\": \"Canada\", \"Confirmed\": 49, \"Deaths\": 0, \"Recovered\": 6.0, \"Active\": 43.0, \"New cases\": 12, \"New deaths\": 0, \"New recovered\": 0}, {\"Unnamed: 0\": 8402, \"Date\": \"2020-03-07T00:00:00\", \"Country/Region\": \"Canada\", \"Confirmed\": 54, \"Deaths\": 0, \"Recovered\": 8.0, \"Active\": 46.0, \"New cases\": 5, \"New deaths\": 0, \"New recovered\": 2}, {\"Unnamed: 0\": 8588, \"Date\": \"2020-03-08T00:00:00\", \"Country/Region\": \"Canada\", \"Confirmed\": 64, \"Deaths\": 0, \"Recovered\": 8.0, \"Active\": 56.0, \"New cases\": 10, \"New deaths\": 0, \"New recovered\": 0}, {\"Unnamed: 0\": 8774, \"Date\": \"2020-03-09T00:00:00\", \"Country/Region\": \"Canada\", \"Confirmed\": 77, \"Deaths\": 1, \"Recovered\": 8.0, \"Active\": 68.0, \"New cases\": 13, \"New deaths\": 1, \"New recovered\": 0}, {\"Unnamed: 0\": 8960, \"Date\": \"2020-03-10T00:00:00\", \"Country/Region\": \"Canada\", \"Confirmed\": 79, \"Deaths\": 1, \"Recovered\": 8.0, \"Active\": 70.0, \"New cases\": 2, \"New deaths\": 0, \"New recovered\": 0}, {\"Unnamed: 0\": 9146, \"Date\": \"2020-03-11T00:00:00\", \"Country/Region\": \"Canada\", \"Confirmed\": 108, \"Deaths\": 1, \"Recovered\": 8.0, \"Active\": 99.0, \"New cases\": 29, \"New deaths\": 0, \"New recovered\": 0}, {\"Unnamed: 0\": 9332, \"Date\": \"2020-03-12T00:00:00\", \"Country/Region\": \"Canada\", \"Confirmed\": 117, \"Deaths\": 1, \"Recovered\": 8.0, \"Active\": 108.0, \"New cases\": 9, \"New deaths\": 0, \"New recovered\": 0}, {\"Unnamed: 0\": 9518, \"Date\": \"2020-03-13T00:00:00\", \"Country/Region\": \"Canada\", \"Confirmed\": 191, \"Deaths\": 1, \"Recovered\": 8.0, \"Active\": 182.0, \"New cases\": 74, \"New deaths\": 0, \"New recovered\": 0}, {\"Unnamed: 0\": 9704, \"Date\": \"2020-03-14T00:00:00\", \"Country/Region\": \"Canada\", \"Confirmed\": 196, \"Deaths\": 1, \"Recovered\": 8.0, \"Active\": 187.0, \"New cases\": 5, \"New deaths\": 0, \"New recovered\": 0}, {\"Unnamed: 0\": 9890, \"Date\": \"2020-03-15T00:00:00\", \"Country/Region\": \"Canada\", \"Confirmed\": 250, \"Deaths\": 1, \"Recovered\": 8.0, \"Active\": 241.0, \"New cases\": 54, \"New deaths\": 0, \"New recovered\": 0}, {\"Unnamed: 0\": 10076, \"Date\": \"2020-03-16T00:00:00\", \"Country/Region\": \"Canada\", \"Confirmed\": 413, \"Deaths\": 4, \"Recovered\": 9.0, \"Active\": 400.0, \"New cases\": 163, \"New deaths\": 3, \"New recovered\": 1}, {\"Unnamed: 0\": 10262, \"Date\": \"2020-03-17T00:00:00\", \"Country/Region\": \"Canada\", \"Confirmed\": 470, \"Deaths\": 5, \"Recovered\": 9.0, \"Active\": 456.0, \"New cases\": 57, \"New deaths\": 1, \"New recovered\": 0}, {\"Unnamed: 0\": 10448, \"Date\": \"2020-03-18T00:00:00\", \"Country/Region\": \"Canada\", \"Confirmed\": 648, \"Deaths\": 8, \"Recovered\": 9.0, \"Active\": 631.0, \"New cases\": 178, \"New deaths\": 3, \"New recovered\": 0}, {\"Unnamed: 0\": 10634, \"Date\": \"2020-03-19T00:00:00\", \"Country/Region\": \"Canada\", \"Confirmed\": 791, \"Deaths\": 9, \"Recovered\": 9.0, \"Active\": 773.0, \"New cases\": 143, \"New deaths\": 1, \"New recovered\": 0}, {\"Unnamed: 0\": 10820, \"Date\": \"2020-03-20T00:00:00\", \"Country/Region\": \"Canada\", \"Confirmed\": 933, \"Deaths\": 12, \"Recovered\": 9.0, \"Active\": 912.0, \"New cases\": 142, \"New deaths\": 3, \"New recovered\": 0}, {\"Unnamed: 0\": 11006, \"Date\": \"2020-03-21T00:00:00\", \"Country/Region\": \"Canada\", \"Confirmed\": 1267, \"Deaths\": 19, \"Recovered\": 10.0, \"Active\": 1238.0, \"New cases\": 334, \"New deaths\": 7, \"New recovered\": 1}, {\"Unnamed: 0\": 11192, \"Date\": \"2020-03-22T00:00:00\", \"Country/Region\": \"Canada\", \"Confirmed\": 1456, \"Deaths\": 20, \"Recovered\": 10.0, \"Active\": 1426.0, \"New cases\": 189, \"New deaths\": 1, \"New recovered\": 0}, {\"Unnamed: 0\": 11378, \"Date\": \"2020-03-23T00:00:00\", \"Country/Region\": \"Canada\", \"Confirmed\": 2075, \"Deaths\": 24, \"Recovered\": 10.0, \"Active\": 2041.0, \"New cases\": 619, \"New deaths\": 4, \"New recovered\": 0}, {\"Unnamed: 0\": 11564, \"Date\": \"2020-03-24T00:00:00\", \"Country/Region\": \"Canada\", \"Confirmed\": 2777, \"Deaths\": 25, \"Recovered\": 110.0, \"Active\": 2642.0, \"New cases\": 702, \"New deaths\": 1, \"New recovered\": 100}, {\"Unnamed: 0\": 11750, \"Date\": \"2020-03-25T00:00:00\", \"Country/Region\": \"Canada\", \"Confirmed\": 3238, \"Deaths\": 29, \"Recovered\": 183.0, \"Active\": 3026.0, \"New cases\": 461, \"New deaths\": 4, \"New recovered\": 73}, {\"Unnamed: 0\": 11936, \"Date\": \"2020-03-26T00:00:00\", \"Country/Region\": \"Canada\", \"Confirmed\": 4029, \"Deaths\": 37, \"Recovered\": 184.0, \"Active\": 3808.0, \"New cases\": 791, \"New deaths\": 8, \"New recovered\": 1}, {\"Unnamed: 0\": 12122, \"Date\": \"2020-03-27T00:00:00\", \"Country/Region\": \"Canada\", \"Confirmed\": 4669, \"Deaths\": 53, \"Recovered\": 256.0, \"Active\": 4360.0, \"New cases\": 640, \"New deaths\": 16, \"New recovered\": 72}, {\"Unnamed: 0\": 12308, \"Date\": \"2020-03-28T00:00:00\", \"Country/Region\": \"Canada\", \"Confirmed\": 5563, \"Deaths\": 60, \"Recovered\": 466.0, \"Active\": 5037.0, \"New cases\": 894, \"New deaths\": 7, \"New recovered\": 210}, {\"Unnamed: 0\": 12494, \"Date\": \"2020-03-29T00:00:00\", \"Country/Region\": \"Canada\", \"Confirmed\": 6267, \"Deaths\": 63, \"Recovered\": 466.0, \"Active\": 5738.0, \"New cases\": 704, \"New deaths\": 3, \"New recovered\": 0}, {\"Unnamed: 0\": 12680, \"Date\": \"2020-03-30T00:00:00\", \"Country/Region\": \"Canada\", \"Confirmed\": 7385, \"Deaths\": 79, \"Recovered\": 466.0, \"Active\": 6840.0, \"New cases\": 1118, \"New deaths\": 16, \"New recovered\": 0}, {\"Unnamed: 0\": 12866, \"Date\": \"2020-03-31T00:00:00\", \"Country/Region\": \"Canada\", \"Confirmed\": 8514, \"Deaths\": 100, \"Recovered\": 1592.0, \"Active\": 6822.0, \"New cases\": 1129, \"New deaths\": 21, \"New recovered\": 1126}, {\"Unnamed: 0\": 13052, \"Date\": \"2020-04-01T00:00:00\", \"Country/Region\": \"Canada\", \"Confirmed\": 9547, \"Deaths\": 108, \"Recovered\": 1324.0, \"Active\": 8115.0, \"New cases\": 1033, \"New deaths\": 8, \"New recovered\": -268}, {\"Unnamed: 0\": 13238, \"Date\": \"2020-04-02T00:00:00\", \"Country/Region\": \"Canada\", \"Confirmed\": 11271, \"Deaths\": 138, \"Recovered\": 1735.0, \"Active\": 9398.0, \"New cases\": 1724, \"New deaths\": 30, \"New recovered\": 411}, {\"Unnamed: 0\": 13424, \"Date\": \"2020-04-03T00:00:00\", \"Country/Region\": \"Canada\", \"Confirmed\": 12424, \"Deaths\": 178, \"Recovered\": 2175.0, \"Active\": 10071.0, \"New cases\": 1153, \"New deaths\": 40, \"New recovered\": 440}, {\"Unnamed: 0\": 13610, \"Date\": \"2020-04-04T00:00:00\", \"Country/Region\": \"Canada\", \"Confirmed\": 12965, \"Deaths\": 217, \"Recovered\": 2577.0, \"Active\": 10171.0, \"New cases\": 541, \"New deaths\": 39, \"New recovered\": 402}, {\"Unnamed: 0\": 13796, \"Date\": \"2020-04-05T00:00:00\", \"Country/Region\": \"Canada\", \"Confirmed\": 15743, \"Deaths\": 258, \"Recovered\": 3012.0, \"Active\": 12473.0, \"New cases\": 2778, \"New deaths\": 41, \"New recovered\": 435}, {\"Unnamed: 0\": 13982, \"Date\": \"2020-04-06T00:00:00\", \"Country/Region\": \"Canada\", \"Confirmed\": 16550, \"Deaths\": 338, \"Recovered\": 3256.0, \"Active\": 12956.0, \"New cases\": 807, \"New deaths\": 80, \"New recovered\": 244}, {\"Unnamed: 0\": 14168, \"Date\": \"2020-04-07T00:00:00\", \"Country/Region\": \"Canada\", \"Confirmed\": 17859, \"Deaths\": 374, \"Recovered\": 3791.0, \"Active\": 13694.0, \"New cases\": 1309, \"New deaths\": 36, \"New recovered\": 535}, {\"Unnamed: 0\": 14354, \"Date\": \"2020-04-08T00:00:00\", \"Country/Region\": \"Canada\", \"Confirmed\": 19128, \"Deaths\": 406, \"Recovered\": 4154.0, \"Active\": 14568.0, \"New cases\": 1269, \"New deaths\": 32, \"New recovered\": 363}, {\"Unnamed: 0\": 14540, \"Date\": \"2020-04-09T00:00:00\", \"Country/Region\": \"Canada\", \"Confirmed\": 20641, \"Deaths\": 502, \"Recovered\": 5162.0, \"Active\": 14977.0, \"New cases\": 1513, \"New deaths\": 96, \"New recovered\": 1008}, {\"Unnamed: 0\": 14726, \"Date\": \"2020-04-10T00:00:00\", \"Country/Region\": \"Canada\", \"Confirmed\": 22046, \"Deaths\": 556, \"Recovered\": 5855.0, \"Active\": 15635.0, \"New cases\": 1405, \"New deaths\": 54, \"New recovered\": 693}, {\"Unnamed: 0\": 14912, \"Date\": \"2020-04-11T00:00:00\", \"Country/Region\": \"Canada\", \"Confirmed\": 23303, \"Deaths\": 653, \"Recovered\": 6589.0, \"Active\": 16061.0, \"New cases\": 1257, \"New deaths\": 97, \"New recovered\": 734}, {\"Unnamed: 0\": 15098, \"Date\": \"2020-04-12T00:00:00\", \"Country/Region\": \"Canada\", \"Confirmed\": 24286, \"Deaths\": 713, \"Recovered\": 7123.0, \"Active\": 16450.0, \"New cases\": 983, \"New deaths\": 60, \"New recovered\": 534}, {\"Unnamed: 0\": 15284, \"Date\": \"2020-04-13T00:00:00\", \"Country/Region\": \"Canada\", \"Confirmed\": 25667, \"Deaths\": 780, \"Recovered\": 7758.0, \"Active\": 17129.0, \"New cases\": 1381, \"New deaths\": 67, \"New recovered\": 635}, {\"Unnamed: 0\": 15470, \"Date\": \"2020-04-14T00:00:00\", \"Country/Region\": \"Canada\", \"Confirmed\": 27022, \"Deaths\": 900, \"Recovered\": 8210.0, \"Active\": 17912.0, \"New cases\": 1355, \"New deaths\": 120, \"New recovered\": 452}, {\"Unnamed: 0\": 15656, \"Date\": \"2020-04-15T00:00:00\", \"Country/Region\": \"Canada\", \"Confirmed\": 28196, \"Deaths\": 1007, \"Recovered\": 8966.0, \"Active\": 18223.0, \"New cases\": 1174, \"New deaths\": 107, \"New recovered\": 756}, {\"Unnamed: 0\": 15842, \"Date\": \"2020-04-16T00:00:00\", \"Country/Region\": \"Canada\", \"Confirmed\": 30796, \"Deaths\": 1258, \"Recovered\": 9698.0, \"Active\": 19840.0, \"New cases\": 2600, \"New deaths\": 251, \"New recovered\": 732}, {\"Unnamed: 0\": 16028, \"Date\": \"2020-04-17T00:00:00\", \"Country/Region\": \"Canada\", \"Confirmed\": 32801, \"Deaths\": 1355, \"Recovered\": 10545.0, \"Active\": 20901.0, \"New cases\": 2005, \"New deaths\": 97, \"New recovered\": 847}, {\"Unnamed: 0\": 16214, \"Date\": \"2020-04-18T00:00:00\", \"Country/Region\": \"Canada\", \"Confirmed\": 34343, \"Deaths\": 1400, \"Recovered\": 10964.0, \"Active\": 21979.0, \"New cases\": 1542, \"New deaths\": 45, \"New recovered\": 419}, {\"Unnamed: 0\": 16400, \"Date\": \"2020-04-19T00:00:00\", \"Country/Region\": \"Canada\", \"Confirmed\": 35620, \"Deaths\": 1564, \"Recovered\": 11847.0, \"Active\": 22209.0, \"New cases\": 1277, \"New deaths\": 164, \"New recovered\": 883}, {\"Unnamed: 0\": 16586, \"Date\": \"2020-04-20T00:00:00\", \"Country/Region\": \"Canada\", \"Confirmed\": 37645, \"Deaths\": 1726, \"Recovered\": 12543.0, \"Active\": 23376.0, \"New cases\": 2025, \"New deaths\": 162, \"New recovered\": 696}, {\"Unnamed: 0\": 16772, \"Date\": \"2020-04-21T00:00:00\", \"Country/Region\": \"Canada\", \"Confirmed\": 39389, \"Deaths\": 1909, \"Recovered\": 13188.0, \"Active\": 24292.0, \"New cases\": 1744, \"New deaths\": 183, \"New recovered\": 645}, {\"Unnamed: 0\": 16958, \"Date\": \"2020-04-22T00:00:00\", \"Country/Region\": \"Canada\", \"Confirmed\": 41650, \"Deaths\": 2077, \"Recovered\": 14454.0, \"Active\": 25119.0, \"New cases\": 2261, \"New deaths\": 168, \"New recovered\": 1266}, {\"Unnamed: 0\": 17144, \"Date\": \"2020-04-23T00:00:00\", \"Country/Region\": \"Canada\", \"Confirmed\": 43286, \"Deaths\": 2240, \"Recovered\": 14761.0, \"Active\": 26285.0, \"New cases\": 1636, \"New deaths\": 163, \"New recovered\": 307}, {\"Unnamed: 0\": 17330, \"Date\": \"2020-04-24T00:00:00\", \"Country/Region\": \"Canada\", \"Confirmed\": 44906, \"Deaths\": 2401, \"Recovered\": 15149.0, \"Active\": 27356.0, \"New cases\": 1620, \"New deaths\": 161, \"New recovered\": 388}, {\"Unnamed: 0\": 17516, \"Date\": \"2020-04-25T00:00:00\", \"Country/Region\": \"Canada\", \"Confirmed\": 46358, \"Deaths\": 2570, \"Recovered\": 16013.0, \"Active\": 27775.0, \"New cases\": 1452, \"New deaths\": 169, \"New recovered\": 864}, {\"Unnamed: 0\": 17702, \"Date\": \"2020-04-26T00:00:00\", \"Country/Region\": \"Canada\", \"Confirmed\": 48020, \"Deaths\": 2686, \"Recovered\": 16883.0, \"Active\": 28451.0, \"New cases\": 1662, \"New deaths\": 116, \"New recovered\": 870}, {\"Unnamed: 0\": 17888, \"Date\": \"2020-04-27T00:00:00\", \"Country/Region\": \"Canada\", \"Confirmed\": 49603, \"Deaths\": 2840, \"Recovered\": 18268.0, \"Active\": 28495.0, \"New cases\": 1583, \"New deaths\": 154, \"New recovered\": 1385}, {\"Unnamed: 0\": 18074, \"Date\": \"2020-04-28T00:00:00\", \"Country/Region\": \"Canada\", \"Confirmed\": 51137, \"Deaths\": 2982, \"Recovered\": 19231.0, \"Active\": 28924.0, \"New cases\": 1534, \"New deaths\": 142, \"New recovered\": 963}, {\"Unnamed: 0\": 18260, \"Date\": \"2020-04-29T00:00:00\", \"Country/Region\": \"Canada\", \"Confirmed\": 52852, \"Deaths\": 3154, \"Recovered\": 20327.0, \"Active\": 29371.0, \"New cases\": 1715, \"New deaths\": 172, \"New recovered\": 1096}, {\"Unnamed: 0\": 18446, \"Date\": \"2020-04-30T00:00:00\", \"Country/Region\": \"Canada\", \"Confirmed\": 54444, \"Deaths\": 3309, \"Recovered\": 21424.0, \"Active\": 29711.0, \"New cases\": 1592, \"New deaths\": 155, \"New recovered\": 1097}, {\"Unnamed: 0\": 18632, \"Date\": \"2020-05-01T00:00:00\", \"Country/Region\": \"Canada\", \"Confirmed\": 56329, \"Deaths\": 3536, \"Recovered\": 22764.0, \"Active\": 30029.0, \"New cases\": 1885, \"New deaths\": 227, \"New recovered\": 1340}, {\"Unnamed: 0\": 18818, \"Date\": \"2020-05-02T00:00:00\", \"Country/Region\": \"Canada\", \"Confirmed\": 57912, \"Deaths\": 3683, \"Recovered\": 23814.0, \"Active\": 30415.0, \"New cases\": 1583, \"New deaths\": 147, \"New recovered\": 1050}, {\"Unnamed: 0\": 19004, \"Date\": \"2020-05-03T00:00:00\", \"Country/Region\": \"Canada\", \"Confirmed\": 60490, \"Deaths\": 3794, \"Recovered\": 24921.0, \"Active\": 31775.0, \"New cases\": 2578, \"New deaths\": 111, \"New recovered\": 1107}, {\"Unnamed: 0\": 19190, \"Date\": \"2020-05-04T00:00:00\", \"Country/Region\": \"Canada\", \"Confirmed\": 61943, \"Deaths\": 4002, \"Recovered\": 26030.0, \"Active\": 31911.0, \"New cases\": 1453, \"New deaths\": 208, \"New recovered\": 1109}, {\"Unnamed: 0\": 19376, \"Date\": \"2020-05-05T00:00:00\", \"Country/Region\": \"Canada\", \"Confirmed\": 63201, \"Deaths\": 4189, \"Recovered\": 27006.0, \"Active\": 32006.0, \"New cases\": 1258, \"New deaths\": 187, \"New recovered\": 976}, {\"Unnamed: 0\": 19562, \"Date\": \"2020-05-06T00:00:00\", \"Country/Region\": \"Canada\", \"Confirmed\": 64680, \"Deaths\": 4365, \"Recovered\": 28184.0, \"Active\": 32131.0, \"New cases\": 1479, \"New deaths\": 176, \"New recovered\": 1178}, {\"Unnamed: 0\": 19748, \"Date\": \"2020-05-07T00:00:00\", \"Country/Region\": \"Canada\", \"Confirmed\": 66187, \"Deaths\": 4540, \"Recovered\": 29260.0, \"Active\": 32387.0, \"New cases\": 1507, \"New deaths\": 175, \"New recovered\": 1076}, {\"Unnamed: 0\": 19934, \"Date\": \"2020-05-08T00:00:00\", \"Country/Region\": \"Canada\", \"Confirmed\": 67660, \"Deaths\": 4696, \"Recovered\": 30239.0, \"Active\": 32725.0, \"New cases\": 1473, \"New deaths\": 156, \"New recovered\": 979}, {\"Unnamed: 0\": 20120, \"Date\": \"2020-05-09T00:00:00\", \"Country/Region\": \"Canada\", \"Confirmed\": 68904, \"Deaths\": 4822, \"Recovered\": 31262.0, \"Active\": 32820.0, \"New cases\": 1244, \"New deaths\": 126, \"New recovered\": 1023}, {\"Unnamed: 0\": 20306, \"Date\": \"2020-05-10T00:00:00\", \"Country/Region\": \"Canada\", \"Confirmed\": 70077, \"Deaths\": 4990, \"Recovered\": 32109.0, \"Active\": 32978.0, \"New cases\": 1173, \"New deaths\": 168, \"New recovered\": 847}, {\"Unnamed: 0\": 20492, \"Date\": \"2020-05-11T00:00:00\", \"Country/Region\": \"Canada\", \"Confirmed\": 71250, \"Deaths\": 5114, \"Recovered\": 33007.0, \"Active\": 33129.0, \"New cases\": 1173, \"New deaths\": 124, \"New recovered\": 898}, {\"Unnamed: 0\": 20678, \"Date\": \"2020-05-12T00:00:00\", \"Country/Region\": \"Canada\", \"Confirmed\": 72405, \"Deaths\": 5299, \"Recovered\": 34055.0, \"Active\": 33051.0, \"New cases\": 1155, \"New deaths\": 185, \"New recovered\": 1048}, {\"Unnamed: 0\": 20864, \"Date\": \"2020-05-13T00:00:00\", \"Country/Region\": \"Canada\", \"Confirmed\": 73554, \"Deaths\": 5424, \"Recovered\": 35177.0, \"Active\": 32953.0, \"New cases\": 1149, \"New deaths\": 125, \"New recovered\": 1122}, {\"Unnamed: 0\": 21050, \"Date\": \"2020-05-14T00:00:00\", \"Country/Region\": \"Canada\", \"Confirmed\": 74767, \"Deaths\": 5591, \"Recovered\": 36104.0, \"Active\": 33072.0, \"New cases\": 1213, \"New deaths\": 167, \"New recovered\": 927}, {\"Unnamed: 0\": 21236, \"Date\": \"2020-05-15T00:00:00\", \"Country/Region\": \"Canada\", \"Confirmed\": 75945, \"Deaths\": 5678, \"Recovered\": 36908.0, \"Active\": 33359.0, \"New cases\": 1178, \"New deaths\": 87, \"New recovered\": 804}, {\"Unnamed: 0\": 21422, \"Date\": \"2020-05-16T00:00:00\", \"Country/Region\": \"Canada\", \"Confirmed\": 77192, \"Deaths\": 5799, \"Recovered\": 37832.0, \"Active\": 33561.0, \"New cases\": 1247, \"New deaths\": 121, \"New recovered\": 924}, {\"Unnamed: 0\": 21608, \"Date\": \"2020-05-17T00:00:00\", \"Country/Region\": \"Canada\", \"Confirmed\": 78318, \"Deaths\": 5902, \"Recovered\": 38563.0, \"Active\": 33853.0, \"New cases\": 1126, \"New deaths\": 103, \"New recovered\": 731}, {\"Unnamed: 0\": 21794, \"Date\": \"2020-05-18T00:00:00\", \"Country/Region\": \"Canada\", \"Confirmed\": 79397, \"Deaths\": 5959, \"Recovered\": 39251.0, \"Active\": 34187.0, \"New cases\": 1079, \"New deaths\": 57, \"New recovered\": 688}, {\"Unnamed: 0\": 21980, \"Date\": \"2020-05-19T00:00:00\", \"Country/Region\": \"Canada\", \"Confirmed\": 80479, \"Deaths\": 6027, \"Recovered\": 40069.0, \"Active\": 34383.0, \"New cases\": 1082, \"New deaths\": 68, \"New recovered\": 818}, {\"Unnamed: 0\": 22166, \"Date\": \"2020-05-20T00:00:00\", \"Country/Region\": \"Canada\", \"Confirmed\": 81561, \"Deaths\": 6149, \"Recovered\": 40793.0, \"Active\": 34619.0, \"New cases\": 1082, \"New deaths\": 122, \"New recovered\": 724}, {\"Unnamed: 0\": 22352, \"Date\": \"2020-05-21T00:00:00\", \"Country/Region\": \"Canada\", \"Confirmed\": 82728, \"Deaths\": 6266, \"Recovered\": 41731.0, \"Active\": 34731.0, \"New cases\": 1167, \"New deaths\": 117, \"New recovered\": 938}, {\"Unnamed: 0\": 22538, \"Date\": \"2020-05-22T00:00:00\", \"Country/Region\": \"Canada\", \"Confirmed\": 83933, \"Deaths\": 6359, \"Recovered\": 42608.0, \"Active\": 34966.0, \"New cases\": 1205, \"New deaths\": 93, \"New recovered\": 877}, {\"Unnamed: 0\": 22724, \"Date\": \"2020-05-23T00:00:00\", \"Country/Region\": \"Canada\", \"Confirmed\": 85137, \"Deaths\": 6465, \"Recovered\": 43318.0, \"Active\": 35354.0, \"New cases\": 1204, \"New deaths\": 106, \"New recovered\": 710}, {\"Unnamed: 0\": 22910, \"Date\": \"2020-05-24T00:00:00\", \"Country/Region\": \"Canada\", \"Confirmed\": 86092, \"Deaths\": 6533, \"Recovered\": 43998.0, \"Active\": 35561.0, \"New cases\": 955, \"New deaths\": 68, \"New recovered\": 680}, {\"Unnamed: 0\": 23096, \"Date\": \"2020-05-25T00:00:00\", \"Country/Region\": \"Canada\", \"Confirmed\": 87105, \"Deaths\": 6654, \"Recovered\": 44651.0, \"Active\": 35800.0, \"New cases\": 1013, \"New deaths\": 121, \"New recovered\": 653}, {\"Unnamed: 0\": 23282, \"Date\": \"2020-05-26T00:00:00\", \"Country/Region\": \"Canada\", \"Confirmed\": 88076, \"Deaths\": 6752, \"Recovered\": 45352.0, \"Active\": 35972.0, \"New cases\": 971, \"New deaths\": 98, \"New recovered\": 701}, {\"Unnamed: 0\": 23468, \"Date\": \"2020-05-27T00:00:00\", \"Country/Region\": \"Canada\", \"Confirmed\": 88975, \"Deaths\": 6875, \"Recovered\": 46248.0, \"Active\": 35852.0, \"New cases\": 899, \"New deaths\": 123, \"New recovered\": 896}, {\"Unnamed: 0\": 23654, \"Date\": \"2020-05-28T00:00:00\", \"Country/Region\": \"Canada\", \"Confirmed\": 89962, \"Deaths\": 6981, \"Recovered\": 46961.0, \"Active\": 36020.0, \"New cases\": 987, \"New deaths\": 106, \"New recovered\": 713}, {\"Unnamed: 0\": 23840, \"Date\": \"2020-05-29T00:00:00\", \"Country/Region\": \"Canada\", \"Confirmed\": 90895, \"Deaths\": 7062, \"Recovered\": 47905.0, \"Active\": 35928.0, \"New cases\": 933, \"New deaths\": 81, \"New recovered\": 944}, {\"Unnamed: 0\": 24026, \"Date\": \"2020-05-30T00:00:00\", \"Country/Region\": \"Canada\", \"Confirmed\": 91667, \"Deaths\": 7158, \"Recovered\": 48517.0, \"Active\": 35992.0, \"New cases\": 772, \"New deaths\": 96, \"New recovered\": 612}, {\"Unnamed: 0\": 24212, \"Date\": \"2020-05-31T00:00:00\", \"Country/Region\": \"Canada\", \"Confirmed\": 92465, \"Deaths\": 7373, \"Recovered\": 49213.0, \"Active\": 35879.0, \"New cases\": 798, \"New deaths\": 215, \"New recovered\": 696}, {\"Unnamed: 0\": 24398, \"Date\": \"2020-06-01T00:00:00\", \"Country/Region\": \"Canada\", \"Confirmed\": 93274, \"Deaths\": 7403, \"Recovered\": 50091.0, \"Active\": 35780.0, \"New cases\": 809, \"New deaths\": 30, \"New recovered\": 878}, {\"Unnamed: 0\": 24584, \"Date\": \"2020-06-02T00:00:00\", \"Country/Region\": \"Canada\", \"Confirmed\": 93947, \"Deaths\": 7477, \"Recovered\": 50725.0, \"Active\": 35745.0, \"New cases\": 673, \"New deaths\": 74, \"New recovered\": 634}, {\"Unnamed: 0\": 24770, \"Date\": \"2020-06-03T00:00:00\", \"Country/Region\": \"Canada\", \"Confirmed\": 94628, \"Deaths\": 7578, \"Recovered\": 51506.0, \"Active\": 35544.0, \"New cases\": 681, \"New deaths\": 101, \"New recovered\": 781}, {\"Unnamed: 0\": 24956, \"Date\": \"2020-06-04T00:00:00\", \"Country/Region\": \"Canada\", \"Confirmed\": 95256, \"Deaths\": 7716, \"Recovered\": 52184.0, \"Active\": 35356.0, \"New cases\": 628, \"New deaths\": 138, \"New recovered\": 678}, {\"Unnamed: 0\": 25142, \"Date\": \"2020-06-05T00:00:00\", \"Country/Region\": \"Canada\", \"Confirmed\": 95934, \"Deaths\": 7777, \"Recovered\": 53074.0, \"Active\": 35083.0, \"New cases\": 678, \"New deaths\": 61, \"New recovered\": 890}, {\"Unnamed: 0\": 25328, \"Date\": \"2020-06-06T00:00:00\", \"Country/Region\": \"Canada\", \"Confirmed\": 96462, \"Deaths\": 7849, \"Recovered\": 54087.0, \"Active\": 34526.0, \"New cases\": 528, \"New deaths\": 72, \"New recovered\": 1013}, {\"Unnamed: 0\": 25514, \"Date\": \"2020-06-07T00:00:00\", \"Country/Region\": \"Canada\", \"Confirmed\": 97165, \"Deaths\": 7876, \"Recovered\": 54675.0, \"Active\": 34614.0, \"New cases\": 703, \"New deaths\": 27, \"New recovered\": 588}, {\"Unnamed: 0\": 25700, \"Date\": \"2020-06-08T00:00:00\", \"Country/Region\": \"Canada\", \"Confirmed\": 97766, \"Deaths\": 7909, \"Recovered\": 55343.0, \"Active\": 34514.0, \"New cases\": 601, \"New deaths\": 33, \"New recovered\": 668}, {\"Unnamed: 0\": 25886, \"Date\": \"2020-06-09T00:00:00\", \"Country/Region\": \"Canada\", \"Confirmed\": 98228, \"Deaths\": 7969, \"Recovered\": 56117.0, \"Active\": 34142.0, \"New cases\": 462, \"New deaths\": 60, \"New recovered\": 774}, {\"Unnamed: 0\": 26072, \"Date\": \"2020-06-10T00:00:00\", \"Country/Region\": \"Canada\", \"Confirmed\": 98707, \"Deaths\": 8037, \"Recovered\": 57215.0, \"Active\": 33455.0, \"New cases\": 479, \"New deaths\": 68, \"New recovered\": 1098}, {\"Unnamed: 0\": 26258, \"Date\": \"2020-06-11T00:00:00\", \"Country/Region\": \"Canada\", \"Confirmed\": 99146, \"Deaths\": 8070, \"Recovered\": 58131.0, \"Active\": 32945.0, \"New cases\": 439, \"New deaths\": 33, \"New recovered\": 916}, {\"Unnamed: 0\": 26444, \"Date\": \"2020-06-12T00:00:00\", \"Country/Region\": \"Canada\", \"Confirmed\": 99582, \"Deaths\": 8124, \"Recovered\": 59034.0, \"Active\": 32424.0, \"New cases\": 436, \"New deaths\": 54, \"New recovered\": 903}, {\"Unnamed: 0\": 26630, \"Date\": \"2020-06-13T00:00:00\", \"Country/Region\": \"Canada\", \"Confirmed\": 100030, \"Deaths\": 8182, \"Recovered\": 59851.0, \"Active\": 31997.0, \"New cases\": 448, \"New deaths\": 58, \"New recovered\": 817}, {\"Unnamed: 0\": 26816, \"Date\": \"2020-06-14T00:00:00\", \"Country/Region\": \"Canada\", \"Confirmed\": 100391, \"Deaths\": 8217, \"Recovered\": 60668.0, \"Active\": 31506.0, \"New cases\": 361, \"New deaths\": 35, \"New recovered\": 817}, {\"Unnamed: 0\": 27002, \"Date\": \"2020-06-15T00:00:00\", \"Country/Region\": \"Canada\", \"Confirmed\": 100750, \"Deaths\": 8227, \"Recovered\": 61466.0, \"Active\": 31057.0, \"New cases\": 359, \"New deaths\": 10, \"New recovered\": 798}, {\"Unnamed: 0\": 27188, \"Date\": \"2020-06-16T00:00:00\", \"Country/Region\": \"Canada\", \"Confirmed\": 101074, \"Deaths\": 8270, \"Recovered\": 61899.0, \"Active\": 30905.0, \"New cases\": 324, \"New deaths\": 43, \"New recovered\": 433}, {\"Unnamed: 0\": 27374, \"Date\": \"2020-06-17T00:00:00\", \"Country/Region\": \"Canada\", \"Confirmed\": 101478, \"Deaths\": 8311, \"Recovered\": 63280.0, \"Active\": 29887.0, \"New cases\": 404, \"New deaths\": 41, \"New recovered\": 1381}, {\"Unnamed: 0\": 27560, \"Date\": \"2020-06-18T00:00:00\", \"Country/Region\": \"Canada\", \"Confirmed\": 101864, \"Deaths\": 8360, \"Recovered\": 63782.0, \"Active\": 29722.0, \"New cases\": 386, \"New deaths\": 49, \"New recovered\": 502}, {\"Unnamed: 0\": 27746, \"Date\": \"2020-06-19T00:00:00\", \"Country/Region\": \"Canada\", \"Confirmed\": 102301, \"Deaths\": 8407, \"Recovered\": 64318.0, \"Active\": 29576.0, \"New cases\": 437, \"New deaths\": 47, \"New recovered\": 536}, {\"Unnamed: 0\": 27932, \"Date\": \"2020-06-20T00:00:00\", \"Country/Region\": \"Canada\", \"Confirmed\": 102749, \"Deaths\": 8465, \"Recovered\": 64826.0, \"Active\": 29458.0, \"New cases\": 448, \"New deaths\": 58, \"New recovered\": 508}, {\"Unnamed: 0\": 28118, \"Date\": \"2020-06-21T00:00:00\", \"Country/Region\": \"Canada\", \"Confirmed\": 103065, \"Deaths\": 8481, \"Recovered\": 65249.0, \"Active\": 29335.0, \"New cases\": 316, \"New deaths\": 16, \"New recovered\": 423}, {\"Unnamed: 0\": 28304, \"Date\": \"2020-06-22T00:00:00\", \"Country/Region\": \"Canada\", \"Confirmed\": 103405, \"Deaths\": 8493, \"Recovered\": 65721.0, \"Active\": 29191.0, \"New cases\": 340, \"New deaths\": 12, \"New recovered\": 472}, {\"Unnamed: 0\": 28490, \"Date\": \"2020-06-23T00:00:00\", \"Country/Region\": \"Canada\", \"Confirmed\": 103754, \"Deaths\": 8511, \"Recovered\": 66135.0, \"Active\": 29108.0, \"New cases\": 349, \"New deaths\": 18, \"New recovered\": 414}, {\"Unnamed: 0\": 28676, \"Date\": \"2020-06-24T00:00:00\", \"Country/Region\": \"Canada\", \"Confirmed\": 104074, \"Deaths\": 8543, \"Recovered\": 66533.0, \"Active\": 28998.0, \"New cases\": 320, \"New deaths\": 32, \"New recovered\": 398}, {\"Unnamed: 0\": 28862, \"Date\": \"2020-06-25T00:00:00\", \"Country/Region\": \"Canada\", \"Confirmed\": 104450, \"Deaths\": 8566, \"Recovered\": 66869.0, \"Active\": 29015.0, \"New cases\": 376, \"New deaths\": 23, \"New recovered\": 336}, {\"Unnamed: 0\": 29048, \"Date\": \"2020-06-26T00:00:00\", \"Country/Region\": \"Canada\", \"Confirmed\": 104616, \"Deaths\": 8570, \"Recovered\": 67182.0, \"Active\": 28864.0, \"New cases\": 166, \"New deaths\": 4, \"New recovered\": 313}, {\"Unnamed: 0\": 29234, \"Date\": \"2020-06-27T00:00:00\", \"Country/Region\": \"Canada\", \"Confirmed\": 104865, \"Deaths\": 8575, \"Recovered\": 67445.0, \"Active\": 28845.0, \"New cases\": 249, \"New deaths\": 5, \"New recovered\": 263}, {\"Unnamed: 0\": 29420, \"Date\": \"2020-06-28T00:00:00\", \"Country/Region\": \"Canada\", \"Confirmed\": 105180, \"Deaths\": 8581, \"Recovered\": 67689.0, \"Active\": 28910.0, \"New cases\": 315, \"New deaths\": 6, \"New recovered\": 244}, {\"Unnamed: 0\": 29606, \"Date\": \"2020-06-29T00:00:00\", \"Country/Region\": \"Canada\", \"Confirmed\": 105817, \"Deaths\": 8627, \"Recovered\": 68698.0, \"Active\": 28492.0, \"New cases\": 637, \"New deaths\": 46, \"New recovered\": 1009}, {\"Unnamed: 0\": 29792, \"Date\": \"2020-06-30T00:00:00\", \"Country/Region\": \"Canada\", \"Confirmed\": 106084, \"Deaths\": 8649, \"Recovered\": 69120.0, \"Active\": 28315.0, \"New cases\": 267, \"New deaths\": 22, \"New recovered\": 422}, {\"Unnamed: 0\": 29978, \"Date\": \"2020-07-01T00:00:00\", \"Country/Region\": \"Canada\", \"Confirmed\": 106275, \"Deaths\": 8677, \"Recovered\": 69397.0, \"Active\": 28201.0, \"New cases\": 191, \"New deaths\": 28, \"New recovered\": 277}, {\"Unnamed: 0\": 30164, \"Date\": \"2020-07-02T00:00:00\", \"Country/Region\": \"Canada\", \"Confirmed\": 106630, \"Deaths\": 8699, \"Recovered\": 69872.0, \"Active\": 28059.0, \"New cases\": 355, \"New deaths\": 22, \"New recovered\": 475}, {\"Unnamed: 0\": 30350, \"Date\": \"2020-07-03T00:00:00\", \"Country/Region\": \"Canada\", \"Confirmed\": 106949, \"Deaths\": 8721, \"Recovered\": 70232.0, \"Active\": 27996.0, \"New cases\": 319, \"New deaths\": 22, \"New recovered\": 360}, {\"Unnamed: 0\": 30536, \"Date\": \"2020-07-04T00:00:00\", \"Country/Region\": \"Canada\", \"Confirmed\": 107172, \"Deaths\": 8731, \"Recovered\": 70507.0, \"Active\": 27934.0, \"New cases\": 223, \"New deaths\": 10, \"New recovered\": 275}, {\"Unnamed: 0\": 30722, \"Date\": \"2020-07-05T00:00:00\", \"Country/Region\": \"Canada\", \"Confirmed\": 107381, \"Deaths\": 8738, \"Recovered\": 70772.0, \"Active\": 27871.0, \"New cases\": 209, \"New deaths\": 7, \"New recovered\": 265}, {\"Unnamed: 0\": 30908, \"Date\": \"2020-07-06T00:00:00\", \"Country/Region\": \"Canada\", \"Confirmed\": 107802, \"Deaths\": 8747, \"Recovered\": 71141.0, \"Active\": 27914.0, \"New cases\": 421, \"New deaths\": 9, \"New recovered\": 369}, {\"Unnamed: 0\": 31094, \"Date\": \"2020-07-07T00:00:00\", \"Country/Region\": \"Canada\", \"Confirmed\": 108010, \"Deaths\": 8764, \"Recovered\": 71418.0, \"Active\": 27828.0, \"New cases\": 208, \"New deaths\": 17, \"New recovered\": 277}, {\"Unnamed: 0\": 31280, \"Date\": \"2020-07-08T00:00:00\", \"Country/Region\": \"Canada\", \"Confirmed\": 108321, \"Deaths\": 8785, \"Recovered\": 71805.0, \"Active\": 27731.0, \"New cases\": 311, \"New deaths\": 21, \"New recovered\": 387}, {\"Unnamed: 0\": 31466, \"Date\": \"2020-07-09T00:00:00\", \"Country/Region\": \"Canada\", \"Confirmed\": 108643, \"Deaths\": 8796, \"Recovered\": 72095.0, \"Active\": 27752.0, \"New cases\": 322, \"New deaths\": 11, \"New recovered\": 290}, {\"Unnamed: 0\": 31652, \"Date\": \"2020-07-10T00:00:00\", \"Country/Region\": \"Canada\", \"Confirmed\": 108971, \"Deaths\": 8810, \"Recovered\": 72466.0, \"Active\": 27695.0, \"New cases\": 328, \"New deaths\": 14, \"New recovered\": 371}, {\"Unnamed: 0\": 31838, \"Date\": \"2020-07-11T00:00:00\", \"Country/Region\": \"Canada\", \"Confirmed\": 109137, \"Deaths\": 8817, \"Recovered\": 72784.0, \"Active\": 27536.0, \"New cases\": 166, \"New deaths\": 7, \"New recovered\": 318}, {\"Unnamed: 0\": 32024, \"Date\": \"2020-07-12T00:00:00\", \"Country/Region\": \"Canada\", \"Confirmed\": 109335, \"Deaths\": 8828, \"Recovered\": 72954.0, \"Active\": 27553.0, \"New cases\": 198, \"New deaths\": 11, \"New recovered\": 170}, {\"Unnamed: 0\": 32210, \"Date\": \"2020-07-13T00:00:00\", \"Country/Region\": \"Canada\", \"Confirmed\": 109971, \"Deaths\": 8835, \"Recovered\": 73381.0, \"Active\": 27755.0, \"New cases\": 636, \"New deaths\": 7, \"New recovered\": 427}, {\"Unnamed: 0\": 32396, \"Date\": \"2020-07-14T00:00:00\", \"Country/Region\": \"Canada\", \"Confirmed\": 110337, \"Deaths\": 8844, \"Recovered\": 73713.0, \"Active\": 27780.0, \"New cases\": 366, \"New deaths\": 9, \"New recovered\": 332}, {\"Unnamed: 0\": 32582, \"Date\": \"2020-07-15T00:00:00\", \"Country/Region\": \"Canada\", \"Confirmed\": 110680, \"Deaths\": 8856, \"Recovered\": 74067.0, \"Active\": 27757.0, \"New cases\": 343, \"New deaths\": 12, \"New recovered\": 354}, {\"Unnamed: 0\": 32768, \"Date\": \"2020-07-16T00:00:00\", \"Country/Region\": \"Canada\", \"Confirmed\": 111131, \"Deaths\": 8874, \"Recovered\": 74433.0, \"Active\": 27824.0, \"New cases\": 451, \"New deaths\": 18, \"New recovered\": 366}, {\"Unnamed: 0\": 32954, \"Date\": \"2020-07-17T00:00:00\", \"Country/Region\": \"Canada\", \"Confirmed\": 111546, \"Deaths\": 8883, \"Recovered\": 98281.0, \"Active\": 4382.0, \"New cases\": 415, \"New deaths\": 9, \"New recovered\": 23848}, {\"Unnamed: 0\": 33140, \"Date\": \"2020-07-18T00:00:00\", \"Country/Region\": \"Canada\", \"Confirmed\": 111862, \"Deaths\": 8891, \"Recovered\": 98436.0, \"Active\": 4535.0, \"New cases\": 316, \"New deaths\": 8, \"New recovered\": 155}, {\"Unnamed: 0\": 33326, \"Date\": \"2020-07-19T00:00:00\", \"Country/Region\": \"Canada\", \"Confirmed\": 112155, \"Deaths\": 8895, \"Recovered\": 98564.0, \"Active\": 4696.0, \"New cases\": 293, \"New deaths\": 4, \"New recovered\": 128}, {\"Unnamed: 0\": 33512, \"Date\": \"2020-07-20T00:00:00\", \"Country/Region\": \"Canada\", \"Confirmed\": 112925, \"Deaths\": 8901, \"Recovered\": 98975.0, \"Active\": 5049.0, \"New cases\": 770, \"New deaths\": 6, \"New recovered\": 411}, {\"Unnamed: 0\": 33698, \"Date\": \"2020-07-21T00:00:00\", \"Country/Region\": \"Canada\", \"Confirmed\": 113460, \"Deaths\": 8907, \"Recovered\": 99248.0, \"Active\": 5305.0, \"New cases\": 535, \"New deaths\": 6, \"New recovered\": 273}, {\"Unnamed: 0\": 33884, \"Date\": \"2020-07-22T00:00:00\", \"Country/Region\": \"Canada\", \"Confirmed\": 113777, \"Deaths\": 8912, \"Recovered\": 99501.0, \"Active\": 5364.0, \"New cases\": 317, \"New deaths\": 5, \"New recovered\": 253}, {\"Unnamed: 0\": 34070, \"Date\": \"2020-07-23T00:00:00\", \"Country/Region\": \"Canada\", \"Confirmed\": 114385, \"Deaths\": 8918, \"Recovered\": 99937.0, \"Active\": 5530.0, \"New cases\": 608, \"New deaths\": 6, \"New recovered\": 436}, {\"Unnamed: 0\": 34256, \"Date\": \"2020-07-24T00:00:00\", \"Country/Region\": \"Canada\", \"Confirmed\": 115102, \"Deaths\": 8922, \"Recovered\": 100504.0, \"Active\": 5676.0, \"New cases\": 717, \"New deaths\": 4, \"New recovered\": 567}, {\"Unnamed: 0\": 34442, \"Date\": \"2020-07-25T00:00:00\", \"Country/Region\": \"Canada\", \"Confirmed\": 115457, \"Deaths\": 8928, \"Recovered\": 100765.0, \"Active\": 5764.0, \"New cases\": 355, \"New deaths\": 6, \"New recovered\": 261}, {\"Unnamed: 0\": 34628, \"Date\": \"2020-07-26T00:00:00\", \"Country/Region\": \"Canada\", \"Confirmed\": 115776, \"Deaths\": 8933, \"Recovered\": 100969.0, \"Active\": 5874.0, \"New cases\": 319, \"New deaths\": 5, \"New recovered\": 204}, {\"Unnamed: 0\": 34814, \"Date\": \"2020-07-27T00:00:00\", \"Country/Region\": \"Canada\", \"Confirmed\": 116458, \"Deaths\": 8944, \"Recovered\": 101447.0, \"Active\": 6067.0, \"New cases\": 682, \"New deaths\": 11, \"New recovered\": 478}, {\"Unnamed: 0\": 35000, \"Date\": \"2020-07-28T00:00:00\", \"Country/Region\": \"Canada\", \"Confirmed\": 116858, \"Deaths\": 8956, \"Recovered\": 101686.0, \"Active\": 6216.0, \"New cases\": 400, \"New deaths\": 12, \"New recovered\": 239}]}}, {\"mode\": \"vega-lite\"});\n",
       "</script>"
      ],
      "text/plain": [
       "alt.HConcatChart(...)"
      ]
     },
     "execution_count": 35,
     "metadata": {},
     "output_type": "execute_result"
    }
   ],
   "source": [
    "red = alt.value(\"#f54242\")\n",
    "base.encode(y=\"Confirmed\").properties(title='Total Confirmed') | base.encode(y=\"Deaths\", color=red).properties(title='Total Deaths')"
   ]
  },
  {
   "cell_type": "code",
   "execution_count": 36,
   "metadata": {},
   "outputs": [
    {
     "data": {
      "text/html": [
       "\n",
       "<div id=\"altair-viz-db935dacb12b4e1f846976cef7280ddd\"></div>\n",
       "<script type=\"text/javascript\">\n",
       "  (function(spec, embedOpt){\n",
       "    let outputDiv = document.currentScript.previousElementSibling;\n",
       "    if (outputDiv.id !== \"altair-viz-db935dacb12b4e1f846976cef7280ddd\") {\n",
       "      outputDiv = document.getElementById(\"altair-viz-db935dacb12b4e1f846976cef7280ddd\");\n",
       "    }\n",
       "    const paths = {\n",
       "      \"vega\": \"https://cdn.jsdelivr.net/npm//vega@5?noext\",\n",
       "      \"vega-lib\": \"https://cdn.jsdelivr.net/npm//vega-lib?noext\",\n",
       "      \"vega-lite\": \"https://cdn.jsdelivr.net/npm//vega-lite@4.8.1?noext\",\n",
       "      \"vega-embed\": \"https://cdn.jsdelivr.net/npm//vega-embed@6?noext\",\n",
       "    };\n",
       "\n",
       "    function loadScript(lib) {\n",
       "      return new Promise(function(resolve, reject) {\n",
       "        var s = document.createElement('script');\n",
       "        s.src = paths[lib];\n",
       "        s.async = true;\n",
       "        s.onload = () => resolve(paths[lib]);\n",
       "        s.onerror = () => reject(`Error loading script: ${paths[lib]}`);\n",
       "        document.getElementsByTagName(\"head\")[0].appendChild(s);\n",
       "      });\n",
       "    }\n",
       "\n",
       "    function showError(err) {\n",
       "      outputDiv.innerHTML = `<div class=\"error\" style=\"color:red;\">${err}</div>`;\n",
       "      throw err;\n",
       "    }\n",
       "\n",
       "    function displayChart(vegaEmbed) {\n",
       "      vegaEmbed(outputDiv, spec, embedOpt)\n",
       "        .catch(err => showError(`Javascript Error: ${err.message}<br>This usually means there's a typo in your chart specification. See the javascript console for the full traceback.`));\n",
       "    }\n",
       "\n",
       "    if(typeof define === \"function\" && define.amd) {\n",
       "      requirejs.config({paths});\n",
       "      require([\"vega-embed\"], displayChart, err => showError(`Error loading script: ${err.message}`));\n",
       "    } else if (typeof vegaEmbed === \"function\") {\n",
       "      displayChart(vegaEmbed);\n",
       "    } else {\n",
       "      loadScript(\"vega\")\n",
       "        .then(() => loadScript(\"vega-lite\"))\n",
       "        .then(() => loadScript(\"vega-embed\"))\n",
       "        .catch(showError)\n",
       "        .then(() => displayChart(vegaEmbed));\n",
       "    }\n",
       "  })({\"config\": {\"view\": {\"continuousWidth\": 400, \"continuousHeight\": 300}}, \"data\": {\"name\": \"data-dfe9d3ec8ee2467f385346aa1597aea3\"}, \"mark\": \"bar\", \"encoding\": {\"color\": {\"value\": \"#338f5d\"}, \"x\": {\"type\": \"ordinal\", \"field\": \"Date\", \"timeUnit\": \"monthdate\"}, \"y\": {\"type\": \"quantitative\", \"field\": \"Recovered\"}}, \"title\": \"Total Recovered\", \"width\": 500, \"$schema\": \"https://vega.github.io/schema/vega-lite/v4.8.1.json\", \"datasets\": {\"data-dfe9d3ec8ee2467f385346aa1597aea3\": [{\"Unnamed: 0\": 32, \"Date\": \"2020-01-22T00:00:00\", \"Country/Region\": \"Canada\", \"Confirmed\": 0, \"Deaths\": 0, \"Recovered\": 0.0, \"Active\": 0.0, \"New cases\": 0, \"New deaths\": 0, \"New recovered\": 0}, {\"Unnamed: 0\": 218, \"Date\": \"2020-01-23T00:00:00\", \"Country/Region\": \"Canada\", \"Confirmed\": 0, \"Deaths\": 0, \"Recovered\": 0.0, \"Active\": 0.0, \"New cases\": 0, \"New deaths\": 0, \"New recovered\": 0}, {\"Unnamed: 0\": 404, \"Date\": \"2020-01-24T00:00:00\", \"Country/Region\": \"Canada\", \"Confirmed\": 0, \"Deaths\": 0, \"Recovered\": 0.0, \"Active\": 0.0, \"New cases\": 0, \"New deaths\": 0, \"New recovered\": 0}, {\"Unnamed: 0\": 590, \"Date\": \"2020-01-25T00:00:00\", \"Country/Region\": \"Canada\", \"Confirmed\": 0, \"Deaths\": 0, \"Recovered\": 0.0, \"Active\": 0.0, \"New cases\": 0, \"New deaths\": 0, \"New recovered\": 0}, {\"Unnamed: 0\": 776, \"Date\": \"2020-01-26T00:00:00\", \"Country/Region\": \"Canada\", \"Confirmed\": 1, \"Deaths\": 0, \"Recovered\": 0.0, \"Active\": 1.0, \"New cases\": 1, \"New deaths\": 0, \"New recovered\": 0}, {\"Unnamed: 0\": 962, \"Date\": \"2020-01-27T00:00:00\", \"Country/Region\": \"Canada\", \"Confirmed\": 1, \"Deaths\": 0, \"Recovered\": 0.0, \"Active\": 1.0, \"New cases\": 0, \"New deaths\": 0, \"New recovered\": 0}, {\"Unnamed: 0\": 1148, \"Date\": \"2020-01-28T00:00:00\", \"Country/Region\": \"Canada\", \"Confirmed\": 2, \"Deaths\": 0, \"Recovered\": 0.0, \"Active\": 2.0, \"New cases\": 1, \"New deaths\": 0, \"New recovered\": 0}, {\"Unnamed: 0\": 1334, \"Date\": \"2020-01-29T00:00:00\", \"Country/Region\": \"Canada\", \"Confirmed\": 2, \"Deaths\": 0, \"Recovered\": 0.0, \"Active\": 2.0, \"New cases\": 0, \"New deaths\": 0, \"New recovered\": 0}, {\"Unnamed: 0\": 1520, \"Date\": \"2020-01-30T00:00:00\", \"Country/Region\": \"Canada\", \"Confirmed\": 2, \"Deaths\": 0, \"Recovered\": 0.0, \"Active\": 2.0, \"New cases\": 0, \"New deaths\": 0, \"New recovered\": 0}, {\"Unnamed: 0\": 1706, \"Date\": \"2020-01-31T00:00:00\", \"Country/Region\": \"Canada\", \"Confirmed\": 4, \"Deaths\": 0, \"Recovered\": 0.0, \"Active\": 4.0, \"New cases\": 2, \"New deaths\": 0, \"New recovered\": 0}, {\"Unnamed: 0\": 1892, \"Date\": \"2020-02-01T00:00:00\", \"Country/Region\": \"Canada\", \"Confirmed\": 4, \"Deaths\": 0, \"Recovered\": 0.0, \"Active\": 4.0, \"New cases\": 0, \"New deaths\": 0, \"New recovered\": 0}, {\"Unnamed: 0\": 2078, \"Date\": \"2020-02-02T00:00:00\", \"Country/Region\": \"Canada\", \"Confirmed\": 4, \"Deaths\": 0, \"Recovered\": 0.0, \"Active\": 4.0, \"New cases\": 0, \"New deaths\": 0, \"New recovered\": 0}, {\"Unnamed: 0\": 2264, \"Date\": \"2020-02-03T00:00:00\", \"Country/Region\": \"Canada\", \"Confirmed\": 4, \"Deaths\": 0, \"Recovered\": 0.0, \"Active\": 4.0, \"New cases\": 0, \"New deaths\": 0, \"New recovered\": 0}, {\"Unnamed: 0\": 2450, \"Date\": \"2020-02-04T00:00:00\", \"Country/Region\": \"Canada\", \"Confirmed\": 4, \"Deaths\": 0, \"Recovered\": 0.0, \"Active\": 4.0, \"New cases\": 0, \"New deaths\": 0, \"New recovered\": 0}, {\"Unnamed: 0\": 2636, \"Date\": \"2020-02-05T00:00:00\", \"Country/Region\": \"Canada\", \"Confirmed\": 5, \"Deaths\": 0, \"Recovered\": 0.0, \"Active\": 5.0, \"New cases\": 1, \"New deaths\": 0, \"New recovered\": 0}, {\"Unnamed: 0\": 2822, \"Date\": \"2020-02-06T00:00:00\", \"Country/Region\": \"Canada\", \"Confirmed\": 5, \"Deaths\": 0, \"Recovered\": 0.0, \"Active\": 5.0, \"New cases\": 0, \"New deaths\": 0, \"New recovered\": 0}, {\"Unnamed: 0\": 3008, \"Date\": \"2020-02-07T00:00:00\", \"Country/Region\": \"Canada\", \"Confirmed\": 7, \"Deaths\": 0, \"Recovered\": 0.0, \"Active\": 7.0, \"New cases\": 2, \"New deaths\": 0, \"New recovered\": 0}, {\"Unnamed: 0\": 3194, \"Date\": \"2020-02-08T00:00:00\", \"Country/Region\": \"Canada\", \"Confirmed\": 7, \"Deaths\": 0, \"Recovered\": 0.0, \"Active\": 7.0, \"New cases\": 0, \"New deaths\": 0, \"New recovered\": 0}, {\"Unnamed: 0\": 3380, \"Date\": \"2020-02-09T00:00:00\", \"Country/Region\": \"Canada\", \"Confirmed\": 7, \"Deaths\": 0, \"Recovered\": 0.0, \"Active\": 7.0, \"New cases\": 0, \"New deaths\": 0, \"New recovered\": 0}, {\"Unnamed: 0\": 3566, \"Date\": \"2020-02-10T00:00:00\", \"Country/Region\": \"Canada\", \"Confirmed\": 7, \"Deaths\": 0, \"Recovered\": 0.0, \"Active\": 7.0, \"New cases\": 0, \"New deaths\": 0, \"New recovered\": 0}, {\"Unnamed: 0\": 3752, \"Date\": \"2020-02-11T00:00:00\", \"Country/Region\": \"Canada\", \"Confirmed\": 7, \"Deaths\": 0, \"Recovered\": 0.0, \"Active\": 7.0, \"New cases\": 0, \"New deaths\": 0, \"New recovered\": 0}, {\"Unnamed: 0\": 3938, \"Date\": \"2020-02-12T00:00:00\", \"Country/Region\": \"Canada\", \"Confirmed\": 7, \"Deaths\": 0, \"Recovered\": 1.0, \"Active\": 6.0, \"New cases\": 0, \"New deaths\": 0, \"New recovered\": 1}, {\"Unnamed: 0\": 4124, \"Date\": \"2020-02-13T00:00:00\", \"Country/Region\": \"Canada\", \"Confirmed\": 7, \"Deaths\": 0, \"Recovered\": 1.0, \"Active\": 6.0, \"New cases\": 0, \"New deaths\": 0, \"New recovered\": 0}, {\"Unnamed: 0\": 4310, \"Date\": \"2020-02-14T00:00:00\", \"Country/Region\": \"Canada\", \"Confirmed\": 7, \"Deaths\": 0, \"Recovered\": 1.0, \"Active\": 6.0, \"New cases\": 0, \"New deaths\": 0, \"New recovered\": 0}, {\"Unnamed: 0\": 4496, \"Date\": \"2020-02-15T00:00:00\", \"Country/Region\": \"Canada\", \"Confirmed\": 7, \"Deaths\": 0, \"Recovered\": 1.0, \"Active\": 6.0, \"New cases\": 0, \"New deaths\": 0, \"New recovered\": 0}, {\"Unnamed: 0\": 4682, \"Date\": \"2020-02-16T00:00:00\", \"Country/Region\": \"Canada\", \"Confirmed\": 7, \"Deaths\": 0, \"Recovered\": 1.0, \"Active\": 6.0, \"New cases\": 0, \"New deaths\": 0, \"New recovered\": 0}, {\"Unnamed: 0\": 4868, \"Date\": \"2020-02-17T00:00:00\", \"Country/Region\": \"Canada\", \"Confirmed\": 8, \"Deaths\": 0, \"Recovered\": 1.0, \"Active\": 7.0, \"New cases\": 1, \"New deaths\": 0, \"New recovered\": 0}, {\"Unnamed: 0\": 5054, \"Date\": \"2020-02-18T00:00:00\", \"Country/Region\": \"Canada\", \"Confirmed\": 8, \"Deaths\": 0, \"Recovered\": 1.0, \"Active\": 7.0, \"New cases\": 0, \"New deaths\": 0, \"New recovered\": 0}, {\"Unnamed: 0\": 5240, \"Date\": \"2020-02-19T00:00:00\", \"Country/Region\": \"Canada\", \"Confirmed\": 8, \"Deaths\": 0, \"Recovered\": 1.0, \"Active\": 7.0, \"New cases\": 0, \"New deaths\": 0, \"New recovered\": 0}, {\"Unnamed: 0\": 5426, \"Date\": \"2020-02-20T00:00:00\", \"Country/Region\": \"Canada\", \"Confirmed\": 8, \"Deaths\": 0, \"Recovered\": 1.0, \"Active\": 7.0, \"New cases\": 0, \"New deaths\": 0, \"New recovered\": 0}, {\"Unnamed: 0\": 5612, \"Date\": \"2020-02-21T00:00:00\", \"Country/Region\": \"Canada\", \"Confirmed\": 9, \"Deaths\": 0, \"Recovered\": 3.0, \"Active\": 6.0, \"New cases\": 1, \"New deaths\": 0, \"New recovered\": 2}, {\"Unnamed: 0\": 5798, \"Date\": \"2020-02-22T00:00:00\", \"Country/Region\": \"Canada\", \"Confirmed\": 9, \"Deaths\": 0, \"Recovered\": 3.0, \"Active\": 6.0, \"New cases\": 0, \"New deaths\": 0, \"New recovered\": 0}, {\"Unnamed: 0\": 5984, \"Date\": \"2020-02-23T00:00:00\", \"Country/Region\": \"Canada\", \"Confirmed\": 9, \"Deaths\": 0, \"Recovered\": 3.0, \"Active\": 6.0, \"New cases\": 0, \"New deaths\": 0, \"New recovered\": 0}, {\"Unnamed: 0\": 6170, \"Date\": \"2020-02-24T00:00:00\", \"Country/Region\": \"Canada\", \"Confirmed\": 10, \"Deaths\": 0, \"Recovered\": 3.0, \"Active\": 7.0, \"New cases\": 1, \"New deaths\": 0, \"New recovered\": 0}, {\"Unnamed: 0\": 6356, \"Date\": \"2020-02-25T00:00:00\", \"Country/Region\": \"Canada\", \"Confirmed\": 11, \"Deaths\": 0, \"Recovered\": 3.0, \"Active\": 8.0, \"New cases\": 1, \"New deaths\": 0, \"New recovered\": 0}, {\"Unnamed: 0\": 6542, \"Date\": \"2020-02-26T00:00:00\", \"Country/Region\": \"Canada\", \"Confirmed\": 11, \"Deaths\": 0, \"Recovered\": 3.0, \"Active\": 8.0, \"New cases\": 0, \"New deaths\": 0, \"New recovered\": 0}, {\"Unnamed: 0\": 6728, \"Date\": \"2020-02-27T00:00:00\", \"Country/Region\": \"Canada\", \"Confirmed\": 13, \"Deaths\": 0, \"Recovered\": 6.0, \"Active\": 7.0, \"New cases\": 2, \"New deaths\": 0, \"New recovered\": 3}, {\"Unnamed: 0\": 6914, \"Date\": \"2020-02-28T00:00:00\", \"Country/Region\": \"Canada\", \"Confirmed\": 14, \"Deaths\": 0, \"Recovered\": 6.0, \"Active\": 8.0, \"New cases\": 1, \"New deaths\": 0, \"New recovered\": 0}, {\"Unnamed: 0\": 7100, \"Date\": \"2020-02-29T00:00:00\", \"Country/Region\": \"Canada\", \"Confirmed\": 20, \"Deaths\": 0, \"Recovered\": 6.0, \"Active\": 14.0, \"New cases\": 6, \"New deaths\": 0, \"New recovered\": 0}, {\"Unnamed: 0\": 7286, \"Date\": \"2020-03-01T00:00:00\", \"Country/Region\": \"Canada\", \"Confirmed\": 24, \"Deaths\": 0, \"Recovered\": 6.0, \"Active\": 18.0, \"New cases\": 4, \"New deaths\": 0, \"New recovered\": 0}, {\"Unnamed: 0\": 7472, \"Date\": \"2020-03-02T00:00:00\", \"Country/Region\": \"Canada\", \"Confirmed\": 27, \"Deaths\": 0, \"Recovered\": 6.0, \"Active\": 21.0, \"New cases\": 3, \"New deaths\": 0, \"New recovered\": 0}, {\"Unnamed: 0\": 7658, \"Date\": \"2020-03-03T00:00:00\", \"Country/Region\": \"Canada\", \"Confirmed\": 30, \"Deaths\": 0, \"Recovered\": 6.0, \"Active\": 24.0, \"New cases\": 3, \"New deaths\": 0, \"New recovered\": 0}, {\"Unnamed: 0\": 7844, \"Date\": \"2020-03-04T00:00:00\", \"Country/Region\": \"Canada\", \"Confirmed\": 33, \"Deaths\": 0, \"Recovered\": 6.0, \"Active\": 27.0, \"New cases\": 3, \"New deaths\": 0, \"New recovered\": 0}, {\"Unnamed: 0\": 8030, \"Date\": \"2020-03-05T00:00:00\", \"Country/Region\": \"Canada\", \"Confirmed\": 37, \"Deaths\": 0, \"Recovered\": 6.0, \"Active\": 31.0, \"New cases\": 4, \"New deaths\": 0, \"New recovered\": 0}, {\"Unnamed: 0\": 8216, \"Date\": \"2020-03-06T00:00:00\", \"Country/Region\": \"Canada\", \"Confirmed\": 49, \"Deaths\": 0, \"Recovered\": 6.0, \"Active\": 43.0, \"New cases\": 12, \"New deaths\": 0, \"New recovered\": 0}, {\"Unnamed: 0\": 8402, \"Date\": \"2020-03-07T00:00:00\", \"Country/Region\": \"Canada\", \"Confirmed\": 54, \"Deaths\": 0, \"Recovered\": 8.0, \"Active\": 46.0, \"New cases\": 5, \"New deaths\": 0, \"New recovered\": 2}, {\"Unnamed: 0\": 8588, \"Date\": \"2020-03-08T00:00:00\", \"Country/Region\": \"Canada\", \"Confirmed\": 64, \"Deaths\": 0, \"Recovered\": 8.0, \"Active\": 56.0, \"New cases\": 10, \"New deaths\": 0, \"New recovered\": 0}, {\"Unnamed: 0\": 8774, \"Date\": \"2020-03-09T00:00:00\", \"Country/Region\": \"Canada\", \"Confirmed\": 77, \"Deaths\": 1, \"Recovered\": 8.0, \"Active\": 68.0, \"New cases\": 13, \"New deaths\": 1, \"New recovered\": 0}, {\"Unnamed: 0\": 8960, \"Date\": \"2020-03-10T00:00:00\", \"Country/Region\": \"Canada\", \"Confirmed\": 79, \"Deaths\": 1, \"Recovered\": 8.0, \"Active\": 70.0, \"New cases\": 2, \"New deaths\": 0, \"New recovered\": 0}, {\"Unnamed: 0\": 9146, \"Date\": \"2020-03-11T00:00:00\", \"Country/Region\": \"Canada\", \"Confirmed\": 108, \"Deaths\": 1, \"Recovered\": 8.0, \"Active\": 99.0, \"New cases\": 29, \"New deaths\": 0, \"New recovered\": 0}, {\"Unnamed: 0\": 9332, \"Date\": \"2020-03-12T00:00:00\", \"Country/Region\": \"Canada\", \"Confirmed\": 117, \"Deaths\": 1, \"Recovered\": 8.0, \"Active\": 108.0, \"New cases\": 9, \"New deaths\": 0, \"New recovered\": 0}, {\"Unnamed: 0\": 9518, \"Date\": \"2020-03-13T00:00:00\", \"Country/Region\": \"Canada\", \"Confirmed\": 191, \"Deaths\": 1, \"Recovered\": 8.0, \"Active\": 182.0, \"New cases\": 74, \"New deaths\": 0, \"New recovered\": 0}, {\"Unnamed: 0\": 9704, \"Date\": \"2020-03-14T00:00:00\", \"Country/Region\": \"Canada\", \"Confirmed\": 196, \"Deaths\": 1, \"Recovered\": 8.0, \"Active\": 187.0, \"New cases\": 5, \"New deaths\": 0, \"New recovered\": 0}, {\"Unnamed: 0\": 9890, \"Date\": \"2020-03-15T00:00:00\", \"Country/Region\": \"Canada\", \"Confirmed\": 250, \"Deaths\": 1, \"Recovered\": 8.0, \"Active\": 241.0, \"New cases\": 54, \"New deaths\": 0, \"New recovered\": 0}, {\"Unnamed: 0\": 10076, \"Date\": \"2020-03-16T00:00:00\", \"Country/Region\": \"Canada\", \"Confirmed\": 413, \"Deaths\": 4, \"Recovered\": 9.0, \"Active\": 400.0, \"New cases\": 163, \"New deaths\": 3, \"New recovered\": 1}, {\"Unnamed: 0\": 10262, \"Date\": \"2020-03-17T00:00:00\", \"Country/Region\": \"Canada\", \"Confirmed\": 470, \"Deaths\": 5, \"Recovered\": 9.0, \"Active\": 456.0, \"New cases\": 57, \"New deaths\": 1, \"New recovered\": 0}, {\"Unnamed: 0\": 10448, \"Date\": \"2020-03-18T00:00:00\", \"Country/Region\": \"Canada\", \"Confirmed\": 648, \"Deaths\": 8, \"Recovered\": 9.0, \"Active\": 631.0, \"New cases\": 178, \"New deaths\": 3, \"New recovered\": 0}, {\"Unnamed: 0\": 10634, \"Date\": \"2020-03-19T00:00:00\", \"Country/Region\": \"Canada\", \"Confirmed\": 791, \"Deaths\": 9, \"Recovered\": 9.0, \"Active\": 773.0, \"New cases\": 143, \"New deaths\": 1, \"New recovered\": 0}, {\"Unnamed: 0\": 10820, \"Date\": \"2020-03-20T00:00:00\", \"Country/Region\": \"Canada\", \"Confirmed\": 933, \"Deaths\": 12, \"Recovered\": 9.0, \"Active\": 912.0, \"New cases\": 142, \"New deaths\": 3, \"New recovered\": 0}, {\"Unnamed: 0\": 11006, \"Date\": \"2020-03-21T00:00:00\", \"Country/Region\": \"Canada\", \"Confirmed\": 1267, \"Deaths\": 19, \"Recovered\": 10.0, \"Active\": 1238.0, \"New cases\": 334, \"New deaths\": 7, \"New recovered\": 1}, {\"Unnamed: 0\": 11192, \"Date\": \"2020-03-22T00:00:00\", \"Country/Region\": \"Canada\", \"Confirmed\": 1456, \"Deaths\": 20, \"Recovered\": 10.0, \"Active\": 1426.0, \"New cases\": 189, \"New deaths\": 1, \"New recovered\": 0}, {\"Unnamed: 0\": 11378, \"Date\": \"2020-03-23T00:00:00\", \"Country/Region\": \"Canada\", \"Confirmed\": 2075, \"Deaths\": 24, \"Recovered\": 10.0, \"Active\": 2041.0, \"New cases\": 619, \"New deaths\": 4, \"New recovered\": 0}, {\"Unnamed: 0\": 11564, \"Date\": \"2020-03-24T00:00:00\", \"Country/Region\": \"Canada\", \"Confirmed\": 2777, \"Deaths\": 25, \"Recovered\": 110.0, \"Active\": 2642.0, \"New cases\": 702, \"New deaths\": 1, \"New recovered\": 100}, {\"Unnamed: 0\": 11750, \"Date\": \"2020-03-25T00:00:00\", \"Country/Region\": \"Canada\", \"Confirmed\": 3238, \"Deaths\": 29, \"Recovered\": 183.0, \"Active\": 3026.0, \"New cases\": 461, \"New deaths\": 4, \"New recovered\": 73}, {\"Unnamed: 0\": 11936, \"Date\": \"2020-03-26T00:00:00\", \"Country/Region\": \"Canada\", \"Confirmed\": 4029, \"Deaths\": 37, \"Recovered\": 184.0, \"Active\": 3808.0, \"New cases\": 791, \"New deaths\": 8, \"New recovered\": 1}, {\"Unnamed: 0\": 12122, \"Date\": \"2020-03-27T00:00:00\", \"Country/Region\": \"Canada\", \"Confirmed\": 4669, \"Deaths\": 53, \"Recovered\": 256.0, \"Active\": 4360.0, \"New cases\": 640, \"New deaths\": 16, \"New recovered\": 72}, {\"Unnamed: 0\": 12308, \"Date\": \"2020-03-28T00:00:00\", \"Country/Region\": \"Canada\", \"Confirmed\": 5563, \"Deaths\": 60, \"Recovered\": 466.0, \"Active\": 5037.0, \"New cases\": 894, \"New deaths\": 7, \"New recovered\": 210}, {\"Unnamed: 0\": 12494, \"Date\": \"2020-03-29T00:00:00\", \"Country/Region\": \"Canada\", \"Confirmed\": 6267, \"Deaths\": 63, \"Recovered\": 466.0, \"Active\": 5738.0, \"New cases\": 704, \"New deaths\": 3, \"New recovered\": 0}, {\"Unnamed: 0\": 12680, \"Date\": \"2020-03-30T00:00:00\", \"Country/Region\": \"Canada\", \"Confirmed\": 7385, \"Deaths\": 79, \"Recovered\": 466.0, \"Active\": 6840.0, \"New cases\": 1118, \"New deaths\": 16, \"New recovered\": 0}, {\"Unnamed: 0\": 12866, \"Date\": \"2020-03-31T00:00:00\", \"Country/Region\": \"Canada\", \"Confirmed\": 8514, \"Deaths\": 100, \"Recovered\": 1592.0, \"Active\": 6822.0, \"New cases\": 1129, \"New deaths\": 21, \"New recovered\": 1126}, {\"Unnamed: 0\": 13052, \"Date\": \"2020-04-01T00:00:00\", \"Country/Region\": \"Canada\", \"Confirmed\": 9547, \"Deaths\": 108, \"Recovered\": 1324.0, \"Active\": 8115.0, \"New cases\": 1033, \"New deaths\": 8, \"New recovered\": -268}, {\"Unnamed: 0\": 13238, \"Date\": \"2020-04-02T00:00:00\", \"Country/Region\": \"Canada\", \"Confirmed\": 11271, \"Deaths\": 138, \"Recovered\": 1735.0, \"Active\": 9398.0, \"New cases\": 1724, \"New deaths\": 30, \"New recovered\": 411}, {\"Unnamed: 0\": 13424, \"Date\": \"2020-04-03T00:00:00\", \"Country/Region\": \"Canada\", \"Confirmed\": 12424, \"Deaths\": 178, \"Recovered\": 2175.0, \"Active\": 10071.0, \"New cases\": 1153, \"New deaths\": 40, \"New recovered\": 440}, {\"Unnamed: 0\": 13610, \"Date\": \"2020-04-04T00:00:00\", \"Country/Region\": \"Canada\", \"Confirmed\": 12965, \"Deaths\": 217, \"Recovered\": 2577.0, \"Active\": 10171.0, \"New cases\": 541, \"New deaths\": 39, \"New recovered\": 402}, {\"Unnamed: 0\": 13796, \"Date\": \"2020-04-05T00:00:00\", \"Country/Region\": \"Canada\", \"Confirmed\": 15743, \"Deaths\": 258, \"Recovered\": 3012.0, \"Active\": 12473.0, \"New cases\": 2778, \"New deaths\": 41, \"New recovered\": 435}, {\"Unnamed: 0\": 13982, \"Date\": \"2020-04-06T00:00:00\", \"Country/Region\": \"Canada\", \"Confirmed\": 16550, \"Deaths\": 338, \"Recovered\": 3256.0, \"Active\": 12956.0, \"New cases\": 807, \"New deaths\": 80, \"New recovered\": 244}, {\"Unnamed: 0\": 14168, \"Date\": \"2020-04-07T00:00:00\", \"Country/Region\": \"Canada\", \"Confirmed\": 17859, \"Deaths\": 374, \"Recovered\": 3791.0, \"Active\": 13694.0, \"New cases\": 1309, \"New deaths\": 36, \"New recovered\": 535}, {\"Unnamed: 0\": 14354, \"Date\": \"2020-04-08T00:00:00\", \"Country/Region\": \"Canada\", \"Confirmed\": 19128, \"Deaths\": 406, \"Recovered\": 4154.0, \"Active\": 14568.0, \"New cases\": 1269, \"New deaths\": 32, \"New recovered\": 363}, {\"Unnamed: 0\": 14540, \"Date\": \"2020-04-09T00:00:00\", \"Country/Region\": \"Canada\", \"Confirmed\": 20641, \"Deaths\": 502, \"Recovered\": 5162.0, \"Active\": 14977.0, \"New cases\": 1513, \"New deaths\": 96, \"New recovered\": 1008}, {\"Unnamed: 0\": 14726, \"Date\": \"2020-04-10T00:00:00\", \"Country/Region\": \"Canada\", \"Confirmed\": 22046, \"Deaths\": 556, \"Recovered\": 5855.0, \"Active\": 15635.0, \"New cases\": 1405, \"New deaths\": 54, \"New recovered\": 693}, {\"Unnamed: 0\": 14912, \"Date\": \"2020-04-11T00:00:00\", \"Country/Region\": \"Canada\", \"Confirmed\": 23303, \"Deaths\": 653, \"Recovered\": 6589.0, \"Active\": 16061.0, \"New cases\": 1257, \"New deaths\": 97, \"New recovered\": 734}, {\"Unnamed: 0\": 15098, \"Date\": \"2020-04-12T00:00:00\", \"Country/Region\": \"Canada\", \"Confirmed\": 24286, \"Deaths\": 713, \"Recovered\": 7123.0, \"Active\": 16450.0, \"New cases\": 983, \"New deaths\": 60, \"New recovered\": 534}, {\"Unnamed: 0\": 15284, \"Date\": \"2020-04-13T00:00:00\", \"Country/Region\": \"Canada\", \"Confirmed\": 25667, \"Deaths\": 780, \"Recovered\": 7758.0, \"Active\": 17129.0, \"New cases\": 1381, \"New deaths\": 67, \"New recovered\": 635}, {\"Unnamed: 0\": 15470, \"Date\": \"2020-04-14T00:00:00\", \"Country/Region\": \"Canada\", \"Confirmed\": 27022, \"Deaths\": 900, \"Recovered\": 8210.0, \"Active\": 17912.0, \"New cases\": 1355, \"New deaths\": 120, \"New recovered\": 452}, {\"Unnamed: 0\": 15656, \"Date\": \"2020-04-15T00:00:00\", \"Country/Region\": \"Canada\", \"Confirmed\": 28196, \"Deaths\": 1007, \"Recovered\": 8966.0, \"Active\": 18223.0, \"New cases\": 1174, \"New deaths\": 107, \"New recovered\": 756}, {\"Unnamed: 0\": 15842, \"Date\": \"2020-04-16T00:00:00\", \"Country/Region\": \"Canada\", \"Confirmed\": 30796, \"Deaths\": 1258, \"Recovered\": 9698.0, \"Active\": 19840.0, \"New cases\": 2600, \"New deaths\": 251, \"New recovered\": 732}, {\"Unnamed: 0\": 16028, \"Date\": \"2020-04-17T00:00:00\", \"Country/Region\": \"Canada\", \"Confirmed\": 32801, \"Deaths\": 1355, \"Recovered\": 10545.0, \"Active\": 20901.0, \"New cases\": 2005, \"New deaths\": 97, \"New recovered\": 847}, {\"Unnamed: 0\": 16214, \"Date\": \"2020-04-18T00:00:00\", \"Country/Region\": \"Canada\", \"Confirmed\": 34343, \"Deaths\": 1400, \"Recovered\": 10964.0, \"Active\": 21979.0, \"New cases\": 1542, \"New deaths\": 45, \"New recovered\": 419}, {\"Unnamed: 0\": 16400, \"Date\": \"2020-04-19T00:00:00\", \"Country/Region\": \"Canada\", \"Confirmed\": 35620, \"Deaths\": 1564, \"Recovered\": 11847.0, \"Active\": 22209.0, \"New cases\": 1277, \"New deaths\": 164, \"New recovered\": 883}, {\"Unnamed: 0\": 16586, \"Date\": \"2020-04-20T00:00:00\", \"Country/Region\": \"Canada\", \"Confirmed\": 37645, \"Deaths\": 1726, \"Recovered\": 12543.0, \"Active\": 23376.0, \"New cases\": 2025, \"New deaths\": 162, \"New recovered\": 696}, {\"Unnamed: 0\": 16772, \"Date\": \"2020-04-21T00:00:00\", \"Country/Region\": \"Canada\", \"Confirmed\": 39389, \"Deaths\": 1909, \"Recovered\": 13188.0, \"Active\": 24292.0, \"New cases\": 1744, \"New deaths\": 183, \"New recovered\": 645}, {\"Unnamed: 0\": 16958, \"Date\": \"2020-04-22T00:00:00\", \"Country/Region\": \"Canada\", \"Confirmed\": 41650, \"Deaths\": 2077, \"Recovered\": 14454.0, \"Active\": 25119.0, \"New cases\": 2261, \"New deaths\": 168, \"New recovered\": 1266}, {\"Unnamed: 0\": 17144, \"Date\": \"2020-04-23T00:00:00\", \"Country/Region\": \"Canada\", \"Confirmed\": 43286, \"Deaths\": 2240, \"Recovered\": 14761.0, \"Active\": 26285.0, \"New cases\": 1636, \"New deaths\": 163, \"New recovered\": 307}, {\"Unnamed: 0\": 17330, \"Date\": \"2020-04-24T00:00:00\", \"Country/Region\": \"Canada\", \"Confirmed\": 44906, \"Deaths\": 2401, \"Recovered\": 15149.0, \"Active\": 27356.0, \"New cases\": 1620, \"New deaths\": 161, \"New recovered\": 388}, {\"Unnamed: 0\": 17516, \"Date\": \"2020-04-25T00:00:00\", \"Country/Region\": \"Canada\", \"Confirmed\": 46358, \"Deaths\": 2570, \"Recovered\": 16013.0, \"Active\": 27775.0, \"New cases\": 1452, \"New deaths\": 169, \"New recovered\": 864}, {\"Unnamed: 0\": 17702, \"Date\": \"2020-04-26T00:00:00\", \"Country/Region\": \"Canada\", \"Confirmed\": 48020, \"Deaths\": 2686, \"Recovered\": 16883.0, \"Active\": 28451.0, \"New cases\": 1662, \"New deaths\": 116, \"New recovered\": 870}, {\"Unnamed: 0\": 17888, \"Date\": \"2020-04-27T00:00:00\", \"Country/Region\": \"Canada\", \"Confirmed\": 49603, \"Deaths\": 2840, \"Recovered\": 18268.0, \"Active\": 28495.0, \"New cases\": 1583, \"New deaths\": 154, \"New recovered\": 1385}, {\"Unnamed: 0\": 18074, \"Date\": \"2020-04-28T00:00:00\", \"Country/Region\": \"Canada\", \"Confirmed\": 51137, \"Deaths\": 2982, \"Recovered\": 19231.0, \"Active\": 28924.0, \"New cases\": 1534, \"New deaths\": 142, \"New recovered\": 963}, {\"Unnamed: 0\": 18260, \"Date\": \"2020-04-29T00:00:00\", \"Country/Region\": \"Canada\", \"Confirmed\": 52852, \"Deaths\": 3154, \"Recovered\": 20327.0, \"Active\": 29371.0, \"New cases\": 1715, \"New deaths\": 172, \"New recovered\": 1096}, {\"Unnamed: 0\": 18446, \"Date\": \"2020-04-30T00:00:00\", \"Country/Region\": \"Canada\", \"Confirmed\": 54444, \"Deaths\": 3309, \"Recovered\": 21424.0, \"Active\": 29711.0, \"New cases\": 1592, \"New deaths\": 155, \"New recovered\": 1097}, {\"Unnamed: 0\": 18632, \"Date\": \"2020-05-01T00:00:00\", \"Country/Region\": \"Canada\", \"Confirmed\": 56329, \"Deaths\": 3536, \"Recovered\": 22764.0, \"Active\": 30029.0, \"New cases\": 1885, \"New deaths\": 227, \"New recovered\": 1340}, {\"Unnamed: 0\": 18818, \"Date\": \"2020-05-02T00:00:00\", \"Country/Region\": \"Canada\", \"Confirmed\": 57912, \"Deaths\": 3683, \"Recovered\": 23814.0, \"Active\": 30415.0, \"New cases\": 1583, \"New deaths\": 147, \"New recovered\": 1050}, {\"Unnamed: 0\": 19004, \"Date\": \"2020-05-03T00:00:00\", \"Country/Region\": \"Canada\", \"Confirmed\": 60490, \"Deaths\": 3794, \"Recovered\": 24921.0, \"Active\": 31775.0, \"New cases\": 2578, \"New deaths\": 111, \"New recovered\": 1107}, {\"Unnamed: 0\": 19190, \"Date\": \"2020-05-04T00:00:00\", \"Country/Region\": \"Canada\", \"Confirmed\": 61943, \"Deaths\": 4002, \"Recovered\": 26030.0, \"Active\": 31911.0, \"New cases\": 1453, \"New deaths\": 208, \"New recovered\": 1109}, {\"Unnamed: 0\": 19376, \"Date\": \"2020-05-05T00:00:00\", \"Country/Region\": \"Canada\", \"Confirmed\": 63201, \"Deaths\": 4189, \"Recovered\": 27006.0, \"Active\": 32006.0, \"New cases\": 1258, \"New deaths\": 187, \"New recovered\": 976}, {\"Unnamed: 0\": 19562, \"Date\": \"2020-05-06T00:00:00\", \"Country/Region\": \"Canada\", \"Confirmed\": 64680, \"Deaths\": 4365, \"Recovered\": 28184.0, \"Active\": 32131.0, \"New cases\": 1479, \"New deaths\": 176, \"New recovered\": 1178}, {\"Unnamed: 0\": 19748, \"Date\": \"2020-05-07T00:00:00\", \"Country/Region\": \"Canada\", \"Confirmed\": 66187, \"Deaths\": 4540, \"Recovered\": 29260.0, \"Active\": 32387.0, \"New cases\": 1507, \"New deaths\": 175, \"New recovered\": 1076}, {\"Unnamed: 0\": 19934, \"Date\": \"2020-05-08T00:00:00\", \"Country/Region\": \"Canada\", \"Confirmed\": 67660, \"Deaths\": 4696, \"Recovered\": 30239.0, \"Active\": 32725.0, \"New cases\": 1473, \"New deaths\": 156, \"New recovered\": 979}, {\"Unnamed: 0\": 20120, \"Date\": \"2020-05-09T00:00:00\", \"Country/Region\": \"Canada\", \"Confirmed\": 68904, \"Deaths\": 4822, \"Recovered\": 31262.0, \"Active\": 32820.0, \"New cases\": 1244, \"New deaths\": 126, \"New recovered\": 1023}, {\"Unnamed: 0\": 20306, \"Date\": \"2020-05-10T00:00:00\", \"Country/Region\": \"Canada\", \"Confirmed\": 70077, \"Deaths\": 4990, \"Recovered\": 32109.0, \"Active\": 32978.0, \"New cases\": 1173, \"New deaths\": 168, \"New recovered\": 847}, {\"Unnamed: 0\": 20492, \"Date\": \"2020-05-11T00:00:00\", \"Country/Region\": \"Canada\", \"Confirmed\": 71250, \"Deaths\": 5114, \"Recovered\": 33007.0, \"Active\": 33129.0, \"New cases\": 1173, \"New deaths\": 124, \"New recovered\": 898}, {\"Unnamed: 0\": 20678, \"Date\": \"2020-05-12T00:00:00\", \"Country/Region\": \"Canada\", \"Confirmed\": 72405, \"Deaths\": 5299, \"Recovered\": 34055.0, \"Active\": 33051.0, \"New cases\": 1155, \"New deaths\": 185, \"New recovered\": 1048}, {\"Unnamed: 0\": 20864, \"Date\": \"2020-05-13T00:00:00\", \"Country/Region\": \"Canada\", \"Confirmed\": 73554, \"Deaths\": 5424, \"Recovered\": 35177.0, \"Active\": 32953.0, \"New cases\": 1149, \"New deaths\": 125, \"New recovered\": 1122}, {\"Unnamed: 0\": 21050, \"Date\": \"2020-05-14T00:00:00\", \"Country/Region\": \"Canada\", \"Confirmed\": 74767, \"Deaths\": 5591, \"Recovered\": 36104.0, \"Active\": 33072.0, \"New cases\": 1213, \"New deaths\": 167, \"New recovered\": 927}, {\"Unnamed: 0\": 21236, \"Date\": \"2020-05-15T00:00:00\", \"Country/Region\": \"Canada\", \"Confirmed\": 75945, \"Deaths\": 5678, \"Recovered\": 36908.0, \"Active\": 33359.0, \"New cases\": 1178, \"New deaths\": 87, \"New recovered\": 804}, {\"Unnamed: 0\": 21422, \"Date\": \"2020-05-16T00:00:00\", \"Country/Region\": \"Canada\", \"Confirmed\": 77192, \"Deaths\": 5799, \"Recovered\": 37832.0, \"Active\": 33561.0, \"New cases\": 1247, \"New deaths\": 121, \"New recovered\": 924}, {\"Unnamed: 0\": 21608, \"Date\": \"2020-05-17T00:00:00\", \"Country/Region\": \"Canada\", \"Confirmed\": 78318, \"Deaths\": 5902, \"Recovered\": 38563.0, \"Active\": 33853.0, \"New cases\": 1126, \"New deaths\": 103, \"New recovered\": 731}, {\"Unnamed: 0\": 21794, \"Date\": \"2020-05-18T00:00:00\", \"Country/Region\": \"Canada\", \"Confirmed\": 79397, \"Deaths\": 5959, \"Recovered\": 39251.0, \"Active\": 34187.0, \"New cases\": 1079, \"New deaths\": 57, \"New recovered\": 688}, {\"Unnamed: 0\": 21980, \"Date\": \"2020-05-19T00:00:00\", \"Country/Region\": \"Canada\", \"Confirmed\": 80479, \"Deaths\": 6027, \"Recovered\": 40069.0, \"Active\": 34383.0, \"New cases\": 1082, \"New deaths\": 68, \"New recovered\": 818}, {\"Unnamed: 0\": 22166, \"Date\": \"2020-05-20T00:00:00\", \"Country/Region\": \"Canada\", \"Confirmed\": 81561, \"Deaths\": 6149, \"Recovered\": 40793.0, \"Active\": 34619.0, \"New cases\": 1082, \"New deaths\": 122, \"New recovered\": 724}, {\"Unnamed: 0\": 22352, \"Date\": \"2020-05-21T00:00:00\", \"Country/Region\": \"Canada\", \"Confirmed\": 82728, \"Deaths\": 6266, \"Recovered\": 41731.0, \"Active\": 34731.0, \"New cases\": 1167, \"New deaths\": 117, \"New recovered\": 938}, {\"Unnamed: 0\": 22538, \"Date\": \"2020-05-22T00:00:00\", \"Country/Region\": \"Canada\", \"Confirmed\": 83933, \"Deaths\": 6359, \"Recovered\": 42608.0, \"Active\": 34966.0, \"New cases\": 1205, \"New deaths\": 93, \"New recovered\": 877}, {\"Unnamed: 0\": 22724, \"Date\": \"2020-05-23T00:00:00\", \"Country/Region\": \"Canada\", \"Confirmed\": 85137, \"Deaths\": 6465, \"Recovered\": 43318.0, \"Active\": 35354.0, \"New cases\": 1204, \"New deaths\": 106, \"New recovered\": 710}, {\"Unnamed: 0\": 22910, \"Date\": \"2020-05-24T00:00:00\", \"Country/Region\": \"Canada\", \"Confirmed\": 86092, \"Deaths\": 6533, \"Recovered\": 43998.0, \"Active\": 35561.0, \"New cases\": 955, \"New deaths\": 68, \"New recovered\": 680}, {\"Unnamed: 0\": 23096, \"Date\": \"2020-05-25T00:00:00\", \"Country/Region\": \"Canada\", \"Confirmed\": 87105, \"Deaths\": 6654, \"Recovered\": 44651.0, \"Active\": 35800.0, \"New cases\": 1013, \"New deaths\": 121, \"New recovered\": 653}, {\"Unnamed: 0\": 23282, \"Date\": \"2020-05-26T00:00:00\", \"Country/Region\": \"Canada\", \"Confirmed\": 88076, \"Deaths\": 6752, \"Recovered\": 45352.0, \"Active\": 35972.0, \"New cases\": 971, \"New deaths\": 98, \"New recovered\": 701}, {\"Unnamed: 0\": 23468, \"Date\": \"2020-05-27T00:00:00\", \"Country/Region\": \"Canada\", \"Confirmed\": 88975, \"Deaths\": 6875, \"Recovered\": 46248.0, \"Active\": 35852.0, \"New cases\": 899, \"New deaths\": 123, \"New recovered\": 896}, {\"Unnamed: 0\": 23654, \"Date\": \"2020-05-28T00:00:00\", \"Country/Region\": \"Canada\", \"Confirmed\": 89962, \"Deaths\": 6981, \"Recovered\": 46961.0, \"Active\": 36020.0, \"New cases\": 987, \"New deaths\": 106, \"New recovered\": 713}, {\"Unnamed: 0\": 23840, \"Date\": \"2020-05-29T00:00:00\", \"Country/Region\": \"Canada\", \"Confirmed\": 90895, \"Deaths\": 7062, \"Recovered\": 47905.0, \"Active\": 35928.0, \"New cases\": 933, \"New deaths\": 81, \"New recovered\": 944}, {\"Unnamed: 0\": 24026, \"Date\": \"2020-05-30T00:00:00\", \"Country/Region\": \"Canada\", \"Confirmed\": 91667, \"Deaths\": 7158, \"Recovered\": 48517.0, \"Active\": 35992.0, \"New cases\": 772, \"New deaths\": 96, \"New recovered\": 612}, {\"Unnamed: 0\": 24212, \"Date\": \"2020-05-31T00:00:00\", \"Country/Region\": \"Canada\", \"Confirmed\": 92465, \"Deaths\": 7373, \"Recovered\": 49213.0, \"Active\": 35879.0, \"New cases\": 798, \"New deaths\": 215, \"New recovered\": 696}, {\"Unnamed: 0\": 24398, \"Date\": \"2020-06-01T00:00:00\", \"Country/Region\": \"Canada\", \"Confirmed\": 93274, \"Deaths\": 7403, \"Recovered\": 50091.0, \"Active\": 35780.0, \"New cases\": 809, \"New deaths\": 30, \"New recovered\": 878}, {\"Unnamed: 0\": 24584, \"Date\": \"2020-06-02T00:00:00\", \"Country/Region\": \"Canada\", \"Confirmed\": 93947, \"Deaths\": 7477, \"Recovered\": 50725.0, \"Active\": 35745.0, \"New cases\": 673, \"New deaths\": 74, \"New recovered\": 634}, {\"Unnamed: 0\": 24770, \"Date\": \"2020-06-03T00:00:00\", \"Country/Region\": \"Canada\", \"Confirmed\": 94628, \"Deaths\": 7578, \"Recovered\": 51506.0, \"Active\": 35544.0, \"New cases\": 681, \"New deaths\": 101, \"New recovered\": 781}, {\"Unnamed: 0\": 24956, \"Date\": \"2020-06-04T00:00:00\", \"Country/Region\": \"Canada\", \"Confirmed\": 95256, \"Deaths\": 7716, \"Recovered\": 52184.0, \"Active\": 35356.0, \"New cases\": 628, \"New deaths\": 138, \"New recovered\": 678}, {\"Unnamed: 0\": 25142, \"Date\": \"2020-06-05T00:00:00\", \"Country/Region\": \"Canada\", \"Confirmed\": 95934, \"Deaths\": 7777, \"Recovered\": 53074.0, \"Active\": 35083.0, \"New cases\": 678, \"New deaths\": 61, \"New recovered\": 890}, {\"Unnamed: 0\": 25328, \"Date\": \"2020-06-06T00:00:00\", \"Country/Region\": \"Canada\", \"Confirmed\": 96462, \"Deaths\": 7849, \"Recovered\": 54087.0, \"Active\": 34526.0, \"New cases\": 528, \"New deaths\": 72, \"New recovered\": 1013}, {\"Unnamed: 0\": 25514, \"Date\": \"2020-06-07T00:00:00\", \"Country/Region\": \"Canada\", \"Confirmed\": 97165, \"Deaths\": 7876, \"Recovered\": 54675.0, \"Active\": 34614.0, \"New cases\": 703, \"New deaths\": 27, \"New recovered\": 588}, {\"Unnamed: 0\": 25700, \"Date\": \"2020-06-08T00:00:00\", \"Country/Region\": \"Canada\", \"Confirmed\": 97766, \"Deaths\": 7909, \"Recovered\": 55343.0, \"Active\": 34514.0, \"New cases\": 601, \"New deaths\": 33, \"New recovered\": 668}, {\"Unnamed: 0\": 25886, \"Date\": \"2020-06-09T00:00:00\", \"Country/Region\": \"Canada\", \"Confirmed\": 98228, \"Deaths\": 7969, \"Recovered\": 56117.0, \"Active\": 34142.0, \"New cases\": 462, \"New deaths\": 60, \"New recovered\": 774}, {\"Unnamed: 0\": 26072, \"Date\": \"2020-06-10T00:00:00\", \"Country/Region\": \"Canada\", \"Confirmed\": 98707, \"Deaths\": 8037, \"Recovered\": 57215.0, \"Active\": 33455.0, \"New cases\": 479, \"New deaths\": 68, \"New recovered\": 1098}, {\"Unnamed: 0\": 26258, \"Date\": \"2020-06-11T00:00:00\", \"Country/Region\": \"Canada\", \"Confirmed\": 99146, \"Deaths\": 8070, \"Recovered\": 58131.0, \"Active\": 32945.0, \"New cases\": 439, \"New deaths\": 33, \"New recovered\": 916}, {\"Unnamed: 0\": 26444, \"Date\": \"2020-06-12T00:00:00\", \"Country/Region\": \"Canada\", \"Confirmed\": 99582, \"Deaths\": 8124, \"Recovered\": 59034.0, \"Active\": 32424.0, \"New cases\": 436, \"New deaths\": 54, \"New recovered\": 903}, {\"Unnamed: 0\": 26630, \"Date\": \"2020-06-13T00:00:00\", \"Country/Region\": \"Canada\", \"Confirmed\": 100030, \"Deaths\": 8182, \"Recovered\": 59851.0, \"Active\": 31997.0, \"New cases\": 448, \"New deaths\": 58, \"New recovered\": 817}, {\"Unnamed: 0\": 26816, \"Date\": \"2020-06-14T00:00:00\", \"Country/Region\": \"Canada\", \"Confirmed\": 100391, \"Deaths\": 8217, \"Recovered\": 60668.0, \"Active\": 31506.0, \"New cases\": 361, \"New deaths\": 35, \"New recovered\": 817}, {\"Unnamed: 0\": 27002, \"Date\": \"2020-06-15T00:00:00\", \"Country/Region\": \"Canada\", \"Confirmed\": 100750, \"Deaths\": 8227, \"Recovered\": 61466.0, \"Active\": 31057.0, \"New cases\": 359, \"New deaths\": 10, \"New recovered\": 798}, {\"Unnamed: 0\": 27188, \"Date\": \"2020-06-16T00:00:00\", \"Country/Region\": \"Canada\", \"Confirmed\": 101074, \"Deaths\": 8270, \"Recovered\": 61899.0, \"Active\": 30905.0, \"New cases\": 324, \"New deaths\": 43, \"New recovered\": 433}, {\"Unnamed: 0\": 27374, \"Date\": \"2020-06-17T00:00:00\", \"Country/Region\": \"Canada\", \"Confirmed\": 101478, \"Deaths\": 8311, \"Recovered\": 63280.0, \"Active\": 29887.0, \"New cases\": 404, \"New deaths\": 41, \"New recovered\": 1381}, {\"Unnamed: 0\": 27560, \"Date\": \"2020-06-18T00:00:00\", \"Country/Region\": \"Canada\", \"Confirmed\": 101864, \"Deaths\": 8360, \"Recovered\": 63782.0, \"Active\": 29722.0, \"New cases\": 386, \"New deaths\": 49, \"New recovered\": 502}, {\"Unnamed: 0\": 27746, \"Date\": \"2020-06-19T00:00:00\", \"Country/Region\": \"Canada\", \"Confirmed\": 102301, \"Deaths\": 8407, \"Recovered\": 64318.0, \"Active\": 29576.0, \"New cases\": 437, \"New deaths\": 47, \"New recovered\": 536}, {\"Unnamed: 0\": 27932, \"Date\": \"2020-06-20T00:00:00\", \"Country/Region\": \"Canada\", \"Confirmed\": 102749, \"Deaths\": 8465, \"Recovered\": 64826.0, \"Active\": 29458.0, \"New cases\": 448, \"New deaths\": 58, \"New recovered\": 508}, {\"Unnamed: 0\": 28118, \"Date\": \"2020-06-21T00:00:00\", \"Country/Region\": \"Canada\", \"Confirmed\": 103065, \"Deaths\": 8481, \"Recovered\": 65249.0, \"Active\": 29335.0, \"New cases\": 316, \"New deaths\": 16, \"New recovered\": 423}, {\"Unnamed: 0\": 28304, \"Date\": \"2020-06-22T00:00:00\", \"Country/Region\": \"Canada\", \"Confirmed\": 103405, \"Deaths\": 8493, \"Recovered\": 65721.0, \"Active\": 29191.0, \"New cases\": 340, \"New deaths\": 12, \"New recovered\": 472}, {\"Unnamed: 0\": 28490, \"Date\": \"2020-06-23T00:00:00\", \"Country/Region\": \"Canada\", \"Confirmed\": 103754, \"Deaths\": 8511, \"Recovered\": 66135.0, \"Active\": 29108.0, \"New cases\": 349, \"New deaths\": 18, \"New recovered\": 414}, {\"Unnamed: 0\": 28676, \"Date\": \"2020-06-24T00:00:00\", \"Country/Region\": \"Canada\", \"Confirmed\": 104074, \"Deaths\": 8543, \"Recovered\": 66533.0, \"Active\": 28998.0, \"New cases\": 320, \"New deaths\": 32, \"New recovered\": 398}, {\"Unnamed: 0\": 28862, \"Date\": \"2020-06-25T00:00:00\", \"Country/Region\": \"Canada\", \"Confirmed\": 104450, \"Deaths\": 8566, \"Recovered\": 66869.0, \"Active\": 29015.0, \"New cases\": 376, \"New deaths\": 23, \"New recovered\": 336}, {\"Unnamed: 0\": 29048, \"Date\": \"2020-06-26T00:00:00\", \"Country/Region\": \"Canada\", \"Confirmed\": 104616, \"Deaths\": 8570, \"Recovered\": 67182.0, \"Active\": 28864.0, \"New cases\": 166, \"New deaths\": 4, \"New recovered\": 313}, {\"Unnamed: 0\": 29234, \"Date\": \"2020-06-27T00:00:00\", \"Country/Region\": \"Canada\", \"Confirmed\": 104865, \"Deaths\": 8575, \"Recovered\": 67445.0, \"Active\": 28845.0, \"New cases\": 249, \"New deaths\": 5, \"New recovered\": 263}, {\"Unnamed: 0\": 29420, \"Date\": \"2020-06-28T00:00:00\", \"Country/Region\": \"Canada\", \"Confirmed\": 105180, \"Deaths\": 8581, \"Recovered\": 67689.0, \"Active\": 28910.0, \"New cases\": 315, \"New deaths\": 6, \"New recovered\": 244}, {\"Unnamed: 0\": 29606, \"Date\": \"2020-06-29T00:00:00\", \"Country/Region\": \"Canada\", \"Confirmed\": 105817, \"Deaths\": 8627, \"Recovered\": 68698.0, \"Active\": 28492.0, \"New cases\": 637, \"New deaths\": 46, \"New recovered\": 1009}, {\"Unnamed: 0\": 29792, \"Date\": \"2020-06-30T00:00:00\", \"Country/Region\": \"Canada\", \"Confirmed\": 106084, \"Deaths\": 8649, \"Recovered\": 69120.0, \"Active\": 28315.0, \"New cases\": 267, \"New deaths\": 22, \"New recovered\": 422}, {\"Unnamed: 0\": 29978, \"Date\": \"2020-07-01T00:00:00\", \"Country/Region\": \"Canada\", \"Confirmed\": 106275, \"Deaths\": 8677, \"Recovered\": 69397.0, \"Active\": 28201.0, \"New cases\": 191, \"New deaths\": 28, \"New recovered\": 277}, {\"Unnamed: 0\": 30164, \"Date\": \"2020-07-02T00:00:00\", \"Country/Region\": \"Canada\", \"Confirmed\": 106630, \"Deaths\": 8699, \"Recovered\": 69872.0, \"Active\": 28059.0, \"New cases\": 355, \"New deaths\": 22, \"New recovered\": 475}, {\"Unnamed: 0\": 30350, \"Date\": \"2020-07-03T00:00:00\", \"Country/Region\": \"Canada\", \"Confirmed\": 106949, \"Deaths\": 8721, \"Recovered\": 70232.0, \"Active\": 27996.0, \"New cases\": 319, \"New deaths\": 22, \"New recovered\": 360}, {\"Unnamed: 0\": 30536, \"Date\": \"2020-07-04T00:00:00\", \"Country/Region\": \"Canada\", \"Confirmed\": 107172, \"Deaths\": 8731, \"Recovered\": 70507.0, \"Active\": 27934.0, \"New cases\": 223, \"New deaths\": 10, \"New recovered\": 275}, {\"Unnamed: 0\": 30722, \"Date\": \"2020-07-05T00:00:00\", \"Country/Region\": \"Canada\", \"Confirmed\": 107381, \"Deaths\": 8738, \"Recovered\": 70772.0, \"Active\": 27871.0, \"New cases\": 209, \"New deaths\": 7, \"New recovered\": 265}, {\"Unnamed: 0\": 30908, \"Date\": \"2020-07-06T00:00:00\", \"Country/Region\": \"Canada\", \"Confirmed\": 107802, \"Deaths\": 8747, \"Recovered\": 71141.0, \"Active\": 27914.0, \"New cases\": 421, \"New deaths\": 9, \"New recovered\": 369}, {\"Unnamed: 0\": 31094, \"Date\": \"2020-07-07T00:00:00\", \"Country/Region\": \"Canada\", \"Confirmed\": 108010, \"Deaths\": 8764, \"Recovered\": 71418.0, \"Active\": 27828.0, \"New cases\": 208, \"New deaths\": 17, \"New recovered\": 277}, {\"Unnamed: 0\": 31280, \"Date\": \"2020-07-08T00:00:00\", \"Country/Region\": \"Canada\", \"Confirmed\": 108321, \"Deaths\": 8785, \"Recovered\": 71805.0, \"Active\": 27731.0, \"New cases\": 311, \"New deaths\": 21, \"New recovered\": 387}, {\"Unnamed: 0\": 31466, \"Date\": \"2020-07-09T00:00:00\", \"Country/Region\": \"Canada\", \"Confirmed\": 108643, \"Deaths\": 8796, \"Recovered\": 72095.0, \"Active\": 27752.0, \"New cases\": 322, \"New deaths\": 11, \"New recovered\": 290}, {\"Unnamed: 0\": 31652, \"Date\": \"2020-07-10T00:00:00\", \"Country/Region\": \"Canada\", \"Confirmed\": 108971, \"Deaths\": 8810, \"Recovered\": 72466.0, \"Active\": 27695.0, \"New cases\": 328, \"New deaths\": 14, \"New recovered\": 371}, {\"Unnamed: 0\": 31838, \"Date\": \"2020-07-11T00:00:00\", \"Country/Region\": \"Canada\", \"Confirmed\": 109137, \"Deaths\": 8817, \"Recovered\": 72784.0, \"Active\": 27536.0, \"New cases\": 166, \"New deaths\": 7, \"New recovered\": 318}, {\"Unnamed: 0\": 32024, \"Date\": \"2020-07-12T00:00:00\", \"Country/Region\": \"Canada\", \"Confirmed\": 109335, \"Deaths\": 8828, \"Recovered\": 72954.0, \"Active\": 27553.0, \"New cases\": 198, \"New deaths\": 11, \"New recovered\": 170}, {\"Unnamed: 0\": 32210, \"Date\": \"2020-07-13T00:00:00\", \"Country/Region\": \"Canada\", \"Confirmed\": 109971, \"Deaths\": 8835, \"Recovered\": 73381.0, \"Active\": 27755.0, \"New cases\": 636, \"New deaths\": 7, \"New recovered\": 427}, {\"Unnamed: 0\": 32396, \"Date\": \"2020-07-14T00:00:00\", \"Country/Region\": \"Canada\", \"Confirmed\": 110337, \"Deaths\": 8844, \"Recovered\": 73713.0, \"Active\": 27780.0, \"New cases\": 366, \"New deaths\": 9, \"New recovered\": 332}, {\"Unnamed: 0\": 32582, \"Date\": \"2020-07-15T00:00:00\", \"Country/Region\": \"Canada\", \"Confirmed\": 110680, \"Deaths\": 8856, \"Recovered\": 74067.0, \"Active\": 27757.0, \"New cases\": 343, \"New deaths\": 12, \"New recovered\": 354}, {\"Unnamed: 0\": 32768, \"Date\": \"2020-07-16T00:00:00\", \"Country/Region\": \"Canada\", \"Confirmed\": 111131, \"Deaths\": 8874, \"Recovered\": 74433.0, \"Active\": 27824.0, \"New cases\": 451, \"New deaths\": 18, \"New recovered\": 366}, {\"Unnamed: 0\": 32954, \"Date\": \"2020-07-17T00:00:00\", \"Country/Region\": \"Canada\", \"Confirmed\": 111546, \"Deaths\": 8883, \"Recovered\": 98281.0, \"Active\": 4382.0, \"New cases\": 415, \"New deaths\": 9, \"New recovered\": 23848}, {\"Unnamed: 0\": 33140, \"Date\": \"2020-07-18T00:00:00\", \"Country/Region\": \"Canada\", \"Confirmed\": 111862, \"Deaths\": 8891, \"Recovered\": 98436.0, \"Active\": 4535.0, \"New cases\": 316, \"New deaths\": 8, \"New recovered\": 155}, {\"Unnamed: 0\": 33326, \"Date\": \"2020-07-19T00:00:00\", \"Country/Region\": \"Canada\", \"Confirmed\": 112155, \"Deaths\": 8895, \"Recovered\": 98564.0, \"Active\": 4696.0, \"New cases\": 293, \"New deaths\": 4, \"New recovered\": 128}, {\"Unnamed: 0\": 33512, \"Date\": \"2020-07-20T00:00:00\", \"Country/Region\": \"Canada\", \"Confirmed\": 112925, \"Deaths\": 8901, \"Recovered\": 98975.0, \"Active\": 5049.0, \"New cases\": 770, \"New deaths\": 6, \"New recovered\": 411}, {\"Unnamed: 0\": 33698, \"Date\": \"2020-07-21T00:00:00\", \"Country/Region\": \"Canada\", \"Confirmed\": 113460, \"Deaths\": 8907, \"Recovered\": 99248.0, \"Active\": 5305.0, \"New cases\": 535, \"New deaths\": 6, \"New recovered\": 273}, {\"Unnamed: 0\": 33884, \"Date\": \"2020-07-22T00:00:00\", \"Country/Region\": \"Canada\", \"Confirmed\": 113777, \"Deaths\": 8912, \"Recovered\": 99501.0, \"Active\": 5364.0, \"New cases\": 317, \"New deaths\": 5, \"New recovered\": 253}, {\"Unnamed: 0\": 34070, \"Date\": \"2020-07-23T00:00:00\", \"Country/Region\": \"Canada\", \"Confirmed\": 114385, \"Deaths\": 8918, \"Recovered\": 99937.0, \"Active\": 5530.0, \"New cases\": 608, \"New deaths\": 6, \"New recovered\": 436}, {\"Unnamed: 0\": 34256, \"Date\": \"2020-07-24T00:00:00\", \"Country/Region\": \"Canada\", \"Confirmed\": 115102, \"Deaths\": 8922, \"Recovered\": 100504.0, \"Active\": 5676.0, \"New cases\": 717, \"New deaths\": 4, \"New recovered\": 567}, {\"Unnamed: 0\": 34442, \"Date\": \"2020-07-25T00:00:00\", \"Country/Region\": \"Canada\", \"Confirmed\": 115457, \"Deaths\": 8928, \"Recovered\": 100765.0, \"Active\": 5764.0, \"New cases\": 355, \"New deaths\": 6, \"New recovered\": 261}, {\"Unnamed: 0\": 34628, \"Date\": \"2020-07-26T00:00:00\", \"Country/Region\": \"Canada\", \"Confirmed\": 115776, \"Deaths\": 8933, \"Recovered\": 100969.0, \"Active\": 5874.0, \"New cases\": 319, \"New deaths\": 5, \"New recovered\": 204}, {\"Unnamed: 0\": 34814, \"Date\": \"2020-07-27T00:00:00\", \"Country/Region\": \"Canada\", \"Confirmed\": 116458, \"Deaths\": 8944, \"Recovered\": 101447.0, \"Active\": 6067.0, \"New cases\": 682, \"New deaths\": 11, \"New recovered\": 478}, {\"Unnamed: 0\": 35000, \"Date\": \"2020-07-28T00:00:00\", \"Country/Region\": \"Canada\", \"Confirmed\": 116858, \"Deaths\": 8956, \"Recovered\": 101686.0, \"Active\": 6216.0, \"New cases\": 400, \"New deaths\": 12, \"New recovered\": 239}]}}, {\"mode\": \"vega-lite\"});\n",
       "</script>"
      ],
      "text/plain": [
       "alt.Chart(...)"
      ]
     },
     "execution_count": 36,
     "metadata": {},
     "output_type": "execute_result"
    }
   ],
   "source": [
    "green = alt.value(\"#338f5d\")\n",
    "base.encode(y=\"Recovered\", color=green).properties(title='Total Recovered')"
   ]
  },
  {
   "cell_type": "code",
   "execution_count": 45,
   "metadata": {},
   "outputs": [],
   "source": [
    "countries = ['US', 'India','Canada', 'Italy', 'China', 'Spain', 'Germany', 'France', 'Iran', 'United Kingdom', 'Switzerland']\n",
    "selected_countries = full_grouped[full_grouped['Country/Region'].isin(countries)]"
   ]
  },
  {
   "cell_type": "code",
   "execution_count": 46,
   "metadata": {},
   "outputs": [
    {
     "data": {
      "text/html": [
       "\n",
       "<div id=\"altair-viz-9be5e76f7f474cbabb5d4d5e5d5545f4\"></div>\n",
       "<script type=\"text/javascript\">\n",
       "  (function(spec, embedOpt){\n",
       "    let outputDiv = document.currentScript.previousElementSibling;\n",
       "    if (outputDiv.id !== \"altair-viz-9be5e76f7f474cbabb5d4d5e5d5545f4\") {\n",
       "      outputDiv = document.getElementById(\"altair-viz-9be5e76f7f474cbabb5d4d5e5d5545f4\");\n",
       "    }\n",
       "    const paths = {\n",
       "      \"vega\": \"https://cdn.jsdelivr.net/npm//vega@5?noext\",\n",
       "      \"vega-lib\": \"https://cdn.jsdelivr.net/npm//vega-lib?noext\",\n",
       "      \"vega-lite\": \"https://cdn.jsdelivr.net/npm//vega-lite@4.8.1?noext\",\n",
       "      \"vega-embed\": \"https://cdn.jsdelivr.net/npm//vega-embed@6?noext\",\n",
       "    };\n",
       "\n",
       "    function loadScript(lib) {\n",
       "      return new Promise(function(resolve, reject) {\n",
       "        var s = document.createElement('script');\n",
       "        s.src = paths[lib];\n",
       "        s.async = true;\n",
       "        s.onload = () => resolve(paths[lib]);\n",
       "        s.onerror = () => reject(`Error loading script: ${paths[lib]}`);\n",
       "        document.getElementsByTagName(\"head\")[0].appendChild(s);\n",
       "      });\n",
       "    }\n",
       "\n",
       "    function showError(err) {\n",
       "      outputDiv.innerHTML = `<div class=\"error\" style=\"color:red;\">${err}</div>`;\n",
       "      throw err;\n",
       "    }\n",
       "\n",
       "    function displayChart(vegaEmbed) {\n",
       "      vegaEmbed(outputDiv, spec, embedOpt)\n",
       "        .catch(err => showError(`Javascript Error: ${err.message}<br>This usually means there's a typo in your chart specification. See the javascript console for the full traceback.`));\n",
       "    }\n",
       "\n",
       "    if(typeof define === \"function\" && define.amd) {\n",
       "      requirejs.config({paths});\n",
       "      require([\"vega-embed\"], displayChart, err => showError(`Error loading script: ${err.message}`));\n",
       "    } else if (typeof vegaEmbed === \"function\") {\n",
       "      displayChart(vegaEmbed);\n",
       "    } else {\n",
       "      loadScript(\"vega\")\n",
       "        .then(() => loadScript(\"vega-lite\"))\n",
       "        .then(() => loadScript(\"vega-embed\"))\n",
       "        .catch(showError)\n",
       "        .then(() => displayChart(vegaEmbed));\n",
       "    }\n",
       "  })({\"config\": {\"view\": {\"continuousWidth\": 400, \"continuousHeight\": 300}}, \"data\": {\"name\": \"data-1a1023d9d3507c908f9fd4b2b5e241e6\"}, \"mark\": \"circle\", \"encoding\": {\"color\": {\"type\": \"nominal\", \"field\": \"Country/Region\"}, \"size\": {\"type\": \"quantitative\", \"field\": \"New cases\", \"legend\": {\"title\": \"Daily new cases\"}, \"scale\": {\"range\": [0, 1000]}}, \"x\": {\"type\": \"ordinal\", \"field\": \"Date\", \"timeUnit\": \"monthdate\"}, \"y\": {\"type\": \"nominal\", \"field\": \"Country/Region\"}}, \"height\": 300, \"width\": 800, \"$schema\": \"https://vega.github.io/schema/vega-lite/v4.8.1.json\", \"datasets\": {\"data-1a1023d9d3507c908f9fd4b2b5e241e6\": [{\"Unnamed: 0\": 32, \"Date\": \"2020-01-22T00:00:00\", \"Country/Region\": \"Canada\", \"Confirmed\": 0, \"Deaths\": 0, \"Recovered\": 0.0, \"Active\": 0.0, \"New cases\": 0, \"New deaths\": 0, \"New recovered\": 0}, {\"Unnamed: 0\": 36, \"Date\": \"2020-01-22T00:00:00\", \"Country/Region\": \"China\", \"Confirmed\": 548, \"Deaths\": 17, \"Recovered\": 28.0, \"Active\": 503.0, \"New cases\": 0, \"New deaths\": 0, \"New recovered\": 0}, {\"Unnamed: 0\": 61, \"Date\": \"2020-01-22T00:00:00\", \"Country/Region\": \"France\", \"Confirmed\": 0, \"Deaths\": 0, \"Recovered\": 0.0, \"Active\": 0.0, \"New cases\": 0, \"New deaths\": 0, \"New recovered\": 0}, {\"Unnamed: 0\": 65, \"Date\": \"2020-01-22T00:00:00\", \"Country/Region\": \"Germany\", \"Confirmed\": 0, \"Deaths\": 0, \"Recovered\": 0.0, \"Active\": 0.0, \"New cases\": 0, \"New deaths\": 0, \"New recovered\": 0}, {\"Unnamed: 0\": 78, \"Date\": \"2020-01-22T00:00:00\", \"Country/Region\": \"India\", \"Confirmed\": 0, \"Deaths\": 0, \"Recovered\": 0.0, \"Active\": 0.0, \"New cases\": 0, \"New deaths\": 0, \"New recovered\": 0}, {\"Unnamed: 0\": 80, \"Date\": \"2020-01-22T00:00:00\", \"Country/Region\": \"Iran\", \"Confirmed\": 0, \"Deaths\": 0, \"Recovered\": 0.0, \"Active\": 0.0, \"New cases\": 0, \"New deaths\": 0, \"New recovered\": 0}, {\"Unnamed: 0\": 84, \"Date\": \"2020-01-22T00:00:00\", \"Country/Region\": \"Italy\", \"Confirmed\": 0, \"Deaths\": 0, \"Recovered\": 0.0, \"Active\": 0.0, \"New cases\": 0, \"New deaths\": 0, \"New recovered\": 0}, {\"Unnamed: 0\": 156, \"Date\": \"2020-01-22T00:00:00\", \"Country/Region\": \"Spain\", \"Confirmed\": 0, \"Deaths\": 0, \"Recovered\": 0.0, \"Active\": 0.0, \"New cases\": 0, \"New deaths\": 0, \"New recovered\": 0}, {\"Unnamed: 0\": 161, \"Date\": \"2020-01-22T00:00:00\", \"Country/Region\": \"Switzerland\", \"Confirmed\": 0, \"Deaths\": 0, \"Recovered\": 0.0, \"Active\": 0.0, \"New cases\": 0, \"New deaths\": 0, \"New recovered\": 0}, {\"Unnamed: 0\": 172, \"Date\": \"2020-01-22T00:00:00\", \"Country/Region\": \"US\", \"Confirmed\": 1, \"Deaths\": 0, \"Recovered\": 0.0, \"Active\": 1.0, \"New cases\": 0, \"New deaths\": 0, \"New recovered\": 0}, {\"Unnamed: 0\": 176, \"Date\": \"2020-01-22T00:00:00\", \"Country/Region\": \"United Kingdom\", \"Confirmed\": 0, \"Deaths\": 0, \"Recovered\": 0.0, \"Active\": 0.0, \"New cases\": 0, \"New deaths\": 0, \"New recovered\": 0}, {\"Unnamed: 0\": 218, \"Date\": \"2020-01-23T00:00:00\", \"Country/Region\": \"Canada\", \"Confirmed\": 0, \"Deaths\": 0, \"Recovered\": 0.0, \"Active\": 0.0, \"New cases\": 0, \"New deaths\": 0, \"New recovered\": 0}, {\"Unnamed: 0\": 222, \"Date\": \"2020-01-23T00:00:00\", \"Country/Region\": \"China\", \"Confirmed\": 643, \"Deaths\": 18, \"Recovered\": 30.0, \"Active\": 595.0, \"New cases\": 95, \"New deaths\": 1, \"New recovered\": 2}, {\"Unnamed: 0\": 247, \"Date\": \"2020-01-23T00:00:00\", \"Country/Region\": \"France\", \"Confirmed\": 0, \"Deaths\": 0, \"Recovered\": 0.0, \"Active\": 0.0, \"New cases\": 0, \"New deaths\": 0, \"New recovered\": 0}, {\"Unnamed: 0\": 251, \"Date\": \"2020-01-23T00:00:00\", \"Country/Region\": \"Germany\", \"Confirmed\": 0, \"Deaths\": 0, \"Recovered\": 0.0, \"Active\": 0.0, \"New cases\": 0, \"New deaths\": 0, \"New recovered\": 0}, {\"Unnamed: 0\": 264, \"Date\": \"2020-01-23T00:00:00\", \"Country/Region\": \"India\", \"Confirmed\": 0, \"Deaths\": 0, \"Recovered\": 0.0, \"Active\": 0.0, \"New cases\": 0, \"New deaths\": 0, \"New recovered\": 0}, {\"Unnamed: 0\": 266, \"Date\": \"2020-01-23T00:00:00\", \"Country/Region\": \"Iran\", \"Confirmed\": 0, \"Deaths\": 0, \"Recovered\": 0.0, \"Active\": 0.0, \"New cases\": 0, \"New deaths\": 0, \"New recovered\": 0}, {\"Unnamed: 0\": 270, \"Date\": \"2020-01-23T00:00:00\", \"Country/Region\": \"Italy\", \"Confirmed\": 0, \"Deaths\": 0, \"Recovered\": 0.0, \"Active\": 0.0, \"New cases\": 0, \"New deaths\": 0, \"New recovered\": 0}, {\"Unnamed: 0\": 342, \"Date\": \"2020-01-23T00:00:00\", \"Country/Region\": \"Spain\", \"Confirmed\": 0, \"Deaths\": 0, \"Recovered\": 0.0, \"Active\": 0.0, \"New cases\": 0, \"New deaths\": 0, \"New recovered\": 0}, {\"Unnamed: 0\": 347, \"Date\": \"2020-01-23T00:00:00\", \"Country/Region\": \"Switzerland\", \"Confirmed\": 0, \"Deaths\": 0, \"Recovered\": 0.0, \"Active\": 0.0, \"New cases\": 0, \"New deaths\": 0, \"New recovered\": 0}, {\"Unnamed: 0\": 358, \"Date\": \"2020-01-23T00:00:00\", \"Country/Region\": \"US\", \"Confirmed\": 1, \"Deaths\": 0, \"Recovered\": 0.0, \"Active\": 1.0, \"New cases\": 0, \"New deaths\": 0, \"New recovered\": 0}, {\"Unnamed: 0\": 362, \"Date\": \"2020-01-23T00:00:00\", \"Country/Region\": \"United Kingdom\", \"Confirmed\": 0, \"Deaths\": 0, \"Recovered\": 0.0, \"Active\": 0.0, \"New cases\": 0, \"New deaths\": 0, \"New recovered\": 0}, {\"Unnamed: 0\": 404, \"Date\": \"2020-01-24T00:00:00\", \"Country/Region\": \"Canada\", \"Confirmed\": 0, \"Deaths\": 0, \"Recovered\": 0.0, \"Active\": 0.0, \"New cases\": 0, \"New deaths\": 0, \"New recovered\": 0}, {\"Unnamed: 0\": 408, \"Date\": \"2020-01-24T00:00:00\", \"Country/Region\": \"China\", \"Confirmed\": 920, \"Deaths\": 26, \"Recovered\": 36.0, \"Active\": 858.0, \"New cases\": 277, \"New deaths\": 8, \"New recovered\": 6}, {\"Unnamed: 0\": 433, \"Date\": \"2020-01-24T00:00:00\", \"Country/Region\": \"France\", \"Confirmed\": 2, \"Deaths\": 0, \"Recovered\": 0.0, \"Active\": 2.0, \"New cases\": 2, \"New deaths\": 0, \"New recovered\": 0}, {\"Unnamed: 0\": 437, \"Date\": \"2020-01-24T00:00:00\", \"Country/Region\": \"Germany\", \"Confirmed\": 0, \"Deaths\": 0, \"Recovered\": 0.0, \"Active\": 0.0, \"New cases\": 0, \"New deaths\": 0, \"New recovered\": 0}, {\"Unnamed: 0\": 450, \"Date\": \"2020-01-24T00:00:00\", \"Country/Region\": \"India\", \"Confirmed\": 0, \"Deaths\": 0, \"Recovered\": 0.0, \"Active\": 0.0, \"New cases\": 0, \"New deaths\": 0, \"New recovered\": 0}, {\"Unnamed: 0\": 452, \"Date\": \"2020-01-24T00:00:00\", \"Country/Region\": \"Iran\", \"Confirmed\": 0, \"Deaths\": 0, \"Recovered\": 0.0, \"Active\": 0.0, \"New cases\": 0, \"New deaths\": 0, \"New recovered\": 0}, {\"Unnamed: 0\": 456, \"Date\": \"2020-01-24T00:00:00\", \"Country/Region\": \"Italy\", \"Confirmed\": 0, \"Deaths\": 0, \"Recovered\": 0.0, \"Active\": 0.0, \"New cases\": 0, \"New deaths\": 0, \"New recovered\": 0}, {\"Unnamed: 0\": 528, \"Date\": \"2020-01-24T00:00:00\", \"Country/Region\": \"Spain\", \"Confirmed\": 0, \"Deaths\": 0, \"Recovered\": 0.0, \"Active\": 0.0, \"New cases\": 0, \"New deaths\": 0, \"New recovered\": 0}, {\"Unnamed: 0\": 533, \"Date\": \"2020-01-24T00:00:00\", \"Country/Region\": \"Switzerland\", \"Confirmed\": 0, \"Deaths\": 0, \"Recovered\": 0.0, \"Active\": 0.0, \"New cases\": 0, \"New deaths\": 0, \"New recovered\": 0}, {\"Unnamed: 0\": 544, \"Date\": \"2020-01-24T00:00:00\", \"Country/Region\": \"US\", \"Confirmed\": 2, \"Deaths\": 0, \"Recovered\": 0.0, \"Active\": 2.0, \"New cases\": 1, \"New deaths\": 0, \"New recovered\": 0}, {\"Unnamed: 0\": 548, \"Date\": \"2020-01-24T00:00:00\", \"Country/Region\": \"United Kingdom\", \"Confirmed\": 0, \"Deaths\": 0, \"Recovered\": 0.0, \"Active\": 0.0, \"New cases\": 0, \"New deaths\": 0, \"New recovered\": 0}, {\"Unnamed: 0\": 590, \"Date\": \"2020-01-25T00:00:00\", \"Country/Region\": \"Canada\", \"Confirmed\": 0, \"Deaths\": 0, \"Recovered\": 0.0, \"Active\": 0.0, \"New cases\": 0, \"New deaths\": 0, \"New recovered\": 0}, {\"Unnamed: 0\": 594, \"Date\": \"2020-01-25T00:00:00\", \"Country/Region\": \"China\", \"Confirmed\": 1406, \"Deaths\": 42, \"Recovered\": 39.0, \"Active\": 1325.0, \"New cases\": 486, \"New deaths\": 16, \"New recovered\": 3}, {\"Unnamed: 0\": 619, \"Date\": \"2020-01-25T00:00:00\", \"Country/Region\": \"France\", \"Confirmed\": 3, \"Deaths\": 0, \"Recovered\": 0.0, \"Active\": 3.0, \"New cases\": 1, \"New deaths\": 0, \"New recovered\": 0}, {\"Unnamed: 0\": 623, \"Date\": \"2020-01-25T00:00:00\", \"Country/Region\": \"Germany\", \"Confirmed\": 0, \"Deaths\": 0, \"Recovered\": 0.0, \"Active\": 0.0, \"New cases\": 0, \"New deaths\": 0, \"New recovered\": 0}, {\"Unnamed: 0\": 636, \"Date\": \"2020-01-25T00:00:00\", \"Country/Region\": \"India\", \"Confirmed\": 0, \"Deaths\": 0, \"Recovered\": 0.0, \"Active\": 0.0, \"New cases\": 0, \"New deaths\": 0, \"New recovered\": 0}, {\"Unnamed: 0\": 638, \"Date\": \"2020-01-25T00:00:00\", \"Country/Region\": \"Iran\", \"Confirmed\": 0, \"Deaths\": 0, \"Recovered\": 0.0, \"Active\": 0.0, \"New cases\": 0, \"New deaths\": 0, \"New recovered\": 0}, {\"Unnamed: 0\": 642, \"Date\": \"2020-01-25T00:00:00\", \"Country/Region\": \"Italy\", \"Confirmed\": 0, \"Deaths\": 0, \"Recovered\": 0.0, \"Active\": 0.0, \"New cases\": 0, \"New deaths\": 0, \"New recovered\": 0}, {\"Unnamed: 0\": 714, \"Date\": \"2020-01-25T00:00:00\", \"Country/Region\": \"Spain\", \"Confirmed\": 0, \"Deaths\": 0, \"Recovered\": 0.0, \"Active\": 0.0, \"New cases\": 0, \"New deaths\": 0, \"New recovered\": 0}, {\"Unnamed: 0\": 719, \"Date\": \"2020-01-25T00:00:00\", \"Country/Region\": \"Switzerland\", \"Confirmed\": 0, \"Deaths\": 0, \"Recovered\": 0.0, \"Active\": 0.0, \"New cases\": 0, \"New deaths\": 0, \"New recovered\": 0}, {\"Unnamed: 0\": 730, \"Date\": \"2020-01-25T00:00:00\", \"Country/Region\": \"US\", \"Confirmed\": 2, \"Deaths\": 0, \"Recovered\": 0.0, \"Active\": 2.0, \"New cases\": 0, \"New deaths\": 0, \"New recovered\": 0}, {\"Unnamed: 0\": 734, \"Date\": \"2020-01-25T00:00:00\", \"Country/Region\": \"United Kingdom\", \"Confirmed\": 0, \"Deaths\": 0, \"Recovered\": 0.0, \"Active\": 0.0, \"New cases\": 0, \"New deaths\": 0, \"New recovered\": 0}, {\"Unnamed: 0\": 776, \"Date\": \"2020-01-26T00:00:00\", \"Country/Region\": \"Canada\", \"Confirmed\": 1, \"Deaths\": 0, \"Recovered\": 0.0, \"Active\": 1.0, \"New cases\": 1, \"New deaths\": 0, \"New recovered\": 0}, {\"Unnamed: 0\": 780, \"Date\": \"2020-01-26T00:00:00\", \"Country/Region\": \"China\", \"Confirmed\": 2075, \"Deaths\": 56, \"Recovered\": 49.0, \"Active\": 1970.0, \"New cases\": 669, \"New deaths\": 14, \"New recovered\": 10}, {\"Unnamed: 0\": 805, \"Date\": \"2020-01-26T00:00:00\", \"Country/Region\": \"France\", \"Confirmed\": 3, \"Deaths\": 0, \"Recovered\": 0.0, \"Active\": 3.0, \"New cases\": 0, \"New deaths\": 0, \"New recovered\": 0}, {\"Unnamed: 0\": 809, \"Date\": \"2020-01-26T00:00:00\", \"Country/Region\": \"Germany\", \"Confirmed\": 0, \"Deaths\": 0, \"Recovered\": 0.0, \"Active\": 0.0, \"New cases\": 0, \"New deaths\": 0, \"New recovered\": 0}, {\"Unnamed: 0\": 822, \"Date\": \"2020-01-26T00:00:00\", \"Country/Region\": \"India\", \"Confirmed\": 0, \"Deaths\": 0, \"Recovered\": 0.0, \"Active\": 0.0, \"New cases\": 0, \"New deaths\": 0, \"New recovered\": 0}, {\"Unnamed: 0\": 824, \"Date\": \"2020-01-26T00:00:00\", \"Country/Region\": \"Iran\", \"Confirmed\": 0, \"Deaths\": 0, \"Recovered\": 0.0, \"Active\": 0.0, \"New cases\": 0, \"New deaths\": 0, \"New recovered\": 0}, {\"Unnamed: 0\": 828, \"Date\": \"2020-01-26T00:00:00\", \"Country/Region\": \"Italy\", \"Confirmed\": 0, \"Deaths\": 0, \"Recovered\": 0.0, \"Active\": 0.0, \"New cases\": 0, \"New deaths\": 0, \"New recovered\": 0}, {\"Unnamed: 0\": 900, \"Date\": \"2020-01-26T00:00:00\", \"Country/Region\": \"Spain\", \"Confirmed\": 0, \"Deaths\": 0, \"Recovered\": 0.0, \"Active\": 0.0, \"New cases\": 0, \"New deaths\": 0, \"New recovered\": 0}, {\"Unnamed: 0\": 905, \"Date\": \"2020-01-26T00:00:00\", \"Country/Region\": \"Switzerland\", \"Confirmed\": 0, \"Deaths\": 0, \"Recovered\": 0.0, \"Active\": 0.0, \"New cases\": 0, \"New deaths\": 0, \"New recovered\": 0}, {\"Unnamed: 0\": 916, \"Date\": \"2020-01-26T00:00:00\", \"Country/Region\": \"US\", \"Confirmed\": 5, \"Deaths\": 0, \"Recovered\": 0.0, \"Active\": 5.0, \"New cases\": 3, \"New deaths\": 0, \"New recovered\": 0}, {\"Unnamed: 0\": 920, \"Date\": \"2020-01-26T00:00:00\", \"Country/Region\": \"United Kingdom\", \"Confirmed\": 0, \"Deaths\": 0, \"Recovered\": 0.0, \"Active\": 0.0, \"New cases\": 0, \"New deaths\": 0, \"New recovered\": 0}, {\"Unnamed: 0\": 962, \"Date\": \"2020-01-27T00:00:00\", \"Country/Region\": \"Canada\", \"Confirmed\": 1, \"Deaths\": 0, \"Recovered\": 0.0, \"Active\": 1.0, \"New cases\": 0, \"New deaths\": 0, \"New recovered\": 0}, {\"Unnamed: 0\": 966, \"Date\": \"2020-01-27T00:00:00\", \"Country/Region\": \"China\", \"Confirmed\": 2877, \"Deaths\": 82, \"Recovered\": 58.0, \"Active\": 2737.0, \"New cases\": 802, \"New deaths\": 26, \"New recovered\": 9}, {\"Unnamed: 0\": 991, \"Date\": \"2020-01-27T00:00:00\", \"Country/Region\": \"France\", \"Confirmed\": 3, \"Deaths\": 0, \"Recovered\": 0.0, \"Active\": 3.0, \"New cases\": 0, \"New deaths\": 0, \"New recovered\": 0}, {\"Unnamed: 0\": 995, \"Date\": \"2020-01-27T00:00:00\", \"Country/Region\": \"Germany\", \"Confirmed\": 1, \"Deaths\": 0, \"Recovered\": 0.0, \"Active\": 1.0, \"New cases\": 1, \"New deaths\": 0, \"New recovered\": 0}, {\"Unnamed: 0\": 1008, \"Date\": \"2020-01-27T00:00:00\", \"Country/Region\": \"India\", \"Confirmed\": 0, \"Deaths\": 0, \"Recovered\": 0.0, \"Active\": 0.0, \"New cases\": 0, \"New deaths\": 0, \"New recovered\": 0}, {\"Unnamed: 0\": 1010, \"Date\": \"2020-01-27T00:00:00\", \"Country/Region\": \"Iran\", \"Confirmed\": 0, \"Deaths\": 0, \"Recovered\": 0.0, \"Active\": 0.0, \"New cases\": 0, \"New deaths\": 0, \"New recovered\": 0}, {\"Unnamed: 0\": 1014, \"Date\": \"2020-01-27T00:00:00\", \"Country/Region\": \"Italy\", \"Confirmed\": 0, \"Deaths\": 0, \"Recovered\": 0.0, \"Active\": 0.0, \"New cases\": 0, \"New deaths\": 0, \"New recovered\": 0}, {\"Unnamed: 0\": 1086, \"Date\": \"2020-01-27T00:00:00\", \"Country/Region\": \"Spain\", \"Confirmed\": 0, \"Deaths\": 0, \"Recovered\": 0.0, \"Active\": 0.0, \"New cases\": 0, \"New deaths\": 0, \"New recovered\": 0}, {\"Unnamed: 0\": 1091, \"Date\": \"2020-01-27T00:00:00\", \"Country/Region\": \"Switzerland\", \"Confirmed\": 0, \"Deaths\": 0, \"Recovered\": 0.0, \"Active\": 0.0, \"New cases\": 0, \"New deaths\": 0, \"New recovered\": 0}, {\"Unnamed: 0\": 1102, \"Date\": \"2020-01-27T00:00:00\", \"Country/Region\": \"US\", \"Confirmed\": 5, \"Deaths\": 0, \"Recovered\": 0.0, \"Active\": 5.0, \"New cases\": 0, \"New deaths\": 0, \"New recovered\": 0}, {\"Unnamed: 0\": 1106, \"Date\": \"2020-01-27T00:00:00\", \"Country/Region\": \"United Kingdom\", \"Confirmed\": 0, \"Deaths\": 0, \"Recovered\": 0.0, \"Active\": 0.0, \"New cases\": 0, \"New deaths\": 0, \"New recovered\": 0}, {\"Unnamed: 0\": 1148, \"Date\": \"2020-01-28T00:00:00\", \"Country/Region\": \"Canada\", \"Confirmed\": 2, \"Deaths\": 0, \"Recovered\": 0.0, \"Active\": 2.0, \"New cases\": 1, \"New deaths\": 0, \"New recovered\": 0}, {\"Unnamed: 0\": 1152, \"Date\": \"2020-01-28T00:00:00\", \"Country/Region\": \"China\", \"Confirmed\": 5509, \"Deaths\": 131, \"Recovered\": 101.0, \"Active\": 5277.0, \"New cases\": 2632, \"New deaths\": 49, \"New recovered\": 43}, {\"Unnamed: 0\": 1177, \"Date\": \"2020-01-28T00:00:00\", \"Country/Region\": \"France\", \"Confirmed\": 4, \"Deaths\": 0, \"Recovered\": 0.0, \"Active\": 4.0, \"New cases\": 1, \"New deaths\": 0, \"New recovered\": 0}, {\"Unnamed: 0\": 1181, \"Date\": \"2020-01-28T00:00:00\", \"Country/Region\": \"Germany\", \"Confirmed\": 4, \"Deaths\": 0, \"Recovered\": 0.0, \"Active\": 4.0, \"New cases\": 3, \"New deaths\": 0, \"New recovered\": 0}, {\"Unnamed: 0\": 1194, \"Date\": \"2020-01-28T00:00:00\", \"Country/Region\": \"India\", \"Confirmed\": 0, \"Deaths\": 0, \"Recovered\": 0.0, \"Active\": 0.0, \"New cases\": 0, \"New deaths\": 0, \"New recovered\": 0}, {\"Unnamed: 0\": 1196, \"Date\": \"2020-01-28T00:00:00\", \"Country/Region\": \"Iran\", \"Confirmed\": 0, \"Deaths\": 0, \"Recovered\": 0.0, \"Active\": 0.0, \"New cases\": 0, \"New deaths\": 0, \"New recovered\": 0}, {\"Unnamed: 0\": 1200, \"Date\": \"2020-01-28T00:00:00\", \"Country/Region\": \"Italy\", \"Confirmed\": 0, \"Deaths\": 0, \"Recovered\": 0.0, \"Active\": 0.0, \"New cases\": 0, \"New deaths\": 0, \"New recovered\": 0}, {\"Unnamed: 0\": 1272, \"Date\": \"2020-01-28T00:00:00\", \"Country/Region\": \"Spain\", \"Confirmed\": 0, \"Deaths\": 0, \"Recovered\": 0.0, \"Active\": 0.0, \"New cases\": 0, \"New deaths\": 0, \"New recovered\": 0}, {\"Unnamed: 0\": 1277, \"Date\": \"2020-01-28T00:00:00\", \"Country/Region\": \"Switzerland\", \"Confirmed\": 0, \"Deaths\": 0, \"Recovered\": 0.0, \"Active\": 0.0, \"New cases\": 0, \"New deaths\": 0, \"New recovered\": 0}, {\"Unnamed: 0\": 1288, \"Date\": \"2020-01-28T00:00:00\", \"Country/Region\": \"US\", \"Confirmed\": 5, \"Deaths\": 0, \"Recovered\": 0.0, \"Active\": 5.0, \"New cases\": 0, \"New deaths\": 0, \"New recovered\": 0}, {\"Unnamed: 0\": 1292, \"Date\": \"2020-01-28T00:00:00\", \"Country/Region\": \"United Kingdom\", \"Confirmed\": 0, \"Deaths\": 0, \"Recovered\": 0.0, \"Active\": 0.0, \"New cases\": 0, \"New deaths\": 0, \"New recovered\": 0}, {\"Unnamed: 0\": 1334, \"Date\": \"2020-01-29T00:00:00\", \"Country/Region\": \"Canada\", \"Confirmed\": 2, \"Deaths\": 0, \"Recovered\": 0.0, \"Active\": 2.0, \"New cases\": 0, \"New deaths\": 0, \"New recovered\": 0}, {\"Unnamed: 0\": 1338, \"Date\": \"2020-01-29T00:00:00\", \"Country/Region\": \"China\", \"Confirmed\": 6087, \"Deaths\": 133, \"Recovered\": 119.0, \"Active\": 5835.0, \"New cases\": 578, \"New deaths\": 2, \"New recovered\": 18}, {\"Unnamed: 0\": 1363, \"Date\": \"2020-01-29T00:00:00\", \"Country/Region\": \"France\", \"Confirmed\": 5, \"Deaths\": 0, \"Recovered\": 0.0, \"Active\": 5.0, \"New cases\": 1, \"New deaths\": 0, \"New recovered\": 0}, {\"Unnamed: 0\": 1367, \"Date\": \"2020-01-29T00:00:00\", \"Country/Region\": \"Germany\", \"Confirmed\": 4, \"Deaths\": 0, \"Recovered\": 0.0, \"Active\": 4.0, \"New cases\": 0, \"New deaths\": 0, \"New recovered\": 0}, {\"Unnamed: 0\": 1380, \"Date\": \"2020-01-29T00:00:00\", \"Country/Region\": \"India\", \"Confirmed\": 0, \"Deaths\": 0, \"Recovered\": 0.0, \"Active\": 0.0, \"New cases\": 0, \"New deaths\": 0, \"New recovered\": 0}, {\"Unnamed: 0\": 1382, \"Date\": \"2020-01-29T00:00:00\", \"Country/Region\": \"Iran\", \"Confirmed\": 0, \"Deaths\": 0, \"Recovered\": 0.0, \"Active\": 0.0, \"New cases\": 0, \"New deaths\": 0, \"New recovered\": 0}, {\"Unnamed: 0\": 1386, \"Date\": \"2020-01-29T00:00:00\", \"Country/Region\": \"Italy\", \"Confirmed\": 0, \"Deaths\": 0, \"Recovered\": 0.0, \"Active\": 0.0, \"New cases\": 0, \"New deaths\": 0, \"New recovered\": 0}, {\"Unnamed: 0\": 1458, \"Date\": \"2020-01-29T00:00:00\", \"Country/Region\": \"Spain\", \"Confirmed\": 0, \"Deaths\": 0, \"Recovered\": 0.0, \"Active\": 0.0, \"New cases\": 0, \"New deaths\": 0, \"New recovered\": 0}, {\"Unnamed: 0\": 1463, \"Date\": \"2020-01-29T00:00:00\", \"Country/Region\": \"Switzerland\", \"Confirmed\": 0, \"Deaths\": 0, \"Recovered\": 0.0, \"Active\": 0.0, \"New cases\": 0, \"New deaths\": 0, \"New recovered\": 0}, {\"Unnamed: 0\": 1474, \"Date\": \"2020-01-29T00:00:00\", \"Country/Region\": \"US\", \"Confirmed\": 5, \"Deaths\": 0, \"Recovered\": 0.0, \"Active\": 5.0, \"New cases\": 0, \"New deaths\": 0, \"New recovered\": 0}, {\"Unnamed: 0\": 1478, \"Date\": \"2020-01-29T00:00:00\", \"Country/Region\": \"United Kingdom\", \"Confirmed\": 0, \"Deaths\": 0, \"Recovered\": 0.0, \"Active\": 0.0, \"New cases\": 0, \"New deaths\": 0, \"New recovered\": 0}, {\"Unnamed: 0\": 1520, \"Date\": \"2020-01-30T00:00:00\", \"Country/Region\": \"Canada\", \"Confirmed\": 2, \"Deaths\": 0, \"Recovered\": 0.0, \"Active\": 2.0, \"New cases\": 0, \"New deaths\": 0, \"New recovered\": 0}, {\"Unnamed: 0\": 1524, \"Date\": \"2020-01-30T00:00:00\", \"Country/Region\": \"China\", \"Confirmed\": 8141, \"Deaths\": 171, \"Recovered\": 133.0, \"Active\": 7837.0, \"New cases\": 2054, \"New deaths\": 38, \"New recovered\": 14}, {\"Unnamed: 0\": 1549, \"Date\": \"2020-01-30T00:00:00\", \"Country/Region\": \"France\", \"Confirmed\": 5, \"Deaths\": 0, \"Recovered\": 0.0, \"Active\": 5.0, \"New cases\": 0, \"New deaths\": 0, \"New recovered\": 0}, {\"Unnamed: 0\": 1553, \"Date\": \"2020-01-30T00:00:00\", \"Country/Region\": \"Germany\", \"Confirmed\": 4, \"Deaths\": 0, \"Recovered\": 0.0, \"Active\": 4.0, \"New cases\": 0, \"New deaths\": 0, \"New recovered\": 0}, {\"Unnamed: 0\": 1566, \"Date\": \"2020-01-30T00:00:00\", \"Country/Region\": \"India\", \"Confirmed\": 1, \"Deaths\": 0, \"Recovered\": 0.0, \"Active\": 1.0, \"New cases\": 1, \"New deaths\": 0, \"New recovered\": 0}, {\"Unnamed: 0\": 1568, \"Date\": \"2020-01-30T00:00:00\", \"Country/Region\": \"Iran\", \"Confirmed\": 0, \"Deaths\": 0, \"Recovered\": 0.0, \"Active\": 0.0, \"New cases\": 0, \"New deaths\": 0, \"New recovered\": 0}, {\"Unnamed: 0\": 1572, \"Date\": \"2020-01-30T00:00:00\", \"Country/Region\": \"Italy\", \"Confirmed\": 0, \"Deaths\": 0, \"Recovered\": 0.0, \"Active\": 0.0, \"New cases\": 0, \"New deaths\": 0, \"New recovered\": 0}, {\"Unnamed: 0\": 1644, \"Date\": \"2020-01-30T00:00:00\", \"Country/Region\": \"Spain\", \"Confirmed\": 0, \"Deaths\": 0, \"Recovered\": 0.0, \"Active\": 0.0, \"New cases\": 0, \"New deaths\": 0, \"New recovered\": 0}, {\"Unnamed: 0\": 1649, \"Date\": \"2020-01-30T00:00:00\", \"Country/Region\": \"Switzerland\", \"Confirmed\": 0, \"Deaths\": 0, \"Recovered\": 0.0, \"Active\": 0.0, \"New cases\": 0, \"New deaths\": 0, \"New recovered\": 0}, {\"Unnamed: 0\": 1660, \"Date\": \"2020-01-30T00:00:00\", \"Country/Region\": \"US\", \"Confirmed\": 5, \"Deaths\": 0, \"Recovered\": 0.0, \"Active\": 5.0, \"New cases\": 0, \"New deaths\": 0, \"New recovered\": 0}, {\"Unnamed: 0\": 1664, \"Date\": \"2020-01-30T00:00:00\", \"Country/Region\": \"United Kingdom\", \"Confirmed\": 0, \"Deaths\": 0, \"Recovered\": 0.0, \"Active\": 0.0, \"New cases\": 0, \"New deaths\": 0, \"New recovered\": 0}, {\"Unnamed: 0\": 1706, \"Date\": \"2020-01-31T00:00:00\", \"Country/Region\": \"Canada\", \"Confirmed\": 4, \"Deaths\": 0, \"Recovered\": 0.0, \"Active\": 4.0, \"New cases\": 2, \"New deaths\": 0, \"New recovered\": 0}, {\"Unnamed: 0\": 1710, \"Date\": \"2020-01-31T00:00:00\", \"Country/Region\": \"China\", \"Confirmed\": 9802, \"Deaths\": 213, \"Recovered\": 211.0, \"Active\": 9378.0, \"New cases\": 1661, \"New deaths\": 42, \"New recovered\": 78}, {\"Unnamed: 0\": 1735, \"Date\": \"2020-01-31T00:00:00\", \"Country/Region\": \"France\", \"Confirmed\": 5, \"Deaths\": 0, \"Recovered\": 0.0, \"Active\": 5.0, \"New cases\": 0, \"New deaths\": 0, \"New recovered\": 0}, {\"Unnamed: 0\": 1739, \"Date\": \"2020-01-31T00:00:00\", \"Country/Region\": \"Germany\", \"Confirmed\": 5, \"Deaths\": 0, \"Recovered\": 0.0, \"Active\": 5.0, \"New cases\": 1, \"New deaths\": 0, \"New recovered\": 0}, {\"Unnamed: 0\": 1752, \"Date\": \"2020-01-31T00:00:00\", \"Country/Region\": \"India\", \"Confirmed\": 1, \"Deaths\": 0, \"Recovered\": 0.0, \"Active\": 1.0, \"New cases\": 0, \"New deaths\": 0, \"New recovered\": 0}, {\"Unnamed: 0\": 1754, \"Date\": \"2020-01-31T00:00:00\", \"Country/Region\": \"Iran\", \"Confirmed\": 0, \"Deaths\": 0, \"Recovered\": 0.0, \"Active\": 0.0, \"New cases\": 0, \"New deaths\": 0, \"New recovered\": 0}, {\"Unnamed: 0\": 1758, \"Date\": \"2020-01-31T00:00:00\", \"Country/Region\": \"Italy\", \"Confirmed\": 2, \"Deaths\": 0, \"Recovered\": 0.0, \"Active\": 2.0, \"New cases\": 2, \"New deaths\": 0, \"New recovered\": 0}, {\"Unnamed: 0\": 1830, \"Date\": \"2020-01-31T00:00:00\", \"Country/Region\": \"Spain\", \"Confirmed\": 0, \"Deaths\": 0, \"Recovered\": 0.0, \"Active\": 0.0, \"New cases\": 0, \"New deaths\": 0, \"New recovered\": 0}, {\"Unnamed: 0\": 1835, \"Date\": \"2020-01-31T00:00:00\", \"Country/Region\": \"Switzerland\", \"Confirmed\": 0, \"Deaths\": 0, \"Recovered\": 0.0, \"Active\": 0.0, \"New cases\": 0, \"New deaths\": 0, \"New recovered\": 0}, {\"Unnamed: 0\": 1846, \"Date\": \"2020-01-31T00:00:00\", \"Country/Region\": \"US\", \"Confirmed\": 7, \"Deaths\": 0, \"Recovered\": 0.0, \"Active\": 7.0, \"New cases\": 2, \"New deaths\": 0, \"New recovered\": 0}, {\"Unnamed: 0\": 1850, \"Date\": \"2020-01-31T00:00:00\", \"Country/Region\": \"United Kingdom\", \"Confirmed\": 2, \"Deaths\": 0, \"Recovered\": 0.0, \"Active\": 2.0, \"New cases\": 2, \"New deaths\": 0, \"New recovered\": 0}, {\"Unnamed: 0\": 1892, \"Date\": \"2020-02-01T00:00:00\", \"Country/Region\": \"Canada\", \"Confirmed\": 4, \"Deaths\": 0, \"Recovered\": 0.0, \"Active\": 4.0, \"New cases\": 0, \"New deaths\": 0, \"New recovered\": 0}, {\"Unnamed: 0\": 1896, \"Date\": \"2020-02-01T00:00:00\", \"Country/Region\": \"China\", \"Confirmed\": 11891, \"Deaths\": 259, \"Recovered\": 272.0, \"Active\": 11360.0, \"New cases\": 2089, \"New deaths\": 46, \"New recovered\": 61}, {\"Unnamed: 0\": 1921, \"Date\": \"2020-02-01T00:00:00\", \"Country/Region\": \"France\", \"Confirmed\": 6, \"Deaths\": 0, \"Recovered\": 0.0, \"Active\": 6.0, \"New cases\": 1, \"New deaths\": 0, \"New recovered\": 0}, {\"Unnamed: 0\": 1925, \"Date\": \"2020-02-01T00:00:00\", \"Country/Region\": \"Germany\", \"Confirmed\": 8, \"Deaths\": 0, \"Recovered\": 0.0, \"Active\": 8.0, \"New cases\": 3, \"New deaths\": 0, \"New recovered\": 0}, {\"Unnamed: 0\": 1938, \"Date\": \"2020-02-01T00:00:00\", \"Country/Region\": \"India\", \"Confirmed\": 1, \"Deaths\": 0, \"Recovered\": 0.0, \"Active\": 1.0, \"New cases\": 0, \"New deaths\": 0, \"New recovered\": 0}, {\"Unnamed: 0\": 1940, \"Date\": \"2020-02-01T00:00:00\", \"Country/Region\": \"Iran\", \"Confirmed\": 0, \"Deaths\": 0, \"Recovered\": 0.0, \"Active\": 0.0, \"New cases\": 0, \"New deaths\": 0, \"New recovered\": 0}, {\"Unnamed: 0\": 1944, \"Date\": \"2020-02-01T00:00:00\", \"Country/Region\": \"Italy\", \"Confirmed\": 2, \"Deaths\": 0, \"Recovered\": 0.0, \"Active\": 2.0, \"New cases\": 0, \"New deaths\": 0, \"New recovered\": 0}, {\"Unnamed: 0\": 2016, \"Date\": \"2020-02-01T00:00:00\", \"Country/Region\": \"Spain\", \"Confirmed\": 1, \"Deaths\": 0, \"Recovered\": 0.0, \"Active\": 1.0, \"New cases\": 1, \"New deaths\": 0, \"New recovered\": 0}, {\"Unnamed: 0\": 2021, \"Date\": \"2020-02-01T00:00:00\", \"Country/Region\": \"Switzerland\", \"Confirmed\": 0, \"Deaths\": 0, \"Recovered\": 0.0, \"Active\": 0.0, \"New cases\": 0, \"New deaths\": 0, \"New recovered\": 0}, {\"Unnamed: 0\": 2032, \"Date\": \"2020-02-01T00:00:00\", \"Country/Region\": \"US\", \"Confirmed\": 8, \"Deaths\": 0, \"Recovered\": 0.0, \"Active\": 8.0, \"New cases\": 1, \"New deaths\": 0, \"New recovered\": 0}, {\"Unnamed: 0\": 2036, \"Date\": \"2020-02-01T00:00:00\", \"Country/Region\": \"United Kingdom\", \"Confirmed\": 2, \"Deaths\": 0, \"Recovered\": 0.0, \"Active\": 2.0, \"New cases\": 0, \"New deaths\": 0, \"New recovered\": 0}, {\"Unnamed: 0\": 2078, \"Date\": \"2020-02-02T00:00:00\", \"Country/Region\": \"Canada\", \"Confirmed\": 4, \"Deaths\": 0, \"Recovered\": 0.0, \"Active\": 4.0, \"New cases\": 0, \"New deaths\": 0, \"New recovered\": 0}, {\"Unnamed: 0\": 2082, \"Date\": \"2020-02-02T00:00:00\", \"Country/Region\": \"China\", \"Confirmed\": 16630, \"Deaths\": 361, \"Recovered\": 450.0, \"Active\": 15819.0, \"New cases\": 4739, \"New deaths\": 102, \"New recovered\": 178}, {\"Unnamed: 0\": 2107, \"Date\": \"2020-02-02T00:00:00\", \"Country/Region\": \"France\", \"Confirmed\": 6, \"Deaths\": 0, \"Recovered\": 0.0, \"Active\": 6.0, \"New cases\": 0, \"New deaths\": 0, \"New recovered\": 0}, {\"Unnamed: 0\": 2111, \"Date\": \"2020-02-02T00:00:00\", \"Country/Region\": \"Germany\", \"Confirmed\": 10, \"Deaths\": 0, \"Recovered\": 0.0, \"Active\": 10.0, \"New cases\": 2, \"New deaths\": 0, \"New recovered\": 0}, {\"Unnamed: 0\": 2124, \"Date\": \"2020-02-02T00:00:00\", \"Country/Region\": \"India\", \"Confirmed\": 2, \"Deaths\": 0, \"Recovered\": 0.0, \"Active\": 2.0, \"New cases\": 1, \"New deaths\": 0, \"New recovered\": 0}, {\"Unnamed: 0\": 2126, \"Date\": \"2020-02-02T00:00:00\", \"Country/Region\": \"Iran\", \"Confirmed\": 0, \"Deaths\": 0, \"Recovered\": 0.0, \"Active\": 0.0, \"New cases\": 0, \"New deaths\": 0, \"New recovered\": 0}, {\"Unnamed: 0\": 2130, \"Date\": \"2020-02-02T00:00:00\", \"Country/Region\": \"Italy\", \"Confirmed\": 2, \"Deaths\": 0, \"Recovered\": 0.0, \"Active\": 2.0, \"New cases\": 0, \"New deaths\": 0, \"New recovered\": 0}, {\"Unnamed: 0\": 2202, \"Date\": \"2020-02-02T00:00:00\", \"Country/Region\": \"Spain\", \"Confirmed\": 1, \"Deaths\": 0, \"Recovered\": 0.0, \"Active\": 1.0, \"New cases\": 0, \"New deaths\": 0, \"New recovered\": 0}, {\"Unnamed: 0\": 2207, \"Date\": \"2020-02-02T00:00:00\", \"Country/Region\": \"Switzerland\", \"Confirmed\": 0, \"Deaths\": 0, \"Recovered\": 0.0, \"Active\": 0.0, \"New cases\": 0, \"New deaths\": 0, \"New recovered\": 0}, {\"Unnamed: 0\": 2218, \"Date\": \"2020-02-02T00:00:00\", \"Country/Region\": \"US\", \"Confirmed\": 8, \"Deaths\": 0, \"Recovered\": 0.0, \"Active\": 8.0, \"New cases\": 0, \"New deaths\": 0, \"New recovered\": 0}, {\"Unnamed: 0\": 2222, \"Date\": \"2020-02-02T00:00:00\", \"Country/Region\": \"United Kingdom\", \"Confirmed\": 2, \"Deaths\": 0, \"Recovered\": 0.0, \"Active\": 2.0, \"New cases\": 0, \"New deaths\": 0, \"New recovered\": 0}, {\"Unnamed: 0\": 2264, \"Date\": \"2020-02-03T00:00:00\", \"Country/Region\": \"Canada\", \"Confirmed\": 4, \"Deaths\": 0, \"Recovered\": 0.0, \"Active\": 4.0, \"New cases\": 0, \"New deaths\": 0, \"New recovered\": 0}, {\"Unnamed: 0\": 2268, \"Date\": \"2020-02-03T00:00:00\", \"Country/Region\": \"China\", \"Confirmed\": 19716, \"Deaths\": 425, \"Recovered\": 595.0, \"Active\": 18696.0, \"New cases\": 3086, \"New deaths\": 64, \"New recovered\": 145}, {\"Unnamed: 0\": 2293, \"Date\": \"2020-02-03T00:00:00\", \"Country/Region\": \"France\", \"Confirmed\": 6, \"Deaths\": 0, \"Recovered\": 0.0, \"Active\": 6.0, \"New cases\": 0, \"New deaths\": 0, \"New recovered\": 0}, {\"Unnamed: 0\": 2297, \"Date\": \"2020-02-03T00:00:00\", \"Country/Region\": \"Germany\", \"Confirmed\": 12, \"Deaths\": 0, \"Recovered\": 0.0, \"Active\": 12.0, \"New cases\": 2, \"New deaths\": 0, \"New recovered\": 0}, {\"Unnamed: 0\": 2310, \"Date\": \"2020-02-03T00:00:00\", \"Country/Region\": \"India\", \"Confirmed\": 3, \"Deaths\": 0, \"Recovered\": 0.0, \"Active\": 3.0, \"New cases\": 1, \"New deaths\": 0, \"New recovered\": 0}, {\"Unnamed: 0\": 2312, \"Date\": \"2020-02-03T00:00:00\", \"Country/Region\": \"Iran\", \"Confirmed\": 0, \"Deaths\": 0, \"Recovered\": 0.0, \"Active\": 0.0, \"New cases\": 0, \"New deaths\": 0, \"New recovered\": 0}, {\"Unnamed: 0\": 2316, \"Date\": \"2020-02-03T00:00:00\", \"Country/Region\": \"Italy\", \"Confirmed\": 2, \"Deaths\": 0, \"Recovered\": 0.0, \"Active\": 2.0, \"New cases\": 0, \"New deaths\": 0, \"New recovered\": 0}, {\"Unnamed: 0\": 2388, \"Date\": \"2020-02-03T00:00:00\", \"Country/Region\": \"Spain\", \"Confirmed\": 1, \"Deaths\": 0, \"Recovered\": 0.0, \"Active\": 1.0, \"New cases\": 0, \"New deaths\": 0, \"New recovered\": 0}, {\"Unnamed: 0\": 2393, \"Date\": \"2020-02-03T00:00:00\", \"Country/Region\": \"Switzerland\", \"Confirmed\": 0, \"Deaths\": 0, \"Recovered\": 0.0, \"Active\": 0.0, \"New cases\": 0, \"New deaths\": 0, \"New recovered\": 0}, {\"Unnamed: 0\": 2404, \"Date\": \"2020-02-03T00:00:00\", \"Country/Region\": \"US\", \"Confirmed\": 11, \"Deaths\": 0, \"Recovered\": 0.0, \"Active\": 11.0, \"New cases\": 3, \"New deaths\": 0, \"New recovered\": 0}, {\"Unnamed: 0\": 2408, \"Date\": \"2020-02-03T00:00:00\", \"Country/Region\": \"United Kingdom\", \"Confirmed\": 8, \"Deaths\": 0, \"Recovered\": 0.0, \"Active\": 8.0, \"New cases\": 6, \"New deaths\": 0, \"New recovered\": 0}, {\"Unnamed: 0\": 2450, \"Date\": \"2020-02-04T00:00:00\", \"Country/Region\": \"Canada\", \"Confirmed\": 4, \"Deaths\": 0, \"Recovered\": 0.0, \"Active\": 4.0, \"New cases\": 0, \"New deaths\": 0, \"New recovered\": 0}, {\"Unnamed: 0\": 2454, \"Date\": \"2020-02-04T00:00:00\", \"Country/Region\": \"China\", \"Confirmed\": 23707, \"Deaths\": 491, \"Recovered\": 812.0, \"Active\": 22404.0, \"New cases\": 3991, \"New deaths\": 66, \"New recovered\": 217}, {\"Unnamed: 0\": 2479, \"Date\": \"2020-02-04T00:00:00\", \"Country/Region\": \"France\", \"Confirmed\": 6, \"Deaths\": 0, \"Recovered\": 0.0, \"Active\": 6.0, \"New cases\": 0, \"New deaths\": 0, \"New recovered\": 0}, {\"Unnamed: 0\": 2483, \"Date\": \"2020-02-04T00:00:00\", \"Country/Region\": \"Germany\", \"Confirmed\": 12, \"Deaths\": 0, \"Recovered\": 0.0, \"Active\": 12.0, \"New cases\": 0, \"New deaths\": 0, \"New recovered\": 0}, {\"Unnamed: 0\": 2496, \"Date\": \"2020-02-04T00:00:00\", \"Country/Region\": \"India\", \"Confirmed\": 3, \"Deaths\": 0, \"Recovered\": 0.0, \"Active\": 3.0, \"New cases\": 0, \"New deaths\": 0, \"New recovered\": 0}, {\"Unnamed: 0\": 2498, \"Date\": \"2020-02-04T00:00:00\", \"Country/Region\": \"Iran\", \"Confirmed\": 0, \"Deaths\": 0, \"Recovered\": 0.0, \"Active\": 0.0, \"New cases\": 0, \"New deaths\": 0, \"New recovered\": 0}, {\"Unnamed: 0\": 2502, \"Date\": \"2020-02-04T00:00:00\", \"Country/Region\": \"Italy\", \"Confirmed\": 2, \"Deaths\": 0, \"Recovered\": 0.0, \"Active\": 2.0, \"New cases\": 0, \"New deaths\": 0, \"New recovered\": 0}, {\"Unnamed: 0\": 2574, \"Date\": \"2020-02-04T00:00:00\", \"Country/Region\": \"Spain\", \"Confirmed\": 1, \"Deaths\": 0, \"Recovered\": 0.0, \"Active\": 1.0, \"New cases\": 0, \"New deaths\": 0, \"New recovered\": 0}, {\"Unnamed: 0\": 2579, \"Date\": \"2020-02-04T00:00:00\", \"Country/Region\": \"Switzerland\", \"Confirmed\": 0, \"Deaths\": 0, \"Recovered\": 0.0, \"Active\": 0.0, \"New cases\": 0, \"New deaths\": 0, \"New recovered\": 0}, {\"Unnamed: 0\": 2590, \"Date\": \"2020-02-04T00:00:00\", \"Country/Region\": \"US\", \"Confirmed\": 11, \"Deaths\": 0, \"Recovered\": 0.0, \"Active\": 11.0, \"New cases\": 0, \"New deaths\": 0, \"New recovered\": 0}, {\"Unnamed: 0\": 2594, \"Date\": \"2020-02-04T00:00:00\", \"Country/Region\": \"United Kingdom\", \"Confirmed\": 8, \"Deaths\": 0, \"Recovered\": 0.0, \"Active\": 8.0, \"New cases\": 0, \"New deaths\": 0, \"New recovered\": 0}, {\"Unnamed: 0\": 2636, \"Date\": \"2020-02-05T00:00:00\", \"Country/Region\": \"Canada\", \"Confirmed\": 5, \"Deaths\": 0, \"Recovered\": 0.0, \"Active\": 5.0, \"New cases\": 1, \"New deaths\": 0, \"New recovered\": 0}, {\"Unnamed: 0\": 2640, \"Date\": \"2020-02-05T00:00:00\", \"Country/Region\": \"China\", \"Confirmed\": 27440, \"Deaths\": 563, \"Recovered\": 1062.0, \"Active\": 25815.0, \"New cases\": 3733, \"New deaths\": 72, \"New recovered\": 250}, {\"Unnamed: 0\": 2665, \"Date\": \"2020-02-05T00:00:00\", \"Country/Region\": \"France\", \"Confirmed\": 6, \"Deaths\": 0, \"Recovered\": 0.0, \"Active\": 6.0, \"New cases\": 0, \"New deaths\": 0, \"New recovered\": 0}, {\"Unnamed: 0\": 2669, \"Date\": \"2020-02-05T00:00:00\", \"Country/Region\": \"Germany\", \"Confirmed\": 12, \"Deaths\": 0, \"Recovered\": 0.0, \"Active\": 12.0, \"New cases\": 0, \"New deaths\": 0, \"New recovered\": 0}, {\"Unnamed: 0\": 2682, \"Date\": \"2020-02-05T00:00:00\", \"Country/Region\": \"India\", \"Confirmed\": 3, \"Deaths\": 0, \"Recovered\": 0.0, \"Active\": 3.0, \"New cases\": 0, \"New deaths\": 0, \"New recovered\": 0}, {\"Unnamed: 0\": 2684, \"Date\": \"2020-02-05T00:00:00\", \"Country/Region\": \"Iran\", \"Confirmed\": 0, \"Deaths\": 0, \"Recovered\": 0.0, \"Active\": 0.0, \"New cases\": 0, \"New deaths\": 0, \"New recovered\": 0}, {\"Unnamed: 0\": 2688, \"Date\": \"2020-02-05T00:00:00\", \"Country/Region\": \"Italy\", \"Confirmed\": 2, \"Deaths\": 0, \"Recovered\": 0.0, \"Active\": 2.0, \"New cases\": 0, \"New deaths\": 0, \"New recovered\": 0}, {\"Unnamed: 0\": 2760, \"Date\": \"2020-02-05T00:00:00\", \"Country/Region\": \"Spain\", \"Confirmed\": 1, \"Deaths\": 0, \"Recovered\": 0.0, \"Active\": 1.0, \"New cases\": 0, \"New deaths\": 0, \"New recovered\": 0}, {\"Unnamed: 0\": 2765, \"Date\": \"2020-02-05T00:00:00\", \"Country/Region\": \"Switzerland\", \"Confirmed\": 0, \"Deaths\": 0, \"Recovered\": 0.0, \"Active\": 0.0, \"New cases\": 0, \"New deaths\": 0, \"New recovered\": 0}, {\"Unnamed: 0\": 2776, \"Date\": \"2020-02-05T00:00:00\", \"Country/Region\": \"US\", \"Confirmed\": 11, \"Deaths\": 0, \"Recovered\": 0.0, \"Active\": 11.0, \"New cases\": 0, \"New deaths\": 0, \"New recovered\": 0}, {\"Unnamed: 0\": 2780, \"Date\": \"2020-02-05T00:00:00\", \"Country/Region\": \"United Kingdom\", \"Confirmed\": 9, \"Deaths\": 0, \"Recovered\": 0.0, \"Active\": 9.0, \"New cases\": 1, \"New deaths\": 0, \"New recovered\": 0}, {\"Unnamed: 0\": 2822, \"Date\": \"2020-02-06T00:00:00\", \"Country/Region\": \"Canada\", \"Confirmed\": 5, \"Deaths\": 0, \"Recovered\": 0.0, \"Active\": 5.0, \"New cases\": 0, \"New deaths\": 0, \"New recovered\": 0}, {\"Unnamed: 0\": 2826, \"Date\": \"2020-02-06T00:00:00\", \"Country/Region\": \"China\", \"Confirmed\": 30587, \"Deaths\": 633, \"Recovered\": 1408.0, \"Active\": 28546.0, \"New cases\": 3147, \"New deaths\": 70, \"New recovered\": 346}, {\"Unnamed: 0\": 2851, \"Date\": \"2020-02-06T00:00:00\", \"Country/Region\": \"France\", \"Confirmed\": 6, \"Deaths\": 0, \"Recovered\": 0.0, \"Active\": 6.0, \"New cases\": 0, \"New deaths\": 0, \"New recovered\": 0}, {\"Unnamed: 0\": 2855, \"Date\": \"2020-02-06T00:00:00\", \"Country/Region\": \"Germany\", \"Confirmed\": 12, \"Deaths\": 0, \"Recovered\": 0.0, \"Active\": 12.0, \"New cases\": 0, \"New deaths\": 0, \"New recovered\": 0}, {\"Unnamed: 0\": 2868, \"Date\": \"2020-02-06T00:00:00\", \"Country/Region\": \"India\", \"Confirmed\": 3, \"Deaths\": 0, \"Recovered\": 0.0, \"Active\": 3.0, \"New cases\": 0, \"New deaths\": 0, \"New recovered\": 0}, {\"Unnamed: 0\": 2870, \"Date\": \"2020-02-06T00:00:00\", \"Country/Region\": \"Iran\", \"Confirmed\": 0, \"Deaths\": 0, \"Recovered\": 0.0, \"Active\": 0.0, \"New cases\": 0, \"New deaths\": 0, \"New recovered\": 0}, {\"Unnamed: 0\": 2874, \"Date\": \"2020-02-06T00:00:00\", \"Country/Region\": \"Italy\", \"Confirmed\": 2, \"Deaths\": 0, \"Recovered\": 0.0, \"Active\": 2.0, \"New cases\": 0, \"New deaths\": 0, \"New recovered\": 0}, {\"Unnamed: 0\": 2946, \"Date\": \"2020-02-06T00:00:00\", \"Country/Region\": \"Spain\", \"Confirmed\": 1, \"Deaths\": 0, \"Recovered\": 0.0, \"Active\": 1.0, \"New cases\": 0, \"New deaths\": 0, \"New recovered\": 0}, {\"Unnamed: 0\": 2951, \"Date\": \"2020-02-06T00:00:00\", \"Country/Region\": \"Switzerland\", \"Confirmed\": 0, \"Deaths\": 0, \"Recovered\": 0.0, \"Active\": 0.0, \"New cases\": 0, \"New deaths\": 0, \"New recovered\": 0}, {\"Unnamed: 0\": 2962, \"Date\": \"2020-02-06T00:00:00\", \"Country/Region\": \"US\", \"Confirmed\": 11, \"Deaths\": 0, \"Recovered\": 0.0, \"Active\": 11.0, \"New cases\": 0, \"New deaths\": 0, \"New recovered\": 0}, {\"Unnamed: 0\": 2966, \"Date\": \"2020-02-06T00:00:00\", \"Country/Region\": \"United Kingdom\", \"Confirmed\": 9, \"Deaths\": 0, \"Recovered\": 0.0, \"Active\": 9.0, \"New cases\": 0, \"New deaths\": 0, \"New recovered\": 0}, {\"Unnamed: 0\": 3008, \"Date\": \"2020-02-07T00:00:00\", \"Country/Region\": \"Canada\", \"Confirmed\": 7, \"Deaths\": 0, \"Recovered\": 0.0, \"Active\": 7.0, \"New cases\": 2, \"New deaths\": 0, \"New recovered\": 0}, {\"Unnamed: 0\": 3012, \"Date\": \"2020-02-07T00:00:00\", \"Country/Region\": \"China\", \"Confirmed\": 34110, \"Deaths\": 718, \"Recovered\": 1891.0, \"Active\": 31501.0, \"New cases\": 3523, \"New deaths\": 85, \"New recovered\": 483}, {\"Unnamed: 0\": 3037, \"Date\": \"2020-02-07T00:00:00\", \"Country/Region\": \"France\", \"Confirmed\": 6, \"Deaths\": 0, \"Recovered\": 0.0, \"Active\": 6.0, \"New cases\": 0, \"New deaths\": 0, \"New recovered\": 0}, {\"Unnamed: 0\": 3041, \"Date\": \"2020-02-07T00:00:00\", \"Country/Region\": \"Germany\", \"Confirmed\": 13, \"Deaths\": 0, \"Recovered\": 0.0, \"Active\": 13.0, \"New cases\": 1, \"New deaths\": 0, \"New recovered\": 0}, {\"Unnamed: 0\": 3054, \"Date\": \"2020-02-07T00:00:00\", \"Country/Region\": \"India\", \"Confirmed\": 3, \"Deaths\": 0, \"Recovered\": 0.0, \"Active\": 3.0, \"New cases\": 0, \"New deaths\": 0, \"New recovered\": 0}, {\"Unnamed: 0\": 3056, \"Date\": \"2020-02-07T00:00:00\", \"Country/Region\": \"Iran\", \"Confirmed\": 0, \"Deaths\": 0, \"Recovered\": 0.0, \"Active\": 0.0, \"New cases\": 0, \"New deaths\": 0, \"New recovered\": 0}, {\"Unnamed: 0\": 3060, \"Date\": \"2020-02-07T00:00:00\", \"Country/Region\": \"Italy\", \"Confirmed\": 3, \"Deaths\": 0, \"Recovered\": 0.0, \"Active\": 3.0, \"New cases\": 1, \"New deaths\": 0, \"New recovered\": 0}, {\"Unnamed: 0\": 3132, \"Date\": \"2020-02-07T00:00:00\", \"Country/Region\": \"Spain\", \"Confirmed\": 1, \"Deaths\": 0, \"Recovered\": 0.0, \"Active\": 1.0, \"New cases\": 0, \"New deaths\": 0, \"New recovered\": 0}, {\"Unnamed: 0\": 3137, \"Date\": \"2020-02-07T00:00:00\", \"Country/Region\": \"Switzerland\", \"Confirmed\": 0, \"Deaths\": 0, \"Recovered\": 0.0, \"Active\": 0.0, \"New cases\": 0, \"New deaths\": 0, \"New recovered\": 0}, {\"Unnamed: 0\": 3148, \"Date\": \"2020-02-07T00:00:00\", \"Country/Region\": \"US\", \"Confirmed\": 11, \"Deaths\": 0, \"Recovered\": 0.0, \"Active\": 11.0, \"New cases\": 0, \"New deaths\": 0, \"New recovered\": 0}, {\"Unnamed: 0\": 3152, \"Date\": \"2020-02-07T00:00:00\", \"Country/Region\": \"United Kingdom\", \"Confirmed\": 9, \"Deaths\": 0, \"Recovered\": 0.0, \"Active\": 9.0, \"New cases\": 0, \"New deaths\": 0, \"New recovered\": 0}, {\"Unnamed: 0\": 3194, \"Date\": \"2020-02-08T00:00:00\", \"Country/Region\": \"Canada\", \"Confirmed\": 7, \"Deaths\": 0, \"Recovered\": 0.0, \"Active\": 7.0, \"New cases\": 0, \"New deaths\": 0, \"New recovered\": 0}, {\"Unnamed: 0\": 3198, \"Date\": \"2020-02-08T00:00:00\", \"Country/Region\": \"China\", \"Confirmed\": 36814, \"Deaths\": 805, \"Recovered\": 2450.0, \"Active\": 33559.0, \"New cases\": 2704, \"New deaths\": 87, \"New recovered\": 559}, {\"Unnamed: 0\": 3223, \"Date\": \"2020-02-08T00:00:00\", \"Country/Region\": \"France\", \"Confirmed\": 11, \"Deaths\": 0, \"Recovered\": 0.0, \"Active\": 11.0, \"New cases\": 5, \"New deaths\": 0, \"New recovered\": 0}, {\"Unnamed: 0\": 3227, \"Date\": \"2020-02-08T00:00:00\", \"Country/Region\": \"Germany\", \"Confirmed\": 13, \"Deaths\": 0, \"Recovered\": 0.0, \"Active\": 13.0, \"New cases\": 0, \"New deaths\": 0, \"New recovered\": 0}, {\"Unnamed: 0\": 3240, \"Date\": \"2020-02-08T00:00:00\", \"Country/Region\": \"India\", \"Confirmed\": 3, \"Deaths\": 0, \"Recovered\": 0.0, \"Active\": 3.0, \"New cases\": 0, \"New deaths\": 0, \"New recovered\": 0}, {\"Unnamed: 0\": 3242, \"Date\": \"2020-02-08T00:00:00\", \"Country/Region\": \"Iran\", \"Confirmed\": 0, \"Deaths\": 0, \"Recovered\": 0.0, \"Active\": 0.0, \"New cases\": 0, \"New deaths\": 0, \"New recovered\": 0}, {\"Unnamed: 0\": 3246, \"Date\": \"2020-02-08T00:00:00\", \"Country/Region\": \"Italy\", \"Confirmed\": 3, \"Deaths\": 0, \"Recovered\": 0.0, \"Active\": 3.0, \"New cases\": 0, \"New deaths\": 0, \"New recovered\": 0}, {\"Unnamed: 0\": 3318, \"Date\": \"2020-02-08T00:00:00\", \"Country/Region\": \"Spain\", \"Confirmed\": 1, \"Deaths\": 0, \"Recovered\": 0.0, \"Active\": 1.0, \"New cases\": 0, \"New deaths\": 0, \"New recovered\": 0}, {\"Unnamed: 0\": 3323, \"Date\": \"2020-02-08T00:00:00\", \"Country/Region\": \"Switzerland\", \"Confirmed\": 0, \"Deaths\": 0, \"Recovered\": 0.0, \"Active\": 0.0, \"New cases\": 0, \"New deaths\": 0, \"New recovered\": 0}, {\"Unnamed: 0\": 3334, \"Date\": \"2020-02-08T00:00:00\", \"Country/Region\": \"US\", \"Confirmed\": 11, \"Deaths\": 0, \"Recovered\": 0.0, \"Active\": 11.0, \"New cases\": 0, \"New deaths\": 0, \"New recovered\": 0}, {\"Unnamed: 0\": 3338, \"Date\": \"2020-02-08T00:00:00\", \"Country/Region\": \"United Kingdom\", \"Confirmed\": 13, \"Deaths\": 0, \"Recovered\": 0.0, \"Active\": 13.0, \"New cases\": 4, \"New deaths\": 0, \"New recovered\": 0}, {\"Unnamed: 0\": 3380, \"Date\": \"2020-02-09T00:00:00\", \"Country/Region\": \"Canada\", \"Confirmed\": 7, \"Deaths\": 0, \"Recovered\": 0.0, \"Active\": 7.0, \"New cases\": 0, \"New deaths\": 0, \"New recovered\": 0}, {\"Unnamed: 0\": 3384, \"Date\": \"2020-02-09T00:00:00\", \"Country/Region\": \"China\", \"Confirmed\": 39829, \"Deaths\": 905, \"Recovered\": 3032.0, \"Active\": 35892.0, \"New cases\": 3015, \"New deaths\": 100, \"New recovered\": 582}, {\"Unnamed: 0\": 3409, \"Date\": \"2020-02-09T00:00:00\", \"Country/Region\": \"France\", \"Confirmed\": 11, \"Deaths\": 0, \"Recovered\": 0.0, \"Active\": 11.0, \"New cases\": 0, \"New deaths\": 0, \"New recovered\": 0}, {\"Unnamed: 0\": 3413, \"Date\": \"2020-02-09T00:00:00\", \"Country/Region\": \"Germany\", \"Confirmed\": 14, \"Deaths\": 0, \"Recovered\": 0.0, \"Active\": 14.0, \"New cases\": 1, \"New deaths\": 0, \"New recovered\": 0}, {\"Unnamed: 0\": 3426, \"Date\": \"2020-02-09T00:00:00\", \"Country/Region\": \"India\", \"Confirmed\": 3, \"Deaths\": 0, \"Recovered\": 0.0, \"Active\": 3.0, \"New cases\": 0, \"New deaths\": 0, \"New recovered\": 0}, {\"Unnamed: 0\": 3428, \"Date\": \"2020-02-09T00:00:00\", \"Country/Region\": \"Iran\", \"Confirmed\": 0, \"Deaths\": 0, \"Recovered\": 0.0, \"Active\": 0.0, \"New cases\": 0, \"New deaths\": 0, \"New recovered\": 0}, {\"Unnamed: 0\": 3432, \"Date\": \"2020-02-09T00:00:00\", \"Country/Region\": \"Italy\", \"Confirmed\": 3, \"Deaths\": 0, \"Recovered\": 0.0, \"Active\": 3.0, \"New cases\": 0, \"New deaths\": 0, \"New recovered\": 0}, {\"Unnamed: 0\": 3504, \"Date\": \"2020-02-09T00:00:00\", \"Country/Region\": \"Spain\", \"Confirmed\": 2, \"Deaths\": 0, \"Recovered\": 0.0, \"Active\": 2.0, \"New cases\": 1, \"New deaths\": 0, \"New recovered\": 0}, {\"Unnamed: 0\": 3509, \"Date\": \"2020-02-09T00:00:00\", \"Country/Region\": \"Switzerland\", \"Confirmed\": 0, \"Deaths\": 0, \"Recovered\": 0.0, \"Active\": 0.0, \"New cases\": 0, \"New deaths\": 0, \"New recovered\": 0}, {\"Unnamed: 0\": 3520, \"Date\": \"2020-02-09T00:00:00\", \"Country/Region\": \"US\", \"Confirmed\": 11, \"Deaths\": 0, \"Recovered\": 3.0, \"Active\": 8.0, \"New cases\": 0, \"New deaths\": 0, \"New recovered\": 3}, {\"Unnamed: 0\": 3524, \"Date\": \"2020-02-09T00:00:00\", \"Country/Region\": \"United Kingdom\", \"Confirmed\": 14, \"Deaths\": 0, \"Recovered\": 0.0, \"Active\": 14.0, \"New cases\": 1, \"New deaths\": 0, \"New recovered\": 0}, {\"Unnamed: 0\": 3566, \"Date\": \"2020-02-10T00:00:00\", \"Country/Region\": \"Canada\", \"Confirmed\": 7, \"Deaths\": 0, \"Recovered\": 0.0, \"Active\": 7.0, \"New cases\": 0, \"New deaths\": 0, \"New recovered\": 0}, {\"Unnamed: 0\": 3570, \"Date\": \"2020-02-10T00:00:00\", \"Country/Region\": \"China\", \"Confirmed\": 42354, \"Deaths\": 1012, \"Recovered\": 3686.0, \"Active\": 37656.0, \"New cases\": 2525, \"New deaths\": 107, \"New recovered\": 654}, {\"Unnamed: 0\": 3595, \"Date\": \"2020-02-10T00:00:00\", \"Country/Region\": \"France\", \"Confirmed\": 11, \"Deaths\": 0, \"Recovered\": 0.0, \"Active\": 11.0, \"New cases\": 0, \"New deaths\": 0, \"New recovered\": 0}, {\"Unnamed: 0\": 3599, \"Date\": \"2020-02-10T00:00:00\", \"Country/Region\": \"Germany\", \"Confirmed\": 14, \"Deaths\": 0, \"Recovered\": 0.0, \"Active\": 14.0, \"New cases\": 0, \"New deaths\": 0, \"New recovered\": 0}, {\"Unnamed: 0\": 3612, \"Date\": \"2020-02-10T00:00:00\", \"Country/Region\": \"India\", \"Confirmed\": 3, \"Deaths\": 0, \"Recovered\": 0.0, \"Active\": 3.0, \"New cases\": 0, \"New deaths\": 0, \"New recovered\": 0}, {\"Unnamed: 0\": 3614, \"Date\": \"2020-02-10T00:00:00\", \"Country/Region\": \"Iran\", \"Confirmed\": 0, \"Deaths\": 0, \"Recovered\": 0.0, \"Active\": 0.0, \"New cases\": 0, \"New deaths\": 0, \"New recovered\": 0}, {\"Unnamed: 0\": 3618, \"Date\": \"2020-02-10T00:00:00\", \"Country/Region\": \"Italy\", \"Confirmed\": 3, \"Deaths\": 0, \"Recovered\": 0.0, \"Active\": 3.0, \"New cases\": 0, \"New deaths\": 0, \"New recovered\": 0}, {\"Unnamed: 0\": 3690, \"Date\": \"2020-02-10T00:00:00\", \"Country/Region\": \"Spain\", \"Confirmed\": 2, \"Deaths\": 0, \"Recovered\": 0.0, \"Active\": 2.0, \"New cases\": 0, \"New deaths\": 0, \"New recovered\": 0}, {\"Unnamed: 0\": 3695, \"Date\": \"2020-02-10T00:00:00\", \"Country/Region\": \"Switzerland\", \"Confirmed\": 0, \"Deaths\": 0, \"Recovered\": 0.0, \"Active\": 0.0, \"New cases\": 0, \"New deaths\": 0, \"New recovered\": 0}, {\"Unnamed: 0\": 3706, \"Date\": \"2020-02-10T00:00:00\", \"Country/Region\": \"US\", \"Confirmed\": 11, \"Deaths\": 0, \"Recovered\": 3.0, \"Active\": 8.0, \"New cases\": 0, \"New deaths\": 0, \"New recovered\": 0}, {\"Unnamed: 0\": 3710, \"Date\": \"2020-02-10T00:00:00\", \"Country/Region\": \"United Kingdom\", \"Confirmed\": 14, \"Deaths\": 0, \"Recovered\": 0.0, \"Active\": 14.0, \"New cases\": 0, \"New deaths\": 0, \"New recovered\": 0}, {\"Unnamed: 0\": 3752, \"Date\": \"2020-02-11T00:00:00\", \"Country/Region\": \"Canada\", \"Confirmed\": 7, \"Deaths\": 0, \"Recovered\": 0.0, \"Active\": 7.0, \"New cases\": 0, \"New deaths\": 0, \"New recovered\": 0}, {\"Unnamed: 0\": 3756, \"Date\": \"2020-02-11T00:00:00\", \"Country/Region\": \"China\", \"Confirmed\": 44386, \"Deaths\": 1112, \"Recovered\": 4370.0, \"Active\": 38904.0, \"New cases\": 2032, \"New deaths\": 100, \"New recovered\": 684}, {\"Unnamed: 0\": 3781, \"Date\": \"2020-02-11T00:00:00\", \"Country/Region\": \"France\", \"Confirmed\": 11, \"Deaths\": 0, \"Recovered\": 0.0, \"Active\": 11.0, \"New cases\": 0, \"New deaths\": 0, \"New recovered\": 0}, {\"Unnamed: 0\": 3785, \"Date\": \"2020-02-11T00:00:00\", \"Country/Region\": \"Germany\", \"Confirmed\": 16, \"Deaths\": 0, \"Recovered\": 0.0, \"Active\": 16.0, \"New cases\": 2, \"New deaths\": 0, \"New recovered\": 0}, {\"Unnamed: 0\": 3798, \"Date\": \"2020-02-11T00:00:00\", \"Country/Region\": \"India\", \"Confirmed\": 3, \"Deaths\": 0, \"Recovered\": 0.0, \"Active\": 3.0, \"New cases\": 0, \"New deaths\": 0, \"New recovered\": 0}, {\"Unnamed: 0\": 3800, \"Date\": \"2020-02-11T00:00:00\", \"Country/Region\": \"Iran\", \"Confirmed\": 0, \"Deaths\": 0, \"Recovered\": 0.0, \"Active\": 0.0, \"New cases\": 0, \"New deaths\": 0, \"New recovered\": 0}, {\"Unnamed: 0\": 3804, \"Date\": \"2020-02-11T00:00:00\", \"Country/Region\": \"Italy\", \"Confirmed\": 3, \"Deaths\": 0, \"Recovered\": 0.0, \"Active\": 3.0, \"New cases\": 0, \"New deaths\": 0, \"New recovered\": 0}, {\"Unnamed: 0\": 3876, \"Date\": \"2020-02-11T00:00:00\", \"Country/Region\": \"Spain\", \"Confirmed\": 2, \"Deaths\": 0, \"Recovered\": 0.0, \"Active\": 2.0, \"New cases\": 0, \"New deaths\": 0, \"New recovered\": 0}, {\"Unnamed: 0\": 3881, \"Date\": \"2020-02-11T00:00:00\", \"Country/Region\": \"Switzerland\", \"Confirmed\": 0, \"Deaths\": 0, \"Recovered\": 0.0, \"Active\": 0.0, \"New cases\": 0, \"New deaths\": 0, \"New recovered\": 0}, {\"Unnamed: 0\": 3892, \"Date\": \"2020-02-11T00:00:00\", \"Country/Region\": \"US\", \"Confirmed\": 12, \"Deaths\": 0, \"Recovered\": 3.0, \"Active\": 9.0, \"New cases\": 1, \"New deaths\": 0, \"New recovered\": 0}, {\"Unnamed: 0\": 3896, \"Date\": \"2020-02-11T00:00:00\", \"Country/Region\": \"United Kingdom\", \"Confirmed\": 15, \"Deaths\": 0, \"Recovered\": 0.0, \"Active\": 15.0, \"New cases\": 1, \"New deaths\": 0, \"New recovered\": 0}, {\"Unnamed: 0\": 3938, \"Date\": \"2020-02-12T00:00:00\", \"Country/Region\": \"Canada\", \"Confirmed\": 7, \"Deaths\": 0, \"Recovered\": 1.0, \"Active\": 6.0, \"New cases\": 0, \"New deaths\": 0, \"New recovered\": 1}, {\"Unnamed: 0\": 3942, \"Date\": \"2020-02-12T00:00:00\", \"Country/Region\": \"China\", \"Confirmed\": 44759, \"Deaths\": 1117, \"Recovered\": 4782.0, \"Active\": 38860.0, \"New cases\": 373, \"New deaths\": 5, \"New recovered\": 412}, {\"Unnamed: 0\": 3967, \"Date\": \"2020-02-12T00:00:00\", \"Country/Region\": \"France\", \"Confirmed\": 11, \"Deaths\": 0, \"Recovered\": 2.0, \"Active\": 9.0, \"New cases\": 0, \"New deaths\": 0, \"New recovered\": 2}, {\"Unnamed: 0\": 3971, \"Date\": \"2020-02-12T00:00:00\", \"Country/Region\": \"Germany\", \"Confirmed\": 16, \"Deaths\": 0, \"Recovered\": 0.0, \"Active\": 16.0, \"New cases\": 0, \"New deaths\": 0, \"New recovered\": 0}, {\"Unnamed: 0\": 3984, \"Date\": \"2020-02-12T00:00:00\", \"Country/Region\": \"India\", \"Confirmed\": 3, \"Deaths\": 0, \"Recovered\": 0.0, \"Active\": 3.0, \"New cases\": 0, \"New deaths\": 0, \"New recovered\": 0}, {\"Unnamed: 0\": 3986, \"Date\": \"2020-02-12T00:00:00\", \"Country/Region\": \"Iran\", \"Confirmed\": 0, \"Deaths\": 0, \"Recovered\": 0.0, \"Active\": 0.0, \"New cases\": 0, \"New deaths\": 0, \"New recovered\": 0}, {\"Unnamed: 0\": 3990, \"Date\": \"2020-02-12T00:00:00\", \"Country/Region\": \"Italy\", \"Confirmed\": 3, \"Deaths\": 0, \"Recovered\": 0.0, \"Active\": 3.0, \"New cases\": 0, \"New deaths\": 0, \"New recovered\": 0}, {\"Unnamed: 0\": 4062, \"Date\": \"2020-02-12T00:00:00\", \"Country/Region\": \"Spain\", \"Confirmed\": 2, \"Deaths\": 0, \"Recovered\": 0.0, \"Active\": 2.0, \"New cases\": 0, \"New deaths\": 0, \"New recovered\": 0}, {\"Unnamed: 0\": 4067, \"Date\": \"2020-02-12T00:00:00\", \"Country/Region\": \"Switzerland\", \"Confirmed\": 0, \"Deaths\": 0, \"Recovered\": 0.0, \"Active\": 0.0, \"New cases\": 0, \"New deaths\": 0, \"New recovered\": 0}, {\"Unnamed: 0\": 4078, \"Date\": \"2020-02-12T00:00:00\", \"Country/Region\": \"US\", \"Confirmed\": 12, \"Deaths\": 0, \"Recovered\": 3.0, \"Active\": 9.0, \"New cases\": 0, \"New deaths\": 0, \"New recovered\": 0}, {\"Unnamed: 0\": 4082, \"Date\": \"2020-02-12T00:00:00\", \"Country/Region\": \"United Kingdom\", \"Confirmed\": 16, \"Deaths\": 0, \"Recovered\": 1.0, \"Active\": 15.0, \"New cases\": 1, \"New deaths\": 0, \"New recovered\": 1}, {\"Unnamed: 0\": 4124, \"Date\": \"2020-02-13T00:00:00\", \"Country/Region\": \"Canada\", \"Confirmed\": 7, \"Deaths\": 0, \"Recovered\": 1.0, \"Active\": 6.0, \"New cases\": 0, \"New deaths\": 0, \"New recovered\": 0}, {\"Unnamed: 0\": 4128, \"Date\": \"2020-02-13T00:00:00\", \"Country/Region\": \"China\", \"Confirmed\": 59895, \"Deaths\": 1369, \"Recovered\": 5853.0, \"Active\": 52673.0, \"New cases\": 15136, \"New deaths\": 252, \"New recovered\": 1071}, {\"Unnamed: 0\": 4153, \"Date\": \"2020-02-13T00:00:00\", \"Country/Region\": \"France\", \"Confirmed\": 11, \"Deaths\": 0, \"Recovered\": 2.0, \"Active\": 9.0, \"New cases\": 0, \"New deaths\": 0, \"New recovered\": 0}, {\"Unnamed: 0\": 4157, \"Date\": \"2020-02-13T00:00:00\", \"Country/Region\": \"Germany\", \"Confirmed\": 16, \"Deaths\": 0, \"Recovered\": 1.0, \"Active\": 15.0, \"New cases\": 0, \"New deaths\": 0, \"New recovered\": 1}, {\"Unnamed: 0\": 4170, \"Date\": \"2020-02-13T00:00:00\", \"Country/Region\": \"India\", \"Confirmed\": 3, \"Deaths\": 0, \"Recovered\": 0.0, \"Active\": 3.0, \"New cases\": 0, \"New deaths\": 0, \"New recovered\": 0}, {\"Unnamed: 0\": 4172, \"Date\": \"2020-02-13T00:00:00\", \"Country/Region\": \"Iran\", \"Confirmed\": 0, \"Deaths\": 0, \"Recovered\": 0.0, \"Active\": 0.0, \"New cases\": 0, \"New deaths\": 0, \"New recovered\": 0}, {\"Unnamed: 0\": 4176, \"Date\": \"2020-02-13T00:00:00\", \"Country/Region\": \"Italy\", \"Confirmed\": 3, \"Deaths\": 0, \"Recovered\": 0.0, \"Active\": 3.0, \"New cases\": 0, \"New deaths\": 0, \"New recovered\": 0}, {\"Unnamed: 0\": 4248, \"Date\": \"2020-02-13T00:00:00\", \"Country/Region\": \"Spain\", \"Confirmed\": 2, \"Deaths\": 0, \"Recovered\": 0.0, \"Active\": 2.0, \"New cases\": 0, \"New deaths\": 0, \"New recovered\": 0}, {\"Unnamed: 0\": 4253, \"Date\": \"2020-02-13T00:00:00\", \"Country/Region\": \"Switzerland\", \"Confirmed\": 0, \"Deaths\": 0, \"Recovered\": 0.0, \"Active\": 0.0, \"New cases\": 0, \"New deaths\": 0, \"New recovered\": 0}, {\"Unnamed: 0\": 4264, \"Date\": \"2020-02-13T00:00:00\", \"Country/Region\": \"US\", \"Confirmed\": 13, \"Deaths\": 0, \"Recovered\": 3.0, \"Active\": 10.0, \"New cases\": 1, \"New deaths\": 0, \"New recovered\": 0}, {\"Unnamed: 0\": 4268, \"Date\": \"2020-02-13T00:00:00\", \"Country/Region\": \"United Kingdom\", \"Confirmed\": 17, \"Deaths\": 0, \"Recovered\": 1.0, \"Active\": 16.0, \"New cases\": 1, \"New deaths\": 0, \"New recovered\": 0}, {\"Unnamed: 0\": 4310, \"Date\": \"2020-02-14T00:00:00\", \"Country/Region\": \"Canada\", \"Confirmed\": 7, \"Deaths\": 0, \"Recovered\": 1.0, \"Active\": 6.0, \"New cases\": 0, \"New deaths\": 0, \"New recovered\": 0}, {\"Unnamed: 0\": 4314, \"Date\": \"2020-02-14T00:00:00\", \"Country/Region\": \"China\", \"Confirmed\": 66358, \"Deaths\": 1521, \"Recovered\": 7533.0, \"Active\": 57304.0, \"New cases\": 6463, \"New deaths\": 152, \"New recovered\": 1680}, {\"Unnamed: 0\": 4339, \"Date\": \"2020-02-14T00:00:00\", \"Country/Region\": \"France\", \"Confirmed\": 11, \"Deaths\": 0, \"Recovered\": 2.0, \"Active\": 9.0, \"New cases\": 0, \"New deaths\": 0, \"New recovered\": 0}, {\"Unnamed: 0\": 4343, \"Date\": \"2020-02-14T00:00:00\", \"Country/Region\": \"Germany\", \"Confirmed\": 16, \"Deaths\": 0, \"Recovered\": 1.0, \"Active\": 15.0, \"New cases\": 0, \"New deaths\": 0, \"New recovered\": 0}, {\"Unnamed: 0\": 4356, \"Date\": \"2020-02-14T00:00:00\", \"Country/Region\": \"India\", \"Confirmed\": 3, \"Deaths\": 0, \"Recovered\": 0.0, \"Active\": 3.0, \"New cases\": 0, \"New deaths\": 0, \"New recovered\": 0}, {\"Unnamed: 0\": 4358, \"Date\": \"2020-02-14T00:00:00\", \"Country/Region\": \"Iran\", \"Confirmed\": 0, \"Deaths\": 0, \"Recovered\": 0.0, \"Active\": 0.0, \"New cases\": 0, \"New deaths\": 0, \"New recovered\": 0}, {\"Unnamed: 0\": 4362, \"Date\": \"2020-02-14T00:00:00\", \"Country/Region\": \"Italy\", \"Confirmed\": 3, \"Deaths\": 0, \"Recovered\": 0.0, \"Active\": 3.0, \"New cases\": 0, \"New deaths\": 0, \"New recovered\": 0}, {\"Unnamed: 0\": 4434, \"Date\": \"2020-02-14T00:00:00\", \"Country/Region\": \"Spain\", \"Confirmed\": 2, \"Deaths\": 0, \"Recovered\": 0.0, \"Active\": 2.0, \"New cases\": 0, \"New deaths\": 0, \"New recovered\": 0}, {\"Unnamed: 0\": 4439, \"Date\": \"2020-02-14T00:00:00\", \"Country/Region\": \"Switzerland\", \"Confirmed\": 0, \"Deaths\": 0, \"Recovered\": 0.0, \"Active\": 0.0, \"New cases\": 0, \"New deaths\": 0, \"New recovered\": 0}, {\"Unnamed: 0\": 4450, \"Date\": \"2020-02-14T00:00:00\", \"Country/Region\": \"US\", \"Confirmed\": 13, \"Deaths\": 0, \"Recovered\": 3.0, \"Active\": 10.0, \"New cases\": 0, \"New deaths\": 0, \"New recovered\": 0}, {\"Unnamed: 0\": 4454, \"Date\": \"2020-02-14T00:00:00\", \"Country/Region\": \"United Kingdom\", \"Confirmed\": 18, \"Deaths\": 0, \"Recovered\": 1.0, \"Active\": 17.0, \"New cases\": 1, \"New deaths\": 0, \"New recovered\": 0}, {\"Unnamed: 0\": 4496, \"Date\": \"2020-02-15T00:00:00\", \"Country/Region\": \"Canada\", \"Confirmed\": 7, \"Deaths\": 0, \"Recovered\": 1.0, \"Active\": 6.0, \"New cases\": 0, \"New deaths\": 0, \"New recovered\": 0}, {\"Unnamed: 0\": 4500, \"Date\": \"2020-02-15T00:00:00\", \"Country/Region\": \"China\", \"Confirmed\": 68413, \"Deaths\": 1663, \"Recovered\": 8806.0, \"Active\": 57944.0, \"New cases\": 2055, \"New deaths\": 142, \"New recovered\": 1273}, {\"Unnamed: 0\": 4525, \"Date\": \"2020-02-15T00:00:00\", \"Country/Region\": \"France\", \"Confirmed\": 12, \"Deaths\": 1, \"Recovered\": 4.0, \"Active\": 7.0, \"New cases\": 1, \"New deaths\": 1, \"New recovered\": 2}, {\"Unnamed: 0\": 4529, \"Date\": \"2020-02-15T00:00:00\", \"Country/Region\": \"Germany\", \"Confirmed\": 16, \"Deaths\": 0, \"Recovered\": 1.0, \"Active\": 15.0, \"New cases\": 0, \"New deaths\": 0, \"New recovered\": 0}, {\"Unnamed: 0\": 4542, \"Date\": \"2020-02-15T00:00:00\", \"Country/Region\": \"India\", \"Confirmed\": 3, \"Deaths\": 0, \"Recovered\": 0.0, \"Active\": 3.0, \"New cases\": 0, \"New deaths\": 0, \"New recovered\": 0}, {\"Unnamed: 0\": 4544, \"Date\": \"2020-02-15T00:00:00\", \"Country/Region\": \"Iran\", \"Confirmed\": 0, \"Deaths\": 0, \"Recovered\": 0.0, \"Active\": 0.0, \"New cases\": 0, \"New deaths\": 0, \"New recovered\": 0}, {\"Unnamed: 0\": 4548, \"Date\": \"2020-02-15T00:00:00\", \"Country/Region\": \"Italy\", \"Confirmed\": 3, \"Deaths\": 0, \"Recovered\": 0.0, \"Active\": 3.0, \"New cases\": 0, \"New deaths\": 0, \"New recovered\": 0}, {\"Unnamed: 0\": 4620, \"Date\": \"2020-02-15T00:00:00\", \"Country/Region\": \"Spain\", \"Confirmed\": 2, \"Deaths\": 0, \"Recovered\": 2.0, \"Active\": 0.0, \"New cases\": 0, \"New deaths\": 0, \"New recovered\": 2}, {\"Unnamed: 0\": 4625, \"Date\": \"2020-02-15T00:00:00\", \"Country/Region\": \"Switzerland\", \"Confirmed\": 0, \"Deaths\": 0, \"Recovered\": 0.0, \"Active\": 0.0, \"New cases\": 0, \"New deaths\": 0, \"New recovered\": 0}, {\"Unnamed: 0\": 4636, \"Date\": \"2020-02-15T00:00:00\", \"Country/Region\": \"US\", \"Confirmed\": 13, \"Deaths\": 0, \"Recovered\": 3.0, \"Active\": 10.0, \"New cases\": 0, \"New deaths\": 0, \"New recovered\": 0}, {\"Unnamed: 0\": 4640, \"Date\": \"2020-02-15T00:00:00\", \"Country/Region\": \"United Kingdom\", \"Confirmed\": 18, \"Deaths\": 0, \"Recovered\": 1.0, \"Active\": 17.0, \"New cases\": 0, \"New deaths\": 0, \"New recovered\": 0}, {\"Unnamed: 0\": 4682, \"Date\": \"2020-02-16T00:00:00\", \"Country/Region\": \"Canada\", \"Confirmed\": 7, \"Deaths\": 0, \"Recovered\": 1.0, \"Active\": 6.0, \"New cases\": 0, \"New deaths\": 0, \"New recovered\": 0}, {\"Unnamed: 0\": 4686, \"Date\": \"2020-02-16T00:00:00\", \"Country/Region\": \"China\", \"Confirmed\": 70513, \"Deaths\": 1766, \"Recovered\": 10210.0, \"Active\": 58537.0, \"New cases\": 2100, \"New deaths\": 103, \"New recovered\": 1404}, {\"Unnamed: 0\": 4711, \"Date\": \"2020-02-16T00:00:00\", \"Country/Region\": \"France\", \"Confirmed\": 12, \"Deaths\": 1, \"Recovered\": 4.0, \"Active\": 7.0, \"New cases\": 0, \"New deaths\": 0, \"New recovered\": 0}, {\"Unnamed: 0\": 4715, \"Date\": \"2020-02-16T00:00:00\", \"Country/Region\": \"Germany\", \"Confirmed\": 16, \"Deaths\": 0, \"Recovered\": 1.0, \"Active\": 15.0, \"New cases\": 0, \"New deaths\": 0, \"New recovered\": 0}, {\"Unnamed: 0\": 4728, \"Date\": \"2020-02-16T00:00:00\", \"Country/Region\": \"India\", \"Confirmed\": 3, \"Deaths\": 0, \"Recovered\": 3.0, \"Active\": 0.0, \"New cases\": 0, \"New deaths\": 0, \"New recovered\": 3}, {\"Unnamed: 0\": 4730, \"Date\": \"2020-02-16T00:00:00\", \"Country/Region\": \"Iran\", \"Confirmed\": 0, \"Deaths\": 0, \"Recovered\": 0.0, \"Active\": 0.0, \"New cases\": 0, \"New deaths\": 0, \"New recovered\": 0}, {\"Unnamed: 0\": 4734, \"Date\": \"2020-02-16T00:00:00\", \"Country/Region\": \"Italy\", \"Confirmed\": 3, \"Deaths\": 0, \"Recovered\": 0.0, \"Active\": 3.0, \"New cases\": 0, \"New deaths\": 0, \"New recovered\": 0}, {\"Unnamed: 0\": 4806, \"Date\": \"2020-02-16T00:00:00\", \"Country/Region\": \"Spain\", \"Confirmed\": 2, \"Deaths\": 0, \"Recovered\": 2.0, \"Active\": 0.0, \"New cases\": 0, \"New deaths\": 0, \"New recovered\": 0}, {\"Unnamed: 0\": 4811, \"Date\": \"2020-02-16T00:00:00\", \"Country/Region\": \"Switzerland\", \"Confirmed\": 0, \"Deaths\": 0, \"Recovered\": 0.0, \"Active\": 0.0, \"New cases\": 0, \"New deaths\": 0, \"New recovered\": 0}, {\"Unnamed: 0\": 4822, \"Date\": \"2020-02-16T00:00:00\", \"Country/Region\": \"US\", \"Confirmed\": 13, \"Deaths\": 0, \"Recovered\": 3.0, \"Active\": 10.0, \"New cases\": 0, \"New deaths\": 0, \"New recovered\": 0}, {\"Unnamed: 0\": 4826, \"Date\": \"2020-02-16T00:00:00\", \"Country/Region\": \"United Kingdom\", \"Confirmed\": 18, \"Deaths\": 0, \"Recovered\": 8.0, \"Active\": 10.0, \"New cases\": 0, \"New deaths\": 0, \"New recovered\": 7}, {\"Unnamed: 0\": 4868, \"Date\": \"2020-02-17T00:00:00\", \"Country/Region\": \"Canada\", \"Confirmed\": 8, \"Deaths\": 0, \"Recovered\": 1.0, \"Active\": 7.0, \"New cases\": 1, \"New deaths\": 0, \"New recovered\": 0}, {\"Unnamed: 0\": 4872, \"Date\": \"2020-02-17T00:00:00\", \"Country/Region\": \"China\", \"Confirmed\": 72434, \"Deaths\": 1864, \"Recovered\": 11831.0, \"Active\": 58739.0, \"New cases\": 1921, \"New deaths\": 98, \"New recovered\": 1621}, {\"Unnamed: 0\": 4897, \"Date\": \"2020-02-17T00:00:00\", \"Country/Region\": \"France\", \"Confirmed\": 12, \"Deaths\": 1, \"Recovered\": 4.0, \"Active\": 7.0, \"New cases\": 0, \"New deaths\": 0, \"New recovered\": 0}, {\"Unnamed: 0\": 4901, \"Date\": \"2020-02-17T00:00:00\", \"Country/Region\": \"Germany\", \"Confirmed\": 16, \"Deaths\": 0, \"Recovered\": 1.0, \"Active\": 15.0, \"New cases\": 0, \"New deaths\": 0, \"New recovered\": 0}, {\"Unnamed: 0\": 4914, \"Date\": \"2020-02-17T00:00:00\", \"Country/Region\": \"India\", \"Confirmed\": 3, \"Deaths\": 0, \"Recovered\": 3.0, \"Active\": 0.0, \"New cases\": 0, \"New deaths\": 0, \"New recovered\": 0}, {\"Unnamed: 0\": 4916, \"Date\": \"2020-02-17T00:00:00\", \"Country/Region\": \"Iran\", \"Confirmed\": 0, \"Deaths\": 0, \"Recovered\": 0.0, \"Active\": 0.0, \"New cases\": 0, \"New deaths\": 0, \"New recovered\": 0}, {\"Unnamed: 0\": 4920, \"Date\": \"2020-02-17T00:00:00\", \"Country/Region\": \"Italy\", \"Confirmed\": 3, \"Deaths\": 0, \"Recovered\": 0.0, \"Active\": 3.0, \"New cases\": 0, \"New deaths\": 0, \"New recovered\": 0}, {\"Unnamed: 0\": 4992, \"Date\": \"2020-02-17T00:00:00\", \"Country/Region\": \"Spain\", \"Confirmed\": 2, \"Deaths\": 0, \"Recovered\": 2.0, \"Active\": 0.0, \"New cases\": 0, \"New deaths\": 0, \"New recovered\": 0}, {\"Unnamed: 0\": 4997, \"Date\": \"2020-02-17T00:00:00\", \"Country/Region\": \"Switzerland\", \"Confirmed\": 0, \"Deaths\": 0, \"Recovered\": 0.0, \"Active\": 0.0, \"New cases\": 0, \"New deaths\": 0, \"New recovered\": 0}, {\"Unnamed: 0\": 5008, \"Date\": \"2020-02-17T00:00:00\", \"Country/Region\": \"US\", \"Confirmed\": 13, \"Deaths\": 0, \"Recovered\": 3.0, \"Active\": 10.0, \"New cases\": 0, \"New deaths\": 0, \"New recovered\": 0}, {\"Unnamed: 0\": 5012, \"Date\": \"2020-02-17T00:00:00\", \"Country/Region\": \"United Kingdom\", \"Confirmed\": 19, \"Deaths\": 0, \"Recovered\": 8.0, \"Active\": 11.0, \"New cases\": 1, \"New deaths\": 0, \"New recovered\": 0}, {\"Unnamed: 0\": 5054, \"Date\": \"2020-02-18T00:00:00\", \"Country/Region\": \"Canada\", \"Confirmed\": 8, \"Deaths\": 0, \"Recovered\": 1.0, \"Active\": 7.0, \"New cases\": 0, \"New deaths\": 0, \"New recovered\": 0}, {\"Unnamed: 0\": 5058, \"Date\": \"2020-02-18T00:00:00\", \"Country/Region\": \"China\", \"Confirmed\": 74211, \"Deaths\": 2003, \"Recovered\": 13548.0, \"Active\": 58660.0, \"New cases\": 1777, \"New deaths\": 139, \"New recovered\": 1717}, {\"Unnamed: 0\": 5083, \"Date\": \"2020-02-18T00:00:00\", \"Country/Region\": \"France\", \"Confirmed\": 12, \"Deaths\": 1, \"Recovered\": 4.0, \"Active\": 7.0, \"New cases\": 0, \"New deaths\": 0, \"New recovered\": 0}, {\"Unnamed: 0\": 5087, \"Date\": \"2020-02-18T00:00:00\", \"Country/Region\": \"Germany\", \"Confirmed\": 16, \"Deaths\": 0, \"Recovered\": 12.0, \"Active\": 4.0, \"New cases\": 0, \"New deaths\": 0, \"New recovered\": 11}, {\"Unnamed: 0\": 5100, \"Date\": \"2020-02-18T00:00:00\", \"Country/Region\": \"India\", \"Confirmed\": 3, \"Deaths\": 0, \"Recovered\": 3.0, \"Active\": 0.0, \"New cases\": 0, \"New deaths\": 0, \"New recovered\": 0}, {\"Unnamed: 0\": 5102, \"Date\": \"2020-02-18T00:00:00\", \"Country/Region\": \"Iran\", \"Confirmed\": 0, \"Deaths\": 0, \"Recovered\": 0.0, \"Active\": 0.0, \"New cases\": 0, \"New deaths\": 0, \"New recovered\": 0}, {\"Unnamed: 0\": 5106, \"Date\": \"2020-02-18T00:00:00\", \"Country/Region\": \"Italy\", \"Confirmed\": 3, \"Deaths\": 0, \"Recovered\": 0.0, \"Active\": 3.0, \"New cases\": 0, \"New deaths\": 0, \"New recovered\": 0}, {\"Unnamed: 0\": 5178, \"Date\": \"2020-02-18T00:00:00\", \"Country/Region\": \"Spain\", \"Confirmed\": 2, \"Deaths\": 0, \"Recovered\": 2.0, \"Active\": 0.0, \"New cases\": 0, \"New deaths\": 0, \"New recovered\": 0}, {\"Unnamed: 0\": 5183, \"Date\": \"2020-02-18T00:00:00\", \"Country/Region\": \"Switzerland\", \"Confirmed\": 0, \"Deaths\": 0, \"Recovered\": 0.0, \"Active\": 0.0, \"New cases\": 0, \"New deaths\": 0, \"New recovered\": 0}, {\"Unnamed: 0\": 5194, \"Date\": \"2020-02-18T00:00:00\", \"Country/Region\": \"US\", \"Confirmed\": 13, \"Deaths\": 0, \"Recovered\": 3.0, \"Active\": 10.0, \"New cases\": 0, \"New deaths\": 0, \"New recovered\": 0}, {\"Unnamed: 0\": 5198, \"Date\": \"2020-02-18T00:00:00\", \"Country/Region\": \"United Kingdom\", \"Confirmed\": 19, \"Deaths\": 0, \"Recovered\": 8.0, \"Active\": 11.0, \"New cases\": 0, \"New deaths\": 0, \"New recovered\": 0}, {\"Unnamed: 0\": 5240, \"Date\": \"2020-02-19T00:00:00\", \"Country/Region\": \"Canada\", \"Confirmed\": 8, \"Deaths\": 0, \"Recovered\": 1.0, \"Active\": 7.0, \"New cases\": 0, \"New deaths\": 0, \"New recovered\": 0}, {\"Unnamed: 0\": 5244, \"Date\": \"2020-02-19T00:00:00\", \"Country/Region\": \"China\", \"Confirmed\": 74619, \"Deaths\": 2116, \"Recovered\": 15237.0, \"Active\": 57266.0, \"New cases\": 408, \"New deaths\": 113, \"New recovered\": 1689}, {\"Unnamed: 0\": 5269, \"Date\": \"2020-02-19T00:00:00\", \"Country/Region\": \"France\", \"Confirmed\": 12, \"Deaths\": 1, \"Recovered\": 4.0, \"Active\": 7.0, \"New cases\": 0, \"New deaths\": 0, \"New recovered\": 0}, {\"Unnamed: 0\": 5273, \"Date\": \"2020-02-19T00:00:00\", \"Country/Region\": \"Germany\", \"Confirmed\": 16, \"Deaths\": 0, \"Recovered\": 12.0, \"Active\": 4.0, \"New cases\": 0, \"New deaths\": 0, \"New recovered\": 0}, {\"Unnamed: 0\": 5286, \"Date\": \"2020-02-19T00:00:00\", \"Country/Region\": \"India\", \"Confirmed\": 3, \"Deaths\": 0, \"Recovered\": 3.0, \"Active\": 0.0, \"New cases\": 0, \"New deaths\": 0, \"New recovered\": 0}, {\"Unnamed: 0\": 5288, \"Date\": \"2020-02-19T00:00:00\", \"Country/Region\": \"Iran\", \"Confirmed\": 2, \"Deaths\": 2, \"Recovered\": 0.0, \"Active\": 0.0, \"New cases\": 2, \"New deaths\": 2, \"New recovered\": 0}, {\"Unnamed: 0\": 5292, \"Date\": \"2020-02-19T00:00:00\", \"Country/Region\": \"Italy\", \"Confirmed\": 3, \"Deaths\": 0, \"Recovered\": 0.0, \"Active\": 3.0, \"New cases\": 0, \"New deaths\": 0, \"New recovered\": 0}, {\"Unnamed: 0\": 5364, \"Date\": \"2020-02-19T00:00:00\", \"Country/Region\": \"Spain\", \"Confirmed\": 2, \"Deaths\": 0, \"Recovered\": 2.0, \"Active\": 0.0, \"New cases\": 0, \"New deaths\": 0, \"New recovered\": 0}, {\"Unnamed: 0\": 5369, \"Date\": \"2020-02-19T00:00:00\", \"Country/Region\": \"Switzerland\", \"Confirmed\": 0, \"Deaths\": 0, \"Recovered\": 0.0, \"Active\": 0.0, \"New cases\": 0, \"New deaths\": 0, \"New recovered\": 0}, {\"Unnamed: 0\": 5380, \"Date\": \"2020-02-19T00:00:00\", \"Country/Region\": \"US\", \"Confirmed\": 13, \"Deaths\": 0, \"Recovered\": 3.0, \"Active\": 10.0, \"New cases\": 0, \"New deaths\": 0, \"New recovered\": 0}, {\"Unnamed: 0\": 5384, \"Date\": \"2020-02-19T00:00:00\", \"Country/Region\": \"United Kingdom\", \"Confirmed\": 20, \"Deaths\": 0, \"Recovered\": 8.0, \"Active\": 12.0, \"New cases\": 1, \"New deaths\": 0, \"New recovered\": 0}, {\"Unnamed: 0\": 5426, \"Date\": \"2020-02-20T00:00:00\", \"Country/Region\": \"Canada\", \"Confirmed\": 8, \"Deaths\": 0, \"Recovered\": 1.0, \"Active\": 7.0, \"New cases\": 0, \"New deaths\": 0, \"New recovered\": 0}, {\"Unnamed: 0\": 5430, \"Date\": \"2020-02-20T00:00:00\", \"Country/Region\": \"China\", \"Confirmed\": 75077, \"Deaths\": 2238, \"Recovered\": 17208.0, \"Active\": 55631.0, \"New cases\": 458, \"New deaths\": 122, \"New recovered\": 1971}, {\"Unnamed: 0\": 5455, \"Date\": \"2020-02-20T00:00:00\", \"Country/Region\": \"France\", \"Confirmed\": 12, \"Deaths\": 1, \"Recovered\": 4.0, \"Active\": 7.0, \"New cases\": 0, \"New deaths\": 0, \"New recovered\": 0}, {\"Unnamed: 0\": 5459, \"Date\": \"2020-02-20T00:00:00\", \"Country/Region\": \"Germany\", \"Confirmed\": 16, \"Deaths\": 0, \"Recovered\": 12.0, \"Active\": 4.0, \"New cases\": 0, \"New deaths\": 0, \"New recovered\": 0}, {\"Unnamed: 0\": 5472, \"Date\": \"2020-02-20T00:00:00\", \"Country/Region\": \"India\", \"Confirmed\": 3, \"Deaths\": 0, \"Recovered\": 3.0, \"Active\": 0.0, \"New cases\": 0, \"New deaths\": 0, \"New recovered\": 0}, {\"Unnamed: 0\": 5474, \"Date\": \"2020-02-20T00:00:00\", \"Country/Region\": \"Iran\", \"Confirmed\": 5, \"Deaths\": 2, \"Recovered\": 0.0, \"Active\": 3.0, \"New cases\": 3, \"New deaths\": 0, \"New recovered\": 0}, {\"Unnamed: 0\": 5478, \"Date\": \"2020-02-20T00:00:00\", \"Country/Region\": \"Italy\", \"Confirmed\": 3, \"Deaths\": 0, \"Recovered\": 0.0, \"Active\": 3.0, \"New cases\": 0, \"New deaths\": 0, \"New recovered\": 0}, {\"Unnamed: 0\": 5550, \"Date\": \"2020-02-20T00:00:00\", \"Country/Region\": \"Spain\", \"Confirmed\": 2, \"Deaths\": 0, \"Recovered\": 2.0, \"Active\": 0.0, \"New cases\": 0, \"New deaths\": 0, \"New recovered\": 0}, {\"Unnamed: 0\": 5555, \"Date\": \"2020-02-20T00:00:00\", \"Country/Region\": \"Switzerland\", \"Confirmed\": 0, \"Deaths\": 0, \"Recovered\": 0.0, \"Active\": 0.0, \"New cases\": 0, \"New deaths\": 0, \"New recovered\": 0}, {\"Unnamed: 0\": 5566, \"Date\": \"2020-02-20T00:00:00\", \"Country/Region\": \"US\", \"Confirmed\": 13, \"Deaths\": 0, \"Recovered\": 3.0, \"Active\": 10.0, \"New cases\": 0, \"New deaths\": 0, \"New recovered\": 0}, {\"Unnamed: 0\": 5570, \"Date\": \"2020-02-20T00:00:00\", \"Country/Region\": \"United Kingdom\", \"Confirmed\": 22, \"Deaths\": 0, \"Recovered\": 8.0, \"Active\": 14.0, \"New cases\": 2, \"New deaths\": 0, \"New recovered\": 0}, {\"Unnamed: 0\": 5612, \"Date\": \"2020-02-21T00:00:00\", \"Country/Region\": \"Canada\", \"Confirmed\": 9, \"Deaths\": 0, \"Recovered\": 3.0, \"Active\": 6.0, \"New cases\": 1, \"New deaths\": 0, \"New recovered\": 2}, {\"Unnamed: 0\": 5616, \"Date\": \"2020-02-21T00:00:00\", \"Country/Region\": \"China\", \"Confirmed\": 75550, \"Deaths\": 2238, \"Recovered\": 17784.0, \"Active\": 55528.0, \"New cases\": 473, \"New deaths\": 0, \"New recovered\": 576}, {\"Unnamed: 0\": 5641, \"Date\": \"2020-02-21T00:00:00\", \"Country/Region\": \"France\", \"Confirmed\": 12, \"Deaths\": 1, \"Recovered\": 4.0, \"Active\": 7.0, \"New cases\": 0, \"New deaths\": 0, \"New recovered\": 0}, {\"Unnamed: 0\": 5645, \"Date\": \"2020-02-21T00:00:00\", \"Country/Region\": \"Germany\", \"Confirmed\": 16, \"Deaths\": 0, \"Recovered\": 14.0, \"Active\": 2.0, \"New cases\": 0, \"New deaths\": 0, \"New recovered\": 2}, {\"Unnamed: 0\": 5658, \"Date\": \"2020-02-21T00:00:00\", \"Country/Region\": \"India\", \"Confirmed\": 3, \"Deaths\": 0, \"Recovered\": 3.0, \"Active\": 0.0, \"New cases\": 0, \"New deaths\": 0, \"New recovered\": 0}, {\"Unnamed: 0\": 5660, \"Date\": \"2020-02-21T00:00:00\", \"Country/Region\": \"Iran\", \"Confirmed\": 18, \"Deaths\": 4, \"Recovered\": 0.0, \"Active\": 14.0, \"New cases\": 13, \"New deaths\": 2, \"New recovered\": 0}, {\"Unnamed: 0\": 5664, \"Date\": \"2020-02-21T00:00:00\", \"Country/Region\": \"Italy\", \"Confirmed\": 20, \"Deaths\": 1, \"Recovered\": 0.0, \"Active\": 19.0, \"New cases\": 17, \"New deaths\": 1, \"New recovered\": 0}, {\"Unnamed: 0\": 5736, \"Date\": \"2020-02-21T00:00:00\", \"Country/Region\": \"Spain\", \"Confirmed\": 2, \"Deaths\": 0, \"Recovered\": 2.0, \"Active\": 0.0, \"New cases\": 0, \"New deaths\": 0, \"New recovered\": 0}, {\"Unnamed: 0\": 5741, \"Date\": \"2020-02-21T00:00:00\", \"Country/Region\": \"Switzerland\", \"Confirmed\": 0, \"Deaths\": 0, \"Recovered\": 0.0, \"Active\": 0.0, \"New cases\": 0, \"New deaths\": 0, \"New recovered\": 0}, {\"Unnamed: 0\": 5752, \"Date\": \"2020-02-21T00:00:00\", \"Country/Region\": \"US\", \"Confirmed\": 15, \"Deaths\": 0, \"Recovered\": 5.0, \"Active\": 10.0, \"New cases\": 2, \"New deaths\": 0, \"New recovered\": 2}, {\"Unnamed: 0\": 5756, \"Date\": \"2020-02-21T00:00:00\", \"Country/Region\": \"United Kingdom\", \"Confirmed\": 23, \"Deaths\": 0, \"Recovered\": 8.0, \"Active\": 15.0, \"New cases\": 1, \"New deaths\": 0, \"New recovered\": 0}, {\"Unnamed: 0\": 5798, \"Date\": \"2020-02-22T00:00:00\", \"Country/Region\": \"Canada\", \"Confirmed\": 9, \"Deaths\": 0, \"Recovered\": 3.0, \"Active\": 6.0, \"New cases\": 0, \"New deaths\": 0, \"New recovered\": 0}, {\"Unnamed: 0\": 5802, \"Date\": \"2020-02-22T00:00:00\", \"Country/Region\": \"China\", \"Confirmed\": 77001, \"Deaths\": 2443, \"Recovered\": 21666.0, \"Active\": 52892.0, \"New cases\": 1451, \"New deaths\": 205, \"New recovered\": 3882}, {\"Unnamed: 0\": 5827, \"Date\": \"2020-02-22T00:00:00\", \"Country/Region\": \"France\", \"Confirmed\": 12, \"Deaths\": 1, \"Recovered\": 4.0, \"Active\": 7.0, \"New cases\": 0, \"New deaths\": 0, \"New recovered\": 0}, {\"Unnamed: 0\": 5831, \"Date\": \"2020-02-22T00:00:00\", \"Country/Region\": \"Germany\", \"Confirmed\": 16, \"Deaths\": 0, \"Recovered\": 14.0, \"Active\": 2.0, \"New cases\": 0, \"New deaths\": 0, \"New recovered\": 0}, {\"Unnamed: 0\": 5844, \"Date\": \"2020-02-22T00:00:00\", \"Country/Region\": \"India\", \"Confirmed\": 3, \"Deaths\": 0, \"Recovered\": 3.0, \"Active\": 0.0, \"New cases\": 0, \"New deaths\": 0, \"New recovered\": 0}, {\"Unnamed: 0\": 5846, \"Date\": \"2020-02-22T00:00:00\", \"Country/Region\": \"Iran\", \"Confirmed\": 28, \"Deaths\": 5, \"Recovered\": 0.0, \"Active\": 23.0, \"New cases\": 10, \"New deaths\": 1, \"New recovered\": 0}, {\"Unnamed: 0\": 5850, \"Date\": \"2020-02-22T00:00:00\", \"Country/Region\": \"Italy\", \"Confirmed\": 62, \"Deaths\": 2, \"Recovered\": 1.0, \"Active\": 59.0, \"New cases\": 42, \"New deaths\": 1, \"New recovered\": 1}, {\"Unnamed: 0\": 5922, \"Date\": \"2020-02-22T00:00:00\", \"Country/Region\": \"Spain\", \"Confirmed\": 2, \"Deaths\": 0, \"Recovered\": 2.0, \"Active\": 0.0, \"New cases\": 0, \"New deaths\": 0, \"New recovered\": 0}, {\"Unnamed: 0\": 5927, \"Date\": \"2020-02-22T00:00:00\", \"Country/Region\": \"Switzerland\", \"Confirmed\": 0, \"Deaths\": 0, \"Recovered\": 0.0, \"Active\": 0.0, \"New cases\": 0, \"New deaths\": 0, \"New recovered\": 0}, {\"Unnamed: 0\": 5938, \"Date\": \"2020-02-22T00:00:00\", \"Country/Region\": \"US\", \"Confirmed\": 15, \"Deaths\": 0, \"Recovered\": 5.0, \"Active\": 10.0, \"New cases\": 0, \"New deaths\": 0, \"New recovered\": 0}, {\"Unnamed: 0\": 5942, \"Date\": \"2020-02-22T00:00:00\", \"Country/Region\": \"United Kingdom\", \"Confirmed\": 23, \"Deaths\": 0, \"Recovered\": 8.0, \"Active\": 15.0, \"New cases\": 0, \"New deaths\": 0, \"New recovered\": 0}, {\"Unnamed: 0\": 5984, \"Date\": \"2020-02-23T00:00:00\", \"Country/Region\": \"Canada\", \"Confirmed\": 9, \"Deaths\": 0, \"Recovered\": 3.0, \"Active\": 6.0, \"New cases\": 0, \"New deaths\": 0, \"New recovered\": 0}, {\"Unnamed: 0\": 5988, \"Date\": \"2020-02-23T00:00:00\", \"Country/Region\": \"China\", \"Confirmed\": 77022, \"Deaths\": 2445, \"Recovered\": 22100.0, \"Active\": 52477.0, \"New cases\": 21, \"New deaths\": 2, \"New recovered\": 434}, {\"Unnamed: 0\": 6013, \"Date\": \"2020-02-23T00:00:00\", \"Country/Region\": \"France\", \"Confirmed\": 12, \"Deaths\": 1, \"Recovered\": 4.0, \"Active\": 7.0, \"New cases\": 0, \"New deaths\": 0, \"New recovered\": 0}, {\"Unnamed: 0\": 6017, \"Date\": \"2020-02-23T00:00:00\", \"Country/Region\": \"Germany\", \"Confirmed\": 16, \"Deaths\": 0, \"Recovered\": 14.0, \"Active\": 2.0, \"New cases\": 0, \"New deaths\": 0, \"New recovered\": 0}, {\"Unnamed: 0\": 6030, \"Date\": \"2020-02-23T00:00:00\", \"Country/Region\": \"India\", \"Confirmed\": 3, \"Deaths\": 0, \"Recovered\": 3.0, \"Active\": 0.0, \"New cases\": 0, \"New deaths\": 0, \"New recovered\": 0}, {\"Unnamed: 0\": 6032, \"Date\": \"2020-02-23T00:00:00\", \"Country/Region\": \"Iran\", \"Confirmed\": 43, \"Deaths\": 8, \"Recovered\": 0.0, \"Active\": 35.0, \"New cases\": 15, \"New deaths\": 3, \"New recovered\": 0}, {\"Unnamed: 0\": 6036, \"Date\": \"2020-02-23T00:00:00\", \"Country/Region\": \"Italy\", \"Confirmed\": 155, \"Deaths\": 3, \"Recovered\": 2.0, \"Active\": 150.0, \"New cases\": 93, \"New deaths\": 1, \"New recovered\": 1}, {\"Unnamed: 0\": 6108, \"Date\": \"2020-02-23T00:00:00\", \"Country/Region\": \"Spain\", \"Confirmed\": 2, \"Deaths\": 0, \"Recovered\": 2.0, \"Active\": 0.0, \"New cases\": 0, \"New deaths\": 0, \"New recovered\": 0}, {\"Unnamed: 0\": 6113, \"Date\": \"2020-02-23T00:00:00\", \"Country/Region\": \"Switzerland\", \"Confirmed\": 0, \"Deaths\": 0, \"Recovered\": 0.0, \"Active\": 0.0, \"New cases\": 0, \"New deaths\": 0, \"New recovered\": 0}, {\"Unnamed: 0\": 6124, \"Date\": \"2020-02-23T00:00:00\", \"Country/Region\": \"US\", \"Confirmed\": 15, \"Deaths\": 0, \"Recovered\": 5.0, \"Active\": 10.0, \"New cases\": 0, \"New deaths\": 0, \"New recovered\": 0}, {\"Unnamed: 0\": 6128, \"Date\": \"2020-02-23T00:00:00\", \"Country/Region\": \"United Kingdom\", \"Confirmed\": 28, \"Deaths\": 0, \"Recovered\": 8.0, \"Active\": 20.0, \"New cases\": 5, \"New deaths\": 0, \"New recovered\": 0}, {\"Unnamed: 0\": 6170, \"Date\": \"2020-02-24T00:00:00\", \"Country/Region\": \"Canada\", \"Confirmed\": 10, \"Deaths\": 0, \"Recovered\": 3.0, \"Active\": 7.0, \"New cases\": 1, \"New deaths\": 0, \"New recovered\": 0}, {\"Unnamed: 0\": 6174, \"Date\": \"2020-02-24T00:00:00\", \"Country/Region\": \"China\", \"Confirmed\": 77241, \"Deaths\": 2595, \"Recovered\": 23838.0, \"Active\": 50808.0, \"New cases\": 219, \"New deaths\": 150, \"New recovered\": 1738}, {\"Unnamed: 0\": 6199, \"Date\": \"2020-02-24T00:00:00\", \"Country/Region\": \"France\", \"Confirmed\": 12, \"Deaths\": 1, \"Recovered\": 4.0, \"Active\": 7.0, \"New cases\": 0, \"New deaths\": 0, \"New recovered\": 0}, {\"Unnamed: 0\": 6203, \"Date\": \"2020-02-24T00:00:00\", \"Country/Region\": \"Germany\", \"Confirmed\": 16, \"Deaths\": 0, \"Recovered\": 14.0, \"Active\": 2.0, \"New cases\": 0, \"New deaths\": 0, \"New recovered\": 0}, {\"Unnamed: 0\": 6216, \"Date\": \"2020-02-24T00:00:00\", \"Country/Region\": \"India\", \"Confirmed\": 3, \"Deaths\": 0, \"Recovered\": 3.0, \"Active\": 0.0, \"New cases\": 0, \"New deaths\": 0, \"New recovered\": 0}, {\"Unnamed: 0\": 6218, \"Date\": \"2020-02-24T00:00:00\", \"Country/Region\": \"Iran\", \"Confirmed\": 61, \"Deaths\": 12, \"Recovered\": 0.0, \"Active\": 49.0, \"New cases\": 18, \"New deaths\": 4, \"New recovered\": 0}, {\"Unnamed: 0\": 6222, \"Date\": \"2020-02-24T00:00:00\", \"Country/Region\": \"Italy\", \"Confirmed\": 229, \"Deaths\": 7, \"Recovered\": 1.0, \"Active\": 221.0, \"New cases\": 74, \"New deaths\": 4, \"New recovered\": -1}, {\"Unnamed: 0\": 6294, \"Date\": \"2020-02-24T00:00:00\", \"Country/Region\": \"Spain\", \"Confirmed\": 2, \"Deaths\": 0, \"Recovered\": 2.0, \"Active\": 0.0, \"New cases\": 0, \"New deaths\": 0, \"New recovered\": 0}, {\"Unnamed: 0\": 6299, \"Date\": \"2020-02-24T00:00:00\", \"Country/Region\": \"Switzerland\", \"Confirmed\": 0, \"Deaths\": 0, \"Recovered\": 0.0, \"Active\": 0.0, \"New cases\": 0, \"New deaths\": 0, \"New recovered\": 0}, {\"Unnamed: 0\": 6310, \"Date\": \"2020-02-24T00:00:00\", \"Country/Region\": \"US\", \"Confirmed\": 15, \"Deaths\": 0, \"Recovered\": 5.0, \"Active\": 10.0, \"New cases\": 0, \"New deaths\": 0, \"New recovered\": 0}, {\"Unnamed: 0\": 6314, \"Date\": \"2020-02-24T00:00:00\", \"Country/Region\": \"United Kingdom\", \"Confirmed\": 30, \"Deaths\": 0, \"Recovered\": 8.0, \"Active\": 22.0, \"New cases\": 2, \"New deaths\": 0, \"New recovered\": 0}, {\"Unnamed: 0\": 6356, \"Date\": \"2020-02-25T00:00:00\", \"Country/Region\": \"Canada\", \"Confirmed\": 11, \"Deaths\": 0, \"Recovered\": 3.0, \"Active\": 8.0, \"New cases\": 1, \"New deaths\": 0, \"New recovered\": 0}, {\"Unnamed: 0\": 6360, \"Date\": \"2020-02-25T00:00:00\", \"Country/Region\": \"China\", \"Confirmed\": 77754, \"Deaths\": 2665, \"Recovered\": 26426.0, \"Active\": 48663.0, \"New cases\": 513, \"New deaths\": 70, \"New recovered\": 2588}, {\"Unnamed: 0\": 6385, \"Date\": \"2020-02-25T00:00:00\", \"Country/Region\": \"France\", \"Confirmed\": 14, \"Deaths\": 1, \"Recovered\": 11.0, \"Active\": 2.0, \"New cases\": 2, \"New deaths\": 0, \"New recovered\": 7}, {\"Unnamed: 0\": 6389, \"Date\": \"2020-02-25T00:00:00\", \"Country/Region\": \"Germany\", \"Confirmed\": 17, \"Deaths\": 0, \"Recovered\": 14.0, \"Active\": 3.0, \"New cases\": 1, \"New deaths\": 0, \"New recovered\": 0}, {\"Unnamed: 0\": 6402, \"Date\": \"2020-02-25T00:00:00\", \"Country/Region\": \"India\", \"Confirmed\": 3, \"Deaths\": 0, \"Recovered\": 3.0, \"Active\": 0.0, \"New cases\": 0, \"New deaths\": 0, \"New recovered\": 0}, {\"Unnamed: 0\": 6404, \"Date\": \"2020-02-25T00:00:00\", \"Country/Region\": \"Iran\", \"Confirmed\": 95, \"Deaths\": 16, \"Recovered\": 0.0, \"Active\": 79.0, \"New cases\": 34, \"New deaths\": 4, \"New recovered\": 0}, {\"Unnamed: 0\": 6408, \"Date\": \"2020-02-25T00:00:00\", \"Country/Region\": \"Italy\", \"Confirmed\": 322, \"Deaths\": 10, \"Recovered\": 1.0, \"Active\": 311.0, \"New cases\": 93, \"New deaths\": 3, \"New recovered\": 0}, {\"Unnamed: 0\": 6480, \"Date\": \"2020-02-25T00:00:00\", \"Country/Region\": \"Spain\", \"Confirmed\": 6, \"Deaths\": 0, \"Recovered\": 2.0, \"Active\": 4.0, \"New cases\": 4, \"New deaths\": 0, \"New recovered\": 0}, {\"Unnamed: 0\": 6485, \"Date\": \"2020-02-25T00:00:00\", \"Country/Region\": \"Switzerland\", \"Confirmed\": 1, \"Deaths\": 0, \"Recovered\": 0.0, \"Active\": 1.0, \"New cases\": 1, \"New deaths\": 0, \"New recovered\": 0}, {\"Unnamed: 0\": 6496, \"Date\": \"2020-02-25T00:00:00\", \"Country/Region\": \"US\", \"Confirmed\": 15, \"Deaths\": 0, \"Recovered\": 6.0, \"Active\": 9.0, \"New cases\": 0, \"New deaths\": 0, \"New recovered\": 1}, {\"Unnamed: 0\": 6500, \"Date\": \"2020-02-25T00:00:00\", \"Country/Region\": \"United Kingdom\", \"Confirmed\": 34, \"Deaths\": 0, \"Recovered\": 8.0, \"Active\": 26.0, \"New cases\": 4, \"New deaths\": 0, \"New recovered\": 0}, {\"Unnamed: 0\": 6542, \"Date\": \"2020-02-26T00:00:00\", \"Country/Region\": \"Canada\", \"Confirmed\": 11, \"Deaths\": 0, \"Recovered\": 3.0, \"Active\": 8.0, \"New cases\": 0, \"New deaths\": 0, \"New recovered\": 0}, {\"Unnamed: 0\": 6546, \"Date\": \"2020-02-26T00:00:00\", \"Country/Region\": \"China\", \"Confirmed\": 78166, \"Deaths\": 2717, \"Recovered\": 28790.0, \"Active\": 46659.0, \"New cases\": 412, \"New deaths\": 52, \"New recovered\": 2364}, {\"Unnamed: 0\": 6571, \"Date\": \"2020-02-26T00:00:00\", \"Country/Region\": \"France\", \"Confirmed\": 18, \"Deaths\": 2, \"Recovered\": 11.0, \"Active\": 5.0, \"New cases\": 4, \"New deaths\": 1, \"New recovered\": 0}, {\"Unnamed: 0\": 6575, \"Date\": \"2020-02-26T00:00:00\", \"Country/Region\": \"Germany\", \"Confirmed\": 27, \"Deaths\": 0, \"Recovered\": 15.0, \"Active\": 12.0, \"New cases\": 10, \"New deaths\": 0, \"New recovered\": 1}, {\"Unnamed: 0\": 6588, \"Date\": \"2020-02-26T00:00:00\", \"Country/Region\": \"India\", \"Confirmed\": 3, \"Deaths\": 0, \"Recovered\": 3.0, \"Active\": 0.0, \"New cases\": 0, \"New deaths\": 0, \"New recovered\": 0}, {\"Unnamed: 0\": 6590, \"Date\": \"2020-02-26T00:00:00\", \"Country/Region\": \"Iran\", \"Confirmed\": 139, \"Deaths\": 19, \"Recovered\": 49.0, \"Active\": 71.0, \"New cases\": 44, \"New deaths\": 3, \"New recovered\": 49}, {\"Unnamed: 0\": 6594, \"Date\": \"2020-02-26T00:00:00\", \"Country/Region\": \"Italy\", \"Confirmed\": 453, \"Deaths\": 12, \"Recovered\": 3.0, \"Active\": 438.0, \"New cases\": 131, \"New deaths\": 2, \"New recovered\": 2}, {\"Unnamed: 0\": 6666, \"Date\": \"2020-02-26T00:00:00\", \"Country/Region\": \"Spain\", \"Confirmed\": 13, \"Deaths\": 0, \"Recovered\": 2.0, \"Active\": 11.0, \"New cases\": 7, \"New deaths\": 0, \"New recovered\": 0}, {\"Unnamed: 0\": 6671, \"Date\": \"2020-02-26T00:00:00\", \"Country/Region\": \"Switzerland\", \"Confirmed\": 1, \"Deaths\": 0, \"Recovered\": 0.0, \"Active\": 1.0, \"New cases\": 0, \"New deaths\": 0, \"New recovered\": 0}, {\"Unnamed: 0\": 6682, \"Date\": \"2020-02-26T00:00:00\", \"Country/Region\": \"US\", \"Confirmed\": 15, \"Deaths\": 0, \"Recovered\": 6.0, \"Active\": 9.0, \"New cases\": 0, \"New deaths\": 0, \"New recovered\": 0}, {\"Unnamed: 0\": 6686, \"Date\": \"2020-02-26T00:00:00\", \"Country/Region\": \"United Kingdom\", \"Confirmed\": 37, \"Deaths\": 0, \"Recovered\": 8.0, \"Active\": 29.0, \"New cases\": 3, \"New deaths\": 0, \"New recovered\": 0}, {\"Unnamed: 0\": 6728, \"Date\": \"2020-02-27T00:00:00\", \"Country/Region\": \"Canada\", \"Confirmed\": 13, \"Deaths\": 0, \"Recovered\": 6.0, \"Active\": 7.0, \"New cases\": 2, \"New deaths\": 0, \"New recovered\": 3}, {\"Unnamed: 0\": 6732, \"Date\": \"2020-02-27T00:00:00\", \"Country/Region\": \"China\", \"Confirmed\": 78600, \"Deaths\": 2746, \"Recovered\": 31588.0, \"Active\": 44266.0, \"New cases\": 434, \"New deaths\": 29, \"New recovered\": 2798}, {\"Unnamed: 0\": 6757, \"Date\": \"2020-02-27T00:00:00\", \"Country/Region\": \"France\", \"Confirmed\": 38, \"Deaths\": 2, \"Recovered\": 11.0, \"Active\": 25.0, \"New cases\": 20, \"New deaths\": 0, \"New recovered\": 0}, {\"Unnamed: 0\": 6761, \"Date\": \"2020-02-27T00:00:00\", \"Country/Region\": \"Germany\", \"Confirmed\": 46, \"Deaths\": 0, \"Recovered\": 16.0, \"Active\": 30.0, \"New cases\": 19, \"New deaths\": 0, \"New recovered\": 1}, {\"Unnamed: 0\": 6774, \"Date\": \"2020-02-27T00:00:00\", \"Country/Region\": \"India\", \"Confirmed\": 3, \"Deaths\": 0, \"Recovered\": 3.0, \"Active\": 0.0, \"New cases\": 0, \"New deaths\": 0, \"New recovered\": 0}, {\"Unnamed: 0\": 6776, \"Date\": \"2020-02-27T00:00:00\", \"Country/Region\": \"Iran\", \"Confirmed\": 245, \"Deaths\": 26, \"Recovered\": 49.0, \"Active\": 170.0, \"New cases\": 106, \"New deaths\": 7, \"New recovered\": 0}, {\"Unnamed: 0\": 6780, \"Date\": \"2020-02-27T00:00:00\", \"Country/Region\": \"Italy\", \"Confirmed\": 655, \"Deaths\": 17, \"Recovered\": 45.0, \"Active\": 593.0, \"New cases\": 202, \"New deaths\": 5, \"New recovered\": 42}, {\"Unnamed: 0\": 6852, \"Date\": \"2020-02-27T00:00:00\", \"Country/Region\": \"Spain\", \"Confirmed\": 15, \"Deaths\": 0, \"Recovered\": 2.0, \"Active\": 13.0, \"New cases\": 2, \"New deaths\": 0, \"New recovered\": 0}, {\"Unnamed: 0\": 6857, \"Date\": \"2020-02-27T00:00:00\", \"Country/Region\": \"Switzerland\", \"Confirmed\": 8, \"Deaths\": 0, \"Recovered\": 0.0, \"Active\": 8.0, \"New cases\": 7, \"New deaths\": 0, \"New recovered\": 0}, {\"Unnamed: 0\": 6868, \"Date\": \"2020-02-27T00:00:00\", \"Country/Region\": \"US\", \"Confirmed\": 16, \"Deaths\": 0, \"Recovered\": 6.0, \"Active\": 10.0, \"New cases\": 1, \"New deaths\": 0, \"New recovered\": 0}, {\"Unnamed: 0\": 6872, \"Date\": \"2020-02-27T00:00:00\", \"Country/Region\": \"United Kingdom\", \"Confirmed\": 44, \"Deaths\": 0, \"Recovered\": 8.0, \"Active\": 36.0, \"New cases\": 7, \"New deaths\": 0, \"New recovered\": 0}, {\"Unnamed: 0\": 6914, \"Date\": \"2020-02-28T00:00:00\", \"Country/Region\": \"Canada\", \"Confirmed\": 14, \"Deaths\": 0, \"Recovered\": 6.0, \"Active\": 8.0, \"New cases\": 1, \"New deaths\": 0, \"New recovered\": 0}, {\"Unnamed: 0\": 6918, \"Date\": \"2020-02-28T00:00:00\", \"Country/Region\": \"China\", \"Confirmed\": 78928, \"Deaths\": 2790, \"Recovered\": 34940.0, \"Active\": 41198.0, \"New cases\": 328, \"New deaths\": 44, \"New recovered\": 3352}, {\"Unnamed: 0\": 6943, \"Date\": \"2020-02-28T00:00:00\", \"Country/Region\": \"France\", \"Confirmed\": 57, \"Deaths\": 2, \"Recovered\": 11.0, \"Active\": 44.0, \"New cases\": 19, \"New deaths\": 0, \"New recovered\": 0}, {\"Unnamed: 0\": 6947, \"Date\": \"2020-02-28T00:00:00\", \"Country/Region\": \"Germany\", \"Confirmed\": 48, \"Deaths\": 0, \"Recovered\": 16.0, \"Active\": 32.0, \"New cases\": 2, \"New deaths\": 0, \"New recovered\": 0}, {\"Unnamed: 0\": 6960, \"Date\": \"2020-02-28T00:00:00\", \"Country/Region\": \"India\", \"Confirmed\": 3, \"Deaths\": 0, \"Recovered\": 3.0, \"Active\": 0.0, \"New cases\": 0, \"New deaths\": 0, \"New recovered\": 0}, {\"Unnamed: 0\": 6962, \"Date\": \"2020-02-28T00:00:00\", \"Country/Region\": \"Iran\", \"Confirmed\": 388, \"Deaths\": 34, \"Recovered\": 73.0, \"Active\": 281.0, \"New cases\": 143, \"New deaths\": 8, \"New recovered\": 24}, {\"Unnamed: 0\": 6966, \"Date\": \"2020-02-28T00:00:00\", \"Country/Region\": \"Italy\", \"Confirmed\": 888, \"Deaths\": 21, \"Recovered\": 46.0, \"Active\": 821.0, \"New cases\": 233, \"New deaths\": 4, \"New recovered\": 1}, {\"Unnamed: 0\": 7038, \"Date\": \"2020-02-28T00:00:00\", \"Country/Region\": \"Spain\", \"Confirmed\": 32, \"Deaths\": 0, \"Recovered\": 2.0, \"Active\": 30.0, \"New cases\": 17, \"New deaths\": 0, \"New recovered\": 0}, {\"Unnamed: 0\": 7043, \"Date\": \"2020-02-28T00:00:00\", \"Country/Region\": \"Switzerland\", \"Confirmed\": 8, \"Deaths\": 0, \"Recovered\": 0.0, \"Active\": 8.0, \"New cases\": 0, \"New deaths\": 0, \"New recovered\": 0}, {\"Unnamed: 0\": 7054, \"Date\": \"2020-02-28T00:00:00\", \"Country/Region\": \"US\", \"Confirmed\": 16, \"Deaths\": 0, \"Recovered\": 7.0, \"Active\": 9.0, \"New cases\": 0, \"New deaths\": 0, \"New recovered\": 1}, {\"Unnamed: 0\": 7058, \"Date\": \"2020-02-28T00:00:00\", \"Country/Region\": \"United Kingdom\", \"Confirmed\": 56, \"Deaths\": 0, \"Recovered\": 8.0, \"Active\": 48.0, \"New cases\": 12, \"New deaths\": 0, \"New recovered\": 0}, {\"Unnamed: 0\": 7100, \"Date\": \"2020-02-29T00:00:00\", \"Country/Region\": \"Canada\", \"Confirmed\": 20, \"Deaths\": 0, \"Recovered\": 6.0, \"Active\": 14.0, \"New cases\": 6, \"New deaths\": 0, \"New recovered\": 0}, {\"Unnamed: 0\": 7104, \"Date\": \"2020-02-29T00:00:00\", \"Country/Region\": \"China\", \"Confirmed\": 79356, \"Deaths\": 2837, \"Recovered\": 37868.0, \"Active\": 38651.0, \"New cases\": 428, \"New deaths\": 47, \"New recovered\": 2928}, {\"Unnamed: 0\": 7129, \"Date\": \"2020-02-29T00:00:00\", \"Country/Region\": \"France\", \"Confirmed\": 100, \"Deaths\": 2, \"Recovered\": 12.0, \"Active\": 86.0, \"New cases\": 43, \"New deaths\": 0, \"New recovered\": 1}, {\"Unnamed: 0\": 7133, \"Date\": \"2020-02-29T00:00:00\", \"Country/Region\": \"Germany\", \"Confirmed\": 79, \"Deaths\": 0, \"Recovered\": 16.0, \"Active\": 63.0, \"New cases\": 31, \"New deaths\": 0, \"New recovered\": 0}, {\"Unnamed: 0\": 7146, \"Date\": \"2020-02-29T00:00:00\", \"Country/Region\": \"India\", \"Confirmed\": 3, \"Deaths\": 0, \"Recovered\": 3.0, \"Active\": 0.0, \"New cases\": 0, \"New deaths\": 0, \"New recovered\": 0}, {\"Unnamed: 0\": 7148, \"Date\": \"2020-02-29T00:00:00\", \"Country/Region\": \"Iran\", \"Confirmed\": 593, \"Deaths\": 43, \"Recovered\": 123.0, \"Active\": 427.0, \"New cases\": 205, \"New deaths\": 9, \"New recovered\": 50}, {\"Unnamed: 0\": 7152, \"Date\": \"2020-02-29T00:00:00\", \"Country/Region\": \"Italy\", \"Confirmed\": 1128, \"Deaths\": 29, \"Recovered\": 46.0, \"Active\": 1053.0, \"New cases\": 240, \"New deaths\": 8, \"New recovered\": 0}, {\"Unnamed: 0\": 7224, \"Date\": \"2020-02-29T00:00:00\", \"Country/Region\": \"Spain\", \"Confirmed\": 45, \"Deaths\": 0, \"Recovered\": 2.0, \"Active\": 43.0, \"New cases\": 13, \"New deaths\": 0, \"New recovered\": 0}, {\"Unnamed: 0\": 7229, \"Date\": \"2020-02-29T00:00:00\", \"Country/Region\": \"Switzerland\", \"Confirmed\": 18, \"Deaths\": 0, \"Recovered\": 0.0, \"Active\": 18.0, \"New cases\": 10, \"New deaths\": 0, \"New recovered\": 0}, {\"Unnamed: 0\": 7240, \"Date\": \"2020-02-29T00:00:00\", \"Country/Region\": \"US\", \"Confirmed\": 24, \"Deaths\": 1, \"Recovered\": 7.0, \"Active\": 16.0, \"New cases\": 8, \"New deaths\": 1, \"New recovered\": 0}, {\"Unnamed: 0\": 7244, \"Date\": \"2020-02-29T00:00:00\", \"Country/Region\": \"United Kingdom\", \"Confirmed\": 61, \"Deaths\": 0, \"Recovered\": 8.0, \"Active\": 53.0, \"New cases\": 5, \"New deaths\": 0, \"New recovered\": 0}, {\"Unnamed: 0\": 7286, \"Date\": \"2020-03-01T00:00:00\", \"Country/Region\": \"Canada\", \"Confirmed\": 24, \"Deaths\": 0, \"Recovered\": 6.0, \"Active\": 18.0, \"New cases\": 4, \"New deaths\": 0, \"New recovered\": 0}, {\"Unnamed: 0\": 7290, \"Date\": \"2020-03-01T00:00:00\", \"Country/Region\": \"China\", \"Confirmed\": 79932, \"Deaths\": 2872, \"Recovered\": 40670.0, \"Active\": 36390.0, \"New cases\": 576, \"New deaths\": 35, \"New recovered\": 2802}, {\"Unnamed: 0\": 7315, \"Date\": \"2020-03-01T00:00:00\", \"Country/Region\": \"France\", \"Confirmed\": 130, \"Deaths\": 2, \"Recovered\": 12.0, \"Active\": 116.0, \"New cases\": 30, \"New deaths\": 0, \"New recovered\": 0}, {\"Unnamed: 0\": 7319, \"Date\": \"2020-03-01T00:00:00\", \"Country/Region\": \"Germany\", \"Confirmed\": 130, \"Deaths\": 0, \"Recovered\": 16.0, \"Active\": 114.0, \"New cases\": 51, \"New deaths\": 0, \"New recovered\": 0}, {\"Unnamed: 0\": 7332, \"Date\": \"2020-03-01T00:00:00\", \"Country/Region\": \"India\", \"Confirmed\": 3, \"Deaths\": 0, \"Recovered\": 3.0, \"Active\": 0.0, \"New cases\": 0, \"New deaths\": 0, \"New recovered\": 0}, {\"Unnamed: 0\": 7334, \"Date\": \"2020-03-01T00:00:00\", \"Country/Region\": \"Iran\", \"Confirmed\": 978, \"Deaths\": 54, \"Recovered\": 175.0, \"Active\": 749.0, \"New cases\": 385, \"New deaths\": 11, \"New recovered\": 52}, {\"Unnamed: 0\": 7338, \"Date\": \"2020-03-01T00:00:00\", \"Country/Region\": \"Italy\", \"Confirmed\": 1694, \"Deaths\": 34, \"Recovered\": 83.0, \"Active\": 1577.0, \"New cases\": 566, \"New deaths\": 5, \"New recovered\": 37}, {\"Unnamed: 0\": 7410, \"Date\": \"2020-03-01T00:00:00\", \"Country/Region\": \"Spain\", \"Confirmed\": 84, \"Deaths\": 0, \"Recovered\": 2.0, \"Active\": 82.0, \"New cases\": 39, \"New deaths\": 0, \"New recovered\": 0}, {\"Unnamed: 0\": 7415, \"Date\": \"2020-03-01T00:00:00\", \"Country/Region\": \"Switzerland\", \"Confirmed\": 27, \"Deaths\": 0, \"Recovered\": 0.0, \"Active\": 27.0, \"New cases\": 9, \"New deaths\": 0, \"New recovered\": 0}, {\"Unnamed: 0\": 7426, \"Date\": \"2020-03-01T00:00:00\", \"Country/Region\": \"US\", \"Confirmed\": 30, \"Deaths\": 1, \"Recovered\": 7.0, \"Active\": 22.0, \"New cases\": 6, \"New deaths\": 0, \"New recovered\": 0}, {\"Unnamed: 0\": 7430, \"Date\": \"2020-03-01T00:00:00\", \"Country/Region\": \"United Kingdom\", \"Confirmed\": 94, \"Deaths\": 0, \"Recovered\": 8.0, \"Active\": 86.0, \"New cases\": 33, \"New deaths\": 0, \"New recovered\": 0}, {\"Unnamed: 0\": 7472, \"Date\": \"2020-03-02T00:00:00\", \"Country/Region\": \"Canada\", \"Confirmed\": 27, \"Deaths\": 0, \"Recovered\": 6.0, \"Active\": 21.0, \"New cases\": 3, \"New deaths\": 0, \"New recovered\": 0}, {\"Unnamed: 0\": 7476, \"Date\": \"2020-03-02T00:00:00\", \"Country/Region\": \"China\", \"Confirmed\": 80136, \"Deaths\": 2914, \"Recovered\": 43353.0, \"Active\": 33869.0, \"New cases\": 204, \"New deaths\": 42, \"New recovered\": 2683}, {\"Unnamed: 0\": 7501, \"Date\": \"2020-03-02T00:00:00\", \"Country/Region\": \"France\", \"Confirmed\": 191, \"Deaths\": 3, \"Recovered\": 12.0, \"Active\": 176.0, \"New cases\": 61, \"New deaths\": 1, \"New recovered\": 0}, {\"Unnamed: 0\": 7505, \"Date\": \"2020-03-02T00:00:00\", \"Country/Region\": \"Germany\", \"Confirmed\": 159, \"Deaths\": 0, \"Recovered\": 16.0, \"Active\": 143.0, \"New cases\": 29, \"New deaths\": 0, \"New recovered\": 0}, {\"Unnamed: 0\": 7518, \"Date\": \"2020-03-02T00:00:00\", \"Country/Region\": \"India\", \"Confirmed\": 5, \"Deaths\": 0, \"Recovered\": 3.0, \"Active\": 2.0, \"New cases\": 2, \"New deaths\": 0, \"New recovered\": 0}, {\"Unnamed: 0\": 7520, \"Date\": \"2020-03-02T00:00:00\", \"Country/Region\": \"Iran\", \"Confirmed\": 1501, \"Deaths\": 66, \"Recovered\": 291.0, \"Active\": 1144.0, \"New cases\": 523, \"New deaths\": 12, \"New recovered\": 116}, {\"Unnamed: 0\": 7524, \"Date\": \"2020-03-02T00:00:00\", \"Country/Region\": \"Italy\", \"Confirmed\": 2036, \"Deaths\": 52, \"Recovered\": 149.0, \"Active\": 1835.0, \"New cases\": 342, \"New deaths\": 18, \"New recovered\": 66}, {\"Unnamed: 0\": 7596, \"Date\": \"2020-03-02T00:00:00\", \"Country/Region\": \"Spain\", \"Confirmed\": 120, \"Deaths\": 0, \"Recovered\": 2.0, \"Active\": 118.0, \"New cases\": 36, \"New deaths\": 0, \"New recovered\": 0}, {\"Unnamed: 0\": 7601, \"Date\": \"2020-03-02T00:00:00\", \"Country/Region\": \"Switzerland\", \"Confirmed\": 42, \"Deaths\": 0, \"Recovered\": 0.0, \"Active\": 42.0, \"New cases\": 15, \"New deaths\": 0, \"New recovered\": 0}, {\"Unnamed: 0\": 7612, \"Date\": \"2020-03-02T00:00:00\", \"Country/Region\": \"US\", \"Confirmed\": 53, \"Deaths\": 6, \"Recovered\": 7.0, \"Active\": 40.0, \"New cases\": 23, \"New deaths\": 5, \"New recovered\": 0}, {\"Unnamed: 0\": 7616, \"Date\": \"2020-03-02T00:00:00\", \"Country/Region\": \"United Kingdom\", \"Confirmed\": 134, \"Deaths\": 0, \"Recovered\": 8.0, \"Active\": 126.0, \"New cases\": 40, \"New deaths\": 0, \"New recovered\": 0}, {\"Unnamed: 0\": 7658, \"Date\": \"2020-03-03T00:00:00\", \"Country/Region\": \"Canada\", \"Confirmed\": 30, \"Deaths\": 0, \"Recovered\": 6.0, \"Active\": 24.0, \"New cases\": 3, \"New deaths\": 0, \"New recovered\": 0}, {\"Unnamed: 0\": 7662, \"Date\": \"2020-03-03T00:00:00\", \"Country/Region\": \"China\", \"Confirmed\": 80261, \"Deaths\": 2947, \"Recovered\": 45919.0, \"Active\": 31395.0, \"New cases\": 125, \"New deaths\": 33, \"New recovered\": 2566}, {\"Unnamed: 0\": 7687, \"Date\": \"2020-03-03T00:00:00\", \"Country/Region\": \"France\", \"Confirmed\": 204, \"Deaths\": 4, \"Recovered\": 12.0, \"Active\": 188.0, \"New cases\": 13, \"New deaths\": 1, \"New recovered\": 0}, {\"Unnamed: 0\": 7691, \"Date\": \"2020-03-03T00:00:00\", \"Country/Region\": \"Germany\", \"Confirmed\": 196, \"Deaths\": 0, \"Recovered\": 16.0, \"Active\": 180.0, \"New cases\": 37, \"New deaths\": 0, \"New recovered\": 0}, {\"Unnamed: 0\": 7704, \"Date\": \"2020-03-03T00:00:00\", \"Country/Region\": \"India\", \"Confirmed\": 5, \"Deaths\": 0, \"Recovered\": 3.0, \"Active\": 2.0, \"New cases\": 0, \"New deaths\": 0, \"New recovered\": 0}, {\"Unnamed: 0\": 7706, \"Date\": \"2020-03-03T00:00:00\", \"Country/Region\": \"Iran\", \"Confirmed\": 2336, \"Deaths\": 77, \"Recovered\": 291.0, \"Active\": 1968.0, \"New cases\": 835, \"New deaths\": 11, \"New recovered\": 0}, {\"Unnamed: 0\": 7710, \"Date\": \"2020-03-03T00:00:00\", \"Country/Region\": \"Italy\", \"Confirmed\": 2502, \"Deaths\": 79, \"Recovered\": 160.0, \"Active\": 2263.0, \"New cases\": 466, \"New deaths\": 27, \"New recovered\": 11}, {\"Unnamed: 0\": 7782, \"Date\": \"2020-03-03T00:00:00\", \"Country/Region\": \"Spain\", \"Confirmed\": 165, \"Deaths\": 1, \"Recovered\": 2.0, \"Active\": 162.0, \"New cases\": 45, \"New deaths\": 1, \"New recovered\": 0}, {\"Unnamed: 0\": 7787, \"Date\": \"2020-03-03T00:00:00\", \"Country/Region\": \"Switzerland\", \"Confirmed\": 56, \"Deaths\": 0, \"Recovered\": 2.0, \"Active\": 54.0, \"New cases\": 14, \"New deaths\": 0, \"New recovered\": 2}, {\"Unnamed: 0\": 7798, \"Date\": \"2020-03-03T00:00:00\", \"Country/Region\": \"US\", \"Confirmed\": 73, \"Deaths\": 7, \"Recovered\": 7.0, \"Active\": 59.0, \"New cases\": 20, \"New deaths\": 1, \"New recovered\": 0}, {\"Unnamed: 0\": 7802, \"Date\": \"2020-03-03T00:00:00\", \"Country/Region\": \"United Kingdom\", \"Confirmed\": 189, \"Deaths\": 0, \"Recovered\": 8.0, \"Active\": 181.0, \"New cases\": 55, \"New deaths\": 0, \"New recovered\": 0}, {\"Unnamed: 0\": 7844, \"Date\": \"2020-03-04T00:00:00\", \"Country/Region\": \"Canada\", \"Confirmed\": 33, \"Deaths\": 0, \"Recovered\": 6.0, \"Active\": 27.0, \"New cases\": 3, \"New deaths\": 0, \"New recovered\": 0}, {\"Unnamed: 0\": 7848, \"Date\": \"2020-03-04T00:00:00\", \"Country/Region\": \"China\", \"Confirmed\": 80386, \"Deaths\": 2983, \"Recovered\": 48466.0, \"Active\": 28937.0, \"New cases\": 125, \"New deaths\": 36, \"New recovered\": 2547}, {\"Unnamed: 0\": 7873, \"Date\": \"2020-03-04T00:00:00\", \"Country/Region\": \"France\", \"Confirmed\": 288, \"Deaths\": 4, \"Recovered\": 12.0, \"Active\": 272.0, \"New cases\": 84, \"New deaths\": 0, \"New recovered\": 0}, {\"Unnamed: 0\": 7877, \"Date\": \"2020-03-04T00:00:00\", \"Country/Region\": \"Germany\", \"Confirmed\": 262, \"Deaths\": 0, \"Recovered\": 16.0, \"Active\": 246.0, \"New cases\": 66, \"New deaths\": 0, \"New recovered\": 0}, {\"Unnamed: 0\": 7890, \"Date\": \"2020-03-04T00:00:00\", \"Country/Region\": \"India\", \"Confirmed\": 28, \"Deaths\": 0, \"Recovered\": 3.0, \"Active\": 25.0, \"New cases\": 23, \"New deaths\": 0, \"New recovered\": 0}, {\"Unnamed: 0\": 7892, \"Date\": \"2020-03-04T00:00:00\", \"Country/Region\": \"Iran\", \"Confirmed\": 2922, \"Deaths\": 92, \"Recovered\": 552.0, \"Active\": 2278.0, \"New cases\": 586, \"New deaths\": 15, \"New recovered\": 261}, {\"Unnamed: 0\": 7896, \"Date\": \"2020-03-04T00:00:00\", \"Country/Region\": \"Italy\", \"Confirmed\": 3089, \"Deaths\": 107, \"Recovered\": 276.0, \"Active\": 2706.0, \"New cases\": 587, \"New deaths\": 28, \"New recovered\": 116}, {\"Unnamed: 0\": 7968, \"Date\": \"2020-03-04T00:00:00\", \"Country/Region\": \"Spain\", \"Confirmed\": 222, \"Deaths\": 2, \"Recovered\": 2.0, \"Active\": 218.0, \"New cases\": 57, \"New deaths\": 1, \"New recovered\": 0}, {\"Unnamed: 0\": 7973, \"Date\": \"2020-03-04T00:00:00\", \"Country/Region\": \"Switzerland\", \"Confirmed\": 90, \"Deaths\": 0, \"Recovered\": 3.0, \"Active\": 87.0, \"New cases\": 34, \"New deaths\": 0, \"New recovered\": 1}, {\"Unnamed: 0\": 7984, \"Date\": \"2020-03-04T00:00:00\", \"Country/Region\": \"US\", \"Confirmed\": 104, \"Deaths\": 11, \"Recovered\": 7.0, \"Active\": 86.0, \"New cases\": 31, \"New deaths\": 4, \"New recovered\": 0}, {\"Unnamed: 0\": 7988, \"Date\": \"2020-03-04T00:00:00\", \"Country/Region\": \"United Kingdom\", \"Confirmed\": 246, \"Deaths\": 0, \"Recovered\": 8.0, \"Active\": 238.0, \"New cases\": 57, \"New deaths\": 0, \"New recovered\": 0}, {\"Unnamed: 0\": 8030, \"Date\": \"2020-03-05T00:00:00\", \"Country/Region\": \"Canada\", \"Confirmed\": 37, \"Deaths\": 0, \"Recovered\": 6.0, \"Active\": 31.0, \"New cases\": 4, \"New deaths\": 0, \"New recovered\": 0}, {\"Unnamed: 0\": 8034, \"Date\": \"2020-03-05T00:00:00\", \"Country/Region\": \"China\", \"Confirmed\": 80537, \"Deaths\": 3015, \"Recovered\": 50749.0, \"Active\": 26773.0, \"New cases\": 151, \"New deaths\": 32, \"New recovered\": 2283}, {\"Unnamed: 0\": 8059, \"Date\": \"2020-03-05T00:00:00\", \"Country/Region\": \"France\", \"Confirmed\": 380, \"Deaths\": 6, \"Recovered\": 12.0, \"Active\": 362.0, \"New cases\": 92, \"New deaths\": 2, \"New recovered\": 0}, {\"Unnamed: 0\": 8063, \"Date\": \"2020-03-05T00:00:00\", \"Country/Region\": \"Germany\", \"Confirmed\": 482, \"Deaths\": 0, \"Recovered\": 16.0, \"Active\": 466.0, \"New cases\": 220, \"New deaths\": 0, \"New recovered\": 0}, {\"Unnamed: 0\": 8076, \"Date\": \"2020-03-05T00:00:00\", \"Country/Region\": \"India\", \"Confirmed\": 30, \"Deaths\": 0, \"Recovered\": 3.0, \"Active\": 27.0, \"New cases\": 2, \"New deaths\": 0, \"New recovered\": 0}, {\"Unnamed: 0\": 8078, \"Date\": \"2020-03-05T00:00:00\", \"Country/Region\": \"Iran\", \"Confirmed\": 3513, \"Deaths\": 107, \"Recovered\": 739.0, \"Active\": 2667.0, \"New cases\": 591, \"New deaths\": 15, \"New recovered\": 187}, {\"Unnamed: 0\": 8082, \"Date\": \"2020-03-05T00:00:00\", \"Country/Region\": \"Italy\", \"Confirmed\": 3858, \"Deaths\": 148, \"Recovered\": 414.0, \"Active\": 3296.0, \"New cases\": 769, \"New deaths\": 41, \"New recovered\": 138}, {\"Unnamed: 0\": 8154, \"Date\": \"2020-03-05T00:00:00\", \"Country/Region\": \"Spain\", \"Confirmed\": 259, \"Deaths\": 3, \"Recovered\": 2.0, \"Active\": 254.0, \"New cases\": 37, \"New deaths\": 1, \"New recovered\": 0}, {\"Unnamed: 0\": 8159, \"Date\": \"2020-03-05T00:00:00\", \"Country/Region\": \"Switzerland\", \"Confirmed\": 114, \"Deaths\": 1, \"Recovered\": 3.0, \"Active\": 110.0, \"New cases\": 24, \"New deaths\": 1, \"New recovered\": 0}, {\"Unnamed: 0\": 8170, \"Date\": \"2020-03-05T00:00:00\", \"Country/Region\": \"US\", \"Confirmed\": 174, \"Deaths\": 12, \"Recovered\": 7.0, \"Active\": 155.0, \"New cases\": 70, \"New deaths\": 1, \"New recovered\": 0}, {\"Unnamed: 0\": 8174, \"Date\": \"2020-03-05T00:00:00\", \"Country/Region\": \"United Kingdom\", \"Confirmed\": 295, \"Deaths\": 0, \"Recovered\": 8.0, \"Active\": 287.0, \"New cases\": 49, \"New deaths\": 0, \"New recovered\": 0}, {\"Unnamed: 0\": 8216, \"Date\": \"2020-03-06T00:00:00\", \"Country/Region\": \"Canada\", \"Confirmed\": 49, \"Deaths\": 0, \"Recovered\": 6.0, \"Active\": 43.0, \"New cases\": 12, \"New deaths\": 0, \"New recovered\": 0}, {\"Unnamed: 0\": 8220, \"Date\": \"2020-03-06T00:00:00\", \"Country/Region\": \"China\", \"Confirmed\": 80690, \"Deaths\": 3044, \"Recovered\": 52395.0, \"Active\": 25251.0, \"New cases\": 153, \"New deaths\": 29, \"New recovered\": 1646}, {\"Unnamed: 0\": 8245, \"Date\": \"2020-03-06T00:00:00\", \"Country/Region\": \"France\", \"Confirmed\": 656, \"Deaths\": 9, \"Recovered\": 12.0, \"Active\": 635.0, \"New cases\": 276, \"New deaths\": 3, \"New recovered\": 0}, {\"Unnamed: 0\": 8249, \"Date\": \"2020-03-06T00:00:00\", \"Country/Region\": \"Germany\", \"Confirmed\": 670, \"Deaths\": 0, \"Recovered\": 17.0, \"Active\": 653.0, \"New cases\": 188, \"New deaths\": 0, \"New recovered\": 1}, {\"Unnamed: 0\": 8262, \"Date\": \"2020-03-06T00:00:00\", \"Country/Region\": \"India\", \"Confirmed\": 31, \"Deaths\": 0, \"Recovered\": 3.0, \"Active\": 28.0, \"New cases\": 1, \"New deaths\": 0, \"New recovered\": 0}, {\"Unnamed: 0\": 8264, \"Date\": \"2020-03-06T00:00:00\", \"Country/Region\": \"Iran\", \"Confirmed\": 4747, \"Deaths\": 124, \"Recovered\": 913.0, \"Active\": 3710.0, \"New cases\": 1234, \"New deaths\": 17, \"New recovered\": 174}, {\"Unnamed: 0\": 8268, \"Date\": \"2020-03-06T00:00:00\", \"Country/Region\": \"Italy\", \"Confirmed\": 4636, \"Deaths\": 197, \"Recovered\": 523.0, \"Active\": 3916.0, \"New cases\": 778, \"New deaths\": 49, \"New recovered\": 109}, {\"Unnamed: 0\": 8340, \"Date\": \"2020-03-06T00:00:00\", \"Country/Region\": \"Spain\", \"Confirmed\": 400, \"Deaths\": 5, \"Recovered\": 2.0, \"Active\": 393.0, \"New cases\": 141, \"New deaths\": 2, \"New recovered\": 0}, {\"Unnamed: 0\": 8345, \"Date\": \"2020-03-06T00:00:00\", \"Country/Region\": \"Switzerland\", \"Confirmed\": 214, \"Deaths\": 1, \"Recovered\": 3.0, \"Active\": 210.0, \"New cases\": 100, \"New deaths\": 0, \"New recovered\": 0}, {\"Unnamed: 0\": 8356, \"Date\": \"2020-03-06T00:00:00\", \"Country/Region\": \"US\", \"Confirmed\": 222, \"Deaths\": 14, \"Recovered\": 7.0, \"Active\": 201.0, \"New cases\": 48, \"New deaths\": 2, \"New recovered\": 0}, {\"Unnamed: 0\": 8360, \"Date\": \"2020-03-06T00:00:00\", \"Country/Region\": \"United Kingdom\", \"Confirmed\": 374, \"Deaths\": 1, \"Recovered\": 8.0, \"Active\": 365.0, \"New cases\": 79, \"New deaths\": 1, \"New recovered\": 0}, {\"Unnamed: 0\": 8402, \"Date\": \"2020-03-07T00:00:00\", \"Country/Region\": \"Canada\", \"Confirmed\": 54, \"Deaths\": 0, \"Recovered\": 8.0, \"Active\": 46.0, \"New cases\": 5, \"New deaths\": 0, \"New recovered\": 2}, {\"Unnamed: 0\": 8406, \"Date\": \"2020-03-07T00:00:00\", \"Country/Region\": \"China\", \"Confirmed\": 80770, \"Deaths\": 3072, \"Recovered\": 53988.0, \"Active\": 23710.0, \"New cases\": 80, \"New deaths\": 28, \"New recovered\": 1593}, {\"Unnamed: 0\": 8431, \"Date\": \"2020-03-07T00:00:00\", \"Country/Region\": \"France\", \"Confirmed\": 959, \"Deaths\": 11, \"Recovered\": 12.0, \"Active\": 936.0, \"New cases\": 303, \"New deaths\": 2, \"New recovered\": 0}, {\"Unnamed: 0\": 8435, \"Date\": \"2020-03-07T00:00:00\", \"Country/Region\": \"Germany\", \"Confirmed\": 799, \"Deaths\": 0, \"Recovered\": 18.0, \"Active\": 781.0, \"New cases\": 129, \"New deaths\": 0, \"New recovered\": 1}, {\"Unnamed: 0\": 8448, \"Date\": \"2020-03-07T00:00:00\", \"Country/Region\": \"India\", \"Confirmed\": 34, \"Deaths\": 0, \"Recovered\": 3.0, \"Active\": 31.0, \"New cases\": 3, \"New deaths\": 0, \"New recovered\": 0}, {\"Unnamed: 0\": 8450, \"Date\": \"2020-03-07T00:00:00\", \"Country/Region\": \"Iran\", \"Confirmed\": 5823, \"Deaths\": 145, \"Recovered\": 1669.0, \"Active\": 4009.0, \"New cases\": 1076, \"New deaths\": 21, \"New recovered\": 756}, {\"Unnamed: 0\": 8454, \"Date\": \"2020-03-07T00:00:00\", \"Country/Region\": \"Italy\", \"Confirmed\": 5883, \"Deaths\": 233, \"Recovered\": 589.0, \"Active\": 5061.0, \"New cases\": 1247, \"New deaths\": 36, \"New recovered\": 66}, {\"Unnamed: 0\": 8526, \"Date\": \"2020-03-07T00:00:00\", \"Country/Region\": \"Spain\", \"Confirmed\": 500, \"Deaths\": 10, \"Recovered\": 30.0, \"Active\": 460.0, \"New cases\": 100, \"New deaths\": 5, \"New recovered\": 28}, {\"Unnamed: 0\": 8531, \"Date\": \"2020-03-07T00:00:00\", \"Country/Region\": \"Switzerland\", \"Confirmed\": 268, \"Deaths\": 1, \"Recovered\": 3.0, \"Active\": 264.0, \"New cases\": 54, \"New deaths\": 0, \"New recovered\": 0}, {\"Unnamed: 0\": 8542, \"Date\": \"2020-03-07T00:00:00\", \"Country/Region\": \"US\", \"Confirmed\": 337, \"Deaths\": 17, \"Recovered\": 7.0, \"Active\": 313.0, \"New cases\": 115, \"New deaths\": 3, \"New recovered\": 0}, {\"Unnamed: 0\": 8546, \"Date\": \"2020-03-07T00:00:00\", \"Country/Region\": \"United Kingdom\", \"Confirmed\": 429, \"Deaths\": 2, \"Recovered\": 18.0, \"Active\": 409.0, \"New cases\": 55, \"New deaths\": 1, \"New recovered\": 10}, {\"Unnamed: 0\": 8588, \"Date\": \"2020-03-08T00:00:00\", \"Country/Region\": \"Canada\", \"Confirmed\": 64, \"Deaths\": 0, \"Recovered\": 8.0, \"Active\": 56.0, \"New cases\": 10, \"New deaths\": 0, \"New recovered\": 0}, {\"Unnamed: 0\": 8592, \"Date\": \"2020-03-08T00:00:00\", \"Country/Region\": \"China\", \"Confirmed\": 80823, \"Deaths\": 3100, \"Recovered\": 55834.0, \"Active\": 21889.0, \"New cases\": 53, \"New deaths\": 28, \"New recovered\": 1846}, {\"Unnamed: 0\": 8617, \"Date\": \"2020-03-08T00:00:00\", \"Country/Region\": \"France\", \"Confirmed\": 1136, \"Deaths\": 19, \"Recovered\": 12.0, \"Active\": 1105.0, \"New cases\": 177, \"New deaths\": 8, \"New recovered\": 0}, {\"Unnamed: 0\": 8621, \"Date\": \"2020-03-08T00:00:00\", \"Country/Region\": \"Germany\", \"Confirmed\": 1040, \"Deaths\": 0, \"Recovered\": 18.0, \"Active\": 1022.0, \"New cases\": 241, \"New deaths\": 0, \"New recovered\": 0}, {\"Unnamed: 0\": 8634, \"Date\": \"2020-03-08T00:00:00\", \"Country/Region\": \"India\", \"Confirmed\": 39, \"Deaths\": 0, \"Recovered\": 3.0, \"Active\": 36.0, \"New cases\": 5, \"New deaths\": 0, \"New recovered\": 0}, {\"Unnamed: 0\": 8636, \"Date\": \"2020-03-08T00:00:00\", \"Country/Region\": \"Iran\", \"Confirmed\": 6566, \"Deaths\": 194, \"Recovered\": 2134.0, \"Active\": 4238.0, \"New cases\": 743, \"New deaths\": 49, \"New recovered\": 465}, {\"Unnamed: 0\": 8640, \"Date\": \"2020-03-08T00:00:00\", \"Country/Region\": \"Italy\", \"Confirmed\": 7375, \"Deaths\": 366, \"Recovered\": 622.0, \"Active\": 6387.0, \"New cases\": 1492, \"New deaths\": 133, \"New recovered\": 33}, {\"Unnamed: 0\": 8712, \"Date\": \"2020-03-08T00:00:00\", \"Country/Region\": \"Spain\", \"Confirmed\": 673, \"Deaths\": 17, \"Recovered\": 30.0, \"Active\": 626.0, \"New cases\": 173, \"New deaths\": 7, \"New recovered\": 0}, {\"Unnamed: 0\": 8717, \"Date\": \"2020-03-08T00:00:00\", \"Country/Region\": \"Switzerland\", \"Confirmed\": 337, \"Deaths\": 2, \"Recovered\": 3.0, \"Active\": 332.0, \"New cases\": 69, \"New deaths\": 1, \"New recovered\": 0}, {\"Unnamed: 0\": 8728, \"Date\": \"2020-03-08T00:00:00\", \"Country/Region\": \"US\", \"Confirmed\": 451, \"Deaths\": 21, \"Recovered\": 7.0, \"Active\": 423.0, \"New cases\": 114, \"New deaths\": 4, \"New recovered\": 0}, {\"Unnamed: 0\": 8732, \"Date\": \"2020-03-08T00:00:00\", \"Country/Region\": \"United Kingdom\", \"Confirmed\": 483, \"Deaths\": 2, \"Recovered\": 18.0, \"Active\": 463.0, \"New cases\": 54, \"New deaths\": 0, \"New recovered\": 0}, {\"Unnamed: 0\": 8774, \"Date\": \"2020-03-09T00:00:00\", \"Country/Region\": \"Canada\", \"Confirmed\": 77, \"Deaths\": 1, \"Recovered\": 8.0, \"Active\": 68.0, \"New cases\": 13, \"New deaths\": 1, \"New recovered\": 0}, {\"Unnamed: 0\": 8778, \"Date\": \"2020-03-09T00:00:00\", \"Country/Region\": \"China\", \"Confirmed\": 80860, \"Deaths\": 3123, \"Recovered\": 57250.0, \"Active\": 20487.0, \"New cases\": 37, \"New deaths\": 23, \"New recovered\": 1416}, {\"Unnamed: 0\": 8803, \"Date\": \"2020-03-09T00:00:00\", \"Country/Region\": \"France\", \"Confirmed\": 1219, \"Deaths\": 19, \"Recovered\": 12.0, \"Active\": 1188.0, \"New cases\": 83, \"New deaths\": 0, \"New recovered\": 0}, {\"Unnamed: 0\": 8807, \"Date\": \"2020-03-09T00:00:00\", \"Country/Region\": \"Germany\", \"Confirmed\": 1176, \"Deaths\": 2, \"Recovered\": 18.0, \"Active\": 1156.0, \"New cases\": 136, \"New deaths\": 2, \"New recovered\": 0}, {\"Unnamed: 0\": 8820, \"Date\": \"2020-03-09T00:00:00\", \"Country/Region\": \"India\", \"Confirmed\": 43, \"Deaths\": 0, \"Recovered\": 3.0, \"Active\": 40.0, \"New cases\": 4, \"New deaths\": 0, \"New recovered\": 0}, {\"Unnamed: 0\": 8822, \"Date\": \"2020-03-09T00:00:00\", \"Country/Region\": \"Iran\", \"Confirmed\": 7161, \"Deaths\": 237, \"Recovered\": 2394.0, \"Active\": 4530.0, \"New cases\": 595, \"New deaths\": 43, \"New recovered\": 260}, {\"Unnamed: 0\": 8826, \"Date\": \"2020-03-09T00:00:00\", \"Country/Region\": \"Italy\", \"Confirmed\": 9172, \"Deaths\": 463, \"Recovered\": 724.0, \"Active\": 7985.0, \"New cases\": 1797, \"New deaths\": 97, \"New recovered\": 102}, {\"Unnamed: 0\": 8898, \"Date\": \"2020-03-09T00:00:00\", \"Country/Region\": \"Spain\", \"Confirmed\": 1073, \"Deaths\": 28, \"Recovered\": 32.0, \"Active\": 1013.0, \"New cases\": 400, \"New deaths\": 11, \"New recovered\": 2}, {\"Unnamed: 0\": 8903, \"Date\": \"2020-03-09T00:00:00\", \"Country/Region\": \"Switzerland\", \"Confirmed\": 374, \"Deaths\": 2, \"Recovered\": 3.0, \"Active\": 369.0, \"New cases\": 37, \"New deaths\": 0, \"New recovered\": 0}, {\"Unnamed: 0\": 8914, \"Date\": \"2020-03-09T00:00:00\", \"Country/Region\": \"US\", \"Confirmed\": 519, \"Deaths\": 22, \"Recovered\": 7.0, \"Active\": 490.0, \"New cases\": 68, \"New deaths\": 1, \"New recovered\": 0}, {\"Unnamed: 0\": 8918, \"Date\": \"2020-03-09T00:00:00\", \"Country/Region\": \"United Kingdom\", \"Confirmed\": 630, \"Deaths\": 3, \"Recovered\": 18.0, \"Active\": 609.0, \"New cases\": 147, \"New deaths\": 1, \"New recovered\": 0}, {\"Unnamed: 0\": 8960, \"Date\": \"2020-03-10T00:00:00\", \"Country/Region\": \"Canada\", \"Confirmed\": 79, \"Deaths\": 1, \"Recovered\": 8.0, \"Active\": 70.0, \"New cases\": 2, \"New deaths\": 0, \"New recovered\": 0}, {\"Unnamed: 0\": 8964, \"Date\": \"2020-03-10T00:00:00\", \"Country/Region\": \"China\", \"Confirmed\": 80887, \"Deaths\": 3139, \"Recovered\": 58627.0, \"Active\": 19121.0, \"New cases\": 27, \"New deaths\": 16, \"New recovered\": 1377}, {\"Unnamed: 0\": 8989, \"Date\": \"2020-03-10T00:00:00\", \"Country/Region\": \"France\", \"Confirmed\": 1794, \"Deaths\": 33, \"Recovered\": 12.0, \"Active\": 1749.0, \"New cases\": 575, \"New deaths\": 14, \"New recovered\": 0}, {\"Unnamed: 0\": 8993, \"Date\": \"2020-03-10T00:00:00\", \"Country/Region\": \"Germany\", \"Confirmed\": 1457, \"Deaths\": 2, \"Recovered\": 18.0, \"Active\": 1437.0, \"New cases\": 281, \"New deaths\": 0, \"New recovered\": 0}, {\"Unnamed: 0\": 9006, \"Date\": \"2020-03-10T00:00:00\", \"Country/Region\": \"India\", \"Confirmed\": 56, \"Deaths\": 0, \"Recovered\": 4.0, \"Active\": 52.0, \"New cases\": 13, \"New deaths\": 0, \"New recovered\": 1}, {\"Unnamed: 0\": 9008, \"Date\": \"2020-03-10T00:00:00\", \"Country/Region\": \"Iran\", \"Confirmed\": 8042, \"Deaths\": 291, \"Recovered\": 2731.0, \"Active\": 5020.0, \"New cases\": 881, \"New deaths\": 54, \"New recovered\": 337}, {\"Unnamed: 0\": 9012, \"Date\": \"2020-03-10T00:00:00\", \"Country/Region\": \"Italy\", \"Confirmed\": 10149, \"Deaths\": 631, \"Recovered\": 724.0, \"Active\": 8794.0, \"New cases\": 977, \"New deaths\": 168, \"New recovered\": 0}, {\"Unnamed: 0\": 9084, \"Date\": \"2020-03-10T00:00:00\", \"Country/Region\": \"Spain\", \"Confirmed\": 1695, \"Deaths\": 35, \"Recovered\": 32.0, \"Active\": 1628.0, \"New cases\": 622, \"New deaths\": 7, \"New recovered\": 0}, {\"Unnamed: 0\": 9089, \"Date\": \"2020-03-10T00:00:00\", \"Country/Region\": \"Switzerland\", \"Confirmed\": 491, \"Deaths\": 3, \"Recovered\": 3.0, \"Active\": 485.0, \"New cases\": 117, \"New deaths\": 1, \"New recovered\": 0}, {\"Unnamed: 0\": 9100, \"Date\": \"2020-03-10T00:00:00\", \"Country/Region\": \"US\", \"Confirmed\": 711, \"Deaths\": 28, \"Recovered\": 8.0, \"Active\": 675.0, \"New cases\": 192, \"New deaths\": 6, \"New recovered\": 1}, {\"Unnamed: 0\": 9104, \"Date\": \"2020-03-10T00:00:00\", \"Country/Region\": \"United Kingdom\", \"Confirmed\": 889, \"Deaths\": 7, \"Recovered\": 19.0, \"Active\": 863.0, \"New cases\": 259, \"New deaths\": 4, \"New recovered\": 1}, {\"Unnamed: 0\": 9146, \"Date\": \"2020-03-11T00:00:00\", \"Country/Region\": \"Canada\", \"Confirmed\": 108, \"Deaths\": 1, \"Recovered\": 8.0, \"Active\": 99.0, \"New cases\": 29, \"New deaths\": 0, \"New recovered\": 0}, {\"Unnamed: 0\": 9150, \"Date\": \"2020-03-11T00:00:00\", \"Country/Region\": \"China\", \"Confirmed\": 80921, \"Deaths\": 3161, \"Recovered\": 60088.0, \"Active\": 17672.0, \"New cases\": 34, \"New deaths\": 22, \"New recovered\": 1461}, {\"Unnamed: 0\": 9175, \"Date\": \"2020-03-11T00:00:00\", \"Country/Region\": \"France\", \"Confirmed\": 2293, \"Deaths\": 48, \"Recovered\": 12.0, \"Active\": 2233.0, \"New cases\": 499, \"New deaths\": 15, \"New recovered\": 0}, {\"Unnamed: 0\": 9179, \"Date\": \"2020-03-11T00:00:00\", \"Country/Region\": \"Germany\", \"Confirmed\": 1908, \"Deaths\": 3, \"Recovered\": 25.0, \"Active\": 1880.0, \"New cases\": 451, \"New deaths\": 1, \"New recovered\": 7}, {\"Unnamed: 0\": 9192, \"Date\": \"2020-03-11T00:00:00\", \"Country/Region\": \"India\", \"Confirmed\": 62, \"Deaths\": 1, \"Recovered\": 4.0, \"Active\": 57.0, \"New cases\": 6, \"New deaths\": 1, \"New recovered\": 0}, {\"Unnamed: 0\": 9194, \"Date\": \"2020-03-11T00:00:00\", \"Country/Region\": \"Iran\", \"Confirmed\": 9000, \"Deaths\": 354, \"Recovered\": 2959.0, \"Active\": 5687.0, \"New cases\": 958, \"New deaths\": 63, \"New recovered\": 228}, {\"Unnamed: 0\": 9198, \"Date\": \"2020-03-11T00:00:00\", \"Country/Region\": \"Italy\", \"Confirmed\": 12462, \"Deaths\": 827, \"Recovered\": 1045.0, \"Active\": 10590.0, \"New cases\": 2313, \"New deaths\": 196, \"New recovered\": 321}, {\"Unnamed: 0\": 9270, \"Date\": \"2020-03-11T00:00:00\", \"Country/Region\": \"Spain\", \"Confirmed\": 2277, \"Deaths\": 54, \"Recovered\": 183.0, \"Active\": 2040.0, \"New cases\": 582, \"New deaths\": 19, \"New recovered\": 151}, {\"Unnamed: 0\": 9275, \"Date\": \"2020-03-11T00:00:00\", \"Country/Region\": \"Switzerland\", \"Confirmed\": 652, \"Deaths\": 4, \"Recovered\": 4.0, \"Active\": 644.0, \"New cases\": 161, \"New deaths\": 1, \"New recovered\": 1}, {\"Unnamed: 0\": 9286, \"Date\": \"2020-03-11T00:00:00\", \"Country/Region\": \"US\", \"Confirmed\": 1109, \"Deaths\": 33, \"Recovered\": 8.0, \"Active\": 1068.0, \"New cases\": 398, \"New deaths\": 5, \"New recovered\": 0}, {\"Unnamed: 0\": 9290, \"Date\": \"2020-03-11T00:00:00\", \"Country/Region\": \"United Kingdom\", \"Confirmed\": 1301, \"Deaths\": 7, \"Recovered\": 19.0, \"Active\": 1275.0, \"New cases\": 412, \"New deaths\": 0, \"New recovered\": 0}, {\"Unnamed: 0\": 9332, \"Date\": \"2020-03-12T00:00:00\", \"Country/Region\": \"Canada\", \"Confirmed\": 117, \"Deaths\": 1, \"Recovered\": 8.0, \"Active\": 108.0, \"New cases\": 9, \"New deaths\": 0, \"New recovered\": 0}, {\"Unnamed: 0\": 9336, \"Date\": \"2020-03-12T00:00:00\", \"Country/Region\": \"China\", \"Confirmed\": 80932, \"Deaths\": 3172, \"Recovered\": 61344.0, \"Active\": 16416.0, \"New cases\": 11, \"New deaths\": 11, \"New recovered\": 1256}, {\"Unnamed: 0\": 9361, \"Date\": \"2020-03-12T00:00:00\", \"Country/Region\": \"France\", \"Confirmed\": 2293, \"Deaths\": 48, \"Recovered\": 12.0, \"Active\": 2233.0, \"New cases\": 0, \"New deaths\": 0, \"New recovered\": 0}, {\"Unnamed: 0\": 9365, \"Date\": \"2020-03-12T00:00:00\", \"Country/Region\": \"Germany\", \"Confirmed\": 2078, \"Deaths\": 3, \"Recovered\": 25.0, \"Active\": 2050.0, \"New cases\": 170, \"New deaths\": 0, \"New recovered\": 0}, {\"Unnamed: 0\": 9378, \"Date\": \"2020-03-12T00:00:00\", \"Country/Region\": \"India\", \"Confirmed\": 73, \"Deaths\": 1, \"Recovered\": 4.0, \"Active\": 68.0, \"New cases\": 11, \"New deaths\": 0, \"New recovered\": 0}, {\"Unnamed: 0\": 9380, \"Date\": \"2020-03-12T00:00:00\", \"Country/Region\": \"Iran\", \"Confirmed\": 10075, \"Deaths\": 429, \"Recovered\": 2959.0, \"Active\": 6687.0, \"New cases\": 1075, \"New deaths\": 75, \"New recovered\": 0}, {\"Unnamed: 0\": 9384, \"Date\": \"2020-03-12T00:00:00\", \"Country/Region\": \"Italy\", \"Confirmed\": 15113, \"Deaths\": 1016, \"Recovered\": 1045.0, \"Active\": 13052.0, \"New cases\": 2651, \"New deaths\": 189, \"New recovered\": 0}, {\"Unnamed: 0\": 9456, \"Date\": \"2020-03-12T00:00:00\", \"Country/Region\": \"Spain\", \"Confirmed\": 2277, \"Deaths\": 55, \"Recovered\": 183.0, \"Active\": 2039.0, \"New cases\": 0, \"New deaths\": 1, \"New recovered\": 0}, {\"Unnamed: 0\": 9461, \"Date\": \"2020-03-12T00:00:00\", \"Country/Region\": \"Switzerland\", \"Confirmed\": 652, \"Deaths\": 4, \"Recovered\": 4.0, \"Active\": 644.0, \"New cases\": 0, \"New deaths\": 0, \"New recovered\": 0}, {\"Unnamed: 0\": 9472, \"Date\": \"2020-03-12T00:00:00\", \"Country/Region\": \"US\", \"Confirmed\": 1561, \"Deaths\": 43, \"Recovered\": 12.0, \"Active\": 1506.0, \"New cases\": 452, \"New deaths\": 10, \"New recovered\": 4}, {\"Unnamed: 0\": 9476, \"Date\": \"2020-03-12T00:00:00\", \"Country/Region\": \"United Kingdom\", \"Confirmed\": 1790, \"Deaths\": 9, \"Recovered\": 19.0, \"Active\": 1762.0, \"New cases\": 489, \"New deaths\": 2, \"New recovered\": 0}, {\"Unnamed: 0\": 9518, \"Date\": \"2020-03-13T00:00:00\", \"Country/Region\": \"Canada\", \"Confirmed\": 191, \"Deaths\": 1, \"Recovered\": 8.0, \"Active\": 182.0, \"New cases\": 74, \"New deaths\": 0, \"New recovered\": 0}, {\"Unnamed: 0\": 9522, \"Date\": \"2020-03-13T00:00:00\", \"Country/Region\": \"China\", \"Confirmed\": 80945, \"Deaths\": 3180, \"Recovered\": 62637.0, \"Active\": 15128.0, \"New cases\": 13, \"New deaths\": 8, \"New recovered\": 1293}, {\"Unnamed: 0\": 9547, \"Date\": \"2020-03-13T00:00:00\", \"Country/Region\": \"France\", \"Confirmed\": 3681, \"Deaths\": 79, \"Recovered\": 12.0, \"Active\": 3590.0, \"New cases\": 1388, \"New deaths\": 31, \"New recovered\": 0}, {\"Unnamed: 0\": 9551, \"Date\": \"2020-03-13T00:00:00\", \"Country/Region\": \"Germany\", \"Confirmed\": 3675, \"Deaths\": 7, \"Recovered\": 46.0, \"Active\": 3622.0, \"New cases\": 1597, \"New deaths\": 4, \"New recovered\": 21}, {\"Unnamed: 0\": 9564, \"Date\": \"2020-03-13T00:00:00\", \"Country/Region\": \"India\", \"Confirmed\": 82, \"Deaths\": 2, \"Recovered\": 4.0, \"Active\": 76.0, \"New cases\": 9, \"New deaths\": 1, \"New recovered\": 0}, {\"Unnamed: 0\": 9566, \"Date\": \"2020-03-13T00:00:00\", \"Country/Region\": \"Iran\", \"Confirmed\": 11364, \"Deaths\": 514, \"Recovered\": 2959.0, \"Active\": 7891.0, \"New cases\": 1289, \"New deaths\": 85, \"New recovered\": 0}, {\"Unnamed: 0\": 9570, \"Date\": \"2020-03-13T00:00:00\", \"Country/Region\": \"Italy\", \"Confirmed\": 17660, \"Deaths\": 1266, \"Recovered\": 1439.0, \"Active\": 14955.0, \"New cases\": 2547, \"New deaths\": 250, \"New recovered\": 394}, {\"Unnamed: 0\": 9642, \"Date\": \"2020-03-13T00:00:00\", \"Country/Region\": \"Spain\", \"Confirmed\": 5232, \"Deaths\": 133, \"Recovered\": 193.0, \"Active\": 4906.0, \"New cases\": 2955, \"New deaths\": 78, \"New recovered\": 10}, {\"Unnamed: 0\": 9647, \"Date\": \"2020-03-13T00:00:00\", \"Country/Region\": \"Switzerland\", \"Confirmed\": 1139, \"Deaths\": 11, \"Recovered\": 4.0, \"Active\": 1124.0, \"New cases\": 487, \"New deaths\": 7, \"New recovered\": 0}, {\"Unnamed: 0\": 9658, \"Date\": \"2020-03-13T00:00:00\", \"Country/Region\": \"US\", \"Confirmed\": 2157, \"Deaths\": 52, \"Recovered\": 12.0, \"Active\": 2093.0, \"New cases\": 596, \"New deaths\": 9, \"New recovered\": 0}, {\"Unnamed: 0\": 9662, \"Date\": \"2020-03-13T00:00:00\", \"Country/Region\": \"United Kingdom\", \"Confirmed\": 2270, \"Deaths\": 10, \"Recovered\": 19.0, \"Active\": 2241.0, \"New cases\": 480, \"New deaths\": 1, \"New recovered\": 0}, {\"Unnamed: 0\": 9704, \"Date\": \"2020-03-14T00:00:00\", \"Country/Region\": \"Canada\", \"Confirmed\": 196, \"Deaths\": 1, \"Recovered\": 8.0, \"Active\": 187.0, \"New cases\": 5, \"New deaths\": 0, \"New recovered\": 0}, {\"Unnamed: 0\": 9708, \"Date\": \"2020-03-14T00:00:00\", \"Country/Region\": \"China\", \"Confirmed\": 80977, \"Deaths\": 3193, \"Recovered\": 64100.0, \"Active\": 13684.0, \"New cases\": 32, \"New deaths\": 13, \"New recovered\": 1463}, {\"Unnamed: 0\": 9733, \"Date\": \"2020-03-14T00:00:00\", \"Country/Region\": \"France\", \"Confirmed\": 4496, \"Deaths\": 91, \"Recovered\": 12.0, \"Active\": 4393.0, \"New cases\": 815, \"New deaths\": 12, \"New recovered\": 0}, {\"Unnamed: 0\": 9737, \"Date\": \"2020-03-14T00:00:00\", \"Country/Region\": \"Germany\", \"Confirmed\": 4585, \"Deaths\": 9, \"Recovered\": 46.0, \"Active\": 4530.0, \"New cases\": 910, \"New deaths\": 2, \"New recovered\": 0}, {\"Unnamed: 0\": 9750, \"Date\": \"2020-03-14T00:00:00\", \"Country/Region\": \"India\", \"Confirmed\": 102, \"Deaths\": 2, \"Recovered\": 4.0, \"Active\": 96.0, \"New cases\": 20, \"New deaths\": 0, \"New recovered\": 0}, {\"Unnamed: 0\": 9752, \"Date\": \"2020-03-14T00:00:00\", \"Country/Region\": \"Iran\", \"Confirmed\": 12729, \"Deaths\": 611, \"Recovered\": 2959.0, \"Active\": 9159.0, \"New cases\": 1365, \"New deaths\": 97, \"New recovered\": 0}, {\"Unnamed: 0\": 9756, \"Date\": \"2020-03-14T00:00:00\", \"Country/Region\": \"Italy\", \"Confirmed\": 21157, \"Deaths\": 1441, \"Recovered\": 1966.0, \"Active\": 17750.0, \"New cases\": 3497, \"New deaths\": 175, \"New recovered\": 527}, {\"Unnamed: 0\": 9828, \"Date\": \"2020-03-14T00:00:00\", \"Country/Region\": \"Spain\", \"Confirmed\": 6391, \"Deaths\": 195, \"Recovered\": 517.0, \"Active\": 5679.0, \"New cases\": 1159, \"New deaths\": 62, \"New recovered\": 324}, {\"Unnamed: 0\": 9833, \"Date\": \"2020-03-14T00:00:00\", \"Country/Region\": \"Switzerland\", \"Confirmed\": 1359, \"Deaths\": 13, \"Recovered\": 4.0, \"Active\": 1342.0, \"New cases\": 220, \"New deaths\": 2, \"New recovered\": 0}, {\"Unnamed: 0\": 9844, \"Date\": \"2020-03-14T00:00:00\", \"Country/Region\": \"US\", \"Confirmed\": 2870, \"Deaths\": 58, \"Recovered\": 12.0, \"Active\": 2800.0, \"New cases\": 713, \"New deaths\": 6, \"New recovered\": 0}, {\"Unnamed: 0\": 9848, \"Date\": \"2020-03-14T00:00:00\", \"Country/Region\": \"United Kingdom\", \"Confirmed\": 2634, \"Deaths\": 28, \"Recovered\": 19.0, \"Active\": 2587.0, \"New cases\": 364, \"New deaths\": 18, \"New recovered\": 0}, {\"Unnamed: 0\": 9890, \"Date\": \"2020-03-15T00:00:00\", \"Country/Region\": \"Canada\", \"Confirmed\": 250, \"Deaths\": 1, \"Recovered\": 8.0, \"Active\": 241.0, \"New cases\": 54, \"New deaths\": 0, \"New recovered\": 0}, {\"Unnamed: 0\": 9894, \"Date\": \"2020-03-15T00:00:00\", \"Country/Region\": \"China\", \"Confirmed\": 81003, \"Deaths\": 3203, \"Recovered\": 65457.0, \"Active\": 12343.0, \"New cases\": 26, \"New deaths\": 10, \"New recovered\": 1357}, {\"Unnamed: 0\": 9919, \"Date\": \"2020-03-15T00:00:00\", \"Country/Region\": \"France\", \"Confirmed\": 4532, \"Deaths\": 91, \"Recovered\": 12.0, \"Active\": 4429.0, \"New cases\": 36, \"New deaths\": 0, \"New recovered\": 0}, {\"Unnamed: 0\": 9923, \"Date\": \"2020-03-15T00:00:00\", \"Country/Region\": \"Germany\", \"Confirmed\": 5795, \"Deaths\": 11, \"Recovered\": 46.0, \"Active\": 5738.0, \"New cases\": 1210, \"New deaths\": 2, \"New recovered\": 0}, {\"Unnamed: 0\": 9936, \"Date\": \"2020-03-15T00:00:00\", \"Country/Region\": \"India\", \"Confirmed\": 113, \"Deaths\": 2, \"Recovered\": 13.0, \"Active\": 98.0, \"New cases\": 11, \"New deaths\": 0, \"New recovered\": 9}, {\"Unnamed: 0\": 9938, \"Date\": \"2020-03-15T00:00:00\", \"Country/Region\": \"Iran\", \"Confirmed\": 13938, \"Deaths\": 724, \"Recovered\": 4590.0, \"Active\": 8624.0, \"New cases\": 1209, \"New deaths\": 113, \"New recovered\": 1631}, {\"Unnamed: 0\": 9942, \"Date\": \"2020-03-15T00:00:00\", \"Country/Region\": \"Italy\", \"Confirmed\": 24747, \"Deaths\": 1809, \"Recovered\": 2335.0, \"Active\": 20603.0, \"New cases\": 3590, \"New deaths\": 368, \"New recovered\": 369}, {\"Unnamed: 0\": 10014, \"Date\": \"2020-03-15T00:00:00\", \"Country/Region\": \"Spain\", \"Confirmed\": 7798, \"Deaths\": 289, \"Recovered\": 517.0, \"Active\": 6992.0, \"New cases\": 1407, \"New deaths\": 94, \"New recovered\": 0}, {\"Unnamed: 0\": 10019, \"Date\": \"2020-03-15T00:00:00\", \"Country/Region\": \"Switzerland\", \"Confirmed\": 2200, \"Deaths\": 14, \"Recovered\": 4.0, \"Active\": 2182.0, \"New cases\": 841, \"New deaths\": 1, \"New recovered\": 0}, {\"Unnamed: 0\": 10030, \"Date\": \"2020-03-15T00:00:00\", \"Country/Region\": \"US\", \"Confirmed\": 2968, \"Deaths\": 70, \"Recovered\": 12.0, \"Active\": 2886.0, \"New cases\": 98, \"New deaths\": 12, \"New recovered\": 0}, {\"Unnamed: 0\": 10034, \"Date\": \"2020-03-15T00:00:00\", \"Country/Region\": \"United Kingdom\", \"Confirmed\": 3077, \"Deaths\": 43, \"Recovered\": 19.0, \"Active\": 3015.0, \"New cases\": 443, \"New deaths\": 15, \"New recovered\": 0}, {\"Unnamed: 0\": 10076, \"Date\": \"2020-03-16T00:00:00\", \"Country/Region\": \"Canada\", \"Confirmed\": 413, \"Deaths\": 4, \"Recovered\": 9.0, \"Active\": 400.0, \"New cases\": 163, \"New deaths\": 3, \"New recovered\": 1}, {\"Unnamed: 0\": 10080, \"Date\": \"2020-03-16T00:00:00\", \"Country/Region\": \"China\", \"Confirmed\": 81033, \"Deaths\": 3217, \"Recovered\": 66350.0, \"Active\": 11466.0, \"New cases\": 30, \"New deaths\": 14, \"New recovered\": 893}, {\"Unnamed: 0\": 10105, \"Date\": \"2020-03-16T00:00:00\", \"Country/Region\": \"France\", \"Confirmed\": 6683, \"Deaths\": 149, \"Recovered\": 12.0, \"Active\": 6522.0, \"New cases\": 2151, \"New deaths\": 58, \"New recovered\": 0}, {\"Unnamed: 0\": 10109, \"Date\": \"2020-03-16T00:00:00\", \"Country/Region\": \"Germany\", \"Confirmed\": 7272, \"Deaths\": 17, \"Recovered\": 67.0, \"Active\": 7188.0, \"New cases\": 1477, \"New deaths\": 6, \"New recovered\": 21}, {\"Unnamed: 0\": 10122, \"Date\": \"2020-03-16T00:00:00\", \"Country/Region\": \"India\", \"Confirmed\": 119, \"Deaths\": 2, \"Recovered\": 13.0, \"Active\": 104.0, \"New cases\": 6, \"New deaths\": 0, \"New recovered\": 0}, {\"Unnamed: 0\": 10124, \"Date\": \"2020-03-16T00:00:00\", \"Country/Region\": \"Iran\", \"Confirmed\": 14991, \"Deaths\": 853, \"Recovered\": 4590.0, \"Active\": 9548.0, \"New cases\": 1053, \"New deaths\": 129, \"New recovered\": 0}, {\"Unnamed: 0\": 10128, \"Date\": \"2020-03-16T00:00:00\", \"Country/Region\": \"Italy\", \"Confirmed\": 27980, \"Deaths\": 2158, \"Recovered\": 2749.0, \"Active\": 23073.0, \"New cases\": 3233, \"New deaths\": 349, \"New recovered\": 414}, {\"Unnamed: 0\": 10200, \"Date\": \"2020-03-16T00:00:00\", \"Country/Region\": \"Spain\", \"Confirmed\": 9942, \"Deaths\": 342, \"Recovered\": 530.0, \"Active\": 9070.0, \"New cases\": 2144, \"New deaths\": 53, \"New recovered\": 13}, {\"Unnamed: 0\": 10205, \"Date\": \"2020-03-16T00:00:00\", \"Country/Region\": \"Switzerland\", \"Confirmed\": 2200, \"Deaths\": 14, \"Recovered\": 4.0, \"Active\": 2182.0, \"New cases\": 0, \"New deaths\": 0, \"New recovered\": 0}, {\"Unnamed: 0\": 10216, \"Date\": \"2020-03-16T00:00:00\", \"Country/Region\": \"US\", \"Confirmed\": 4360, \"Deaths\": 97, \"Recovered\": 17.0, \"Active\": 4246.0, \"New cases\": 1392, \"New deaths\": 27, \"New recovered\": 5}, {\"Unnamed: 0\": 10220, \"Date\": \"2020-03-16T00:00:00\", \"Country/Region\": \"United Kingdom\", \"Confirmed\": 3692, \"Deaths\": 66, \"Recovered\": 21.0, \"Active\": 3605.0, \"New cases\": 615, \"New deaths\": 23, \"New recovered\": 2}, {\"Unnamed: 0\": 10262, \"Date\": \"2020-03-17T00:00:00\", \"Country/Region\": \"Canada\", \"Confirmed\": 470, \"Deaths\": 5, \"Recovered\": 9.0, \"Active\": 456.0, \"New cases\": 57, \"New deaths\": 1, \"New recovered\": 0}, {\"Unnamed: 0\": 10266, \"Date\": \"2020-03-17T00:00:00\", \"Country/Region\": \"China\", \"Confirmed\": 81058, \"Deaths\": 3230, \"Recovered\": 67238.0, \"Active\": 10590.0, \"New cases\": 25, \"New deaths\": 13, \"New recovered\": 888}, {\"Unnamed: 0\": 10291, \"Date\": \"2020-03-17T00:00:00\", \"Country/Region\": \"France\", \"Confirmed\": 7715, \"Deaths\": 149, \"Recovered\": 12.0, \"Active\": 7554.0, \"New cases\": 1032, \"New deaths\": 0, \"New recovered\": 0}, {\"Unnamed: 0\": 10295, \"Date\": \"2020-03-17T00:00:00\", \"Country/Region\": \"Germany\", \"Confirmed\": 9257, \"Deaths\": 24, \"Recovered\": 67.0, \"Active\": 9166.0, \"New cases\": 1985, \"New deaths\": 7, \"New recovered\": 0}, {\"Unnamed: 0\": 10308, \"Date\": \"2020-03-17T00:00:00\", \"Country/Region\": \"India\", \"Confirmed\": 142, \"Deaths\": 3, \"Recovered\": 14.0, \"Active\": 125.0, \"New cases\": 23, \"New deaths\": 1, \"New recovered\": 1}, {\"Unnamed: 0\": 10310, \"Date\": \"2020-03-17T00:00:00\", \"Country/Region\": \"Iran\", \"Confirmed\": 16169, \"Deaths\": 988, \"Recovered\": 5389.0, \"Active\": 9792.0, \"New cases\": 1178, \"New deaths\": 135, \"New recovered\": 799}, {\"Unnamed: 0\": 10314, \"Date\": \"2020-03-17T00:00:00\", \"Country/Region\": \"Italy\", \"Confirmed\": 31506, \"Deaths\": 2503, \"Recovered\": 2941.0, \"Active\": 26062.0, \"New cases\": 3526, \"New deaths\": 345, \"New recovered\": 192}, {\"Unnamed: 0\": 10386, \"Date\": \"2020-03-17T00:00:00\", \"Country/Region\": \"Spain\", \"Confirmed\": 11748, \"Deaths\": 533, \"Recovered\": 1028.0, \"Active\": 10187.0, \"New cases\": 1806, \"New deaths\": 191, \"New recovered\": 498}, {\"Unnamed: 0\": 10391, \"Date\": \"2020-03-17T00:00:00\", \"Country/Region\": \"Switzerland\", \"Confirmed\": 2700, \"Deaths\": 27, \"Recovered\": 4.0, \"Active\": 2669.0, \"New cases\": 500, \"New deaths\": 13, \"New recovered\": 0}, {\"Unnamed: 0\": 10402, \"Date\": \"2020-03-17T00:00:00\", \"Country/Region\": \"US\", \"Confirmed\": 6141, \"Deaths\": 131, \"Recovered\": 17.0, \"Active\": 5993.0, \"New cases\": 1781, \"New deaths\": 34, \"New recovered\": 0}, {\"Unnamed: 0\": 10406, \"Date\": \"2020-03-17T00:00:00\", \"Country/Region\": \"United Kingdom\", \"Confirmed\": 4462, \"Deaths\": 82, \"Recovered\": 53.0, \"Active\": 4327.0, \"New cases\": 770, \"New deaths\": 16, \"New recovered\": 32}, {\"Unnamed: 0\": 10448, \"Date\": \"2020-03-18T00:00:00\", \"Country/Region\": \"Canada\", \"Confirmed\": 648, \"Deaths\": 8, \"Recovered\": 9.0, \"Active\": 631.0, \"New cases\": 178, \"New deaths\": 3, \"New recovered\": 0}, {\"Unnamed: 0\": 10452, \"Date\": \"2020-03-18T00:00:00\", \"Country/Region\": \"China\", \"Confirmed\": 81102, \"Deaths\": 3241, \"Recovered\": 68195.0, \"Active\": 9666.0, \"New cases\": 44, \"New deaths\": 11, \"New recovered\": 957}, {\"Unnamed: 0\": 10477, \"Date\": \"2020-03-18T00:00:00\", \"Country/Region\": \"France\", \"Confirmed\": 9124, \"Deaths\": 149, \"Recovered\": 12.0, \"Active\": 8963.0, \"New cases\": 1409, \"New deaths\": 0, \"New recovered\": 0}, {\"Unnamed: 0\": 10481, \"Date\": \"2020-03-18T00:00:00\", \"Country/Region\": \"Germany\", \"Confirmed\": 12327, \"Deaths\": 28, \"Recovered\": 105.0, \"Active\": 12194.0, \"New cases\": 3070, \"New deaths\": 4, \"New recovered\": 38}, {\"Unnamed: 0\": 10494, \"Date\": \"2020-03-18T00:00:00\", \"Country/Region\": \"India\", \"Confirmed\": 156, \"Deaths\": 3, \"Recovered\": 14.0, \"Active\": 139.0, \"New cases\": 14, \"New deaths\": 0, \"New recovered\": 0}, {\"Unnamed: 0\": 10496, \"Date\": \"2020-03-18T00:00:00\", \"Country/Region\": \"Iran\", \"Confirmed\": 17361, \"Deaths\": 1135, \"Recovered\": 5389.0, \"Active\": 10837.0, \"New cases\": 1192, \"New deaths\": 147, \"New recovered\": 0}, {\"Unnamed: 0\": 10500, \"Date\": \"2020-03-18T00:00:00\", \"Country/Region\": \"Italy\", \"Confirmed\": 35713, \"Deaths\": 2978, \"Recovered\": 4025.0, \"Active\": 28710.0, \"New cases\": 4207, \"New deaths\": 475, \"New recovered\": 1084}, {\"Unnamed: 0\": 10572, \"Date\": \"2020-03-18T00:00:00\", \"Country/Region\": \"Spain\", \"Confirmed\": 13910, \"Deaths\": 623, \"Recovered\": 1081.0, \"Active\": 12206.0, \"New cases\": 2162, \"New deaths\": 90, \"New recovered\": 53}, {\"Unnamed: 0\": 10577, \"Date\": \"2020-03-18T00:00:00\", \"Country/Region\": \"Switzerland\", \"Confirmed\": 3028, \"Deaths\": 28, \"Recovered\": 15.0, \"Active\": 2985.0, \"New cases\": 328, \"New deaths\": 1, \"New recovered\": 11}, {\"Unnamed: 0\": 10588, \"Date\": \"2020-03-18T00:00:00\", \"Country/Region\": \"US\", \"Confirmed\": 8917, \"Deaths\": 188, \"Recovered\": 105.0, \"Active\": 8624.0, \"New cases\": 2776, \"New deaths\": 57, \"New recovered\": 88}, {\"Unnamed: 0\": 10592, \"Date\": \"2020-03-18T00:00:00\", \"Country/Region\": \"United Kingdom\", \"Confirmed\": 5467, \"Deaths\": 116, \"Recovered\": 67.0, \"Active\": 5284.0, \"New cases\": 1005, \"New deaths\": 34, \"New recovered\": 14}, {\"Unnamed: 0\": 10634, \"Date\": \"2020-03-19T00:00:00\", \"Country/Region\": \"Canada\", \"Confirmed\": 791, \"Deaths\": 9, \"Recovered\": 9.0, \"Active\": 773.0, \"New cases\": 143, \"New deaths\": 1, \"New recovered\": 0}, {\"Unnamed: 0\": 10638, \"Date\": \"2020-03-19T00:00:00\", \"Country/Region\": \"China\", \"Confirmed\": 81156, \"Deaths\": 3249, \"Recovered\": 68975.0, \"Active\": 8932.0, \"New cases\": 54, \"New deaths\": 8, \"New recovered\": 780}, {\"Unnamed: 0\": 10663, \"Date\": \"2020-03-19T00:00:00\", \"Country/Region\": \"France\", \"Confirmed\": 10970, \"Deaths\": 244, \"Recovered\": 12.0, \"Active\": 10714.0, \"New cases\": 1846, \"New deaths\": 95, \"New recovered\": 0}, {\"Unnamed: 0\": 10667, \"Date\": \"2020-03-19T00:00:00\", \"Country/Region\": \"Germany\", \"Confirmed\": 15320, \"Deaths\": 44, \"Recovered\": 113.0, \"Active\": 15163.0, \"New cases\": 2993, \"New deaths\": 16, \"New recovered\": 8}, {\"Unnamed: 0\": 10680, \"Date\": \"2020-03-19T00:00:00\", \"Country/Region\": \"India\", \"Confirmed\": 194, \"Deaths\": 4, \"Recovered\": 15.0, \"Active\": 175.0, \"New cases\": 38, \"New deaths\": 1, \"New recovered\": 1}, {\"Unnamed: 0\": 10682, \"Date\": \"2020-03-19T00:00:00\", \"Country/Region\": \"Iran\", \"Confirmed\": 18407, \"Deaths\": 1284, \"Recovered\": 5710.0, \"Active\": 11413.0, \"New cases\": 1046, \"New deaths\": 149, \"New recovered\": 321}, {\"Unnamed: 0\": 10686, \"Date\": \"2020-03-19T00:00:00\", \"Country/Region\": \"Italy\", \"Confirmed\": 41035, \"Deaths\": 3405, \"Recovered\": 4440.0, \"Active\": 33190.0, \"New cases\": 5322, \"New deaths\": 427, \"New recovered\": 415}, {\"Unnamed: 0\": 10758, \"Date\": \"2020-03-19T00:00:00\", \"Country/Region\": \"Spain\", \"Confirmed\": 17963, \"Deaths\": 830, \"Recovered\": 1107.0, \"Active\": 16026.0, \"New cases\": 4053, \"New deaths\": 207, \"New recovered\": 26}, {\"Unnamed: 0\": 10763, \"Date\": \"2020-03-19T00:00:00\", \"Country/Region\": \"Switzerland\", \"Confirmed\": 4075, \"Deaths\": 41, \"Recovered\": 15.0, \"Active\": 4019.0, \"New cases\": 1047, \"New deaths\": 13, \"New recovered\": 0}, {\"Unnamed: 0\": 10774, \"Date\": \"2020-03-19T00:00:00\", \"Country/Region\": \"US\", \"Confirmed\": 14157, \"Deaths\": 265, \"Recovered\": 121.0, \"Active\": 13771.0, \"New cases\": 5240, \"New deaths\": 77, \"New recovered\": 16}, {\"Unnamed: 0\": 10778, \"Date\": \"2020-03-19T00:00:00\", \"Country/Region\": \"United Kingdom\", \"Confirmed\": 6533, \"Deaths\": 159, \"Recovered\": 67.0, \"Active\": 6307.0, \"New cases\": 1066, \"New deaths\": 43, \"New recovered\": 0}, {\"Unnamed: 0\": 10820, \"Date\": \"2020-03-20T00:00:00\", \"Country/Region\": \"Canada\", \"Confirmed\": 933, \"Deaths\": 12, \"Recovered\": 9.0, \"Active\": 912.0, \"New cases\": 142, \"New deaths\": 3, \"New recovered\": 0}, {\"Unnamed: 0\": 10824, \"Date\": \"2020-03-20T00:00:00\", \"Country/Region\": \"China\", \"Confirmed\": 81250, \"Deaths\": 3253, \"Recovered\": 69706.0, \"Active\": 8291.0, \"New cases\": 94, \"New deaths\": 4, \"New recovered\": 731}, {\"Unnamed: 0\": 10849, \"Date\": \"2020-03-20T00:00:00\", \"Country/Region\": \"France\", \"Confirmed\": 12758, \"Deaths\": 451, \"Recovered\": 12.0, \"Active\": 12295.0, \"New cases\": 1788, \"New deaths\": 207, \"New recovered\": 0}, {\"Unnamed: 0\": 10853, \"Date\": \"2020-03-20T00:00:00\", \"Country/Region\": \"Germany\", \"Confirmed\": 19848, \"Deaths\": 67, \"Recovered\": 180.0, \"Active\": 19601.0, \"New cases\": 4528, \"New deaths\": 23, \"New recovered\": 67}, {\"Unnamed: 0\": 10866, \"Date\": \"2020-03-20T00:00:00\", \"Country/Region\": \"India\", \"Confirmed\": 244, \"Deaths\": 5, \"Recovered\": 20.0, \"Active\": 219.0, \"New cases\": 50, \"New deaths\": 1, \"New recovered\": 5}, {\"Unnamed: 0\": 10868, \"Date\": \"2020-03-20T00:00:00\", \"Country/Region\": \"Iran\", \"Confirmed\": 19644, \"Deaths\": 1433, \"Recovered\": 6745.0, \"Active\": 11466.0, \"New cases\": 1237, \"New deaths\": 149, \"New recovered\": 1035}, {\"Unnamed: 0\": 10872, \"Date\": \"2020-03-20T00:00:00\", \"Country/Region\": \"Italy\", \"Confirmed\": 47021, \"Deaths\": 4032, \"Recovered\": 4440.0, \"Active\": 38549.0, \"New cases\": 5986, \"New deaths\": 627, \"New recovered\": 0}, {\"Unnamed: 0\": 10944, \"Date\": \"2020-03-20T00:00:00\", \"Country/Region\": \"Spain\", \"Confirmed\": 20410, \"Deaths\": 1043, \"Recovered\": 1588.0, \"Active\": 17779.0, \"New cases\": 2447, \"New deaths\": 213, \"New recovered\": 481}, {\"Unnamed: 0\": 10949, \"Date\": \"2020-03-20T00:00:00\", \"Country/Region\": \"Switzerland\", \"Confirmed\": 5294, \"Deaths\": 54, \"Recovered\": 15.0, \"Active\": 5225.0, \"New cases\": 1219, \"New deaths\": 13, \"New recovered\": 0}, {\"Unnamed: 0\": 10960, \"Date\": \"2020-03-20T00:00:00\", \"Country/Region\": \"US\", \"Confirmed\": 19479, \"Deaths\": 362, \"Recovered\": 147.0, \"Active\": 18970.0, \"New cases\": 5322, \"New deaths\": 97, \"New recovered\": 26}, {\"Unnamed: 0\": 10964, \"Date\": \"2020-03-20T00:00:00\", \"Country/Region\": \"United Kingdom\", \"Confirmed\": 7791, \"Deaths\": 195, \"Recovered\": 67.0, \"Active\": 7529.0, \"New cases\": 1258, \"New deaths\": 36, \"New recovered\": 0}, {\"Unnamed: 0\": 11006, \"Date\": \"2020-03-21T00:00:00\", \"Country/Region\": \"Canada\", \"Confirmed\": 1267, \"Deaths\": 19, \"Recovered\": 10.0, \"Active\": 1238.0, \"New cases\": 334, \"New deaths\": 7, \"New recovered\": 1}, {\"Unnamed: 0\": 11010, \"Date\": \"2020-03-21T00:00:00\", \"Country/Region\": \"China\", \"Confirmed\": 81305, \"Deaths\": 3259, \"Recovered\": 70297.0, \"Active\": 7749.0, \"New cases\": 55, \"New deaths\": 6, \"New recovered\": 591}, {\"Unnamed: 0\": 11035, \"Date\": \"2020-03-21T00:00:00\", \"Country/Region\": \"France\", \"Confirmed\": 14463, \"Deaths\": 563, \"Recovered\": 12.0, \"Active\": 13888.0, \"New cases\": 1705, \"New deaths\": 112, \"New recovered\": 0}, {\"Unnamed: 0\": 11039, \"Date\": \"2020-03-21T00:00:00\", \"Country/Region\": \"Germany\", \"Confirmed\": 22213, \"Deaths\": 84, \"Recovered\": 233.0, \"Active\": 21896.0, \"New cases\": 2365, \"New deaths\": 17, \"New recovered\": 53}, {\"Unnamed: 0\": 11052, \"Date\": \"2020-03-21T00:00:00\", \"Country/Region\": \"India\", \"Confirmed\": 330, \"Deaths\": 4, \"Recovered\": 23.0, \"Active\": 303.0, \"New cases\": 86, \"New deaths\": -1, \"New recovered\": 3}, {\"Unnamed: 0\": 11054, \"Date\": \"2020-03-21T00:00:00\", \"Country/Region\": \"Iran\", \"Confirmed\": 20610, \"Deaths\": 1556, \"Recovered\": 7635.0, \"Active\": 11419.0, \"New cases\": 966, \"New deaths\": 123, \"New recovered\": 890}, {\"Unnamed: 0\": 11058, \"Date\": \"2020-03-21T00:00:00\", \"Country/Region\": \"Italy\", \"Confirmed\": 53578, \"Deaths\": 4825, \"Recovered\": 6072.0, \"Active\": 42681.0, \"New cases\": 6557, \"New deaths\": 793, \"New recovered\": 1632}, {\"Unnamed: 0\": 11130, \"Date\": \"2020-03-21T00:00:00\", \"Country/Region\": \"Spain\", \"Confirmed\": 25374, \"Deaths\": 1375, \"Recovered\": 2125.0, \"Active\": 21874.0, \"New cases\": 4964, \"New deaths\": 332, \"New recovered\": 537}, {\"Unnamed: 0\": 11135, \"Date\": \"2020-03-21T00:00:00\", \"Country/Region\": \"Switzerland\", \"Confirmed\": 6575, \"Deaths\": 75, \"Recovered\": 15.0, \"Active\": 6485.0, \"New cases\": 1281, \"New deaths\": 21, \"New recovered\": 0}, {\"Unnamed: 0\": 11146, \"Date\": \"2020-03-21T00:00:00\", \"Country/Region\": \"US\", \"Confirmed\": 25825, \"Deaths\": 456, \"Recovered\": 176.0, \"Active\": 25193.0, \"New cases\": 6346, \"New deaths\": 94, \"New recovered\": 29}, {\"Unnamed: 0\": 11150, \"Date\": \"2020-03-21T00:00:00\", \"Country/Region\": \"United Kingdom\", \"Confirmed\": 9006, \"Deaths\": 251, \"Recovered\": 67.0, \"Active\": 8688.0, \"New cases\": 1215, \"New deaths\": 56, \"New recovered\": 0}, {\"Unnamed: 0\": 11192, \"Date\": \"2020-03-22T00:00:00\", \"Country/Region\": \"Canada\", \"Confirmed\": 1456, \"Deaths\": 20, \"Recovered\": 10.0, \"Active\": 1426.0, \"New cases\": 189, \"New deaths\": 1, \"New recovered\": 0}, {\"Unnamed: 0\": 11196, \"Date\": \"2020-03-22T00:00:00\", \"Country/Region\": \"China\", \"Confirmed\": 81435, \"Deaths\": 3274, \"Recovered\": 70802.0, \"Active\": 7359.0, \"New cases\": 130, \"New deaths\": 15, \"New recovered\": 505}, {\"Unnamed: 0\": 11221, \"Date\": \"2020-03-22T00:00:00\", \"Country/Region\": \"France\", \"Confirmed\": 16243, \"Deaths\": 676, \"Recovered\": 2206.0, \"Active\": 13361.0, \"New cases\": 1780, \"New deaths\": 113, \"New recovered\": 2194}, {\"Unnamed: 0\": 11225, \"Date\": \"2020-03-22T00:00:00\", \"Country/Region\": \"Germany\", \"Confirmed\": 24873, \"Deaths\": 94, \"Recovered\": 266.0, \"Active\": 24513.0, \"New cases\": 2660, \"New deaths\": 10, \"New recovered\": 33}, {\"Unnamed: 0\": 11238, \"Date\": \"2020-03-22T00:00:00\", \"Country/Region\": \"India\", \"Confirmed\": 396, \"Deaths\": 7, \"Recovered\": 27.0, \"Active\": 362.0, \"New cases\": 66, \"New deaths\": 3, \"New recovered\": 4}, {\"Unnamed: 0\": 11240, \"Date\": \"2020-03-22T00:00:00\", \"Country/Region\": \"Iran\", \"Confirmed\": 21638, \"Deaths\": 1685, \"Recovered\": 7931.0, \"Active\": 12022.0, \"New cases\": 1028, \"New deaths\": 129, \"New recovered\": 296}, {\"Unnamed: 0\": 11244, \"Date\": \"2020-03-22T00:00:00\", \"Country/Region\": \"Italy\", \"Confirmed\": 59138, \"Deaths\": 5476, \"Recovered\": 7024.0, \"Active\": 46638.0, \"New cases\": 5560, \"New deaths\": 651, \"New recovered\": 952}, {\"Unnamed: 0\": 11316, \"Date\": \"2020-03-22T00:00:00\", \"Country/Region\": \"Spain\", \"Confirmed\": 28768, \"Deaths\": 1772, \"Recovered\": 2575.0, \"Active\": 24421.0, \"New cases\": 3394, \"New deaths\": 397, \"New recovered\": 450}, {\"Unnamed: 0\": 11321, \"Date\": \"2020-03-22T00:00:00\", \"Country/Region\": \"Switzerland\", \"Confirmed\": 7474, \"Deaths\": 98, \"Recovered\": 131.0, \"Active\": 7245.0, \"New cases\": 899, \"New deaths\": 23, \"New recovered\": 116}, {\"Unnamed: 0\": 11332, \"Date\": \"2020-03-22T00:00:00\", \"Country/Region\": \"US\", \"Confirmed\": 33761, \"Deaths\": 601, \"Recovered\": 178.0, \"Active\": 32982.0, \"New cases\": 7936, \"New deaths\": 145, \"New recovered\": 2}, {\"Unnamed: 0\": 11336, \"Date\": \"2020-03-22T00:00:00\", \"Country/Region\": \"United Kingdom\", \"Confirmed\": 10395, \"Deaths\": 286, \"Recovered\": 67.0, \"Active\": 10042.0, \"New cases\": 1389, \"New deaths\": 35, \"New recovered\": 0}, {\"Unnamed: 0\": 11378, \"Date\": \"2020-03-23T00:00:00\", \"Country/Region\": \"Canada\", \"Confirmed\": 2075, \"Deaths\": 24, \"Recovered\": 10.0, \"Active\": 2041.0, \"New cases\": 619, \"New deaths\": 4, \"New recovered\": 0}, {\"Unnamed: 0\": 11382, \"Date\": \"2020-03-23T00:00:00\", \"Country/Region\": \"China\", \"Confirmed\": 81498, \"Deaths\": 3274, \"Recovered\": 71254.0, \"Active\": 6970.0, \"New cases\": 63, \"New deaths\": 0, \"New recovered\": 452}, {\"Unnamed: 0\": 11407, \"Date\": \"2020-03-23T00:00:00\", \"Country/Region\": \"France\", \"Confirmed\": 20123, \"Deaths\": 862, \"Recovered\": 2206.0, \"Active\": 17055.0, \"New cases\": 3880, \"New deaths\": 186, \"New recovered\": 0}, {\"Unnamed: 0\": 11411, \"Date\": \"2020-03-23T00:00:00\", \"Country/Region\": \"Germany\", \"Confirmed\": 29056, \"Deaths\": 123, \"Recovered\": 266.0, \"Active\": 28667.0, \"New cases\": 4183, \"New deaths\": 29, \"New recovered\": 0}, {\"Unnamed: 0\": 11424, \"Date\": \"2020-03-23T00:00:00\", \"Country/Region\": \"India\", \"Confirmed\": 499, \"Deaths\": 10, \"Recovered\": 27.0, \"Active\": 462.0, \"New cases\": 103, \"New deaths\": 3, \"New recovered\": 0}, {\"Unnamed: 0\": 11426, \"Date\": \"2020-03-23T00:00:00\", \"Country/Region\": \"Iran\", \"Confirmed\": 23049, \"Deaths\": 1812, \"Recovered\": 7931.0, \"Active\": 13306.0, \"New cases\": 1411, \"New deaths\": 127, \"New recovered\": 0}, {\"Unnamed: 0\": 11430, \"Date\": \"2020-03-23T00:00:00\", \"Country/Region\": \"Italy\", \"Confirmed\": 63927, \"Deaths\": 6077, \"Recovered\": 7024.0, \"Active\": 50826.0, \"New cases\": 4789, \"New deaths\": 601, \"New recovered\": 0}, {\"Unnamed: 0\": 11502, \"Date\": \"2020-03-23T00:00:00\", \"Country/Region\": \"Spain\", \"Confirmed\": 35136, \"Deaths\": 2311, \"Recovered\": 2575.0, \"Active\": 30250.0, \"New cases\": 6368, \"New deaths\": 539, \"New recovered\": 0}, {\"Unnamed: 0\": 11507, \"Date\": \"2020-03-23T00:00:00\", \"Country/Region\": \"Switzerland\", \"Confirmed\": 8795, \"Deaths\": 120, \"Recovered\": 131.0, \"Active\": 8544.0, \"New cases\": 1321, \"New deaths\": 22, \"New recovered\": 0}, {\"Unnamed: 0\": 11518, \"Date\": \"2020-03-23T00:00:00\", \"Country/Region\": \"US\", \"Confirmed\": 43850, \"Deaths\": 784, \"Recovered\": 178.0, \"Active\": 42888.0, \"New cases\": 10089, \"New deaths\": 183, \"New recovered\": 0}, {\"Unnamed: 0\": 11522, \"Date\": \"2020-03-23T00:00:00\", \"Country/Region\": \"United Kingdom\", \"Confirmed\": 12744, \"Deaths\": 360, \"Recovered\": 67.0, \"Active\": 12317.0, \"New cases\": 2349, \"New deaths\": 74, \"New recovered\": 0}, {\"Unnamed: 0\": 11564, \"Date\": \"2020-03-24T00:00:00\", \"Country/Region\": \"Canada\", \"Confirmed\": 2777, \"Deaths\": 25, \"Recovered\": 110.0, \"Active\": 2642.0, \"New cases\": 702, \"New deaths\": 1, \"New recovered\": 100}, {\"Unnamed: 0\": 11568, \"Date\": \"2020-03-24T00:00:00\", \"Country/Region\": \"China\", \"Confirmed\": 81591, \"Deaths\": 3281, \"Recovered\": 71720.0, \"Active\": 6590.0, \"New cases\": 93, \"New deaths\": 7, \"New recovered\": 466}, {\"Unnamed: 0\": 11593, \"Date\": \"2020-03-24T00:00:00\", \"Country/Region\": \"France\", \"Confirmed\": 22622, \"Deaths\": 1102, \"Recovered\": 3250.0, \"Active\": 18270.0, \"New cases\": 2499, \"New deaths\": 240, \"New recovered\": 1044}, {\"Unnamed: 0\": 11597, \"Date\": \"2020-03-24T00:00:00\", \"Country/Region\": \"Germany\", \"Confirmed\": 32986, \"Deaths\": 157, \"Recovered\": 3243.0, \"Active\": 29586.0, \"New cases\": 3930, \"New deaths\": 34, \"New recovered\": 2977}, {\"Unnamed: 0\": 11610, \"Date\": \"2020-03-24T00:00:00\", \"Country/Region\": \"India\", \"Confirmed\": 536, \"Deaths\": 10, \"Recovered\": 40.0, \"Active\": 486.0, \"New cases\": 37, \"New deaths\": 0, \"New recovered\": 13}, {\"Unnamed: 0\": 11612, \"Date\": \"2020-03-24T00:00:00\", \"Country/Region\": \"Iran\", \"Confirmed\": 24811, \"Deaths\": 1934, \"Recovered\": 8913.0, \"Active\": 13964.0, \"New cases\": 1762, \"New deaths\": 122, \"New recovered\": 982}, {\"Unnamed: 0\": 11616, \"Date\": \"2020-03-24T00:00:00\", \"Country/Region\": \"Italy\", \"Confirmed\": 69176, \"Deaths\": 6820, \"Recovered\": 8326.0, \"Active\": 54030.0, \"New cases\": 5249, \"New deaths\": 743, \"New recovered\": 1302}, {\"Unnamed: 0\": 11688, \"Date\": \"2020-03-24T00:00:00\", \"Country/Region\": \"Spain\", \"Confirmed\": 39885, \"Deaths\": 2808, \"Recovered\": 3794.0, \"Active\": 33283.0, \"New cases\": 4749, \"New deaths\": 497, \"New recovered\": 1219}, {\"Unnamed: 0\": 11693, \"Date\": \"2020-03-24T00:00:00\", \"Country/Region\": \"Switzerland\", \"Confirmed\": 9877, \"Deaths\": 122, \"Recovered\": 131.0, \"Active\": 9624.0, \"New cases\": 1082, \"New deaths\": 2, \"New recovered\": 0}, {\"Unnamed: 0\": 11704, \"Date\": \"2020-03-24T00:00:00\", \"Country/Region\": \"US\", \"Confirmed\": 54112, \"Deaths\": 1021, \"Recovered\": 348.0, \"Active\": 52743.0, \"New cases\": 10262, \"New deaths\": 237, \"New recovered\": 170}, {\"Unnamed: 0\": 11708, \"Date\": \"2020-03-24T00:00:00\", \"Country/Region\": \"United Kingdom\", \"Confirmed\": 15126, \"Deaths\": 509, \"Recovered\": 140.0, \"Active\": 14477.0, \"New cases\": 2382, \"New deaths\": 149, \"New recovered\": 73}, {\"Unnamed: 0\": 11750, \"Date\": \"2020-03-25T00:00:00\", \"Country/Region\": \"Canada\", \"Confirmed\": 3238, \"Deaths\": 29, \"Recovered\": 183.0, \"Active\": 3026.0, \"New cases\": 461, \"New deaths\": 4, \"New recovered\": 73}, {\"Unnamed: 0\": 11754, \"Date\": \"2020-03-25T00:00:00\", \"Country/Region\": \"China\", \"Confirmed\": 81661, \"Deaths\": 3285, \"Recovered\": 72213.0, \"Active\": 6163.0, \"New cases\": 70, \"New deaths\": 4, \"New recovered\": 493}, {\"Unnamed: 0\": 11779, \"Date\": \"2020-03-25T00:00:00\", \"Country/Region\": \"France\", \"Confirmed\": 25600, \"Deaths\": 1333, \"Recovered\": 3907.0, \"Active\": 20360.0, \"New cases\": 2978, \"New deaths\": 231, \"New recovered\": 657}, {\"Unnamed: 0\": 11783, \"Date\": \"2020-03-25T00:00:00\", \"Country/Region\": \"Germany\", \"Confirmed\": 37323, \"Deaths\": 206, \"Recovered\": 3547.0, \"Active\": 33570.0, \"New cases\": 4337, \"New deaths\": 49, \"New recovered\": 304}, {\"Unnamed: 0\": 11796, \"Date\": \"2020-03-25T00:00:00\", \"Country/Region\": \"India\", \"Confirmed\": 657, \"Deaths\": 12, \"Recovered\": 43.0, \"Active\": 602.0, \"New cases\": 121, \"New deaths\": 2, \"New recovered\": 3}, {\"Unnamed: 0\": 11798, \"Date\": \"2020-03-25T00:00:00\", \"Country/Region\": \"Iran\", \"Confirmed\": 27017, \"Deaths\": 2077, \"Recovered\": 9625.0, \"Active\": 15315.0, \"New cases\": 2206, \"New deaths\": 143, \"New recovered\": 712}, {\"Unnamed: 0\": 11802, \"Date\": \"2020-03-25T00:00:00\", \"Country/Region\": \"Italy\", \"Confirmed\": 74386, \"Deaths\": 7503, \"Recovered\": 9362.0, \"Active\": 57521.0, \"New cases\": 5210, \"New deaths\": 683, \"New recovered\": 1036}, {\"Unnamed: 0\": 11874, \"Date\": \"2020-03-25T00:00:00\", \"Country/Region\": \"Spain\", \"Confirmed\": 49515, \"Deaths\": 3647, \"Recovered\": 5367.0, \"Active\": 40501.0, \"New cases\": 9630, \"New deaths\": 839, \"New recovered\": 1573}, {\"Unnamed: 0\": 11879, \"Date\": \"2020-03-25T00:00:00\", \"Country/Region\": \"Switzerland\", \"Confirmed\": 10897, \"Deaths\": 153, \"Recovered\": 131.0, \"Active\": 10613.0, \"New cases\": 1020, \"New deaths\": 31, \"New recovered\": 0}, {\"Unnamed: 0\": 11890, \"Date\": \"2020-03-25T00:00:00\", \"Country/Region\": \"US\", \"Confirmed\": 66055, \"Deaths\": 1333, \"Recovered\": 361.0, \"Active\": 64361.0, \"New cases\": 11943, \"New deaths\": 312, \"New recovered\": 13}, {\"Unnamed: 0\": 11894, \"Date\": \"2020-03-25T00:00:00\", \"Country/Region\": \"United Kingdom\", \"Confirmed\": 17843, \"Deaths\": 696, \"Recovered\": 140.0, \"Active\": 17007.0, \"New cases\": 2717, \"New deaths\": 187, \"New recovered\": 0}, {\"Unnamed: 0\": 11936, \"Date\": \"2020-03-26T00:00:00\", \"Country/Region\": \"Canada\", \"Confirmed\": 4029, \"Deaths\": 37, \"Recovered\": 184.0, \"Active\": 3808.0, \"New cases\": 791, \"New deaths\": 8, \"New recovered\": 1}, {\"Unnamed: 0\": 11940, \"Date\": \"2020-03-26T00:00:00\", \"Country/Region\": \"China\", \"Confirmed\": 81782, \"Deaths\": 3291, \"Recovered\": 72621.0, \"Active\": 5870.0, \"New cases\": 121, \"New deaths\": 6, \"New recovered\": 408}, {\"Unnamed: 0\": 11965, \"Date\": \"2020-03-26T00:00:00\", \"Country/Region\": \"France\", \"Confirmed\": 29551, \"Deaths\": 1698, \"Recovered\": 4955.0, \"Active\": 22898.0, \"New cases\": 3951, \"New deaths\": 365, \"New recovered\": 1048}, {\"Unnamed: 0\": 11969, \"Date\": \"2020-03-26T00:00:00\", \"Country/Region\": \"Germany\", \"Confirmed\": 43938, \"Deaths\": 267, \"Recovered\": 5673.0, \"Active\": 37998.0, \"New cases\": 6615, \"New deaths\": 61, \"New recovered\": 2126}, {\"Unnamed: 0\": 11982, \"Date\": \"2020-03-26T00:00:00\", \"Country/Region\": \"India\", \"Confirmed\": 727, \"Deaths\": 20, \"Recovered\": 45.0, \"Active\": 662.0, \"New cases\": 70, \"New deaths\": 8, \"New recovered\": 2}, {\"Unnamed: 0\": 11984, \"Date\": \"2020-03-26T00:00:00\", \"Country/Region\": \"Iran\", \"Confirmed\": 29406, \"Deaths\": 2234, \"Recovered\": 10457.0, \"Active\": 16715.0, \"New cases\": 2389, \"New deaths\": 157, \"New recovered\": 832}, {\"Unnamed: 0\": 11988, \"Date\": \"2020-03-26T00:00:00\", \"Country/Region\": \"Italy\", \"Confirmed\": 80589, \"Deaths\": 8215, \"Recovered\": 10361.0, \"Active\": 62013.0, \"New cases\": 6203, \"New deaths\": 712, \"New recovered\": 999}, {\"Unnamed: 0\": 12060, \"Date\": \"2020-03-26T00:00:00\", \"Country/Region\": \"Spain\", \"Confirmed\": 57786, \"Deaths\": 4365, \"Recovered\": 7015.0, \"Active\": 46406.0, \"New cases\": 8271, \"New deaths\": 718, \"New recovered\": 1648}, {\"Unnamed: 0\": 12065, \"Date\": \"2020-03-26T00:00:00\", \"Country/Region\": \"Switzerland\", \"Confirmed\": 11811, \"Deaths\": 191, \"Recovered\": 131.0, \"Active\": 11489.0, \"New cases\": 914, \"New deaths\": 38, \"New recovered\": 0}, {\"Unnamed: 0\": 12076, \"Date\": \"2020-03-26T00:00:00\", \"Country/Region\": \"US\", \"Confirmed\": 84091, \"Deaths\": 1746, \"Recovered\": 681.0, \"Active\": 81664.0, \"New cases\": 18036, \"New deaths\": 413, \"New recovered\": 320}, {\"Unnamed: 0\": 12080, \"Date\": \"2020-03-26T00:00:00\", \"Country/Region\": \"United Kingdom\", \"Confirmed\": 20970, \"Deaths\": 880, \"Recovered\": 150.0, \"Active\": 19940.0, \"New cases\": 3127, \"New deaths\": 184, \"New recovered\": 10}, {\"Unnamed: 0\": 12122, \"Date\": \"2020-03-27T00:00:00\", \"Country/Region\": \"Canada\", \"Confirmed\": 4669, \"Deaths\": 53, \"Recovered\": 256.0, \"Active\": 4360.0, \"New cases\": 640, \"New deaths\": 16, \"New recovered\": 72}, {\"Unnamed: 0\": 12126, \"Date\": \"2020-03-27T00:00:00\", \"Country/Region\": \"China\", \"Confirmed\": 81897, \"Deaths\": 3296, \"Recovered\": 73160.0, \"Active\": 5441.0, \"New cases\": 115, \"New deaths\": 5, \"New recovered\": 539}, {\"Unnamed: 0\": 12151, \"Date\": \"2020-03-27T00:00:00\", \"Country/Region\": \"France\", \"Confirmed\": 33402, \"Deaths\": 1997, \"Recovered\": 5707.0, \"Active\": 25698.0, \"New cases\": 3851, \"New deaths\": 299, \"New recovered\": 752}, {\"Unnamed: 0\": 12155, \"Date\": \"2020-03-27T00:00:00\", \"Country/Region\": \"Germany\", \"Confirmed\": 50871, \"Deaths\": 342, \"Recovered\": 6658.0, \"Active\": 43871.0, \"New cases\": 6933, \"New deaths\": 75, \"New recovered\": 985}, {\"Unnamed: 0\": 12168, \"Date\": \"2020-03-27T00:00:00\", \"Country/Region\": \"India\", \"Confirmed\": 887, \"Deaths\": 20, \"Recovered\": 73.0, \"Active\": 794.0, \"New cases\": 160, \"New deaths\": 0, \"New recovered\": 28}, {\"Unnamed: 0\": 12170, \"Date\": \"2020-03-27T00:00:00\", \"Country/Region\": \"Iran\", \"Confirmed\": 32332, \"Deaths\": 2378, \"Recovered\": 11133.0, \"Active\": 18821.0, \"New cases\": 2926, \"New deaths\": 144, \"New recovered\": 676}, {\"Unnamed: 0\": 12174, \"Date\": \"2020-03-27T00:00:00\", \"Country/Region\": \"Italy\", \"Confirmed\": 86498, \"Deaths\": 9134, \"Recovered\": 10950.0, \"Active\": 66414.0, \"New cases\": 5909, \"New deaths\": 919, \"New recovered\": 589}, {\"Unnamed: 0\": 12246, \"Date\": \"2020-03-27T00:00:00\", \"Country/Region\": \"Spain\", \"Confirmed\": 65719, \"Deaths\": 5138, \"Recovered\": 9357.0, \"Active\": 51224.0, \"New cases\": 7933, \"New deaths\": 773, \"New recovered\": 2342}, {\"Unnamed: 0\": 12251, \"Date\": \"2020-03-27T00:00:00\", \"Country/Region\": \"Switzerland\", \"Confirmed\": 12928, \"Deaths\": 231, \"Recovered\": 1530.0, \"Active\": 11167.0, \"New cases\": 1117, \"New deaths\": 40, \"New recovered\": 1399}, {\"Unnamed: 0\": 12262, \"Date\": \"2020-03-27T00:00:00\", \"Country/Region\": \"US\", \"Confirmed\": 102276, \"Deaths\": 2300, \"Recovered\": 869.0, \"Active\": 99107.0, \"New cases\": 18185, \"New deaths\": 554, \"New recovered\": 188}, {\"Unnamed: 0\": 12266, \"Date\": \"2020-03-27T00:00:00\", \"Country/Region\": \"United Kingdom\", \"Confirmed\": 24219, \"Deaths\": 1164, \"Recovered\": 151.0, \"Active\": 22904.0, \"New cases\": 3249, \"New deaths\": 284, \"New recovered\": 1}, {\"Unnamed: 0\": 12308, \"Date\": \"2020-03-28T00:00:00\", \"Country/Region\": \"Canada\", \"Confirmed\": 5563, \"Deaths\": 60, \"Recovered\": 466.0, \"Active\": 5037.0, \"New cases\": 894, \"New deaths\": 7, \"New recovered\": 210}, {\"Unnamed: 0\": 12312, \"Date\": \"2020-03-28T00:00:00\", \"Country/Region\": \"China\", \"Confirmed\": 81999, \"Deaths\": 3299, \"Recovered\": 73539.0, \"Active\": 5161.0, \"New cases\": 102, \"New deaths\": 3, \"New recovered\": 379}, {\"Unnamed: 0\": 12337, \"Date\": \"2020-03-28T00:00:00\", \"Country/Region\": \"France\", \"Confirmed\": 38105, \"Deaths\": 2317, \"Recovered\": 5724.0, \"Active\": 30064.0, \"New cases\": 4703, \"New deaths\": 320, \"New recovered\": 17}, {\"Unnamed: 0\": 12341, \"Date\": \"2020-03-28T00:00:00\", \"Country/Region\": \"Germany\", \"Confirmed\": 57695, \"Deaths\": 433, \"Recovered\": 8481.0, \"Active\": 48781.0, \"New cases\": 6824, \"New deaths\": 91, \"New recovered\": 1823}, {\"Unnamed: 0\": 12354, \"Date\": \"2020-03-28T00:00:00\", \"Country/Region\": \"India\", \"Confirmed\": 987, \"Deaths\": 24, \"Recovered\": 84.0, \"Active\": 879.0, \"New cases\": 100, \"New deaths\": 4, \"New recovered\": 11}, {\"Unnamed: 0\": 12356, \"Date\": \"2020-03-28T00:00:00\", \"Country/Region\": \"Iran\", \"Confirmed\": 35408, \"Deaths\": 2517, \"Recovered\": 11679.0, \"Active\": 21212.0, \"New cases\": 3076, \"New deaths\": 139, \"New recovered\": 546}, {\"Unnamed: 0\": 12360, \"Date\": \"2020-03-28T00:00:00\", \"Country/Region\": \"Italy\", \"Confirmed\": 92472, \"Deaths\": 10023, \"Recovered\": 12384.0, \"Active\": 70065.0, \"New cases\": 5974, \"New deaths\": 889, \"New recovered\": 1434}, {\"Unnamed: 0\": 12432, \"Date\": \"2020-03-28T00:00:00\", \"Country/Region\": \"Spain\", \"Confirmed\": 73235, \"Deaths\": 5982, \"Recovered\": 12285.0, \"Active\": 54968.0, \"New cases\": 7516, \"New deaths\": 844, \"New recovered\": 2928}, {\"Unnamed: 0\": 12437, \"Date\": \"2020-03-28T00:00:00\", \"Country/Region\": \"Switzerland\", \"Confirmed\": 14076, \"Deaths\": 264, \"Recovered\": 1530.0, \"Active\": 12282.0, \"New cases\": 1148, \"New deaths\": 33, \"New recovered\": 0}, {\"Unnamed: 0\": 12448, \"Date\": \"2020-03-28T00:00:00\", \"Country/Region\": \"US\", \"Confirmed\": 122069, \"Deaths\": 2934, \"Recovered\": 1072.0, \"Active\": 118063.0, \"New cases\": 19793, \"New deaths\": 634, \"New recovered\": 203}, {\"Unnamed: 0\": 12452, \"Date\": \"2020-03-28T00:00:00\", \"Country/Region\": \"United Kingdom\", \"Confirmed\": 27062, \"Deaths\": 1458, \"Recovered\": 151.0, \"Active\": 25453.0, \"New cases\": 2843, \"New deaths\": 294, \"New recovered\": 0}, {\"Unnamed: 0\": 12494, \"Date\": \"2020-03-29T00:00:00\", \"Country/Region\": \"Canada\", \"Confirmed\": 6267, \"Deaths\": 63, \"Recovered\": 466.0, \"Active\": 5738.0, \"New cases\": 704, \"New deaths\": 3, \"New recovered\": 0}, {\"Unnamed: 0\": 12498, \"Date\": \"2020-03-29T00:00:00\", \"Country/Region\": \"China\", \"Confirmed\": 82122, \"Deaths\": 3304, \"Recovered\": 74021.0, \"Active\": 4797.0, \"New cases\": 123, \"New deaths\": 5, \"New recovered\": 482}, {\"Unnamed: 0\": 12523, \"Date\": \"2020-03-29T00:00:00\", \"Country/Region\": \"France\", \"Confirmed\": 40708, \"Deaths\": 2611, \"Recovered\": 7226.0, \"Active\": 30871.0, \"New cases\": 2603, \"New deaths\": 294, \"New recovered\": 1502}, {\"Unnamed: 0\": 12527, \"Date\": \"2020-03-29T00:00:00\", \"Country/Region\": \"Germany\", \"Confirmed\": 62095, \"Deaths\": 533, \"Recovered\": 9211.0, \"Active\": 52351.0, \"New cases\": 4400, \"New deaths\": 100, \"New recovered\": 730}, {\"Unnamed: 0\": 12540, \"Date\": \"2020-03-29T00:00:00\", \"Country/Region\": \"India\", \"Confirmed\": 1024, \"Deaths\": 27, \"Recovered\": 95.0, \"Active\": 902.0, \"New cases\": 37, \"New deaths\": 3, \"New recovered\": 11}, {\"Unnamed: 0\": 12542, \"Date\": \"2020-03-29T00:00:00\", \"Country/Region\": \"Iran\", \"Confirmed\": 38309, \"Deaths\": 2640, \"Recovered\": 12391.0, \"Active\": 23278.0, \"New cases\": 2901, \"New deaths\": 123, \"New recovered\": 712}, {\"Unnamed: 0\": 12546, \"Date\": \"2020-03-29T00:00:00\", \"Country/Region\": \"Italy\", \"Confirmed\": 97689, \"Deaths\": 10779, \"Recovered\": 13030.0, \"Active\": 73880.0, \"New cases\": 5217, \"New deaths\": 756, \"New recovered\": 646}, {\"Unnamed: 0\": 12618, \"Date\": \"2020-03-29T00:00:00\", \"Country/Region\": \"Spain\", \"Confirmed\": 80110, \"Deaths\": 6803, \"Recovered\": 14709.0, \"Active\": 58598.0, \"New cases\": 6875, \"New deaths\": 821, \"New recovered\": 2424}, {\"Unnamed: 0\": 12623, \"Date\": \"2020-03-29T00:00:00\", \"Country/Region\": \"Switzerland\", \"Confirmed\": 14829, \"Deaths\": 300, \"Recovered\": 1595.0, \"Active\": 12934.0, \"New cases\": 753, \"New deaths\": 36, \"New recovered\": 65}, {\"Unnamed: 0\": 12634, \"Date\": \"2020-03-29T00:00:00\", \"Country/Region\": \"US\", \"Confirmed\": 141205, \"Deaths\": 3561, \"Recovered\": 2665.0, \"Active\": 134979.0, \"New cases\": 19136, \"New deaths\": 627, \"New recovered\": 1593}, {\"Unnamed: 0\": 12638, \"Date\": \"2020-03-29T00:00:00\", \"Country/Region\": \"United Kingdom\", \"Confirmed\": 29954, \"Deaths\": 1673, \"Recovered\": 151.0, \"Active\": 28130.0, \"New cases\": 2892, \"New deaths\": 215, \"New recovered\": 0}, {\"Unnamed: 0\": 12680, \"Date\": \"2020-03-30T00:00:00\", \"Country/Region\": \"Canada\", \"Confirmed\": 7385, \"Deaths\": 79, \"Recovered\": 466.0, \"Active\": 6840.0, \"New cases\": 1118, \"New deaths\": 16, \"New recovered\": 0}, {\"Unnamed: 0\": 12684, \"Date\": \"2020-03-30T00:00:00\", \"Country/Region\": \"China\", \"Confirmed\": 82198, \"Deaths\": 3308, \"Recovered\": 74362.0, \"Active\": 4528.0, \"New cases\": 76, \"New deaths\": 4, \"New recovered\": 341}, {\"Unnamed: 0\": 12709, \"Date\": \"2020-03-30T00:00:00\", \"Country/Region\": \"France\", \"Confirmed\": 45170, \"Deaths\": 3030, \"Recovered\": 7964.0, \"Active\": 34176.0, \"New cases\": 4462, \"New deaths\": 419, \"New recovered\": 738}, {\"Unnamed: 0\": 12713, \"Date\": \"2020-03-30T00:00:00\", \"Country/Region\": \"Germany\", \"Confirmed\": 66885, \"Deaths\": 645, \"Recovered\": 13500.0, \"Active\": 52740.0, \"New cases\": 4790, \"New deaths\": 112, \"New recovered\": 4289}, {\"Unnamed: 0\": 12726, \"Date\": \"2020-03-30T00:00:00\", \"Country/Region\": \"India\", \"Confirmed\": 1251, \"Deaths\": 32, \"Recovered\": 102.0, \"Active\": 1117.0, \"New cases\": 227, \"New deaths\": 5, \"New recovered\": 7}, {\"Unnamed: 0\": 12728, \"Date\": \"2020-03-30T00:00:00\", \"Country/Region\": \"Iran\", \"Confirmed\": 41495, \"Deaths\": 2757, \"Recovered\": 13911.0, \"Active\": 24827.0, \"New cases\": 3186, \"New deaths\": 117, \"New recovered\": 1520}, {\"Unnamed: 0\": 12732, \"Date\": \"2020-03-30T00:00:00\", \"Country/Region\": \"Italy\", \"Confirmed\": 101739, \"Deaths\": 11591, \"Recovered\": 14620.0, \"Active\": 75528.0, \"New cases\": 4050, \"New deaths\": 812, \"New recovered\": 1590}, {\"Unnamed: 0\": 12804, \"Date\": \"2020-03-30T00:00:00\", \"Country/Region\": \"Spain\", \"Confirmed\": 87956, \"Deaths\": 7716, \"Recovered\": 16780.0, \"Active\": 63460.0, \"New cases\": 7846, \"New deaths\": 913, \"New recovered\": 2071}, {\"Unnamed: 0\": 12809, \"Date\": \"2020-03-30T00:00:00\", \"Country/Region\": \"Switzerland\", \"Confirmed\": 15922, \"Deaths\": 359, \"Recovered\": 1823.0, \"Active\": 13740.0, \"New cases\": 1093, \"New deaths\": 59, \"New recovered\": 228}, {\"Unnamed: 0\": 12820, \"Date\": \"2020-03-30T00:00:00\", \"Country/Region\": \"US\", \"Confirmed\": 162707, \"Deaths\": 4381, \"Recovered\": 5644.0, \"Active\": 152682.0, \"New cases\": 21502, \"New deaths\": 820, \"New recovered\": 2979}, {\"Unnamed: 0\": 12824, \"Date\": \"2020-03-30T00:00:00\", \"Country/Region\": \"United Kingdom\", \"Confirmed\": 34281, \"Deaths\": 2047, \"Recovered\": 171.0, \"Active\": 32063.0, \"New cases\": 4327, \"New deaths\": 374, \"New recovered\": 20}, {\"Unnamed: 0\": 12866, \"Date\": \"2020-03-31T00:00:00\", \"Country/Region\": \"Canada\", \"Confirmed\": 8514, \"Deaths\": 100, \"Recovered\": 1592.0, \"Active\": 6822.0, \"New cases\": 1129, \"New deaths\": 21, \"New recovered\": 1126}, {\"Unnamed: 0\": 12870, \"Date\": \"2020-03-31T00:00:00\", \"Country/Region\": \"China\", \"Confirmed\": 82279, \"Deaths\": 3309, \"Recovered\": 74645.0, \"Active\": 4325.0, \"New cases\": 81, \"New deaths\": 1, \"New recovered\": 283}, {\"Unnamed: 0\": 12895, \"Date\": \"2020-03-31T00:00:00\", \"Country/Region\": \"France\", \"Confirmed\": 52827, \"Deaths\": 3532, \"Recovered\": 9513.0, \"Active\": 39782.0, \"New cases\": 7657, \"New deaths\": 502, \"New recovered\": 1549}, {\"Unnamed: 0\": 12899, \"Date\": \"2020-03-31T00:00:00\", \"Country/Region\": \"Germany\", \"Confirmed\": 71808, \"Deaths\": 775, \"Recovered\": 16100.0, \"Active\": 54933.0, \"New cases\": 4923, \"New deaths\": 130, \"New recovered\": 2600}, {\"Unnamed: 0\": 12912, \"Date\": \"2020-03-31T00:00:00\", \"Country/Region\": \"India\", \"Confirmed\": 1397, \"Deaths\": 35, \"Recovered\": 123.0, \"Active\": 1239.0, \"New cases\": 146, \"New deaths\": 3, \"New recovered\": 21}, {\"Unnamed: 0\": 12914, \"Date\": \"2020-03-31T00:00:00\", \"Country/Region\": \"Iran\", \"Confirmed\": 44605, \"Deaths\": 2898, \"Recovered\": 14656.0, \"Active\": 27051.0, \"New cases\": 3110, \"New deaths\": 141, \"New recovered\": 745}, {\"Unnamed: 0\": 12918, \"Date\": \"2020-03-31T00:00:00\", \"Country/Region\": \"Italy\", \"Confirmed\": 105792, \"Deaths\": 12428, \"Recovered\": 15729.0, \"Active\": 77635.0, \"New cases\": 4053, \"New deaths\": 837, \"New recovered\": 1109}, {\"Unnamed: 0\": 12990, \"Date\": \"2020-03-31T00:00:00\", \"Country/Region\": \"Spain\", \"Confirmed\": 95923, \"Deaths\": 8464, \"Recovered\": 19259.0, \"Active\": 68200.0, \"New cases\": 7967, \"New deaths\": 748, \"New recovered\": 2479}, {\"Unnamed: 0\": 12995, \"Date\": \"2020-03-31T00:00:00\", \"Country/Region\": \"Switzerland\", \"Confirmed\": 16605, \"Deaths\": 433, \"Recovered\": 1823.0, \"Active\": 14349.0, \"New cases\": 683, \"New deaths\": 74, \"New recovered\": 0}, {\"Unnamed: 0\": 13006, \"Date\": \"2020-03-31T00:00:00\", \"Country/Region\": \"US\", \"Confirmed\": 188724, \"Deaths\": 5605, \"Recovered\": 7024.0, \"Active\": 176095.0, \"New cases\": 26017, \"New deaths\": 1224, \"New recovered\": 1380}, {\"Unnamed: 0\": 13010, \"Date\": \"2020-03-31T00:00:00\", \"Country/Region\": \"United Kingdom\", \"Confirmed\": 38815, \"Deaths\": 2430, \"Recovered\": 179.0, \"Active\": 36206.0, \"New cases\": 4534, \"New deaths\": 383, \"New recovered\": 8}, {\"Unnamed: 0\": 13052, \"Date\": \"2020-04-01T00:00:00\", \"Country/Region\": \"Canada\", \"Confirmed\": 9547, \"Deaths\": 108, \"Recovered\": 1324.0, \"Active\": 8115.0, \"New cases\": 1033, \"New deaths\": 8, \"New recovered\": -268}, {\"Unnamed: 0\": 13056, \"Date\": \"2020-04-01T00:00:00\", \"Country/Region\": \"China\", \"Confirmed\": 82361, \"Deaths\": 3316, \"Recovered\": 74844.0, \"Active\": 4201.0, \"New cases\": 82, \"New deaths\": 7, \"New recovered\": 199}, {\"Unnamed: 0\": 13081, \"Date\": \"2020-04-01T00:00:00\", \"Country/Region\": \"France\", \"Confirmed\": 57749, \"Deaths\": 4414, \"Recovered\": 11053.0, \"Active\": 42282.0, \"New cases\": 4922, \"New deaths\": 882, \"New recovered\": 1540}, {\"Unnamed: 0\": 13085, \"Date\": \"2020-04-01T00:00:00\", \"Country/Region\": \"Germany\", \"Confirmed\": 77872, \"Deaths\": 920, \"Recovered\": 18700.0, \"Active\": 58252.0, \"New cases\": 6064, \"New deaths\": 145, \"New recovered\": 2600}, {\"Unnamed: 0\": 13098, \"Date\": \"2020-04-01T00:00:00\", \"Country/Region\": \"India\", \"Confirmed\": 1998, \"Deaths\": 58, \"Recovered\": 148.0, \"Active\": 1792.0, \"New cases\": 601, \"New deaths\": 23, \"New recovered\": 25}, {\"Unnamed: 0\": 13100, \"Date\": \"2020-04-01T00:00:00\", \"Country/Region\": \"Iran\", \"Confirmed\": 47593, \"Deaths\": 3036, \"Recovered\": 15473.0, \"Active\": 29084.0, \"New cases\": 2988, \"New deaths\": 138, \"New recovered\": 817}, {\"Unnamed: 0\": 13104, \"Date\": \"2020-04-01T00:00:00\", \"Country/Region\": \"Italy\", \"Confirmed\": 110574, \"Deaths\": 13155, \"Recovered\": 16847.0, \"Active\": 80572.0, \"New cases\": 4782, \"New deaths\": 727, \"New recovered\": 1118}, {\"Unnamed: 0\": 13176, \"Date\": \"2020-04-01T00:00:00\", \"Country/Region\": \"Spain\", \"Confirmed\": 104118, \"Deaths\": 9387, \"Recovered\": 22647.0, \"Active\": 72084.0, \"New cases\": 8195, \"New deaths\": 923, \"New recovered\": 3388}, {\"Unnamed: 0\": 13181, \"Date\": \"2020-04-01T00:00:00\", \"Country/Region\": \"Switzerland\", \"Confirmed\": 17768, \"Deaths\": 488, \"Recovered\": 2967.0, \"Active\": 14313.0, \"New cases\": 1163, \"New deaths\": 55, \"New recovered\": 1144}, {\"Unnamed: 0\": 13192, \"Date\": \"2020-04-01T00:00:00\", \"Country/Region\": \"US\", \"Confirmed\": 214205, \"Deaths\": 6846, \"Recovered\": 8474.0, \"Active\": 198885.0, \"New cases\": 25481, \"New deaths\": 1241, \"New recovered\": 1450}, {\"Unnamed: 0\": 13196, \"Date\": \"2020-04-01T00:00:00\", \"Country/Region\": \"United Kingdom\", \"Confirmed\": 43789, \"Deaths\": 3101, \"Recovered\": 179.0, \"Active\": 40509.0, \"New cases\": 4974, \"New deaths\": 671, \"New recovered\": 0}, {\"Unnamed: 0\": 13238, \"Date\": \"2020-04-02T00:00:00\", \"Country/Region\": \"Canada\", \"Confirmed\": 11271, \"Deaths\": 138, \"Recovered\": 1735.0, \"Active\": 9398.0, \"New cases\": 1724, \"New deaths\": 30, \"New recovered\": 411}, {\"Unnamed: 0\": 13242, \"Date\": \"2020-04-02T00:00:00\", \"Country/Region\": \"China\", \"Confirmed\": 82432, \"Deaths\": 3322, \"Recovered\": 75004.0, \"Active\": 4106.0, \"New cases\": 71, \"New deaths\": 6, \"New recovered\": 160}, {\"Unnamed: 0\": 13267, \"Date\": \"2020-04-02T00:00:00\", \"Country/Region\": \"France\", \"Confirmed\": 59929, \"Deaths\": 5398, \"Recovered\": 12548.0, \"Active\": 41983.0, \"New cases\": 2180, \"New deaths\": 984, \"New recovered\": 1495}, {\"Unnamed: 0\": 13271, \"Date\": \"2020-04-02T00:00:00\", \"Country/Region\": \"Germany\", \"Confirmed\": 84794, \"Deaths\": 1107, \"Recovered\": 22440.0, \"Active\": 61247.0, \"New cases\": 6922, \"New deaths\": 187, \"New recovered\": 3740}, {\"Unnamed: 0\": 13284, \"Date\": \"2020-04-02T00:00:00\", \"Country/Region\": \"India\", \"Confirmed\": 2543, \"Deaths\": 72, \"Recovered\": 191.0, \"Active\": 2280.0, \"New cases\": 545, \"New deaths\": 14, \"New recovered\": 43}, {\"Unnamed: 0\": 13286, \"Date\": \"2020-04-02T00:00:00\", \"Country/Region\": \"Iran\", \"Confirmed\": 50468, \"Deaths\": 3160, \"Recovered\": 16711.0, \"Active\": 30597.0, \"New cases\": 2875, \"New deaths\": 124, \"New recovered\": 1238}, {\"Unnamed: 0\": 13290, \"Date\": \"2020-04-02T00:00:00\", \"Country/Region\": \"Italy\", \"Confirmed\": 115242, \"Deaths\": 13915, \"Recovered\": 18278.0, \"Active\": 83049.0, \"New cases\": 4668, \"New deaths\": 760, \"New recovered\": 1431}, {\"Unnamed: 0\": 13362, \"Date\": \"2020-04-02T00:00:00\", \"Country/Region\": \"Spain\", \"Confirmed\": 112065, \"Deaths\": 10348, \"Recovered\": 26743.0, \"Active\": 74974.0, \"New cases\": 7947, \"New deaths\": 961, \"New recovered\": 4096}, {\"Unnamed: 0\": 13367, \"Date\": \"2020-04-02T00:00:00\", \"Country/Region\": \"Switzerland\", \"Confirmed\": 18827, \"Deaths\": 536, \"Recovered\": 4013.0, \"Active\": 14278.0, \"New cases\": 1059, \"New deaths\": 48, \"New recovered\": 1046}, {\"Unnamed: 0\": 13378, \"Date\": \"2020-04-02T00:00:00\", \"Country/Region\": \"US\", \"Confirmed\": 244610, \"Deaths\": 8432, \"Recovered\": 9001.0, \"Active\": 227177.0, \"New cases\": 30405, \"New deaths\": 1586, \"New recovered\": 527}, {\"Unnamed: 0\": 13382, \"Date\": \"2020-04-02T00:00:00\", \"Country/Region\": \"United Kingdom\", \"Confirmed\": 48718, \"Deaths\": 3753, \"Recovered\": 192.0, \"Active\": 44773.0, \"New cases\": 4929, \"New deaths\": 652, \"New recovered\": 13}, {\"Unnamed: 0\": 13424, \"Date\": \"2020-04-03T00:00:00\", \"Country/Region\": \"Canada\", \"Confirmed\": 12424, \"Deaths\": 178, \"Recovered\": 2175.0, \"Active\": 10071.0, \"New cases\": 1153, \"New deaths\": 40, \"New recovered\": 440}, {\"Unnamed: 0\": 13428, \"Date\": \"2020-04-03T00:00:00\", \"Country/Region\": \"China\", \"Confirmed\": 82511, \"Deaths\": 3326, \"Recovered\": 75199.0, \"Active\": 3986.0, \"New cases\": 79, \"New deaths\": 4, \"New recovered\": 195}, {\"Unnamed: 0\": 13453, \"Date\": \"2020-04-03T00:00:00\", \"Country/Region\": \"France\", \"Confirmed\": 65202, \"Deaths\": 6520, \"Recovered\": 14135.0, \"Active\": 44547.0, \"New cases\": 5273, \"New deaths\": 1122, \"New recovered\": 1587}, {\"Unnamed: 0\": 13457, \"Date\": \"2020-04-03T00:00:00\", \"Country/Region\": \"Germany\", \"Confirmed\": 91159, \"Deaths\": 1275, \"Recovered\": 24575.0, \"Active\": 65309.0, \"New cases\": 6365, \"New deaths\": 168, \"New recovered\": 2135}, {\"Unnamed: 0\": 13470, \"Date\": \"2020-04-03T00:00:00\", \"Country/Region\": \"India\", \"Confirmed\": 2567, \"Deaths\": 72, \"Recovered\": 192.0, \"Active\": 2303.0, \"New cases\": 24, \"New deaths\": 0, \"New recovered\": 1}, {\"Unnamed: 0\": 13472, \"Date\": \"2020-04-03T00:00:00\", \"Country/Region\": \"Iran\", \"Confirmed\": 53183, \"Deaths\": 3294, \"Recovered\": 17935.0, \"Active\": 31954.0, \"New cases\": 2715, \"New deaths\": 134, \"New recovered\": 1224}, {\"Unnamed: 0\": 13476, \"Date\": \"2020-04-03T00:00:00\", \"Country/Region\": \"Italy\", \"Confirmed\": 119827, \"Deaths\": 14681, \"Recovered\": 19758.0, \"Active\": 85388.0, \"New cases\": 4585, \"New deaths\": 766, \"New recovered\": 1480}, {\"Unnamed: 0\": 13548, \"Date\": \"2020-04-03T00:00:00\", \"Country/Region\": \"Spain\", \"Confirmed\": 119199, \"Deaths\": 11198, \"Recovered\": 30513.0, \"Active\": 77488.0, \"New cases\": 7134, \"New deaths\": 850, \"New recovered\": 3770}, {\"Unnamed: 0\": 13553, \"Date\": \"2020-04-03T00:00:00\", \"Country/Region\": \"Switzerland\", \"Confirmed\": 19606, \"Deaths\": 591, \"Recovered\": 4846.0, \"Active\": 14169.0, \"New cases\": 779, \"New deaths\": 55, \"New recovered\": 833}, {\"Unnamed: 0\": 13564, \"Date\": \"2020-04-03T00:00:00\", \"Country/Region\": \"US\", \"Confirmed\": 276547, \"Deaths\": 9747, \"Recovered\": 9707.0, \"Active\": 257093.0, \"New cases\": 31937, \"New deaths\": 1315, \"New recovered\": 706}, {\"Unnamed: 0\": 13568, \"Date\": \"2020-04-03T00:00:00\", \"Country/Region\": \"United Kingdom\", \"Confirmed\": 53699, \"Deaths\": 4468, \"Recovered\": 208.0, \"Active\": 49023.0, \"New cases\": 4981, \"New deaths\": 715, \"New recovered\": 16}, {\"Unnamed: 0\": 13610, \"Date\": \"2020-04-04T00:00:00\", \"Country/Region\": \"Canada\", \"Confirmed\": 12965, \"Deaths\": 217, \"Recovered\": 2577.0, \"Active\": 10171.0, \"New cases\": 541, \"New deaths\": 39, \"New recovered\": 402}, {\"Unnamed: 0\": 13614, \"Date\": \"2020-04-04T00:00:00\", \"Country/Region\": \"China\", \"Confirmed\": 82543, \"Deaths\": 3330, \"Recovered\": 75385.0, \"Active\": 3828.0, \"New cases\": 32, \"New deaths\": 4, \"New recovered\": 186}, {\"Unnamed: 0\": 13639, \"Date\": \"2020-04-04T00:00:00\", \"Country/Region\": \"France\", \"Confirmed\": 69500, \"Deaths\": 7574, \"Recovered\": 15572.0, \"Active\": 46354.0, \"New cases\": 4298, \"New deaths\": 1054, \"New recovered\": 1437}, {\"Unnamed: 0\": 13643, \"Date\": \"2020-04-04T00:00:00\", \"Country/Region\": \"Germany\", \"Confirmed\": 96092, \"Deaths\": 1444, \"Recovered\": 26400.0, \"Active\": 68248.0, \"New cases\": 4933, \"New deaths\": 169, \"New recovered\": 1825}, {\"Unnamed: 0\": 13656, \"Date\": \"2020-04-04T00:00:00\", \"Country/Region\": \"India\", \"Confirmed\": 3082, \"Deaths\": 86, \"Recovered\": 229.0, \"Active\": 2767.0, \"New cases\": 515, \"New deaths\": 14, \"New recovered\": 37}, {\"Unnamed: 0\": 13658, \"Date\": \"2020-04-04T00:00:00\", \"Country/Region\": \"Iran\", \"Confirmed\": 55743, \"Deaths\": 3452, \"Recovered\": 19736.0, \"Active\": 32555.0, \"New cases\": 2560, \"New deaths\": 158, \"New recovered\": 1801}, {\"Unnamed: 0\": 13662, \"Date\": \"2020-04-04T00:00:00\", \"Country/Region\": \"Italy\", \"Confirmed\": 124632, \"Deaths\": 15362, \"Recovered\": 20996.0, \"Active\": 88274.0, \"New cases\": 4805, \"New deaths\": 681, \"New recovered\": 1238}, {\"Unnamed: 0\": 13734, \"Date\": \"2020-04-04T00:00:00\", \"Country/Region\": \"Spain\", \"Confirmed\": 126168, \"Deaths\": 11947, \"Recovered\": 34219.0, \"Active\": 80002.0, \"New cases\": 6969, \"New deaths\": 749, \"New recovered\": 3706}, {\"Unnamed: 0\": 13739, \"Date\": \"2020-04-04T00:00:00\", \"Country/Region\": \"Switzerland\", \"Confirmed\": 20505, \"Deaths\": 666, \"Recovered\": 6415.0, \"Active\": 13424.0, \"New cases\": 899, \"New deaths\": 75, \"New recovered\": 1569}, {\"Unnamed: 0\": 13750, \"Date\": \"2020-04-04T00:00:00\", \"Country/Region\": \"US\", \"Confirmed\": 309699, \"Deaths\": 11031, \"Recovered\": 14652.0, \"Active\": 284016.0, \"New cases\": 33152, \"New deaths\": 1284, \"New recovered\": 4945}, {\"Unnamed: 0\": 13754, \"Date\": \"2020-04-04T00:00:00\", \"Country/Region\": \"United Kingdom\", \"Confirmed\": 57772, \"Deaths\": 5229, \"Recovered\": 215.0, \"Active\": 52328.0, \"New cases\": 4073, \"New deaths\": 761, \"New recovered\": 7}, {\"Unnamed: 0\": 13796, \"Date\": \"2020-04-05T00:00:00\", \"Country/Region\": \"Canada\", \"Confirmed\": 15743, \"Deaths\": 258, \"Recovered\": 3012.0, \"Active\": 12473.0, \"New cases\": 2778, \"New deaths\": 41, \"New recovered\": 435}, {\"Unnamed: 0\": 13800, \"Date\": \"2020-04-05T00:00:00\", \"Country/Region\": \"China\", \"Confirmed\": 82602, \"Deaths\": 3333, \"Recovered\": 75646.0, \"Active\": 3623.0, \"New cases\": 59, \"New deaths\": 3, \"New recovered\": 261}, {\"Unnamed: 0\": 13825, \"Date\": \"2020-04-05T00:00:00\", \"Country/Region\": \"France\", \"Confirmed\": 71412, \"Deaths\": 8093, \"Recovered\": 16349.0, \"Active\": 46970.0, \"New cases\": 1912, \"New deaths\": 519, \"New recovered\": 777}, {\"Unnamed: 0\": 13829, \"Date\": \"2020-04-05T00:00:00\", \"Country/Region\": \"Germany\", \"Confirmed\": 100123, \"Deaths\": 1584, \"Recovered\": 28700.0, \"Active\": 69839.0, \"New cases\": 4031, \"New deaths\": 140, \"New recovered\": 2300}, {\"Unnamed: 0\": 13842, \"Date\": \"2020-04-05T00:00:00\", \"Country/Region\": \"India\", \"Confirmed\": 3588, \"Deaths\": 99, \"Recovered\": 229.0, \"Active\": 3260.0, \"New cases\": 506, \"New deaths\": 13, \"New recovered\": 0}, {\"Unnamed: 0\": 13844, \"Date\": \"2020-04-05T00:00:00\", \"Country/Region\": \"Iran\", \"Confirmed\": 58226, \"Deaths\": 3603, \"Recovered\": 19736.0, \"Active\": 34887.0, \"New cases\": 2483, \"New deaths\": 151, \"New recovered\": 0}, {\"Unnamed: 0\": 13848, \"Date\": \"2020-04-05T00:00:00\", \"Country/Region\": \"Italy\", \"Confirmed\": 128948, \"Deaths\": 15887, \"Recovered\": 21815.0, \"Active\": 91246.0, \"New cases\": 4316, \"New deaths\": 525, \"New recovered\": 819}, {\"Unnamed: 0\": 13920, \"Date\": \"2020-04-05T00:00:00\", \"Country/Region\": \"Spain\", \"Confirmed\": 131646, \"Deaths\": 12641, \"Recovered\": 38080.0, \"Active\": 80925.0, \"New cases\": 5478, \"New deaths\": 694, \"New recovered\": 3861}, {\"Unnamed: 0\": 13925, \"Date\": \"2020-04-05T00:00:00\", \"Country/Region\": \"Switzerland\", \"Confirmed\": 21100, \"Deaths\": 715, \"Recovered\": 6415.0, \"Active\": 13970.0, \"New cases\": 595, \"New deaths\": 49, \"New recovered\": 0}, {\"Unnamed: 0\": 13936, \"Date\": \"2020-04-05T00:00:00\", \"Country/Region\": \"US\", \"Confirmed\": 337573, \"Deaths\": 12470, \"Recovered\": 17448.0, \"Active\": 307655.0, \"New cases\": 27874, \"New deaths\": 1439, \"New recovered\": 2796}, {\"Unnamed: 0\": 13940, \"Date\": \"2020-04-05T00:00:00\", \"Country/Region\": \"United Kingdom\", \"Confirmed\": 61422, \"Deaths\": 5875, \"Recovered\": 229.0, \"Active\": 55318.0, \"New cases\": 3650, \"New deaths\": 646, \"New recovered\": 14}, {\"Unnamed: 0\": 13982, \"Date\": \"2020-04-06T00:00:00\", \"Country/Region\": \"Canada\", \"Confirmed\": 16550, \"Deaths\": 338, \"Recovered\": 3256.0, \"Active\": 12956.0, \"New cases\": 807, \"New deaths\": 80, \"New recovered\": 244}, {\"Unnamed: 0\": 13986, \"Date\": \"2020-04-06T00:00:00\", \"Country/Region\": \"China\", \"Confirmed\": 82665, \"Deaths\": 3335, \"Recovered\": 75748.0, \"Active\": 3582.0, \"New cases\": 63, \"New deaths\": 2, \"New recovered\": 102}, {\"Unnamed: 0\": 14011, \"Date\": \"2020-04-06T00:00:00\", \"Country/Region\": \"France\", \"Confirmed\": 75343, \"Deaths\": 8926, \"Recovered\": 17428.0, \"Active\": 48989.0, \"New cases\": 3931, \"New deaths\": 833, \"New recovered\": 1079}, {\"Unnamed: 0\": 14015, \"Date\": \"2020-04-06T00:00:00\", \"Country/Region\": \"Germany\", \"Confirmed\": 103374, \"Deaths\": 1810, \"Recovered\": 28700.0, \"Active\": 72864.0, \"New cases\": 3251, \"New deaths\": 226, \"New recovered\": 0}, {\"Unnamed: 0\": 14028, \"Date\": \"2020-04-06T00:00:00\", \"Country/Region\": \"India\", \"Confirmed\": 4778, \"Deaths\": 136, \"Recovered\": 375.0, \"Active\": 4267.0, \"New cases\": 1190, \"New deaths\": 37, \"New recovered\": 146}, {\"Unnamed: 0\": 14030, \"Date\": \"2020-04-06T00:00:00\", \"Country/Region\": \"Iran\", \"Confirmed\": 60500, \"Deaths\": 3739, \"Recovered\": 24236.0, \"Active\": 32525.0, \"New cases\": 2274, \"New deaths\": 136, \"New recovered\": 4500}, {\"Unnamed: 0\": 14034, \"Date\": \"2020-04-06T00:00:00\", \"Country/Region\": \"Italy\", \"Confirmed\": 132547, \"Deaths\": 16523, \"Recovered\": 22837.0, \"Active\": 93187.0, \"New cases\": 3599, \"New deaths\": 636, \"New recovered\": 1022}, {\"Unnamed: 0\": 14106, \"Date\": \"2020-04-06T00:00:00\", \"Country/Region\": \"Spain\", \"Confirmed\": 136675, \"Deaths\": 13341, \"Recovered\": 40437.0, \"Active\": 82897.0, \"New cases\": 5029, \"New deaths\": 700, \"New recovered\": 2357}, {\"Unnamed: 0\": 14111, \"Date\": \"2020-04-06T00:00:00\", \"Country/Region\": \"Switzerland\", \"Confirmed\": 21657, \"Deaths\": 765, \"Recovered\": 8056.0, \"Active\": 12836.0, \"New cases\": 557, \"New deaths\": 50, \"New recovered\": 1641}, {\"Unnamed: 0\": 14122, \"Date\": \"2020-04-06T00:00:00\", \"Country/Region\": \"US\", \"Confirmed\": 367215, \"Deaths\": 14138, \"Recovered\": 19581.0, \"Active\": 333496.0, \"New cases\": 29642, \"New deaths\": 1668, \"New recovered\": 2133}, {\"Unnamed: 0\": 14126, \"Date\": \"2020-04-06T00:00:00\", \"Country/Region\": \"United Kingdom\", \"Confirmed\": 66738, \"Deaths\": 6446, \"Recovered\": 287.0, \"Active\": 60005.0, \"New cases\": 5316, \"New deaths\": 571, \"New recovered\": 58}, {\"Unnamed: 0\": 14168, \"Date\": \"2020-04-07T00:00:00\", \"Country/Region\": \"Canada\", \"Confirmed\": 17859, \"Deaths\": 374, \"Recovered\": 3791.0, \"Active\": 13694.0, \"New cases\": 1309, \"New deaths\": 36, \"New recovered\": 535}, {\"Unnamed: 0\": 14172, \"Date\": \"2020-04-07T00:00:00\", \"Country/Region\": \"China\", \"Confirmed\": 82718, \"Deaths\": 3335, \"Recovered\": 75846.0, \"Active\": 3537.0, \"New cases\": 53, \"New deaths\": 0, \"New recovered\": 98}, {\"Unnamed: 0\": 14197, \"Date\": \"2020-04-07T00:00:00\", \"Country/Region\": \"France\", \"Confirmed\": 79163, \"Deaths\": 10343, \"Recovered\": 19523.0, \"Active\": 49297.0, \"New cases\": 3820, \"New deaths\": 1417, \"New recovered\": 2095}, {\"Unnamed: 0\": 14201, \"Date\": \"2020-04-07T00:00:00\", \"Country/Region\": \"Germany\", \"Confirmed\": 107663, \"Deaths\": 2016, \"Recovered\": 36081.0, \"Active\": 69566.0, \"New cases\": 4289, \"New deaths\": 206, \"New recovered\": 7381}, {\"Unnamed: 0\": 14214, \"Date\": \"2020-04-07T00:00:00\", \"Country/Region\": \"India\", \"Confirmed\": 5311, \"Deaths\": 150, \"Recovered\": 421.0, \"Active\": 4740.0, \"New cases\": 533, \"New deaths\": 14, \"New recovered\": 46}, {\"Unnamed: 0\": 14216, \"Date\": \"2020-04-07T00:00:00\", \"Country/Region\": \"Iran\", \"Confirmed\": 62589, \"Deaths\": 3872, \"Recovered\": 27039.0, \"Active\": 31678.0, \"New cases\": 2089, \"New deaths\": 133, \"New recovered\": 2803}, {\"Unnamed: 0\": 14220, \"Date\": \"2020-04-07T00:00:00\", \"Country/Region\": \"Italy\", \"Confirmed\": 135586, \"Deaths\": 17127, \"Recovered\": 24392.0, \"Active\": 94067.0, \"New cases\": 3039, \"New deaths\": 604, \"New recovered\": 1555}, {\"Unnamed: 0\": 14292, \"Date\": \"2020-04-07T00:00:00\", \"Country/Region\": \"Spain\", \"Confirmed\": 141942, \"Deaths\": 14045, \"Recovered\": 43208.0, \"Active\": 84689.0, \"New cases\": 5267, \"New deaths\": 704, \"New recovered\": 2771}, {\"Unnamed: 0\": 14297, \"Date\": \"2020-04-07T00:00:00\", \"Country/Region\": \"Switzerland\", \"Confirmed\": 22253, \"Deaths\": 821, \"Recovered\": 8704.0, \"Active\": 12728.0, \"New cases\": 596, \"New deaths\": 56, \"New recovered\": 648}, {\"Unnamed: 0\": 14308, \"Date\": \"2020-04-07T00:00:00\", \"Country/Region\": \"US\", \"Confirmed\": 397992, \"Deaths\": 16447, \"Recovered\": 21763.0, \"Active\": 359782.0, \"New cases\": 30777, \"New deaths\": 2309, \"New recovered\": 2182}, {\"Unnamed: 0\": 14312, \"Date\": \"2020-04-07T00:00:00\", \"Country/Region\": \"United Kingdom\", \"Confirmed\": 72224, \"Deaths\": 7484, \"Recovered\": 325.0, \"Active\": 64415.0, \"New cases\": 5486, \"New deaths\": 1038, \"New recovered\": 38}, {\"Unnamed: 0\": 14354, \"Date\": \"2020-04-08T00:00:00\", \"Country/Region\": \"Canada\", \"Confirmed\": 19128, \"Deaths\": 406, \"Recovered\": 4154.0, \"Active\": 14568.0, \"New cases\": 1269, \"New deaths\": 32, \"New recovered\": 363}, {\"Unnamed: 0\": 14358, \"Date\": \"2020-04-08T00:00:00\", \"Country/Region\": \"China\", \"Confirmed\": 82809, \"Deaths\": 3337, \"Recovered\": 76003.0, \"Active\": 3469.0, \"New cases\": 91, \"New deaths\": 2, \"New recovered\": 157}, {\"Unnamed: 0\": 14383, \"Date\": \"2020-04-08T00:00:00\", \"Country/Region\": \"France\", \"Confirmed\": 83057, \"Deaths\": 10887, \"Recovered\": 21452.0, \"Active\": 50718.0, \"New cases\": 3894, \"New deaths\": 544, \"New recovered\": 1929}, {\"Unnamed: 0\": 14387, \"Date\": \"2020-04-08T00:00:00\", \"Country/Region\": \"Germany\", \"Confirmed\": 113296, \"Deaths\": 2349, \"Recovered\": 46300.0, \"Active\": 64647.0, \"New cases\": 5633, \"New deaths\": 333, \"New recovered\": 10219}, {\"Unnamed: 0\": 14400, \"Date\": \"2020-04-08T00:00:00\", \"Country/Region\": \"India\", \"Confirmed\": 5916, \"Deaths\": 178, \"Recovered\": 506.0, \"Active\": 5232.0, \"New cases\": 605, \"New deaths\": 28, \"New recovered\": 85}, {\"Unnamed: 0\": 14402, \"Date\": \"2020-04-08T00:00:00\", \"Country/Region\": \"Iran\", \"Confirmed\": 64586, \"Deaths\": 3993, \"Recovered\": 29812.0, \"Active\": 30781.0, \"New cases\": 1997, \"New deaths\": 121, \"New recovered\": 2773}, {\"Unnamed: 0\": 14406, \"Date\": \"2020-04-08T00:00:00\", \"Country/Region\": \"Italy\", \"Confirmed\": 139422, \"Deaths\": 17669, \"Recovered\": 26491.0, \"Active\": 95262.0, \"New cases\": 3836, \"New deaths\": 542, \"New recovered\": 2099}, {\"Unnamed: 0\": 14478, \"Date\": \"2020-04-08T00:00:00\", \"Country/Region\": \"Spain\", \"Confirmed\": 148220, \"Deaths\": 14792, \"Recovered\": 48021.0, \"Active\": 85407.0, \"New cases\": 6278, \"New deaths\": 747, \"New recovered\": 4813}, {\"Unnamed: 0\": 14483, \"Date\": \"2020-04-08T00:00:00\", \"Country/Region\": \"Switzerland\", \"Confirmed\": 23280, \"Deaths\": 895, \"Recovered\": 9800.0, \"Active\": 12585.0, \"New cases\": 1027, \"New deaths\": 74, \"New recovered\": 1096}, {\"Unnamed: 0\": 14494, \"Date\": \"2020-04-08T00:00:00\", \"Country/Region\": \"US\", \"Confirmed\": 429686, \"Deaths\": 18563, \"Recovered\": 23559.0, \"Active\": 387564.0, \"New cases\": 31694, \"New deaths\": 2116, \"New recovered\": 1796}, {\"Unnamed: 0\": 14498, \"Date\": \"2020-04-08T00:00:00\", \"Country/Region\": \"United Kingdom\", \"Confirmed\": 77387, \"Deaths\": 8520, \"Recovered\": 345.0, \"Active\": 68522.0, \"New cases\": 5163, \"New deaths\": 1036, \"New recovered\": 20}, {\"Unnamed: 0\": 14540, \"Date\": \"2020-04-09T00:00:00\", \"Country/Region\": \"Canada\", \"Confirmed\": 20641, \"Deaths\": 502, \"Recovered\": 5162.0, \"Active\": 14977.0, \"New cases\": 1513, \"New deaths\": 96, \"New recovered\": 1008}, {\"Unnamed: 0\": 14544, \"Date\": \"2020-04-09T00:00:00\", \"Country/Region\": \"China\", \"Confirmed\": 82883, \"Deaths\": 3339, \"Recovered\": 76114.0, \"Active\": 3430.0, \"New cases\": 74, \"New deaths\": 2, \"New recovered\": 111}, {\"Unnamed: 0\": 14569, \"Date\": \"2020-04-09T00:00:00\", \"Country/Region\": \"France\", \"Confirmed\": 87366, \"Deaths\": 12228, \"Recovered\": 23413.0, \"Active\": 51725.0, \"New cases\": 4309, \"New deaths\": 1341, \"New recovered\": 1961}, {\"Unnamed: 0\": 14573, \"Date\": \"2020-04-09T00:00:00\", \"Country/Region\": \"Germany\", \"Confirmed\": 118181, \"Deaths\": 2607, \"Recovered\": 52407.0, \"Active\": 63167.0, \"New cases\": 4885, \"New deaths\": 258, \"New recovered\": 6107}, {\"Unnamed: 0\": 14586, \"Date\": \"2020-04-09T00:00:00\", \"Country/Region\": \"India\", \"Confirmed\": 6725, \"Deaths\": 226, \"Recovered\": 620.0, \"Active\": 5879.0, \"New cases\": 809, \"New deaths\": 48, \"New recovered\": 114}, {\"Unnamed: 0\": 14588, \"Date\": \"2020-04-09T00:00:00\", \"Country/Region\": \"Iran\", \"Confirmed\": 66220, \"Deaths\": 4110, \"Recovered\": 32309.0, \"Active\": 29801.0, \"New cases\": 1634, \"New deaths\": 117, \"New recovered\": 2497}, {\"Unnamed: 0\": 14592, \"Date\": \"2020-04-09T00:00:00\", \"Country/Region\": \"Italy\", \"Confirmed\": 143626, \"Deaths\": 18279, \"Recovered\": 28470.0, \"Active\": 96877.0, \"New cases\": 4204, \"New deaths\": 610, \"New recovered\": 1979}, {\"Unnamed: 0\": 14664, \"Date\": \"2020-04-09T00:00:00\", \"Country/Region\": \"Spain\", \"Confirmed\": 153222, \"Deaths\": 15447, \"Recovered\": 52165.0, \"Active\": 85610.0, \"New cases\": 5002, \"New deaths\": 655, \"New recovered\": 4144}, {\"Unnamed: 0\": 14669, \"Date\": \"2020-04-09T00:00:00\", \"Country/Region\": \"Switzerland\", \"Confirmed\": 24051, \"Deaths\": 948, \"Recovered\": 10600.0, \"Active\": 12503.0, \"New cases\": 771, \"New deaths\": 53, \"New recovered\": 800}, {\"Unnamed: 0\": 14680, \"Date\": \"2020-04-09T00:00:00\", \"Country/Region\": \"US\", \"Confirmed\": 464442, \"Deaths\": 20638, \"Recovered\": 25410.0, \"Active\": 418394.0, \"New cases\": 34756, \"New deaths\": 2075, \"New recovered\": 1851}, {\"Unnamed: 0\": 14684, \"Date\": \"2020-04-09T00:00:00\", \"Country/Region\": \"United Kingdom\", \"Confirmed\": 82293, \"Deaths\": 9631, \"Recovered\": 359.0, \"Active\": 72303.0, \"New cases\": 4906, \"New deaths\": 1111, \"New recovered\": 14}, {\"Unnamed: 0\": 14726, \"Date\": \"2020-04-10T00:00:00\", \"Country/Region\": \"Canada\", \"Confirmed\": 22046, \"Deaths\": 556, \"Recovered\": 5855.0, \"Active\": 15635.0, \"New cases\": 1405, \"New deaths\": 54, \"New recovered\": 693}, {\"Unnamed: 0\": 14730, \"Date\": \"2020-04-10T00:00:00\", \"Country/Region\": \"China\", \"Confirmed\": 82941, \"Deaths\": 3340, \"Recovered\": 76226.0, \"Active\": 3375.0, \"New cases\": 58, \"New deaths\": 1, \"New recovered\": 112}, {\"Unnamed: 0\": 14755, \"Date\": \"2020-04-10T00:00:00\", \"Country/Region\": \"France\", \"Confirmed\": 91738, \"Deaths\": 13215, \"Recovered\": 25195.0, \"Active\": 53328.0, \"New cases\": 4372, \"New deaths\": 987, \"New recovered\": 1782}, {\"Unnamed: 0\": 14759, \"Date\": \"2020-04-10T00:00:00\", \"Country/Region\": \"Germany\", \"Confirmed\": 122171, \"Deaths\": 2767, \"Recovered\": 53913.0, \"Active\": 65491.0, \"New cases\": 3990, \"New deaths\": 160, \"New recovered\": 1506}, {\"Unnamed: 0\": 14772, \"Date\": \"2020-04-10T00:00:00\", \"Country/Region\": \"India\", \"Confirmed\": 7598, \"Deaths\": 246, \"Recovered\": 774.0, \"Active\": 6578.0, \"New cases\": 873, \"New deaths\": 20, \"New recovered\": 154}, {\"Unnamed: 0\": 14774, \"Date\": \"2020-04-10T00:00:00\", \"Country/Region\": \"Iran\", \"Confirmed\": 68192, \"Deaths\": 4232, \"Recovered\": 35465.0, \"Active\": 28495.0, \"New cases\": 1972, \"New deaths\": 122, \"New recovered\": 3156}, {\"Unnamed: 0\": 14778, \"Date\": \"2020-04-10T00:00:00\", \"Country/Region\": \"Italy\", \"Confirmed\": 147577, \"Deaths\": 18849, \"Recovered\": 30455.0, \"Active\": 98273.0, \"New cases\": 3951, \"New deaths\": 570, \"New recovered\": 1985}, {\"Unnamed: 0\": 14850, \"Date\": \"2020-04-10T00:00:00\", \"Country/Region\": \"Spain\", \"Confirmed\": 158273, \"Deaths\": 16081, \"Recovered\": 55668.0, \"Active\": 86524.0, \"New cases\": 5051, \"New deaths\": 634, \"New recovered\": 3503}, {\"Unnamed: 0\": 14855, \"Date\": \"2020-04-10T00:00:00\", \"Country/Region\": \"Switzerland\", \"Confirmed\": 24551, \"Deaths\": 1002, \"Recovered\": 11100.0, \"Active\": 12449.0, \"New cases\": 500, \"New deaths\": 54, \"New recovered\": 500}, {\"Unnamed: 0\": 14866, \"Date\": \"2020-04-10T00:00:00\", \"Country/Region\": \"US\", \"Confirmed\": 497943, \"Deaths\": 22731, \"Recovered\": 28790.0, \"Active\": 446422.0, \"New cases\": 33501, \"New deaths\": 2093, \"New recovered\": 3380}, {\"Unnamed: 0\": 14870, \"Date\": \"2020-04-10T00:00:00\", \"Country/Region\": \"United Kingdom\", \"Confirmed\": 86660, \"Deaths\": 10784, \"Recovered\": 588.0, \"Active\": 75288.0, \"New cases\": 4367, \"New deaths\": 1153, \"New recovered\": 229}, {\"Unnamed: 0\": 14912, \"Date\": \"2020-04-11T00:00:00\", \"Country/Region\": \"Canada\", \"Confirmed\": 23303, \"Deaths\": 653, \"Recovered\": 6589.0, \"Active\": 16061.0, \"New cases\": 1257, \"New deaths\": 97, \"New recovered\": 734}, {\"Unnamed: 0\": 14916, \"Date\": \"2020-04-11T00:00:00\", \"Country/Region\": \"China\", \"Confirmed\": 83014, \"Deaths\": 3343, \"Recovered\": 76312.0, \"Active\": 3359.0, \"New cases\": 73, \"New deaths\": 3, \"New recovered\": 86}, {\"Unnamed: 0\": 14941, \"Date\": \"2020-04-11T00:00:00\", \"Country/Region\": \"France\", \"Confirmed\": 94863, \"Deaths\": 13851, \"Recovered\": 26663.0, \"Active\": 54349.0, \"New cases\": 3125, \"New deaths\": 636, \"New recovered\": 1468}, {\"Unnamed: 0\": 14945, \"Date\": \"2020-04-11T00:00:00\", \"Country/Region\": \"Germany\", \"Confirmed\": 124908, \"Deaths\": 2736, \"Recovered\": 57400.0, \"Active\": 64772.0, \"New cases\": 2737, \"New deaths\": -31, \"New recovered\": 3487}, {\"Unnamed: 0\": 14958, \"Date\": \"2020-04-11T00:00:00\", \"Country/Region\": \"India\", \"Confirmed\": 8446, \"Deaths\": 288, \"Recovered\": 969.0, \"Active\": 7189.0, \"New cases\": 848, \"New deaths\": 42, \"New recovered\": 195}, {\"Unnamed: 0\": 14960, \"Date\": \"2020-04-11T00:00:00\", \"Country/Region\": \"Iran\", \"Confirmed\": 70029, \"Deaths\": 4357, \"Recovered\": 41947.0, \"Active\": 23725.0, \"New cases\": 1837, \"New deaths\": 125, \"New recovered\": 6482}, {\"Unnamed: 0\": 14964, \"Date\": \"2020-04-11T00:00:00\", \"Country/Region\": \"Italy\", \"Confirmed\": 152271, \"Deaths\": 19468, \"Recovered\": 32534.0, \"Active\": 100269.0, \"New cases\": 4694, \"New deaths\": 619, \"New recovered\": 2079}, {\"Unnamed: 0\": 15036, \"Date\": \"2020-04-11T00:00:00\", \"Country/Region\": \"Spain\", \"Confirmed\": 163027, \"Deaths\": 16606, \"Recovered\": 59109.0, \"Active\": 87312.0, \"New cases\": 4754, \"New deaths\": 525, \"New recovered\": 3441}, {\"Unnamed: 0\": 15041, \"Date\": \"2020-04-11T00:00:00\", \"Country/Region\": \"Switzerland\", \"Confirmed\": 25107, \"Deaths\": 1036, \"Recovered\": 12100.0, \"Active\": 11971.0, \"New cases\": 556, \"New deaths\": 34, \"New recovered\": 1000}, {\"Unnamed: 0\": 15052, \"Date\": \"2020-04-11T00:00:00\", \"Country/Region\": \"US\", \"Confirmed\": 527969, \"Deaths\": 24777, \"Recovered\": 31270.0, \"Active\": 471922.0, \"New cases\": 30026, \"New deaths\": 2046, \"New recovered\": 2480}, {\"Unnamed: 0\": 15056, \"Date\": \"2020-04-11T00:00:00\", \"Country/Region\": \"United Kingdom\", \"Confirmed\": 90273, \"Deaths\": 11625, \"Recovered\": 622.0, \"Active\": 78026.0, \"New cases\": 3613, \"New deaths\": 841, \"New recovered\": 34}, {\"Unnamed: 0\": 15098, \"Date\": \"2020-04-12T00:00:00\", \"Country/Region\": \"Canada\", \"Confirmed\": 24286, \"Deaths\": 713, \"Recovered\": 7123.0, \"Active\": 16450.0, \"New cases\": 983, \"New deaths\": 60, \"New recovered\": 534}, {\"Unnamed: 0\": 15102, \"Date\": \"2020-04-12T00:00:00\", \"Country/Region\": \"China\", \"Confirmed\": 83134, \"Deaths\": 3343, \"Recovered\": 76390.0, \"Active\": 3401.0, \"New cases\": 120, \"New deaths\": 0, \"New recovered\": 78}, {\"Unnamed: 0\": 15127, \"Date\": \"2020-04-12T00:00:00\", \"Country/Region\": \"France\", \"Confirmed\": 121712, \"Deaths\": 14412, \"Recovered\": 27469.0, \"Active\": 79831.0, \"New cases\": 26849, \"New deaths\": 561, \"New recovered\": 806}, {\"Unnamed: 0\": 15131, \"Date\": \"2020-04-12T00:00:00\", \"Country/Region\": \"Germany\", \"Confirmed\": 127854, \"Deaths\": 3022, \"Recovered\": 60300.0, \"Active\": 64532.0, \"New cases\": 2946, \"New deaths\": 286, \"New recovered\": 2900}, {\"Unnamed: 0\": 15144, \"Date\": \"2020-04-12T00:00:00\", \"Country/Region\": \"India\", \"Confirmed\": 9205, \"Deaths\": 331, \"Recovered\": 1080.0, \"Active\": 7794.0, \"New cases\": 759, \"New deaths\": 43, \"New recovered\": 111}, {\"Unnamed: 0\": 15146, \"Date\": \"2020-04-12T00:00:00\", \"Country/Region\": \"Iran\", \"Confirmed\": 71686, \"Deaths\": 4474, \"Recovered\": 43894.0, \"Active\": 23318.0, \"New cases\": 1657, \"New deaths\": 117, \"New recovered\": 1947}, {\"Unnamed: 0\": 15150, \"Date\": \"2020-04-12T00:00:00\", \"Country/Region\": \"Italy\", \"Confirmed\": 156363, \"Deaths\": 19899, \"Recovered\": 34211.0, \"Active\": 102253.0, \"New cases\": 4092, \"New deaths\": 431, \"New recovered\": 1677}, {\"Unnamed: 0\": 15222, \"Date\": \"2020-04-12T00:00:00\", \"Country/Region\": \"Spain\", \"Confirmed\": 166831, \"Deaths\": 17209, \"Recovered\": 62391.0, \"Active\": 87231.0, \"New cases\": 3804, \"New deaths\": 603, \"New recovered\": 3282}, {\"Unnamed: 0\": 15227, \"Date\": \"2020-04-12T00:00:00\", \"Country/Region\": \"Switzerland\", \"Confirmed\": 25415, \"Deaths\": 1106, \"Recovered\": 12700.0, \"Active\": 11609.0, \"New cases\": 308, \"New deaths\": 70, \"New recovered\": 600}, {\"Unnamed: 0\": 15238, \"Date\": \"2020-04-12T00:00:00\", \"Country/Region\": \"US\", \"Confirmed\": 556522, \"Deaths\": 26548, \"Recovered\": 32988.0, \"Active\": 496986.0, \"New cases\": 28553, \"New deaths\": 1771, \"New recovered\": 1718}, {\"Unnamed: 0\": 15242, \"Date\": \"2020-04-12T00:00:00\", \"Country/Region\": \"United Kingdom\", \"Confirmed\": 93812, \"Deaths\": 12311, \"Recovered\": 626.0, \"Active\": 80875.0, \"New cases\": 3539, \"New deaths\": 686, \"New recovered\": 4}, {\"Unnamed: 0\": 15284, \"Date\": \"2020-04-13T00:00:00\", \"Country/Region\": \"Canada\", \"Confirmed\": 25667, \"Deaths\": 780, \"Recovered\": 7758.0, \"Active\": 17129.0, \"New cases\": 1381, \"New deaths\": 67, \"New recovered\": 635}, {\"Unnamed: 0\": 15288, \"Date\": \"2020-04-13T00:00:00\", \"Country/Region\": \"China\", \"Confirmed\": 83213, \"Deaths\": 3345, \"Recovered\": 76473.0, \"Active\": 3395.0, \"New cases\": 79, \"New deaths\": 2, \"New recovered\": 83}, {\"Unnamed: 0\": 15313, \"Date\": \"2020-04-13T00:00:00\", \"Country/Region\": \"France\", \"Confirmed\": 125394, \"Deaths\": 14986, \"Recovered\": 28001.0, \"Active\": 82407.0, \"New cases\": 3682, \"New deaths\": 574, \"New recovered\": 532}, {\"Unnamed: 0\": 15317, \"Date\": \"2020-04-13T00:00:00\", \"Country/Region\": \"Germany\", \"Confirmed\": 130072, \"Deaths\": 3194, \"Recovered\": 64300.0, \"Active\": 62578.0, \"New cases\": 2218, \"New deaths\": 172, \"New recovered\": 4000}, {\"Unnamed: 0\": 15330, \"Date\": \"2020-04-13T00:00:00\", \"Country/Region\": \"India\", \"Confirmed\": 10453, \"Deaths\": 358, \"Recovered\": 1181.0, \"Active\": 8914.0, \"New cases\": 1248, \"New deaths\": 27, \"New recovered\": 101}, {\"Unnamed: 0\": 15332, \"Date\": \"2020-04-13T00:00:00\", \"Country/Region\": \"Iran\", \"Confirmed\": 73303, \"Deaths\": 4585, \"Recovered\": 45983.0, \"Active\": 22735.0, \"New cases\": 1617, \"New deaths\": 111, \"New recovered\": 2089}, {\"Unnamed: 0\": 15336, \"Date\": \"2020-04-13T00:00:00\", \"Country/Region\": \"Italy\", \"Confirmed\": 159516, \"Deaths\": 20465, \"Recovered\": 35435.0, \"Active\": 103616.0, \"New cases\": 3153, \"New deaths\": 566, \"New recovered\": 1224}, {\"Unnamed: 0\": 15408, \"Date\": \"2020-04-13T00:00:00\", \"Country/Region\": \"Spain\", \"Confirmed\": 170099, \"Deaths\": 17756, \"Recovered\": 64727.0, \"Active\": 87616.0, \"New cases\": 3268, \"New deaths\": 547, \"New recovered\": 2336}, {\"Unnamed: 0\": 15413, \"Date\": \"2020-04-13T00:00:00\", \"Country/Region\": \"Switzerland\", \"Confirmed\": 25688, \"Deaths\": 1138, \"Recovered\": 13700.0, \"Active\": 10850.0, \"New cases\": 273, \"New deaths\": 32, \"New recovered\": 1000}, {\"Unnamed: 0\": 15424, \"Date\": \"2020-04-13T00:00:00\", \"Country/Region\": \"US\", \"Confirmed\": 581813, \"Deaths\": 28376, \"Recovered\": 43482.0, \"Active\": 509955.0, \"New cases\": 25291, \"New deaths\": 1828, \"New recovered\": 10494}, {\"Unnamed: 0\": 15428, \"Date\": \"2020-04-13T00:00:00\", \"Country/Region\": \"United Kingdom\", \"Confirmed\": 98017, \"Deaths\": 13056, \"Recovered\": 304.0, \"Active\": 84657.0, \"New cases\": 4205, \"New deaths\": 745, \"New recovered\": -322}, {\"Unnamed: 0\": 15470, \"Date\": \"2020-04-14T00:00:00\", \"Country/Region\": \"Canada\", \"Confirmed\": 27022, \"Deaths\": 900, \"Recovered\": 8210.0, \"Active\": 17912.0, \"New cases\": 1355, \"New deaths\": 120, \"New recovered\": 452}, {\"Unnamed: 0\": 15474, \"Date\": \"2020-04-14T00:00:00\", \"Country/Region\": \"China\", \"Confirmed\": 83306, \"Deaths\": 3345, \"Recovered\": 76632.0, \"Active\": 3329.0, \"New cases\": 93, \"New deaths\": 0, \"New recovered\": 159}, {\"Unnamed: 0\": 15499, \"Date\": \"2020-04-14T00:00:00\", \"Country/Region\": \"France\", \"Confirmed\": 130365, \"Deaths\": 15731, \"Recovered\": 28805.0, \"Active\": 85829.0, \"New cases\": 4971, \"New deaths\": 745, \"New recovered\": 804}, {\"Unnamed: 0\": 15503, \"Date\": \"2020-04-14T00:00:00\", \"Country/Region\": \"Germany\", \"Confirmed\": 131359, \"Deaths\": 3294, \"Recovered\": 68200.0, \"Active\": 59865.0, \"New cases\": 1287, \"New deaths\": 100, \"New recovered\": 3900}, {\"Unnamed: 0\": 15516, \"Date\": \"2020-04-14T00:00:00\", \"Country/Region\": \"India\", \"Confirmed\": 11487, \"Deaths\": 393, \"Recovered\": 1359.0, \"Active\": 9735.0, \"New cases\": 1034, \"New deaths\": 35, \"New recovered\": 178}, {\"Unnamed: 0\": 15518, \"Date\": \"2020-04-14T00:00:00\", \"Country/Region\": \"Iran\", \"Confirmed\": 74877, \"Deaths\": 4683, \"Recovered\": 48129.0, \"Active\": 22065.0, \"New cases\": 1574, \"New deaths\": 98, \"New recovered\": 2146}, {\"Unnamed: 0\": 15522, \"Date\": \"2020-04-14T00:00:00\", \"Country/Region\": \"Italy\", \"Confirmed\": 162488, \"Deaths\": 21067, \"Recovered\": 37130.0, \"Active\": 104291.0, \"New cases\": 2972, \"New deaths\": 602, \"New recovered\": 1695}, {\"Unnamed: 0\": 15594, \"Date\": \"2020-04-14T00:00:00\", \"Country/Region\": \"Spain\", \"Confirmed\": 172541, \"Deaths\": 18056, \"Recovered\": 67504.0, \"Active\": 86981.0, \"New cases\": 2442, \"New deaths\": 300, \"New recovered\": 2777}, {\"Unnamed: 0\": 15599, \"Date\": \"2020-04-14T00:00:00\", \"Country/Region\": \"Switzerland\", \"Confirmed\": 25936, \"Deaths\": 1174, \"Recovered\": 13700.0, \"Active\": 11062.0, \"New cases\": 248, \"New deaths\": 36, \"New recovered\": 0}, {\"Unnamed: 0\": 15610, \"Date\": \"2020-04-14T00:00:00\", \"Country/Region\": \"US\", \"Confirmed\": 608878, \"Deaths\": 30780, \"Recovered\": 47763.0, \"Active\": 530335.0, \"New cases\": 27065, \"New deaths\": 2404, \"New recovered\": 4281}, {\"Unnamed: 0\": 15614, \"Date\": \"2020-04-14T00:00:00\", \"Country/Region\": \"United Kingdom\", \"Confirmed\": 102365, \"Deaths\": 14107, \"Recovered\": 323.0, \"Active\": 87935.0, \"New cases\": 4348, \"New deaths\": 1051, \"New recovered\": 19}, {\"Unnamed: 0\": 15656, \"Date\": \"2020-04-15T00:00:00\", \"Country/Region\": \"Canada\", \"Confirmed\": 28196, \"Deaths\": 1007, \"Recovered\": 8966.0, \"Active\": 18223.0, \"New cases\": 1174, \"New deaths\": 107, \"New recovered\": 756}, {\"Unnamed: 0\": 15660, \"Date\": \"2020-04-15T00:00:00\", \"Country/Region\": \"China\", \"Confirmed\": 83356, \"Deaths\": 3346, \"Recovered\": 76743.0, \"Active\": 3267.0, \"New cases\": 50, \"New deaths\": 1, \"New recovered\": 111}, {\"Unnamed: 0\": 15685, \"Date\": \"2020-04-15T00:00:00\", \"Country/Region\": \"France\", \"Confirmed\": 133585, \"Deaths\": 17169, \"Recovered\": 30955.0, \"Active\": 85461.0, \"New cases\": 3220, \"New deaths\": 1438, \"New recovered\": 2150}, {\"Unnamed: 0\": 15689, \"Date\": \"2020-04-15T00:00:00\", \"Country/Region\": \"Germany\", \"Confirmed\": 134753, \"Deaths\": 3804, \"Recovered\": 72600.0, \"Active\": 58349.0, \"New cases\": 3394, \"New deaths\": 510, \"New recovered\": 4400}, {\"Unnamed: 0\": 15702, \"Date\": \"2020-04-15T00:00:00\", \"Country/Region\": \"India\", \"Confirmed\": 12322, \"Deaths\": 405, \"Recovered\": 1432.0, \"Active\": 10485.0, \"New cases\": 835, \"New deaths\": 12, \"New recovered\": 73}, {\"Unnamed: 0\": 15704, \"Date\": \"2020-04-15T00:00:00\", \"Country/Region\": \"Iran\", \"Confirmed\": 76389, \"Deaths\": 4777, \"Recovered\": 49933.0, \"Active\": 21679.0, \"New cases\": 1512, \"New deaths\": 94, \"New recovered\": 1804}, {\"Unnamed: 0\": 15708, \"Date\": \"2020-04-15T00:00:00\", \"Country/Region\": \"Italy\", \"Confirmed\": 165155, \"Deaths\": 21645, \"Recovered\": 38092.0, \"Active\": 105418.0, \"New cases\": 2667, \"New deaths\": 578, \"New recovered\": 962}, {\"Unnamed: 0\": 15780, \"Date\": \"2020-04-15T00:00:00\", \"Country/Region\": \"Spain\", \"Confirmed\": 177644, \"Deaths\": 18708, \"Recovered\": 70853.0, \"Active\": 88083.0, \"New cases\": 5103, \"New deaths\": 652, \"New recovered\": 3349}, {\"Unnamed: 0\": 15785, \"Date\": \"2020-04-15T00:00:00\", \"Country/Region\": \"Switzerland\", \"Confirmed\": 26336, \"Deaths\": 1239, \"Recovered\": 15400.0, \"Active\": 9697.0, \"New cases\": 400, \"New deaths\": 65, \"New recovered\": 1700}, {\"Unnamed: 0\": 15796, \"Date\": \"2020-04-15T00:00:00\", \"Country/Region\": \"US\", \"Confirmed\": 637974, \"Deaths\": 33329, \"Recovered\": 52096.0, \"Active\": 552549.0, \"New cases\": 29096, \"New deaths\": 2549, \"New recovered\": 4333}, {\"Unnamed: 0\": 15800, \"Date\": \"2020-04-15T00:00:00\", \"Country/Region\": \"United Kingdom\", \"Confirmed\": 107465, \"Deaths\": 14953, \"Recovered\": 368.0, \"Active\": 92144.0, \"New cases\": 5100, \"New deaths\": 846, \"New recovered\": 45}, {\"Unnamed: 0\": 15842, \"Date\": \"2020-04-16T00:00:00\", \"Country/Region\": \"Canada\", \"Confirmed\": 30796, \"Deaths\": 1258, \"Recovered\": 9698.0, \"Active\": 19840.0, \"New cases\": 2600, \"New deaths\": 251, \"New recovered\": 732}, {\"Unnamed: 0\": 15846, \"Date\": \"2020-04-16T00:00:00\", \"Country/Region\": \"China\", \"Confirmed\": 83403, \"Deaths\": 3346, \"Recovered\": 76832.0, \"Active\": 3225.0, \"New cases\": 47, \"New deaths\": 0, \"New recovered\": 89}, {\"Unnamed: 0\": 15871, \"Date\": \"2020-04-16T00:00:00\", \"Country/Region\": \"France\", \"Confirmed\": 146075, \"Deaths\": 17922, \"Recovered\": 32812.0, \"Active\": 95341.0, \"New cases\": 12490, \"New deaths\": 753, \"New recovered\": 1857}, {\"Unnamed: 0\": 15875, \"Date\": \"2020-04-16T00:00:00\", \"Country/Region\": \"Germany\", \"Confirmed\": 137698, \"Deaths\": 4052, \"Recovered\": 77000.0, \"Active\": 56646.0, \"New cases\": 2945, \"New deaths\": 248, \"New recovered\": 4400}, {\"Unnamed: 0\": 15888, \"Date\": \"2020-04-16T00:00:00\", \"Country/Region\": \"India\", \"Confirmed\": 13430, \"Deaths\": 448, \"Recovered\": 1768.0, \"Active\": 11214.0, \"New cases\": 1108, \"New deaths\": 43, \"New recovered\": 336}, {\"Unnamed: 0\": 15890, \"Date\": \"2020-04-16T00:00:00\", \"Country/Region\": \"Iran\", \"Confirmed\": 77995, \"Deaths\": 4869, \"Recovered\": 52229.0, \"Active\": 20897.0, \"New cases\": 1606, \"New deaths\": 92, \"New recovered\": 2296}, {\"Unnamed: 0\": 15894, \"Date\": \"2020-04-16T00:00:00\", \"Country/Region\": \"Italy\", \"Confirmed\": 168941, \"Deaths\": 22170, \"Recovered\": 40164.0, \"Active\": 106607.0, \"New cases\": 3786, \"New deaths\": 525, \"New recovered\": 2072}, {\"Unnamed: 0\": 15966, \"Date\": \"2020-04-16T00:00:00\", \"Country/Region\": \"Spain\", \"Confirmed\": 184948, \"Deaths\": 19315, \"Recovered\": 74797.0, \"Active\": 90836.0, \"New cases\": 7304, \"New deaths\": 607, \"New recovered\": 3944}, {\"Unnamed: 0\": 15971, \"Date\": \"2020-04-16T00:00:00\", \"Country/Region\": \"Switzerland\", \"Confirmed\": 26732, \"Deaths\": 1281, \"Recovered\": 15900.0, \"Active\": 9551.0, \"New cases\": 396, \"New deaths\": 42, \"New recovered\": 500}, {\"Unnamed: 0\": 15982, \"Date\": \"2020-04-16T00:00:00\", \"Country/Region\": \"US\", \"Confirmed\": 669272, \"Deaths\": 35442, \"Recovered\": 54703.0, \"Active\": 579127.0, \"New cases\": 31298, \"New deaths\": 2113, \"New recovered\": 2607}, {\"Unnamed: 0\": 15986, \"Date\": \"2020-04-16T00:00:00\", \"Country/Region\": \"United Kingdom\", \"Confirmed\": 112808, \"Deaths\": 15986, \"Recovered\": 375.0, \"Active\": 96447.0, \"New cases\": 5343, \"New deaths\": 1033, \"New recovered\": 7}, {\"Unnamed: 0\": 16028, \"Date\": \"2020-04-17T00:00:00\", \"Country/Region\": \"Canada\", \"Confirmed\": 32801, \"Deaths\": 1355, \"Recovered\": 10545.0, \"Active\": 20901.0, \"New cases\": 2005, \"New deaths\": 97, \"New recovered\": 847}, {\"Unnamed: 0\": 16032, \"Date\": \"2020-04-17T00:00:00\", \"Country/Region\": \"China\", \"Confirmed\": 83760, \"Deaths\": 4636, \"Recovered\": 75982.0, \"Active\": 3142.0, \"New cases\": 357, \"New deaths\": 1290, \"New recovered\": -850}, {\"Unnamed: 0\": 16057, \"Date\": \"2020-04-17T00:00:00\", \"Country/Region\": \"France\", \"Confirmed\": 148084, \"Deaths\": 18683, \"Recovered\": 34420.0, \"Active\": 94981.0, \"New cases\": 2009, \"New deaths\": 761, \"New recovered\": 1608}, {\"Unnamed: 0\": 16061, \"Date\": \"2020-04-17T00:00:00\", \"Country/Region\": \"Germany\", \"Confirmed\": 141397, \"Deaths\": 4352, \"Recovered\": 83114.0, \"Active\": 53931.0, \"New cases\": 3699, \"New deaths\": 300, \"New recovered\": 6114}, {\"Unnamed: 0\": 16074, \"Date\": \"2020-04-17T00:00:00\", \"Country/Region\": \"India\", \"Confirmed\": 14352, \"Deaths\": 486, \"Recovered\": 2041.0, \"Active\": 11825.0, \"New cases\": 922, \"New deaths\": 38, \"New recovered\": 273}, {\"Unnamed: 0\": 16076, \"Date\": \"2020-04-17T00:00:00\", \"Country/Region\": \"Iran\", \"Confirmed\": 79494, \"Deaths\": 4958, \"Recovered\": 54064.0, \"Active\": 20472.0, \"New cases\": 1499, \"New deaths\": 89, \"New recovered\": 1835}, {\"Unnamed: 0\": 16080, \"Date\": \"2020-04-17T00:00:00\", \"Country/Region\": \"Italy\", \"Confirmed\": 172434, \"Deaths\": 22745, \"Recovered\": 42727.0, \"Active\": 106962.0, \"New cases\": 3493, \"New deaths\": 575, \"New recovered\": 2563}, {\"Unnamed: 0\": 16152, \"Date\": \"2020-04-17T00:00:00\", \"Country/Region\": \"Spain\", \"Confirmed\": 190839, \"Deaths\": 20002, \"Recovered\": 74797.0, \"Active\": 96040.0, \"New cases\": 5891, \"New deaths\": 687, \"New recovered\": 0}, {\"Unnamed: 0\": 16157, \"Date\": \"2020-04-17T00:00:00\", \"Country/Region\": \"Switzerland\", \"Confirmed\": 27078, \"Deaths\": 1327, \"Recovered\": 16400.0, \"Active\": 9351.0, \"New cases\": 346, \"New deaths\": 46, \"New recovered\": 500}, {\"Unnamed: 0\": 16168, \"Date\": \"2020-04-17T00:00:00\", \"Country/Region\": \"US\", \"Confirmed\": 701996, \"Deaths\": 38056, \"Recovered\": 58545.0, \"Active\": 605395.0, \"New cases\": 32724, \"New deaths\": 2614, \"New recovered\": 3842}, {\"Unnamed: 0\": 16172, \"Date\": \"2020-04-17T00:00:00\", \"Country/Region\": \"United Kingdom\", \"Confirmed\": 117798, \"Deaths\": 16923, \"Recovered\": 394.0, \"Active\": 100481.0, \"New cases\": 4990, \"New deaths\": 937, \"New recovered\": 19}, {\"Unnamed: 0\": 16214, \"Date\": \"2020-04-18T00:00:00\", \"Country/Region\": \"Canada\", \"Confirmed\": 34343, \"Deaths\": 1400, \"Recovered\": 10964.0, \"Active\": 21979.0, \"New cases\": 1542, \"New deaths\": 45, \"New recovered\": 419}, {\"Unnamed: 0\": 16218, \"Date\": \"2020-04-18T00:00:00\", \"Country/Region\": \"China\", \"Confirmed\": 83787, \"Deaths\": 4636, \"Recovered\": 76044.0, \"Active\": 3107.0, \"New cases\": 27, \"New deaths\": 0, \"New recovered\": 62}, {\"Unnamed: 0\": 16243, \"Date\": \"2020-04-18T00:00:00\", \"Country/Region\": \"France\", \"Confirmed\": 148086, \"Deaths\": 19325, \"Recovered\": 35983.0, \"Active\": 92778.0, \"New cases\": 2, \"New deaths\": 642, \"New recovered\": 1563}, {\"Unnamed: 0\": 16247, \"Date\": \"2020-04-18T00:00:00\", \"Country/Region\": \"Germany\", \"Confirmed\": 143342, \"Deaths\": 4459, \"Recovered\": 85400.0, \"Active\": 53483.0, \"New cases\": 1945, \"New deaths\": 107, \"New recovered\": 2286}, {\"Unnamed: 0\": 16260, \"Date\": \"2020-04-18T00:00:00\", \"Country/Region\": \"India\", \"Confirmed\": 15722, \"Deaths\": 521, \"Recovered\": 2463.0, \"Active\": 12738.0, \"New cases\": 1370, \"New deaths\": 35, \"New recovered\": 422}, {\"Unnamed: 0\": 16262, \"Date\": \"2020-04-18T00:00:00\", \"Country/Region\": \"Iran\", \"Confirmed\": 80868, \"Deaths\": 5031, \"Recovered\": 55987.0, \"Active\": 19850.0, \"New cases\": 1374, \"New deaths\": 73, \"New recovered\": 1923}, {\"Unnamed: 0\": 16266, \"Date\": \"2020-04-18T00:00:00\", \"Country/Region\": \"Italy\", \"Confirmed\": 175925, \"Deaths\": 23227, \"Recovered\": 44927.0, \"Active\": 107771.0, \"New cases\": 3491, \"New deaths\": 482, \"New recovered\": 2200}, {\"Unnamed: 0\": 16338, \"Date\": \"2020-04-18T00:00:00\", \"Country/Region\": \"Spain\", \"Confirmed\": 191726, \"Deaths\": 20043, \"Recovered\": 74797.0, \"Active\": 96886.0, \"New cases\": 887, \"New deaths\": 41, \"New recovered\": 0}, {\"Unnamed: 0\": 16343, \"Date\": \"2020-04-18T00:00:00\", \"Country/Region\": \"Switzerland\", \"Confirmed\": 27404, \"Deaths\": 1368, \"Recovered\": 17100.0, \"Active\": 8936.0, \"New cases\": 326, \"New deaths\": 41, \"New recovered\": 700}, {\"Unnamed: 0\": 16354, \"Date\": \"2020-04-18T00:00:00\", \"Country/Region\": \"US\", \"Confirmed\": 730337, \"Deaths\": 40442, \"Recovered\": 64840.0, \"Active\": 625055.0, \"New cases\": 28341, \"New deaths\": 2386, \"New recovered\": 6295}, {\"Unnamed: 0\": 16358, \"Date\": \"2020-04-18T00:00:00\", \"Country/Region\": \"United Kingdom\", \"Confirmed\": 122534, \"Deaths\": 18041, \"Recovered\": 414.0, \"Active\": 104079.0, \"New cases\": 4736, \"New deaths\": 1118, \"New recovered\": 20}, {\"Unnamed: 0\": 16400, \"Date\": \"2020-04-19T00:00:00\", \"Country/Region\": \"Canada\", \"Confirmed\": 35620, \"Deaths\": 1564, \"Recovered\": 11847.0, \"Active\": 22209.0, \"New cases\": 1277, \"New deaths\": 164, \"New recovered\": 883}, {\"Unnamed: 0\": 16404, \"Date\": \"2020-04-19T00:00:00\", \"Country/Region\": \"China\", \"Confirmed\": 83805, \"Deaths\": 4636, \"Recovered\": 76120.0, \"Active\": 3049.0, \"New cases\": 18, \"New deaths\": 0, \"New recovered\": 76}, {\"Unnamed: 0\": 16429, \"Date\": \"2020-04-19T00:00:00\", \"Country/Region\": \"France\", \"Confirmed\": 153011, \"Deaths\": 19720, \"Recovered\": 36578.0, \"Active\": 96713.0, \"New cases\": 4925, \"New deaths\": 395, \"New recovered\": 595}, {\"Unnamed: 0\": 16433, \"Date\": \"2020-04-19T00:00:00\", \"Country/Region\": \"Germany\", \"Confirmed\": 145184, \"Deaths\": 4586, \"Recovered\": 88000.0, \"Active\": 52598.0, \"New cases\": 1842, \"New deaths\": 127, \"New recovered\": 2600}, {\"Unnamed: 0\": 16446, \"Date\": \"2020-04-19T00:00:00\", \"Country/Region\": \"India\", \"Confirmed\": 17615, \"Deaths\": 559, \"Recovered\": 2854.0, \"Active\": 14202.0, \"New cases\": 1893, \"New deaths\": 38, \"New recovered\": 391}, {\"Unnamed: 0\": 16448, \"Date\": \"2020-04-19T00:00:00\", \"Country/Region\": \"Iran\", \"Confirmed\": 82211, \"Deaths\": 5118, \"Recovered\": 57023.0, \"Active\": 20070.0, \"New cases\": 1343, \"New deaths\": 87, \"New recovered\": 1036}, {\"Unnamed: 0\": 16452, \"Date\": \"2020-04-19T00:00:00\", \"Country/Region\": \"Italy\", \"Confirmed\": 178972, \"Deaths\": 23660, \"Recovered\": 47055.0, \"Active\": 108257.0, \"New cases\": 3047, \"New deaths\": 433, \"New recovered\": 2128}, {\"Unnamed: 0\": 16524, \"Date\": \"2020-04-19T00:00:00\", \"Country/Region\": \"Spain\", \"Confirmed\": 198674, \"Deaths\": 20453, \"Recovered\": 77357.0, \"Active\": 100864.0, \"New cases\": 6948, \"New deaths\": 410, \"New recovered\": 2560}, {\"Unnamed: 0\": 16529, \"Date\": \"2020-04-19T00:00:00\", \"Country/Region\": \"Switzerland\", \"Confirmed\": 27740, \"Deaths\": 1393, \"Recovered\": 17800.0, \"Active\": 8547.0, \"New cases\": 336, \"New deaths\": 25, \"New recovered\": 700}, {\"Unnamed: 0\": 16540, \"Date\": \"2020-04-19T00:00:00\", \"Country/Region\": \"US\", \"Confirmed\": 756375, \"Deaths\": 41671, \"Recovered\": 70337.0, \"Active\": 644367.0, \"New cases\": 26038, \"New deaths\": 1229, \"New recovered\": 5497}, {\"Unnamed: 0\": 16544, \"Date\": \"2020-04-19T00:00:00\", \"Country/Region\": \"United Kingdom\", \"Confirmed\": 126394, \"Deaths\": 18540, \"Recovered\": 436.0, \"Active\": 107418.0, \"New cases\": 3860, \"New deaths\": 499, \"New recovered\": 22}, {\"Unnamed: 0\": 16586, \"Date\": \"2020-04-20T00:00:00\", \"Country/Region\": \"Canada\", \"Confirmed\": 37645, \"Deaths\": 1726, \"Recovered\": 12543.0, \"Active\": 23376.0, \"New cases\": 2025, \"New deaths\": 162, \"New recovered\": 696}, {\"Unnamed: 0\": 16590, \"Date\": \"2020-04-20T00:00:00\", \"Country/Region\": \"China\", \"Confirmed\": 83817, \"Deaths\": 4636, \"Recovered\": 76174.0, \"Active\": 3007.0, \"New cases\": 12, \"New deaths\": 0, \"New recovered\": 54}, {\"Unnamed: 0\": 16615, \"Date\": \"2020-04-20T00:00:00\", \"Country/Region\": \"France\", \"Confirmed\": 155393, \"Deaths\": 20267, \"Recovered\": 37409.0, \"Active\": 97717.0, \"New cases\": 2382, \"New deaths\": 547, \"New recovered\": 831}, {\"Unnamed: 0\": 16619, \"Date\": \"2020-04-20T00:00:00\", \"Country/Region\": \"Germany\", \"Confirmed\": 147065, \"Deaths\": 4862, \"Recovered\": 91500.0, \"Active\": 50703.0, \"New cases\": 1881, \"New deaths\": 276, \"New recovered\": 3500}, {\"Unnamed: 0\": 16632, \"Date\": \"2020-04-20T00:00:00\", \"Country/Region\": \"India\", \"Confirmed\": 18539, \"Deaths\": 592, \"Recovered\": 3273.0, \"Active\": 14674.0, \"New cases\": 924, \"New deaths\": 33, \"New recovered\": 419}, {\"Unnamed: 0\": 16634, \"Date\": \"2020-04-20T00:00:00\", \"Country/Region\": \"Iran\", \"Confirmed\": 83505, \"Deaths\": 5209, \"Recovered\": 59273.0, \"Active\": 19023.0, \"New cases\": 1294, \"New deaths\": 91, \"New recovered\": 2250}, {\"Unnamed: 0\": 16638, \"Date\": \"2020-04-20T00:00:00\", \"Country/Region\": \"Italy\", \"Confirmed\": 181228, \"Deaths\": 24114, \"Recovered\": 48877.0, \"Active\": 108237.0, \"New cases\": 2256, \"New deaths\": 454, \"New recovered\": 1822}, {\"Unnamed: 0\": 16710, \"Date\": \"2020-04-20T00:00:00\", \"Country/Region\": \"Spain\", \"Confirmed\": 200210, \"Deaths\": 20852, \"Recovered\": 80587.0, \"Active\": 98771.0, \"New cases\": 1536, \"New deaths\": 399, \"New recovered\": 3230}, {\"Unnamed: 0\": 16715, \"Date\": \"2020-04-20T00:00:00\", \"Country/Region\": \"Switzerland\", \"Confirmed\": 27944, \"Deaths\": 1429, \"Recovered\": 18600.0, \"Active\": 7915.0, \"New cases\": 204, \"New deaths\": 36, \"New recovered\": 800}, {\"Unnamed: 0\": 16726, \"Date\": \"2020-04-20T00:00:00\", \"Country/Region\": \"US\", \"Confirmed\": 783716, \"Deaths\": 43466, \"Recovered\": 72329.0, \"Active\": 667921.0, \"New cases\": 27341, \"New deaths\": 1795, \"New recovered\": 1992}, {\"Unnamed: 0\": 16730, \"Date\": \"2020-04-20T00:00:00\", \"Country/Region\": \"United Kingdom\", \"Confirmed\": 131260, \"Deaths\": 19105, \"Recovered\": 446.0, \"Active\": 111709.0, \"New cases\": 4866, \"New deaths\": 565, \"New recovered\": 10}, {\"Unnamed: 0\": 16772, \"Date\": \"2020-04-21T00:00:00\", \"Country/Region\": \"Canada\", \"Confirmed\": 39389, \"Deaths\": 1909, \"Recovered\": 13188.0, \"Active\": 24292.0, \"New cases\": 1744, \"New deaths\": 183, \"New recovered\": 645}, {\"Unnamed: 0\": 16776, \"Date\": \"2020-04-21T00:00:00\", \"Country/Region\": \"China\", \"Confirmed\": 83853, \"Deaths\": 4636, \"Recovered\": 76228.0, \"Active\": 2989.0, \"New cases\": 36, \"New deaths\": 0, \"New recovered\": 54}, {\"Unnamed: 0\": 16801, \"Date\": \"2020-04-21T00:00:00\", \"Country/Region\": \"France\", \"Confirmed\": 158168, \"Deaths\": 20798, \"Recovered\": 39181.0, \"Active\": 98189.0, \"New cases\": 2775, \"New deaths\": 531, \"New recovered\": 1772}, {\"Unnamed: 0\": 16805, \"Date\": \"2020-04-21T00:00:00\", \"Country/Region\": \"Germany\", \"Confirmed\": 148291, \"Deaths\": 5033, \"Recovered\": 95200.0, \"Active\": 48058.0, \"New cases\": 1226, \"New deaths\": 171, \"New recovered\": 3700}, {\"Unnamed: 0\": 16818, \"Date\": \"2020-04-21T00:00:00\", \"Country/Region\": \"India\", \"Confirmed\": 20080, \"Deaths\": 645, \"Recovered\": 3975.0, \"Active\": 15460.0, \"New cases\": 1541, \"New deaths\": 53, \"New recovered\": 702}, {\"Unnamed: 0\": 16820, \"Date\": \"2020-04-21T00:00:00\", \"Country/Region\": \"Iran\", \"Confirmed\": 84802, \"Deaths\": 5297, \"Recovered\": 60965.0, \"Active\": 18540.0, \"New cases\": 1297, \"New deaths\": 88, \"New recovered\": 1692}, {\"Unnamed: 0\": 16824, \"Date\": \"2020-04-21T00:00:00\", \"Country/Region\": \"Italy\", \"Confirmed\": 183957, \"Deaths\": 24648, \"Recovered\": 51600.0, \"Active\": 107709.0, \"New cases\": 2729, \"New deaths\": 534, \"New recovered\": 2723}, {\"Unnamed: 0\": 16896, \"Date\": \"2020-04-21T00:00:00\", \"Country/Region\": \"Spain\", \"Confirmed\": 204178, \"Deaths\": 21282, \"Recovered\": 82514.0, \"Active\": 100382.0, \"New cases\": 3968, \"New deaths\": 430, \"New recovered\": 1927}, {\"Unnamed: 0\": 16901, \"Date\": \"2020-04-21T00:00:00\", \"Country/Region\": \"Switzerland\", \"Confirmed\": 28063, \"Deaths\": 1478, \"Recovered\": 19400.0, \"Active\": 7185.0, \"New cases\": 119, \"New deaths\": 49, \"New recovered\": 800}, {\"Unnamed: 0\": 16912, \"Date\": \"2020-04-21T00:00:00\", \"Country/Region\": \"US\", \"Confirmed\": 809318, \"Deaths\": 45923, \"Recovered\": 75204.0, \"Active\": 688191.0, \"New cases\": 25602, \"New deaths\": 2457, \"New recovered\": 2875}, {\"Unnamed: 0\": 16916, \"Date\": \"2020-04-21T00:00:00\", \"Country/Region\": \"United Kingdom\", \"Confirmed\": 136035, \"Deaths\": 20278, \"Recovered\": 638.0, \"Active\": 115119.0, \"New cases\": 4775, \"New deaths\": 1173, \"New recovered\": 192}, {\"Unnamed: 0\": 16958, \"Date\": \"2020-04-22T00:00:00\", \"Country/Region\": \"Canada\", \"Confirmed\": 41650, \"Deaths\": 2077, \"Recovered\": 14454.0, \"Active\": 25119.0, \"New cases\": 2261, \"New deaths\": 168, \"New recovered\": 1266}, {\"Unnamed: 0\": 16962, \"Date\": \"2020-04-22T00:00:00\", \"Country/Region\": \"China\", \"Confirmed\": 83868, \"Deaths\": 4636, \"Recovered\": 76290.0, \"Active\": 2942.0, \"New cases\": 15, \"New deaths\": 0, \"New recovered\": 62}, {\"Unnamed: 0\": 16987, \"Date\": \"2020-04-22T00:00:00\", \"Country/Region\": \"France\", \"Confirmed\": 155980, \"Deaths\": 21342, \"Recovered\": 40657.0, \"Active\": 93981.0, \"New cases\": 0, \"New deaths\": 544, \"New recovered\": 1476}, {\"Unnamed: 0\": 16991, \"Date\": \"2020-04-22T00:00:00\", \"Country/Region\": \"Germany\", \"Confirmed\": 150648, \"Deaths\": 5279, \"Recovered\": 99400.0, \"Active\": 45969.0, \"New cases\": 2357, \"New deaths\": 246, \"New recovered\": 4200}, {\"Unnamed: 0\": 17004, \"Date\": \"2020-04-22T00:00:00\", \"Country/Region\": \"India\", \"Confirmed\": 21370, \"Deaths\": 681, \"Recovered\": 4370.0, \"Active\": 16319.0, \"New cases\": 1290, \"New deaths\": 36, \"New recovered\": 395}, {\"Unnamed: 0\": 17006, \"Date\": \"2020-04-22T00:00:00\", \"Country/Region\": \"Iran\", \"Confirmed\": 85996, \"Deaths\": 5391, \"Recovered\": 63113.0, \"Active\": 17492.0, \"New cases\": 1194, \"New deaths\": 94, \"New recovered\": 2148}, {\"Unnamed: 0\": 17010, \"Date\": \"2020-04-22T00:00:00\", \"Country/Region\": \"Italy\", \"Confirmed\": 187327, \"Deaths\": 25085, \"Recovered\": 54543.0, \"Active\": 107699.0, \"New cases\": 3370, \"New deaths\": 437, \"New recovered\": 2943}, {\"Unnamed: 0\": 17082, \"Date\": \"2020-04-22T00:00:00\", \"Country/Region\": \"Spain\", \"Confirmed\": 208389, \"Deaths\": 21717, \"Recovered\": 85915.0, \"Active\": 100757.0, \"New cases\": 4211, \"New deaths\": 435, \"New recovered\": 3401}, {\"Unnamed: 0\": 17087, \"Date\": \"2020-04-22T00:00:00\", \"Country/Region\": \"Switzerland\", \"Confirmed\": 28268, \"Deaths\": 1509, \"Recovered\": 19900.0, \"Active\": 6859.0, \"New cases\": 205, \"New deaths\": 31, \"New recovered\": 500}, {\"Unnamed: 0\": 17098, \"Date\": \"2020-04-22T00:00:00\", \"Country/Region\": \"US\", \"Confirmed\": 837422, \"Deaths\": 48312, \"Recovered\": 77366.0, \"Active\": 711744.0, \"New cases\": 28104, \"New deaths\": 2389, \"New recovered\": 2162}, {\"Unnamed: 0\": 17102, \"Date\": \"2020-04-22T00:00:00\", \"Country/Region\": \"United Kingdom\", \"Confirmed\": 141540, \"Deaths\": 21125, \"Recovered\": 683.0, \"Active\": 119732.0, \"New cases\": 5505, \"New deaths\": 847, \"New recovered\": 45}, {\"Unnamed: 0\": 17144, \"Date\": \"2020-04-23T00:00:00\", \"Country/Region\": \"Canada\", \"Confirmed\": 43286, \"Deaths\": 2240, \"Recovered\": 14761.0, \"Active\": 26285.0, \"New cases\": 1636, \"New deaths\": 163, \"New recovered\": 307}, {\"Unnamed: 0\": 17148, \"Date\": \"2020-04-23T00:00:00\", \"Country/Region\": \"China\", \"Confirmed\": 83884, \"Deaths\": 4636, \"Recovered\": 76412.0, \"Active\": 2836.0, \"New cases\": 16, \"New deaths\": 0, \"New recovered\": 122}, {\"Unnamed: 0\": 17173, \"Date\": \"2020-04-23T00:00:00\", \"Country/Region\": \"France\", \"Confirmed\": 158303, \"Deaths\": 21858, \"Recovered\": 42088.0, \"Active\": 94357.0, \"New cases\": 2323, \"New deaths\": 516, \"New recovered\": 1431}, {\"Unnamed: 0\": 17177, \"Date\": \"2020-04-23T00:00:00\", \"Country/Region\": \"Germany\", \"Confirmed\": 153129, \"Deaths\": 5575, \"Recovered\": 103300.0, \"Active\": 44254.0, \"New cases\": 2481, \"New deaths\": 296, \"New recovered\": 3900}, {\"Unnamed: 0\": 17190, \"Date\": \"2020-04-23T00:00:00\", \"Country/Region\": \"India\", \"Confirmed\": 23077, \"Deaths\": 721, \"Recovered\": 5012.0, \"Active\": 17344.0, \"New cases\": 1707, \"New deaths\": 40, \"New recovered\": 642}, {\"Unnamed: 0\": 17192, \"Date\": \"2020-04-23T00:00:00\", \"Country/Region\": \"Iran\", \"Confirmed\": 87026, \"Deaths\": 5481, \"Recovered\": 64843.0, \"Active\": 16702.0, \"New cases\": 1030, \"New deaths\": 90, \"New recovered\": 1730}, {\"Unnamed: 0\": 17196, \"Date\": \"2020-04-23T00:00:00\", \"Country/Region\": \"Italy\", \"Confirmed\": 189973, \"Deaths\": 25549, \"Recovered\": 57576.0, \"Active\": 106848.0, \"New cases\": 2646, \"New deaths\": 464, \"New recovered\": 3033}, {\"Unnamed: 0\": 17268, \"Date\": \"2020-04-23T00:00:00\", \"Country/Region\": \"Spain\", \"Confirmed\": 213024, \"Deaths\": 22157, \"Recovered\": 89250.0, \"Active\": 101617.0, \"New cases\": 4635, \"New deaths\": 440, \"New recovered\": 3335}, {\"Unnamed: 0\": 17273, \"Date\": \"2020-04-23T00:00:00\", \"Country/Region\": \"Switzerland\", \"Confirmed\": 28496, \"Deaths\": 1549, \"Recovered\": 20600.0, \"Active\": 6347.0, \"New cases\": 228, \"New deaths\": 40, \"New recovered\": 700}, {\"Unnamed: 0\": 17284, \"Date\": \"2020-04-23T00:00:00\", \"Country/Region\": \"US\", \"Confirmed\": 871617, \"Deaths\": 50749, \"Recovered\": 80203.0, \"Active\": 740665.0, \"New cases\": 34195, \"New deaths\": 2437, \"New recovered\": 2837}, {\"Unnamed: 0\": 17288, \"Date\": \"2020-04-23T00:00:00\", \"Country/Region\": \"United Kingdom\", \"Confirmed\": 146708, \"Deaths\": 21854, \"Recovered\": 712.0, \"Active\": 124142.0, \"New cases\": 5168, \"New deaths\": 729, \"New recovered\": 29}, {\"Unnamed: 0\": 17330, \"Date\": \"2020-04-24T00:00:00\", \"Country/Region\": \"Canada\", \"Confirmed\": 44906, \"Deaths\": 2401, \"Recovered\": 15149.0, \"Active\": 27356.0, \"New cases\": 1620, \"New deaths\": 161, \"New recovered\": 388}, {\"Unnamed: 0\": 17334, \"Date\": \"2020-04-24T00:00:00\", \"Country/Region\": \"China\", \"Confirmed\": 83899, \"Deaths\": 4636, \"Recovered\": 76537.0, \"Active\": 2726.0, \"New cases\": 15, \"New deaths\": 0, \"New recovered\": 125}, {\"Unnamed: 0\": 17359, \"Date\": \"2020-04-24T00:00:00\", \"Country/Region\": \"France\", \"Confirmed\": 159952, \"Deaths\": 22248, \"Recovered\": 43493.0, \"Active\": 94211.0, \"New cases\": 1649, \"New deaths\": 390, \"New recovered\": 1405}, {\"Unnamed: 0\": 17363, \"Date\": \"2020-04-24T00:00:00\", \"Country/Region\": \"Germany\", \"Confirmed\": 154999, \"Deaths\": 5760, \"Recovered\": 109800.0, \"Active\": 39439.0, \"New cases\": 1870, \"New deaths\": 185, \"New recovered\": 6500}, {\"Unnamed: 0\": 17376, \"Date\": \"2020-04-24T00:00:00\", \"Country/Region\": \"India\", \"Confirmed\": 24530, \"Deaths\": 780, \"Recovered\": 5498.0, \"Active\": 18252.0, \"New cases\": 1453, \"New deaths\": 59, \"New recovered\": 486}, {\"Unnamed: 0\": 17378, \"Date\": \"2020-04-24T00:00:00\", \"Country/Region\": \"Iran\", \"Confirmed\": 88194, \"Deaths\": 5574, \"Recovered\": 66599.0, \"Active\": 16021.0, \"New cases\": 1168, \"New deaths\": 93, \"New recovered\": 1756}, {\"Unnamed: 0\": 17382, \"Date\": \"2020-04-24T00:00:00\", \"Country/Region\": \"Italy\", \"Confirmed\": 192994, \"Deaths\": 25969, \"Recovered\": 60498.0, \"Active\": 106527.0, \"New cases\": 3021, \"New deaths\": 420, \"New recovered\": 2922}, {\"Unnamed: 0\": 17454, \"Date\": \"2020-04-24T00:00:00\", \"Country/Region\": \"Spain\", \"Confirmed\": 202990, \"Deaths\": 22524, \"Recovered\": 92355.0, \"Active\": 88111.0, \"New cases\": 0, \"New deaths\": 367, \"New recovered\": 3105}, {\"Unnamed: 0\": 17459, \"Date\": \"2020-04-24T00:00:00\", \"Country/Region\": \"Switzerland\", \"Confirmed\": 28677, \"Deaths\": 1589, \"Recovered\": 21000.0, \"Active\": 6088.0, \"New cases\": 181, \"New deaths\": 40, \"New recovered\": 400}, {\"Unnamed: 0\": 17470, \"Date\": \"2020-04-24T00:00:00\", \"Country/Region\": \"US\", \"Confirmed\": 907908, \"Deaths\": 52867, \"Recovered\": 99079.0, \"Active\": 755962.0, \"New cases\": 36291, \"New deaths\": 2118, \"New recovered\": 18876}, {\"Unnamed: 0\": 17474, \"Date\": \"2020-04-24T00:00:00\", \"Country/Region\": \"United Kingdom\", \"Confirmed\": 151689, \"Deaths\": 22868, \"Recovered\": 724.0, \"Active\": 128097.0, \"New cases\": 4981, \"New deaths\": 1014, \"New recovered\": 12}, {\"Unnamed: 0\": 17516, \"Date\": \"2020-04-25T00:00:00\", \"Country/Region\": \"Canada\", \"Confirmed\": 46358, \"Deaths\": 2570, \"Recovered\": 16013.0, \"Active\": 27775.0, \"New cases\": 1452, \"New deaths\": 169, \"New recovered\": 864}, {\"Unnamed: 0\": 17520, \"Date\": \"2020-04-25T00:00:00\", \"Country/Region\": \"China\", \"Confirmed\": 83909, \"Deaths\": 4636, \"Recovered\": 76603.0, \"Active\": 2670.0, \"New cases\": 10, \"New deaths\": 0, \"New recovered\": 66}, {\"Unnamed: 0\": 17545, \"Date\": \"2020-04-25T00:00:00\", \"Country/Region\": \"France\", \"Confirmed\": 161644, \"Deaths\": 22617, \"Recovered\": 44594.0, \"Active\": 94433.0, \"New cases\": 1692, \"New deaths\": 369, \"New recovered\": 1101}, {\"Unnamed: 0\": 17549, \"Date\": \"2020-04-25T00:00:00\", \"Country/Region\": \"Germany\", \"Confirmed\": 156513, \"Deaths\": 5877, \"Recovered\": 109800.0, \"Active\": 40836.0, \"New cases\": 1514, \"New deaths\": 117, \"New recovered\": 0}, {\"Unnamed: 0\": 17562, \"Date\": \"2020-04-25T00:00:00\", \"Country/Region\": \"India\", \"Confirmed\": 26283, \"Deaths\": 825, \"Recovered\": 5939.0, \"Active\": 19519.0, \"New cases\": 1753, \"New deaths\": 45, \"New recovered\": 441}, {\"Unnamed: 0\": 17564, \"Date\": \"2020-04-25T00:00:00\", \"Country/Region\": \"Iran\", \"Confirmed\": 89328, \"Deaths\": 5650, \"Recovered\": 68193.0, \"Active\": 15485.0, \"New cases\": 1134, \"New deaths\": 76, \"New recovered\": 1594}, {\"Unnamed: 0\": 17568, \"Date\": \"2020-04-25T00:00:00\", \"Country/Region\": \"Italy\", \"Confirmed\": 195351, \"Deaths\": 26384, \"Recovered\": 63120.0, \"Active\": 105847.0, \"New cases\": 2357, \"New deaths\": 415, \"New recovered\": 2622}, {\"Unnamed: 0\": 17640, \"Date\": \"2020-04-25T00:00:00\", \"Country/Region\": \"Spain\", \"Confirmed\": 205905, \"Deaths\": 22902, \"Recovered\": 95708.0, \"Active\": 87295.0, \"New cases\": 2915, \"New deaths\": 378, \"New recovered\": 3353}, {\"Unnamed: 0\": 17645, \"Date\": \"2020-04-25T00:00:00\", \"Country/Region\": \"Switzerland\", \"Confirmed\": 28894, \"Deaths\": 1599, \"Recovered\": 21300.0, \"Active\": 5995.0, \"New cases\": 217, \"New deaths\": 10, \"New recovered\": 300}, {\"Unnamed: 0\": 17656, \"Date\": \"2020-04-25T00:00:00\", \"Country/Region\": \"US\", \"Confirmed\": 940829, \"Deaths\": 54517, \"Recovered\": 100372.0, \"Active\": 785940.0, \"New cases\": 32921, \"New deaths\": 1650, \"New recovered\": 1293}, {\"Unnamed: 0\": 17660, \"Date\": \"2020-04-25T00:00:00\", \"Country/Region\": \"United Kingdom\", \"Confirmed\": 155453, \"Deaths\": 23712, \"Recovered\": 774.0, \"Active\": 130967.0, \"New cases\": 3764, \"New deaths\": 844, \"New recovered\": 50}, {\"Unnamed: 0\": 17702, \"Date\": \"2020-04-26T00:00:00\", \"Country/Region\": \"Canada\", \"Confirmed\": 48020, \"Deaths\": 2686, \"Recovered\": 16883.0, \"Active\": 28451.0, \"New cases\": 1662, \"New deaths\": 116, \"New recovered\": 870}, {\"Unnamed: 0\": 17706, \"Date\": \"2020-04-26T00:00:00\", \"Country/Region\": \"China\", \"Confirmed\": 83912, \"Deaths\": 4637, \"Recovered\": 76705.0, \"Active\": 2570.0, \"New cases\": 3, \"New deaths\": 1, \"New recovered\": 102}, {\"Unnamed: 0\": 17731, \"Date\": \"2020-04-26T00:00:00\", \"Country/Region\": \"France\", \"Confirmed\": 162220, \"Deaths\": 22859, \"Recovered\": 44903.0, \"Active\": 94458.0, \"New cases\": 576, \"New deaths\": 242, \"New recovered\": 309}, {\"Unnamed: 0\": 17735, \"Date\": \"2020-04-26T00:00:00\", \"Country/Region\": \"Germany\", \"Confirmed\": 157770, \"Deaths\": 5976, \"Recovered\": 112000.0, \"Active\": 39794.0, \"New cases\": 1257, \"New deaths\": 99, \"New recovered\": 2200}, {\"Unnamed: 0\": 17748, \"Date\": \"2020-04-26T00:00:00\", \"Country/Region\": \"India\", \"Confirmed\": 27890, \"Deaths\": 881, \"Recovered\": 6523.0, \"Active\": 20486.0, \"New cases\": 1607, \"New deaths\": 56, \"New recovered\": 584}, {\"Unnamed: 0\": 17750, \"Date\": \"2020-04-26T00:00:00\", \"Country/Region\": \"Iran\", \"Confirmed\": 90481, \"Deaths\": 5710, \"Recovered\": 69657.0, \"Active\": 15114.0, \"New cases\": 1153, \"New deaths\": 60, \"New recovered\": 1464}, {\"Unnamed: 0\": 17754, \"Date\": \"2020-04-26T00:00:00\", \"Country/Region\": \"Italy\", \"Confirmed\": 197675, \"Deaths\": 26644, \"Recovered\": 64928.0, \"Active\": 106103.0, \"New cases\": 2324, \"New deaths\": 260, \"New recovered\": 1808}, {\"Unnamed: 0\": 17826, \"Date\": \"2020-04-26T00:00:00\", \"Country/Region\": \"Spain\", \"Confirmed\": 207634, \"Deaths\": 23190, \"Recovered\": 98372.0, \"Active\": 86072.0, \"New cases\": 1729, \"New deaths\": 288, \"New recovered\": 2664}, {\"Unnamed: 0\": 17831, \"Date\": \"2020-04-26T00:00:00\", \"Country/Region\": \"Switzerland\", \"Confirmed\": 29061, \"Deaths\": 1610, \"Recovered\": 21800.0, \"Active\": 5651.0, \"New cases\": 167, \"New deaths\": 11, \"New recovered\": 500}, {\"Unnamed: 0\": 17842, \"Date\": \"2020-04-26T00:00:00\", \"Country/Region\": \"US\", \"Confirmed\": 968518, \"Deaths\": 55810, \"Recovered\": 106988.0, \"Active\": 805720.0, \"New cases\": 27689, \"New deaths\": 1293, \"New recovered\": 6616}, {\"Unnamed: 0\": 17846, \"Date\": \"2020-04-26T00:00:00\", \"Country/Region\": \"United Kingdom\", \"Confirmed\": 158926, \"Deaths\": 24132, \"Recovered\": 778.0, \"Active\": 134016.0, \"New cases\": 3473, \"New deaths\": 420, \"New recovered\": 4}, {\"Unnamed: 0\": 17888, \"Date\": \"2020-04-27T00:00:00\", \"Country/Region\": \"Canada\", \"Confirmed\": 49603, \"Deaths\": 2840, \"Recovered\": 18268.0, \"Active\": 28495.0, \"New cases\": 1583, \"New deaths\": 154, \"New recovered\": 1385}, {\"Unnamed: 0\": 17892, \"Date\": \"2020-04-27T00:00:00\", \"Country/Region\": \"China\", \"Confirmed\": 83918, \"Deaths\": 4637, \"Recovered\": 76802.0, \"Active\": 2479.0, \"New cases\": 6, \"New deaths\": 0, \"New recovered\": 97}, {\"Unnamed: 0\": 17917, \"Date\": \"2020-04-27T00:00:00\", \"Country/Region\": \"France\", \"Confirmed\": 165963, \"Deaths\": 23296, \"Recovered\": 45513.0, \"Active\": 97154.0, \"New cases\": 3743, \"New deaths\": 437, \"New recovered\": 610}, {\"Unnamed: 0\": 17921, \"Date\": \"2020-04-27T00:00:00\", \"Country/Region\": \"Germany\", \"Confirmed\": 158758, \"Deaths\": 6126, \"Recovered\": 114500.0, \"Active\": 38132.0, \"New cases\": 988, \"New deaths\": 150, \"New recovered\": 2500}, {\"Unnamed: 0\": 17934, \"Date\": \"2020-04-27T00:00:00\", \"Country/Region\": \"India\", \"Confirmed\": 29451, \"Deaths\": 939, \"Recovered\": 7137.0, \"Active\": 21375.0, \"New cases\": 1561, \"New deaths\": 58, \"New recovered\": 614}, {\"Unnamed: 0\": 17936, \"Date\": \"2020-04-27T00:00:00\", \"Country/Region\": \"Iran\", \"Confirmed\": 91472, \"Deaths\": 5806, \"Recovered\": 70933.0, \"Active\": 14733.0, \"New cases\": 991, \"New deaths\": 96, \"New recovered\": 1276}, {\"Unnamed: 0\": 17940, \"Date\": \"2020-04-27T00:00:00\", \"Country/Region\": \"Italy\", \"Confirmed\": 199414, \"Deaths\": 26977, \"Recovered\": 66624.0, \"Active\": 105813.0, \"New cases\": 1739, \"New deaths\": 333, \"New recovered\": 1696}, {\"Unnamed: 0\": 18012, \"Date\": \"2020-04-27T00:00:00\", \"Country/Region\": \"Spain\", \"Confirmed\": 209465, \"Deaths\": 23521, \"Recovered\": 100875.0, \"Active\": 85069.0, \"New cases\": 1831, \"New deaths\": 331, \"New recovered\": 2503}, {\"Unnamed: 0\": 18017, \"Date\": \"2020-04-27T00:00:00\", \"Country/Region\": \"Switzerland\", \"Confirmed\": 29164, \"Deaths\": 1665, \"Recovered\": 22200.0, \"Active\": 5299.0, \"New cases\": 103, \"New deaths\": 55, \"New recovered\": 400}, {\"Unnamed: 0\": 18028, \"Date\": \"2020-04-27T00:00:00\", \"Country/Region\": \"US\", \"Confirmed\": 990983, \"Deaths\": 57235, \"Recovered\": 111424.0, \"Active\": 822324.0, \"New cases\": 22465, \"New deaths\": 1425, \"New recovered\": 4436}, {\"Unnamed: 0\": 18032, \"Date\": \"2020-04-27T00:00:00\", \"Country/Region\": \"United Kingdom\", \"Confirmed\": 163630, \"Deaths\": 24473, \"Recovered\": 807.0, \"Active\": 138350.0, \"New cases\": 4704, \"New deaths\": 341, \"New recovered\": 29}, {\"Unnamed: 0\": 18074, \"Date\": \"2020-04-28T00:00:00\", \"Country/Region\": \"Canada\", \"Confirmed\": 51137, \"Deaths\": 2982, \"Recovered\": 19231.0, \"Active\": 28924.0, \"New cases\": 1534, \"New deaths\": 142, \"New recovered\": 963}, {\"Unnamed: 0\": 18078, \"Date\": \"2020-04-28T00:00:00\", \"Country/Region\": \"China\", \"Confirmed\": 83940, \"Deaths\": 4637, \"Recovered\": 76850.0, \"Active\": 2453.0, \"New cases\": 22, \"New deaths\": 0, \"New recovered\": 48}, {\"Unnamed: 0\": 18103, \"Date\": \"2020-04-28T00:00:00\", \"Country/Region\": \"France\", \"Confirmed\": 169053, \"Deaths\": 23663, \"Recovered\": 46886.0, \"Active\": 98504.0, \"New cases\": 3090, \"New deaths\": 367, \"New recovered\": 1373}, {\"Unnamed: 0\": 18107, \"Date\": \"2020-04-28T00:00:00\", \"Country/Region\": \"Germany\", \"Confirmed\": 159912, \"Deaths\": 6314, \"Recovered\": 117400.0, \"Active\": 36198.0, \"New cases\": 1154, \"New deaths\": 188, \"New recovered\": 2900}, {\"Unnamed: 0\": 18120, \"Date\": \"2020-04-28T00:00:00\", \"Country/Region\": \"India\", \"Confirmed\": 31324, \"Deaths\": 1008, \"Recovered\": 7747.0, \"Active\": 22569.0, \"New cases\": 1873, \"New deaths\": 69, \"New recovered\": 610}, {\"Unnamed: 0\": 18122, \"Date\": \"2020-04-28T00:00:00\", \"Country/Region\": \"Iran\", \"Confirmed\": 92584, \"Deaths\": 5877, \"Recovered\": 72439.0, \"Active\": 14268.0, \"New cases\": 1112, \"New deaths\": 71, \"New recovered\": 1506}, {\"Unnamed: 0\": 18126, \"Date\": \"2020-04-28T00:00:00\", \"Country/Region\": \"Italy\", \"Confirmed\": 201505, \"Deaths\": 27359, \"Recovered\": 68941.0, \"Active\": 105205.0, \"New cases\": 2091, \"New deaths\": 382, \"New recovered\": 2317}, {\"Unnamed: 0\": 18198, \"Date\": \"2020-04-28T00:00:00\", \"Country/Region\": \"Spain\", \"Confirmed\": 210773, \"Deaths\": 23822, \"Recovered\": 102548.0, \"Active\": 84403.0, \"New cases\": 1308, \"New deaths\": 301, \"New recovered\": 1673}, {\"Unnamed: 0\": 18203, \"Date\": \"2020-04-28T00:00:00\", \"Country/Region\": \"Switzerland\", \"Confirmed\": 29264, \"Deaths\": 1699, \"Recovered\": 22600.0, \"Active\": 4965.0, \"New cases\": 100, \"New deaths\": 34, \"New recovered\": 400}, {\"Unnamed: 0\": 18214, \"Date\": \"2020-04-28T00:00:00\", \"Country/Region\": \"US\", \"Confirmed\": 1015518, \"Deaths\": 59454, \"Recovered\": 115936.0, \"Active\": 840128.0, \"New cases\": 24535, \"New deaths\": 2219, \"New recovered\": 4512}, {\"Unnamed: 0\": 18218, \"Date\": \"2020-04-28T00:00:00\", \"Country/Region\": \"United Kingdom\", \"Confirmed\": 168357, \"Deaths\": 25386, \"Recovered\": 813.0, \"Active\": 142158.0, \"New cases\": 4727, \"New deaths\": 913, \"New recovered\": 6}, {\"Unnamed: 0\": 18260, \"Date\": \"2020-04-29T00:00:00\", \"Country/Region\": \"Canada\", \"Confirmed\": 52852, \"Deaths\": 3154, \"Recovered\": 20327.0, \"Active\": 29371.0, \"New cases\": 1715, \"New deaths\": 172, \"New recovered\": 1096}, {\"Unnamed: 0\": 18264, \"Date\": \"2020-04-29T00:00:00\", \"Country/Region\": \"China\", \"Confirmed\": 83944, \"Deaths\": 4637, \"Recovered\": 76902.0, \"Active\": 2405.0, \"New cases\": 4, \"New deaths\": 0, \"New recovered\": 52}, {\"Unnamed: 0\": 18289, \"Date\": \"2020-04-29T00:00:00\", \"Country/Region\": \"France\", \"Confirmed\": 166543, \"Deaths\": 24090, \"Recovered\": 48228.0, \"Active\": 94225.0, \"New cases\": 0, \"New deaths\": 427, \"New recovered\": 1342}, {\"Unnamed: 0\": 18293, \"Date\": \"2020-04-29T00:00:00\", \"Country/Region\": \"Germany\", \"Confirmed\": 161539, \"Deaths\": 6467, \"Recovered\": 120400.0, \"Active\": 34672.0, \"New cases\": 1627, \"New deaths\": 153, \"New recovered\": 3000}, {\"Unnamed: 0\": 18306, \"Date\": \"2020-04-29T00:00:00\", \"Country/Region\": \"India\", \"Confirmed\": 33062, \"Deaths\": 1079, \"Recovered\": 8437.0, \"Active\": 23546.0, \"New cases\": 1738, \"New deaths\": 71, \"New recovered\": 690}, {\"Unnamed: 0\": 18308, \"Date\": \"2020-04-29T00:00:00\", \"Country/Region\": \"Iran\", \"Confirmed\": 93657, \"Deaths\": 5957, \"Recovered\": 73791.0, \"Active\": 13909.0, \"New cases\": 1073, \"New deaths\": 80, \"New recovered\": 1352}, {\"Unnamed: 0\": 18312, \"Date\": \"2020-04-29T00:00:00\", \"Country/Region\": \"Italy\", \"Confirmed\": 203591, \"Deaths\": 27682, \"Recovered\": 71252.0, \"Active\": 104657.0, \"New cases\": 2086, \"New deaths\": 323, \"New recovered\": 2311}, {\"Unnamed: 0\": 18384, \"Date\": \"2020-04-29T00:00:00\", \"Country/Region\": \"Spain\", \"Confirmed\": 212917, \"Deaths\": 24275, \"Recovered\": 108947.0, \"Active\": 79695.0, \"New cases\": 2144, \"New deaths\": 453, \"New recovered\": 6399}, {\"Unnamed: 0\": 18389, \"Date\": \"2020-04-29T00:00:00\", \"Country/Region\": \"Switzerland\", \"Confirmed\": 29407, \"Deaths\": 1716, \"Recovered\": 22600.0, \"Active\": 5091.0, \"New cases\": 143, \"New deaths\": 17, \"New recovered\": 0}, {\"Unnamed: 0\": 18400, \"Date\": \"2020-04-29T00:00:00\", \"Country/Region\": \"US\", \"Confirmed\": 1043038, \"Deaths\": 61960, \"Recovered\": 120720.0, \"Active\": 860358.0, \"New cases\": 27520, \"New deaths\": 2506, \"New recovered\": 4784}, {\"Unnamed: 0\": 18404, \"Date\": \"2020-04-29T00:00:00\", \"Country/Region\": \"United Kingdom\", \"Confirmed\": 173807, \"Deaths\": 26183, \"Recovered\": 857.0, \"Active\": 146767.0, \"New cases\": 5450, \"New deaths\": 797, \"New recovered\": 44}, {\"Unnamed: 0\": 18446, \"Date\": \"2020-04-30T00:00:00\", \"Country/Region\": \"Canada\", \"Confirmed\": 54444, \"Deaths\": 3309, \"Recovered\": 21424.0, \"Active\": 29711.0, \"New cases\": 1592, \"New deaths\": 155, \"New recovered\": 1097}, {\"Unnamed: 0\": 18450, \"Date\": \"2020-04-30T00:00:00\", \"Country/Region\": \"China\", \"Confirmed\": 83956, \"Deaths\": 4637, \"Recovered\": 76951.0, \"Active\": 2368.0, \"New cases\": 12, \"New deaths\": 0, \"New recovered\": 49}, {\"Unnamed: 0\": 18475, \"Date\": \"2020-04-30T00:00:00\", \"Country/Region\": \"France\", \"Confirmed\": 167299, \"Deaths\": 24379, \"Recovered\": 49476.0, \"Active\": 93444.0, \"New cases\": 756, \"New deaths\": 289, \"New recovered\": 1248}, {\"Unnamed: 0\": 18479, \"Date\": \"2020-04-30T00:00:00\", \"Country/Region\": \"Germany\", \"Confirmed\": 163009, \"Deaths\": 6623, \"Recovered\": 123500.0, \"Active\": 32886.0, \"New cases\": 1470, \"New deaths\": 156, \"New recovered\": 3100}, {\"Unnamed: 0\": 18492, \"Date\": \"2020-04-30T00:00:00\", \"Country/Region\": \"India\", \"Confirmed\": 34863, \"Deaths\": 1154, \"Recovered\": 9068.0, \"Active\": 24641.0, \"New cases\": 1801, \"New deaths\": 75, \"New recovered\": 631}, {\"Unnamed: 0\": 18494, \"Date\": \"2020-04-30T00:00:00\", \"Country/Region\": \"Iran\", \"Confirmed\": 94640, \"Deaths\": 6028, \"Recovered\": 75103.0, \"Active\": 13509.0, \"New cases\": 983, \"New deaths\": 71, \"New recovered\": 1312}, {\"Unnamed: 0\": 18498, \"Date\": \"2020-04-30T00:00:00\", \"Country/Region\": \"Italy\", \"Confirmed\": 205463, \"Deaths\": 27967, \"Recovered\": 75945.0, \"Active\": 101551.0, \"New cases\": 1872, \"New deaths\": 285, \"New recovered\": 4693}, {\"Unnamed: 0\": 18570, \"Date\": \"2020-04-30T00:00:00\", \"Country/Region\": \"Spain\", \"Confirmed\": 213435, \"Deaths\": 24543, \"Recovered\": 112050.0, \"Active\": 76842.0, \"New cases\": 518, \"New deaths\": 268, \"New recovered\": 3103}, {\"Unnamed: 0\": 18575, \"Date\": \"2020-04-30T00:00:00\", \"Country/Region\": \"Switzerland\", \"Confirmed\": 29586, \"Deaths\": 1737, \"Recovered\": 23400.0, \"Active\": 4449.0, \"New cases\": 179, \"New deaths\": 21, \"New recovered\": 800}, {\"Unnamed: 0\": 18586, \"Date\": \"2020-04-30T00:00:00\", \"Country/Region\": \"US\", \"Confirmed\": 1072667, \"Deaths\": 64256, \"Recovered\": 153947.0, \"Active\": 854464.0, \"New cases\": 29629, \"New deaths\": 2296, \"New recovered\": 33227}, {\"Unnamed: 0\": 18590, \"Date\": \"2020-04-30T00:00:00\", \"Country/Region\": \"United Kingdom\", \"Confirmed\": 178771, \"Deaths\": 26859, \"Recovered\": 859.0, \"Active\": 151053.0, \"New cases\": 4964, \"New deaths\": 676, \"New recovered\": 2}, {\"Unnamed: 0\": 18632, \"Date\": \"2020-05-01T00:00:00\", \"Country/Region\": \"Canada\", \"Confirmed\": 56329, \"Deaths\": 3536, \"Recovered\": 22764.0, \"Active\": 30029.0, \"New cases\": 1885, \"New deaths\": 227, \"New recovered\": 1340}, {\"Unnamed: 0\": 18636, \"Date\": \"2020-05-01T00:00:00\", \"Country/Region\": \"China\", \"Confirmed\": 83959, \"Deaths\": 4637, \"Recovered\": 77001.0, \"Active\": 2321.0, \"New cases\": 3, \"New deaths\": 0, \"New recovered\": 50}, {\"Unnamed: 0\": 18661, \"Date\": \"2020-05-01T00:00:00\", \"Country/Region\": \"France\", \"Confirmed\": 167305, \"Deaths\": 24597, \"Recovered\": 50212.0, \"Active\": 92496.0, \"New cases\": 6, \"New deaths\": 218, \"New recovered\": 736}, {\"Unnamed: 0\": 18665, \"Date\": \"2020-05-01T00:00:00\", \"Country/Region\": \"Germany\", \"Confirmed\": 164077, \"Deaths\": 6736, \"Recovered\": 126900.0, \"Active\": 30441.0, \"New cases\": 1068, \"New deaths\": 113, \"New recovered\": 3400}, {\"Unnamed: 0\": 18678, \"Date\": \"2020-05-01T00:00:00\", \"Country/Region\": \"India\", \"Confirmed\": 37257, \"Deaths\": 1223, \"Recovered\": 10007.0, \"Active\": 26027.0, \"New cases\": 2394, \"New deaths\": 69, \"New recovered\": 939}, {\"Unnamed: 0\": 18680, \"Date\": \"2020-05-01T00:00:00\", \"Country/Region\": \"Iran\", \"Confirmed\": 95646, \"Deaths\": 6091, \"Recovered\": 76318.0, \"Active\": 13237.0, \"New cases\": 1006, \"New deaths\": 63, \"New recovered\": 1215}, {\"Unnamed: 0\": 18684, \"Date\": \"2020-05-01T00:00:00\", \"Country/Region\": \"Italy\", \"Confirmed\": 207428, \"Deaths\": 28236, \"Recovered\": 78249.0, \"Active\": 100943.0, \"New cases\": 1965, \"New deaths\": 269, \"New recovered\": 2304}, {\"Unnamed: 0\": 18756, \"Date\": \"2020-05-01T00:00:00\", \"Country/Region\": \"Spain\", \"Confirmed\": 215216, \"Deaths\": 24543, \"Recovered\": 112050.0, \"Active\": 78623.0, \"New cases\": 1781, \"New deaths\": 0, \"New recovered\": 0}, {\"Unnamed: 0\": 18761, \"Date\": \"2020-05-01T00:00:00\", \"Country/Region\": \"Switzerland\", \"Confirmed\": 29705, \"Deaths\": 1754, \"Recovered\": 23900.0, \"Active\": 4051.0, \"New cases\": 119, \"New deaths\": 17, \"New recovered\": 500}, {\"Unnamed: 0\": 18772, \"Date\": \"2020-05-01T00:00:00\", \"Country/Region\": \"US\", \"Confirmed\": 1106829, \"Deaths\": 66125, \"Recovered\": 164015.0, \"Active\": 876689.0, \"New cases\": 34162, \"New deaths\": 1869, \"New recovered\": 10068}, {\"Unnamed: 0\": 18776, \"Date\": \"2020-05-01T00:00:00\", \"Country/Region\": \"United Kingdom\", \"Confirmed\": 183501, \"Deaths\": 27601, \"Recovered\": 892.0, \"Active\": 155008.0, \"New cases\": 4730, \"New deaths\": 742, \"New recovered\": 33}, {\"Unnamed: 0\": 18818, \"Date\": \"2020-05-02T00:00:00\", \"Country/Region\": \"Canada\", \"Confirmed\": 57912, \"Deaths\": 3683, \"Recovered\": 23814.0, \"Active\": 30415.0, \"New cases\": 1583, \"New deaths\": 147, \"New recovered\": 1050}, {\"Unnamed: 0\": 18822, \"Date\": \"2020-05-02T00:00:00\", \"Country/Region\": \"China\", \"Confirmed\": 83959, \"Deaths\": 4637, \"Recovered\": 77014.0, \"Active\": 2308.0, \"New cases\": 0, \"New deaths\": 0, \"New recovered\": 13}, {\"Unnamed: 0\": 18847, \"Date\": \"2020-05-02T00:00:00\", \"Country/Region\": \"France\", \"Confirmed\": 168518, \"Deaths\": 24763, \"Recovered\": 50663.0, \"Active\": 93092.0, \"New cases\": 1213, \"New deaths\": 166, \"New recovered\": 451}, {\"Unnamed: 0\": 18851, \"Date\": \"2020-05-02T00:00:00\", \"Country/Region\": \"Germany\", \"Confirmed\": 164967, \"Deaths\": 6812, \"Recovered\": 129000.0, \"Active\": 29155.0, \"New cases\": 890, \"New deaths\": 76, \"New recovered\": 2100}, {\"Unnamed: 0\": 18864, \"Date\": \"2020-05-02T00:00:00\", \"Country/Region\": \"India\", \"Confirmed\": 39699, \"Deaths\": 1323, \"Recovered\": 10819.0, \"Active\": 27557.0, \"New cases\": 2442, \"New deaths\": 100, \"New recovered\": 812}, {\"Unnamed: 0\": 18866, \"Date\": \"2020-05-02T00:00:00\", \"Country/Region\": \"Iran\", \"Confirmed\": 96448, \"Deaths\": 6156, \"Recovered\": 77350.0, \"Active\": 12942.0, \"New cases\": 802, \"New deaths\": 65, \"New recovered\": 1032}, {\"Unnamed: 0\": 18870, \"Date\": \"2020-05-02T00:00:00\", \"Country/Region\": \"Italy\", \"Confirmed\": 209328, \"Deaths\": 28710, \"Recovered\": 79914.0, \"Active\": 100704.0, \"New cases\": 1900, \"New deaths\": 474, \"New recovered\": 1665}, {\"Unnamed: 0\": 18942, \"Date\": \"2020-05-02T00:00:00\", \"Country/Region\": \"Spain\", \"Confirmed\": 216582, \"Deaths\": 25100, \"Recovered\": 117248.0, \"Active\": 74234.0, \"New cases\": 1366, \"New deaths\": 557, \"New recovered\": 5198}, {\"Unnamed: 0\": 18947, \"Date\": \"2020-05-02T00:00:00\", \"Country/Region\": \"Switzerland\", \"Confirmed\": 29817, \"Deaths\": 1762, \"Recovered\": 24200.0, \"Active\": 3855.0, \"New cases\": 112, \"New deaths\": 8, \"New recovered\": 300}, {\"Unnamed: 0\": 18958, \"Date\": \"2020-05-02T00:00:00\", \"Country/Region\": \"US\", \"Confirmed\": 1136024, \"Deaths\": 67681, \"Recovered\": 175382.0, \"Active\": 892961.0, \"New cases\": 29195, \"New deaths\": 1556, \"New recovered\": 11367}, {\"Unnamed: 0\": 18962, \"Date\": \"2020-05-02T00:00:00\", \"Country/Region\": \"United Kingdom\", \"Confirmed\": 186731, \"Deaths\": 28223, \"Recovered\": 896.0, \"Active\": 157612.0, \"New cases\": 3230, \"New deaths\": 622, \"New recovered\": 4}, {\"Unnamed: 0\": 19004, \"Date\": \"2020-05-03T00:00:00\", \"Country/Region\": \"Canada\", \"Confirmed\": 60490, \"Deaths\": 3794, \"Recovered\": 24921.0, \"Active\": 31775.0, \"New cases\": 2578, \"New deaths\": 111, \"New recovered\": 1107}, {\"Unnamed: 0\": 19008, \"Date\": \"2020-05-03T00:00:00\", \"Country/Region\": \"China\", \"Confirmed\": 83964, \"Deaths\": 4637, \"Recovered\": 77112.0, \"Active\": 2215.0, \"New cases\": 5, \"New deaths\": 0, \"New recovered\": 98}, {\"Unnamed: 0\": 19033, \"Date\": \"2020-05-03T00:00:00\", \"Country/Region\": \"France\", \"Confirmed\": 168925, \"Deaths\": 24900, \"Recovered\": 50885.0, \"Active\": 93140.0, \"New cases\": 407, \"New deaths\": 137, \"New recovered\": 222}, {\"Unnamed: 0\": 19037, \"Date\": \"2020-05-03T00:00:00\", \"Country/Region\": \"Germany\", \"Confirmed\": 165664, \"Deaths\": 6866, \"Recovered\": 130600.0, \"Active\": 28198.0, \"New cases\": 697, \"New deaths\": 54, \"New recovered\": 1600}, {\"Unnamed: 0\": 19050, \"Date\": \"2020-05-03T00:00:00\", \"Country/Region\": \"India\", \"Confirmed\": 42505, \"Deaths\": 1391, \"Recovered\": 11775.0, \"Active\": 29339.0, \"New cases\": 2806, \"New deaths\": 68, \"New recovered\": 956}, {\"Unnamed: 0\": 19052, \"Date\": \"2020-05-03T00:00:00\", \"Country/Region\": \"Iran\", \"Confirmed\": 97424, \"Deaths\": 6203, \"Recovered\": 78422.0, \"Active\": 12799.0, \"New cases\": 976, \"New deaths\": 47, \"New recovered\": 1072}, {\"Unnamed: 0\": 19056, \"Date\": \"2020-05-03T00:00:00\", \"Country/Region\": \"Italy\", \"Confirmed\": 210717, \"Deaths\": 28884, \"Recovered\": 81654.0, \"Active\": 100179.0, \"New cases\": 1389, \"New deaths\": 174, \"New recovered\": 1740}, {\"Unnamed: 0\": 19128, \"Date\": \"2020-05-03T00:00:00\", \"Country/Region\": \"Spain\", \"Confirmed\": 217466, \"Deaths\": 25264, \"Recovered\": 118902.0, \"Active\": 73300.0, \"New cases\": 884, \"New deaths\": 164, \"New recovered\": 1654}, {\"Unnamed: 0\": 19133, \"Date\": \"2020-05-03T00:00:00\", \"Country/Region\": \"Switzerland\", \"Confirmed\": 29905, \"Deaths\": 1762, \"Recovered\": 24500.0, \"Active\": 3643.0, \"New cases\": 88, \"New deaths\": 0, \"New recovered\": 300}, {\"Unnamed: 0\": 19144, \"Date\": \"2020-05-03T00:00:00\", \"Country/Region\": \"US\", \"Confirmed\": 1161611, \"Deaths\": 68777, \"Recovered\": 180152.0, \"Active\": 912682.0, \"New cases\": 25587, \"New deaths\": 1096, \"New recovered\": 4770}, {\"Unnamed: 0\": 19148, \"Date\": \"2020-05-03T00:00:00\", \"Country/Region\": \"United Kingdom\", \"Confirmed\": 189708, \"Deaths\": 28538, \"Recovered\": 901.0, \"Active\": 160269.0, \"New cases\": 2977, \"New deaths\": 315, \"New recovered\": 5}, {\"Unnamed: 0\": 19190, \"Date\": \"2020-05-04T00:00:00\", \"Country/Region\": \"Canada\", \"Confirmed\": 61943, \"Deaths\": 4002, \"Recovered\": 26030.0, \"Active\": 31911.0, \"New cases\": 1453, \"New deaths\": 208, \"New recovered\": 1109}, {\"Unnamed: 0\": 19194, \"Date\": \"2020-05-04T00:00:00\", \"Country/Region\": \"China\", \"Confirmed\": 83966, \"Deaths\": 4637, \"Recovered\": 77218.0, \"Active\": 2111.0, \"New cases\": 2, \"New deaths\": 0, \"New recovered\": 106}, {\"Unnamed: 0\": 19219, \"Date\": \"2020-05-04T00:00:00\", \"Country/Region\": \"France\", \"Confirmed\": 169583, \"Deaths\": 25204, \"Recovered\": 51476.0, \"Active\": 92903.0, \"New cases\": 658, \"New deaths\": 304, \"New recovered\": 591}, {\"Unnamed: 0\": 19223, \"Date\": \"2020-05-04T00:00:00\", \"Country/Region\": \"Germany\", \"Confirmed\": 166152, \"Deaths\": 6993, \"Recovered\": 132700.0, \"Active\": 26459.0, \"New cases\": 488, \"New deaths\": 127, \"New recovered\": 2100}, {\"Unnamed: 0\": 19236, \"Date\": \"2020-05-04T00:00:00\", \"Country/Region\": \"India\", \"Confirmed\": 46437, \"Deaths\": 1566, \"Recovered\": 12847.0, \"Active\": 32024.0, \"New cases\": 3932, \"New deaths\": 175, \"New recovered\": 1072}, {\"Unnamed: 0\": 19238, \"Date\": \"2020-05-04T00:00:00\", \"Country/Region\": \"Iran\", \"Confirmed\": 98647, \"Deaths\": 6277, \"Recovered\": 79379.0, \"Active\": 12991.0, \"New cases\": 1223, \"New deaths\": 74, \"New recovered\": 957}, {\"Unnamed: 0\": 19242, \"Date\": \"2020-05-04T00:00:00\", \"Country/Region\": \"Italy\", \"Confirmed\": 211938, \"Deaths\": 29079, \"Recovered\": 82879.0, \"Active\": 99980.0, \"New cases\": 1221, \"New deaths\": 195, \"New recovered\": 1225}, {\"Unnamed: 0\": 19314, \"Date\": \"2020-05-04T00:00:00\", \"Country/Region\": \"Spain\", \"Confirmed\": 218011, \"Deaths\": 25428, \"Recovered\": 121343.0, \"Active\": 71240.0, \"New cases\": 545, \"New deaths\": 164, \"New recovered\": 2441}, {\"Unnamed: 0\": 19319, \"Date\": \"2020-05-04T00:00:00\", \"Country/Region\": \"Switzerland\", \"Confirmed\": 29981, \"Deaths\": 1784, \"Recovered\": 25200.0, \"Active\": 2997.0, \"New cases\": 76, \"New deaths\": 22, \"New recovered\": 700}, {\"Unnamed: 0\": 19330, \"Date\": \"2020-05-04T00:00:00\", \"Country/Region\": \"US\", \"Confirmed\": 1184086, \"Deaths\": 70086, \"Recovered\": 187180.0, \"Active\": 926820.0, \"New cases\": 22475, \"New deaths\": 1309, \"New recovered\": 7028}, {\"Unnamed: 0\": 19334, \"Date\": \"2020-05-04T00:00:00\", \"Country/Region\": \"United Kingdom\", \"Confirmed\": 193091, \"Deaths\": 28827, \"Recovered\": 910.0, \"Active\": 163354.0, \"New cases\": 3383, \"New deaths\": 289, \"New recovered\": 9}, {\"Unnamed: 0\": 19376, \"Date\": \"2020-05-05T00:00:00\", \"Country/Region\": \"Canada\", \"Confirmed\": 63201, \"Deaths\": 4189, \"Recovered\": 27006.0, \"Active\": 32006.0, \"New cases\": 1258, \"New deaths\": 187, \"New recovered\": 976}, {\"Unnamed: 0\": 19380, \"Date\": \"2020-05-05T00:00:00\", \"Country/Region\": \"China\", \"Confirmed\": 83968, \"Deaths\": 4637, \"Recovered\": 77296.0, \"Active\": 2035.0, \"New cases\": 2, \"New deaths\": 0, \"New recovered\": 78}, {\"Unnamed: 0\": 19405, \"Date\": \"2020-05-05T00:00:00\", \"Country/Region\": \"France\", \"Confirmed\": 170687, \"Deaths\": 25537, \"Recovered\": 52842.0, \"Active\": 92308.0, \"New cases\": 1104, \"New deaths\": 333, \"New recovered\": 1366}, {\"Unnamed: 0\": 19409, \"Date\": \"2020-05-05T00:00:00\", \"Country/Region\": \"Germany\", \"Confirmed\": 167007, \"Deaths\": 6993, \"Recovered\": 135100.0, \"Active\": 24914.0, \"New cases\": 855, \"New deaths\": 0, \"New recovered\": 2400}, {\"Unnamed: 0\": 19422, \"Date\": \"2020-05-05T00:00:00\", \"Country/Region\": \"India\", \"Confirmed\": 49400, \"Deaths\": 1693, \"Recovered\": 14142.0, \"Active\": 33565.0, \"New cases\": 2963, \"New deaths\": 127, \"New recovered\": 1295}, {\"Unnamed: 0\": 19424, \"Date\": \"2020-05-05T00:00:00\", \"Country/Region\": \"Iran\", \"Confirmed\": 99970, \"Deaths\": 6340, \"Recovered\": 80475.0, \"Active\": 13155.0, \"New cases\": 1323, \"New deaths\": 63, \"New recovered\": 1096}, {\"Unnamed: 0\": 19428, \"Date\": \"2020-05-05T00:00:00\", \"Country/Region\": \"Italy\", \"Confirmed\": 213013, \"Deaths\": 29315, \"Recovered\": 85231.0, \"Active\": 98467.0, \"New cases\": 1075, \"New deaths\": 236, \"New recovered\": 2352}, {\"Unnamed: 0\": 19500, \"Date\": \"2020-05-05T00:00:00\", \"Country/Region\": \"Spain\", \"Confirmed\": 219329, \"Deaths\": 25613, \"Recovered\": 123486.0, \"Active\": 70230.0, \"New cases\": 1318, \"New deaths\": 185, \"New recovered\": 2143}, {\"Unnamed: 0\": 19505, \"Date\": \"2020-05-05T00:00:00\", \"Country/Region\": \"Switzerland\", \"Confirmed\": 30009, \"Deaths\": 1795, \"Recovered\": 25400.0, \"Active\": 2814.0, \"New cases\": 28, \"New deaths\": 11, \"New recovered\": 200}, {\"Unnamed: 0\": 19516, \"Date\": \"2020-05-05T00:00:00\", \"Country/Region\": \"US\", \"Confirmed\": 1208271, \"Deaths\": 72393, \"Recovered\": 189791.0, \"Active\": 946087.0, \"New cases\": 24185, \"New deaths\": 2307, \"New recovered\": 2611}, {\"Unnamed: 0\": 19520, \"Date\": \"2020-05-05T00:00:00\", \"Country/Region\": \"United Kingdom\", \"Confirmed\": 196780, \"Deaths\": 29520, \"Recovered\": 926.0, \"Active\": 166334.0, \"New cases\": 3689, \"New deaths\": 693, \"New recovered\": 16}, {\"Unnamed: 0\": 19562, \"Date\": \"2020-05-06T00:00:00\", \"Country/Region\": \"Canada\", \"Confirmed\": 64680, \"Deaths\": 4365, \"Recovered\": 28184.0, \"Active\": 32131.0, \"New cases\": 1479, \"New deaths\": 176, \"New recovered\": 1178}, {\"Unnamed: 0\": 19566, \"Date\": \"2020-05-06T00:00:00\", \"Country/Region\": \"China\", \"Confirmed\": 83970, \"Deaths\": 4637, \"Recovered\": 77355.0, \"Active\": 1978.0, \"New cases\": 2, \"New deaths\": 0, \"New recovered\": 59}, {\"Unnamed: 0\": 19591, \"Date\": \"2020-05-06T00:00:00\", \"Country/Region\": \"France\", \"Confirmed\": 174224, \"Deaths\": 25812, \"Recovered\": 54079.0, \"Active\": 94333.0, \"New cases\": 3537, \"New deaths\": 275, \"New recovered\": 1237}, {\"Unnamed: 0\": 19595, \"Date\": \"2020-05-06T00:00:00\", \"Country/Region\": \"Germany\", \"Confirmed\": 168162, \"Deaths\": 7275, \"Recovered\": 139900.0, \"Active\": 20987.0, \"New cases\": 1155, \"New deaths\": 282, \"New recovered\": 4800}, {\"Unnamed: 0\": 19608, \"Date\": \"2020-05-06T00:00:00\", \"Country/Region\": \"India\", \"Confirmed\": 52987, \"Deaths\": 1785, \"Recovered\": 15331.0, \"Active\": 35871.0, \"New cases\": 3587, \"New deaths\": 92, \"New recovered\": 1189}, {\"Unnamed: 0\": 19610, \"Date\": \"2020-05-06T00:00:00\", \"Country/Region\": \"Iran\", \"Confirmed\": 101650, \"Deaths\": 6418, \"Recovered\": 81587.0, \"Active\": 13645.0, \"New cases\": 1680, \"New deaths\": 78, \"New recovered\": 1112}, {\"Unnamed: 0\": 19614, \"Date\": \"2020-05-06T00:00:00\", \"Country/Region\": \"Italy\", \"Confirmed\": 214457, \"Deaths\": 29684, \"Recovered\": 93245.0, \"Active\": 91528.0, \"New cases\": 1444, \"New deaths\": 369, \"New recovered\": 8014}, {\"Unnamed: 0\": 19686, \"Date\": \"2020-05-06T00:00:00\", \"Country/Region\": \"Spain\", \"Confirmed\": 220325, \"Deaths\": 25857, \"Recovered\": 126002.0, \"Active\": 68466.0, \"New cases\": 996, \"New deaths\": 244, \"New recovered\": 2516}, {\"Unnamed: 0\": 19691, \"Date\": \"2020-05-06T00:00:00\", \"Country/Region\": \"Switzerland\", \"Confirmed\": 30060, \"Deaths\": 1805, \"Recovered\": 25700.0, \"Active\": 2555.0, \"New cases\": 51, \"New deaths\": 10, \"New recovered\": 300}, {\"Unnamed: 0\": 19702, \"Date\": \"2020-05-06T00:00:00\", \"Country/Region\": \"US\", \"Confirmed\": 1233527, \"Deaths\": 74851, \"Recovered\": 189910.0, \"Active\": 968766.0, \"New cases\": 25256, \"New deaths\": 2458, \"New recovered\": 119}, {\"Unnamed: 0\": 19706, \"Date\": \"2020-05-06T00:00:00\", \"Country/Region\": \"United Kingdom\", \"Confirmed\": 200616, \"Deaths\": 30172, \"Recovered\": 934.0, \"Active\": 169510.0, \"New cases\": 3836, \"New deaths\": 652, \"New recovered\": 8}, {\"Unnamed: 0\": 19748, \"Date\": \"2020-05-07T00:00:00\", \"Country/Region\": \"Canada\", \"Confirmed\": 66187, \"Deaths\": 4540, \"Recovered\": 29260.0, \"Active\": 32387.0, \"New cases\": 1507, \"New deaths\": 175, \"New recovered\": 1076}, {\"Unnamed: 0\": 19752, \"Date\": \"2020-05-07T00:00:00\", \"Country/Region\": \"China\", \"Confirmed\": 83975, \"Deaths\": 4637, \"Recovered\": 77403.0, \"Active\": 1935.0, \"New cases\": 5, \"New deaths\": 0, \"New recovered\": 48}, {\"Unnamed: 0\": 19777, \"Date\": \"2020-05-07T00:00:00\", \"Country/Region\": \"France\", \"Confirmed\": 174918, \"Deaths\": 25990, \"Recovered\": 55191.0, \"Active\": 93737.0, \"New cases\": 694, \"New deaths\": 178, \"New recovered\": 1112}, {\"Unnamed: 0\": 19781, \"Date\": \"2020-05-07T00:00:00\", \"Country/Region\": \"Germany\", \"Confirmed\": 169430, \"Deaths\": 7392, \"Recovered\": 141700.0, \"Active\": 20338.0, \"New cases\": 1268, \"New deaths\": 117, \"New recovered\": 1800}, {\"Unnamed: 0\": 19794, \"Date\": \"2020-05-07T00:00:00\", \"Country/Region\": \"India\", \"Confirmed\": 56351, \"Deaths\": 1889, \"Recovered\": 16776.0, \"Active\": 37686.0, \"New cases\": 3364, \"New deaths\": 104, \"New recovered\": 1445}, {\"Unnamed: 0\": 19796, \"Date\": \"2020-05-07T00:00:00\", \"Country/Region\": \"Iran\", \"Confirmed\": 103135, \"Deaths\": 6486, \"Recovered\": 82744.0, \"Active\": 13905.0, \"New cases\": 1485, \"New deaths\": 68, \"New recovered\": 1157}, {\"Unnamed: 0\": 19800, \"Date\": \"2020-05-07T00:00:00\", \"Country/Region\": \"Italy\", \"Confirmed\": 215858, \"Deaths\": 29958, \"Recovered\": 96276.0, \"Active\": 89624.0, \"New cases\": 1401, \"New deaths\": 274, \"New recovered\": 3031}, {\"Unnamed: 0\": 19872, \"Date\": \"2020-05-07T00:00:00\", \"Country/Region\": \"Spain\", \"Confirmed\": 221447, \"Deaths\": 26070, \"Recovered\": 128511.0, \"Active\": 66866.0, \"New cases\": 1122, \"New deaths\": 213, \"New recovered\": 2509}, {\"Unnamed: 0\": 19877, \"Date\": \"2020-05-07T00:00:00\", \"Country/Region\": \"Switzerland\", \"Confirmed\": 30126, \"Deaths\": 1810, \"Recovered\": 25900.0, \"Active\": 2416.0, \"New cases\": 66, \"New deaths\": 5, \"New recovered\": 200}, {\"Unnamed: 0\": 19888, \"Date\": \"2020-05-07T00:00:00\", \"Country/Region\": \"US\", \"Confirmed\": 1261409, \"Deaths\": 76770, \"Recovered\": 195036.0, \"Active\": 989603.0, \"New cases\": 27882, \"New deaths\": 1919, \"New recovered\": 5126}, {\"Unnamed: 0\": 19892, \"Date\": \"2020-05-07T00:00:00\", \"Country/Region\": \"United Kingdom\", \"Confirmed\": 204387, \"Deaths\": 30712, \"Recovered\": 970.0, \"Active\": 172705.0, \"New cases\": 3771, \"New deaths\": 540, \"New recovered\": 36}, {\"Unnamed: 0\": 19934, \"Date\": \"2020-05-08T00:00:00\", \"Country/Region\": \"Canada\", \"Confirmed\": 67660, \"Deaths\": 4696, \"Recovered\": 30239.0, \"Active\": 32725.0, \"New cases\": 1473, \"New deaths\": 156, \"New recovered\": 979}, {\"Unnamed: 0\": 19938, \"Date\": \"2020-05-08T00:00:00\", \"Country/Region\": \"China\", \"Confirmed\": 83976, \"Deaths\": 4637, \"Recovered\": 77419.0, \"Active\": 1920.0, \"New cases\": 1, \"New deaths\": 0, \"New recovered\": 16}, {\"Unnamed: 0\": 19963, \"Date\": \"2020-05-08T00:00:00\", \"Country/Region\": \"France\", \"Confirmed\": 176202, \"Deaths\": 26233, \"Recovered\": 55892.0, \"Active\": 94077.0, \"New cases\": 1284, \"New deaths\": 243, \"New recovered\": 701}, {\"Unnamed: 0\": 19967, \"Date\": \"2020-05-08T00:00:00\", \"Country/Region\": \"Germany\", \"Confirmed\": 170588, \"Deaths\": 7510, \"Recovered\": 141700.0, \"Active\": 21378.0, \"New cases\": 1158, \"New deaths\": 118, \"New recovered\": 0}, {\"Unnamed: 0\": 19980, \"Date\": \"2020-05-08T00:00:00\", \"Country/Region\": \"India\", \"Confirmed\": 59695, \"Deaths\": 1985, \"Recovered\": 17887.0, \"Active\": 39823.0, \"New cases\": 3344, \"New deaths\": 96, \"New recovered\": 1111}, {\"Unnamed: 0\": 19982, \"Date\": \"2020-05-08T00:00:00\", \"Country/Region\": \"Iran\", \"Confirmed\": 104691, \"Deaths\": 6541, \"Recovered\": 83837.0, \"Active\": 14313.0, \"New cases\": 1556, \"New deaths\": 55, \"New recovered\": 1093}, {\"Unnamed: 0\": 19986, \"Date\": \"2020-05-08T00:00:00\", \"Country/Region\": \"Italy\", \"Confirmed\": 217185, \"Deaths\": 30201, \"Recovered\": 99023.0, \"Active\": 87961.0, \"New cases\": 1327, \"New deaths\": 243, \"New recovered\": 2747}, {\"Unnamed: 0\": 20058, \"Date\": \"2020-05-08T00:00:00\", \"Country/Region\": \"Spain\", \"Confirmed\": 222857, \"Deaths\": 26299, \"Recovered\": 131148.0, \"Active\": 65410.0, \"New cases\": 1410, \"New deaths\": 229, \"New recovered\": 2637}, {\"Unnamed: 0\": 20063, \"Date\": \"2020-05-08T00:00:00\", \"Country/Region\": \"Switzerland\", \"Confirmed\": 30207, \"Deaths\": 1823, \"Recovered\": 26100.0, \"Active\": 2284.0, \"New cases\": 81, \"New deaths\": 13, \"New recovered\": 200}, {\"Unnamed: 0\": 20074, \"Date\": \"2020-05-08T00:00:00\", \"Country/Region\": \"US\", \"Confirmed\": 1288587, \"Deaths\": 78497, \"Recovered\": 198993.0, \"Active\": 1011097.0, \"New cases\": 27178, \"New deaths\": 1727, \"New recovered\": 3957}, {\"Unnamed: 0\": 20078, \"Date\": \"2020-05-08T00:00:00\", \"Country/Region\": \"United Kingdom\", \"Confirmed\": 207439, \"Deaths\": 31340, \"Recovered\": 997.0, \"Active\": 175102.0, \"New cases\": 3052, \"New deaths\": 628, \"New recovered\": 27}, {\"Unnamed: 0\": 20120, \"Date\": \"2020-05-09T00:00:00\", \"Country/Region\": \"Canada\", \"Confirmed\": 68904, \"Deaths\": 4822, \"Recovered\": 31262.0, \"Active\": 32820.0, \"New cases\": 1244, \"New deaths\": 126, \"New recovered\": 1023}, {\"Unnamed: 0\": 20124, \"Date\": \"2020-05-09T00:00:00\", \"Country/Region\": \"China\", \"Confirmed\": 83990, \"Deaths\": 4637, \"Recovered\": 77552.0, \"Active\": 1801.0, \"New cases\": 14, \"New deaths\": 0, \"New recovered\": 133}, {\"Unnamed: 0\": 20149, \"Date\": \"2020-05-09T00:00:00\", \"Country/Region\": \"France\", \"Confirmed\": 176782, \"Deaths\": 26313, \"Recovered\": 56148.0, \"Active\": 94321.0, \"New cases\": 580, \"New deaths\": 80, \"New recovered\": 256}, {\"Unnamed: 0\": 20153, \"Date\": \"2020-05-09T00:00:00\", \"Country/Region\": \"Germany\", \"Confirmed\": 171324, \"Deaths\": 7549, \"Recovered\": 143300.0, \"Active\": 20475.0, \"New cases\": 736, \"New deaths\": 39, \"New recovered\": 1600}, {\"Unnamed: 0\": 20166, \"Date\": \"2020-05-09T00:00:00\", \"Country/Region\": \"India\", \"Confirmed\": 62808, \"Deaths\": 2101, \"Recovered\": 19301.0, \"Active\": 41406.0, \"New cases\": 3113, \"New deaths\": 116, \"New recovered\": 1414}, {\"Unnamed: 0\": 20168, \"Date\": \"2020-05-09T00:00:00\", \"Country/Region\": \"Iran\", \"Confirmed\": 106220, \"Deaths\": 6589, \"Recovered\": 85064.0, \"Active\": 14567.0, \"New cases\": 1529, \"New deaths\": 48, \"New recovered\": 1227}, {\"Unnamed: 0\": 20172, \"Date\": \"2020-05-09T00:00:00\", \"Country/Region\": \"Italy\", \"Confirmed\": 218268, \"Deaths\": 30395, \"Recovered\": 103031.0, \"Active\": 84842.0, \"New cases\": 1083, \"New deaths\": 194, \"New recovered\": 4008}, {\"Unnamed: 0\": 20244, \"Date\": \"2020-05-09T00:00:00\", \"Country/Region\": \"Spain\", \"Confirmed\": 223578, \"Deaths\": 26478, \"Recovered\": 133952.0, \"Active\": 63148.0, \"New cases\": 721, \"New deaths\": 179, \"New recovered\": 2804}, {\"Unnamed: 0\": 20249, \"Date\": \"2020-05-09T00:00:00\", \"Country/Region\": \"Switzerland\", \"Confirmed\": 30251, \"Deaths\": 1830, \"Recovered\": 26400.0, \"Active\": 2021.0, \"New cases\": 44, \"New deaths\": 7, \"New recovered\": 300}, {\"Unnamed: 0\": 20260, \"Date\": \"2020-05-09T00:00:00\", \"Country/Region\": \"US\", \"Confirmed\": 1314320, \"Deaths\": 79976, \"Recovered\": 212534.0, \"Active\": 1021810.0, \"New cases\": 25733, \"New deaths\": 1479, \"New recovered\": 13541}, {\"Unnamed: 0\": 20264, \"Date\": \"2020-05-09T00:00:00\", \"Country/Region\": \"United Kingdom\", \"Confirmed\": 209589, \"Deaths\": 31685, \"Recovered\": 1001.0, \"Active\": 176903.0, \"New cases\": 2150, \"New deaths\": 345, \"New recovered\": 4}, {\"Unnamed: 0\": 20306, \"Date\": \"2020-05-10T00:00:00\", \"Country/Region\": \"Canada\", \"Confirmed\": 70077, \"Deaths\": 4990, \"Recovered\": 32109.0, \"Active\": 32978.0, \"New cases\": 1173, \"New deaths\": 168, \"New recovered\": 847}, {\"Unnamed: 0\": 20310, \"Date\": \"2020-05-10T00:00:00\", \"Country/Region\": \"China\", \"Confirmed\": 84010, \"Deaths\": 4637, \"Recovered\": 77592.0, \"Active\": 1781.0, \"New cases\": 20, \"New deaths\": 0, \"New recovered\": 40}, {\"Unnamed: 0\": 20335, \"Date\": \"2020-05-10T00:00:00\", \"Country/Region\": \"France\", \"Confirmed\": 177094, \"Deaths\": 26383, \"Recovered\": 56327.0, \"Active\": 94384.0, \"New cases\": 312, \"New deaths\": 70, \"New recovered\": 179}, {\"Unnamed: 0\": 20339, \"Date\": \"2020-05-10T00:00:00\", \"Country/Region\": \"Germany\", \"Confirmed\": 171879, \"Deaths\": 7569, \"Recovered\": 144400.0, \"Active\": 19910.0, \"New cases\": 555, \"New deaths\": 20, \"New recovered\": 1100}, {\"Unnamed: 0\": 20352, \"Date\": \"2020-05-10T00:00:00\", \"Country/Region\": \"India\", \"Confirmed\": 67161, \"Deaths\": 2212, \"Recovered\": 20969.0, \"Active\": 43980.0, \"New cases\": 4353, \"New deaths\": 111, \"New recovered\": 1668}, {\"Unnamed: 0\": 20354, \"Date\": \"2020-05-10T00:00:00\", \"Country/Region\": \"Iran\", \"Confirmed\": 107603, \"Deaths\": 6640, \"Recovered\": 86143.0, \"Active\": 14820.0, \"New cases\": 1383, \"New deaths\": 51, \"New recovered\": 1079}, {\"Unnamed: 0\": 20358, \"Date\": \"2020-05-10T00:00:00\", \"Country/Region\": \"Italy\", \"Confirmed\": 219070, \"Deaths\": 30560, \"Recovered\": 105186.0, \"Active\": 83324.0, \"New cases\": 802, \"New deaths\": 165, \"New recovered\": 2155}, {\"Unnamed: 0\": 20430, \"Date\": \"2020-05-10T00:00:00\", \"Country/Region\": \"Spain\", \"Confirmed\": 224350, \"Deaths\": 26621, \"Recovered\": 136166.0, \"Active\": 61563.0, \"New cases\": 772, \"New deaths\": 143, \"New recovered\": 2214}, {\"Unnamed: 0\": 20435, \"Date\": \"2020-05-10T00:00:00\", \"Country/Region\": \"Switzerland\", \"Confirmed\": 30305, \"Deaths\": 1833, \"Recovered\": 26600.0, \"Active\": 1872.0, \"New cases\": 54, \"New deaths\": 3, \"New recovered\": 200}, {\"Unnamed: 0\": 20446, \"Date\": \"2020-05-10T00:00:00\", \"Country/Region\": \"US\", \"Confirmed\": 1334084, \"Deaths\": 80855, \"Recovered\": 216169.0, \"Active\": 1037060.0, \"New cases\": 19764, \"New deaths\": 879, \"New recovered\": 3635}, {\"Unnamed: 0\": 20450, \"Date\": \"2020-05-10T00:00:00\", \"Country/Region\": \"United Kingdom\", \"Confirmed\": 211911, \"Deaths\": 31954, \"Recovered\": 1002.0, \"Active\": 178955.0, \"New cases\": 2322, \"New deaths\": 269, \"New recovered\": 1}, {\"Unnamed: 0\": 20492, \"Date\": \"2020-05-11T00:00:00\", \"Country/Region\": \"Canada\", \"Confirmed\": 71250, \"Deaths\": 5114, \"Recovered\": 33007.0, \"Active\": 33129.0, \"New cases\": 1173, \"New deaths\": 124, \"New recovered\": 898}, {\"Unnamed: 0\": 20496, \"Date\": \"2020-05-11T00:00:00\", \"Country/Region\": \"China\", \"Confirmed\": 84011, \"Deaths\": 4637, \"Recovered\": 77623.0, \"Active\": 1751.0, \"New cases\": 1, \"New deaths\": 0, \"New recovered\": 31}, {\"Unnamed: 0\": 20521, \"Date\": \"2020-05-11T00:00:00\", \"Country/Region\": \"France\", \"Confirmed\": 177547, \"Deaths\": 26646, \"Recovered\": 56835.0, \"Active\": 94066.0, \"New cases\": 453, \"New deaths\": 263, \"New recovered\": 508}, {\"Unnamed: 0\": 20525, \"Date\": \"2020-05-11T00:00:00\", \"Country/Region\": \"Germany\", \"Confirmed\": 172576, \"Deaths\": 7661, \"Recovered\": 145617.0, \"Active\": 19298.0, \"New cases\": 697, \"New deaths\": 92, \"New recovered\": 1217}, {\"Unnamed: 0\": 20538, \"Date\": \"2020-05-11T00:00:00\", \"Country/Region\": \"India\", \"Confirmed\": 70768, \"Deaths\": 2294, \"Recovered\": 22549.0, \"Active\": 45925.0, \"New cases\": 3607, \"New deaths\": 82, \"New recovered\": 1580}, {\"Unnamed: 0\": 20540, \"Date\": \"2020-05-11T00:00:00\", \"Country/Region\": \"Iran\", \"Confirmed\": 109286, \"Deaths\": 6685, \"Recovered\": 87422.0, \"Active\": 15179.0, \"New cases\": 1683, \"New deaths\": 45, \"New recovered\": 1279}, {\"Unnamed: 0\": 20544, \"Date\": \"2020-05-11T00:00:00\", \"Country/Region\": \"Italy\", \"Confirmed\": 219814, \"Deaths\": 30739, \"Recovered\": 106587.0, \"Active\": 82488.0, \"New cases\": 744, \"New deaths\": 179, \"New recovered\": 1401}, {\"Unnamed: 0\": 20616, \"Date\": \"2020-05-11T00:00:00\", \"Country/Region\": \"Spain\", \"Confirmed\": 227436, \"Deaths\": 26744, \"Recovered\": 137139.0, \"Active\": 63553.0, \"New cases\": 3086, \"New deaths\": 123, \"New recovered\": 973}, {\"Unnamed: 0\": 20621, \"Date\": \"2020-05-11T00:00:00\", \"Country/Region\": \"Switzerland\", \"Confirmed\": 30344, \"Deaths\": 1845, \"Recovered\": 26800.0, \"Active\": 1699.0, \"New cases\": 39, \"New deaths\": 12, \"New recovered\": 200}, {\"Unnamed: 0\": 20632, \"Date\": \"2020-05-11T00:00:00\", \"Country/Region\": \"US\", \"Confirmed\": 1352962, \"Deaths\": 81868, \"Recovered\": 232733.0, \"Active\": 1038361.0, \"New cases\": 18878, \"New deaths\": 1013, \"New recovered\": 16564}, {\"Unnamed: 0\": 20636, \"Date\": \"2020-05-11T00:00:00\", \"Country/Region\": \"United Kingdom\", \"Confirmed\": 215500, \"Deaths\": 32166, \"Recovered\": 1015.0, \"Active\": 182319.0, \"New cases\": 3589, \"New deaths\": 212, \"New recovered\": 13}, {\"Unnamed: 0\": 20678, \"Date\": \"2020-05-12T00:00:00\", \"Country/Region\": \"Canada\", \"Confirmed\": 72405, \"Deaths\": 5299, \"Recovered\": 34055.0, \"Active\": 33051.0, \"New cases\": 1155, \"New deaths\": 185, \"New recovered\": 1048}, {\"Unnamed: 0\": 20682, \"Date\": \"2020-05-12T00:00:00\", \"Country/Region\": \"China\", \"Confirmed\": 84018, \"Deaths\": 4637, \"Recovered\": 77647.0, \"Active\": 1734.0, \"New cases\": 7, \"New deaths\": 0, \"New recovered\": 24}, {\"Unnamed: 0\": 20707, \"Date\": \"2020-05-12T00:00:00\", \"Country/Region\": \"France\", \"Confirmed\": 178349, \"Deaths\": 26994, \"Recovered\": 57898.0, \"Active\": 93457.0, \"New cases\": 802, \"New deaths\": 348, \"New recovered\": 1063}, {\"Unnamed: 0\": 20711, \"Date\": \"2020-05-12T00:00:00\", \"Country/Region\": \"Germany\", \"Confirmed\": 173171, \"Deaths\": 7738, \"Recovered\": 147200.0, \"Active\": 18233.0, \"New cases\": 595, \"New deaths\": 77, \"New recovered\": 1583}, {\"Unnamed: 0\": 20724, \"Date\": \"2020-05-12T00:00:00\", \"Country/Region\": \"India\", \"Confirmed\": 74292, \"Deaths\": 2415, \"Recovered\": 24420.0, \"Active\": 47457.0, \"New cases\": 3524, \"New deaths\": 121, \"New recovered\": 1871}, {\"Unnamed: 0\": 20726, \"Date\": \"2020-05-12T00:00:00\", \"Country/Region\": \"Iran\", \"Confirmed\": 110767, \"Deaths\": 6733, \"Recovered\": 88357.0, \"Active\": 15677.0, \"New cases\": 1481, \"New deaths\": 48, \"New recovered\": 935}, {\"Unnamed: 0\": 20730, \"Date\": \"2020-05-12T00:00:00\", \"Country/Region\": \"Italy\", \"Confirmed\": 221216, \"Deaths\": 30911, \"Recovered\": 109039.0, \"Active\": 81266.0, \"New cases\": 1402, \"New deaths\": 172, \"New recovered\": 2452}, {\"Unnamed: 0\": 20802, \"Date\": \"2020-05-12T00:00:00\", \"Country/Region\": \"Spain\", \"Confirmed\": 228030, \"Deaths\": 26920, \"Recovered\": 138980.0, \"Active\": 62130.0, \"New cases\": 594, \"New deaths\": 176, \"New recovered\": 1841}, {\"Unnamed: 0\": 20807, \"Date\": \"2020-05-12T00:00:00\", \"Country/Region\": \"Switzerland\", \"Confirmed\": 30380, \"Deaths\": 1867, \"Recovered\": 26800.0, \"Active\": 1713.0, \"New cases\": 36, \"New deaths\": 22, \"New recovered\": 0}, {\"Unnamed: 0\": 20818, \"Date\": \"2020-05-12T00:00:00\", \"Country/Region\": \"US\", \"Confirmed\": 1375152, \"Deaths\": 83483, \"Recovered\": 230287.0, \"Active\": 1061382.0, \"New cases\": 22190, \"New deaths\": 1615, \"New recovered\": -2446}, {\"Unnamed: 0\": 20822, \"Date\": \"2020-05-12T00:00:00\", \"Country/Region\": \"United Kingdom\", \"Confirmed\": 218895, \"Deaths\": 32797, \"Recovered\": 1023.0, \"Active\": 185075.0, \"New cases\": 3395, \"New deaths\": 631, \"New recovered\": 8}, {\"Unnamed: 0\": 20864, \"Date\": \"2020-05-13T00:00:00\", \"Country/Region\": \"Canada\", \"Confirmed\": 73554, \"Deaths\": 5424, \"Recovered\": 35177.0, \"Active\": 32953.0, \"New cases\": 1149, \"New deaths\": 125, \"New recovered\": 1122}, {\"Unnamed: 0\": 20868, \"Date\": \"2020-05-13T00:00:00\", \"Country/Region\": \"China\", \"Confirmed\": 84024, \"Deaths\": 4637, \"Recovered\": 77671.0, \"Active\": 1716.0, \"New cases\": 6, \"New deaths\": 0, \"New recovered\": 24}, {\"Unnamed: 0\": 20893, \"Date\": \"2020-05-13T00:00:00\", \"Country/Region\": \"France\", \"Confirmed\": 178184, \"Deaths\": 27077, \"Recovered\": 58786.0, \"Active\": 92321.0, \"New cases\": 0, \"New deaths\": 83, \"New recovered\": 888}, {\"Unnamed: 0\": 20897, \"Date\": \"2020-05-13T00:00:00\", \"Country/Region\": \"Germany\", \"Confirmed\": 174098, \"Deaths\": 7861, \"Recovered\": 148700.0, \"Active\": 17537.0, \"New cases\": 927, \"New deaths\": 123, \"New recovered\": 1500}, {\"Unnamed: 0\": 20910, \"Date\": \"2020-05-13T00:00:00\", \"Country/Region\": \"India\", \"Confirmed\": 78055, \"Deaths\": 2551, \"Recovered\": 26400.0, \"Active\": 49104.0, \"New cases\": 3763, \"New deaths\": 136, \"New recovered\": 1980}, {\"Unnamed: 0\": 20912, \"Date\": \"2020-05-13T00:00:00\", \"Country/Region\": \"Iran\", \"Confirmed\": 112725, \"Deaths\": 6783, \"Recovered\": 89428.0, \"Active\": 16514.0, \"New cases\": 1958, \"New deaths\": 50, \"New recovered\": 1071}, {\"Unnamed: 0\": 20916, \"Date\": \"2020-05-13T00:00:00\", \"Country/Region\": \"Italy\", \"Confirmed\": 222104, \"Deaths\": 31106, \"Recovered\": 112541.0, \"Active\": 78457.0, \"New cases\": 888, \"New deaths\": 195, \"New recovered\": 3502}, {\"Unnamed: 0\": 20988, \"Date\": \"2020-05-13T00:00:00\", \"Country/Region\": \"Spain\", \"Confirmed\": 228691, \"Deaths\": 27104, \"Recovered\": 140823.0, \"Active\": 60764.0, \"New cases\": 661, \"New deaths\": 184, \"New recovered\": 1843}, {\"Unnamed: 0\": 20993, \"Date\": \"2020-05-13T00:00:00\", \"Country/Region\": \"Switzerland\", \"Confirmed\": 30413, \"Deaths\": 1870, \"Recovered\": 27100.0, \"Active\": 1443.0, \"New cases\": 33, \"New deaths\": 3, \"New recovered\": 300}, {\"Unnamed: 0\": 21004, \"Date\": \"2020-05-13T00:00:00\", \"Country/Region\": \"US\", \"Confirmed\": 1396110, \"Deaths\": 85234, \"Recovered\": 243430.0, \"Active\": 1067446.0, \"New cases\": 20958, \"New deaths\": 1751, \"New recovered\": 13143}, {\"Unnamed: 0\": 21008, \"Date\": \"2020-05-13T00:00:00\", \"Country/Region\": \"United Kingdom\", \"Confirmed\": 222195, \"Deaths\": 33294, \"Recovered\": 1032.0, \"Active\": 187869.0, \"New cases\": 3300, \"New deaths\": 497, \"New recovered\": 9}, {\"Unnamed: 0\": 21050, \"Date\": \"2020-05-14T00:00:00\", \"Country/Region\": \"Canada\", \"Confirmed\": 74767, \"Deaths\": 5591, \"Recovered\": 36104.0, \"Active\": 33072.0, \"New cases\": 1213, \"New deaths\": 167, \"New recovered\": 927}, {\"Unnamed: 0\": 21054, \"Date\": \"2020-05-14T00:00:00\", \"Country/Region\": \"China\", \"Confirmed\": 84029, \"Deaths\": 4637, \"Recovered\": 77686.0, \"Active\": 1706.0, \"New cases\": 5, \"New deaths\": 0, \"New recovered\": 15}, {\"Unnamed: 0\": 21079, \"Date\": \"2020-05-14T00:00:00\", \"Country/Region\": \"France\", \"Confirmed\": 178994, \"Deaths\": 27428, \"Recovered\": 59719.0, \"Active\": 91847.0, \"New cases\": 810, \"New deaths\": 351, \"New recovered\": 933}, {\"Unnamed: 0\": 21083, \"Date\": \"2020-05-14T00:00:00\", \"Country/Region\": \"Germany\", \"Confirmed\": 174478, \"Deaths\": 7884, \"Recovered\": 150300.0, \"Active\": 16294.0, \"New cases\": 380, \"New deaths\": 23, \"New recovered\": 1600}, {\"Unnamed: 0\": 21096, \"Date\": \"2020-05-14T00:00:00\", \"Country/Region\": \"India\", \"Confirmed\": 81997, \"Deaths\": 2649, \"Recovered\": 27969.0, \"Active\": 51379.0, \"New cases\": 3942, \"New deaths\": 98, \"New recovered\": 1569}, {\"Unnamed: 0\": 21098, \"Date\": \"2020-05-14T00:00:00\", \"Country/Region\": \"Iran\", \"Confirmed\": 114533, \"Deaths\": 6854, \"Recovered\": 90539.0, \"Active\": 17140.0, \"New cases\": 1808, \"New deaths\": 71, \"New recovered\": 1111}, {\"Unnamed: 0\": 21102, \"Date\": \"2020-05-14T00:00:00\", \"Country/Region\": \"Italy\", \"Confirmed\": 223096, \"Deaths\": 31368, \"Recovered\": 115288.0, \"Active\": 76440.0, \"New cases\": 992, \"New deaths\": 262, \"New recovered\": 2747}, {\"Unnamed: 0\": 21174, \"Date\": \"2020-05-14T00:00:00\", \"Country/Region\": \"Spain\", \"Confirmed\": 229540, \"Deaths\": 27321, \"Recovered\": 143374.0, \"Active\": 58845.0, \"New cases\": 849, \"New deaths\": 217, \"New recovered\": 2551}, {\"Unnamed: 0\": 21179, \"Date\": \"2020-05-14T00:00:00\", \"Country/Region\": \"Switzerland\", \"Confirmed\": 30463, \"Deaths\": 1872, \"Recovered\": 27100.0, \"Active\": 1491.0, \"New cases\": 50, \"New deaths\": 2, \"New recovered\": 0}, {\"Unnamed: 0\": 21190, \"Date\": \"2020-05-14T00:00:00\", \"Country/Region\": \"US\", \"Confirmed\": 1423727, \"Deaths\": 87008, \"Recovered\": 246414.0, \"Active\": 1090305.0, \"New cases\": 27617, \"New deaths\": 1774, \"New recovered\": 2984}, {\"Unnamed: 0\": 21194, \"Date\": \"2020-05-14T00:00:00\", \"Country/Region\": \"United Kingdom\", \"Confirmed\": 224813, \"Deaths\": 33723, \"Recovered\": 1043.0, \"Active\": 190047.0, \"New cases\": 2618, \"New deaths\": 429, \"New recovered\": 11}, {\"Unnamed: 0\": 21236, \"Date\": \"2020-05-15T00:00:00\", \"Country/Region\": \"Canada\", \"Confirmed\": 75945, \"Deaths\": 5678, \"Recovered\": 36908.0, \"Active\": 33359.0, \"New cases\": 1178, \"New deaths\": 87, \"New recovered\": 804}, {\"Unnamed: 0\": 21240, \"Date\": \"2020-05-15T00:00:00\", \"Country/Region\": \"China\", \"Confirmed\": 84038, \"Deaths\": 4637, \"Recovered\": 77706.0, \"Active\": 1695.0, \"New cases\": 9, \"New deaths\": 0, \"New recovered\": 20}, {\"Unnamed: 0\": 21265, \"Date\": \"2020-05-15T00:00:00\", \"Country/Region\": \"France\", \"Confirmed\": 179630, \"Deaths\": 27532, \"Recovered\": 60562.0, \"Active\": 91536.0, \"New cases\": 636, \"New deaths\": 104, \"New recovered\": 843}, {\"Unnamed: 0\": 21269, \"Date\": \"2020-05-15T00:00:00\", \"Country/Region\": \"Germany\", \"Confirmed\": 175233, \"Deaths\": 7897, \"Recovered\": 151597.0, \"Active\": 15739.0, \"New cases\": 755, \"New deaths\": 13, \"New recovered\": 1297}, {\"Unnamed: 0\": 21282, \"Date\": \"2020-05-15T00:00:00\", \"Country/Region\": \"India\", \"Confirmed\": 85784, \"Deaths\": 2753, \"Recovered\": 30258.0, \"Active\": 52773.0, \"New cases\": 3787, \"New deaths\": 104, \"New recovered\": 2289}, {\"Unnamed: 0\": 21284, \"Date\": \"2020-05-15T00:00:00\", \"Country/Region\": \"Iran\", \"Confirmed\": 116635, \"Deaths\": 6902, \"Recovered\": 91836.0, \"Active\": 17897.0, \"New cases\": 2102, \"New deaths\": 48, \"New recovered\": 1297}, {\"Unnamed: 0\": 21288, \"Date\": \"2020-05-15T00:00:00\", \"Country/Region\": \"Italy\", \"Confirmed\": 223885, \"Deaths\": 31610, \"Recovered\": 120205.0, \"Active\": 72070.0, \"New cases\": 789, \"New deaths\": 242, \"New recovered\": 4917}, {\"Unnamed: 0\": 21360, \"Date\": \"2020-05-15T00:00:00\", \"Country/Region\": \"Spain\", \"Confirmed\": 230183, \"Deaths\": 27459, \"Recovered\": 144783.0, \"Active\": 57941.0, \"New cases\": 643, \"New deaths\": 138, \"New recovered\": 1409}, {\"Unnamed: 0\": 21365, \"Date\": \"2020-05-15T00:00:00\", \"Country/Region\": \"Switzerland\", \"Confirmed\": 30514, \"Deaths\": 1878, \"Recovered\": 27100.0, \"Active\": 1536.0, \"New cases\": 51, \"New deaths\": 6, \"New recovered\": 0}, {\"Unnamed: 0\": 21376, \"Date\": \"2020-05-15T00:00:00\", \"Country/Region\": \"US\", \"Confirmed\": 1449027, \"Deaths\": 88669, \"Recovered\": 250747.0, \"Active\": 1109611.0, \"New cases\": 25300, \"New deaths\": 1661, \"New recovered\": 4333}, {\"Unnamed: 0\": 21380, \"Date\": \"2020-05-15T00:00:00\", \"Country/Region\": \"United Kingdom\", \"Confirmed\": 227334, \"Deaths\": 34108, \"Recovered\": 1047.0, \"Active\": 192179.0, \"New cases\": 2521, \"New deaths\": 385, \"New recovered\": 4}, {\"Unnamed: 0\": 21422, \"Date\": \"2020-05-16T00:00:00\", \"Country/Region\": \"Canada\", \"Confirmed\": 77192, \"Deaths\": 5799, \"Recovered\": 37832.0, \"Active\": 33561.0, \"New cases\": 1247, \"New deaths\": 121, \"New recovered\": 924}, {\"Unnamed: 0\": 21426, \"Date\": \"2020-05-16T00:00:00\", \"Country/Region\": \"China\", \"Confirmed\": 84044, \"Deaths\": 4638, \"Recovered\": 77718.0, \"Active\": 1688.0, \"New cases\": 6, \"New deaths\": 1, \"New recovered\": 12}, {\"Unnamed: 0\": 21451, \"Date\": \"2020-05-16T00:00:00\", \"Country/Region\": \"France\", \"Confirmed\": 179630, \"Deaths\": 27532, \"Recovered\": 60562.0, \"Active\": 91536.0, \"New cases\": 0, \"New deaths\": 0, \"New recovered\": 0}, {\"Unnamed: 0\": 21455, \"Date\": \"2020-05-16T00:00:00\", \"Country/Region\": \"Germany\", \"Confirmed\": 175752, \"Deaths\": 7938, \"Recovered\": 152600.0, \"Active\": 15214.0, \"New cases\": 519, \"New deaths\": 41, \"New recovered\": 1003}, {\"Unnamed: 0\": 21468, \"Date\": \"2020-05-16T00:00:00\", \"Country/Region\": \"India\", \"Confirmed\": 90648, \"Deaths\": 2871, \"Recovered\": 34224.0, \"Active\": 53553.0, \"New cases\": 4864, \"New deaths\": 118, \"New recovered\": 3966}, {\"Unnamed: 0\": 21470, \"Date\": \"2020-05-16T00:00:00\", \"Country/Region\": \"Iran\", \"Confirmed\": 118392, \"Deaths\": 6937, \"Recovered\": 93147.0, \"Active\": 18308.0, \"New cases\": 1757, \"New deaths\": 35, \"New recovered\": 1311}, {\"Unnamed: 0\": 21474, \"Date\": \"2020-05-16T00:00:00\", \"Country/Region\": \"Italy\", \"Confirmed\": 224760, \"Deaths\": 31763, \"Recovered\": 122810.0, \"Active\": 70187.0, \"New cases\": 875, \"New deaths\": 153, \"New recovered\": 2605}, {\"Unnamed: 0\": 21546, \"Date\": \"2020-05-16T00:00:00\", \"Country/Region\": \"Spain\", \"Confirmed\": 230698, \"Deaths\": 27563, \"Recovered\": 146446.0, \"Active\": 56689.0, \"New cases\": 515, \"New deaths\": 104, \"New recovered\": 1663}, {\"Unnamed: 0\": 21551, \"Date\": \"2020-05-16T00:00:00\", \"Country/Region\": \"Switzerland\", \"Confirmed\": 30572, \"Deaths\": 1879, \"Recovered\": 27400.0, \"Active\": 1293.0, \"New cases\": 58, \"New deaths\": 1, \"New recovered\": 300}, {\"Unnamed: 0\": 21562, \"Date\": \"2020-05-16T00:00:00\", \"Country/Region\": \"US\", \"Confirmed\": 1474128, \"Deaths\": 89892, \"Recovered\": 268376.0, \"Active\": 1115860.0, \"New cases\": 25101, \"New deaths\": 1223, \"New recovered\": 17629}, {\"Unnamed: 0\": 21566, \"Date\": \"2020-05-16T00:00:00\", \"Country/Region\": \"United Kingdom\", \"Confirmed\": 229406, \"Deaths\": 34588, \"Recovered\": 1058.0, \"Active\": 193760.0, \"New cases\": 2072, \"New deaths\": 480, \"New recovered\": 11}, {\"Unnamed: 0\": 21608, \"Date\": \"2020-05-17T00:00:00\", \"Country/Region\": \"Canada\", \"Confirmed\": 78318, \"Deaths\": 5902, \"Recovered\": 38563.0, \"Active\": 33853.0, \"New cases\": 1126, \"New deaths\": 103, \"New recovered\": 731}, {\"Unnamed: 0\": 21612, \"Date\": \"2020-05-17T00:00:00\", \"Country/Region\": \"China\", \"Confirmed\": 84054, \"Deaths\": 4638, \"Recovered\": 77730.0, \"Active\": 1686.0, \"New cases\": 10, \"New deaths\": 0, \"New recovered\": 12}, {\"Unnamed: 0\": 21637, \"Date\": \"2020-05-17T00:00:00\", \"Country/Region\": \"France\", \"Confirmed\": 179693, \"Deaths\": 28111, \"Recovered\": 61327.0, \"Active\": 90255.0, \"New cases\": 63, \"New deaths\": 579, \"New recovered\": 765}, {\"Unnamed: 0\": 21641, \"Date\": \"2020-05-17T00:00:00\", \"Country/Region\": \"Germany\", \"Confirmed\": 176369, \"Deaths\": 7962, \"Recovered\": 154011.0, \"Active\": 14396.0, \"New cases\": 617, \"New deaths\": 24, \"New recovered\": 1411}, {\"Unnamed: 0\": 21654, \"Date\": \"2020-05-17T00:00:00\", \"Country/Region\": \"India\", \"Confirmed\": 95698, \"Deaths\": 3025, \"Recovered\": 36795.0, \"Active\": 55878.0, \"New cases\": 5050, \"New deaths\": 154, \"New recovered\": 2571}, {\"Unnamed: 0\": 21656, \"Date\": \"2020-05-17T00:00:00\", \"Country/Region\": \"Iran\", \"Confirmed\": 120198, \"Deaths\": 6988, \"Recovered\": 94464.0, \"Active\": 18746.0, \"New cases\": 1806, \"New deaths\": 51, \"New recovered\": 1317}, {\"Unnamed: 0\": 21660, \"Date\": \"2020-05-17T00:00:00\", \"Country/Region\": \"Italy\", \"Confirmed\": 225435, \"Deaths\": 31908, \"Recovered\": 125176.0, \"Active\": 68351.0, \"New cases\": 675, \"New deaths\": 145, \"New recovered\": 2366}, {\"Unnamed: 0\": 21732, \"Date\": \"2020-05-17T00:00:00\", \"Country/Region\": \"Spain\", \"Confirmed\": 230698, \"Deaths\": 27563, \"Recovered\": 146446.0, \"Active\": 56689.0, \"New cases\": 0, \"New deaths\": 0, \"New recovered\": 0}, {\"Unnamed: 0\": 21737, \"Date\": \"2020-05-17T00:00:00\", \"Country/Region\": \"Switzerland\", \"Confirmed\": 30587, \"Deaths\": 1881, \"Recovered\": 27500.0, \"Active\": 1206.0, \"New cases\": 15, \"New deaths\": 2, \"New recovered\": 100}, {\"Unnamed: 0\": 21748, \"Date\": \"2020-05-17T00:00:00\", \"Country/Region\": \"US\", \"Confirmed\": 1493132, \"Deaths\": 90644, \"Recovered\": 272265.0, \"Active\": 1130223.0, \"New cases\": 19004, \"New deaths\": 752, \"New recovered\": 3889}, {\"Unnamed: 0\": 21752, \"Date\": \"2020-05-17T00:00:00\", \"Country/Region\": \"United Kingdom\", \"Confirmed\": 231232, \"Deaths\": 34758, \"Recovered\": 1058.0, \"Active\": 195416.0, \"New cases\": 1826, \"New deaths\": 170, \"New recovered\": 0}, {\"Unnamed: 0\": 21794, \"Date\": \"2020-05-18T00:00:00\", \"Country/Region\": \"Canada\", \"Confirmed\": 79397, \"Deaths\": 5959, \"Recovered\": 39251.0, \"Active\": 34187.0, \"New cases\": 1079, \"New deaths\": 57, \"New recovered\": 688}, {\"Unnamed: 0\": 21798, \"Date\": \"2020-05-18T00:00:00\", \"Country/Region\": \"China\", \"Confirmed\": 84063, \"Deaths\": 4638, \"Recovered\": 77734.0, \"Active\": 1691.0, \"New cases\": 9, \"New deaths\": 0, \"New recovered\": 4}, {\"Unnamed: 0\": 21823, \"Date\": \"2020-05-18T00:00:00\", \"Country/Region\": \"France\", \"Confirmed\": 180051, \"Deaths\": 28242, \"Recovered\": 61843.0, \"Active\": 89966.0, \"New cases\": 358, \"New deaths\": 131, \"New recovered\": 516}, {\"Unnamed: 0\": 21827, \"Date\": \"2020-05-18T00:00:00\", \"Country/Region\": \"Germany\", \"Confirmed\": 176551, \"Deaths\": 8003, \"Recovered\": 155041.0, \"Active\": 13507.0, \"New cases\": 182, \"New deaths\": 41, \"New recovered\": 1030}, {\"Unnamed: 0\": 21840, \"Date\": \"2020-05-18T00:00:00\", \"Country/Region\": \"India\", \"Confirmed\": 100328, \"Deaths\": 3156, \"Recovered\": 39233.0, \"Active\": 57939.0, \"New cases\": 4630, \"New deaths\": 131, \"New recovered\": 2438}, {\"Unnamed: 0\": 21842, \"Date\": \"2020-05-18T00:00:00\", \"Country/Region\": \"Iran\", \"Confirmed\": 122492, \"Deaths\": 7057, \"Recovered\": 95661.0, \"Active\": 19774.0, \"New cases\": 2294, \"New deaths\": 69, \"New recovered\": 1197}, {\"Unnamed: 0\": 21846, \"Date\": \"2020-05-18T00:00:00\", \"Country/Region\": \"Italy\", \"Confirmed\": 225886, \"Deaths\": 32007, \"Recovered\": 127326.0, \"Active\": 66553.0, \"New cases\": 451, \"New deaths\": 99, \"New recovered\": 2150}, {\"Unnamed: 0\": 21918, \"Date\": \"2020-05-18T00:00:00\", \"Country/Region\": \"Spain\", \"Confirmed\": 231606, \"Deaths\": 27709, \"Recovered\": 150376.0, \"Active\": 53521.0, \"New cases\": 908, \"New deaths\": 146, \"New recovered\": 3930}, {\"Unnamed: 0\": 21923, \"Date\": \"2020-05-18T00:00:00\", \"Country/Region\": \"Switzerland\", \"Confirmed\": 30597, \"Deaths\": 1886, \"Recovered\": 27600.0, \"Active\": 1111.0, \"New cases\": 10, \"New deaths\": 5, \"New recovered\": 100}, {\"Unnamed: 0\": 21934, \"Date\": \"2020-05-18T00:00:00\", \"Country/Region\": \"US\", \"Confirmed\": 1514901, \"Deaths\": 91414, \"Recovered\": 283178.0, \"Active\": 1140309.0, \"New cases\": 21769, \"New deaths\": 770, \"New recovered\": 10913}, {\"Unnamed: 0\": 21938, \"Date\": \"2020-05-18T00:00:00\", \"Country/Region\": \"United Kingdom\", \"Confirmed\": 233809, \"Deaths\": 34918, \"Recovered\": 1090.0, \"Active\": 197801.0, \"New cases\": 2577, \"New deaths\": 160, \"New recovered\": 32}, {\"Unnamed: 0\": 21980, \"Date\": \"2020-05-19T00:00:00\", \"Country/Region\": \"Canada\", \"Confirmed\": 80479, \"Deaths\": 6027, \"Recovered\": 40069.0, \"Active\": 34383.0, \"New cases\": 1082, \"New deaths\": 68, \"New recovered\": 818}, {\"Unnamed: 0\": 21984, \"Date\": \"2020-05-19T00:00:00\", \"Country/Region\": \"China\", \"Confirmed\": 84063, \"Deaths\": 4638, \"Recovered\": 77734.0, \"Active\": 1691.0, \"New cases\": 0, \"New deaths\": 0, \"New recovered\": 0}, {\"Unnamed: 0\": 22009, \"Date\": \"2020-05-19T00:00:00\", \"Country/Region\": \"France\", \"Confirmed\": 180933, \"Deaths\": 28025, \"Recovered\": 62678.0, \"Active\": 90230.0, \"New cases\": 882, \"New deaths\": -217, \"New recovered\": 835}, {\"Unnamed: 0\": 22013, \"Date\": \"2020-05-19T00:00:00\", \"Country/Region\": \"Germany\", \"Confirmed\": 177778, \"Deaths\": 8081, \"Recovered\": 155681.0, \"Active\": 14016.0, \"New cases\": 1227, \"New deaths\": 78, \"New recovered\": 640}, {\"Unnamed: 0\": 22026, \"Date\": \"2020-05-19T00:00:00\", \"Country/Region\": \"India\", \"Confirmed\": 106475, \"Deaths\": 3302, \"Recovered\": 42309.0, \"Active\": 60864.0, \"New cases\": 6147, \"New deaths\": 146, \"New recovered\": 3076}, {\"Unnamed: 0\": 22028, \"Date\": \"2020-05-19T00:00:00\", \"Country/Region\": \"Iran\", \"Confirmed\": 124603, \"Deaths\": 7119, \"Recovered\": 97173.0, \"Active\": 20311.0, \"New cases\": 2111, \"New deaths\": 62, \"New recovered\": 1512}, {\"Unnamed: 0\": 22032, \"Date\": \"2020-05-19T00:00:00\", \"Country/Region\": \"Italy\", \"Confirmed\": 226699, \"Deaths\": 32169, \"Recovered\": 129401.0, \"Active\": 65129.0, \"New cases\": 813, \"New deaths\": 162, \"New recovered\": 2075}, {\"Unnamed: 0\": 22104, \"Date\": \"2020-05-19T00:00:00\", \"Country/Region\": \"Spain\", \"Confirmed\": 232037, \"Deaths\": 27778, \"Recovered\": 150376.0, \"Active\": 53883.0, \"New cases\": 431, \"New deaths\": 69, \"New recovered\": 0}, {\"Unnamed: 0\": 22109, \"Date\": \"2020-05-19T00:00:00\", \"Country/Region\": \"Switzerland\", \"Confirmed\": 30618, \"Deaths\": 1891, \"Recovered\": 27700.0, \"Active\": 1027.0, \"New cases\": 21, \"New deaths\": 5, \"New recovered\": 100}, {\"Unnamed: 0\": 22120, \"Date\": \"2020-05-19T00:00:00\", \"Country/Region\": \"US\", \"Confirmed\": 1535350, \"Deaths\": 92965, \"Recovered\": 289392.0, \"Active\": 1152993.0, \"New cases\": 20449, \"New deaths\": 1551, \"New recovered\": 6214}, {\"Unnamed: 0\": 22124, \"Date\": \"2020-05-19T00:00:00\", \"Country/Region\": \"United Kingdom\", \"Confirmed\": 236867, \"Deaths\": 35467, \"Recovered\": 1099.0, \"Active\": 200301.0, \"New cases\": 3058, \"New deaths\": 549, \"New recovered\": 9}, {\"Unnamed: 0\": 22166, \"Date\": \"2020-05-20T00:00:00\", \"Country/Region\": \"Canada\", \"Confirmed\": 81561, \"Deaths\": 6149, \"Recovered\": 40793.0, \"Active\": 34619.0, \"New cases\": 1082, \"New deaths\": 122, \"New recovered\": 724}, {\"Unnamed: 0\": 22170, \"Date\": \"2020-05-20T00:00:00\", \"Country/Region\": \"China\", \"Confirmed\": 84063, \"Deaths\": 4638, \"Recovered\": 77734.0, \"Active\": 1691.0, \"New cases\": 0, \"New deaths\": 0, \"New recovered\": 0}, {\"Unnamed: 0\": 22195, \"Date\": \"2020-05-20T00:00:00\", \"Country/Region\": \"France\", \"Confirmed\": 181700, \"Deaths\": 28135, \"Recovered\": 63472.0, \"Active\": 90093.0, \"New cases\": 767, \"New deaths\": 110, \"New recovered\": 794}, {\"Unnamed: 0\": 22199, \"Date\": \"2020-05-20T00:00:00\", \"Country/Region\": \"Germany\", \"Confirmed\": 178473, \"Deaths\": 8144, \"Recovered\": 156966.0, \"Active\": 13363.0, \"New cases\": 695, \"New deaths\": 63, \"New recovered\": 1285}, {\"Unnamed: 0\": 22212, \"Date\": \"2020-05-20T00:00:00\", \"Country/Region\": \"India\", \"Confirmed\": 112028, \"Deaths\": 3434, \"Recovered\": 45422.0, \"Active\": 63172.0, \"New cases\": 5553, \"New deaths\": 132, \"New recovered\": 3113}, {\"Unnamed: 0\": 22214, \"Date\": \"2020-05-20T00:00:00\", \"Country/Region\": \"Iran\", \"Confirmed\": 126949, \"Deaths\": 7183, \"Recovered\": 98808.0, \"Active\": 20958.0, \"New cases\": 2346, \"New deaths\": 64, \"New recovered\": 1635}, {\"Unnamed: 0\": 22218, \"Date\": \"2020-05-20T00:00:00\", \"Country/Region\": \"Italy\", \"Confirmed\": 227364, \"Deaths\": 32330, \"Recovered\": 132282.0, \"Active\": 62752.0, \"New cases\": 665, \"New deaths\": 161, \"New recovered\": 2881}, {\"Unnamed: 0\": 22290, \"Date\": \"2020-05-20T00:00:00\", \"Country/Region\": \"Spain\", \"Confirmed\": 232555, \"Deaths\": 27888, \"Recovered\": 150376.0, \"Active\": 54291.0, \"New cases\": 518, \"New deaths\": 110, \"New recovered\": 0}, {\"Unnamed: 0\": 22295, \"Date\": \"2020-05-20T00:00:00\", \"Country/Region\": \"Switzerland\", \"Confirmed\": 30658, \"Deaths\": 1892, \"Recovered\": 27800.0, \"Active\": 966.0, \"New cases\": 40, \"New deaths\": 1, \"New recovered\": 100}, {\"Unnamed: 0\": 22306, \"Date\": \"2020-05-20T00:00:00\", \"Country/Region\": \"US\", \"Confirmed\": 1559157, \"Deaths\": 94533, \"Recovered\": 294312.0, \"Active\": 1170312.0, \"New cases\": 23807, \"New deaths\": 1568, \"New recovered\": 4920}, {\"Unnamed: 0\": 22310, \"Date\": \"2020-05-20T00:00:00\", \"Country/Region\": \"United Kingdom\", \"Confirmed\": 239579, \"Deaths\": 35837, \"Recovered\": 1116.0, \"Active\": 202626.0, \"New cases\": 2712, \"New deaths\": 370, \"New recovered\": 17}, {\"Unnamed: 0\": 22352, \"Date\": \"2020-05-21T00:00:00\", \"Country/Region\": \"Canada\", \"Confirmed\": 82728, \"Deaths\": 6266, \"Recovered\": 41731.0, \"Active\": 34731.0, \"New cases\": 1167, \"New deaths\": 117, \"New recovered\": 938}, {\"Unnamed: 0\": 22356, \"Date\": \"2020-05-21T00:00:00\", \"Country/Region\": \"China\", \"Confirmed\": 84063, \"Deaths\": 4638, \"Recovered\": 77734.0, \"Active\": 1691.0, \"New cases\": 0, \"New deaths\": 0, \"New recovered\": 0}, {\"Unnamed: 0\": 22381, \"Date\": \"2020-05-21T00:00:00\", \"Country/Region\": \"France\", \"Confirmed\": 181951, \"Deaths\": 28218, \"Recovered\": 63976.0, \"Active\": 89757.0, \"New cases\": 251, \"New deaths\": 83, \"New recovered\": 504}, {\"Unnamed: 0\": 22385, \"Date\": \"2020-05-21T00:00:00\", \"Country/Region\": \"Germany\", \"Confirmed\": 179021, \"Deaths\": 8203, \"Recovered\": 158087.0, \"Active\": 12731.0, \"New cases\": 548, \"New deaths\": 59, \"New recovered\": 1121}, {\"Unnamed: 0\": 22398, \"Date\": \"2020-05-21T00:00:00\", \"Country/Region\": \"India\", \"Confirmed\": 118226, \"Deaths\": 3584, \"Recovered\": 48553.0, \"Active\": 66089.0, \"New cases\": 6198, \"New deaths\": 150, \"New recovered\": 3131}, {\"Unnamed: 0\": 22400, \"Date\": \"2020-05-21T00:00:00\", \"Country/Region\": \"Iran\", \"Confirmed\": 129341, \"Deaths\": 7249, \"Recovered\": 100564.0, \"Active\": 21528.0, \"New cases\": 2392, \"New deaths\": 66, \"New recovered\": 1756}, {\"Unnamed: 0\": 22404, \"Date\": \"2020-05-21T00:00:00\", \"Country/Region\": \"Italy\", \"Confirmed\": 228006, \"Deaths\": 32486, \"Recovered\": 134560.0, \"Active\": 60960.0, \"New cases\": 642, \"New deaths\": 156, \"New recovered\": 2278}, {\"Unnamed: 0\": 22476, \"Date\": \"2020-05-21T00:00:00\", \"Country/Region\": \"Spain\", \"Confirmed\": 233037, \"Deaths\": 27940, \"Recovered\": 150376.0, \"Active\": 54721.0, \"New cases\": 482, \"New deaths\": 52, \"New recovered\": 0}, {\"Unnamed: 0\": 22481, \"Date\": \"2020-05-21T00:00:00\", \"Country/Region\": \"Switzerland\", \"Confirmed\": 30694, \"Deaths\": 1898, \"Recovered\": 27900.0, \"Active\": 896.0, \"New cases\": 36, \"New deaths\": 6, \"New recovered\": 100}, {\"Unnamed: 0\": 22492, \"Date\": \"2020-05-21T00:00:00\", \"Country/Region\": \"US\", \"Confirmed\": 1584512, \"Deaths\": 95756, \"Recovered\": 298418.0, \"Active\": 1190338.0, \"New cases\": 25355, \"New deaths\": 1223, \"New recovered\": 4106}, {\"Unnamed: 0\": 22496, \"Date\": \"2020-05-21T00:00:00\", \"Country/Region\": \"United Kingdom\", \"Confirmed\": 242133, \"Deaths\": 36175, \"Recovered\": 1134.0, \"Active\": 204824.0, \"New cases\": 2554, \"New deaths\": 338, \"New recovered\": 18}, {\"Unnamed: 0\": 22538, \"Date\": \"2020-05-22T00:00:00\", \"Country/Region\": \"Canada\", \"Confirmed\": 83933, \"Deaths\": 6359, \"Recovered\": 42608.0, \"Active\": 34966.0, \"New cases\": 1205, \"New deaths\": 93, \"New recovered\": 877}, {\"Unnamed: 0\": 22542, \"Date\": \"2020-05-22T00:00:00\", \"Country/Region\": \"China\", \"Confirmed\": 84081, \"Deaths\": 4638, \"Recovered\": 77756.0, \"Active\": 1687.0, \"New cases\": 18, \"New deaths\": 0, \"New recovered\": 22}, {\"Unnamed: 0\": 22567, \"Date\": \"2020-05-22T00:00:00\", \"Country/Region\": \"France\", \"Confirmed\": 182354, \"Deaths\": 28292, \"Recovered\": 64327.0, \"Active\": 89735.0, \"New cases\": 403, \"New deaths\": 74, \"New recovered\": 351}, {\"Unnamed: 0\": 22571, \"Date\": \"2020-05-22T00:00:00\", \"Country/Region\": \"Germany\", \"Confirmed\": 179710, \"Deaths\": 8228, \"Recovered\": 159064.0, \"Active\": 12418.0, \"New cases\": 689, \"New deaths\": 25, \"New recovered\": 977}, {\"Unnamed: 0\": 22584, \"Date\": \"2020-05-22T00:00:00\", \"Country/Region\": \"India\", \"Confirmed\": 124794, \"Deaths\": 3726, \"Recovered\": 51824.0, \"Active\": 69244.0, \"New cases\": 6568, \"New deaths\": 142, \"New recovered\": 3271}, {\"Unnamed: 0\": 22586, \"Date\": \"2020-05-22T00:00:00\", \"Country/Region\": \"Iran\", \"Confirmed\": 131652, \"Deaths\": 7300, \"Recovered\": 102276.0, \"Active\": 22076.0, \"New cases\": 2311, \"New deaths\": 51, \"New recovered\": 1712}, {\"Unnamed: 0\": 22590, \"Date\": \"2020-05-22T00:00:00\", \"Country/Region\": \"Italy\", \"Confirmed\": 228658, \"Deaths\": 32616, \"Recovered\": 136720.0, \"Active\": 59322.0, \"New cases\": 652, \"New deaths\": 130, \"New recovered\": 2160}, {\"Unnamed: 0\": 22662, \"Date\": \"2020-05-22T00:00:00\", \"Country/Region\": \"Spain\", \"Confirmed\": 234824, \"Deaths\": 28628, \"Recovered\": 150376.0, \"Active\": 55820.0, \"New cases\": 1787, \"New deaths\": 688, \"New recovered\": 0}, {\"Unnamed: 0\": 22667, \"Date\": \"2020-05-22T00:00:00\", \"Country/Region\": \"Switzerland\", \"Confirmed\": 30707, \"Deaths\": 1903, \"Recovered\": 27900.0, \"Active\": 904.0, \"New cases\": 13, \"New deaths\": 5, \"New recovered\": 0}, {\"Unnamed: 0\": 22678, \"Date\": \"2020-05-22T00:00:00\", \"Country/Region\": \"US\", \"Confirmed\": 1608653, \"Deaths\": 97025, \"Recovered\": 350135.0, \"Active\": 1161493.0, \"New cases\": 24141, \"New deaths\": 1269, \"New recovered\": 51717}, {\"Unnamed: 0\": 22682, \"Date\": \"2020-05-22T00:00:00\", \"Country/Region\": \"United Kingdom\", \"Confirmed\": 244174, \"Deaths\": 36533, \"Recovered\": 1142.0, \"Active\": 206499.0, \"New cases\": 2041, \"New deaths\": 358, \"New recovered\": 8}, {\"Unnamed: 0\": 22724, \"Date\": \"2020-05-23T00:00:00\", \"Country/Region\": \"Canada\", \"Confirmed\": 85137, \"Deaths\": 6465, \"Recovered\": 43318.0, \"Active\": 35354.0, \"New cases\": 1204, \"New deaths\": 106, \"New recovered\": 710}, {\"Unnamed: 0\": 22728, \"Date\": \"2020-05-23T00:00:00\", \"Country/Region\": \"China\", \"Confirmed\": 84084, \"Deaths\": 4638, \"Recovered\": 77759.0, \"Active\": 1687.0, \"New cases\": 3, \"New deaths\": 0, \"New recovered\": 3}, {\"Unnamed: 0\": 22753, \"Date\": \"2020-05-23T00:00:00\", \"Country/Region\": \"France\", \"Confirmed\": 182694, \"Deaths\": 28335, \"Recovered\": 64665.0, \"Active\": 89694.0, \"New cases\": 340, \"New deaths\": 43, \"New recovered\": 338}, {\"Unnamed: 0\": 22757, \"Date\": \"2020-05-23T00:00:00\", \"Country/Region\": \"Germany\", \"Confirmed\": 179986, \"Deaths\": 8261, \"Recovered\": 159716.0, \"Active\": 12009.0, \"New cases\": 276, \"New deaths\": 33, \"New recovered\": 652}, {\"Unnamed: 0\": 22770, \"Date\": \"2020-05-23T00:00:00\", \"Country/Region\": \"India\", \"Confirmed\": 131423, \"Deaths\": 3868, \"Recovered\": 54385.0, \"Active\": 73170.0, \"New cases\": 6629, \"New deaths\": 142, \"New recovered\": 2561}, {\"Unnamed: 0\": 22772, \"Date\": \"2020-05-23T00:00:00\", \"Country/Region\": \"Iran\", \"Confirmed\": 133521, \"Deaths\": 7359, \"Recovered\": 104072.0, \"Active\": 22090.0, \"New cases\": 1869, \"New deaths\": 59, \"New recovered\": 1796}, {\"Unnamed: 0\": 22776, \"Date\": \"2020-05-23T00:00:00\", \"Country/Region\": \"Italy\", \"Confirmed\": 229327, \"Deaths\": 32735, \"Recovered\": 138840.0, \"Active\": 57752.0, \"New cases\": 669, \"New deaths\": 119, \"New recovered\": 2120}, {\"Unnamed: 0\": 22848, \"Date\": \"2020-05-23T00:00:00\", \"Country/Region\": \"Spain\", \"Confirmed\": 235290, \"Deaths\": 28678, \"Recovered\": 150376.0, \"Active\": 56236.0, \"New cases\": 466, \"New deaths\": 50, \"New recovered\": 0}, {\"Unnamed: 0\": 22853, \"Date\": \"2020-05-23T00:00:00\", \"Country/Region\": \"Switzerland\", \"Confirmed\": 30725, \"Deaths\": 1905, \"Recovered\": 28000.0, \"Active\": 820.0, \"New cases\": 18, \"New deaths\": 2, \"New recovered\": 100}, {\"Unnamed: 0\": 22864, \"Date\": \"2020-05-23T00:00:00\", \"Country/Region\": \"US\", \"Confirmed\": 1630476, \"Deaths\": 98146, \"Recovered\": 361239.0, \"Active\": 1171091.0, \"New cases\": 21823, \"New deaths\": 1121, \"New recovered\": 11104}, {\"Unnamed: 0\": 22868, \"Date\": \"2020-05-23T00:00:00\", \"Country/Region\": \"United Kingdom\", \"Confirmed\": 245682, \"Deaths\": 36816, \"Recovered\": 1149.0, \"Active\": 207717.0, \"New cases\": 1508, \"New deaths\": 283, \"New recovered\": 7}, {\"Unnamed: 0\": 22910, \"Date\": \"2020-05-24T00:00:00\", \"Country/Region\": \"Canada\", \"Confirmed\": 86092, \"Deaths\": 6533, \"Recovered\": 43998.0, \"Active\": 35561.0, \"New cases\": 955, \"New deaths\": 68, \"New recovered\": 680}, {\"Unnamed: 0\": 22914, \"Date\": \"2020-05-24T00:00:00\", \"Country/Region\": \"China\", \"Confirmed\": 84095, \"Deaths\": 4638, \"Recovered\": 77767.0, \"Active\": 1690.0, \"New cases\": 11, \"New deaths\": 0, \"New recovered\": 8}, {\"Unnamed: 0\": 22939, \"Date\": \"2020-05-24T00:00:00\", \"Country/Region\": \"France\", \"Confirmed\": 182709, \"Deaths\": 28370, \"Recovered\": 64735.0, \"Active\": 89604.0, \"New cases\": 15, \"New deaths\": 35, \"New recovered\": 70}, {\"Unnamed: 0\": 22943, \"Date\": \"2020-05-24T00:00:00\", \"Country/Region\": \"Germany\", \"Confirmed\": 180328, \"Deaths\": 8283, \"Recovered\": 160281.0, \"Active\": 11764.0, \"New cases\": 342, \"New deaths\": 22, \"New recovered\": 565}, {\"Unnamed: 0\": 22956, \"Date\": \"2020-05-24T00:00:00\", \"Country/Region\": \"India\", \"Confirmed\": 138536, \"Deaths\": 4024, \"Recovered\": 57692.0, \"Active\": 76820.0, \"New cases\": 7113, \"New deaths\": 156, \"New recovered\": 3307}, {\"Unnamed: 0\": 22958, \"Date\": \"2020-05-24T00:00:00\", \"Country/Region\": \"Iran\", \"Confirmed\": 135701, \"Deaths\": 7417, \"Recovered\": 105801.0, \"Active\": 22483.0, \"New cases\": 2180, \"New deaths\": 58, \"New recovered\": 1729}, {\"Unnamed: 0\": 22962, \"Date\": \"2020-05-24T00:00:00\", \"Country/Region\": \"Italy\", \"Confirmed\": 229858, \"Deaths\": 32785, \"Recovered\": 140479.0, \"Active\": 56594.0, \"New cases\": 531, \"New deaths\": 50, \"New recovered\": 1639}, {\"Unnamed: 0\": 23034, \"Date\": \"2020-05-24T00:00:00\", \"Country/Region\": \"Spain\", \"Confirmed\": 235772, \"Deaths\": 28752, \"Recovered\": 150376.0, \"Active\": 56644.0, \"New cases\": 482, \"New deaths\": 74, \"New recovered\": 0}, {\"Unnamed: 0\": 23039, \"Date\": \"2020-05-24T00:00:00\", \"Country/Region\": \"Switzerland\", \"Confirmed\": 30736, \"Deaths\": 1906, \"Recovered\": 28100.0, \"Active\": 730.0, \"New cases\": 11, \"New deaths\": 1, \"New recovered\": 100}, {\"Unnamed: 0\": 23050, \"Date\": \"2020-05-24T00:00:00\", \"Country/Region\": \"US\", \"Confirmed\": 1651289, \"Deaths\": 98754, \"Recovered\": 366736.0, \"Active\": 1185799.0, \"New cases\": 20813, \"New deaths\": 608, \"New recovered\": 5497}, {\"Unnamed: 0\": 23054, \"Date\": \"2020-05-24T00:00:00\", \"Country/Region\": \"United Kingdom\", \"Confirmed\": 247037, \"Deaths\": 37257, \"Recovered\": 1151.0, \"Active\": 208629.0, \"New cases\": 1355, \"New deaths\": 441, \"New recovered\": 2}, {\"Unnamed: 0\": 23096, \"Date\": \"2020-05-25T00:00:00\", \"Country/Region\": \"Canada\", \"Confirmed\": 87105, \"Deaths\": 6654, \"Recovered\": 44651.0, \"Active\": 35800.0, \"New cases\": 1013, \"New deaths\": 121, \"New recovered\": 653}, {\"Unnamed: 0\": 23100, \"Date\": \"2020-05-25T00:00:00\", \"Country/Region\": \"China\", \"Confirmed\": 84102, \"Deaths\": 4638, \"Recovered\": 77776.0, \"Active\": 1688.0, \"New cases\": 7, \"New deaths\": 0, \"New recovered\": 9}, {\"Unnamed: 0\": 23125, \"Date\": \"2020-05-25T00:00:00\", \"Country/Region\": \"France\", \"Confirmed\": 183067, \"Deaths\": 28460, \"Recovered\": 65317.0, \"Active\": 89290.0, \"New cases\": 358, \"New deaths\": 90, \"New recovered\": 582}, {\"Unnamed: 0\": 23129, \"Date\": \"2020-05-25T00:00:00\", \"Country/Region\": \"Germany\", \"Confirmed\": 180600, \"Deaths\": 8309, \"Recovered\": 161199.0, \"Active\": 11092.0, \"New cases\": 272, \"New deaths\": 26, \"New recovered\": 918}, {\"Unnamed: 0\": 23142, \"Date\": \"2020-05-25T00:00:00\", \"Country/Region\": \"India\", \"Confirmed\": 144950, \"Deaths\": 4172, \"Recovered\": 60706.0, \"Active\": 80072.0, \"New cases\": 6414, \"New deaths\": 148, \"New recovered\": 3014}, {\"Unnamed: 0\": 23144, \"Date\": \"2020-05-25T00:00:00\", \"Country/Region\": \"Iran\", \"Confirmed\": 137724, \"Deaths\": 7451, \"Recovered\": 107713.0, \"Active\": 22560.0, \"New cases\": 2023, \"New deaths\": 34, \"New recovered\": 1912}, {\"Unnamed: 0\": 23148, \"Date\": \"2020-05-25T00:00:00\", \"Country/Region\": \"Italy\", \"Confirmed\": 230158, \"Deaths\": 32877, \"Recovered\": 141981.0, \"Active\": 55300.0, \"New cases\": 300, \"New deaths\": 92, \"New recovered\": 1502}, {\"Unnamed: 0\": 23220, \"Date\": \"2020-05-25T00:00:00\", \"Country/Region\": \"Spain\", \"Confirmed\": 235400, \"Deaths\": 26834, \"Recovered\": 150376.0, \"Active\": 58190.0, \"New cases\": 0, \"New deaths\": -1918, \"New recovered\": 0}, {\"Unnamed: 0\": 23225, \"Date\": \"2020-05-25T00:00:00\", \"Country/Region\": \"Switzerland\", \"Confirmed\": 30746, \"Deaths\": 1913, \"Recovered\": 28200.0, \"Active\": 633.0, \"New cases\": 10, \"New deaths\": 7, \"New recovered\": 100}, {\"Unnamed: 0\": 23236, \"Date\": \"2020-05-25T00:00:00\", \"Country/Region\": \"US\", \"Confirmed\": 1670280, \"Deaths\": 99267, \"Recovered\": 379157.0, \"Active\": 1191856.0, \"New cases\": 18991, \"New deaths\": 513, \"New recovered\": 12421}, {\"Unnamed: 0\": 23240, \"Date\": \"2020-05-25T00:00:00\", \"Country/Region\": \"United Kingdom\", \"Confirmed\": 248650, \"Deaths\": 37379, \"Recovered\": 1161.0, \"Active\": 210110.0, \"New cases\": 1613, \"New deaths\": 122, \"New recovered\": 10}, {\"Unnamed: 0\": 23282, \"Date\": \"2020-05-26T00:00:00\", \"Country/Region\": \"Canada\", \"Confirmed\": 88076, \"Deaths\": 6752, \"Recovered\": 45352.0, \"Active\": 35972.0, \"New cases\": 971, \"New deaths\": 98, \"New recovered\": 701}, {\"Unnamed: 0\": 23286, \"Date\": \"2020-05-26T00:00:00\", \"Country/Region\": \"China\", \"Confirmed\": 84103, \"Deaths\": 4638, \"Recovered\": 77782.0, \"Active\": 1683.0, \"New cases\": 1, \"New deaths\": 0, \"New recovered\": 6}, {\"Unnamed: 0\": 23311, \"Date\": \"2020-05-26T00:00:00\", \"Country/Region\": \"France\", \"Confirmed\": 182847, \"Deaths\": 28533, \"Recovered\": 65997.0, \"Active\": 88317.0, \"New cases\": 0, \"New deaths\": 73, \"New recovered\": 680}, {\"Unnamed: 0\": 23315, \"Date\": \"2020-05-26T00:00:00\", \"Country/Region\": \"Germany\", \"Confirmed\": 181200, \"Deaths\": 8372, \"Recovered\": 161967.0, \"Active\": 10861.0, \"New cases\": 600, \"New deaths\": 63, \"New recovered\": 768}, {\"Unnamed: 0\": 23328, \"Date\": \"2020-05-26T00:00:00\", \"Country/Region\": \"India\", \"Confirmed\": 150793, \"Deaths\": 4344, \"Recovered\": 64277.0, \"Active\": 82172.0, \"New cases\": 5843, \"New deaths\": 172, \"New recovered\": 3571}, {\"Unnamed: 0\": 23330, \"Date\": \"2020-05-26T00:00:00\", \"Country/Region\": \"Iran\", \"Confirmed\": 139511, \"Deaths\": 7508, \"Recovered\": 109437.0, \"Active\": 22566.0, \"New cases\": 1787, \"New deaths\": 57, \"New recovered\": 1724}, {\"Unnamed: 0\": 23334, \"Date\": \"2020-05-26T00:00:00\", \"Country/Region\": \"Italy\", \"Confirmed\": 230555, \"Deaths\": 32955, \"Recovered\": 144658.0, \"Active\": 52942.0, \"New cases\": 397, \"New deaths\": 78, \"New recovered\": 2677}, {\"Unnamed: 0\": 23406, \"Date\": \"2020-05-26T00:00:00\", \"Country/Region\": \"Spain\", \"Confirmed\": 236259, \"Deaths\": 27117, \"Recovered\": 150376.0, \"Active\": 58766.0, \"New cases\": 859, \"New deaths\": 283, \"New recovered\": 0}, {\"Unnamed: 0\": 23411, \"Date\": \"2020-05-26T00:00:00\", \"Country/Region\": \"Switzerland\", \"Confirmed\": 30761, \"Deaths\": 1915, \"Recovered\": 28200.0, \"Active\": 646.0, \"New cases\": 15, \"New deaths\": 2, \"New recovered\": 0}, {\"Unnamed: 0\": 23422, \"Date\": \"2020-05-26T00:00:00\", \"Country/Region\": \"US\", \"Confirmed\": 1689163, \"Deaths\": 99952, \"Recovered\": 384902.0, \"Active\": 1204309.0, \"New cases\": 18883, \"New deaths\": 685, \"New recovered\": 5745}, {\"Unnamed: 0\": 23426, \"Date\": \"2020-05-26T00:00:00\", \"Country/Region\": \"United Kingdom\", \"Confirmed\": 250309, \"Deaths\": 37515, \"Recovered\": 1161.0, \"Active\": 211633.0, \"New cases\": 1659, \"New deaths\": 136, \"New recovered\": 0}, {\"Unnamed: 0\": 23468, \"Date\": \"2020-05-27T00:00:00\", \"Country/Region\": \"Canada\", \"Confirmed\": 88975, \"Deaths\": 6875, \"Recovered\": 46248.0, \"Active\": 35852.0, \"New cases\": 899, \"New deaths\": 123, \"New recovered\": 896}, {\"Unnamed: 0\": 23472, \"Date\": \"2020-05-27T00:00:00\", \"Country/Region\": \"China\", \"Confirmed\": 84106, \"Deaths\": 4638, \"Recovered\": 77791.0, \"Active\": 1677.0, \"New cases\": 3, \"New deaths\": 0, \"New recovered\": 9}, {\"Unnamed: 0\": 23497, \"Date\": \"2020-05-27T00:00:00\", \"Country/Region\": \"France\", \"Confirmed\": 183038, \"Deaths\": 28599, \"Recovered\": 66702.0, \"Active\": 87737.0, \"New cases\": 191, \"New deaths\": 66, \"New recovered\": 705}, {\"Unnamed: 0\": 23501, \"Date\": \"2020-05-27T00:00:00\", \"Country/Region\": \"Germany\", \"Confirmed\": 181524, \"Deaths\": 8428, \"Recovered\": 162820.0, \"Active\": 10276.0, \"New cases\": 324, \"New deaths\": 56, \"New recovered\": 853}, {\"Unnamed: 0\": 23514, \"Date\": \"2020-05-27T00:00:00\", \"Country/Region\": \"India\", \"Confirmed\": 158086, \"Deaths\": 4534, \"Recovered\": 67749.0, \"Active\": 85803.0, \"New cases\": 7293, \"New deaths\": 190, \"New recovered\": 3472}, {\"Unnamed: 0\": 23516, \"Date\": \"2020-05-27T00:00:00\", \"Country/Region\": \"Iran\", \"Confirmed\": 141591, \"Deaths\": 7564, \"Recovered\": 111176.0, \"Active\": 22851.0, \"New cases\": 2080, \"New deaths\": 56, \"New recovered\": 1739}, {\"Unnamed: 0\": 23520, \"Date\": \"2020-05-27T00:00:00\", \"Country/Region\": \"Italy\", \"Confirmed\": 231139, \"Deaths\": 33072, \"Recovered\": 147101.0, \"Active\": 50966.0, \"New cases\": 584, \"New deaths\": 117, \"New recovered\": 2443}, {\"Unnamed: 0\": 23592, \"Date\": \"2020-05-27T00:00:00\", \"Country/Region\": \"Spain\", \"Confirmed\": 236259, \"Deaths\": 27117, \"Recovered\": 150376.0, \"Active\": 58766.0, \"New cases\": 0, \"New deaths\": 0, \"New recovered\": 0}, {\"Unnamed: 0\": 23597, \"Date\": \"2020-05-27T00:00:00\", \"Country/Region\": \"Switzerland\", \"Confirmed\": 30776, \"Deaths\": 1917, \"Recovered\": 28300.0, \"Active\": 559.0, \"New cases\": 15, \"New deaths\": 2, \"New recovered\": 100}, {\"Unnamed: 0\": 23608, \"Date\": \"2020-05-27T00:00:00\", \"Country/Region\": \"US\", \"Confirmed\": 1707445, \"Deaths\": 101461, \"Recovered\": 391508.0, \"Active\": 1214476.0, \"New cases\": 18282, \"New deaths\": 1509, \"New recovered\": 6606}, {\"Unnamed: 0\": 23612, \"Date\": \"2020-05-27T00:00:00\", \"Country/Region\": \"United Kingdom\", \"Confirmed\": 252118, \"Deaths\": 37958, \"Recovered\": 1166.0, \"Active\": 212994.0, \"New cases\": 1809, \"New deaths\": 443, \"New recovered\": 5}, {\"Unnamed: 0\": 23654, \"Date\": \"2020-05-28T00:00:00\", \"Country/Region\": \"Canada\", \"Confirmed\": 89962, \"Deaths\": 6981, \"Recovered\": 46961.0, \"Active\": 36020.0, \"New cases\": 987, \"New deaths\": 106, \"New recovered\": 713}, {\"Unnamed: 0\": 23658, \"Date\": \"2020-05-28T00:00:00\", \"Country/Region\": \"China\", \"Confirmed\": 84106, \"Deaths\": 4638, \"Recovered\": 77795.0, \"Active\": 1673.0, \"New cases\": 0, \"New deaths\": 0, \"New recovered\": 4}, {\"Unnamed: 0\": 23683, \"Date\": \"2020-05-28T00:00:00\", \"Country/Region\": \"France\", \"Confirmed\": 186364, \"Deaths\": 28665, \"Recovered\": 67309.0, \"Active\": 90390.0, \"New cases\": 3326, \"New deaths\": 66, \"New recovered\": 607}, {\"Unnamed: 0\": 23687, \"Date\": \"2020-05-28T00:00:00\", \"Country/Region\": \"Germany\", \"Confirmed\": 182196, \"Deaths\": 8470, \"Recovered\": 163360.0, \"Active\": 10366.0, \"New cases\": 672, \"New deaths\": 42, \"New recovered\": 540}, {\"Unnamed: 0\": 23700, \"Date\": \"2020-05-28T00:00:00\", \"Country/Region\": \"India\", \"Confirmed\": 165386, \"Deaths\": 4711, \"Recovered\": 70920.0, \"Active\": 89755.0, \"New cases\": 7300, \"New deaths\": 177, \"New recovered\": 3171}, {\"Unnamed: 0\": 23702, \"Date\": \"2020-05-28T00:00:00\", \"Country/Region\": \"Iran\", \"Confirmed\": 143849, \"Deaths\": 7627, \"Recovered\": 112988.0, \"Active\": 23234.0, \"New cases\": 2258, \"New deaths\": 63, \"New recovered\": 1812}, {\"Unnamed: 0\": 23706, \"Date\": \"2020-05-28T00:00:00\", \"Country/Region\": \"Italy\", \"Confirmed\": 231732, \"Deaths\": 33142, \"Recovered\": 150604.0, \"Active\": 47986.0, \"New cases\": 593, \"New deaths\": 70, \"New recovered\": 3503}, {\"Unnamed: 0\": 23778, \"Date\": \"2020-05-28T00:00:00\", \"Country/Region\": \"Spain\", \"Confirmed\": 237906, \"Deaths\": 27119, \"Recovered\": 150376.0, \"Active\": 60411.0, \"New cases\": 1647, \"New deaths\": 2, \"New recovered\": 0}, {\"Unnamed: 0\": 23783, \"Date\": \"2020-05-28T00:00:00\", \"Country/Region\": \"Switzerland\", \"Confirmed\": 30796, \"Deaths\": 1919, \"Recovered\": 28300.0, \"Active\": 577.0, \"New cases\": 20, \"New deaths\": 2, \"New recovered\": 0}, {\"Unnamed: 0\": 23794, \"Date\": \"2020-05-28T00:00:00\", \"Country/Region\": \"US\", \"Confirmed\": 1730260, \"Deaths\": 102643, \"Recovered\": 399991.0, \"Active\": 1227626.0, \"New cases\": 22815, \"New deaths\": 1182, \"New recovered\": 8483}, {\"Unnamed: 0\": 23798, \"Date\": \"2020-05-28T00:00:00\", \"Country/Region\": \"United Kingdom\", \"Confirmed\": 253854, \"Deaths\": 38374, \"Recovered\": 1167.0, \"Active\": 214313.0, \"New cases\": 1736, \"New deaths\": 416, \"New recovered\": 1}, {\"Unnamed: 0\": 23840, \"Date\": \"2020-05-29T00:00:00\", \"Country/Region\": \"Canada\", \"Confirmed\": 90895, \"Deaths\": 7062, \"Recovered\": 47905.0, \"Active\": 35928.0, \"New cases\": 933, \"New deaths\": 81, \"New recovered\": 944}, {\"Unnamed: 0\": 23844, \"Date\": \"2020-05-29T00:00:00\", \"Country/Region\": \"China\", \"Confirmed\": 84123, \"Deaths\": 4638, \"Recovered\": 77806.0, \"Active\": 1679.0, \"New cases\": 17, \"New deaths\": 0, \"New recovered\": 11}, {\"Unnamed: 0\": 23869, \"Date\": \"2020-05-29T00:00:00\", \"Country/Region\": \"France\", \"Confirmed\": 186923, \"Deaths\": 28717, \"Recovered\": 67921.0, \"Active\": 90285.0, \"New cases\": 559, \"New deaths\": 52, \"New recovered\": 612}, {\"Unnamed: 0\": 23873, \"Date\": \"2020-05-29T00:00:00\", \"Country/Region\": \"Germany\", \"Confirmed\": 182922, \"Deaths\": 8504, \"Recovered\": 164245.0, \"Active\": 10173.0, \"New cases\": 726, \"New deaths\": 34, \"New recovered\": 885}, {\"Unnamed: 0\": 23886, \"Date\": \"2020-05-29T00:00:00\", \"Country/Region\": \"India\", \"Confirmed\": 173491, \"Deaths\": 4980, \"Recovered\": 82627.0, \"Active\": 85884.0, \"New cases\": 8105, \"New deaths\": 269, \"New recovered\": 11707}, {\"Unnamed: 0\": 23888, \"Date\": \"2020-05-29T00:00:00\", \"Country/Region\": \"Iran\", \"Confirmed\": 146668, \"Deaths\": 7677, \"Recovered\": 114931.0, \"Active\": 24060.0, \"New cases\": 2819, \"New deaths\": 50, \"New recovered\": 1943}, {\"Unnamed: 0\": 23892, \"Date\": \"2020-05-29T00:00:00\", \"Country/Region\": \"Italy\", \"Confirmed\": 232248, \"Deaths\": 33229, \"Recovered\": 152844.0, \"Active\": 46175.0, \"New cases\": 516, \"New deaths\": 87, \"New recovered\": 2240}, {\"Unnamed: 0\": 23964, \"Date\": \"2020-05-29T00:00:00\", \"Country/Region\": \"Spain\", \"Confirmed\": 238564, \"Deaths\": 27121, \"Recovered\": 150376.0, \"Active\": 61067.0, \"New cases\": 658, \"New deaths\": 2, \"New recovered\": 0}, {\"Unnamed: 0\": 23969, \"Date\": \"2020-05-29T00:00:00\", \"Country/Region\": \"Switzerland\", \"Confirmed\": 30828, \"Deaths\": 1919, \"Recovered\": 28300.0, \"Active\": 609.0, \"New cases\": 32, \"New deaths\": 0, \"New recovered\": 0}, {\"Unnamed: 0\": 23980, \"Date\": \"2020-05-29T00:00:00\", \"Country/Region\": \"US\", \"Confirmed\": 1754764, \"Deaths\": 103809, \"Recovered\": 406446.0, \"Active\": 1244509.0, \"New cases\": 24504, \"New deaths\": 1166, \"New recovered\": 6455}, {\"Unnamed: 0\": 23984, \"Date\": \"2020-05-29T00:00:00\", \"Country/Region\": \"United Kingdom\", \"Confirmed\": 255362, \"Deaths\": 38747, \"Recovered\": 1172.0, \"Active\": 215443.0, \"New cases\": 1508, \"New deaths\": 373, \"New recovered\": 5}, {\"Unnamed: 0\": 24026, \"Date\": \"2020-05-30T00:00:00\", \"Country/Region\": \"Canada\", \"Confirmed\": 91667, \"Deaths\": 7158, \"Recovered\": 48517.0, \"Active\": 35992.0, \"New cases\": 772, \"New deaths\": 96, \"New recovered\": 612}, {\"Unnamed: 0\": 24030, \"Date\": \"2020-05-30T00:00:00\", \"Country/Region\": \"China\", \"Confirmed\": 84128, \"Deaths\": 4638, \"Recovered\": 77810.0, \"Active\": 1680.0, \"New cases\": 5, \"New deaths\": 0, \"New recovered\": 4}, {\"Unnamed: 0\": 24055, \"Date\": \"2020-05-30T00:00:00\", \"Country/Region\": \"France\", \"Confirmed\": 188752, \"Deaths\": 28774, \"Recovered\": 68386.0, \"Active\": 91592.0, \"New cases\": 1829, \"New deaths\": 57, \"New recovered\": 465}, {\"Unnamed: 0\": 24059, \"Date\": \"2020-05-30T00:00:00\", \"Country/Region\": \"Germany\", \"Confirmed\": 183189, \"Deaths\": 8530, \"Recovered\": 164908.0, \"Active\": 9751.0, \"New cases\": 267, \"New deaths\": 26, \"New recovered\": 663}, {\"Unnamed: 0\": 24072, \"Date\": \"2020-05-30T00:00:00\", \"Country/Region\": \"India\", \"Confirmed\": 181827, \"Deaths\": 5185, \"Recovered\": 86936.0, \"Active\": 89706.0, \"New cases\": 8336, \"New deaths\": 205, \"New recovered\": 4309}, {\"Unnamed: 0\": 24074, \"Date\": \"2020-05-30T00:00:00\", \"Country/Region\": \"Iran\", \"Confirmed\": 148950, \"Deaths\": 7734, \"Recovered\": 116827.0, \"Active\": 24389.0, \"New cases\": 2282, \"New deaths\": 57, \"New recovered\": 1896}, {\"Unnamed: 0\": 24078, \"Date\": \"2020-05-30T00:00:00\", \"Country/Region\": \"Italy\", \"Confirmed\": 232664, \"Deaths\": 33340, \"Recovered\": 155633.0, \"Active\": 43691.0, \"New cases\": 416, \"New deaths\": 111, \"New recovered\": 2789}, {\"Unnamed: 0\": 24150, \"Date\": \"2020-05-30T00:00:00\", \"Country/Region\": \"Spain\", \"Confirmed\": 239228, \"Deaths\": 27125, \"Recovered\": 150376.0, \"Active\": 61727.0, \"New cases\": 664, \"New deaths\": 4, \"New recovered\": 0}, {\"Unnamed: 0\": 24155, \"Date\": \"2020-05-30T00:00:00\", \"Country/Region\": \"Switzerland\", \"Confirmed\": 30845, \"Deaths\": 1919, \"Recovered\": 28400.0, \"Active\": 526.0, \"New cases\": 17, \"New deaths\": 0, \"New recovered\": 100}, {\"Unnamed: 0\": 24166, \"Date\": \"2020-05-30T00:00:00\", \"Country/Region\": \"US\", \"Confirmed\": 1779214, \"Deaths\": 104778, \"Recovered\": 416461.0, \"Active\": 1257975.0, \"New cases\": 24450, \"New deaths\": 969, \"New recovered\": 10015}, {\"Unnamed: 0\": 24170, \"Date\": \"2020-05-30T00:00:00\", \"Country/Region\": \"United Kingdom\", \"Confirmed\": 256469, \"Deaths\": 38977, \"Recovered\": 1187.0, \"Active\": 216305.0, \"New cases\": 1107, \"New deaths\": 230, \"New recovered\": 15}, {\"Unnamed: 0\": 24212, \"Date\": \"2020-05-31T00:00:00\", \"Country/Region\": \"Canada\", \"Confirmed\": 92465, \"Deaths\": 7373, \"Recovered\": 49213.0, \"Active\": 35879.0, \"New cases\": 798, \"New deaths\": 215, \"New recovered\": 696}, {\"Unnamed: 0\": 24216, \"Date\": \"2020-05-31T00:00:00\", \"Country/Region\": \"China\", \"Confirmed\": 84146, \"Deaths\": 4638, \"Recovered\": 77813.0, \"Active\": 1695.0, \"New cases\": 18, \"New deaths\": 0, \"New recovered\": 3}, {\"Unnamed: 0\": 24241, \"Date\": \"2020-05-31T00:00:00\", \"Country/Region\": \"France\", \"Confirmed\": 189009, \"Deaths\": 28805, \"Recovered\": 68473.0, \"Active\": 91731.0, \"New cases\": 257, \"New deaths\": 31, \"New recovered\": 87}, {\"Unnamed: 0\": 24245, \"Date\": \"2020-05-31T00:00:00\", \"Country/Region\": \"Germany\", \"Confirmed\": 183410, \"Deaths\": 8540, \"Recovered\": 165352.0, \"Active\": 9518.0, \"New cases\": 221, \"New deaths\": 10, \"New recovered\": 444}, {\"Unnamed: 0\": 24258, \"Date\": \"2020-05-31T00:00:00\", \"Country/Region\": \"India\", \"Confirmed\": 190609, \"Deaths\": 5408, \"Recovered\": 91852.0, \"Active\": 93349.0, \"New cases\": 8782, \"New deaths\": 223, \"New recovered\": 4916}, {\"Unnamed: 0\": 24260, \"Date\": \"2020-05-31T00:00:00\", \"Country/Region\": \"Iran\", \"Confirmed\": 151466, \"Deaths\": 7797, \"Recovered\": 118848.0, \"Active\": 24821.0, \"New cases\": 2516, \"New deaths\": 63, \"New recovered\": 2021}, {\"Unnamed: 0\": 24264, \"Date\": \"2020-05-31T00:00:00\", \"Country/Region\": \"Italy\", \"Confirmed\": 232997, \"Deaths\": 33415, \"Recovered\": 157507.0, \"Active\": 42075.0, \"New cases\": 333, \"New deaths\": 75, \"New recovered\": 1874}, {\"Unnamed: 0\": 24336, \"Date\": \"2020-05-31T00:00:00\", \"Country/Region\": \"Spain\", \"Confirmed\": 239479, \"Deaths\": 27127, \"Recovered\": 150376.0, \"Active\": 61976.0, \"New cases\": 251, \"New deaths\": 2, \"New recovered\": 0}, {\"Unnamed: 0\": 24341, \"Date\": \"2020-05-31T00:00:00\", \"Country/Region\": \"Switzerland\", \"Confirmed\": 30862, \"Deaths\": 1920, \"Recovered\": 28500.0, \"Active\": 442.0, \"New cases\": 17, \"New deaths\": 1, \"New recovered\": 100}, {\"Unnamed: 0\": 24352, \"Date\": \"2020-05-31T00:00:00\", \"Country/Region\": \"US\", \"Confirmed\": 1799124, \"Deaths\": 105364, \"Recovered\": 444758.0, \"Active\": 1249002.0, \"New cases\": 19910, \"New deaths\": 586, \"New recovered\": 28297}, {\"Unnamed: 0\": 24356, \"Date\": \"2020-05-31T00:00:00\", \"Country/Region\": \"United Kingdom\", \"Confirmed\": 257539, \"Deaths\": 39092, \"Recovered\": 1190.0, \"Active\": 217257.0, \"New cases\": 1070, \"New deaths\": 115, \"New recovered\": 3}, {\"Unnamed: 0\": 24398, \"Date\": \"2020-06-01T00:00:00\", \"Country/Region\": \"Canada\", \"Confirmed\": 93274, \"Deaths\": 7403, \"Recovered\": 50091.0, \"Active\": 35780.0, \"New cases\": 809, \"New deaths\": 30, \"New recovered\": 878}, {\"Unnamed: 0\": 24402, \"Date\": \"2020-06-01T00:00:00\", \"Country/Region\": \"China\", \"Confirmed\": 84154, \"Deaths\": 4638, \"Recovered\": 77822.0, \"Active\": 1694.0, \"New cases\": 8, \"New deaths\": 0, \"New recovered\": 9}, {\"Unnamed: 0\": 24427, \"Date\": \"2020-06-01T00:00:00\", \"Country/Region\": \"France\", \"Confirmed\": 189348, \"Deaths\": 28836, \"Recovered\": 68558.0, \"Active\": 91954.0, \"New cases\": 339, \"New deaths\": 31, \"New recovered\": 85}, {\"Unnamed: 0\": 24431, \"Date\": \"2020-06-01T00:00:00\", \"Country/Region\": \"Germany\", \"Confirmed\": 183594, \"Deaths\": 8555, \"Recovered\": 165632.0, \"Active\": 9407.0, \"New cases\": 184, \"New deaths\": 15, \"New recovered\": 280}, {\"Unnamed: 0\": 24444, \"Date\": \"2020-06-01T00:00:00\", \"Country/Region\": \"India\", \"Confirmed\": 198370, \"Deaths\": 5608, \"Recovered\": 95754.0, \"Active\": 97008.0, \"New cases\": 7761, \"New deaths\": 200, \"New recovered\": 3902}, {\"Unnamed: 0\": 24446, \"Date\": \"2020-06-01T00:00:00\", \"Country/Region\": \"Iran\", \"Confirmed\": 154445, \"Deaths\": 7878, \"Recovered\": 121004.0, \"Active\": 25563.0, \"New cases\": 2979, \"New deaths\": 81, \"New recovered\": 2156}, {\"Unnamed: 0\": 24450, \"Date\": \"2020-06-01T00:00:00\", \"Country/Region\": \"Italy\", \"Confirmed\": 233197, \"Deaths\": 33475, \"Recovered\": 158355.0, \"Active\": 41367.0, \"New cases\": 200, \"New deaths\": 60, \"New recovered\": 848}, {\"Unnamed: 0\": 24522, \"Date\": \"2020-06-01T00:00:00\", \"Country/Region\": \"Spain\", \"Confirmed\": 239638, \"Deaths\": 27127, \"Recovered\": 150376.0, \"Active\": 62135.0, \"New cases\": 159, \"New deaths\": 0, \"New recovered\": 0}, {\"Unnamed: 0\": 24527, \"Date\": \"2020-06-01T00:00:00\", \"Country/Region\": \"Switzerland\", \"Confirmed\": 30871, \"Deaths\": 1920, \"Recovered\": 28500.0, \"Active\": 451.0, \"New cases\": 9, \"New deaths\": 0, \"New recovered\": 0}, {\"Unnamed: 0\": 24538, \"Date\": \"2020-06-01T00:00:00\", \"Country/Region\": \"US\", \"Confirmed\": 1816479, \"Deaths\": 106136, \"Recovered\": 458231.0, \"Active\": 1252112.0, \"New cases\": 17355, \"New deaths\": 772, \"New recovered\": 13473}, {\"Unnamed: 0\": 24542, \"Date\": \"2020-06-01T00:00:00\", \"Country/Region\": \"United Kingdom\", \"Confirmed\": 258983, \"Deaths\": 39203, \"Recovered\": 1221.0, \"Active\": 218559.0, \"New cases\": 1444, \"New deaths\": 111, \"New recovered\": 31}, {\"Unnamed: 0\": 24584, \"Date\": \"2020-06-02T00:00:00\", \"Country/Region\": \"Canada\", \"Confirmed\": 93947, \"Deaths\": 7477, \"Recovered\": 50725.0, \"Active\": 35745.0, \"New cases\": 673, \"New deaths\": 74, \"New recovered\": 634}, {\"Unnamed: 0\": 24588, \"Date\": \"2020-06-02T00:00:00\", \"Country/Region\": \"China\", \"Confirmed\": 84161, \"Deaths\": 4638, \"Recovered\": 77824.0, \"Active\": 1699.0, \"New cases\": 7, \"New deaths\": 0, \"New recovered\": 2}, {\"Unnamed: 0\": 24613, \"Date\": \"2020-06-02T00:00:00\", \"Country/Region\": \"France\", \"Confirmed\": 188582, \"Deaths\": 28943, \"Recovered\": 68930.0, \"Active\": 90709.0, \"New cases\": 0, \"New deaths\": 107, \"New recovered\": 372}, {\"Unnamed: 0\": 24617, \"Date\": \"2020-06-02T00:00:00\", \"Country/Region\": \"Germany\", \"Confirmed\": 183879, \"Deaths\": 8563, \"Recovered\": 166609.0, \"Active\": 8707.0, \"New cases\": 285, \"New deaths\": 8, \"New recovered\": 977}, {\"Unnamed: 0\": 24630, \"Date\": \"2020-06-02T00:00:00\", \"Country/Region\": \"India\", \"Confirmed\": 207191, \"Deaths\": 5829, \"Recovered\": 100285.0, \"Active\": 101077.0, \"New cases\": 8821, \"New deaths\": 221, \"New recovered\": 4531}, {\"Unnamed: 0\": 24632, \"Date\": \"2020-06-02T00:00:00\", \"Country/Region\": \"Iran\", \"Confirmed\": 157562, \"Deaths\": 7942, \"Recovered\": 123077.0, \"Active\": 26543.0, \"New cases\": 3117, \"New deaths\": 64, \"New recovered\": 2073}, {\"Unnamed: 0\": 24636, \"Date\": \"2020-06-02T00:00:00\", \"Country/Region\": \"Italy\", \"Confirmed\": 233515, \"Deaths\": 33530, \"Recovered\": 160092.0, \"Active\": 39893.0, \"New cases\": 318, \"New deaths\": 55, \"New recovered\": 1737}, {\"Unnamed: 0\": 24708, \"Date\": \"2020-06-02T00:00:00\", \"Country/Region\": \"Spain\", \"Confirmed\": 239932, \"Deaths\": 27127, \"Recovered\": 150376.0, \"Active\": 62429.0, \"New cases\": 294, \"New deaths\": 0, \"New recovered\": 0}, {\"Unnamed: 0\": 24713, \"Date\": \"2020-06-02T00:00:00\", \"Country/Region\": \"Switzerland\", \"Confirmed\": 30874, \"Deaths\": 1920, \"Recovered\": 28500.0, \"Active\": 454.0, \"New cases\": 3, \"New deaths\": 0, \"New recovered\": 0}, {\"Unnamed: 0\": 24724, \"Date\": \"2020-06-02T00:00:00\", \"Country/Region\": \"US\", \"Confirmed\": 1837374, \"Deaths\": 107169, \"Recovered\": 463868.0, \"Active\": 1266337.0, \"New cases\": 20895, \"New deaths\": 1033, \"New recovered\": 5637}, {\"Unnamed: 0\": 24728, \"Date\": \"2020-06-02T00:00:00\", \"Country/Region\": \"United Kingdom\", \"Confirmed\": 260453, \"Deaths\": 39530, \"Recovered\": 1224.0, \"Active\": 219699.0, \"New cases\": 1470, \"New deaths\": 327, \"New recovered\": 3}, {\"Unnamed: 0\": 24770, \"Date\": \"2020-06-03T00:00:00\", \"Country/Region\": \"Canada\", \"Confirmed\": 94628, \"Deaths\": 7578, \"Recovered\": 51506.0, \"Active\": 35544.0, \"New cases\": 681, \"New deaths\": 101, \"New recovered\": 781}, {\"Unnamed: 0\": 24774, \"Date\": \"2020-06-03T00:00:00\", \"Country/Region\": \"China\", \"Confirmed\": 84160, \"Deaths\": 4638, \"Recovered\": 77828.0, \"Active\": 1694.0, \"New cases\": 0, \"New deaths\": 0, \"New recovered\": 4}, {\"Unnamed: 0\": 24799, \"Date\": \"2020-06-03T00:00:00\", \"Country/Region\": \"France\", \"Confirmed\": 188934, \"Deaths\": 29024, \"Recovered\": 69573.0, \"Active\": 90337.0, \"New cases\": 352, \"New deaths\": 81, \"New recovered\": 643}, {\"Unnamed: 0\": 24803, \"Date\": \"2020-06-03T00:00:00\", \"Country/Region\": \"Germany\", \"Confirmed\": 184121, \"Deaths\": 8602, \"Recovered\": 167453.0, \"Active\": 8066.0, \"New cases\": 242, \"New deaths\": 39, \"New recovered\": 844}, {\"Unnamed: 0\": 24816, \"Date\": \"2020-06-03T00:00:00\", \"Country/Region\": \"India\", \"Confirmed\": 216824, \"Deaths\": 6088, \"Recovered\": 104071.0, \"Active\": 106665.0, \"New cases\": 9633, \"New deaths\": 259, \"New recovered\": 3786}, {\"Unnamed: 0\": 24818, \"Date\": \"2020-06-03T00:00:00\", \"Country/Region\": \"Iran\", \"Confirmed\": 160696, \"Deaths\": 8012, \"Recovered\": 125206.0, \"Active\": 27478.0, \"New cases\": 3134, \"New deaths\": 70, \"New recovered\": 2129}, {\"Unnamed: 0\": 24822, \"Date\": \"2020-06-03T00:00:00\", \"Country/Region\": \"Italy\", \"Confirmed\": 233836, \"Deaths\": 33601, \"Recovered\": 160938.0, \"Active\": 39297.0, \"New cases\": 321, \"New deaths\": 71, \"New recovered\": 846}, {\"Unnamed: 0\": 24894, \"Date\": \"2020-06-03T00:00:00\", \"Country/Region\": \"Spain\", \"Confirmed\": 240326, \"Deaths\": 27128, \"Recovered\": 150376.0, \"Active\": 62822.0, \"New cases\": 394, \"New deaths\": 1, \"New recovered\": 0}, {\"Unnamed: 0\": 24899, \"Date\": \"2020-06-03T00:00:00\", \"Country/Region\": \"Switzerland\", \"Confirmed\": 30893, \"Deaths\": 1921, \"Recovered\": 28600.0, \"Active\": 372.0, \"New cases\": 19, \"New deaths\": 1, \"New recovered\": 100}, {\"Unnamed: 0\": 24910, \"Date\": \"2020-06-03T00:00:00\", \"Country/Region\": \"US\", \"Confirmed\": 1857332, \"Deaths\": 108159, \"Recovered\": 479258.0, \"Active\": 1269915.0, \"New cases\": 19958, \"New deaths\": 990, \"New recovered\": 15390}, {\"Unnamed: 0\": 24914, \"Date\": \"2020-06-03T00:00:00\", \"Country/Region\": \"United Kingdom\", \"Confirmed\": 261802, \"Deaths\": 39895, \"Recovered\": 1212.0, \"Active\": 220695.0, \"New cases\": 1349, \"New deaths\": 365, \"New recovered\": -12}, {\"Unnamed: 0\": 24956, \"Date\": \"2020-06-04T00:00:00\", \"Country/Region\": \"Canada\", \"Confirmed\": 95256, \"Deaths\": 7716, \"Recovered\": 52184.0, \"Active\": 35356.0, \"New cases\": 628, \"New deaths\": 138, \"New recovered\": 678}, {\"Unnamed: 0\": 24960, \"Date\": \"2020-06-04T00:00:00\", \"Country/Region\": \"China\", \"Confirmed\": 84171, \"Deaths\": 4638, \"Recovered\": 77839.0, \"Active\": 1694.0, \"New cases\": 11, \"New deaths\": 0, \"New recovered\": 11}, {\"Unnamed: 0\": 24985, \"Date\": \"2020-06-04T00:00:00\", \"Country/Region\": \"France\", \"Confirmed\": 189701, \"Deaths\": 29068, \"Recovered\": 70094.0, \"Active\": 90539.0, \"New cases\": 767, \"New deaths\": 44, \"New recovered\": 521}, {\"Unnamed: 0\": 24989, \"Date\": \"2020-06-04T00:00:00\", \"Country/Region\": \"Germany\", \"Confirmed\": 184472, \"Deaths\": 8635, \"Recovered\": 167909.0, \"Active\": 7928.0, \"New cases\": 351, \"New deaths\": 33, \"New recovered\": 456}, {\"Unnamed: 0\": 25002, \"Date\": \"2020-06-04T00:00:00\", \"Country/Region\": \"India\", \"Confirmed\": 226713, \"Deaths\": 6363, \"Recovered\": 108450.0, \"Active\": 111900.0, \"New cases\": 9889, \"New deaths\": 275, \"New recovered\": 4379}, {\"Unnamed: 0\": 25004, \"Date\": \"2020-06-04T00:00:00\", \"Country/Region\": \"Iran\", \"Confirmed\": 164270, \"Deaths\": 8071, \"Recovered\": 127485.0, \"Active\": 28714.0, \"New cases\": 3574, \"New deaths\": 59, \"New recovered\": 2279}, {\"Unnamed: 0\": 25008, \"Date\": \"2020-06-04T00:00:00\", \"Country/Region\": \"Italy\", \"Confirmed\": 234013, \"Deaths\": 33689, \"Recovered\": 161895.0, \"Active\": 38429.0, \"New cases\": 177, \"New deaths\": 88, \"New recovered\": 957}, {\"Unnamed: 0\": 25080, \"Date\": \"2020-06-04T00:00:00\", \"Country/Region\": \"Spain\", \"Confirmed\": 240660, \"Deaths\": 27133, \"Recovered\": 150376.0, \"Active\": 63151.0, \"New cases\": 334, \"New deaths\": 5, \"New recovered\": 0}, {\"Unnamed: 0\": 25085, \"Date\": \"2020-06-04T00:00:00\", \"Country/Region\": \"Switzerland\", \"Confirmed\": 30913, \"Deaths\": 1921, \"Recovered\": 28600.0, \"Active\": 392.0, \"New cases\": 20, \"New deaths\": 0, \"New recovered\": 0}, {\"Unnamed: 0\": 25096, \"Date\": \"2020-06-04T00:00:00\", \"Country/Region\": \"US\", \"Confirmed\": 1878683, \"Deaths\": 109168, \"Recovered\": 485002.0, \"Active\": 1284513.0, \"New cases\": 21351, \"New deaths\": 1009, \"New recovered\": 5744}, {\"Unnamed: 0\": 25100, \"Date\": \"2020-06-04T00:00:00\", \"Country/Region\": \"United Kingdom\", \"Confirmed\": 263040, \"Deaths\": 40072, \"Recovered\": 1219.0, \"Active\": 221749.0, \"New cases\": 1238, \"New deaths\": 177, \"New recovered\": 7}, {\"Unnamed: 0\": 25142, \"Date\": \"2020-06-05T00:00:00\", \"Country/Region\": \"Canada\", \"Confirmed\": 95934, \"Deaths\": 7777, \"Recovered\": 53074.0, \"Active\": 35083.0, \"New cases\": 678, \"New deaths\": 61, \"New recovered\": 890}, {\"Unnamed: 0\": 25146, \"Date\": \"2020-06-05T00:00:00\", \"Country/Region\": \"China\", \"Confirmed\": 84177, \"Deaths\": 4638, \"Recovered\": 77844.0, \"Active\": 1695.0, \"New cases\": 6, \"New deaths\": 0, \"New recovered\": 5}, {\"Unnamed: 0\": 25171, \"Date\": \"2020-06-05T00:00:00\", \"Country/Region\": \"France\", \"Confirmed\": 190312, \"Deaths\": 29114, \"Recovered\": 70622.0, \"Active\": 90576.0, \"New cases\": 611, \"New deaths\": 46, \"New recovered\": 528}, {\"Unnamed: 0\": 25175, \"Date\": \"2020-06-05T00:00:00\", \"Country/Region\": \"Germany\", \"Confirmed\": 184924, \"Deaths\": 8658, \"Recovered\": 168480.0, \"Active\": 7786.0, \"New cases\": 452, \"New deaths\": 23, \"New recovered\": 571}, {\"Unnamed: 0\": 25188, \"Date\": \"2020-06-05T00:00:00\", \"Country/Region\": \"India\", \"Confirmed\": 236184, \"Deaths\": 6649, \"Recovered\": 113233.0, \"Active\": 116302.0, \"New cases\": 9471, \"New deaths\": 286, \"New recovered\": 4783}, {\"Unnamed: 0\": 25190, \"Date\": \"2020-06-05T00:00:00\", \"Country/Region\": \"Iran\", \"Confirmed\": 167156, \"Deaths\": 8134, \"Recovered\": 129741.0, \"Active\": 29281.0, \"New cases\": 2886, \"New deaths\": 63, \"New recovered\": 2256}, {\"Unnamed: 0\": 25194, \"Date\": \"2020-06-05T00:00:00\", \"Country/Region\": \"Italy\", \"Confirmed\": 234531, \"Deaths\": 33774, \"Recovered\": 163781.0, \"Active\": 36976.0, \"New cases\": 518, \"New deaths\": 85, \"New recovered\": 1886}, {\"Unnamed: 0\": 25266, \"Date\": \"2020-06-05T00:00:00\", \"Country/Region\": \"Spain\", \"Confirmed\": 240978, \"Deaths\": 27134, \"Recovered\": 150376.0, \"Active\": 63468.0, \"New cases\": 318, \"New deaths\": 1, \"New recovered\": 0}, {\"Unnamed: 0\": 25271, \"Date\": \"2020-06-05T00:00:00\", \"Country/Region\": \"Switzerland\", \"Confirmed\": 30936, \"Deaths\": 1921, \"Recovered\": 28600.0, \"Active\": 415.0, \"New cases\": 23, \"New deaths\": 0, \"New recovered\": 0}, {\"Unnamed: 0\": 25282, \"Date\": \"2020-06-05T00:00:00\", \"Country/Region\": \"US\", \"Confirmed\": 1903907, \"Deaths\": 110138, \"Recovered\": 491706.0, \"Active\": 1302063.0, \"New cases\": 25224, \"New deaths\": 970, \"New recovered\": 6704}, {\"Unnamed: 0\": 25286, \"Date\": \"2020-06-05T00:00:00\", \"Country/Region\": \"United Kingdom\", \"Confirmed\": 264150, \"Deaths\": 40430, \"Recovered\": 1228.0, \"Active\": 222492.0, \"New cases\": 1110, \"New deaths\": 358, \"New recovered\": 9}, {\"Unnamed: 0\": 25328, \"Date\": \"2020-06-06T00:00:00\", \"Country/Region\": \"Canada\", \"Confirmed\": 96462, \"Deaths\": 7849, \"Recovered\": 54087.0, \"Active\": 34526.0, \"New cases\": 528, \"New deaths\": 72, \"New recovered\": 1013}, {\"Unnamed: 0\": 25332, \"Date\": \"2020-06-06T00:00:00\", \"Country/Region\": \"China\", \"Confirmed\": 84186, \"Deaths\": 4638, \"Recovered\": 77848.0, \"Active\": 1700.0, \"New cases\": 9, \"New deaths\": 0, \"New recovered\": 4}, {\"Unnamed: 0\": 25357, \"Date\": \"2020-06-06T00:00:00\", \"Country/Region\": \"France\", \"Confirmed\": 190891, \"Deaths\": 29145, \"Recovered\": 70924.0, \"Active\": 90822.0, \"New cases\": 579, \"New deaths\": 31, \"New recovered\": 302}, {\"Unnamed: 0\": 25361, \"Date\": \"2020-06-06T00:00:00\", \"Country/Region\": \"Germany\", \"Confirmed\": 185450, \"Deaths\": 8673, \"Recovered\": 168958.0, \"Active\": 7819.0, \"New cases\": 526, \"New deaths\": 15, \"New recovered\": 478}, {\"Unnamed: 0\": 25374, \"Date\": \"2020-06-06T00:00:00\", \"Country/Region\": \"India\", \"Confirmed\": 246622, \"Deaths\": 6946, \"Recovered\": 118695.0, \"Active\": 120981.0, \"New cases\": 10438, \"New deaths\": 297, \"New recovered\": 5462}, {\"Unnamed: 0\": 25376, \"Date\": \"2020-06-06T00:00:00\", \"Country/Region\": \"Iran\", \"Confirmed\": 169425, \"Deaths\": 8209, \"Recovered\": 132038.0, \"Active\": 29178.0, \"New cases\": 2269, \"New deaths\": 75, \"New recovered\": 2297}, {\"Unnamed: 0\": 25380, \"Date\": \"2020-06-06T00:00:00\", \"Country/Region\": \"Italy\", \"Confirmed\": 234801, \"Deaths\": 33846, \"Recovered\": 165078.0, \"Active\": 35877.0, \"New cases\": 270, \"New deaths\": 72, \"New recovered\": 1297}, {\"Unnamed: 0\": 25452, \"Date\": \"2020-06-06T00:00:00\", \"Country/Region\": \"Spain\", \"Confirmed\": 241310, \"Deaths\": 27135, \"Recovered\": 150376.0, \"Active\": 63799.0, \"New cases\": 332, \"New deaths\": 1, \"New recovered\": 0}, {\"Unnamed: 0\": 25457, \"Date\": \"2020-06-06T00:00:00\", \"Country/Region\": \"Switzerland\", \"Confirmed\": 30956, \"Deaths\": 1921, \"Recovered\": 28700.0, \"Active\": 335.0, \"New cases\": 20, \"New deaths\": 0, \"New recovered\": 100}, {\"Unnamed: 0\": 25468, \"Date\": \"2020-06-06T00:00:00\", \"Country/Region\": \"US\", \"Confirmed\": 1926639, \"Deaths\": 110818, \"Recovered\": 500849.0, \"Active\": 1314972.0, \"New cases\": 22732, \"New deaths\": 680, \"New recovered\": 9143}, {\"Unnamed: 0\": 25472, \"Date\": \"2020-06-06T00:00:00\", \"Country/Region\": \"United Kingdom\", \"Confirmed\": 264944, \"Deaths\": 40637, \"Recovered\": 1230.0, \"Active\": 223077.0, \"New cases\": 794, \"New deaths\": 207, \"New recovered\": 2}, {\"Unnamed: 0\": 25514, \"Date\": \"2020-06-07T00:00:00\", \"Country/Region\": \"Canada\", \"Confirmed\": 97165, \"Deaths\": 7876, \"Recovered\": 54675.0, \"Active\": 34614.0, \"New cases\": 703, \"New deaths\": 27, \"New recovered\": 588}, {\"Unnamed: 0\": 25518, \"Date\": \"2020-06-07T00:00:00\", \"Country/Region\": \"China\", \"Confirmed\": 84191, \"Deaths\": 4638, \"Recovered\": 77858.0, \"Active\": 1695.0, \"New cases\": 5, \"New deaths\": 0, \"New recovered\": 10}, {\"Unnamed: 0\": 25543, \"Date\": \"2020-06-07T00:00:00\", \"Country/Region\": \"France\", \"Confirmed\": 191234, \"Deaths\": 29158, \"Recovered\": 70961.0, \"Active\": 91115.0, \"New cases\": 343, \"New deaths\": 13, \"New recovered\": 37}, {\"Unnamed: 0\": 25547, \"Date\": \"2020-06-07T00:00:00\", \"Country/Region\": \"Germany\", \"Confirmed\": 185750, \"Deaths\": 8685, \"Recovered\": 169224.0, \"Active\": 7841.0, \"New cases\": 300, \"New deaths\": 12, \"New recovered\": 266}, {\"Unnamed: 0\": 25560, \"Date\": \"2020-06-07T00:00:00\", \"Country/Region\": \"India\", \"Confirmed\": 257486, \"Deaths\": 7207, \"Recovered\": 123848.0, \"Active\": 126431.0, \"New cases\": 10864, \"New deaths\": 261, \"New recovered\": 5153}, {\"Unnamed: 0\": 25562, \"Date\": \"2020-06-07T00:00:00\", \"Country/Region\": \"Iran\", \"Confirmed\": 171789, \"Deaths\": 8281, \"Recovered\": 134349.0, \"Active\": 29159.0, \"New cases\": 2364, \"New deaths\": 72, \"New recovered\": 2311}, {\"Unnamed: 0\": 25566, \"Date\": \"2020-06-07T00:00:00\", \"Country/Region\": \"Italy\", \"Confirmed\": 234998, \"Deaths\": 33899, \"Recovered\": 165837.0, \"Active\": 35262.0, \"New cases\": 197, \"New deaths\": 53, \"New recovered\": 759}, {\"Unnamed: 0\": 25638, \"Date\": \"2020-06-07T00:00:00\", \"Country/Region\": \"Spain\", \"Confirmed\": 241550, \"Deaths\": 27136, \"Recovered\": 150376.0, \"Active\": 64038.0, \"New cases\": 240, \"New deaths\": 1, \"New recovered\": 0}, {\"Unnamed: 0\": 25643, \"Date\": \"2020-06-07T00:00:00\", \"Country/Region\": \"Switzerland\", \"Confirmed\": 30965, \"Deaths\": 1921, \"Recovered\": 28700.0, \"Active\": 344.0, \"New cases\": 9, \"New deaths\": 0, \"New recovered\": 0}, {\"Unnamed: 0\": 25654, \"Date\": \"2020-06-07T00:00:00\", \"Country/Region\": \"US\", \"Confirmed\": 1944370, \"Deaths\": 111269, \"Recovered\": 506367.0, \"Active\": 1326734.0, \"New cases\": 17731, \"New deaths\": 451, \"New recovered\": 5518}, {\"Unnamed: 0\": 25658, \"Date\": \"2020-06-07T00:00:00\", \"Country/Region\": \"United Kingdom\", \"Confirmed\": 265662, \"Deaths\": 40714, \"Recovered\": 1239.0, \"Active\": 223709.0, \"New cases\": 718, \"New deaths\": 77, \"New recovered\": 9}, {\"Unnamed: 0\": 25700, \"Date\": \"2020-06-08T00:00:00\", \"Country/Region\": \"Canada\", \"Confirmed\": 97766, \"Deaths\": 7909, \"Recovered\": 55343.0, \"Active\": 34514.0, \"New cases\": 601, \"New deaths\": 33, \"New recovered\": 668}, {\"Unnamed: 0\": 25704, \"Date\": \"2020-06-08T00:00:00\", \"Country/Region\": \"China\", \"Confirmed\": 84195, \"Deaths\": 4638, \"Recovered\": 77868.0, \"Active\": 1689.0, \"New cases\": 4, \"New deaths\": 0, \"New recovered\": 10}, {\"Unnamed: 0\": 25729, \"Date\": \"2020-06-08T00:00:00\", \"Country/Region\": \"France\", \"Confirmed\": 191445, \"Deaths\": 29212, \"Recovered\": 71182.0, \"Active\": 91051.0, \"New cases\": 211, \"New deaths\": 54, \"New recovered\": 221}, {\"Unnamed: 0\": 25733, \"Date\": \"2020-06-08T00:00:00\", \"Country/Region\": \"Germany\", \"Confirmed\": 186109, \"Deaths\": 8695, \"Recovered\": 169556.0, \"Active\": 7858.0, \"New cases\": 359, \"New deaths\": 10, \"New recovered\": 332}, {\"Unnamed: 0\": 25746, \"Date\": \"2020-06-08T00:00:00\", \"Country/Region\": \"India\", \"Confirmed\": 265928, \"Deaths\": 7473, \"Recovered\": 129095.0, \"Active\": 129360.0, \"New cases\": 8442, \"New deaths\": 266, \"New recovered\": 5247}, {\"Unnamed: 0\": 25748, \"Date\": \"2020-06-08T00:00:00\", \"Country/Region\": \"Iran\", \"Confirmed\": 173832, \"Deaths\": 8351, \"Recovered\": 136360.0, \"Active\": 29121.0, \"New cases\": 2043, \"New deaths\": 70, \"New recovered\": 2011}, {\"Unnamed: 0\": 25752, \"Date\": \"2020-06-08T00:00:00\", \"Country/Region\": \"Italy\", \"Confirmed\": 235278, \"Deaths\": 33964, \"Recovered\": 166584.0, \"Active\": 34730.0, \"New cases\": 280, \"New deaths\": 65, \"New recovered\": 747}, {\"Unnamed: 0\": 25824, \"Date\": \"2020-06-08T00:00:00\", \"Country/Region\": \"Spain\", \"Confirmed\": 241717, \"Deaths\": 27136, \"Recovered\": 150376.0, \"Active\": 64205.0, \"New cases\": 167, \"New deaths\": 0, \"New recovered\": 0}, {\"Unnamed: 0\": 25829, \"Date\": \"2020-06-08T00:00:00\", \"Country/Region\": \"Switzerland\", \"Confirmed\": 30972, \"Deaths\": 1923, \"Recovered\": 28700.0, \"Active\": 349.0, \"New cases\": 7, \"New deaths\": 2, \"New recovered\": 0}, {\"Unnamed: 0\": 25840, \"Date\": \"2020-06-08T00:00:00\", \"Country/Region\": \"US\", \"Confirmed\": 1961785, \"Deaths\": 111774, \"Recovered\": 518522.0, \"Active\": 1331489.0, \"New cases\": 17415, \"New deaths\": 505, \"New recovered\": 12155}, {\"Unnamed: 0\": 25844, \"Date\": \"2020-06-08T00:00:00\", \"Country/Region\": \"United Kingdom\", \"Confirmed\": 266756, \"Deaths\": 40769, \"Recovered\": 1255.0, \"Active\": 224732.0, \"New cases\": 1094, \"New deaths\": 55, \"New recovered\": 16}, {\"Unnamed: 0\": 25886, \"Date\": \"2020-06-09T00:00:00\", \"Country/Region\": \"Canada\", \"Confirmed\": 98228, \"Deaths\": 7969, \"Recovered\": 56117.0, \"Active\": 34142.0, \"New cases\": 462, \"New deaths\": 60, \"New recovered\": 774}, {\"Unnamed: 0\": 25890, \"Date\": \"2020-06-09T00:00:00\", \"Country/Region\": \"China\", \"Confirmed\": 84198, \"Deaths\": 4638, \"Recovered\": 77875.0, \"Active\": 1685.0, \"New cases\": 3, \"New deaths\": 0, \"New recovered\": 7}, {\"Unnamed: 0\": 25915, \"Date\": \"2020-06-09T00:00:00\", \"Country/Region\": \"France\", \"Confirmed\": 191849, \"Deaths\": 29299, \"Recovered\": 71626.0, \"Active\": 90924.0, \"New cases\": 404, \"New deaths\": 87, \"New recovered\": 444}, {\"Unnamed: 0\": 25919, \"Date\": \"2020-06-09T00:00:00\", \"Country/Region\": \"Germany\", \"Confirmed\": 186506, \"Deaths\": 8736, \"Recovered\": 170129.0, \"Active\": 7641.0, \"New cases\": 397, \"New deaths\": 41, \"New recovered\": 573}, {\"Unnamed: 0\": 25932, \"Date\": \"2020-06-09T00:00:00\", \"Country/Region\": \"India\", \"Confirmed\": 276146, \"Deaths\": 7750, \"Recovered\": 134670.0, \"Active\": 133726.0, \"New cases\": 10218, \"New deaths\": 277, \"New recovered\": 5575}, {\"Unnamed: 0\": 25934, \"Date\": \"2020-06-09T00:00:00\", \"Country/Region\": \"Iran\", \"Confirmed\": 175927, \"Deaths\": 8425, \"Recovered\": 138457.0, \"Active\": 29045.0, \"New cases\": 2095, \"New deaths\": 74, \"New recovered\": 2097}, {\"Unnamed: 0\": 25938, \"Date\": \"2020-06-09T00:00:00\", \"Country/Region\": \"Italy\", \"Confirmed\": 235561, \"Deaths\": 34043, \"Recovered\": 168646.0, \"Active\": 32872.0, \"New cases\": 283, \"New deaths\": 79, \"New recovered\": 2062}, {\"Unnamed: 0\": 26010, \"Date\": \"2020-06-09T00:00:00\", \"Country/Region\": \"Spain\", \"Confirmed\": 241966, \"Deaths\": 27136, \"Recovered\": 150376.0, \"Active\": 64454.0, \"New cases\": 249, \"New deaths\": 0, \"New recovered\": 0}, {\"Unnamed: 0\": 26015, \"Date\": \"2020-06-09T00:00:00\", \"Country/Region\": \"Switzerland\", \"Confirmed\": 30988, \"Deaths\": 1934, \"Recovered\": 28700.0, \"Active\": 354.0, \"New cases\": 16, \"New deaths\": 11, \"New recovered\": 0}, {\"Unnamed: 0\": 26026, \"Date\": \"2020-06-09T00:00:00\", \"Country/Region\": \"US\", \"Confirmed\": 1979912, \"Deaths\": 112714, \"Recovered\": 524855.0, \"Active\": 1342343.0, \"New cases\": 18127, \"New deaths\": 940, \"New recovered\": 6333}, {\"Unnamed: 0\": 26030, \"Date\": \"2020-06-09T00:00:00\", \"Country/Region\": \"United Kingdom\", \"Confirmed\": 267915, \"Deaths\": 41060, \"Recovered\": 1257.0, \"Active\": 225598.0, \"New cases\": 1159, \"New deaths\": 291, \"New recovered\": 2}, {\"Unnamed: 0\": 26072, \"Date\": \"2020-06-10T00:00:00\", \"Country/Region\": \"Canada\", \"Confirmed\": 98707, \"Deaths\": 8037, \"Recovered\": 57215.0, \"Active\": 33455.0, \"New cases\": 479, \"New deaths\": 68, \"New recovered\": 1098}, {\"Unnamed: 0\": 26076, \"Date\": \"2020-06-10T00:00:00\", \"Country/Region\": \"China\", \"Confirmed\": 84209, \"Deaths\": 4638, \"Recovered\": 77880.0, \"Active\": 1691.0, \"New cases\": 11, \"New deaths\": 0, \"New recovered\": 5}, {\"Unnamed: 0\": 26101, \"Date\": \"2020-06-10T00:00:00\", \"Country/Region\": \"France\", \"Confirmed\": 192394, \"Deaths\": 29322, \"Recovered\": 71952.0, \"Active\": 91120.0, \"New cases\": 545, \"New deaths\": 23, \"New recovered\": 326}, {\"Unnamed: 0\": 26105, \"Date\": \"2020-06-10T00:00:00\", \"Country/Region\": \"Germany\", \"Confirmed\": 186522, \"Deaths\": 8752, \"Recovered\": 170630.0, \"Active\": 7140.0, \"New cases\": 16, \"New deaths\": 16, \"New recovered\": 501}, {\"Unnamed: 0\": 26118, \"Date\": \"2020-06-10T00:00:00\", \"Country/Region\": \"India\", \"Confirmed\": 286605, \"Deaths\": 8102, \"Recovered\": 135206.0, \"Active\": 143297.0, \"New cases\": 10459, \"New deaths\": 352, \"New recovered\": 536}, {\"Unnamed: 0\": 26120, \"Date\": \"2020-06-10T00:00:00\", \"Country/Region\": \"Iran\", \"Confirmed\": 177938, \"Deaths\": 8506, \"Recovered\": 140590.0, \"Active\": 28842.0, \"New cases\": 2011, \"New deaths\": 81, \"New recovered\": 2133}, {\"Unnamed: 0\": 26124, \"Date\": \"2020-06-10T00:00:00\", \"Country/Region\": \"Italy\", \"Confirmed\": 235763, \"Deaths\": 34114, \"Recovered\": 169939.0, \"Active\": 31710.0, \"New cases\": 202, \"New deaths\": 71, \"New recovered\": 1293}, {\"Unnamed: 0\": 26196, \"Date\": \"2020-06-10T00:00:00\", \"Country/Region\": \"Spain\", \"Confirmed\": 242280, \"Deaths\": 27136, \"Recovered\": 150376.0, \"Active\": 64768.0, \"New cases\": 314, \"New deaths\": 0, \"New recovered\": 0}, {\"Unnamed: 0\": 26201, \"Date\": \"2020-06-10T00:00:00\", \"Country/Region\": \"Switzerland\", \"Confirmed\": 31011, \"Deaths\": 1936, \"Recovered\": 28700.0, \"Active\": 375.0, \"New cases\": 23, \"New deaths\": 2, \"New recovered\": 0}, {\"Unnamed: 0\": 26212, \"Date\": \"2020-06-10T00:00:00\", \"Country/Region\": \"US\", \"Confirmed\": 2000706, \"Deaths\": 113631, \"Recovered\": 533504.0, \"Active\": 1353571.0, \"New cases\": 20794, \"New deaths\": 917, \"New recovered\": 8649}, {\"Unnamed: 0\": 26216, \"Date\": \"2020-06-10T00:00:00\", \"Country/Region\": \"United Kingdom\", \"Confirmed\": 269101, \"Deaths\": 41310, \"Recovered\": 1269.0, \"Active\": 226522.0, \"New cases\": 1186, \"New deaths\": 250, \"New recovered\": 12}, {\"Unnamed: 0\": 26258, \"Date\": \"2020-06-11T00:00:00\", \"Country/Region\": \"Canada\", \"Confirmed\": 99146, \"Deaths\": 8070, \"Recovered\": 58131.0, \"Active\": 32945.0, \"New cases\": 439, \"New deaths\": 33, \"New recovered\": 916}, {\"Unnamed: 0\": 26262, \"Date\": \"2020-06-11T00:00:00\", \"Country/Region\": \"China\", \"Confirmed\": 84216, \"Deaths\": 4638, \"Recovered\": 77888.0, \"Active\": 1690.0, \"New cases\": 7, \"New deaths\": 0, \"New recovered\": 8}, {\"Unnamed: 0\": 26287, \"Date\": \"2020-06-11T00:00:00\", \"Country/Region\": \"France\", \"Confirmed\": 192819, \"Deaths\": 29349, \"Recovered\": 72269.0, \"Active\": 91201.0, \"New cases\": 425, \"New deaths\": 27, \"New recovered\": 317}, {\"Unnamed: 0\": 26291, \"Date\": \"2020-06-11T00:00:00\", \"Country/Region\": \"Germany\", \"Confirmed\": 186691, \"Deaths\": 8772, \"Recovered\": 170961.0, \"Active\": 6958.0, \"New cases\": 169, \"New deaths\": 20, \"New recovered\": 331}, {\"Unnamed: 0\": 26304, \"Date\": \"2020-06-11T00:00:00\", \"Country/Region\": \"India\", \"Confirmed\": 297535, \"Deaths\": 8498, \"Recovered\": 147195.0, \"Active\": 141842.0, \"New cases\": 10930, \"New deaths\": 396, \"New recovered\": 11989}, {\"Unnamed: 0\": 26306, \"Date\": \"2020-06-11T00:00:00\", \"Country/Region\": \"Iran\", \"Confirmed\": 180156, \"Deaths\": 8584, \"Recovered\": 142663.0, \"Active\": 28909.0, \"New cases\": 2218, \"New deaths\": 78, \"New recovered\": 2073}, {\"Unnamed: 0\": 26310, \"Date\": \"2020-06-11T00:00:00\", \"Country/Region\": \"Italy\", \"Confirmed\": 236142, \"Deaths\": 34167, \"Recovered\": 171338.0, \"Active\": 30637.0, \"New cases\": 379, \"New deaths\": 53, \"New recovered\": 1399}, {\"Unnamed: 0\": 26382, \"Date\": \"2020-06-11T00:00:00\", \"Country/Region\": \"Spain\", \"Confirmed\": 242707, \"Deaths\": 27136, \"Recovered\": 150376.0, \"Active\": 65195.0, \"New cases\": 427, \"New deaths\": 0, \"New recovered\": 0}, {\"Unnamed: 0\": 26387, \"Date\": \"2020-06-11T00:00:00\", \"Country/Region\": \"Switzerland\", \"Confirmed\": 31044, \"Deaths\": 1937, \"Recovered\": 28800.0, \"Active\": 307.0, \"New cases\": 33, \"New deaths\": 1, \"New recovered\": 100}, {\"Unnamed: 0\": 26398, \"Date\": \"2020-06-11T00:00:00\", \"Country/Region\": \"US\", \"Confirmed\": 2023656, \"Deaths\": 114512, \"Recovered\": 540292.0, \"Active\": 1368852.0, \"New cases\": 22950, \"New deaths\": 881, \"New recovered\": 6788}, {\"Unnamed: 0\": 26402, \"Date\": \"2020-06-11T00:00:00\", \"Country/Region\": \"United Kingdom\", \"Confirmed\": 270108, \"Deaths\": 41462, \"Recovered\": 1278.0, \"Active\": 227368.0, \"New cases\": 1007, \"New deaths\": 152, \"New recovered\": 9}, {\"Unnamed: 0\": 26444, \"Date\": \"2020-06-12T00:00:00\", \"Country/Region\": \"Canada\", \"Confirmed\": 99582, \"Deaths\": 8124, \"Recovered\": 59034.0, \"Active\": 32424.0, \"New cases\": 436, \"New deaths\": 54, \"New recovered\": 903}, {\"Unnamed: 0\": 26448, \"Date\": \"2020-06-12T00:00:00\", \"Country/Region\": \"China\", \"Confirmed\": 84228, \"Deaths\": 4638, \"Recovered\": 77896.0, \"Active\": 1694.0, \"New cases\": 12, \"New deaths\": 0, \"New recovered\": 8}, {\"Unnamed: 0\": 26473, \"Date\": \"2020-06-12T00:00:00\", \"Country/Region\": \"France\", \"Confirmed\": 193546, \"Deaths\": 29377, \"Recovered\": 72695.0, \"Active\": 91474.0, \"New cases\": 727, \"New deaths\": 28, \"New recovered\": 426}, {\"Unnamed: 0\": 26477, \"Date\": \"2020-06-12T00:00:00\", \"Country/Region\": \"Germany\", \"Confirmed\": 187226, \"Deaths\": 8783, \"Recovered\": 171535.0, \"Active\": 6908.0, \"New cases\": 535, \"New deaths\": 11, \"New recovered\": 574}, {\"Unnamed: 0\": 26490, \"Date\": \"2020-06-12T00:00:00\", \"Country/Region\": \"India\", \"Confirmed\": 308993, \"Deaths\": 8884, \"Recovered\": 154330.0, \"Active\": 145779.0, \"New cases\": 11458, \"New deaths\": 386, \"New recovered\": 7135}, {\"Unnamed: 0\": 26492, \"Date\": \"2020-06-12T00:00:00\", \"Country/Region\": \"Iran\", \"Confirmed\": 182525, \"Deaths\": 8659, \"Recovered\": 144649.0, \"Active\": 29217.0, \"New cases\": 2369, \"New deaths\": 75, \"New recovered\": 1986}, {\"Unnamed: 0\": 26496, \"Date\": \"2020-06-12T00:00:00\", \"Country/Region\": \"Italy\", \"Confirmed\": 236305, \"Deaths\": 34223, \"Recovered\": 173085.0, \"Active\": 28997.0, \"New cases\": 163, \"New deaths\": 56, \"New recovered\": 1747}, {\"Unnamed: 0\": 26568, \"Date\": \"2020-06-12T00:00:00\", \"Country/Region\": \"Spain\", \"Confirmed\": 243209, \"Deaths\": 27136, \"Recovered\": 150376.0, \"Active\": 65697.0, \"New cases\": 502, \"New deaths\": 0, \"New recovered\": 0}, {\"Unnamed: 0\": 26573, \"Date\": \"2020-06-12T00:00:00\", \"Country/Region\": \"Switzerland\", \"Confirmed\": 31063, \"Deaths\": 1938, \"Recovered\": 28800.0, \"Active\": 325.0, \"New cases\": 19, \"New deaths\": 1, \"New recovered\": 0}, {\"Unnamed: 0\": 26584, \"Date\": \"2020-06-12T00:00:00\", \"Country/Region\": \"US\", \"Confirmed\": 2048986, \"Deaths\": 115334, \"Recovered\": 547386.0, \"Active\": 1386266.0, \"New cases\": 25330, \"New deaths\": 822, \"New recovered\": 7094}, {\"Unnamed: 0\": 26588, \"Date\": \"2020-06-12T00:00:00\", \"Country/Region\": \"United Kingdom\", \"Confirmed\": 271162, \"Deaths\": 41666, \"Recovered\": 1282.0, \"Active\": 228214.0, \"New cases\": 1054, \"New deaths\": 204, \"New recovered\": 4}, {\"Unnamed: 0\": 26630, \"Date\": \"2020-06-13T00:00:00\", \"Country/Region\": \"Canada\", \"Confirmed\": 100030, \"Deaths\": 8182, \"Recovered\": 59851.0, \"Active\": 31997.0, \"New cases\": 448, \"New deaths\": 58, \"New recovered\": 817}, {\"Unnamed: 0\": 26634, \"Date\": \"2020-06-13T00:00:00\", \"Country/Region\": \"China\", \"Confirmed\": 84286, \"Deaths\": 4638, \"Recovered\": 77899.0, \"Active\": 1749.0, \"New cases\": 58, \"New deaths\": 0, \"New recovered\": 3}, {\"Unnamed: 0\": 26659, \"Date\": \"2020-06-13T00:00:00\", \"Country/Region\": \"France\", \"Confirmed\": 194072, \"Deaths\": 29401, \"Recovered\": 72931.0, \"Active\": 91740.0, \"New cases\": 526, \"New deaths\": 24, \"New recovered\": 236}, {\"Unnamed: 0\": 26663, \"Date\": \"2020-06-13T00:00:00\", \"Country/Region\": \"Germany\", \"Confirmed\": 187267, \"Deaths\": 8793, \"Recovered\": 171970.0, \"Active\": 6504.0, \"New cases\": 41, \"New deaths\": 10, \"New recovered\": 435}, {\"Unnamed: 0\": 26676, \"Date\": \"2020-06-13T00:00:00\", \"Country/Region\": \"India\", \"Confirmed\": 320922, \"Deaths\": 9195, \"Recovered\": 162379.0, \"Active\": 149348.0, \"New cases\": 11929, \"New deaths\": 311, \"New recovered\": 8049}, {\"Unnamed: 0\": 26678, \"Date\": \"2020-06-13T00:00:00\", \"Country/Region\": \"Iran\", \"Confirmed\": 184955, \"Deaths\": 8730, \"Recovered\": 146748.0, \"Active\": 29477.0, \"New cases\": 2430, \"New deaths\": 71, \"New recovered\": 2099}, {\"Unnamed: 0\": 26682, \"Date\": \"2020-06-13T00:00:00\", \"Country/Region\": \"Italy\", \"Confirmed\": 236651, \"Deaths\": 34301, \"Recovered\": 174865.0, \"Active\": 27485.0, \"New cases\": 346, \"New deaths\": 78, \"New recovered\": 1780}, {\"Unnamed: 0\": 26754, \"Date\": \"2020-06-13T00:00:00\", \"Country/Region\": \"Spain\", \"Confirmed\": 243605, \"Deaths\": 27136, \"Recovered\": 150376.0, \"Active\": 66093.0, \"New cases\": 396, \"New deaths\": 0, \"New recovered\": 0}, {\"Unnamed: 0\": 26759, \"Date\": \"2020-06-13T00:00:00\", \"Country/Region\": \"Switzerland\", \"Confirmed\": 31094, \"Deaths\": 1938, \"Recovered\": 28800.0, \"Active\": 356.0, \"New cases\": 31, \"New deaths\": 0, \"New recovered\": 0}, {\"Unnamed: 0\": 26770, \"Date\": \"2020-06-13T00:00:00\", \"Country/Region\": \"US\", \"Confirmed\": 2074542, \"Deaths\": 116084, \"Recovered\": 556606.0, \"Active\": 1401852.0, \"New cases\": 25556, \"New deaths\": 750, \"New recovered\": 9220}, {\"Unnamed: 0\": 26774, \"Date\": \"2020-06-13T00:00:00\", \"Country/Region\": \"United Kingdom\", \"Confirmed\": 272050, \"Deaths\": 41849, \"Recovered\": 1283.0, \"Active\": 228918.0, \"New cases\": 888, \"New deaths\": 183, \"New recovered\": 1}, {\"Unnamed: 0\": 26816, \"Date\": \"2020-06-14T00:00:00\", \"Country/Region\": \"Canada\", \"Confirmed\": 100391, \"Deaths\": 8217, \"Recovered\": 60668.0, \"Active\": 31506.0, \"New cases\": 361, \"New deaths\": 35, \"New recovered\": 817}, {\"Unnamed: 0\": 26820, \"Date\": \"2020-06-14T00:00:00\", \"Country/Region\": \"China\", \"Confirmed\": 84335, \"Deaths\": 4638, \"Recovered\": 77906.0, \"Active\": 1791.0, \"New cases\": 49, \"New deaths\": 0, \"New recovered\": 7}, {\"Unnamed: 0\": 26845, \"Date\": \"2020-06-14T00:00:00\", \"Country/Region\": \"France\", \"Confirmed\": 194479, \"Deaths\": 29410, \"Recovered\": 72982.0, \"Active\": 92087.0, \"New cases\": 407, \"New deaths\": 9, \"New recovered\": 51}, {\"Unnamed: 0\": 26849, \"Date\": \"2020-06-14T00:00:00\", \"Country/Region\": \"Germany\", \"Confirmed\": 187518, \"Deaths\": 8801, \"Recovered\": 172089.0, \"Active\": 6628.0, \"New cases\": 251, \"New deaths\": 8, \"New recovered\": 119}, {\"Unnamed: 0\": 26862, \"Date\": \"2020-06-14T00:00:00\", \"Country/Region\": \"India\", \"Confirmed\": 332424, \"Deaths\": 9520, \"Recovered\": 169798.0, \"Active\": 153106.0, \"New cases\": 11502, \"New deaths\": 325, \"New recovered\": 7419}, {\"Unnamed: 0\": 26864, \"Date\": \"2020-06-14T00:00:00\", \"Country/Region\": \"Iran\", \"Confirmed\": 187427, \"Deaths\": 8837, \"Recovered\": 148674.0, \"Active\": 29916.0, \"New cases\": 2472, \"New deaths\": 107, \"New recovered\": 1926}, {\"Unnamed: 0\": 26868, \"Date\": \"2020-06-14T00:00:00\", \"Country/Region\": \"Italy\", \"Confirmed\": 236989, \"Deaths\": 34345, \"Recovered\": 176370.0, \"Active\": 26274.0, \"New cases\": 338, \"New deaths\": 44, \"New recovered\": 1505}, {\"Unnamed: 0\": 26940, \"Date\": \"2020-06-14T00:00:00\", \"Country/Region\": \"Spain\", \"Confirmed\": 243928, \"Deaths\": 27136, \"Recovered\": 150376.0, \"Active\": 66416.0, \"New cases\": 323, \"New deaths\": 0, \"New recovered\": 0}, {\"Unnamed: 0\": 26945, \"Date\": \"2020-06-14T00:00:00\", \"Country/Region\": \"Switzerland\", \"Confirmed\": 31117, \"Deaths\": 1938, \"Recovered\": 28800.0, \"Active\": 379.0, \"New cases\": 23, \"New deaths\": 0, \"New recovered\": 0}, {\"Unnamed: 0\": 26956, \"Date\": \"2020-06-14T00:00:00\", \"Country/Region\": \"US\", \"Confirmed\": 2094366, \"Deaths\": 116382, \"Recovered\": 561816.0, \"Active\": 1416168.0, \"New cases\": 19824, \"New deaths\": 298, \"New recovered\": 5210}, {\"Unnamed: 0\": 26960, \"Date\": \"2020-06-14T00:00:00\", \"Country/Region\": \"United Kingdom\", \"Confirmed\": 272857, \"Deaths\": 41885, \"Recovered\": 1283.0, \"Active\": 229689.0, \"New cases\": 807, \"New deaths\": 36, \"New recovered\": 0}, {\"Unnamed: 0\": 27002, \"Date\": \"2020-06-15T00:00:00\", \"Country/Region\": \"Canada\", \"Confirmed\": 100750, \"Deaths\": 8227, \"Recovered\": 61466.0, \"Active\": 31057.0, \"New cases\": 359, \"New deaths\": 10, \"New recovered\": 798}, {\"Unnamed: 0\": 27006, \"Date\": \"2020-06-15T00:00:00\", \"Country/Region\": \"China\", \"Confirmed\": 84378, \"Deaths\": 4638, \"Recovered\": 77913.0, \"Active\": 1827.0, \"New cases\": 43, \"New deaths\": 0, \"New recovered\": 7}, {\"Unnamed: 0\": 27031, \"Date\": \"2020-06-15T00:00:00\", \"Country/Region\": \"France\", \"Confirmed\": 194631, \"Deaths\": 29439, \"Recovered\": 73168.0, \"Active\": 92024.0, \"New cases\": 152, \"New deaths\": 29, \"New recovered\": 186}, {\"Unnamed: 0\": 27035, \"Date\": \"2020-06-15T00:00:00\", \"Country/Region\": \"Germany\", \"Confirmed\": 187682, \"Deaths\": 8807, \"Recovered\": 172692.0, \"Active\": 6183.0, \"New cases\": 164, \"New deaths\": 6, \"New recovered\": 603}, {\"Unnamed: 0\": 27048, \"Date\": \"2020-06-15T00:00:00\", \"Country/Region\": \"India\", \"Confirmed\": 343091, \"Deaths\": 9900, \"Recovered\": 180013.0, \"Active\": 153178.0, \"New cases\": 10667, \"New deaths\": 380, \"New recovered\": 10215}, {\"Unnamed: 0\": 27050, \"Date\": \"2020-06-15T00:00:00\", \"Country/Region\": \"Iran\", \"Confirmed\": 189876, \"Deaths\": 8950, \"Recovered\": 150590.0, \"Active\": 30336.0, \"New cases\": 2449, \"New deaths\": 113, \"New recovered\": 1916}, {\"Unnamed: 0\": 27054, \"Date\": \"2020-06-15T00:00:00\", \"Country/Region\": \"Italy\", \"Confirmed\": 237290, \"Deaths\": 34371, \"Recovered\": 177010.0, \"Active\": 25909.0, \"New cases\": 301, \"New deaths\": 26, \"New recovered\": 640}, {\"Unnamed: 0\": 27126, \"Date\": \"2020-06-15T00:00:00\", \"Country/Region\": \"Spain\", \"Confirmed\": 244109, \"Deaths\": 27136, \"Recovered\": 150376.0, \"Active\": 66597.0, \"New cases\": 181, \"New deaths\": 0, \"New recovered\": 0}, {\"Unnamed: 0\": 27131, \"Date\": \"2020-06-15T00:00:00\", \"Country/Region\": \"Switzerland\", \"Confirmed\": 31131, \"Deaths\": 1939, \"Recovered\": 28900.0, \"Active\": 292.0, \"New cases\": 14, \"New deaths\": 1, \"New recovered\": 100}, {\"Unnamed: 0\": 27142, \"Date\": \"2020-06-15T00:00:00\", \"Country/Region\": \"US\", \"Confirmed\": 2114026, \"Deaths\": 116773, \"Recovered\": 576334.0, \"Active\": 1420919.0, \"New cases\": 19660, \"New deaths\": 391, \"New recovered\": 14518}, {\"Unnamed: 0\": 27146, \"Date\": \"2020-06-15T00:00:00\", \"Country/Region\": \"United Kingdom\", \"Confirmed\": 273888, \"Deaths\": 41923, \"Recovered\": 1284.0, \"Active\": 230681.0, \"New cases\": 1031, \"New deaths\": 38, \"New recovered\": 1}, {\"Unnamed: 0\": 27188, \"Date\": \"2020-06-16T00:00:00\", \"Country/Region\": \"Canada\", \"Confirmed\": 101074, \"Deaths\": 8270, \"Recovered\": 61899.0, \"Active\": 30905.0, \"New cases\": 324, \"New deaths\": 43, \"New recovered\": 433}, {\"Unnamed: 0\": 27192, \"Date\": \"2020-06-16T00:00:00\", \"Country/Region\": \"China\", \"Confirmed\": 84422, \"Deaths\": 4638, \"Recovered\": 77917.0, \"Active\": 1867.0, \"New cases\": 44, \"New deaths\": 0, \"New recovered\": 4}, {\"Unnamed: 0\": 27217, \"Date\": \"2020-06-16T00:00:00\", \"Country/Region\": \"France\", \"Confirmed\": 194975, \"Deaths\": 29550, \"Recovered\": 73459.0, \"Active\": 91966.0, \"New cases\": 344, \"New deaths\": 111, \"New recovered\": 291}, {\"Unnamed: 0\": 27221, \"Date\": \"2020-06-16T00:00:00\", \"Country/Region\": \"Germany\", \"Confirmed\": 188252, \"Deaths\": 8820, \"Recovered\": 172842.0, \"Active\": 6590.0, \"New cases\": 570, \"New deaths\": 13, \"New recovered\": 150}, {\"Unnamed: 0\": 27234, \"Date\": \"2020-06-16T00:00:00\", \"Country/Region\": \"India\", \"Confirmed\": 354065, \"Deaths\": 11903, \"Recovered\": 186935.0, \"Active\": 155227.0, \"New cases\": 10974, \"New deaths\": 2003, \"New recovered\": 6922}, {\"Unnamed: 0\": 27236, \"Date\": \"2020-06-16T00:00:00\", \"Country/Region\": \"Iran\", \"Confirmed\": 192439, \"Deaths\": 9065, \"Recovered\": 152675.0, \"Active\": 30699.0, \"New cases\": 2563, \"New deaths\": 115, \"New recovered\": 2085}, {\"Unnamed: 0\": 27240, \"Date\": \"2020-06-16T00:00:00\", \"Country/Region\": \"Italy\", \"Confirmed\": 237500, \"Deaths\": 34405, \"Recovered\": 178526.0, \"Active\": 24569.0, \"New cases\": 210, \"New deaths\": 34, \"New recovered\": 1516}, {\"Unnamed: 0\": 27312, \"Date\": \"2020-06-16T00:00:00\", \"Country/Region\": \"Spain\", \"Confirmed\": 244328, \"Deaths\": 27136, \"Recovered\": 150376.0, \"Active\": 66816.0, \"New cases\": 219, \"New deaths\": 0, \"New recovered\": 0}, {\"Unnamed: 0\": 27317, \"Date\": \"2020-06-16T00:00:00\", \"Country/Region\": \"Switzerland\", \"Confirmed\": 31154, \"Deaths\": 1954, \"Recovered\": 28900.0, \"Active\": 300.0, \"New cases\": 23, \"New deaths\": 15, \"New recovered\": 0}, {\"Unnamed: 0\": 27328, \"Date\": \"2020-06-16T00:00:00\", \"Country/Region\": \"US\", \"Confirmed\": 2137731, \"Deaths\": 117612, \"Recovered\": 583503.0, \"Active\": 1436616.0, \"New cases\": 23705, \"New deaths\": 839, \"New recovered\": 7169}, {\"Unnamed: 0\": 27332, \"Date\": \"2020-06-16T00:00:00\", \"Country/Region\": \"United Kingdom\", \"Confirmed\": 274971, \"Deaths\": 42159, \"Recovered\": 1293.0, \"Active\": 231519.0, \"New cases\": 1083, \"New deaths\": 236, \"New recovered\": 9}, {\"Unnamed: 0\": 27374, \"Date\": \"2020-06-17T00:00:00\", \"Country/Region\": \"Canada\", \"Confirmed\": 101478, \"Deaths\": 8311, \"Recovered\": 63280.0, \"Active\": 29887.0, \"New cases\": 404, \"New deaths\": 41, \"New recovered\": 1381}, {\"Unnamed: 0\": 27378, \"Date\": \"2020-06-17T00:00:00\", \"Country/Region\": \"China\", \"Confirmed\": 84458, \"Deaths\": 4638, \"Recovered\": 77934.0, \"Active\": 1886.0, \"New cases\": 36, \"New deaths\": 0, \"New recovered\": 17}, {\"Unnamed: 0\": 27403, \"Date\": \"2020-06-17T00:00:00\", \"Country/Region\": \"France\", \"Confirmed\": 195433, \"Deaths\": 29578, \"Recovered\": 73791.0, \"Active\": 92064.0, \"New cases\": 458, \"New deaths\": 28, \"New recovered\": 332}, {\"Unnamed: 0\": 27407, \"Date\": \"2020-06-17T00:00:00\", \"Country/Region\": \"Germany\", \"Confirmed\": 188604, \"Deaths\": 8851, \"Recovered\": 173599.0, \"Active\": 6154.0, \"New cases\": 352, \"New deaths\": 31, \"New recovered\": 757}, {\"Unnamed: 0\": 27420, \"Date\": \"2020-06-17T00:00:00\", \"Country/Region\": \"India\", \"Confirmed\": 366946, \"Deaths\": 12237, \"Recovered\": 194325.0, \"Active\": 160384.0, \"New cases\": 12881, \"New deaths\": 334, \"New recovered\": 7390}, {\"Unnamed: 0\": 27422, \"Date\": \"2020-06-17T00:00:00\", \"Country/Region\": \"Iran\", \"Confirmed\": 195051, \"Deaths\": 9185, \"Recovered\": 154812.0, \"Active\": 31054.0, \"New cases\": 2612, \"New deaths\": 120, \"New recovered\": 2137}, {\"Unnamed: 0\": 27426, \"Date\": \"2020-06-17T00:00:00\", \"Country/Region\": \"Italy\", \"Confirmed\": 237828, \"Deaths\": 34448, \"Recovered\": 179455.0, \"Active\": 23925.0, \"New cases\": 328, \"New deaths\": 43, \"New recovered\": 929}, {\"Unnamed: 0\": 27498, \"Date\": \"2020-06-17T00:00:00\", \"Country/Region\": \"Spain\", \"Confirmed\": 244683, \"Deaths\": 27136, \"Recovered\": 150376.0, \"Active\": 67171.0, \"New cases\": 355, \"New deaths\": 0, \"New recovered\": 0}, {\"Unnamed: 0\": 27503, \"Date\": \"2020-06-17T00:00:00\", \"Country/Region\": \"Switzerland\", \"Confirmed\": 31187, \"Deaths\": 1956, \"Recovered\": 28900.0, \"Active\": 331.0, \"New cases\": 33, \"New deaths\": 2, \"New recovered\": 0}, {\"Unnamed: 0\": 27514, \"Date\": \"2020-06-17T00:00:00\", \"Country/Region\": \"US\", \"Confirmed\": 2163290, \"Deaths\": 118363, \"Recovered\": 592191.0, \"Active\": 1452736.0, \"New cases\": 25559, \"New deaths\": 751, \"New recovered\": 8688}, {\"Unnamed: 0\": 27518, \"Date\": \"2020-06-17T00:00:00\", \"Country/Region\": \"United Kingdom\", \"Confirmed\": 275970, \"Deaths\": 42343, \"Recovered\": 1304.0, \"Active\": 232323.0, \"New cases\": 999, \"New deaths\": 184, \"New recovered\": 11}, {\"Unnamed: 0\": 27560, \"Date\": \"2020-06-18T00:00:00\", \"Country/Region\": \"Canada\", \"Confirmed\": 101864, \"Deaths\": 8360, \"Recovered\": 63782.0, \"Active\": 29722.0, \"New cases\": 386, \"New deaths\": 49, \"New recovered\": 502}, {\"Unnamed: 0\": 27564, \"Date\": \"2020-06-18T00:00:00\", \"Country/Region\": \"China\", \"Confirmed\": 84494, \"Deaths\": 4638, \"Recovered\": 77939.0, \"Active\": 1917.0, \"New cases\": 36, \"New deaths\": 0, \"New recovered\": 5}, {\"Unnamed: 0\": 27589, \"Date\": \"2020-06-18T00:00:00\", \"Country/Region\": \"France\", \"Confirmed\": 195900, \"Deaths\": 29606, \"Recovered\": 74011.0, \"Active\": 92283.0, \"New cases\": 467, \"New deaths\": 28, \"New recovered\": 220}, {\"Unnamed: 0\": 27593, \"Date\": \"2020-06-18T00:00:00\", \"Country/Region\": \"Germany\", \"Confirmed\": 189817, \"Deaths\": 8875, \"Recovered\": 173847.0, \"Active\": 7095.0, \"New cases\": 1213, \"New deaths\": 24, \"New recovered\": 248}, {\"Unnamed: 0\": 27606, \"Date\": \"2020-06-18T00:00:00\", \"Country/Region\": \"India\", \"Confirmed\": 380532, \"Deaths\": 12573, \"Recovered\": 204711.0, \"Active\": 163248.0, \"New cases\": 13586, \"New deaths\": 336, \"New recovered\": 10386}, {\"Unnamed: 0\": 27608, \"Date\": \"2020-06-18T00:00:00\", \"Country/Region\": \"Iran\", \"Confirmed\": 197647, \"Deaths\": 9272, \"Recovered\": 156991.0, \"Active\": 31384.0, \"New cases\": 2596, \"New deaths\": 87, \"New recovered\": 2179}, {\"Unnamed: 0\": 27612, \"Date\": \"2020-06-18T00:00:00\", \"Country/Region\": \"Italy\", \"Confirmed\": 238159, \"Deaths\": 34514, \"Recovered\": 180544.0, \"Active\": 23101.0, \"New cases\": 331, \"New deaths\": 66, \"New recovered\": 1089}, {\"Unnamed: 0\": 27684, \"Date\": \"2020-06-18T00:00:00\", \"Country/Region\": \"Spain\", \"Confirmed\": 245268, \"Deaths\": 27136, \"Recovered\": 150376.0, \"Active\": 67756.0, \"New cases\": 585, \"New deaths\": 0, \"New recovered\": 0}, {\"Unnamed: 0\": 27689, \"Date\": \"2020-06-18T00:00:00\", \"Country/Region\": \"Switzerland\", \"Confirmed\": 31200, \"Deaths\": 1956, \"Recovered\": 28900.0, \"Active\": 344.0, \"New cases\": 13, \"New deaths\": 0, \"New recovered\": 0}, {\"Unnamed: 0\": 27700, \"Date\": \"2020-06-18T00:00:00\", \"Country/Region\": \"US\", \"Confirmed\": 2191099, \"Deaths\": 119067, \"Recovered\": 599115.0, \"Active\": 1472917.0, \"New cases\": 27809, \"New deaths\": 704, \"New recovered\": 6924}, {\"Unnamed: 0\": 27704, \"Date\": \"2020-06-18T00:00:00\", \"Country/Region\": \"United Kingdom\", \"Confirmed\": 276990, \"Deaths\": 42480, \"Recovered\": 1313.0, \"Active\": 233197.0, \"New cases\": 1020, \"New deaths\": 137, \"New recovered\": 9}, {\"Unnamed: 0\": 27746, \"Date\": \"2020-06-19T00:00:00\", \"Country/Region\": \"Canada\", \"Confirmed\": 102301, \"Deaths\": 8407, \"Recovered\": 64318.0, \"Active\": 29576.0, \"New cases\": 437, \"New deaths\": 47, \"New recovered\": 536}, {\"Unnamed: 0\": 27750, \"Date\": \"2020-06-19T00:00:00\", \"Country/Region\": \"China\", \"Confirmed\": 84494, \"Deaths\": 4638, \"Recovered\": 77939.0, \"Active\": 1917.0, \"New cases\": 0, \"New deaths\": 0, \"New recovered\": 0}, {\"Unnamed: 0\": 27775, \"Date\": \"2020-06-19T00:00:00\", \"Country/Region\": \"France\", \"Confirmed\": 196711, \"Deaths\": 29620, \"Recovered\": 74241.0, \"Active\": 92850.0, \"New cases\": 811, \"New deaths\": 14, \"New recovered\": 230}, {\"Unnamed: 0\": 27779, \"Date\": \"2020-06-19T00:00:00\", \"Country/Region\": \"Germany\", \"Confirmed\": 190299, \"Deaths\": 8887, \"Recovered\": 173972.0, \"Active\": 7440.0, \"New cases\": 482, \"New deaths\": 12, \"New recovered\": 125}, {\"Unnamed: 0\": 27792, \"Date\": \"2020-06-19T00:00:00\", \"Country/Region\": \"India\", \"Confirmed\": 395048, \"Deaths\": 12948, \"Recovered\": 213831.0, \"Active\": 168269.0, \"New cases\": 14516, \"New deaths\": 375, \"New recovered\": 9120}, {\"Unnamed: 0\": 27794, \"Date\": \"2020-06-19T00:00:00\", \"Country/Region\": \"Iran\", \"Confirmed\": 200262, \"Deaths\": 9392, \"Recovered\": 159192.0, \"Active\": 31678.0, \"New cases\": 2615, \"New deaths\": 120, \"New recovered\": 2201}, {\"Unnamed: 0\": 27798, \"Date\": \"2020-06-19T00:00:00\", \"Country/Region\": \"Italy\", \"Confirmed\": 238011, \"Deaths\": 34561, \"Recovered\": 181907.0, \"Active\": 21543.0, \"New cases\": 0, \"New deaths\": 47, \"New recovered\": 1363}, {\"Unnamed: 0\": 27870, \"Date\": \"2020-06-19T00:00:00\", \"Country/Region\": \"Spain\", \"Confirmed\": 245575, \"Deaths\": 28315, \"Recovered\": 150376.0, \"Active\": 66884.0, \"New cases\": 307, \"New deaths\": 1179, \"New recovered\": 0}, {\"Unnamed: 0\": 27875, \"Date\": \"2020-06-19T00:00:00\", \"Country/Region\": \"Switzerland\", \"Confirmed\": 31235, \"Deaths\": 1956, \"Recovered\": 28900.0, \"Active\": 379.0, \"New cases\": 35, \"New deaths\": 0, \"New recovered\": 0}, {\"Unnamed: 0\": 27886, \"Date\": \"2020-06-19T00:00:00\", \"Country/Region\": \"US\", \"Confirmed\": 2222579, \"Deaths\": 119739, \"Recovered\": 606715.0, \"Active\": 1496125.0, \"New cases\": 31480, \"New deaths\": 672, \"New recovered\": 7600}, {\"Unnamed: 0\": 27890, \"Date\": \"2020-06-19T00:00:00\", \"Country/Region\": \"United Kingdom\", \"Confirmed\": 277974, \"Deaths\": 42653, \"Recovered\": 1319.0, \"Active\": 234002.0, \"New cases\": 984, \"New deaths\": 173, \"New recovered\": 6}, {\"Unnamed: 0\": 27932, \"Date\": \"2020-06-20T00:00:00\", \"Country/Region\": \"Canada\", \"Confirmed\": 102749, \"Deaths\": 8465, \"Recovered\": 64826.0, \"Active\": 29458.0, \"New cases\": 448, \"New deaths\": 58, \"New recovered\": 508}, {\"Unnamed: 0\": 27936, \"Date\": \"2020-06-20T00:00:00\", \"Country/Region\": \"China\", \"Confirmed\": 84553, \"Deaths\": 4639, \"Recovered\": 77958.0, \"Active\": 1956.0, \"New cases\": 59, \"New deaths\": 1, \"New recovered\": 19}, {\"Unnamed: 0\": 27961, \"Date\": \"2020-06-20T00:00:00\", \"Country/Region\": \"France\", \"Confirmed\": 197352, \"Deaths\": 29636, \"Recovered\": 74436.0, \"Active\": 93280.0, \"New cases\": 641, \"New deaths\": 16, \"New recovered\": 195}, {\"Unnamed: 0\": 27965, \"Date\": \"2020-06-20T00:00:00\", \"Country/Region\": \"Germany\", \"Confirmed\": 190670, \"Deaths\": 8895, \"Recovered\": 174609.0, \"Active\": 7166.0, \"New cases\": 371, \"New deaths\": 8, \"New recovered\": 637}, {\"Unnamed: 0\": 27978, \"Date\": \"2020-06-20T00:00:00\", \"Country/Region\": \"India\", \"Confirmed\": 410451, \"Deaths\": 13254, \"Recovered\": 227728.0, \"Active\": 169469.0, \"New cases\": 15403, \"New deaths\": 306, \"New recovered\": 13897}, {\"Unnamed: 0\": 27980, \"Date\": \"2020-06-20T00:00:00\", \"Country/Region\": \"Iran\", \"Confirmed\": 202584, \"Deaths\": 9507, \"Recovered\": 161384.0, \"Active\": 31693.0, \"New cases\": 2322, \"New deaths\": 115, \"New recovered\": 2192}, {\"Unnamed: 0\": 27984, \"Date\": \"2020-06-20T00:00:00\", \"Country/Region\": \"Italy\", \"Confirmed\": 238275, \"Deaths\": 34610, \"Recovered\": 182453.0, \"Active\": 21212.0, \"New cases\": 264, \"New deaths\": 49, \"New recovered\": 546}, {\"Unnamed: 0\": 28056, \"Date\": \"2020-06-20T00:00:00\", \"Country/Region\": \"Spain\", \"Confirmed\": 245938, \"Deaths\": 28322, \"Recovered\": 150376.0, \"Active\": 67240.0, \"New cases\": 363, \"New deaths\": 7, \"New recovered\": 0}, {\"Unnamed: 0\": 28061, \"Date\": \"2020-06-20T00:00:00\", \"Country/Region\": \"Switzerland\", \"Confirmed\": 31243, \"Deaths\": 1956, \"Recovered\": 28900.0, \"Active\": 387.0, \"New cases\": 8, \"New deaths\": 0, \"New recovered\": 0}, {\"Unnamed: 0\": 28072, \"Date\": \"2020-06-20T00:00:00\", \"Country/Region\": \"US\", \"Confirmed\": 2255328, \"Deaths\": 120349, \"Recovered\": 617460.0, \"Active\": 1517519.0, \"New cases\": 32749, \"New deaths\": 610, \"New recovered\": 10745}, {\"Unnamed: 0\": 28076, \"Date\": \"2020-06-20T00:00:00\", \"Country/Region\": \"United Kingdom\", \"Confirmed\": 278640, \"Deaths\": 42783, \"Recovered\": 1319.0, \"Active\": 234538.0, \"New cases\": 666, \"New deaths\": 130, \"New recovered\": 0}, {\"Unnamed: 0\": 28118, \"Date\": \"2020-06-21T00:00:00\", \"Country/Region\": \"Canada\", \"Confirmed\": 103065, \"Deaths\": 8481, \"Recovered\": 65249.0, \"Active\": 29335.0, \"New cases\": 316, \"New deaths\": 16, \"New recovered\": 423}, {\"Unnamed: 0\": 28122, \"Date\": \"2020-06-21T00:00:00\", \"Country/Region\": \"China\", \"Confirmed\": 84572, \"Deaths\": 4639, \"Recovered\": 77959.0, \"Active\": 1974.0, \"New cases\": 19, \"New deaths\": 0, \"New recovered\": 1}, {\"Unnamed: 0\": 28147, \"Date\": \"2020-06-21T00:00:00\", \"Country/Region\": \"France\", \"Confirmed\": 197636, \"Deaths\": 29643, \"Recovered\": 74496.0, \"Active\": 93497.0, \"New cases\": 284, \"New deaths\": 7, \"New recovered\": 60}, {\"Unnamed: 0\": 28151, \"Date\": \"2020-06-21T00:00:00\", \"Country/Region\": \"Germany\", \"Confirmed\": 191272, \"Deaths\": 8895, \"Recovered\": 174740.0, \"Active\": 7637.0, \"New cases\": 602, \"New deaths\": 0, \"New recovered\": 131}, {\"Unnamed: 0\": 28164, \"Date\": \"2020-06-21T00:00:00\", \"Country/Region\": \"India\", \"Confirmed\": 425282, \"Deaths\": 13699, \"Recovered\": 237196.0, \"Active\": 174387.0, \"New cases\": 14831, \"New deaths\": 445, \"New recovered\": 9468}, {\"Unnamed: 0\": 28166, \"Date\": \"2020-06-21T00:00:00\", \"Country/Region\": \"Iran\", \"Confirmed\": 204952, \"Deaths\": 9623, \"Recovered\": 163591.0, \"Active\": 31738.0, \"New cases\": 2368, \"New deaths\": 116, \"New recovered\": 2207}, {\"Unnamed: 0\": 28170, \"Date\": \"2020-06-21T00:00:00\", \"Country/Region\": \"Italy\", \"Confirmed\": 238499, \"Deaths\": 34634, \"Recovered\": 182893.0, \"Active\": 20972.0, \"New cases\": 224, \"New deaths\": 24, \"New recovered\": 440}, {\"Unnamed: 0\": 28242, \"Date\": \"2020-06-21T00:00:00\", \"Country/Region\": \"Spain\", \"Confirmed\": 246272, \"Deaths\": 28323, \"Recovered\": 150376.0, \"Active\": 67573.0, \"New cases\": 334, \"New deaths\": 1, \"New recovered\": 0}, {\"Unnamed: 0\": 28247, \"Date\": \"2020-06-21T00:00:00\", \"Country/Region\": \"Switzerland\", \"Confirmed\": 31292, \"Deaths\": 1956, \"Recovered\": 29000.0, \"Active\": 336.0, \"New cases\": 49, \"New deaths\": 0, \"New recovered\": 100}, {\"Unnamed: 0\": 28258, \"Date\": \"2020-06-21T00:00:00\", \"Country/Region\": \"US\", \"Confirmed\": 2281767, \"Deaths\": 120604, \"Recovered\": 622133.0, \"Active\": 1539030.0, \"New cases\": 26439, \"New deaths\": 255, \"New recovered\": 4673}, {\"Unnamed: 0\": 28262, \"Date\": \"2020-06-21T00:00:00\", \"Country/Region\": \"United Kingdom\", \"Confirmed\": 279264, \"Deaths\": 42826, \"Recovered\": 1319.0, \"Active\": 235119.0, \"New cases\": 624, \"New deaths\": 43, \"New recovered\": 0}, {\"Unnamed: 0\": 28304, \"Date\": \"2020-06-22T00:00:00\", \"Country/Region\": \"Canada\", \"Confirmed\": 103405, \"Deaths\": 8493, \"Recovered\": 65721.0, \"Active\": 29191.0, \"New cases\": 340, \"New deaths\": 12, \"New recovered\": 472}, {\"Unnamed: 0\": 28308, \"Date\": \"2020-06-22T00:00:00\", \"Country/Region\": \"China\", \"Confirmed\": 84624, \"Deaths\": 4639, \"Recovered\": 77970.0, \"Active\": 2015.0, \"New cases\": 52, \"New deaths\": 0, \"New recovered\": 11}, {\"Unnamed: 0\": 28333, \"Date\": \"2020-06-22T00:00:00\", \"Country/Region\": \"France\", \"Confirmed\": 198009, \"Deaths\": 29666, \"Recovered\": 74736.0, \"Active\": 93607.0, \"New cases\": 373, \"New deaths\": 23, \"New recovered\": 240}, {\"Unnamed: 0\": 28337, \"Date\": \"2020-06-22T00:00:00\", \"Country/Region\": \"Germany\", \"Confirmed\": 191768, \"Deaths\": 8899, \"Recovered\": 175143.0, \"Active\": 7726.0, \"New cases\": 496, \"New deaths\": 4, \"New recovered\": 403}, {\"Unnamed: 0\": 28350, \"Date\": \"2020-06-22T00:00:00\", \"Country/Region\": \"India\", \"Confirmed\": 440215, \"Deaths\": 14011, \"Recovered\": 248190.0, \"Active\": 178014.0, \"New cases\": 14933, \"New deaths\": 312, \"New recovered\": 10994}, {\"Unnamed: 0\": 28352, \"Date\": \"2020-06-22T00:00:00\", \"Country/Region\": \"Iran\", \"Confirmed\": 207525, \"Deaths\": 9742, \"Recovered\": 166427.0, \"Active\": 31356.0, \"New cases\": 2573, \"New deaths\": 119, \"New recovered\": 2836}, {\"Unnamed: 0\": 28356, \"Date\": \"2020-06-22T00:00:00\", \"Country/Region\": \"Italy\", \"Confirmed\": 238720, \"Deaths\": 34657, \"Recovered\": 183426.0, \"Active\": 20637.0, \"New cases\": 221, \"New deaths\": 23, \"New recovered\": 533}, {\"Unnamed: 0\": 28428, \"Date\": \"2020-06-22T00:00:00\", \"Country/Region\": \"Spain\", \"Confirmed\": 246504, \"Deaths\": 28324, \"Recovered\": 150376.0, \"Active\": 67804.0, \"New cases\": 232, \"New deaths\": 1, \"New recovered\": 0}, {\"Unnamed: 0\": 28433, \"Date\": \"2020-06-22T00:00:00\", \"Country/Region\": \"Switzerland\", \"Confirmed\": 31310, \"Deaths\": 1956, \"Recovered\": 29000.0, \"Active\": 354.0, \"New cases\": 18, \"New deaths\": 0, \"New recovered\": 0}, {\"Unnamed: 0\": 28444, \"Date\": \"2020-06-22T00:00:00\", \"Country/Region\": \"US\", \"Confirmed\": 2312303, \"Deaths\": 121010, \"Recovered\": 640198.0, \"Active\": 1551095.0, \"New cases\": 30536, \"New deaths\": 406, \"New recovered\": 18065}, {\"Unnamed: 0\": 28448, \"Date\": \"2020-06-22T00:00:00\", \"Country/Region\": \"United Kingdom\", \"Confirmed\": 280156, \"Deaths\": 42840, \"Recovered\": 1322.0, \"Active\": 235994.0, \"New cases\": 892, \"New deaths\": 14, \"New recovered\": 3}, {\"Unnamed: 0\": 28490, \"Date\": \"2020-06-23T00:00:00\", \"Country/Region\": \"Canada\", \"Confirmed\": 103754, \"Deaths\": 8511, \"Recovered\": 66135.0, \"Active\": 29108.0, \"New cases\": 349, \"New deaths\": 18, \"New recovered\": 414}, {\"Unnamed: 0\": 28494, \"Date\": \"2020-06-23T00:00:00\", \"Country/Region\": \"China\", \"Confirmed\": 84653, \"Deaths\": 4640, \"Recovered\": 77978.0, \"Active\": 2035.0, \"New cases\": 29, \"New deaths\": 1, \"New recovered\": 8}, {\"Unnamed: 0\": 28519, \"Date\": \"2020-06-23T00:00:00\", \"Country/Region\": \"France\", \"Confirmed\": 198526, \"Deaths\": 29723, \"Recovered\": 74995.0, \"Active\": 93808.0, \"New cases\": 517, \"New deaths\": 57, \"New recovered\": 259}, {\"Unnamed: 0\": 28523, \"Date\": \"2020-06-23T00:00:00\", \"Country/Region\": \"Germany\", \"Confirmed\": 192480, \"Deaths\": 8914, \"Recovered\": 175825.0, \"Active\": 7741.0, \"New cases\": 712, \"New deaths\": 15, \"New recovered\": 682}, {\"Unnamed: 0\": 28536, \"Date\": \"2020-06-23T00:00:00\", \"Country/Region\": \"India\", \"Confirmed\": 456183, \"Deaths\": 14476, \"Recovered\": 258685.0, \"Active\": 183022.0, \"New cases\": 15968, \"New deaths\": 465, \"New recovered\": 10495}, {\"Unnamed: 0\": 28538, \"Date\": \"2020-06-23T00:00:00\", \"Country/Region\": \"Iran\", \"Confirmed\": 209970, \"Deaths\": 9863, \"Recovered\": 169160.0, \"Active\": 30947.0, \"New cases\": 2445, \"New deaths\": 121, \"New recovered\": 2733}, {\"Unnamed: 0\": 28542, \"Date\": \"2020-06-23T00:00:00\", \"Country/Region\": \"Italy\", \"Confirmed\": 238833, \"Deaths\": 34675, \"Recovered\": 184585.0, \"Active\": 19573.0, \"New cases\": 113, \"New deaths\": 18, \"New recovered\": 1159}, {\"Unnamed: 0\": 28614, \"Date\": \"2020-06-23T00:00:00\", \"Country/Region\": \"Spain\", \"Confirmed\": 246752, \"Deaths\": 28325, \"Recovered\": 150376.0, \"Active\": 68051.0, \"New cases\": 248, \"New deaths\": 1, \"New recovered\": 0}, {\"Unnamed: 0\": 28619, \"Date\": \"2020-06-23T00:00:00\", \"Country/Region\": \"Switzerland\", \"Confirmed\": 31332, \"Deaths\": 1956, \"Recovered\": 29000.0, \"Active\": 376.0, \"New cases\": 22, \"New deaths\": 0, \"New recovered\": 0}, {\"Unnamed: 0\": 28630, \"Date\": \"2020-06-23T00:00:00\", \"Country/Region\": \"US\", \"Confirmed\": 2347491, \"Deaths\": 121847, \"Recovered\": 647548.0, \"Active\": 1578096.0, \"New cases\": 35188, \"New deaths\": 837, \"New recovered\": 7350}, {\"Unnamed: 0\": 28634, \"Date\": \"2020-06-23T00:00:00\", \"Country/Region\": \"United Kingdom\", \"Confirmed\": 281038, \"Deaths\": 43011, \"Recovered\": 1330.0, \"Active\": 236697.0, \"New cases\": 882, \"New deaths\": 171, \"New recovered\": 8}, {\"Unnamed: 0\": 28676, \"Date\": \"2020-06-24T00:00:00\", \"Country/Region\": \"Canada\", \"Confirmed\": 104074, \"Deaths\": 8543, \"Recovered\": 66533.0, \"Active\": 28998.0, \"New cases\": 320, \"New deaths\": 32, \"New recovered\": 398}, {\"Unnamed: 0\": 28680, \"Date\": \"2020-06-24T00:00:00\", \"Country/Region\": \"China\", \"Confirmed\": 84673, \"Deaths\": 4640, \"Recovered\": 77985.0, \"Active\": 2048.0, \"New cases\": 20, \"New deaths\": 0, \"New recovered\": 7}, {\"Unnamed: 0\": 28705, \"Date\": \"2020-06-24T00:00:00\", \"Country/Region\": \"France\", \"Confirmed\": 198607, \"Deaths\": 29734, \"Recovered\": 75251.0, \"Active\": 93622.0, \"New cases\": 81, \"New deaths\": 11, \"New recovered\": 256}, {\"Unnamed: 0\": 28709, \"Date\": \"2020-06-24T00:00:00\", \"Country/Region\": \"Germany\", \"Confirmed\": 192871, \"Deaths\": 8928, \"Recovered\": 176422.0, \"Active\": 7521.0, \"New cases\": 391, \"New deaths\": 14, \"New recovered\": 597}, {\"Unnamed: 0\": 28722, \"Date\": \"2020-06-24T00:00:00\", \"Country/Region\": \"India\", \"Confirmed\": 473105, \"Deaths\": 14894, \"Recovered\": 271697.0, \"Active\": 186514.0, \"New cases\": 16922, \"New deaths\": 418, \"New recovered\": 13012}, {\"Unnamed: 0\": 28724, \"Date\": \"2020-06-24T00:00:00\", \"Country/Region\": \"Iran\", \"Confirmed\": 212501, \"Deaths\": 9996, \"Recovered\": 172096.0, \"Active\": 30409.0, \"New cases\": 2531, \"New deaths\": 133, \"New recovered\": 2936}, {\"Unnamed: 0\": 28728, \"Date\": \"2020-06-24T00:00:00\", \"Country/Region\": \"Italy\", \"Confirmed\": 239410, \"Deaths\": 34644, \"Recovered\": 186111.0, \"Active\": 18655.0, \"New cases\": 577, \"New deaths\": -31, \"New recovered\": 1526}, {\"Unnamed: 0\": 28800, \"Date\": \"2020-06-24T00:00:00\", \"Country/Region\": \"Spain\", \"Confirmed\": 247086, \"Deaths\": 28327, \"Recovered\": 150376.0, \"Active\": 68383.0, \"New cases\": 334, \"New deaths\": 2, \"New recovered\": 0}, {\"Unnamed: 0\": 28805, \"Date\": \"2020-06-24T00:00:00\", \"Country/Region\": \"Switzerland\", \"Confirmed\": 31376, \"Deaths\": 1958, \"Recovered\": 29000.0, \"Active\": 418.0, \"New cases\": 44, \"New deaths\": 2, \"New recovered\": 0}, {\"Unnamed: 0\": 28816, \"Date\": \"2020-06-24T00:00:00\", \"Country/Region\": \"US\", \"Confirmed\": 2382426, \"Deaths\": 122604, \"Recovered\": 656161.0, \"Active\": 1603661.0, \"New cases\": 34935, \"New deaths\": 757, \"New recovered\": 8613}, {\"Unnamed: 0\": 28820, \"Date\": \"2020-06-24T00:00:00\", \"Country/Region\": \"United Kingdom\", \"Confirmed\": 281815, \"Deaths\": 43165, \"Recovered\": 1345.0, \"Active\": 237305.0, \"New cases\": 777, \"New deaths\": 154, \"New recovered\": 15}, {\"Unnamed: 0\": 28862, \"Date\": \"2020-06-25T00:00:00\", \"Country/Region\": \"Canada\", \"Confirmed\": 104450, \"Deaths\": 8566, \"Recovered\": 66869.0, \"Active\": 29015.0, \"New cases\": 376, \"New deaths\": 23, \"New recovered\": 336}, {\"Unnamed: 0\": 28866, \"Date\": \"2020-06-25T00:00:00\", \"Country/Region\": \"China\", \"Confirmed\": 84701, \"Deaths\": 4641, \"Recovered\": 77994.0, \"Active\": 2066.0, \"New cases\": 28, \"New deaths\": 1, \"New recovered\": 9}, {\"Unnamed: 0\": 28891, \"Date\": \"2020-06-25T00:00:00\", \"Country/Region\": \"France\", \"Confirmed\": 198607, \"Deaths\": 29755, \"Recovered\": 75475.0, \"Active\": 93377.0, \"New cases\": 0, \"New deaths\": 21, \"New recovered\": 224}, {\"Unnamed: 0\": 28895, \"Date\": \"2020-06-25T00:00:00\", \"Country/Region\": \"Germany\", \"Confirmed\": 193371, \"Deaths\": 8940, \"Recovered\": 176764.0, \"Active\": 7667.0, \"New cases\": 500, \"New deaths\": 12, \"New recovered\": 342}, {\"Unnamed: 0\": 28908, \"Date\": \"2020-06-25T00:00:00\", \"Country/Region\": \"India\", \"Confirmed\": 490401, \"Deaths\": 15301, \"Recovered\": 285637.0, \"Active\": 189463.0, \"New cases\": 17296, \"New deaths\": 407, \"New recovered\": 13940}, {\"Unnamed: 0\": 28910, \"Date\": \"2020-06-25T00:00:00\", \"Country/Region\": \"Iran\", \"Confirmed\": 215096, \"Deaths\": 10130, \"Recovered\": 175103.0, \"Active\": 29863.0, \"New cases\": 2595, \"New deaths\": 134, \"New recovered\": 3007}, {\"Unnamed: 0\": 28914, \"Date\": \"2020-06-25T00:00:00\", \"Country/Region\": \"Italy\", \"Confirmed\": 239706, \"Deaths\": 34678, \"Recovered\": 186725.0, \"Active\": 18303.0, \"New cases\": 296, \"New deaths\": 34, \"New recovered\": 614}, {\"Unnamed: 0\": 28986, \"Date\": \"2020-06-25T00:00:00\", \"Country/Region\": \"Spain\", \"Confirmed\": 247486, \"Deaths\": 28330, \"Recovered\": 150376.0, \"Active\": 68780.0, \"New cases\": 400, \"New deaths\": 3, \"New recovered\": 0}, {\"Unnamed: 0\": 28991, \"Date\": \"2020-06-25T00:00:00\", \"Country/Region\": \"Switzerland\", \"Confirmed\": 31428, \"Deaths\": 1958, \"Recovered\": 29000.0, \"Active\": 470.0, \"New cases\": 52, \"New deaths\": 0, \"New recovered\": 0}, {\"Unnamed: 0\": 29002, \"Date\": \"2020-06-25T00:00:00\", \"Country/Region\": \"US\", \"Confirmed\": 2422299, \"Deaths\": 125026, \"Recovered\": 663562.0, \"Active\": 1633711.0, \"New cases\": 39873, \"New deaths\": 2422, \"New recovered\": 7401}, {\"Unnamed: 0\": 29006, \"Date\": \"2020-06-25T00:00:00\", \"Country/Region\": \"United Kingdom\", \"Confirmed\": 282512, \"Deaths\": 43314, \"Recovered\": 1361.0, \"Active\": 237837.0, \"New cases\": 697, \"New deaths\": 149, \"New recovered\": 16}, {\"Unnamed: 0\": 29048, \"Date\": \"2020-06-26T00:00:00\", \"Country/Region\": \"Canada\", \"Confirmed\": 104616, \"Deaths\": 8570, \"Recovered\": 67182.0, \"Active\": 28864.0, \"New cases\": 166, \"New deaths\": 4, \"New recovered\": 313}, {\"Unnamed: 0\": 29052, \"Date\": \"2020-06-26T00:00:00\", \"Country/Region\": \"China\", \"Confirmed\": 84725, \"Deaths\": 4641, \"Recovered\": 78000.0, \"Active\": 2084.0, \"New cases\": 24, \"New deaths\": 0, \"New recovered\": 6}, {\"Unnamed: 0\": 29077, \"Date\": \"2020-06-26T00:00:00\", \"Country/Region\": \"France\", \"Confirmed\": 200195, \"Deaths\": 29781, \"Recovered\": 75773.0, \"Active\": 94641.0, \"New cases\": 1588, \"New deaths\": 26, \"New recovered\": 298}, {\"Unnamed: 0\": 29081, \"Date\": \"2020-06-26T00:00:00\", \"Country/Region\": \"Germany\", \"Confirmed\": 194036, \"Deaths\": 8965, \"Recovered\": 177149.0, \"Active\": 7922.0, \"New cases\": 665, \"New deaths\": 25, \"New recovered\": 385}, {\"Unnamed: 0\": 29094, \"Date\": \"2020-06-26T00:00:00\", \"Country/Region\": \"India\", \"Confirmed\": 508953, \"Deaths\": 15685, \"Recovered\": 295881.0, \"Active\": 197387.0, \"New cases\": 18552, \"New deaths\": 384, \"New recovered\": 10244}, {\"Unnamed: 0\": 29096, \"Date\": \"2020-06-26T00:00:00\", \"Country/Region\": \"Iran\", \"Confirmed\": 217724, \"Deaths\": 10239, \"Recovered\": 177852.0, \"Active\": 29633.0, \"New cases\": 2628, \"New deaths\": 109, \"New recovered\": 2749}, {\"Unnamed: 0\": 29100, \"Date\": \"2020-06-26T00:00:00\", \"Country/Region\": \"Italy\", \"Confirmed\": 239961, \"Deaths\": 34708, \"Recovered\": 187615.0, \"Active\": 17638.0, \"New cases\": 255, \"New deaths\": 30, \"New recovered\": 890}, {\"Unnamed: 0\": 29172, \"Date\": \"2020-06-26T00:00:00\", \"Country/Region\": \"Spain\", \"Confirmed\": 247905, \"Deaths\": 28338, \"Recovered\": 150376.0, \"Active\": 69191.0, \"New cases\": 419, \"New deaths\": 8, \"New recovered\": 0}, {\"Unnamed: 0\": 29177, \"Date\": \"2020-06-26T00:00:00\", \"Country/Region\": \"Switzerland\", \"Confirmed\": 31486, \"Deaths\": 1962, \"Recovered\": 29000.0, \"Active\": 524.0, \"New cases\": 58, \"New deaths\": 4, \"New recovered\": 0}, {\"Unnamed: 0\": 29188, \"Date\": \"2020-06-26T00:00:00\", \"Country/Region\": \"US\", \"Confirmed\": 2467554, \"Deaths\": 125631, \"Recovered\": 670809.0, \"Active\": 1671114.0, \"New cases\": 45255, \"New deaths\": 605, \"New recovered\": 7247}, {\"Unnamed: 0\": 29192, \"Date\": \"2020-06-26T00:00:00\", \"Country/Region\": \"United Kingdom\", \"Confirmed\": 283151, \"Deaths\": 43498, \"Recovered\": 1363.0, \"Active\": 238290.0, \"New cases\": 639, \"New deaths\": 184, \"New recovered\": 2}, {\"Unnamed: 0\": 29234, \"Date\": \"2020-06-27T00:00:00\", \"Country/Region\": \"Canada\", \"Confirmed\": 104865, \"Deaths\": 8575, \"Recovered\": 67445.0, \"Active\": 28845.0, \"New cases\": 249, \"New deaths\": 5, \"New recovered\": 263}, {\"Unnamed: 0\": 29238, \"Date\": \"2020-06-27T00:00:00\", \"Country/Region\": \"China\", \"Confirmed\": 84743, \"Deaths\": 4641, \"Recovered\": 78006.0, \"Active\": 2096.0, \"New cases\": 18, \"New deaths\": 0, \"New recovered\": 6}, {\"Unnamed: 0\": 29263, \"Date\": \"2020-06-27T00:00:00\", \"Country/Region\": \"France\", \"Confirmed\": 200195, \"Deaths\": 29781, \"Recovered\": 75773.0, \"Active\": 94641.0, \"New cases\": 0, \"New deaths\": 0, \"New recovered\": 0}, {\"Unnamed: 0\": 29267, \"Date\": \"2020-06-27T00:00:00\", \"Country/Region\": \"Germany\", \"Confirmed\": 194458, \"Deaths\": 8968, \"Recovered\": 177518.0, \"Active\": 7972.0, \"New cases\": 422, \"New deaths\": 3, \"New recovered\": 369}, {\"Unnamed: 0\": 29280, \"Date\": \"2020-06-27T00:00:00\", \"Country/Region\": \"India\", \"Confirmed\": 528859, \"Deaths\": 16095, \"Recovered\": 309713.0, \"Active\": 203051.0, \"New cases\": 19906, \"New deaths\": 410, \"New recovered\": 13832}, {\"Unnamed: 0\": 29282, \"Date\": \"2020-06-27T00:00:00\", \"Country/Region\": \"Iran\", \"Confirmed\": 220180, \"Deaths\": 10364, \"Recovered\": 180661.0, \"Active\": 29155.0, \"New cases\": 2456, \"New deaths\": 125, \"New recovered\": 2809}, {\"Unnamed: 0\": 29286, \"Date\": \"2020-06-27T00:00:00\", \"Country/Region\": \"Italy\", \"Confirmed\": 240136, \"Deaths\": 34716, \"Recovered\": 188584.0, \"Active\": 16836.0, \"New cases\": 175, \"New deaths\": 8, \"New recovered\": 969}, {\"Unnamed: 0\": 29358, \"Date\": \"2020-06-27T00:00:00\", \"Country/Region\": \"Spain\", \"Confirmed\": 248469, \"Deaths\": 28341, \"Recovered\": 150376.0, \"Active\": 69752.0, \"New cases\": 564, \"New deaths\": 3, \"New recovered\": 0}, {\"Unnamed: 0\": 29363, \"Date\": \"2020-06-27T00:00:00\", \"Country/Region\": \"Switzerland\", \"Confirmed\": 31555, \"Deaths\": 1962, \"Recovered\": 29100.0, \"Active\": 493.0, \"New cases\": 69, \"New deaths\": 0, \"New recovered\": 100}, {\"Unnamed: 0\": 29374, \"Date\": \"2020-06-27T00:00:00\", \"Country/Region\": \"US\", \"Confirmed\": 2510259, \"Deaths\": 126120, \"Recovered\": 679308.0, \"Active\": 1704831.0, \"New cases\": 42705, \"New deaths\": 489, \"New recovered\": 8499}, {\"Unnamed: 0\": 29378, \"Date\": \"2020-06-27T00:00:00\", \"Country/Region\": \"United Kingdom\", \"Confirmed\": 283785, \"Deaths\": 43598, \"Recovered\": 1364.0, \"Active\": 238823.0, \"New cases\": 634, \"New deaths\": 100, \"New recovered\": 1}, {\"Unnamed: 0\": 29420, \"Date\": \"2020-06-28T00:00:00\", \"Country/Region\": \"Canada\", \"Confirmed\": 105180, \"Deaths\": 8581, \"Recovered\": 67689.0, \"Active\": 28910.0, \"New cases\": 315, \"New deaths\": 6, \"New recovered\": 244}, {\"Unnamed: 0\": 29424, \"Date\": \"2020-06-28T00:00:00\", \"Country/Region\": \"China\", \"Confirmed\": 84757, \"Deaths\": 4641, \"Recovered\": 78022.0, \"Active\": 2094.0, \"New cases\": 14, \"New deaths\": 0, \"New recovered\": 16}, {\"Unnamed: 0\": 29449, \"Date\": \"2020-06-28T00:00:00\", \"Country/Region\": \"France\", \"Confirmed\": 199476, \"Deaths\": 29781, \"Recovered\": 75774.0, \"Active\": 93921.0, \"New cases\": 0, \"New deaths\": 0, \"New recovered\": 1}, {\"Unnamed: 0\": 29453, \"Date\": \"2020-06-28T00:00:00\", \"Country/Region\": \"Germany\", \"Confirmed\": 194693, \"Deaths\": 8968, \"Recovered\": 177657.0, \"Active\": 8068.0, \"New cases\": 235, \"New deaths\": 0, \"New recovered\": 139}, {\"Unnamed: 0\": 29466, \"Date\": \"2020-06-28T00:00:00\", \"Country/Region\": \"India\", \"Confirmed\": 548318, \"Deaths\": 16475, \"Recovered\": 321723.0, \"Active\": 210120.0, \"New cases\": 19459, \"New deaths\": 380, \"New recovered\": 12010}, {\"Unnamed: 0\": 29468, \"Date\": \"2020-06-28T00:00:00\", \"Country/Region\": \"Iran\", \"Confirmed\": 222669, \"Deaths\": 10508, \"Recovered\": 183310.0, \"Active\": 28851.0, \"New cases\": 2489, \"New deaths\": 144, \"New recovered\": 2649}, {\"Unnamed: 0\": 29472, \"Date\": \"2020-06-28T00:00:00\", \"Country/Region\": \"Italy\", \"Confirmed\": 240310, \"Deaths\": 34738, \"Recovered\": 188891.0, \"Active\": 16681.0, \"New cases\": 174, \"New deaths\": 22, \"New recovered\": 307}, {\"Unnamed: 0\": 29544, \"Date\": \"2020-06-28T00:00:00\", \"Country/Region\": \"Spain\", \"Confirmed\": 248770, \"Deaths\": 28343, \"Recovered\": 150376.0, \"Active\": 70051.0, \"New cases\": 301, \"New deaths\": 2, \"New recovered\": 0}, {\"Unnamed: 0\": 29549, \"Date\": \"2020-06-28T00:00:00\", \"Country/Region\": \"Switzerland\", \"Confirmed\": 31617, \"Deaths\": 1962, \"Recovered\": 29100.0, \"Active\": 555.0, \"New cases\": 62, \"New deaths\": 0, \"New recovered\": 0}, {\"Unnamed: 0\": 29560, \"Date\": \"2020-06-28T00:00:00\", \"Country/Region\": \"US\", \"Confirmed\": 2549864, \"Deaths\": 126361, \"Recovered\": 685164.0, \"Active\": 1738339.0, \"New cases\": 39605, \"New deaths\": 241, \"New recovered\": 5856}, {\"Unnamed: 0\": 29564, \"Date\": \"2020-06-28T00:00:00\", \"Country/Region\": \"United Kingdom\", \"Confirmed\": 284192, \"Deaths\": 43634, \"Recovered\": 1364.0, \"Active\": 239194.0, \"New cases\": 407, \"New deaths\": 36, \"New recovered\": 0}, {\"Unnamed: 0\": 29606, \"Date\": \"2020-06-29T00:00:00\", \"Country/Region\": \"Canada\", \"Confirmed\": 105817, \"Deaths\": 8627, \"Recovered\": 68698.0, \"Active\": 28492.0, \"New cases\": 637, \"New deaths\": 46, \"New recovered\": 1009}, {\"Unnamed: 0\": 29610, \"Date\": \"2020-06-29T00:00:00\", \"Country/Region\": \"China\", \"Confirmed\": 84780, \"Deaths\": 4641, \"Recovered\": 78031.0, \"Active\": 2108.0, \"New cases\": 23, \"New deaths\": 0, \"New recovered\": 9}, {\"Unnamed: 0\": 29635, \"Date\": \"2020-06-29T00:00:00\", \"Country/Region\": \"France\", \"Confirmed\": 201522, \"Deaths\": 29816, \"Recovered\": 76124.0, \"Active\": 95582.0, \"New cases\": 2046, \"New deaths\": 35, \"New recovered\": 350}, {\"Unnamed: 0\": 29639, \"Date\": \"2020-06-29T00:00:00\", \"Country/Region\": \"Germany\", \"Confirmed\": 195042, \"Deaths\": 8976, \"Recovered\": 177770.0, \"Active\": 8296.0, \"New cases\": 349, \"New deaths\": 8, \"New recovered\": 113}, {\"Unnamed: 0\": 29652, \"Date\": \"2020-06-29T00:00:00\", \"Country/Region\": \"India\", \"Confirmed\": 566840, \"Deaths\": 16893, \"Recovered\": 334822.0, \"Active\": 215125.0, \"New cases\": 18522, \"New deaths\": 418, \"New recovered\": 13099}, {\"Unnamed: 0\": 29654, \"Date\": \"2020-06-29T00:00:00\", \"Country/Region\": \"Iran\", \"Confirmed\": 225205, \"Deaths\": 10670, \"Recovered\": 186180.0, \"Active\": 28355.0, \"New cases\": 2536, \"New deaths\": 162, \"New recovered\": 2870}, {\"Unnamed: 0\": 29658, \"Date\": \"2020-06-29T00:00:00\", \"Country/Region\": \"Italy\", \"Confirmed\": 240436, \"Deaths\": 34744, \"Recovered\": 189196.0, \"Active\": 16496.0, \"New cases\": 126, \"New deaths\": 6, \"New recovered\": 305}, {\"Unnamed: 0\": 29730, \"Date\": \"2020-06-29T00:00:00\", \"Country/Region\": \"Spain\", \"Confirmed\": 248970, \"Deaths\": 28346, \"Recovered\": 150376.0, \"Active\": 70248.0, \"New cases\": 200, \"New deaths\": 3, \"New recovered\": 0}, {\"Unnamed: 0\": 29735, \"Date\": \"2020-06-29T00:00:00\", \"Country/Region\": \"Switzerland\", \"Confirmed\": 31652, \"Deaths\": 1962, \"Recovered\": 29100.0, \"Active\": 590.0, \"New cases\": 35, \"New deaths\": 0, \"New recovered\": 0}, {\"Unnamed: 0\": 29746, \"Date\": \"2020-06-29T00:00:00\", \"Country/Region\": \"US\", \"Confirmed\": 2590668, \"Deaths\": 126711, \"Recovered\": 705203.0, \"Active\": 1758754.0, \"New cases\": 40804, \"New deaths\": 350, \"New recovered\": 20039}, {\"Unnamed: 0\": 29750, \"Date\": \"2020-06-29T00:00:00\", \"Country/Region\": \"United Kingdom\", \"Confirmed\": 284812, \"Deaths\": 43659, \"Recovered\": 1368.0, \"Active\": 239785.0, \"New cases\": 620, \"New deaths\": 25, \"New recovered\": 4}, {\"Unnamed: 0\": 29792, \"Date\": \"2020-06-30T00:00:00\", \"Country/Region\": \"Canada\", \"Confirmed\": 106084, \"Deaths\": 8649, \"Recovered\": 69120.0, \"Active\": 28315.0, \"New cases\": 267, \"New deaths\": 22, \"New recovered\": 422}, {\"Unnamed: 0\": 29796, \"Date\": \"2020-06-30T00:00:00\", \"Country/Region\": \"China\", \"Confirmed\": 84785, \"Deaths\": 4641, \"Recovered\": 78044.0, \"Active\": 2100.0, \"New cases\": 5, \"New deaths\": 0, \"New recovered\": 13}, {\"Unnamed: 0\": 29821, \"Date\": \"2020-06-30T00:00:00\", \"Country/Region\": \"France\", \"Confirmed\": 202063, \"Deaths\": 29846, \"Recovered\": 76399.0, \"Active\": 95818.0, \"New cases\": 541, \"New deaths\": 30, \"New recovered\": 275}, {\"Unnamed: 0\": 29825, \"Date\": \"2020-06-30T00:00:00\", \"Country/Region\": \"Germany\", \"Confirmed\": 195418, \"Deaths\": 8990, \"Recovered\": 178100.0, \"Active\": 8328.0, \"New cases\": 376, \"New deaths\": 14, \"New recovered\": 330}, {\"Unnamed: 0\": 29838, \"Date\": \"2020-06-30T00:00:00\", \"Country/Region\": \"India\", \"Confirmed\": 585481, \"Deaths\": 17400, \"Recovered\": 347912.0, \"Active\": 220169.0, \"New cases\": 18641, \"New deaths\": 507, \"New recovered\": 13090}, {\"Unnamed: 0\": 29840, \"Date\": \"2020-06-30T00:00:00\", \"Country/Region\": \"Iran\", \"Confirmed\": 227662, \"Deaths\": 10817, \"Recovered\": 188758.0, \"Active\": 28087.0, \"New cases\": 2457, \"New deaths\": 147, \"New recovered\": 2578}, {\"Unnamed: 0\": 29844, \"Date\": \"2020-06-30T00:00:00\", \"Country/Region\": \"Italy\", \"Confirmed\": 240578, \"Deaths\": 34767, \"Recovered\": 190248.0, \"Active\": 15563.0, \"New cases\": 142, \"New deaths\": 23, \"New recovered\": 1052}, {\"Unnamed: 0\": 29916, \"Date\": \"2020-06-30T00:00:00\", \"Country/Region\": \"Spain\", \"Confirmed\": 249271, \"Deaths\": 28355, \"Recovered\": 150376.0, \"Active\": 70540.0, \"New cases\": 301, \"New deaths\": 9, \"New recovered\": 0}, {\"Unnamed: 0\": 29921, \"Date\": \"2020-06-30T00:00:00\", \"Country/Region\": \"Switzerland\", \"Confirmed\": 31714, \"Deaths\": 1963, \"Recovered\": 29200.0, \"Active\": 551.0, \"New cases\": 62, \"New deaths\": 1, \"New recovered\": 100}, {\"Unnamed: 0\": 29932, \"Date\": \"2020-06-30T00:00:00\", \"Country/Region\": \"US\", \"Confirmed\": 2636414, \"Deaths\": 127432, \"Recovered\": 720631.0, \"Active\": 1788351.0, \"New cases\": 45746, \"New deaths\": 721, \"New recovered\": 15428}, {\"Unnamed: 0\": 29936, \"Date\": \"2020-06-30T00:00:00\", \"Country/Region\": \"United Kingdom\", \"Confirmed\": 285216, \"Deaths\": 43815, \"Recovered\": 1370.0, \"Active\": 240031.0, \"New cases\": 404, \"New deaths\": 156, \"New recovered\": 2}, {\"Unnamed: 0\": 29978, \"Date\": \"2020-07-01T00:00:00\", \"Country/Region\": \"Canada\", \"Confirmed\": 106275, \"Deaths\": 8677, \"Recovered\": 69397.0, \"Active\": 28201.0, \"New cases\": 191, \"New deaths\": 28, \"New recovered\": 277}, {\"Unnamed: 0\": 29982, \"Date\": \"2020-07-01T00:00:00\", \"Country/Region\": \"China\", \"Confirmed\": 84816, \"Deaths\": 4641, \"Recovered\": 78062.0, \"Active\": 2113.0, \"New cases\": 31, \"New deaths\": 0, \"New recovered\": 18}, {\"Unnamed: 0\": 30007, \"Date\": \"2020-07-01T00:00:00\", \"Country/Region\": \"France\", \"Confirmed\": 202981, \"Deaths\": 29864, \"Recovered\": 76674.0, \"Active\": 96443.0, \"New cases\": 918, \"New deaths\": 18, \"New recovered\": 275}, {\"Unnamed: 0\": 30011, \"Date\": \"2020-07-01T00:00:00\", \"Country/Region\": \"Germany\", \"Confirmed\": 195893, \"Deaths\": 8995, \"Recovered\": 179100.0, \"Active\": 7798.0, \"New cases\": 475, \"New deaths\": 5, \"New recovered\": 1000}, {\"Unnamed: 0\": 30024, \"Date\": \"2020-07-01T00:00:00\", \"Country/Region\": \"India\", \"Confirmed\": 604641, \"Deaths\": 17834, \"Recovered\": 359860.0, \"Active\": 226947.0, \"New cases\": 19160, \"New deaths\": 434, \"New recovered\": 11948}, {\"Unnamed: 0\": 30026, \"Date\": \"2020-07-01T00:00:00\", \"Country/Region\": \"Iran\", \"Confirmed\": 230211, \"Deaths\": 10958, \"Recovered\": 191487.0, \"Active\": 27766.0, \"New cases\": 2549, \"New deaths\": 141, \"New recovered\": 2729}, {\"Unnamed: 0\": 30030, \"Date\": \"2020-07-01T00:00:00\", \"Country/Region\": \"Italy\", \"Confirmed\": 240760, \"Deaths\": 34788, \"Recovered\": 190717.0, \"Active\": 15255.0, \"New cases\": 182, \"New deaths\": 21, \"New recovered\": 469}, {\"Unnamed: 0\": 30102, \"Date\": \"2020-07-01T00:00:00\", \"Country/Region\": \"Spain\", \"Confirmed\": 249659, \"Deaths\": 28364, \"Recovered\": 150376.0, \"Active\": 70919.0, \"New cases\": 388, \"New deaths\": 9, \"New recovered\": 0}, {\"Unnamed: 0\": 30107, \"Date\": \"2020-07-01T00:00:00\", \"Country/Region\": \"Switzerland\", \"Confirmed\": 31851, \"Deaths\": 1965, \"Recovered\": 29200.0, \"Active\": 686.0, \"New cases\": 137, \"New deaths\": 2, \"New recovered\": 0}, {\"Unnamed: 0\": 30118, \"Date\": \"2020-07-01T00:00:00\", \"Country/Region\": \"US\", \"Confirmed\": 2687588, \"Deaths\": 128105, \"Recovered\": 729994.0, \"Active\": 1829489.0, \"New cases\": 51174, \"New deaths\": 673, \"New recovered\": 9363}, {\"Unnamed: 0\": 30122, \"Date\": \"2020-07-01T00:00:00\", \"Country/Region\": \"United Kingdom\", \"Confirmed\": 285279, \"Deaths\": 43991, \"Recovered\": 1372.0, \"Active\": 239916.0, \"New cases\": 63, \"New deaths\": 176, \"New recovered\": 2}, {\"Unnamed: 0\": 30164, \"Date\": \"2020-07-02T00:00:00\", \"Country/Region\": \"Canada\", \"Confirmed\": 106630, \"Deaths\": 8699, \"Recovered\": 69872.0, \"Active\": 28059.0, \"New cases\": 355, \"New deaths\": 22, \"New recovered\": 475}, {\"Unnamed: 0\": 30168, \"Date\": \"2020-07-02T00:00:00\", \"Country/Region\": \"China\", \"Confirmed\": 84830, \"Deaths\": 4641, \"Recovered\": 78077.0, \"Active\": 2112.0, \"New cases\": 14, \"New deaths\": 0, \"New recovered\": 15}, {\"Unnamed: 0\": 30193, \"Date\": \"2020-07-02T00:00:00\", \"Country/Region\": \"France\", \"Confirmed\": 203640, \"Deaths\": 29878, \"Recovered\": 76927.0, \"Active\": 96835.0, \"New cases\": 659, \"New deaths\": 14, \"New recovered\": 253}, {\"Unnamed: 0\": 30197, \"Date\": \"2020-07-02T00:00:00\", \"Country/Region\": \"Germany\", \"Confirmed\": 196370, \"Deaths\": 9006, \"Recovered\": 179800.0, \"Active\": 7564.0, \"New cases\": 477, \"New deaths\": 11, \"New recovered\": 700}, {\"Unnamed: 0\": 30210, \"Date\": \"2020-07-02T00:00:00\", \"Country/Region\": \"India\", \"Confirmed\": 625544, \"Deaths\": 18213, \"Recovered\": 379892.0, \"Active\": 227439.0, \"New cases\": 20903, \"New deaths\": 379, \"New recovered\": 20032}, {\"Unnamed: 0\": 30212, \"Date\": \"2020-07-02T00:00:00\", \"Country/Region\": \"Iran\", \"Confirmed\": 232863, \"Deaths\": 11106, \"Recovered\": 194098.0, \"Active\": 27659.0, \"New cases\": 2652, \"New deaths\": 148, \"New recovered\": 2611}, {\"Unnamed: 0\": 30216, \"Date\": \"2020-07-02T00:00:00\", \"Country/Region\": \"Italy\", \"Confirmed\": 240961, \"Deaths\": 34818, \"Recovered\": 191083.0, \"Active\": 15060.0, \"New cases\": 201, \"New deaths\": 30, \"New recovered\": 366}, {\"Unnamed: 0\": 30288, \"Date\": \"2020-07-02T00:00:00\", \"Country/Region\": \"Spain\", \"Confirmed\": 250103, \"Deaths\": 28368, \"Recovered\": 150376.0, \"Active\": 71359.0, \"New cases\": 444, \"New deaths\": 4, \"New recovered\": 0}, {\"Unnamed: 0\": 30293, \"Date\": \"2020-07-02T00:00:00\", \"Country/Region\": \"Switzerland\", \"Confirmed\": 31967, \"Deaths\": 1965, \"Recovered\": 29200.0, \"Active\": 802.0, \"New cases\": 116, \"New deaths\": 0, \"New recovered\": 0}, {\"Unnamed: 0\": 30304, \"Date\": \"2020-07-02T00:00:00\", \"Country/Region\": \"US\", \"Confirmed\": 2742049, \"Deaths\": 128803, \"Recovered\": 781970.0, \"Active\": 1831276.0, \"New cases\": 54461, \"New deaths\": 698, \"New recovered\": 51976}, {\"Unnamed: 0\": 30308, \"Date\": \"2020-07-02T00:00:00\", \"Country/Region\": \"United Kingdom\", \"Confirmed\": 285285, \"Deaths\": 44080, \"Recovered\": 1373.0, \"Active\": 239832.0, \"New cases\": 6, \"New deaths\": 89, \"New recovered\": 1}, {\"Unnamed: 0\": 30350, \"Date\": \"2020-07-03T00:00:00\", \"Country/Region\": \"Canada\", \"Confirmed\": 106949, \"Deaths\": 8721, \"Recovered\": 70232.0, \"Active\": 27996.0, \"New cases\": 319, \"New deaths\": 22, \"New recovered\": 360}, {\"Unnamed: 0\": 30354, \"Date\": \"2020-07-03T00:00:00\", \"Country/Region\": \"China\", \"Confirmed\": 84838, \"Deaths\": 4641, \"Recovered\": 78090.0, \"Active\": 2107.0, \"New cases\": 8, \"New deaths\": 0, \"New recovered\": 13}, {\"Unnamed: 0\": 30379, \"Date\": \"2020-07-03T00:00:00\", \"Country/Region\": \"France\", \"Confirmed\": 204222, \"Deaths\": 29896, \"Recovered\": 77185.0, \"Active\": 97141.0, \"New cases\": 582, \"New deaths\": 18, \"New recovered\": 258}, {\"Unnamed: 0\": 30383, \"Date\": \"2020-07-03T00:00:00\", \"Country/Region\": \"Germany\", \"Confirmed\": 196780, \"Deaths\": 9010, \"Recovered\": 180300.0, \"Active\": 7470.0, \"New cases\": 410, \"New deaths\": 4, \"New recovered\": 500}, {\"Unnamed: 0\": 30396, \"Date\": \"2020-07-03T00:00:00\", \"Country/Region\": \"India\", \"Confirmed\": 648315, \"Deaths\": 18655, \"Recovered\": 394227.0, \"Active\": 235433.0, \"New cases\": 22771, \"New deaths\": 442, \"New recovered\": 14335}, {\"Unnamed: 0\": 30398, \"Date\": \"2020-07-03T00:00:00\", \"Country/Region\": \"Iran\", \"Confirmed\": 235429, \"Deaths\": 11260, \"Recovered\": 196446.0, \"Active\": 27723.0, \"New cases\": 2566, \"New deaths\": 154, \"New recovered\": 2348}, {\"Unnamed: 0\": 30402, \"Date\": \"2020-07-03T00:00:00\", \"Country/Region\": \"Italy\", \"Confirmed\": 241184, \"Deaths\": 34833, \"Recovered\": 191467.0, \"Active\": 14884.0, \"New cases\": 223, \"New deaths\": 15, \"New recovered\": 384}, {\"Unnamed: 0\": 30474, \"Date\": \"2020-07-03T00:00:00\", \"Country/Region\": \"Spain\", \"Confirmed\": 250545, \"Deaths\": 28385, \"Recovered\": 150376.0, \"Active\": 71784.0, \"New cases\": 442, \"New deaths\": 17, \"New recovered\": 0}, {\"Unnamed: 0\": 30479, \"Date\": \"2020-07-03T00:00:00\", \"Country/Region\": \"Switzerland\", \"Confirmed\": 32101, \"Deaths\": 1965, \"Recovered\": 29200.0, \"Active\": 936.0, \"New cases\": 134, \"New deaths\": 0, \"New recovered\": 0}, {\"Unnamed: 0\": 30490, \"Date\": \"2020-07-03T00:00:00\", \"Country/Region\": \"US\", \"Confirmed\": 2795361, \"Deaths\": 129442, \"Recovered\": 790404.0, \"Active\": 1875515.0, \"New cases\": 53312, \"New deaths\": 639, \"New recovered\": 8434}, {\"Unnamed: 0\": 30494, \"Date\": \"2020-07-03T00:00:00\", \"Country/Region\": \"United Kingdom\", \"Confirmed\": 285787, \"Deaths\": 44216, \"Recovered\": 1375.0, \"Active\": 240196.0, \"New cases\": 502, \"New deaths\": 136, \"New recovered\": 2}, {\"Unnamed: 0\": 30536, \"Date\": \"2020-07-04T00:00:00\", \"Country/Region\": \"Canada\", \"Confirmed\": 107172, \"Deaths\": 8731, \"Recovered\": 70507.0, \"Active\": 27934.0, \"New cases\": 223, \"New deaths\": 10, \"New recovered\": 275}, {\"Unnamed: 0\": 30540, \"Date\": \"2020-07-04T00:00:00\", \"Country/Region\": \"China\", \"Confirmed\": 84857, \"Deaths\": 4641, \"Recovered\": 78115.0, \"Active\": 2101.0, \"New cases\": 19, \"New deaths\": 0, \"New recovered\": 25}, {\"Unnamed: 0\": 30565, \"Date\": \"2020-07-04T00:00:00\", \"Country/Region\": \"France\", \"Confirmed\": 204222, \"Deaths\": 29896, \"Recovered\": 77185.0, \"Active\": 97141.0, \"New cases\": 0, \"New deaths\": 0, \"New recovered\": 0}, {\"Unnamed: 0\": 30569, \"Date\": \"2020-07-04T00:00:00\", \"Country/Region\": \"Germany\", \"Confirmed\": 197198, \"Deaths\": 9020, \"Recovered\": 181000.0, \"Active\": 7178.0, \"New cases\": 418, \"New deaths\": 10, \"New recovered\": 700}, {\"Unnamed: 0\": 30582, \"Date\": \"2020-07-04T00:00:00\", \"Country/Region\": \"India\", \"Confirmed\": 673165, \"Deaths\": 19268, \"Recovered\": 409083.0, \"Active\": 244814.0, \"New cases\": 24850, \"New deaths\": 613, \"New recovered\": 14856}, {\"Unnamed: 0\": 30584, \"Date\": \"2020-07-04T00:00:00\", \"Country/Region\": \"Iran\", \"Confirmed\": 237878, \"Deaths\": 11408, \"Recovered\": 198949.0, \"Active\": 27521.0, \"New cases\": 2449, \"New deaths\": 148, \"New recovered\": 2503}, {\"Unnamed: 0\": 30588, \"Date\": \"2020-07-04T00:00:00\", \"Country/Region\": \"Italy\", \"Confirmed\": 241419, \"Deaths\": 34854, \"Recovered\": 191944.0, \"Active\": 14621.0, \"New cases\": 235, \"New deaths\": 21, \"New recovered\": 477}, {\"Unnamed: 0\": 30660, \"Date\": \"2020-07-04T00:00:00\", \"Country/Region\": \"Spain\", \"Confirmed\": 250545, \"Deaths\": 28385, \"Recovered\": 150376.0, \"Active\": 71784.0, \"New cases\": 0, \"New deaths\": 0, \"New recovered\": 0}, {\"Unnamed: 0\": 30665, \"Date\": \"2020-07-04T00:00:00\", \"Country/Region\": \"Switzerland\", \"Confirmed\": 32198, \"Deaths\": 1965, \"Recovered\": 29200.0, \"Active\": 1033.0, \"New cases\": 97, \"New deaths\": 0, \"New recovered\": 0}, {\"Unnamed: 0\": 30676, \"Date\": \"2020-07-04T00:00:00\", \"Country/Region\": \"US\", \"Confirmed\": 2841241, \"Deaths\": 129689, \"Recovered\": 894325.0, \"Active\": 1817227.0, \"New cases\": 45880, \"New deaths\": 247, \"New recovered\": 103921}, {\"Unnamed: 0\": 30680, \"Date\": \"2020-07-04T00:00:00\", \"Country/Region\": \"United Kingdom\", \"Confirmed\": 286412, \"Deaths\": 44283, \"Recovered\": 1375.0, \"Active\": 240754.0, \"New cases\": 625, \"New deaths\": 67, \"New recovered\": 0}, {\"Unnamed: 0\": 30722, \"Date\": \"2020-07-05T00:00:00\", \"Country/Region\": \"Canada\", \"Confirmed\": 107381, \"Deaths\": 8738, \"Recovered\": 70772.0, \"Active\": 27871.0, \"New cases\": 209, \"New deaths\": 7, \"New recovered\": 265}, {\"Unnamed: 0\": 30726, \"Date\": \"2020-07-05T00:00:00\", \"Country/Region\": \"China\", \"Confirmed\": 84871, \"Deaths\": 4641, \"Recovered\": 78127.0, \"Active\": 2103.0, \"New cases\": 14, \"New deaths\": 0, \"New recovered\": 12}, {\"Unnamed: 0\": 30751, \"Date\": \"2020-07-05T00:00:00\", \"Country/Region\": \"France\", \"Confirmed\": 204222, \"Deaths\": 29896, \"Recovered\": 77185.0, \"Active\": 97141.0, \"New cases\": 0, \"New deaths\": 0, \"New recovered\": 0}, {\"Unnamed: 0\": 30755, \"Date\": \"2020-07-05T00:00:00\", \"Country/Region\": \"Germany\", \"Confirmed\": 197523, \"Deaths\": 9023, \"Recovered\": 181719.0, \"Active\": 6781.0, \"New cases\": 325, \"New deaths\": 3, \"New recovered\": 719}, {\"Unnamed: 0\": 30768, \"Date\": \"2020-07-05T00:00:00\", \"Country/Region\": \"India\", \"Confirmed\": 697413, \"Deaths\": 19693, \"Recovered\": 424433.0, \"Active\": 253287.0, \"New cases\": 24248, \"New deaths\": 425, \"New recovered\": 15350}, {\"Unnamed: 0\": 30770, \"Date\": \"2020-07-05T00:00:00\", \"Country/Region\": \"Iran\", \"Confirmed\": 240438, \"Deaths\": 11571, \"Recovered\": 201330.0, \"Active\": 27537.0, \"New cases\": 2560, \"New deaths\": 163, \"New recovered\": 2381}, {\"Unnamed: 0\": 30774, \"Date\": \"2020-07-05T00:00:00\", \"Country/Region\": \"Italy\", \"Confirmed\": 241611, \"Deaths\": 34861, \"Recovered\": 192108.0, \"Active\": 14642.0, \"New cases\": 192, \"New deaths\": 7, \"New recovered\": 164}, {\"Unnamed: 0\": 30846, \"Date\": \"2020-07-05T00:00:00\", \"Country/Region\": \"Spain\", \"Confirmed\": 250545, \"Deaths\": 28385, \"Recovered\": 150376.0, \"Active\": 71784.0, \"New cases\": 0, \"New deaths\": 0, \"New recovered\": 0}, {\"Unnamed: 0\": 30851, \"Date\": \"2020-07-05T00:00:00\", \"Country/Region\": \"Switzerland\", \"Confirmed\": 32268, \"Deaths\": 1965, \"Recovered\": 29300.0, \"Active\": 1003.0, \"New cases\": 70, \"New deaths\": 0, \"New recovered\": 100}, {\"Unnamed: 0\": 30862, \"Date\": \"2020-07-05T00:00:00\", \"Country/Region\": \"US\", \"Confirmed\": 2891124, \"Deaths\": 129960, \"Recovered\": 906763.0, \"Active\": 1854401.0, \"New cases\": 49883, \"New deaths\": 271, \"New recovered\": 12438}, {\"Unnamed: 0\": 30866, \"Date\": \"2020-07-05T00:00:00\", \"Country/Region\": \"United Kingdom\", \"Confirmed\": 286931, \"Deaths\": 44305, \"Recovered\": 1375.0, \"Active\": 241251.0, \"New cases\": 519, \"New deaths\": 22, \"New recovered\": 0}, {\"Unnamed: 0\": 30908, \"Date\": \"2020-07-06T00:00:00\", \"Country/Region\": \"Canada\", \"Confirmed\": 107802, \"Deaths\": 8747, \"Recovered\": 71141.0, \"Active\": 27914.0, \"New cases\": 421, \"New deaths\": 9, \"New recovered\": 369}, {\"Unnamed: 0\": 30912, \"Date\": \"2020-07-06T00:00:00\", \"Country/Region\": \"China\", \"Confirmed\": 84889, \"Deaths\": 4641, \"Recovered\": 78134.0, \"Active\": 2114.0, \"New cases\": 18, \"New deaths\": 0, \"New recovered\": 7}, {\"Unnamed: 0\": 30937, \"Date\": \"2020-07-06T00:00:00\", \"Country/Region\": \"France\", \"Confirmed\": 205597, \"Deaths\": 29923, \"Recovered\": 77444.0, \"Active\": 98230.0, \"New cases\": 1375, \"New deaths\": 27, \"New recovered\": 259}, {\"Unnamed: 0\": 30941, \"Date\": \"2020-07-06T00:00:00\", \"Country/Region\": \"Germany\", \"Confirmed\": 198064, \"Deaths\": 9022, \"Recovered\": 182160.0, \"Active\": 6882.0, \"New cases\": 541, \"New deaths\": -1, \"New recovered\": 441}, {\"Unnamed: 0\": 30954, \"Date\": \"2020-07-06T00:00:00\", \"Country/Region\": \"India\", \"Confirmed\": 719664, \"Deaths\": 20159, \"Recovered\": 439934.0, \"Active\": 259571.0, \"New cases\": 22251, \"New deaths\": 466, \"New recovered\": 15501}, {\"Unnamed: 0\": 30956, \"Date\": \"2020-07-06T00:00:00\", \"Country/Region\": \"Iran\", \"Confirmed\": 243051, \"Deaths\": 11731, \"Recovered\": 204083.0, \"Active\": 27237.0, \"New cases\": 2613, \"New deaths\": 160, \"New recovered\": 2753}, {\"Unnamed: 0\": 30960, \"Date\": \"2020-07-06T00:00:00\", \"Country/Region\": \"Italy\", \"Confirmed\": 241819, \"Deaths\": 34869, \"Recovered\": 192241.0, \"Active\": 14709.0, \"New cases\": 208, \"New deaths\": 8, \"New recovered\": 133}, {\"Unnamed: 0\": 31032, \"Date\": \"2020-07-06T00:00:00\", \"Country/Region\": \"Spain\", \"Confirmed\": 251789, \"Deaths\": 28388, \"Recovered\": 150376.0, \"Active\": 73025.0, \"New cases\": 1244, \"New deaths\": 3, \"New recovered\": 0}, {\"Unnamed: 0\": 31037, \"Date\": \"2020-07-06T00:00:00\", \"Country/Region\": \"Switzerland\", \"Confirmed\": 32315, \"Deaths\": 1965, \"Recovered\": 29300.0, \"Active\": 1050.0, \"New cases\": 47, \"New deaths\": 0, \"New recovered\": 0}, {\"Unnamed: 0\": 31048, \"Date\": \"2020-07-06T00:00:00\", \"Country/Region\": \"US\", \"Confirmed\": 2936077, \"Deaths\": 130285, \"Recovered\": 924148.0, \"Active\": 1881644.0, \"New cases\": 44953, \"New deaths\": 325, \"New recovered\": 17385}, {\"Unnamed: 0\": 31052, \"Date\": \"2020-07-06T00:00:00\", \"Country/Region\": \"United Kingdom\", \"Confirmed\": 287290, \"Deaths\": 44321, \"Recovered\": 1375.0, \"Active\": 241594.0, \"New cases\": 359, \"New deaths\": 16, \"New recovered\": 0}, {\"Unnamed: 0\": 31094, \"Date\": \"2020-07-07T00:00:00\", \"Country/Region\": \"Canada\", \"Confirmed\": 108010, \"Deaths\": 8764, \"Recovered\": 71418.0, \"Active\": 27828.0, \"New cases\": 208, \"New deaths\": 17, \"New recovered\": 277}, {\"Unnamed: 0\": 31098, \"Date\": \"2020-07-07T00:00:00\", \"Country/Region\": \"China\", \"Confirmed\": 84917, \"Deaths\": 4641, \"Recovered\": 78163.0, \"Active\": 2113.0, \"New cases\": 28, \"New deaths\": 0, \"New recovered\": 29}, {\"Unnamed: 0\": 31123, \"Date\": \"2020-07-07T00:00:00\", \"Country/Region\": \"France\", \"Confirmed\": 206072, \"Deaths\": 29936, \"Recovered\": 77780.0, \"Active\": 98356.0, \"New cases\": 475, \"New deaths\": 13, \"New recovered\": 336}, {\"Unnamed: 0\": 31127, \"Date\": \"2020-07-07T00:00:00\", \"Country/Region\": \"Germany\", \"Confirmed\": 198343, \"Deaths\": 9032, \"Recovered\": 182661.0, \"Active\": 6650.0, \"New cases\": 279, \"New deaths\": 10, \"New recovered\": 501}, {\"Unnamed: 0\": 31140, \"Date\": \"2020-07-07T00:00:00\", \"Country/Region\": \"India\", \"Confirmed\": 742417, \"Deaths\": 20642, \"Recovered\": 456831.0, \"Active\": 264944.0, \"New cases\": 22753, \"New deaths\": 483, \"New recovered\": 16897}, {\"Unnamed: 0\": 31142, \"Date\": \"2020-07-07T00:00:00\", \"Country/Region\": \"Iran\", \"Confirmed\": 245688, \"Deaths\": 11931, \"Recovered\": 207000.0, \"Active\": 26757.0, \"New cases\": 2637, \"New deaths\": 200, \"New recovered\": 2917}, {\"Unnamed: 0\": 31146, \"Date\": \"2020-07-07T00:00:00\", \"Country/Region\": \"Italy\", \"Confirmed\": 241956, \"Deaths\": 34899, \"Recovered\": 192815.0, \"Active\": 14242.0, \"New cases\": 137, \"New deaths\": 30, \"New recovered\": 574}, {\"Unnamed: 0\": 31218, \"Date\": \"2020-07-07T00:00:00\", \"Country/Region\": \"Spain\", \"Confirmed\": 252130, \"Deaths\": 28392, \"Recovered\": 150376.0, \"Active\": 73362.0, \"New cases\": 341, \"New deaths\": 4, \"New recovered\": 0}, {\"Unnamed: 0\": 31223, \"Date\": \"2020-07-07T00:00:00\", \"Country/Region\": \"Switzerland\", \"Confirmed\": 32369, \"Deaths\": 1966, \"Recovered\": 29300.0, \"Active\": 1103.0, \"New cases\": 54, \"New deaths\": 1, \"New recovered\": 0}, {\"Unnamed: 0\": 31234, \"Date\": \"2020-07-07T00:00:00\", \"Country/Region\": \"US\", \"Confirmed\": 2996098, \"Deaths\": 131480, \"Recovered\": 936476.0, \"Active\": 1928142.0, \"New cases\": 60021, \"New deaths\": 1195, \"New recovered\": 12328}, {\"Unnamed: 0\": 31238, \"Date\": \"2020-07-07T00:00:00\", \"Country/Region\": \"United Kingdom\", \"Confirmed\": 287874, \"Deaths\": 44476, \"Recovered\": 1375.0, \"Active\": 242023.0, \"New cases\": 584, \"New deaths\": 155, \"New recovered\": 0}, {\"Unnamed: 0\": 31280, \"Date\": \"2020-07-08T00:00:00\", \"Country/Region\": \"Canada\", \"Confirmed\": 108321, \"Deaths\": 8785, \"Recovered\": 71805.0, \"Active\": 27731.0, \"New cases\": 311, \"New deaths\": 21, \"New recovered\": 387}, {\"Unnamed: 0\": 31284, \"Date\": \"2020-07-08T00:00:00\", \"Country/Region\": \"China\", \"Confirmed\": 84950, \"Deaths\": 4641, \"Recovered\": 78209.0, \"Active\": 2100.0, \"New cases\": 33, \"New deaths\": 0, \"New recovered\": 46}, {\"Unnamed: 0\": 31309, \"Date\": \"2020-07-08T00:00:00\", \"Country/Region\": \"France\", \"Confirmed\": 206072, \"Deaths\": 29936, \"Recovered\": 77780.0, \"Active\": 98356.0, \"New cases\": 0, \"New deaths\": 0, \"New recovered\": 0}, {\"Unnamed: 0\": 31313, \"Date\": \"2020-07-08T00:00:00\", \"Country/Region\": \"Germany\", \"Confirmed\": 198699, \"Deaths\": 9046, \"Recovered\": 183153.0, \"Active\": 6500.0, \"New cases\": 356, \"New deaths\": 14, \"New recovered\": 492}, {\"Unnamed: 0\": 31326, \"Date\": \"2020-07-08T00:00:00\", \"Country/Region\": \"India\", \"Confirmed\": 767296, \"Deaths\": 21129, \"Recovered\": 476378.0, \"Active\": 269789.0, \"New cases\": 24879, \"New deaths\": 487, \"New recovered\": 19547}, {\"Unnamed: 0\": 31328, \"Date\": \"2020-07-08T00:00:00\", \"Country/Region\": \"Iran\", \"Confirmed\": 248379, \"Deaths\": 12084, \"Recovered\": 209463.0, \"Active\": 26832.0, \"New cases\": 2691, \"New deaths\": 153, \"New recovered\": 2463}, {\"Unnamed: 0\": 31332, \"Date\": \"2020-07-08T00:00:00\", \"Country/Region\": \"Italy\", \"Confirmed\": 242149, \"Deaths\": 34914, \"Recovered\": 193640.0, \"Active\": 13595.0, \"New cases\": 193, \"New deaths\": 15, \"New recovered\": 825}, {\"Unnamed: 0\": 31404, \"Date\": \"2020-07-08T00:00:00\", \"Country/Region\": \"Spain\", \"Confirmed\": 252513, \"Deaths\": 28396, \"Recovered\": 150376.0, \"Active\": 73741.0, \"New cases\": 383, \"New deaths\": 4, \"New recovered\": 0}, {\"Unnamed: 0\": 31409, \"Date\": \"2020-07-08T00:00:00\", \"Country/Region\": \"Switzerland\", \"Confirmed\": 32498, \"Deaths\": 1966, \"Recovered\": 29400.0, \"Active\": 1132.0, \"New cases\": 129, \"New deaths\": 0, \"New recovered\": 100}, {\"Unnamed: 0\": 31420, \"Date\": \"2020-07-08T00:00:00\", \"Country/Region\": \"US\", \"Confirmed\": 3054699, \"Deaths\": 132300, \"Recovered\": 953462.0, \"Active\": 1968937.0, \"New cases\": 58601, \"New deaths\": 820, \"New recovered\": 16986}, {\"Unnamed: 0\": 31424, \"Date\": \"2020-07-08T00:00:00\", \"Country/Region\": \"United Kingdom\", \"Confirmed\": 288511, \"Deaths\": 44602, \"Recovered\": 1378.0, \"Active\": 242531.0, \"New cases\": 637, \"New deaths\": 126, \"New recovered\": 3}, {\"Unnamed: 0\": 31466, \"Date\": \"2020-07-09T00:00:00\", \"Country/Region\": \"Canada\", \"Confirmed\": 108643, \"Deaths\": 8796, \"Recovered\": 72095.0, \"Active\": 27752.0, \"New cases\": 322, \"New deaths\": 11, \"New recovered\": 290}, {\"Unnamed: 0\": 31470, \"Date\": \"2020-07-09T00:00:00\", \"Country/Region\": \"China\", \"Confirmed\": 84992, \"Deaths\": 4641, \"Recovered\": 78209.0, \"Active\": 2142.0, \"New cases\": 42, \"New deaths\": 0, \"New recovered\": 0}, {\"Unnamed: 0\": 31495, \"Date\": \"2020-07-09T00:00:00\", \"Country/Region\": \"France\", \"Confirmed\": 207356, \"Deaths\": 29982, \"Recovered\": 78295.0, \"Active\": 99079.0, \"New cases\": 1284, \"New deaths\": 46, \"New recovered\": 515}, {\"Unnamed: 0\": 31499, \"Date\": \"2020-07-09T00:00:00\", \"Country/Region\": \"Germany\", \"Confirmed\": 199001, \"Deaths\": 9057, \"Recovered\": 183728.0, \"Active\": 6216.0, \"New cases\": 302, \"New deaths\": 11, \"New recovered\": 575}, {\"Unnamed: 0\": 31512, \"Date\": \"2020-07-09T00:00:00\", \"Country/Region\": \"India\", \"Confirmed\": 793802, \"Deaths\": 21604, \"Recovered\": 495513.0, \"Active\": 276685.0, \"New cases\": 26506, \"New deaths\": 475, \"New recovered\": 19135}, {\"Unnamed: 0\": 31514, \"Date\": \"2020-07-09T00:00:00\", \"Country/Region\": \"Iran\", \"Confirmed\": 250458, \"Deaths\": 12305, \"Recovered\": 212176.0, \"Active\": 25977.0, \"New cases\": 2079, \"New deaths\": 221, \"New recovered\": 2713}, {\"Unnamed: 0\": 31518, \"Date\": \"2020-07-09T00:00:00\", \"Country/Region\": \"Italy\", \"Confirmed\": 242363, \"Deaths\": 34926, \"Recovered\": 193978.0, \"Active\": 13459.0, \"New cases\": 214, \"New deaths\": 12, \"New recovered\": 338}, {\"Unnamed: 0\": 31590, \"Date\": \"2020-07-09T00:00:00\", \"Country/Region\": \"Spain\", \"Confirmed\": 253056, \"Deaths\": 28401, \"Recovered\": 150376.0, \"Active\": 74279.0, \"New cases\": 543, \"New deaths\": 5, \"New recovered\": 0}, {\"Unnamed: 0\": 31595, \"Date\": \"2020-07-09T00:00:00\", \"Country/Region\": \"Switzerland\", \"Confirmed\": 32586, \"Deaths\": 1966, \"Recovered\": 29400.0, \"Active\": 1220.0, \"New cases\": 88, \"New deaths\": 0, \"New recovered\": 0}, {\"Unnamed: 0\": 31606, \"Date\": \"2020-07-09T00:00:00\", \"Country/Region\": \"US\", \"Confirmed\": 3117946, \"Deaths\": 133290, \"Recovered\": 969111.0, \"Active\": 2015545.0, \"New cases\": 63247, \"New deaths\": 990, \"New recovered\": 15649}, {\"Unnamed: 0\": 31610, \"Date\": \"2020-07-09T00:00:00\", \"Country/Region\": \"United Kingdom\", \"Confirmed\": 289154, \"Deaths\": 44687, \"Recovered\": 1378.0, \"Active\": 243089.0, \"New cases\": 643, \"New deaths\": 85, \"New recovered\": 0}, {\"Unnamed: 0\": 31652, \"Date\": \"2020-07-10T00:00:00\", \"Country/Region\": \"Canada\", \"Confirmed\": 108971, \"Deaths\": 8810, \"Recovered\": 72466.0, \"Active\": 27695.0, \"New cases\": 328, \"New deaths\": 14, \"New recovered\": 371}, {\"Unnamed: 0\": 31656, \"Date\": \"2020-07-10T00:00:00\", \"Country/Region\": \"China\", \"Confirmed\": 84992, \"Deaths\": 4641, \"Recovered\": 78209.0, \"Active\": 2142.0, \"New cases\": 0, \"New deaths\": 0, \"New recovered\": 0}, {\"Unnamed: 0\": 31681, \"Date\": \"2020-07-10T00:00:00\", \"Country/Region\": \"France\", \"Confirmed\": 208015, \"Deaths\": 30007, \"Recovered\": 78513.0, \"Active\": 99495.0, \"New cases\": 659, \"New deaths\": 25, \"New recovered\": 218}, {\"Unnamed: 0\": 31685, \"Date\": \"2020-07-10T00:00:00\", \"Country/Region\": \"Germany\", \"Confirmed\": 199332, \"Deaths\": 9063, \"Recovered\": 184028.0, \"Active\": 6241.0, \"New cases\": 331, \"New deaths\": 6, \"New recovered\": 300}, {\"Unnamed: 0\": 31698, \"Date\": \"2020-07-10T00:00:00\", \"Country/Region\": \"India\", \"Confirmed\": 820916, \"Deaths\": 22123, \"Recovered\": 515386.0, \"Active\": 283407.0, \"New cases\": 27114, \"New deaths\": 519, \"New recovered\": 19873}, {\"Unnamed: 0\": 31700, \"Date\": \"2020-07-10T00:00:00\", \"Country/Region\": \"Iran\", \"Confirmed\": 252720, \"Deaths\": 12447, \"Recovered\": 215015.0, \"Active\": 25258.0, \"New cases\": 2262, \"New deaths\": 142, \"New recovered\": 2839}, {\"Unnamed: 0\": 31704, \"Date\": \"2020-07-10T00:00:00\", \"Country/Region\": \"Italy\", \"Confirmed\": 242639, \"Deaths\": 34938, \"Recovered\": 194273.0, \"Active\": 13428.0, \"New cases\": 276, \"New deaths\": 12, \"New recovered\": 295}, {\"Unnamed: 0\": 31776, \"Date\": \"2020-07-10T00:00:00\", \"Country/Region\": \"Spain\", \"Confirmed\": 253908, \"Deaths\": 28403, \"Recovered\": 150376.0, \"Active\": 75129.0, \"New cases\": 852, \"New deaths\": 2, \"New recovered\": 0}, {\"Unnamed: 0\": 31781, \"Date\": \"2020-07-10T00:00:00\", \"Country/Region\": \"Switzerland\", \"Confirmed\": 32690, \"Deaths\": 1966, \"Recovered\": 29400.0, \"Active\": 1324.0, \"New cases\": 104, \"New deaths\": 0, \"New recovered\": 0}, {\"Unnamed: 0\": 31792, \"Date\": \"2020-07-10T00:00:00\", \"Country/Region\": \"US\", \"Confirmed\": 3185737, \"Deaths\": 134101, \"Recovered\": 983185.0, \"Active\": 2068451.0, \"New cases\": 67791, \"New deaths\": 811, \"New recovered\": 14074}, {\"Unnamed: 0\": 31796, \"Date\": \"2020-07-10T00:00:00\", \"Country/Region\": \"United Kingdom\", \"Confirmed\": 289678, \"Deaths\": 44735, \"Recovered\": 1378.0, \"Active\": 243565.0, \"New cases\": 524, \"New deaths\": 48, \"New recovered\": 0}, {\"Unnamed: 0\": 31838, \"Date\": \"2020-07-11T00:00:00\", \"Country/Region\": \"Canada\", \"Confirmed\": 109137, \"Deaths\": 8817, \"Recovered\": 72784.0, \"Active\": 27536.0, \"New cases\": 166, \"New deaths\": 7, \"New recovered\": 318}, {\"Unnamed: 0\": 31842, \"Date\": \"2020-07-11T00:00:00\", \"Country/Region\": \"China\", \"Confirmed\": 85071, \"Deaths\": 4641, \"Recovered\": 78283.0, \"Active\": 2147.0, \"New cases\": 79, \"New deaths\": 0, \"New recovered\": 74}, {\"Unnamed: 0\": 31867, \"Date\": \"2020-07-11T00:00:00\", \"Country/Region\": \"France\", \"Confirmed\": 208015, \"Deaths\": 30007, \"Recovered\": 78513.0, \"Active\": 99495.0, \"New cases\": 0, \"New deaths\": 0, \"New recovered\": 0}, {\"Unnamed: 0\": 31871, \"Date\": \"2020-07-11T00:00:00\", \"Country/Region\": \"Germany\", \"Confirmed\": 199709, \"Deaths\": 9070, \"Recovered\": 184266.0, \"Active\": 6373.0, \"New cases\": 377, \"New deaths\": 7, \"New recovered\": 238}, {\"Unnamed: 0\": 31884, \"Date\": \"2020-07-11T00:00:00\", \"Country/Region\": \"India\", \"Confirmed\": 849522, \"Deaths\": 22673, \"Recovered\": 534618.0, \"Active\": 292231.0, \"New cases\": 28606, \"New deaths\": 550, \"New recovered\": 19232}, {\"Unnamed: 0\": 31886, \"Date\": \"2020-07-11T00:00:00\", \"Country/Region\": \"Iran\", \"Confirmed\": 255117, \"Deaths\": 12635, \"Recovered\": 217666.0, \"Active\": 24816.0, \"New cases\": 2397, \"New deaths\": 188, \"New recovered\": 2651}, {\"Unnamed: 0\": 31890, \"Date\": \"2020-07-11T00:00:00\", \"Country/Region\": \"Italy\", \"Confirmed\": 242827, \"Deaths\": 34945, \"Recovered\": 194579.0, \"Active\": 13303.0, \"New cases\": 188, \"New deaths\": 7, \"New recovered\": 306}, {\"Unnamed: 0\": 31962, \"Date\": \"2020-07-11T00:00:00\", \"Country/Region\": \"Spain\", \"Confirmed\": 253908, \"Deaths\": 28403, \"Recovered\": 150376.0, \"Active\": 75129.0, \"New cases\": 0, \"New deaths\": 0, \"New recovered\": 0}, {\"Unnamed: 0\": 31967, \"Date\": \"2020-07-11T00:00:00\", \"Country/Region\": \"Switzerland\", \"Confirmed\": 32817, \"Deaths\": 1968, \"Recovered\": 29500.0, \"Active\": 1349.0, \"New cases\": 127, \"New deaths\": 2, \"New recovered\": 100}, {\"Unnamed: 0\": 31978, \"Date\": \"2020-07-11T00:00:00\", \"Country/Region\": \"US\", \"Confirmed\": 3245925, \"Deaths\": 134777, \"Recovered\": 995576.0, \"Active\": 2115572.0, \"New cases\": 60188, \"New deaths\": 676, \"New recovered\": 12391}, {\"Unnamed: 0\": 31982, \"Date\": \"2020-07-11T00:00:00\", \"Country/Region\": \"United Kingdom\", \"Confirmed\": 290504, \"Deaths\": 44883, \"Recovered\": 1378.0, \"Active\": 244243.0, \"New cases\": 826, \"New deaths\": 148, \"New recovered\": 0}, {\"Unnamed: 0\": 32024, \"Date\": \"2020-07-12T00:00:00\", \"Country/Region\": \"Canada\", \"Confirmed\": 109335, \"Deaths\": 8828, \"Recovered\": 72954.0, \"Active\": 27553.0, \"New cases\": 198, \"New deaths\": 11, \"New recovered\": 170}, {\"Unnamed: 0\": 32028, \"Date\": \"2020-07-12T00:00:00\", \"Country/Region\": \"China\", \"Confirmed\": 85117, \"Deaths\": 4641, \"Recovered\": 78314.0, \"Active\": 2162.0, \"New cases\": 46, \"New deaths\": 0, \"New recovered\": 31}, {\"Unnamed: 0\": 32053, \"Date\": \"2020-07-12T00:00:00\", \"Country/Region\": \"France\", \"Confirmed\": 208015, \"Deaths\": 30007, \"Recovered\": 78513.0, \"Active\": 99495.0, \"New cases\": 0, \"New deaths\": 0, \"New recovered\": 0}, {\"Unnamed: 0\": 32057, \"Date\": \"2020-07-12T00:00:00\", \"Country/Region\": \"Germany\", \"Confirmed\": 199919, \"Deaths\": 9071, \"Recovered\": 184414.0, \"Active\": 6434.0, \"New cases\": 210, \"New deaths\": 1, \"New recovered\": 148}, {\"Unnamed: 0\": 32070, \"Date\": \"2020-07-12T00:00:00\", \"Country/Region\": \"India\", \"Confirmed\": 878254, \"Deaths\": 23174, \"Recovered\": 553471.0, \"Active\": 301609.0, \"New cases\": 28732, \"New deaths\": 501, \"New recovered\": 18853}, {\"Unnamed: 0\": 32072, \"Date\": \"2020-07-12T00:00:00\", \"Country/Region\": \"Iran\", \"Confirmed\": 257303, \"Deaths\": 12829, \"Recovered\": 219993.0, \"Active\": 24481.0, \"New cases\": 2186, \"New deaths\": 194, \"New recovered\": 2327}, {\"Unnamed: 0\": 32076, \"Date\": \"2020-07-12T00:00:00\", \"Country/Region\": \"Italy\", \"Confirmed\": 243061, \"Deaths\": 34954, \"Recovered\": 194928.0, \"Active\": 13179.0, \"New cases\": 234, \"New deaths\": 9, \"New recovered\": 349}, {\"Unnamed: 0\": 32148, \"Date\": \"2020-07-12T00:00:00\", \"Country/Region\": \"Spain\", \"Confirmed\": 253908, \"Deaths\": 28403, \"Recovered\": 150376.0, \"Active\": 75129.0, \"New cases\": 0, \"New deaths\": 0, \"New recovered\": 0}, {\"Unnamed: 0\": 32153, \"Date\": \"2020-07-12T00:00:00\", \"Country/Region\": \"Switzerland\", \"Confirmed\": 32883, \"Deaths\": 1968, \"Recovered\": 29600.0, \"Active\": 1315.0, \"New cases\": 66, \"New deaths\": 0, \"New recovered\": 100}, {\"Unnamed: 0\": 32164, \"Date\": \"2020-07-12T00:00:00\", \"Country/Region\": \"US\", \"Confirmed\": 3304942, \"Deaths\": 135205, \"Recovered\": 1006326.0, \"Active\": 2163411.0, \"New cases\": 59017, \"New deaths\": 428, \"New recovered\": 10750}, {\"Unnamed: 0\": 32168, \"Date\": \"2020-07-12T00:00:00\", \"Country/Region\": \"United Kingdom\", \"Confirmed\": 291154, \"Deaths\": 44904, \"Recovered\": 1378.0, \"Active\": 244872.0, \"New cases\": 650, \"New deaths\": 21, \"New recovered\": 0}, {\"Unnamed: 0\": 32210, \"Date\": \"2020-07-13T00:00:00\", \"Country/Region\": \"Canada\", \"Confirmed\": 109971, \"Deaths\": 8835, \"Recovered\": 73381.0, \"Active\": 27755.0, \"New cases\": 636, \"New deaths\": 7, \"New recovered\": 427}, {\"Unnamed: 0\": 32214, \"Date\": \"2020-07-13T00:00:00\", \"Country/Region\": \"China\", \"Confirmed\": 85117, \"Deaths\": 4641, \"Recovered\": 78314.0, \"Active\": 2162.0, \"New cases\": 0, \"New deaths\": 0, \"New recovered\": 0}, {\"Unnamed: 0\": 32239, \"Date\": \"2020-07-13T00:00:00\", \"Country/Region\": \"France\", \"Confirmed\": 209640, \"Deaths\": 30032, \"Recovered\": 78722.0, \"Active\": 100886.0, \"New cases\": 1625, \"New deaths\": 25, \"New recovered\": 209}, {\"Unnamed: 0\": 32243, \"Date\": \"2020-07-13T00:00:00\", \"Country/Region\": \"Germany\", \"Confirmed\": 200180, \"Deaths\": 9074, \"Recovered\": 185100.0, \"Active\": 6006.0, \"New cases\": 261, \"New deaths\": 3, \"New recovered\": 686}, {\"Unnamed: 0\": 32256, \"Date\": \"2020-07-13T00:00:00\", \"Country/Region\": \"India\", \"Confirmed\": 906752, \"Deaths\": 23727, \"Recovered\": 571460.0, \"Active\": 311565.0, \"New cases\": 28498, \"New deaths\": 553, \"New recovered\": 17989}, {\"Unnamed: 0\": 32258, \"Date\": \"2020-07-13T00:00:00\", \"Country/Region\": \"Iran\", \"Confirmed\": 259652, \"Deaths\": 13032, \"Recovered\": 222539.0, \"Active\": 24081.0, \"New cases\": 2349, \"New deaths\": 203, \"New recovered\": 2546}, {\"Unnamed: 0\": 32262, \"Date\": \"2020-07-13T00:00:00\", \"Country/Region\": \"Italy\", \"Confirmed\": 243230, \"Deaths\": 34967, \"Recovered\": 195106.0, \"Active\": 13157.0, \"New cases\": 169, \"New deaths\": 13, \"New recovered\": 178}, {\"Unnamed: 0\": 32334, \"Date\": \"2020-07-13T00:00:00\", \"Country/Region\": \"Spain\", \"Confirmed\": 255953, \"Deaths\": 28406, \"Recovered\": 150376.0, \"Active\": 77171.0, \"New cases\": 2045, \"New deaths\": 3, \"New recovered\": 0}, {\"Unnamed: 0\": 32339, \"Date\": \"2020-07-13T00:00:00\", \"Country/Region\": \"Switzerland\", \"Confirmed\": 32946, \"Deaths\": 1968, \"Recovered\": 29600.0, \"Active\": 1378.0, \"New cases\": 63, \"New deaths\": 0, \"New recovered\": 0}, {\"Unnamed: 0\": 32350, \"Date\": \"2020-07-13T00:00:00\", \"Country/Region\": \"US\", \"Confirmed\": 3364157, \"Deaths\": 135566, \"Recovered\": 1031939.0, \"Active\": 2196652.0, \"New cases\": 59215, \"New deaths\": 361, \"New recovered\": 25613}, {\"Unnamed: 0\": 32354, \"Date\": \"2020-07-13T00:00:00\", \"Country/Region\": \"United Kingdom\", \"Confirmed\": 291691, \"Deaths\": 44915, \"Recovered\": 1384.0, \"Active\": 245392.0, \"New cases\": 537, \"New deaths\": 11, \"New recovered\": 6}, {\"Unnamed: 0\": 32396, \"Date\": \"2020-07-14T00:00:00\", \"Country/Region\": \"Canada\", \"Confirmed\": 110337, \"Deaths\": 8844, \"Recovered\": 73713.0, \"Active\": 27780.0, \"New cases\": 366, \"New deaths\": 9, \"New recovered\": 332}, {\"Unnamed: 0\": 32400, \"Date\": \"2020-07-14T00:00:00\", \"Country/Region\": \"China\", \"Confirmed\": 85226, \"Deaths\": 4642, \"Recovered\": 78373.0, \"Active\": 2211.0, \"New cases\": 109, \"New deaths\": 1, \"New recovered\": 59}, {\"Unnamed: 0\": 32425, \"Date\": \"2020-07-14T00:00:00\", \"Country/Region\": \"France\", \"Confirmed\": 209640, \"Deaths\": 30032, \"Recovered\": 78722.0, \"Active\": 100886.0, \"New cases\": 0, \"New deaths\": 0, \"New recovered\": 0}, {\"Unnamed: 0\": 32429, \"Date\": \"2020-07-14T00:00:00\", \"Country/Region\": \"Germany\", \"Confirmed\": 200456, \"Deaths\": 9078, \"Recovered\": 185100.0, \"Active\": 6278.0, \"New cases\": 276, \"New deaths\": 4, \"New recovered\": 0}, {\"Unnamed: 0\": 32442, \"Date\": \"2020-07-14T00:00:00\", \"Country/Region\": \"India\", \"Confirmed\": 936181, \"Deaths\": 24309, \"Recovered\": 592032.0, \"Active\": 319840.0, \"New cases\": 29429, \"New deaths\": 582, \"New recovered\": 20572}, {\"Unnamed: 0\": 32444, \"Date\": \"2020-07-14T00:00:00\", \"Country/Region\": \"Iran\", \"Confirmed\": 262173, \"Deaths\": 13211, \"Recovered\": 225270.0, \"Active\": 23692.0, \"New cases\": 2521, \"New deaths\": 179, \"New recovered\": 2731}, {\"Unnamed: 0\": 32448, \"Date\": \"2020-07-14T00:00:00\", \"Country/Region\": \"Italy\", \"Confirmed\": 243344, \"Deaths\": 34984, \"Recovered\": 195441.0, \"Active\": 12919.0, \"New cases\": 114, \"New deaths\": 17, \"New recovered\": 335}, {\"Unnamed: 0\": 32520, \"Date\": \"2020-07-14T00:00:00\", \"Country/Region\": \"Spain\", \"Confirmed\": 256619, \"Deaths\": 28409, \"Recovered\": 150376.0, \"Active\": 77834.0, \"New cases\": 666, \"New deaths\": 3, \"New recovered\": 0}, {\"Unnamed: 0\": 32525, \"Date\": \"2020-07-14T00:00:00\", \"Country/Region\": \"Switzerland\", \"Confirmed\": 33016, \"Deaths\": 1968, \"Recovered\": 29800.0, \"Active\": 1248.0, \"New cases\": 70, \"New deaths\": 0, \"New recovered\": 200}, {\"Unnamed: 0\": 32536, \"Date\": \"2020-07-14T00:00:00\", \"Country/Region\": \"US\", \"Confirmed\": 3431574, \"Deaths\": 136466, \"Recovered\": 1049098.0, \"Active\": 2246010.0, \"New cases\": 67417, \"New deaths\": 900, \"New recovered\": 17159}, {\"Unnamed: 0\": 32540, \"Date\": \"2020-07-14T00:00:00\", \"Country/Region\": \"United Kingdom\", \"Confirmed\": 292931, \"Deaths\": 45053, \"Recovered\": 1385.0, \"Active\": 246493.0, \"New cases\": 1240, \"New deaths\": 138, \"New recovered\": 1}, {\"Unnamed: 0\": 32582, \"Date\": \"2020-07-15T00:00:00\", \"Country/Region\": \"Canada\", \"Confirmed\": 110680, \"Deaths\": 8856, \"Recovered\": 74067.0, \"Active\": 27757.0, \"New cases\": 343, \"New deaths\": 12, \"New recovered\": 354}, {\"Unnamed: 0\": 32586, \"Date\": \"2020-07-15T00:00:00\", \"Country/Region\": \"China\", \"Confirmed\": 85246, \"Deaths\": 4644, \"Recovered\": 78411.0, \"Active\": 2191.0, \"New cases\": 20, \"New deaths\": 2, \"New recovered\": 38}, {\"Unnamed: 0\": 32611, \"Date\": \"2020-07-15T00:00:00\", \"Country/Region\": \"France\", \"Confirmed\": 210568, \"Deaths\": 30123, \"Recovered\": 78945.0, \"Active\": 101500.0, \"New cases\": 928, \"New deaths\": 91, \"New recovered\": 223}, {\"Unnamed: 0\": 32615, \"Date\": \"2020-07-15T00:00:00\", \"Country/Region\": \"Germany\", \"Confirmed\": 200890, \"Deaths\": 9080, \"Recovered\": 186000.0, \"Active\": 5810.0, \"New cases\": 434, \"New deaths\": 2, \"New recovered\": 900}, {\"Unnamed: 0\": 32628, \"Date\": \"2020-07-15T00:00:00\", \"Country/Region\": \"India\", \"Confirmed\": 968857, \"Deaths\": 24914, \"Recovered\": 612768.0, \"Active\": 331175.0, \"New cases\": 32676, \"New deaths\": 605, \"New recovered\": 20736}, {\"Unnamed: 0\": 32630, \"Date\": \"2020-07-15T00:00:00\", \"Country/Region\": \"Iran\", \"Confirmed\": 264561, \"Deaths\": 13410, \"Recovered\": 227561.0, \"Active\": 23590.0, \"New cases\": 2388, \"New deaths\": 199, \"New recovered\": 2291}, {\"Unnamed: 0\": 32634, \"Date\": \"2020-07-15T00:00:00\", \"Country/Region\": \"Italy\", \"Confirmed\": 243506, \"Deaths\": 34997, \"Recovered\": 196016.0, \"Active\": 12493.0, \"New cases\": 162, \"New deaths\": 13, \"New recovered\": 575}, {\"Unnamed: 0\": 32706, \"Date\": \"2020-07-15T00:00:00\", \"Country/Region\": \"Spain\", \"Confirmed\": 257494, \"Deaths\": 28413, \"Recovered\": 150376.0, \"Active\": 78705.0, \"New cases\": 875, \"New deaths\": 4, \"New recovered\": 0}, {\"Unnamed: 0\": 32711, \"Date\": \"2020-07-15T00:00:00\", \"Country/Region\": \"Switzerland\", \"Confirmed\": 33148, \"Deaths\": 1968, \"Recovered\": 29800.0, \"Active\": 1380.0, \"New cases\": 132, \"New deaths\": 0, \"New recovered\": 0}, {\"Unnamed: 0\": 32722, \"Date\": \"2020-07-15T00:00:00\", \"Country/Region\": \"US\", \"Confirmed\": 3498902, \"Deaths\": 137415, \"Recovered\": 1075882.0, \"Active\": 2285605.0, \"New cases\": 67328, \"New deaths\": 949, \"New recovered\": 26784}, {\"Unnamed: 0\": 32726, \"Date\": \"2020-07-15T00:00:00\", \"Country/Region\": \"United Kingdom\", \"Confirmed\": 293469, \"Deaths\": 45138, \"Recovered\": 1386.0, \"Active\": 246945.0, \"New cases\": 538, \"New deaths\": 85, \"New recovered\": 1}, {\"Unnamed: 0\": 32768, \"Date\": \"2020-07-16T00:00:00\", \"Country/Region\": \"Canada\", \"Confirmed\": 111131, \"Deaths\": 8874, \"Recovered\": 74433.0, \"Active\": 27824.0, \"New cases\": 451, \"New deaths\": 18, \"New recovered\": 366}, {\"Unnamed: 0\": 32772, \"Date\": \"2020-07-16T00:00:00\", \"Country/Region\": \"China\", \"Confirmed\": 85327, \"Deaths\": 4644, \"Recovered\": 78444.0, \"Active\": 2239.0, \"New cases\": 81, \"New deaths\": 0, \"New recovered\": 33}, {\"Unnamed: 0\": 32797, \"Date\": \"2020-07-16T00:00:00\", \"Country/Region\": \"France\", \"Confirmed\": 211102, \"Deaths\": 30141, \"Recovered\": 79161.0, \"Active\": 101800.0, \"New cases\": 534, \"New deaths\": 18, \"New recovered\": 216}, {\"Unnamed: 0\": 32801, \"Date\": \"2020-07-16T00:00:00\", \"Country/Region\": \"Germany\", \"Confirmed\": 201450, \"Deaths\": 9087, \"Recovered\": 186400.0, \"Active\": 5963.0, \"New cases\": 560, \"New deaths\": 7, \"New recovered\": 400}, {\"Unnamed: 0\": 32814, \"Date\": \"2020-07-16T00:00:00\", \"Country/Region\": \"India\", \"Confirmed\": 1003832, \"Deaths\": 25602, \"Recovered\": 635757.0, \"Active\": 342473.0, \"New cases\": 34975, \"New deaths\": 688, \"New recovered\": 22989}, {\"Unnamed: 0\": 32816, \"Date\": \"2020-07-16T00:00:00\", \"Country/Region\": \"Iran\", \"Confirmed\": 267061, \"Deaths\": 13608, \"Recovered\": 230608.0, \"Active\": 22845.0, \"New cases\": 2500, \"New deaths\": 198, \"New recovered\": 3047}, {\"Unnamed: 0\": 32820, \"Date\": \"2020-07-16T00:00:00\", \"Country/Region\": \"Italy\", \"Confirmed\": 243736, \"Deaths\": 35017, \"Recovered\": 196246.0, \"Active\": 12473.0, \"New cases\": 230, \"New deaths\": 20, \"New recovered\": 230}, {\"Unnamed: 0\": 32892, \"Date\": \"2020-07-16T00:00:00\", \"Country/Region\": \"Spain\", \"Confirmed\": 258855, \"Deaths\": 28416, \"Recovered\": 150376.0, \"Active\": 80063.0, \"New cases\": 1361, \"New deaths\": 3, \"New recovered\": 0}, {\"Unnamed: 0\": 32897, \"Date\": \"2020-07-16T00:00:00\", \"Country/Region\": \"Switzerland\", \"Confirmed\": 33290, \"Deaths\": 1969, \"Recovered\": 29900.0, \"Active\": 1421.0, \"New cases\": 142, \"New deaths\": 1, \"New recovered\": 100}, {\"Unnamed: 0\": 32908, \"Date\": \"2020-07-16T00:00:00\", \"Country/Region\": \"US\", \"Confirmed\": 3576157, \"Deaths\": 138358, \"Recovered\": 1090645.0, \"Active\": 2347154.0, \"New cases\": 77255, \"New deaths\": 943, \"New recovered\": 14763}, {\"Unnamed: 0\": 32912, \"Date\": \"2020-07-16T00:00:00\", \"Country/Region\": \"United Kingdom\", \"Confirmed\": 294116, \"Deaths\": 45204, \"Recovered\": 1403.0, \"Active\": 247509.0, \"New cases\": 647, \"New deaths\": 66, \"New recovered\": 17}, {\"Unnamed: 0\": 32954, \"Date\": \"2020-07-17T00:00:00\", \"Country/Region\": \"Canada\", \"Confirmed\": 111546, \"Deaths\": 8883, \"Recovered\": 98281.0, \"Active\": 4382.0, \"New cases\": 415, \"New deaths\": 9, \"New recovered\": 23848}, {\"Unnamed: 0\": 32958, \"Date\": \"2020-07-17T00:00:00\", \"Country/Region\": \"China\", \"Confirmed\": 85402, \"Deaths\": 4645, \"Recovered\": 78470.0, \"Active\": 2287.0, \"New cases\": 75, \"New deaths\": 1, \"New recovered\": 26}, {\"Unnamed: 0\": 32983, \"Date\": \"2020-07-17T00:00:00\", \"Country/Region\": \"France\", \"Confirmed\": 211943, \"Deaths\": 30155, \"Recovered\": 79371.0, \"Active\": 102417.0, \"New cases\": 841, \"New deaths\": 14, \"New recovered\": 210}, {\"Unnamed: 0\": 32987, \"Date\": \"2020-07-17T00:00:00\", \"Country/Region\": \"Germany\", \"Confirmed\": 202045, \"Deaths\": 9088, \"Recovered\": 186900.0, \"Active\": 6057.0, \"New cases\": 595, \"New deaths\": 1, \"New recovered\": 500}, {\"Unnamed: 0\": 33000, \"Date\": \"2020-07-17T00:00:00\", \"Country/Region\": \"India\", \"Confirmed\": 1039084, \"Deaths\": 26273, \"Recovered\": 653751.0, \"Active\": 359060.0, \"New cases\": 35252, \"New deaths\": 671, \"New recovered\": 17994}, {\"Unnamed: 0\": 33002, \"Date\": \"2020-07-17T00:00:00\", \"Country/Region\": \"Iran\", \"Confirmed\": 269440, \"Deaths\": 13791, \"Recovered\": 232873.0, \"Active\": 22776.0, \"New cases\": 2379, \"New deaths\": 183, \"New recovered\": 2265}, {\"Unnamed: 0\": 33006, \"Date\": \"2020-07-17T00:00:00\", \"Country/Region\": \"Italy\", \"Confirmed\": 243967, \"Deaths\": 35028, \"Recovered\": 196483.0, \"Active\": 12456.0, \"New cases\": 231, \"New deaths\": 11, \"New recovered\": 237}, {\"Unnamed: 0\": 33078, \"Date\": \"2020-07-17T00:00:00\", \"Country/Region\": \"Spain\", \"Confirmed\": 260255, \"Deaths\": 28420, \"Recovered\": 150376.0, \"Active\": 81459.0, \"New cases\": 1400, \"New deaths\": 4, \"New recovered\": 0}, {\"Unnamed: 0\": 33083, \"Date\": \"2020-07-17T00:00:00\", \"Country/Region\": \"Switzerland\", \"Confirmed\": 33382, \"Deaths\": 1969, \"Recovered\": 29900.0, \"Active\": 1513.0, \"New cases\": 92, \"New deaths\": 0, \"New recovered\": 0}, {\"Unnamed: 0\": 33094, \"Date\": \"2020-07-17T00:00:00\", \"Country/Region\": \"US\", \"Confirmed\": 3647715, \"Deaths\": 139266, \"Recovered\": 1107204.0, \"Active\": 2401245.0, \"New cases\": 71558, \"New deaths\": 908, \"New recovered\": 16559}, {\"Unnamed: 0\": 33098, \"Date\": \"2020-07-17T00:00:00\", \"Country/Region\": \"United Kingdom\", \"Confirmed\": 294803, \"Deaths\": 45318, \"Recovered\": 1403.0, \"Active\": 248082.0, \"New cases\": 687, \"New deaths\": 114, \"New recovered\": 0}, {\"Unnamed: 0\": 33140, \"Date\": \"2020-07-18T00:00:00\", \"Country/Region\": \"Canada\", \"Confirmed\": 111862, \"Deaths\": 8891, \"Recovered\": 98436.0, \"Active\": 4535.0, \"New cases\": 316, \"New deaths\": 8, \"New recovered\": 155}, {\"Unnamed: 0\": 33144, \"Date\": \"2020-07-18T00:00:00\", \"Country/Region\": \"China\", \"Confirmed\": 85418, \"Deaths\": 4646, \"Recovered\": 78497.0, \"Active\": 2275.0, \"New cases\": 16, \"New deaths\": 1, \"New recovered\": 27}, {\"Unnamed: 0\": 33169, \"Date\": \"2020-07-18T00:00:00\", \"Country/Region\": \"France\", \"Confirmed\": 211943, \"Deaths\": 30155, \"Recovered\": 79371.0, \"Active\": 102417.0, \"New cases\": 0, \"New deaths\": 0, \"New recovered\": 0}, {\"Unnamed: 0\": 33173, \"Date\": \"2020-07-18T00:00:00\", \"Country/Region\": \"Germany\", \"Confirmed\": 202426, \"Deaths\": 9091, \"Recovered\": 187200.0, \"Active\": 6135.0, \"New cases\": 381, \"New deaths\": 3, \"New recovered\": 300}, {\"Unnamed: 0\": 33186, \"Date\": \"2020-07-18T00:00:00\", \"Country/Region\": \"India\", \"Confirmed\": 1077781, \"Deaths\": 26816, \"Recovered\": 677423.0, \"Active\": 373542.0, \"New cases\": 38697, \"New deaths\": 543, \"New recovered\": 23672}, {\"Unnamed: 0\": 33188, \"Date\": \"2020-07-18T00:00:00\", \"Country/Region\": \"Iran\", \"Confirmed\": 271606, \"Deaths\": 13979, \"Recovered\": 235300.0, \"Active\": 22327.0, \"New cases\": 2166, \"New deaths\": 188, \"New recovered\": 2427}, {\"Unnamed: 0\": 33192, \"Date\": \"2020-07-18T00:00:00\", \"Country/Region\": \"Italy\", \"Confirmed\": 244216, \"Deaths\": 35042, \"Recovered\": 196806.0, \"Active\": 12368.0, \"New cases\": 249, \"New deaths\": 14, \"New recovered\": 323}, {\"Unnamed: 0\": 33264, \"Date\": \"2020-07-18T00:00:00\", \"Country/Region\": \"Spain\", \"Confirmed\": 260255, \"Deaths\": 28420, \"Recovered\": 150376.0, \"Active\": 81459.0, \"New cases\": 0, \"New deaths\": 0, \"New recovered\": 0}, {\"Unnamed: 0\": 33269, \"Date\": \"2020-07-18T00:00:00\", \"Country/Region\": \"Switzerland\", \"Confirmed\": 33492, \"Deaths\": 1969, \"Recovered\": 29900.0, \"Active\": 1623.0, \"New cases\": 110, \"New deaths\": 0, \"New recovered\": 0}, {\"Unnamed: 0\": 33280, \"Date\": \"2020-07-18T00:00:00\", \"Country/Region\": \"US\", \"Confirmed\": 3711413, \"Deaths\": 140119, \"Recovered\": 1122720.0, \"Active\": 2448574.0, \"New cases\": 63698, \"New deaths\": 853, \"New recovered\": 15516}, {\"Unnamed: 0\": 33284, \"Date\": \"2020-07-18T00:00:00\", \"Country/Region\": \"United Kingdom\", \"Confirmed\": 295632, \"Deaths\": 45358, \"Recovered\": 1413.0, \"Active\": 248861.0, \"New cases\": 829, \"New deaths\": 40, \"New recovered\": 10}, {\"Unnamed: 0\": 33326, \"Date\": \"2020-07-19T00:00:00\", \"Country/Region\": \"Canada\", \"Confirmed\": 112155, \"Deaths\": 8895, \"Recovered\": 98564.0, \"Active\": 4696.0, \"New cases\": 293, \"New deaths\": 4, \"New recovered\": 128}, {\"Unnamed: 0\": 33330, \"Date\": \"2020-07-19T00:00:00\", \"Country/Region\": \"China\", \"Confirmed\": 85503, \"Deaths\": 4646, \"Recovered\": 78542.0, \"Active\": 2315.0, \"New cases\": 85, \"New deaths\": 0, \"New recovered\": 45}, {\"Unnamed: 0\": 33355, \"Date\": \"2020-07-19T00:00:00\", \"Country/Region\": \"France\", \"Confirmed\": 211943, \"Deaths\": 30155, \"Recovered\": 79371.0, \"Active\": 102417.0, \"New cases\": 0, \"New deaths\": 0, \"New recovered\": 0}, {\"Unnamed: 0\": 33359, \"Date\": \"2020-07-19T00:00:00\", \"Country/Region\": \"Germany\", \"Confirmed\": 202735, \"Deaths\": 9092, \"Recovered\": 187400.0, \"Active\": 6243.0, \"New cases\": 309, \"New deaths\": 1, \"New recovered\": 200}, {\"Unnamed: 0\": 33372, \"Date\": \"2020-07-19T00:00:00\", \"Country/Region\": \"India\", \"Confirmed\": 1118206, \"Deaths\": 27497, \"Recovered\": 700087.0, \"Active\": 390622.0, \"New cases\": 40425, \"New deaths\": 681, \"New recovered\": 22664}, {\"Unnamed: 0\": 33374, \"Date\": \"2020-07-19T00:00:00\", \"Country/Region\": \"Iran\", \"Confirmed\": 273788, \"Deaths\": 14188, \"Recovered\": 237788.0, \"Active\": 21812.0, \"New cases\": 2182, \"New deaths\": 209, \"New recovered\": 2488}, {\"Unnamed: 0\": 33378, \"Date\": \"2020-07-19T00:00:00\", \"Country/Region\": \"Italy\", \"Confirmed\": 244434, \"Deaths\": 35045, \"Recovered\": 196949.0, \"Active\": 12440.0, \"New cases\": 218, \"New deaths\": 3, \"New recovered\": 143}, {\"Unnamed: 0\": 33450, \"Date\": \"2020-07-19T00:00:00\", \"Country/Region\": \"Spain\", \"Confirmed\": 260255, \"Deaths\": 28420, \"Recovered\": 150376.0, \"Active\": 81459.0, \"New cases\": 0, \"New deaths\": 0, \"New recovered\": 0}, {\"Unnamed: 0\": 33455, \"Date\": \"2020-07-19T00:00:00\", \"Country/Region\": \"Switzerland\", \"Confirmed\": 33591, \"Deaths\": 1969, \"Recovered\": 30300.0, \"Active\": 1322.0, \"New cases\": 99, \"New deaths\": 0, \"New recovered\": 400}, {\"Unnamed: 0\": 33466, \"Date\": \"2020-07-19T00:00:00\", \"Country/Region\": \"US\", \"Confirmed\": 3773260, \"Deaths\": 140534, \"Recovered\": 1131121.0, \"Active\": 2501605.0, \"New cases\": 61847, \"New deaths\": 415, \"New recovered\": 8401}, {\"Unnamed: 0\": 33470, \"Date\": \"2020-07-19T00:00:00\", \"Country/Region\": \"United Kingdom\", \"Confirmed\": 296358, \"Deaths\": 45385, \"Recovered\": 1413.0, \"Active\": 249560.0, \"New cases\": 726, \"New deaths\": 27, \"New recovered\": 0}, {\"Unnamed: 0\": 33512, \"Date\": \"2020-07-20T00:00:00\", \"Country/Region\": \"Canada\", \"Confirmed\": 112925, \"Deaths\": 8901, \"Recovered\": 98975.0, \"Active\": 5049.0, \"New cases\": 770, \"New deaths\": 6, \"New recovered\": 411}, {\"Unnamed: 0\": 33516, \"Date\": \"2020-07-20T00:00:00\", \"Country/Region\": \"China\", \"Confirmed\": 85622, \"Deaths\": 4646, \"Recovered\": 78567.0, \"Active\": 2409.0, \"New cases\": 119, \"New deaths\": 0, \"New recovered\": 25}, {\"Unnamed: 0\": 33541, \"Date\": \"2020-07-20T00:00:00\", \"Country/Region\": \"France\", \"Confirmed\": 214023, \"Deaths\": 30180, \"Recovered\": 79668.0, \"Active\": 104175.0, \"New cases\": 2080, \"New deaths\": 25, \"New recovered\": 297}, {\"Unnamed: 0\": 33545, \"Date\": \"2020-07-20T00:00:00\", \"Country/Region\": \"Germany\", \"Confirmed\": 203325, \"Deaths\": 9094, \"Recovered\": 188070.0, \"Active\": 6161.0, \"New cases\": 590, \"New deaths\": 2, \"New recovered\": 670}, {\"Unnamed: 0\": 33558, \"Date\": \"2020-07-20T00:00:00\", \"Country/Region\": \"India\", \"Confirmed\": 1155338, \"Deaths\": 28082, \"Recovered\": 724578.0, \"Active\": 402678.0, \"New cases\": 37132, \"New deaths\": 585, \"New recovered\": 24491}, {\"Unnamed: 0\": 33560, \"Date\": \"2020-07-20T00:00:00\", \"Country/Region\": \"Iran\", \"Confirmed\": 276202, \"Deaths\": 14405, \"Recovered\": 240087.0, \"Active\": 21710.0, \"New cases\": 2414, \"New deaths\": 217, \"New recovered\": 2299}, {\"Unnamed: 0\": 33564, \"Date\": \"2020-07-20T00:00:00\", \"Country/Region\": \"Italy\", \"Confirmed\": 244624, \"Deaths\": 35058, \"Recovered\": 197162.0, \"Active\": 12404.0, \"New cases\": 190, \"New deaths\": 13, \"New recovered\": 213}, {\"Unnamed: 0\": 33636, \"Date\": \"2020-07-20T00:00:00\", \"Country/Region\": \"Spain\", \"Confirmed\": 264836, \"Deaths\": 28422, \"Recovered\": 150376.0, \"Active\": 86038.0, \"New cases\": 4581, \"New deaths\": 2, \"New recovered\": 0}, {\"Unnamed: 0\": 33641, \"Date\": \"2020-07-20T00:00:00\", \"Country/Region\": \"Switzerland\", \"Confirmed\": 33634, \"Deaths\": 1971, \"Recovered\": 30300.0, \"Active\": 1363.0, \"New cases\": 43, \"New deaths\": 2, \"New recovered\": 0}, {\"Unnamed: 0\": 33652, \"Date\": \"2020-07-20T00:00:00\", \"Country/Region\": \"US\", \"Confirmed\": 3834677, \"Deaths\": 141025, \"Recovered\": 1160087.0, \"Active\": 2533565.0, \"New cases\": 61417, \"New deaths\": 491, \"New recovered\": 28966}, {\"Unnamed: 0\": 33656, \"Date\": \"2020-07-20T00:00:00\", \"Country/Region\": \"United Kingdom\", \"Confirmed\": 296944, \"Deaths\": 45397, \"Recovered\": 1413.0, \"Active\": 250134.0, \"New cases\": 586, \"New deaths\": 12, \"New recovered\": 0}, {\"Unnamed: 0\": 33698, \"Date\": \"2020-07-21T00:00:00\", \"Country/Region\": \"Canada\", \"Confirmed\": 113460, \"Deaths\": 8907, \"Recovered\": 99248.0, \"Active\": 5305.0, \"New cases\": 535, \"New deaths\": 6, \"New recovered\": 273}, {\"Unnamed: 0\": 33702, \"Date\": \"2020-07-21T00:00:00\", \"Country/Region\": \"China\", \"Confirmed\": 85708, \"Deaths\": 4648, \"Recovered\": 78608.0, \"Active\": 2452.0, \"New cases\": 86, \"New deaths\": 2, \"New recovered\": 41}, {\"Unnamed: 0\": 33727, \"Date\": \"2020-07-21T00:00:00\", \"Country/Region\": \"France\", \"Confirmed\": 214607, \"Deaths\": 30168, \"Recovered\": 79861.0, \"Active\": 104578.0, \"New cases\": 584, \"New deaths\": -12, \"New recovered\": 193}, {\"Unnamed: 0\": 33731, \"Date\": \"2020-07-21T00:00:00\", \"Country/Region\": \"Germany\", \"Confirmed\": 203717, \"Deaths\": 9099, \"Recovered\": 188221.0, \"Active\": 6397.0, \"New cases\": 392, \"New deaths\": 5, \"New recovered\": 151}, {\"Unnamed: 0\": 33744, \"Date\": \"2020-07-21T00:00:00\", \"Country/Region\": \"India\", \"Confirmed\": 1193078, \"Deaths\": 28732, \"Recovered\": 753050.0, \"Active\": 411296.0, \"New cases\": 37740, \"New deaths\": 650, \"New recovered\": 28472}, {\"Unnamed: 0\": 33746, \"Date\": \"2020-07-21T00:00:00\", \"Country/Region\": \"Iran\", \"Confirmed\": 278827, \"Deaths\": 14634, \"Recovered\": 242351.0, \"Active\": 21842.0, \"New cases\": 2625, \"New deaths\": 229, \"New recovered\": 2264}, {\"Unnamed: 0\": 33750, \"Date\": \"2020-07-21T00:00:00\", \"Country/Region\": \"Italy\", \"Confirmed\": 244752, \"Deaths\": 35073, \"Recovered\": 197431.0, \"Active\": 12248.0, \"New cases\": 128, \"New deaths\": 15, \"New recovered\": 269}, {\"Unnamed: 0\": 33822, \"Date\": \"2020-07-21T00:00:00\", \"Country/Region\": \"Spain\", \"Confirmed\": 266194, \"Deaths\": 28424, \"Recovered\": 150376.0, \"Active\": 87394.0, \"New cases\": 1358, \"New deaths\": 2, \"New recovered\": 0}, {\"Unnamed: 0\": 33827, \"Date\": \"2020-07-21T00:00:00\", \"Country/Region\": \"Switzerland\", \"Confirmed\": 33742, \"Deaths\": 1972, \"Recovered\": 30300.0, \"Active\": 1470.0, \"New cases\": 108, \"New deaths\": 1, \"New recovered\": 0}, {\"Unnamed: 0\": 33838, \"Date\": \"2020-07-21T00:00:00\", \"Country/Region\": \"US\", \"Confirmed\": 3899211, \"Deaths\": 142121, \"Recovered\": 1182018.0, \"Active\": 2575072.0, \"New cases\": 64534, \"New deaths\": 1096, \"New recovered\": 21931}, {\"Unnamed: 0\": 33842, \"Date\": \"2020-07-21T00:00:00\", \"Country/Region\": \"United Kingdom\", \"Confirmed\": 297389, \"Deaths\": 45507, \"Recovered\": 1414.0, \"Active\": 250468.0, \"New cases\": 445, \"New deaths\": 110, \"New recovered\": 1}, {\"Unnamed: 0\": 33884, \"Date\": \"2020-07-22T00:00:00\", \"Country/Region\": \"Canada\", \"Confirmed\": 113777, \"Deaths\": 8912, \"Recovered\": 99501.0, \"Active\": 5364.0, \"New cases\": 317, \"New deaths\": 5, \"New recovered\": 253}, {\"Unnamed: 0\": 33888, \"Date\": \"2020-07-22T00:00:00\", \"Country/Region\": \"China\", \"Confirmed\": 85906, \"Deaths\": 4648, \"Recovered\": 78648.0, \"Active\": 2610.0, \"New cases\": 198, \"New deaths\": 0, \"New recovered\": 40}, {\"Unnamed: 0\": 33913, \"Date\": \"2020-07-22T00:00:00\", \"Country/Region\": \"France\", \"Confirmed\": 215605, \"Deaths\": 30175, \"Recovered\": 80084.0, \"Active\": 105346.0, \"New cases\": 998, \"New deaths\": 7, \"New recovered\": 223}, {\"Unnamed: 0\": 33917, \"Date\": \"2020-07-22T00:00:00\", \"Country/Region\": \"Germany\", \"Confirmed\": 204276, \"Deaths\": 9102, \"Recovered\": 188628.0, \"Active\": 6546.0, \"New cases\": 559, \"New deaths\": 3, \"New recovered\": 407}, {\"Unnamed: 0\": 33930, \"Date\": \"2020-07-22T00:00:00\", \"Country/Region\": \"India\", \"Confirmed\": 1238798, \"Deaths\": 29861, \"Recovered\": 782607.0, \"Active\": 426330.0, \"New cases\": 45720, \"New deaths\": 1129, \"New recovered\": 29557}, {\"Unnamed: 0\": 33932, \"Date\": \"2020-07-22T00:00:00\", \"Country/Region\": \"Iran\", \"Confirmed\": 281413, \"Deaths\": 14853, \"Recovered\": 244840.0, \"Active\": 21720.0, \"New cases\": 2586, \"New deaths\": 219, \"New recovered\": 2489}, {\"Unnamed: 0\": 33936, \"Date\": \"2020-07-22T00:00:00\", \"Country/Region\": \"Italy\", \"Confirmed\": 245032, \"Deaths\": 35082, \"Recovered\": 197628.0, \"Active\": 12322.0, \"New cases\": 280, \"New deaths\": 9, \"New recovered\": 197}, {\"Unnamed: 0\": 34008, \"Date\": \"2020-07-22T00:00:00\", \"Country/Region\": \"Spain\", \"Confirmed\": 267551, \"Deaths\": 28426, \"Recovered\": 150376.0, \"Active\": 88749.0, \"New cases\": 1357, \"New deaths\": 2, \"New recovered\": 0}, {\"Unnamed: 0\": 34013, \"Date\": \"2020-07-22T00:00:00\", \"Country/Region\": \"Switzerland\", \"Confirmed\": 33883, \"Deaths\": 1972, \"Recovered\": 30500.0, \"Active\": 1411.0, \"New cases\": 141, \"New deaths\": 0, \"New recovered\": 200}, {\"Unnamed: 0\": 34024, \"Date\": \"2020-07-22T00:00:00\", \"Country/Region\": \"US\", \"Confirmed\": 3970121, \"Deaths\": 143316, \"Recovered\": 1210849.0, \"Active\": 2615956.0, \"New cases\": 70910, \"New deaths\": 1195, \"New recovered\": 28831}, {\"Unnamed: 0\": 34028, \"Date\": \"2020-07-22T00:00:00\", \"Country/Region\": \"United Kingdom\", \"Confirmed\": 297952, \"Deaths\": 45586, \"Recovered\": 1416.0, \"Active\": 250950.0, \"New cases\": 563, \"New deaths\": 79, \"New recovered\": 2}, {\"Unnamed: 0\": 34070, \"Date\": \"2020-07-23T00:00:00\", \"Country/Region\": \"Canada\", \"Confirmed\": 114385, \"Deaths\": 8918, \"Recovered\": 99937.0, \"Active\": 5530.0, \"New cases\": 608, \"New deaths\": 6, \"New recovered\": 436}, {\"Unnamed: 0\": 34074, \"Date\": \"2020-07-23T00:00:00\", \"Country/Region\": \"China\", \"Confirmed\": 86045, \"Deaths\": 4649, \"Recovered\": 78701.0, \"Active\": 2695.0, \"New cases\": 139, \"New deaths\": 1, \"New recovered\": 53}, {\"Unnamed: 0\": 34099, \"Date\": \"2020-07-23T00:00:00\", \"Country/Region\": \"France\", \"Confirmed\": 216667, \"Deaths\": 30185, \"Recovered\": 80600.0, \"Active\": 105882.0, \"New cases\": 1062, \"New deaths\": 10, \"New recovered\": 516}, {\"Unnamed: 0\": 34103, \"Date\": \"2020-07-23T00:00:00\", \"Country/Region\": \"Germany\", \"Confirmed\": 204881, \"Deaths\": 9110, \"Recovered\": 189140.0, \"Active\": 6631.0, \"New cases\": 605, \"New deaths\": 8, \"New recovered\": 512}, {\"Unnamed: 0\": 34116, \"Date\": \"2020-07-23T00:00:00\", \"Country/Region\": \"India\", \"Confirmed\": 1288108, \"Deaths\": 30601, \"Recovered\": 817209.0, \"Active\": 440298.0, \"New cases\": 49310, \"New deaths\": 740, \"New recovered\": 34602}, {\"Unnamed: 0\": 34118, \"Date\": \"2020-07-23T00:00:00\", \"Country/Region\": \"Iran\", \"Confirmed\": 284034, \"Deaths\": 15074, \"Recovered\": 247230.0, \"Active\": 21730.0, \"New cases\": 2621, \"New deaths\": 221, \"New recovered\": 2390}, {\"Unnamed: 0\": 34122, \"Date\": \"2020-07-23T00:00:00\", \"Country/Region\": \"Italy\", \"Confirmed\": 245338, \"Deaths\": 35092, \"Recovered\": 197842.0, \"Active\": 12404.0, \"New cases\": 306, \"New deaths\": 10, \"New recovered\": 214}, {\"Unnamed: 0\": 34194, \"Date\": \"2020-07-23T00:00:00\", \"Country/Region\": \"Spain\", \"Confirmed\": 270166, \"Deaths\": 28429, \"Recovered\": 150376.0, \"Active\": 91361.0, \"New cases\": 2615, \"New deaths\": 3, \"New recovered\": 0}, {\"Unnamed: 0\": 34199, \"Date\": \"2020-07-23T00:00:00\", \"Country/Region\": \"Switzerland\", \"Confirmed\": 34000, \"Deaths\": 1975, \"Recovered\": 30500.0, \"Active\": 1525.0, \"New cases\": 117, \"New deaths\": 3, \"New recovered\": 0}, {\"Unnamed: 0\": 34210, \"Date\": \"2020-07-23T00:00:00\", \"Country/Region\": \"US\", \"Confirmed\": 4038816, \"Deaths\": 144430, \"Recovered\": 1233269.0, \"Active\": 2661117.0, \"New cases\": 68695, \"New deaths\": 1114, \"New recovered\": 22420}, {\"Unnamed: 0\": 34214, \"Date\": \"2020-07-23T00:00:00\", \"Country/Region\": \"United Kingdom\", \"Confirmed\": 298731, \"Deaths\": 45639, \"Recovered\": 1425.0, \"Active\": 251667.0, \"New cases\": 779, \"New deaths\": 53, \"New recovered\": 9}, {\"Unnamed: 0\": 34256, \"Date\": \"2020-07-24T00:00:00\", \"Country/Region\": \"Canada\", \"Confirmed\": 115102, \"Deaths\": 8922, \"Recovered\": 100504.0, \"Active\": 5676.0, \"New cases\": 717, \"New deaths\": 4, \"New recovered\": 567}, {\"Unnamed: 0\": 34260, \"Date\": \"2020-07-24T00:00:00\", \"Country/Region\": \"China\", \"Confirmed\": 86202, \"Deaths\": 4650, \"Recovered\": 78745.0, \"Active\": 2807.0, \"New cases\": 157, \"New deaths\": 1, \"New recovered\": 44}, {\"Unnamed: 0\": 34285, \"Date\": \"2020-07-24T00:00:00\", \"Country/Region\": \"France\", \"Confirmed\": 217797, \"Deaths\": 30195, \"Recovered\": 80943.0, \"Active\": 106659.0, \"New cases\": 1130, \"New deaths\": 10, \"New recovered\": 343}, {\"Unnamed: 0\": 34289, \"Date\": \"2020-07-24T00:00:00\", \"Country/Region\": \"Germany\", \"Confirmed\": 205623, \"Deaths\": 9120, \"Recovered\": 189696.0, \"Active\": 6807.0, \"New cases\": 742, \"New deaths\": 10, \"New recovered\": 556}, {\"Unnamed: 0\": 34302, \"Date\": \"2020-07-24T00:00:00\", \"Country/Region\": \"India\", \"Confirmed\": 1337024, \"Deaths\": 31358, \"Recovered\": 849432.0, \"Active\": 456234.0, \"New cases\": 48916, \"New deaths\": 757, \"New recovered\": 32223}, {\"Unnamed: 0\": 34304, \"Date\": \"2020-07-24T00:00:00\", \"Country/Region\": \"Iran\", \"Confirmed\": 286523, \"Deaths\": 15289, \"Recovered\": 249212.0, \"Active\": 22022.0, \"New cases\": 2489, \"New deaths\": 215, \"New recovered\": 1982}, {\"Unnamed: 0\": 34308, \"Date\": \"2020-07-24T00:00:00\", \"Country/Region\": \"Italy\", \"Confirmed\": 245590, \"Deaths\": 35097, \"Recovered\": 198192.0, \"Active\": 12301.0, \"New cases\": 252, \"New deaths\": 5, \"New recovered\": 350}, {\"Unnamed: 0\": 34380, \"Date\": \"2020-07-24T00:00:00\", \"Country/Region\": \"Spain\", \"Confirmed\": 272421, \"Deaths\": 28432, \"Recovered\": 150376.0, \"Active\": 93613.0, \"New cases\": 2255, \"New deaths\": 3, \"New recovered\": 0}, {\"Unnamed: 0\": 34385, \"Date\": \"2020-07-24T00:00:00\", \"Country/Region\": \"Switzerland\", \"Confirmed\": 34154, \"Deaths\": 1977, \"Recovered\": 30500.0, \"Active\": 1677.0, \"New cases\": 154, \"New deaths\": 2, \"New recovered\": 0}, {\"Unnamed: 0\": 34396, \"Date\": \"2020-07-24T00:00:00\", \"Country/Region\": \"US\", \"Confirmed\": 4112531, \"Deaths\": 145560, \"Recovered\": 1261624.0, \"Active\": 2705347.0, \"New cases\": 73715, \"New deaths\": 1130, \"New recovered\": 28355}, {\"Unnamed: 0\": 34400, \"Date\": \"2020-07-24T00:00:00\", \"Country/Region\": \"United Kingdom\", \"Confirmed\": 299500, \"Deaths\": 45762, \"Recovered\": 1425.0, \"Active\": 252313.0, \"New cases\": 769, \"New deaths\": 123, \"New recovered\": 0}, {\"Unnamed: 0\": 34442, \"Date\": \"2020-07-25T00:00:00\", \"Country/Region\": \"Canada\", \"Confirmed\": 115457, \"Deaths\": 8928, \"Recovered\": 100765.0, \"Active\": 5764.0, \"New cases\": 355, \"New deaths\": 6, \"New recovered\": 261}, {\"Unnamed: 0\": 34446, \"Date\": \"2020-07-25T00:00:00\", \"Country/Region\": \"China\", \"Confirmed\": 86381, \"Deaths\": 4652, \"Recovered\": 78813.0, \"Active\": 2916.0, \"New cases\": 179, \"New deaths\": 2, \"New recovered\": 68}, {\"Unnamed: 0\": 34471, \"Date\": \"2020-07-25T00:00:00\", \"Country/Region\": \"France\", \"Confirmed\": 217801, \"Deaths\": 30195, \"Recovered\": 80945.0, \"Active\": 106661.0, \"New cases\": 4, \"New deaths\": 0, \"New recovered\": 2}, {\"Unnamed: 0\": 34475, \"Date\": \"2020-07-25T00:00:00\", \"Country/Region\": \"Germany\", \"Confirmed\": 206278, \"Deaths\": 9124, \"Recovered\": 189919.0, \"Active\": 7235.0, \"New cases\": 655, \"New deaths\": 4, \"New recovered\": 223}, {\"Unnamed: 0\": 34488, \"Date\": \"2020-07-25T00:00:00\", \"Country/Region\": \"India\", \"Confirmed\": 1385635, \"Deaths\": 32060, \"Recovered\": 885573.0, \"Active\": 468002.0, \"New cases\": 48611, \"New deaths\": 702, \"New recovered\": 36141}, {\"Unnamed: 0\": 34490, \"Date\": \"2020-07-25T00:00:00\", \"Country/Region\": \"Iran\", \"Confirmed\": 288839, \"Deaths\": 15484, \"Recovered\": 251319.0, \"Active\": 22036.0, \"New cases\": 2316, \"New deaths\": 195, \"New recovered\": 2107}, {\"Unnamed: 0\": 34494, \"Date\": \"2020-07-25T00:00:00\", \"Country/Region\": \"Italy\", \"Confirmed\": 245864, \"Deaths\": 35102, \"Recovered\": 198320.0, \"Active\": 12442.0, \"New cases\": 274, \"New deaths\": 5, \"New recovered\": 128}, {\"Unnamed: 0\": 34566, \"Date\": \"2020-07-25T00:00:00\", \"Country/Region\": \"Spain\", \"Confirmed\": 272421, \"Deaths\": 28432, \"Recovered\": 150376.0, \"Active\": 93613.0, \"New cases\": 0, \"New deaths\": 0, \"New recovered\": 0}, {\"Unnamed: 0\": 34571, \"Date\": \"2020-07-25T00:00:00\", \"Country/Region\": \"Switzerland\", \"Confirmed\": 34302, \"Deaths\": 1977, \"Recovered\": 30500.0, \"Active\": 1825.0, \"New cases\": 148, \"New deaths\": 0, \"New recovered\": 0}, {\"Unnamed: 0\": 34582, \"Date\": \"2020-07-25T00:00:00\", \"Country/Region\": \"US\", \"Confirmed\": 4178970, \"Deaths\": 146465, \"Recovered\": 1279414.0, \"Active\": 2753091.0, \"New cases\": 66439, \"New deaths\": 905, \"New recovered\": 17790}, {\"Unnamed: 0\": 34586, \"Date\": \"2020-07-25T00:00:00\", \"Country/Region\": \"United Kingdom\", \"Confirmed\": 300270, \"Deaths\": 45823, \"Recovered\": 1427.0, \"Active\": 253020.0, \"New cases\": 770, \"New deaths\": 61, \"New recovered\": 2}, {\"Unnamed: 0\": 34628, \"Date\": \"2020-07-26T00:00:00\", \"Country/Region\": \"Canada\", \"Confirmed\": 115776, \"Deaths\": 8933, \"Recovered\": 100969.0, \"Active\": 5874.0, \"New cases\": 319, \"New deaths\": 5, \"New recovered\": 204}, {\"Unnamed: 0\": 34632, \"Date\": \"2020-07-26T00:00:00\", \"Country/Region\": \"China\", \"Confirmed\": 86570, \"Deaths\": 4652, \"Recovered\": 78862.0, \"Active\": 3056.0, \"New cases\": 189, \"New deaths\": 0, \"New recovered\": 49}, {\"Unnamed: 0\": 34657, \"Date\": \"2020-07-26T00:00:00\", \"Country/Region\": \"France\", \"Confirmed\": 217801, \"Deaths\": 30195, \"Recovered\": 80945.0, \"Active\": 106661.0, \"New cases\": 0, \"New deaths\": 0, \"New recovered\": 0}, {\"Unnamed: 0\": 34661, \"Date\": \"2020-07-26T00:00:00\", \"Country/Region\": \"Germany\", \"Confirmed\": 206667, \"Deaths\": 9124, \"Recovered\": 190055.0, \"Active\": 7488.0, \"New cases\": 389, \"New deaths\": 0, \"New recovered\": 136}, {\"Unnamed: 0\": 34674, \"Date\": \"2020-07-26T00:00:00\", \"Country/Region\": \"India\", \"Confirmed\": 1435616, \"Deaths\": 32771, \"Recovered\": 917568.0, \"Active\": 485277.0, \"New cases\": 49981, \"New deaths\": 711, \"New recovered\": 31995}, {\"Unnamed: 0\": 34676, \"Date\": \"2020-07-26T00:00:00\", \"Country/Region\": \"Iran\", \"Confirmed\": 291172, \"Deaths\": 15700, \"Recovered\": 253213.0, \"Active\": 22259.0, \"New cases\": 2333, \"New deaths\": 216, \"New recovered\": 1894}, {\"Unnamed: 0\": 34680, \"Date\": \"2020-07-26T00:00:00\", \"Country/Region\": \"Italy\", \"Confirmed\": 246118, \"Deaths\": 35107, \"Recovered\": 198446.0, \"Active\": 12565.0, \"New cases\": 254, \"New deaths\": 5, \"New recovered\": 126}, {\"Unnamed: 0\": 34752, \"Date\": \"2020-07-26T00:00:00\", \"Country/Region\": \"Spain\", \"Confirmed\": 272421, \"Deaths\": 28432, \"Recovered\": 150376.0, \"Active\": 93613.0, \"New cases\": 0, \"New deaths\": 0, \"New recovered\": 0}, {\"Unnamed: 0\": 34757, \"Date\": \"2020-07-26T00:00:00\", \"Country/Region\": \"Switzerland\", \"Confirmed\": 34412, \"Deaths\": 1977, \"Recovered\": 30700.0, \"Active\": 1735.0, \"New cases\": 110, \"New deaths\": 0, \"New recovered\": 200}, {\"Unnamed: 0\": 34768, \"Date\": \"2020-07-26T00:00:00\", \"Country/Region\": \"US\", \"Confirmed\": 4233923, \"Deaths\": 146935, \"Recovered\": 1297863.0, \"Active\": 2789125.0, \"New cases\": 54953, \"New deaths\": 470, \"New recovered\": 18449}, {\"Unnamed: 0\": 34772, \"Date\": \"2020-07-26T00:00:00\", \"Country/Region\": \"United Kingdom\", \"Confirmed\": 301020, \"Deaths\": 45837, \"Recovered\": 1434.0, \"Active\": 253749.0, \"New cases\": 750, \"New deaths\": 14, \"New recovered\": 7}, {\"Unnamed: 0\": 34814, \"Date\": \"2020-07-27T00:00:00\", \"Country/Region\": \"Canada\", \"Confirmed\": 116458, \"Deaths\": 8944, \"Recovered\": 101447.0, \"Active\": 6067.0, \"New cases\": 682, \"New deaths\": 11, \"New recovered\": 478}, {\"Unnamed: 0\": 34818, \"Date\": \"2020-07-27T00:00:00\", \"Country/Region\": \"China\", \"Confirmed\": 86783, \"Deaths\": 4656, \"Recovered\": 78869.0, \"Active\": 3258.0, \"New cases\": 213, \"New deaths\": 4, \"New recovered\": 7}, {\"Unnamed: 0\": 34843, \"Date\": \"2020-07-27T00:00:00\", \"Country/Region\": \"France\", \"Confirmed\": 220352, \"Deaths\": 30212, \"Recovered\": 81212.0, \"Active\": 108928.0, \"New cases\": 2551, \"New deaths\": 17, \"New recovered\": 267}, {\"Unnamed: 0\": 34847, \"Date\": \"2020-07-27T00:00:00\", \"Country/Region\": \"Germany\", \"Confirmed\": 207112, \"Deaths\": 9125, \"Recovered\": 190314.0, \"Active\": 7673.0, \"New cases\": 445, \"New deaths\": 1, \"New recovered\": 259}, {\"Unnamed: 0\": 34860, \"Date\": \"2020-07-27T00:00:00\", \"Country/Region\": \"India\", \"Confirmed\": 1480073, \"Deaths\": 33408, \"Recovered\": 951166.0, \"Active\": 495499.0, \"New cases\": 44457, \"New deaths\": 637, \"New recovered\": 33598}, {\"Unnamed: 0\": 34862, \"Date\": \"2020-07-27T00:00:00\", \"Country/Region\": \"Iran\", \"Confirmed\": 293606, \"Deaths\": 15912, \"Recovered\": 255144.0, \"Active\": 22550.0, \"New cases\": 2434, \"New deaths\": 212, \"New recovered\": 1931}, {\"Unnamed: 0\": 34866, \"Date\": \"2020-07-27T00:00:00\", \"Country/Region\": \"Italy\", \"Confirmed\": 246286, \"Deaths\": 35112, \"Recovered\": 198593.0, \"Active\": 12581.0, \"New cases\": 168, \"New deaths\": 5, \"New recovered\": 147}, {\"Unnamed: 0\": 34938, \"Date\": \"2020-07-27T00:00:00\", \"Country/Region\": \"Spain\", \"Confirmed\": 278782, \"Deaths\": 28434, \"Recovered\": 150376.0, \"Active\": 99972.0, \"New cases\": 6361, \"New deaths\": 2, \"New recovered\": 0}, {\"Unnamed: 0\": 34943, \"Date\": \"2020-07-27T00:00:00\", \"Country/Region\": \"Switzerland\", \"Confirmed\": 34477, \"Deaths\": 1978, \"Recovered\": 30900.0, \"Active\": 1599.0, \"New cases\": 65, \"New deaths\": 1, \"New recovered\": 200}, {\"Unnamed: 0\": 34954, \"Date\": \"2020-07-27T00:00:00\", \"Country/Region\": \"US\", \"Confirmed\": 4290337, \"Deaths\": 148012, \"Recovered\": 1325804.0, \"Active\": 2816521.0, \"New cases\": 56414, \"New deaths\": 1077, \"New recovered\": 27941}, {\"Unnamed: 0\": 34958, \"Date\": \"2020-07-27T00:00:00\", \"Country/Region\": \"United Kingdom\", \"Confirmed\": 301708, \"Deaths\": 45844, \"Recovered\": 1437.0, \"Active\": 254427.0, \"New cases\": 688, \"New deaths\": 7, \"New recovered\": 3}, {\"Unnamed: 0\": 35000, \"Date\": \"2020-07-28T00:00:00\", \"Country/Region\": \"Canada\", \"Confirmed\": 116858, \"Deaths\": 8956, \"Recovered\": 101686.0, \"Active\": 6216.0, \"New cases\": 400, \"New deaths\": 12, \"New recovered\": 239}, {\"Unnamed: 0\": 35004, \"Date\": \"2020-07-28T00:00:00\", \"Country/Region\": \"China\", \"Confirmed\": 86990, \"Deaths\": 4657, \"Recovered\": 78920.0, \"Active\": 3413.0, \"New cases\": 207, \"New deaths\": 1, \"New recovered\": 51}, {\"Unnamed: 0\": 35029, \"Date\": \"2020-07-28T00:00:00\", \"Country/Region\": \"France\", \"Confirmed\": 221077, \"Deaths\": 30226, \"Recovered\": 81441.0, \"Active\": 109410.0, \"New cases\": 725, \"New deaths\": 14, \"New recovered\": 229}, {\"Unnamed: 0\": 35033, \"Date\": \"2020-07-28T00:00:00\", \"Country/Region\": \"Germany\", \"Confirmed\": 207707, \"Deaths\": 9131, \"Recovered\": 190711.0, \"Active\": 7865.0, \"New cases\": 595, \"New deaths\": 6, \"New recovered\": 397}, {\"Unnamed: 0\": 35046, \"Date\": \"2020-07-28T00:00:00\", \"Country/Region\": \"India\", \"Confirmed\": 1483156, \"Deaths\": 33425, \"Recovered\": 952743.0, \"Active\": 496988.0, \"New cases\": 3083, \"New deaths\": 17, \"New recovered\": 1577}, {\"Unnamed: 0\": 35048, \"Date\": \"2020-07-28T00:00:00\", \"Country/Region\": \"Iran\", \"Confirmed\": 296273, \"Deaths\": 16147, \"Recovered\": 257019.0, \"Active\": 23107.0, \"New cases\": 2667, \"New deaths\": 235, \"New recovered\": 1875}, {\"Unnamed: 0\": 35052, \"Date\": \"2020-07-28T00:00:00\", \"Country/Region\": \"Italy\", \"Confirmed\": 246488, \"Deaths\": 35123, \"Recovered\": 198756.0, \"Active\": 12609.0, \"New cases\": 202, \"New deaths\": 11, \"New recovered\": 163}, {\"Unnamed: 0\": 35124, \"Date\": \"2020-07-28T00:00:00\", \"Country/Region\": \"Spain\", \"Confirmed\": 280610, \"Deaths\": 28436, \"Recovered\": 150376.0, \"Active\": 101798.0, \"New cases\": 1828, \"New deaths\": 2, \"New recovered\": 0}, {\"Unnamed: 0\": 35129, \"Date\": \"2020-07-28T00:00:00\", \"Country/Region\": \"Switzerland\", \"Confirmed\": 34609, \"Deaths\": 1978, \"Recovered\": 31000.0, \"Active\": 1631.0, \"New cases\": 132, \"New deaths\": 0, \"New recovered\": 100}, {\"Unnamed: 0\": 35140, \"Date\": \"2020-07-28T00:00:00\", \"Country/Region\": \"US\", \"Confirmed\": 4351997, \"Deaths\": 149256, \"Recovered\": 1355363.0, \"Active\": 2847378.0, \"New cases\": 61660, \"New deaths\": 1244, \"New recovered\": 29559}, {\"Unnamed: 0\": 35144, \"Date\": \"2020-07-28T00:00:00\", \"Country/Region\": \"United Kingdom\", \"Confirmed\": 302261, \"Deaths\": 45963, \"Recovered\": 1438.0, \"Active\": 254860.0, \"New cases\": 553, \"New deaths\": 119, \"New recovered\": 1}]}}, {\"mode\": \"vega-lite\"});\n",
       "</script>"
      ],
      "text/plain": [
       "alt.Chart(...)"
      ]
     },
     "execution_count": 46,
     "metadata": {},
     "output_type": "execute_result"
    }
   ],
   "source": [
    "alt.Chart(selected_countries).mark_circle().encode(\n",
    "    x='monthdate(Date):O',\n",
    "    y='Country/Region',\n",
    "    color='Country/Region',\n",
    "    size=alt.Size('New cases:Q',\n",
    "        scale=alt.Scale(range=[0, 1000]),\n",
    "        legend=alt.Legend(title='Daily new cases')\n",
    "    ) \n",
    ").properties(\n",
    "    width=800,\n",
    "    height=300\n",
    ")"
   ]
  },
  {
   "cell_type": "code",
   "execution_count": 39,
   "metadata": {},
   "outputs": [
    {
     "data": {
      "text/html": [
       "<div>\n",
       "<style scoped>\n",
       "    .dataframe tbody tr th:only-of-type {\n",
       "        vertical-align: middle;\n",
       "    }\n",
       "\n",
       "    .dataframe tbody tr th {\n",
       "        vertical-align: top;\n",
       "    }\n",
       "\n",
       "    .dataframe thead th {\n",
       "        text-align: right;\n",
       "    }\n",
       "</style>\n",
       "<table border=\"1\" class=\"dataframe\">\n",
       "  <thead>\n",
       "    <tr style=\"text-align: right;\">\n",
       "      <th></th>\n",
       "      <th>Unnamed: 0</th>\n",
       "      <th>Date</th>\n",
       "      <th>Country/Region</th>\n",
       "      <th>Confirmed</th>\n",
       "      <th>Deaths</th>\n",
       "      <th>Recovered</th>\n",
       "      <th>Active</th>\n",
       "      <th>New cases</th>\n",
       "      <th>New deaths</th>\n",
       "      <th>New recovered</th>\n",
       "    </tr>\n",
       "  </thead>\n",
       "  <tbody>\n",
       "    <tr>\n",
       "      <th>0</th>\n",
       "      <td>0</td>\n",
       "      <td>2020-01-22</td>\n",
       "      <td>Afghanistan</td>\n",
       "      <td>0</td>\n",
       "      <td>0</td>\n",
       "      <td>0.0</td>\n",
       "      <td>0.0</td>\n",
       "      <td>0</td>\n",
       "      <td>0</td>\n",
       "      <td>0</td>\n",
       "    </tr>\n",
       "    <tr>\n",
       "      <th>1</th>\n",
       "      <td>1</td>\n",
       "      <td>2020-01-22</td>\n",
       "      <td>Albania</td>\n",
       "      <td>0</td>\n",
       "      <td>0</td>\n",
       "      <td>0.0</td>\n",
       "      <td>0.0</td>\n",
       "      <td>0</td>\n",
       "      <td>0</td>\n",
       "      <td>0</td>\n",
       "    </tr>\n",
       "    <tr>\n",
       "      <th>2</th>\n",
       "      <td>2</td>\n",
       "      <td>2020-01-22</td>\n",
       "      <td>Algeria</td>\n",
       "      <td>0</td>\n",
       "      <td>0</td>\n",
       "      <td>0.0</td>\n",
       "      <td>0.0</td>\n",
       "      <td>0</td>\n",
       "      <td>0</td>\n",
       "      <td>0</td>\n",
       "    </tr>\n",
       "    <tr>\n",
       "      <th>3</th>\n",
       "      <td>3</td>\n",
       "      <td>2020-01-22</td>\n",
       "      <td>Andorra</td>\n",
       "      <td>0</td>\n",
       "      <td>0</td>\n",
       "      <td>0.0</td>\n",
       "      <td>0.0</td>\n",
       "      <td>0</td>\n",
       "      <td>0</td>\n",
       "      <td>0</td>\n",
       "    </tr>\n",
       "    <tr>\n",
       "      <th>4</th>\n",
       "      <td>4</td>\n",
       "      <td>2020-01-22</td>\n",
       "      <td>Angola</td>\n",
       "      <td>0</td>\n",
       "      <td>0</td>\n",
       "      <td>0.0</td>\n",
       "      <td>0.0</td>\n",
       "      <td>0</td>\n",
       "      <td>0</td>\n",
       "      <td>0</td>\n",
       "    </tr>\n",
       "    <tr>\n",
       "      <th>...</th>\n",
       "      <td>...</td>\n",
       "      <td>...</td>\n",
       "      <td>...</td>\n",
       "      <td>...</td>\n",
       "      <td>...</td>\n",
       "      <td>...</td>\n",
       "      <td>...</td>\n",
       "      <td>...</td>\n",
       "      <td>...</td>\n",
       "      <td>...</td>\n",
       "    </tr>\n",
       "    <tr>\n",
       "      <th>35149</th>\n",
       "      <td>35149</td>\n",
       "      <td>2020-07-28</td>\n",
       "      <td>West Bank and Gaza</td>\n",
       "      <td>10938</td>\n",
       "      <td>79</td>\n",
       "      <td>3752.0</td>\n",
       "      <td>7107.0</td>\n",
       "      <td>317</td>\n",
       "      <td>1</td>\n",
       "      <td>0</td>\n",
       "    </tr>\n",
       "    <tr>\n",
       "      <th>35150</th>\n",
       "      <td>35150</td>\n",
       "      <td>2020-07-28</td>\n",
       "      <td>Western Sahara</td>\n",
       "      <td>10</td>\n",
       "      <td>1</td>\n",
       "      <td>8.0</td>\n",
       "      <td>1.0</td>\n",
       "      <td>0</td>\n",
       "      <td>0</td>\n",
       "      <td>0</td>\n",
       "    </tr>\n",
       "    <tr>\n",
       "      <th>35151</th>\n",
       "      <td>35151</td>\n",
       "      <td>2020-07-28</td>\n",
       "      <td>Yemen</td>\n",
       "      <td>1703</td>\n",
       "      <td>484</td>\n",
       "      <td>840.0</td>\n",
       "      <td>379.0</td>\n",
       "      <td>12</td>\n",
       "      <td>1</td>\n",
       "      <td>7</td>\n",
       "    </tr>\n",
       "    <tr>\n",
       "      <th>35152</th>\n",
       "      <td>35152</td>\n",
       "      <td>2020-07-28</td>\n",
       "      <td>Zambia</td>\n",
       "      <td>5002</td>\n",
       "      <td>142</td>\n",
       "      <td>3195.0</td>\n",
       "      <td>1665.0</td>\n",
       "      <td>450</td>\n",
       "      <td>2</td>\n",
       "      <td>380</td>\n",
       "    </tr>\n",
       "    <tr>\n",
       "      <th>35153</th>\n",
       "      <td>35153</td>\n",
       "      <td>2020-07-28</td>\n",
       "      <td>Zimbabwe</td>\n",
       "      <td>2817</td>\n",
       "      <td>40</td>\n",
       "      <td>604.0</td>\n",
       "      <td>2173.0</td>\n",
       "      <td>113</td>\n",
       "      <td>4</td>\n",
       "      <td>62</td>\n",
       "    </tr>\n",
       "  </tbody>\n",
       "</table>\n",
       "<p>35154 rows × 10 columns</p>\n",
       "</div>"
      ],
      "text/plain": [
       "       Unnamed: 0       Date      Country/Region  Confirmed  Deaths  \\\n",
       "0               0 2020-01-22         Afghanistan          0       0   \n",
       "1               1 2020-01-22             Albania          0       0   \n",
       "2               2 2020-01-22             Algeria          0       0   \n",
       "3               3 2020-01-22             Andorra          0       0   \n",
       "4               4 2020-01-22              Angola          0       0   \n",
       "...           ...        ...                 ...        ...     ...   \n",
       "35149       35149 2020-07-28  West Bank and Gaza      10938      79   \n",
       "35150       35150 2020-07-28      Western Sahara         10       1   \n",
       "35151       35151 2020-07-28               Yemen       1703     484   \n",
       "35152       35152 2020-07-28              Zambia       5002     142   \n",
       "35153       35153 2020-07-28            Zimbabwe       2817      40   \n",
       "\n",
       "       Recovered  Active  New cases  New deaths  New recovered  \n",
       "0            0.0     0.0          0           0              0  \n",
       "1            0.0     0.0          0           0              0  \n",
       "2            0.0     0.0          0           0              0  \n",
       "3            0.0     0.0          0           0              0  \n",
       "4            0.0     0.0          0           0              0  \n",
       "...          ...     ...        ...         ...            ...  \n",
       "35149     3752.0  7107.0        317           1              0  \n",
       "35150        8.0     1.0          0           0              0  \n",
       "35151      840.0   379.0         12           1              7  \n",
       "35152     3195.0  1665.0        450           2            380  \n",
       "35153      604.0  2173.0        113           4             62  \n",
       "\n",
       "[35154 rows x 10 columns]"
      ]
     },
     "execution_count": 39,
     "metadata": {},
     "output_type": "execute_result"
    }
   ],
   "source": [
    "full_grouped"
   ]
  },
  {
   "cell_type": "code",
   "execution_count": 40,
   "metadata": {},
   "outputs": [
    {
     "data": {
      "application/vnd.plotly.v1+json": {
       "config": {
        "plotlyServerURL": "https://plot.ly"
       },
       "data": [
        {
         "hovertemplate": "Date=%{x}<br>Confirmed=%{y}<extra></extra>",
         "legendgroup": "",
         "line": {
          "color": "#636efa",
          "dash": "solid"
         },
         "mode": "lines",
         "name": "",
         "orientation": "v",
         "showlegend": false,
         "type": "scatter",
         "x": [
          "2020-01-22T00:00:00",
          "2020-01-23T00:00:00",
          "2020-01-24T00:00:00",
          "2020-01-25T00:00:00",
          "2020-01-26T00:00:00",
          "2020-01-27T00:00:00",
          "2020-01-28T00:00:00",
          "2020-01-29T00:00:00",
          "2020-01-30T00:00:00",
          "2020-01-31T00:00:00",
          "2020-02-01T00:00:00",
          "2020-02-02T00:00:00",
          "2020-02-03T00:00:00",
          "2020-02-04T00:00:00",
          "2020-02-05T00:00:00",
          "2020-02-06T00:00:00",
          "2020-02-07T00:00:00",
          "2020-02-08T00:00:00",
          "2020-02-09T00:00:00",
          "2020-02-10T00:00:00",
          "2020-02-11T00:00:00",
          "2020-02-12T00:00:00",
          "2020-02-13T00:00:00",
          "2020-02-14T00:00:00",
          "2020-02-15T00:00:00",
          "2020-02-16T00:00:00",
          "2020-02-17T00:00:00",
          "2020-02-18T00:00:00",
          "2020-02-19T00:00:00",
          "2020-02-20T00:00:00",
          "2020-02-21T00:00:00",
          "2020-02-22T00:00:00",
          "2020-02-23T00:00:00",
          "2020-02-24T00:00:00",
          "2020-02-25T00:00:00",
          "2020-02-26T00:00:00",
          "2020-02-27T00:00:00",
          "2020-02-28T00:00:00",
          "2020-02-29T00:00:00",
          "2020-03-01T00:00:00",
          "2020-03-02T00:00:00",
          "2020-03-03T00:00:00",
          "2020-03-04T00:00:00",
          "2020-03-05T00:00:00",
          "2020-03-06T00:00:00",
          "2020-03-07T00:00:00",
          "2020-03-08T00:00:00",
          "2020-03-09T00:00:00",
          "2020-03-10T00:00:00",
          "2020-03-11T00:00:00",
          "2020-03-12T00:00:00",
          "2020-03-13T00:00:00",
          "2020-03-14T00:00:00",
          "2020-03-15T00:00:00",
          "2020-03-16T00:00:00",
          "2020-03-17T00:00:00",
          "2020-03-18T00:00:00",
          "2020-03-19T00:00:00",
          "2020-03-20T00:00:00",
          "2020-03-21T00:00:00",
          "2020-03-22T00:00:00",
          "2020-03-23T00:00:00",
          "2020-03-24T00:00:00",
          "2020-03-25T00:00:00",
          "2020-03-26T00:00:00",
          "2020-03-27T00:00:00",
          "2020-03-28T00:00:00",
          "2020-03-29T00:00:00",
          "2020-03-30T00:00:00",
          "2020-03-31T00:00:00",
          "2020-04-01T00:00:00",
          "2020-04-02T00:00:00",
          "2020-04-03T00:00:00",
          "2020-04-04T00:00:00",
          "2020-04-05T00:00:00",
          "2020-04-06T00:00:00",
          "2020-04-07T00:00:00",
          "2020-04-08T00:00:00",
          "2020-04-09T00:00:00",
          "2020-04-10T00:00:00",
          "2020-04-11T00:00:00",
          "2020-04-12T00:00:00",
          "2020-04-13T00:00:00",
          "2020-04-14T00:00:00",
          "2020-04-15T00:00:00",
          "2020-04-16T00:00:00",
          "2020-04-17T00:00:00",
          "2020-04-18T00:00:00",
          "2020-04-19T00:00:00",
          "2020-04-20T00:00:00",
          "2020-04-21T00:00:00",
          "2020-04-22T00:00:00",
          "2020-04-23T00:00:00",
          "2020-04-24T00:00:00",
          "2020-04-25T00:00:00",
          "2020-04-26T00:00:00",
          "2020-04-27T00:00:00",
          "2020-04-28T00:00:00",
          "2020-04-29T00:00:00",
          "2020-04-30T00:00:00",
          "2020-05-01T00:00:00",
          "2020-05-02T00:00:00",
          "2020-05-03T00:00:00",
          "2020-05-04T00:00:00",
          "2020-05-05T00:00:00",
          "2020-05-06T00:00:00",
          "2020-05-07T00:00:00",
          "2020-05-08T00:00:00",
          "2020-05-09T00:00:00",
          "2020-05-10T00:00:00",
          "2020-05-11T00:00:00",
          "2020-05-12T00:00:00",
          "2020-05-13T00:00:00",
          "2020-05-14T00:00:00",
          "2020-05-15T00:00:00",
          "2020-05-16T00:00:00",
          "2020-05-17T00:00:00",
          "2020-05-18T00:00:00",
          "2020-05-19T00:00:00",
          "2020-05-20T00:00:00",
          "2020-05-21T00:00:00",
          "2020-05-22T00:00:00",
          "2020-05-23T00:00:00",
          "2020-05-24T00:00:00",
          "2020-05-25T00:00:00",
          "2020-05-26T00:00:00",
          "2020-05-27T00:00:00",
          "2020-05-28T00:00:00",
          "2020-05-29T00:00:00",
          "2020-05-30T00:00:00",
          "2020-05-31T00:00:00",
          "2020-06-01T00:00:00",
          "2020-06-02T00:00:00",
          "2020-06-03T00:00:00",
          "2020-06-04T00:00:00",
          "2020-06-05T00:00:00",
          "2020-06-06T00:00:00",
          "2020-06-07T00:00:00",
          "2020-06-08T00:00:00",
          "2020-06-09T00:00:00",
          "2020-06-10T00:00:00",
          "2020-06-11T00:00:00",
          "2020-06-12T00:00:00",
          "2020-06-13T00:00:00",
          "2020-06-14T00:00:00",
          "2020-06-15T00:00:00",
          "2020-06-16T00:00:00",
          "2020-06-17T00:00:00",
          "2020-06-18T00:00:00",
          "2020-06-19T00:00:00",
          "2020-06-20T00:00:00",
          "2020-06-21T00:00:00",
          "2020-06-22T00:00:00",
          "2020-06-23T00:00:00",
          "2020-06-24T00:00:00",
          "2020-06-25T00:00:00",
          "2020-06-26T00:00:00",
          "2020-06-27T00:00:00",
          "2020-06-28T00:00:00",
          "2020-06-29T00:00:00",
          "2020-06-30T00:00:00",
          "2020-07-01T00:00:00",
          "2020-07-02T00:00:00",
          "2020-07-03T00:00:00",
          "2020-07-04T00:00:00",
          "2020-07-05T00:00:00",
          "2020-07-06T00:00:00",
          "2020-07-07T00:00:00",
          "2020-07-08T00:00:00",
          "2020-07-09T00:00:00",
          "2020-07-10T00:00:00",
          "2020-07-11T00:00:00",
          "2020-07-12T00:00:00",
          "2020-07-13T00:00:00",
          "2020-07-14T00:00:00",
          "2020-07-15T00:00:00",
          "2020-07-16T00:00:00",
          "2020-07-17T00:00:00",
          "2020-07-18T00:00:00",
          "2020-07-19T00:00:00",
          "2020-07-20T00:00:00",
          "2020-07-21T00:00:00",
          "2020-07-22T00:00:00",
          "2020-07-23T00:00:00",
          "2020-07-24T00:00:00",
          "2020-07-25T00:00:00",
          "2020-07-26T00:00:00",
          "2020-07-27T00:00:00",
          "2020-07-28T00:00:00"
         ],
         "xaxis": "x",
         "y": [
          0,
          0,
          0,
          0,
          1,
          1,
          2,
          2,
          2,
          4,
          4,
          4,
          4,
          4,
          5,
          5,
          7,
          7,
          7,
          7,
          7,
          7,
          7,
          7,
          7,
          7,
          8,
          8,
          8,
          8,
          9,
          9,
          9,
          10,
          11,
          11,
          13,
          14,
          20,
          24,
          27,
          30,
          33,
          37,
          49,
          54,
          64,
          77,
          79,
          108,
          117,
          191,
          196,
          250,
          413,
          470,
          648,
          791,
          933,
          1267,
          1456,
          2075,
          2777,
          3238,
          4029,
          4669,
          5563,
          6267,
          7385,
          8514,
          9547,
          11271,
          12424,
          12965,
          15743,
          16550,
          17859,
          19128,
          20641,
          22046,
          23303,
          24286,
          25667,
          27022,
          28196,
          30796,
          32801,
          34343,
          35620,
          37645,
          39389,
          41650,
          43286,
          44906,
          46358,
          48020,
          49603,
          51137,
          52852,
          54444,
          56329,
          57912,
          60490,
          61943,
          63201,
          64680,
          66187,
          67660,
          68904,
          70077,
          71250,
          72405,
          73554,
          74767,
          75945,
          77192,
          78318,
          79397,
          80479,
          81561,
          82728,
          83933,
          85137,
          86092,
          87105,
          88076,
          88975,
          89962,
          90895,
          91667,
          92465,
          93274,
          93947,
          94628,
          95256,
          95934,
          96462,
          97165,
          97766,
          98228,
          98707,
          99146,
          99582,
          100030,
          100391,
          100750,
          101074,
          101478,
          101864,
          102301,
          102749,
          103065,
          103405,
          103754,
          104074,
          104450,
          104616,
          104865,
          105180,
          105817,
          106084,
          106275,
          106630,
          106949,
          107172,
          107381,
          107802,
          108010,
          108321,
          108643,
          108971,
          109137,
          109335,
          109971,
          110337,
          110680,
          111131,
          111546,
          111862,
          112155,
          112925,
          113460,
          113777,
          114385,
          115102,
          115457,
          115776,
          116458,
          116858
         ],
         "yaxis": "y"
        }
       ],
       "layout": {
        "legend": {
         "tracegroupgap": 0
        },
        "template": {
         "data": {
          "bar": [
           {
            "error_x": {
             "color": "#2a3f5f"
            },
            "error_y": {
             "color": "#2a3f5f"
            },
            "marker": {
             "line": {
              "color": "#E5ECF6",
              "width": 0.5
             }
            },
            "type": "bar"
           }
          ],
          "barpolar": [
           {
            "marker": {
             "line": {
              "color": "#E5ECF6",
              "width": 0.5
             }
            },
            "type": "barpolar"
           }
          ],
          "carpet": [
           {
            "aaxis": {
             "endlinecolor": "#2a3f5f",
             "gridcolor": "white",
             "linecolor": "white",
             "minorgridcolor": "white",
             "startlinecolor": "#2a3f5f"
            },
            "baxis": {
             "endlinecolor": "#2a3f5f",
             "gridcolor": "white",
             "linecolor": "white",
             "minorgridcolor": "white",
             "startlinecolor": "#2a3f5f"
            },
            "type": "carpet"
           }
          ],
          "choropleth": [
           {
            "colorbar": {
             "outlinewidth": 0,
             "ticks": ""
            },
            "type": "choropleth"
           }
          ],
          "contour": [
           {
            "colorbar": {
             "outlinewidth": 0,
             "ticks": ""
            },
            "colorscale": [
             [
              0,
              "#0d0887"
             ],
             [
              0.1111111111111111,
              "#46039f"
             ],
             [
              0.2222222222222222,
              "#7201a8"
             ],
             [
              0.3333333333333333,
              "#9c179e"
             ],
             [
              0.4444444444444444,
              "#bd3786"
             ],
             [
              0.5555555555555556,
              "#d8576b"
             ],
             [
              0.6666666666666666,
              "#ed7953"
             ],
             [
              0.7777777777777778,
              "#fb9f3a"
             ],
             [
              0.8888888888888888,
              "#fdca26"
             ],
             [
              1,
              "#f0f921"
             ]
            ],
            "type": "contour"
           }
          ],
          "contourcarpet": [
           {
            "colorbar": {
             "outlinewidth": 0,
             "ticks": ""
            },
            "type": "contourcarpet"
           }
          ],
          "heatmap": [
           {
            "colorbar": {
             "outlinewidth": 0,
             "ticks": ""
            },
            "colorscale": [
             [
              0,
              "#0d0887"
             ],
             [
              0.1111111111111111,
              "#46039f"
             ],
             [
              0.2222222222222222,
              "#7201a8"
             ],
             [
              0.3333333333333333,
              "#9c179e"
             ],
             [
              0.4444444444444444,
              "#bd3786"
             ],
             [
              0.5555555555555556,
              "#d8576b"
             ],
             [
              0.6666666666666666,
              "#ed7953"
             ],
             [
              0.7777777777777778,
              "#fb9f3a"
             ],
             [
              0.8888888888888888,
              "#fdca26"
             ],
             [
              1,
              "#f0f921"
             ]
            ],
            "type": "heatmap"
           }
          ],
          "heatmapgl": [
           {
            "colorbar": {
             "outlinewidth": 0,
             "ticks": ""
            },
            "colorscale": [
             [
              0,
              "#0d0887"
             ],
             [
              0.1111111111111111,
              "#46039f"
             ],
             [
              0.2222222222222222,
              "#7201a8"
             ],
             [
              0.3333333333333333,
              "#9c179e"
             ],
             [
              0.4444444444444444,
              "#bd3786"
             ],
             [
              0.5555555555555556,
              "#d8576b"
             ],
             [
              0.6666666666666666,
              "#ed7953"
             ],
             [
              0.7777777777777778,
              "#fb9f3a"
             ],
             [
              0.8888888888888888,
              "#fdca26"
             ],
             [
              1,
              "#f0f921"
             ]
            ],
            "type": "heatmapgl"
           }
          ],
          "histogram": [
           {
            "marker": {
             "colorbar": {
              "outlinewidth": 0,
              "ticks": ""
             }
            },
            "type": "histogram"
           }
          ],
          "histogram2d": [
           {
            "colorbar": {
             "outlinewidth": 0,
             "ticks": ""
            },
            "colorscale": [
             [
              0,
              "#0d0887"
             ],
             [
              0.1111111111111111,
              "#46039f"
             ],
             [
              0.2222222222222222,
              "#7201a8"
             ],
             [
              0.3333333333333333,
              "#9c179e"
             ],
             [
              0.4444444444444444,
              "#bd3786"
             ],
             [
              0.5555555555555556,
              "#d8576b"
             ],
             [
              0.6666666666666666,
              "#ed7953"
             ],
             [
              0.7777777777777778,
              "#fb9f3a"
             ],
             [
              0.8888888888888888,
              "#fdca26"
             ],
             [
              1,
              "#f0f921"
             ]
            ],
            "type": "histogram2d"
           }
          ],
          "histogram2dcontour": [
           {
            "colorbar": {
             "outlinewidth": 0,
             "ticks": ""
            },
            "colorscale": [
             [
              0,
              "#0d0887"
             ],
             [
              0.1111111111111111,
              "#46039f"
             ],
             [
              0.2222222222222222,
              "#7201a8"
             ],
             [
              0.3333333333333333,
              "#9c179e"
             ],
             [
              0.4444444444444444,
              "#bd3786"
             ],
             [
              0.5555555555555556,
              "#d8576b"
             ],
             [
              0.6666666666666666,
              "#ed7953"
             ],
             [
              0.7777777777777778,
              "#fb9f3a"
             ],
             [
              0.8888888888888888,
              "#fdca26"
             ],
             [
              1,
              "#f0f921"
             ]
            ],
            "type": "histogram2dcontour"
           }
          ],
          "mesh3d": [
           {
            "colorbar": {
             "outlinewidth": 0,
             "ticks": ""
            },
            "type": "mesh3d"
           }
          ],
          "parcoords": [
           {
            "line": {
             "colorbar": {
              "outlinewidth": 0,
              "ticks": ""
             }
            },
            "type": "parcoords"
           }
          ],
          "pie": [
           {
            "automargin": true,
            "type": "pie"
           }
          ],
          "scatter": [
           {
            "marker": {
             "colorbar": {
              "outlinewidth": 0,
              "ticks": ""
             }
            },
            "type": "scatter"
           }
          ],
          "scatter3d": [
           {
            "line": {
             "colorbar": {
              "outlinewidth": 0,
              "ticks": ""
             }
            },
            "marker": {
             "colorbar": {
              "outlinewidth": 0,
              "ticks": ""
             }
            },
            "type": "scatter3d"
           }
          ],
          "scattercarpet": [
           {
            "marker": {
             "colorbar": {
              "outlinewidth": 0,
              "ticks": ""
             }
            },
            "type": "scattercarpet"
           }
          ],
          "scattergeo": [
           {
            "marker": {
             "colorbar": {
              "outlinewidth": 0,
              "ticks": ""
             }
            },
            "type": "scattergeo"
           }
          ],
          "scattergl": [
           {
            "marker": {
             "colorbar": {
              "outlinewidth": 0,
              "ticks": ""
             }
            },
            "type": "scattergl"
           }
          ],
          "scattermapbox": [
           {
            "marker": {
             "colorbar": {
              "outlinewidth": 0,
              "ticks": ""
             }
            },
            "type": "scattermapbox"
           }
          ],
          "scatterpolar": [
           {
            "marker": {
             "colorbar": {
              "outlinewidth": 0,
              "ticks": ""
             }
            },
            "type": "scatterpolar"
           }
          ],
          "scatterpolargl": [
           {
            "marker": {
             "colorbar": {
              "outlinewidth": 0,
              "ticks": ""
             }
            },
            "type": "scatterpolargl"
           }
          ],
          "scatterternary": [
           {
            "marker": {
             "colorbar": {
              "outlinewidth": 0,
              "ticks": ""
             }
            },
            "type": "scatterternary"
           }
          ],
          "surface": [
           {
            "colorbar": {
             "outlinewidth": 0,
             "ticks": ""
            },
            "colorscale": [
             [
              0,
              "#0d0887"
             ],
             [
              0.1111111111111111,
              "#46039f"
             ],
             [
              0.2222222222222222,
              "#7201a8"
             ],
             [
              0.3333333333333333,
              "#9c179e"
             ],
             [
              0.4444444444444444,
              "#bd3786"
             ],
             [
              0.5555555555555556,
              "#d8576b"
             ],
             [
              0.6666666666666666,
              "#ed7953"
             ],
             [
              0.7777777777777778,
              "#fb9f3a"
             ],
             [
              0.8888888888888888,
              "#fdca26"
             ],
             [
              1,
              "#f0f921"
             ]
            ],
            "type": "surface"
           }
          ],
          "table": [
           {
            "cells": {
             "fill": {
              "color": "#EBF0F8"
             },
             "line": {
              "color": "white"
             }
            },
            "header": {
             "fill": {
              "color": "#C8D4E3"
             },
             "line": {
              "color": "white"
             }
            },
            "type": "table"
           }
          ]
         },
         "layout": {
          "annotationdefaults": {
           "arrowcolor": "#2a3f5f",
           "arrowhead": 0,
           "arrowwidth": 1
          },
          "coloraxis": {
           "colorbar": {
            "outlinewidth": 0,
            "ticks": ""
           }
          },
          "colorscale": {
           "diverging": [
            [
             0,
             "#8e0152"
            ],
            [
             0.1,
             "#c51b7d"
            ],
            [
             0.2,
             "#de77ae"
            ],
            [
             0.3,
             "#f1b6da"
            ],
            [
             0.4,
             "#fde0ef"
            ],
            [
             0.5,
             "#f7f7f7"
            ],
            [
             0.6,
             "#e6f5d0"
            ],
            [
             0.7,
             "#b8e186"
            ],
            [
             0.8,
             "#7fbc41"
            ],
            [
             0.9,
             "#4d9221"
            ],
            [
             1,
             "#276419"
            ]
           ],
           "sequential": [
            [
             0,
             "#0d0887"
            ],
            [
             0.1111111111111111,
             "#46039f"
            ],
            [
             0.2222222222222222,
             "#7201a8"
            ],
            [
             0.3333333333333333,
             "#9c179e"
            ],
            [
             0.4444444444444444,
             "#bd3786"
            ],
            [
             0.5555555555555556,
             "#d8576b"
            ],
            [
             0.6666666666666666,
             "#ed7953"
            ],
            [
             0.7777777777777778,
             "#fb9f3a"
            ],
            [
             0.8888888888888888,
             "#fdca26"
            ],
            [
             1,
             "#f0f921"
            ]
           ],
           "sequentialminus": [
            [
             0,
             "#0d0887"
            ],
            [
             0.1111111111111111,
             "#46039f"
            ],
            [
             0.2222222222222222,
             "#7201a8"
            ],
            [
             0.3333333333333333,
             "#9c179e"
            ],
            [
             0.4444444444444444,
             "#bd3786"
            ],
            [
             0.5555555555555556,
             "#d8576b"
            ],
            [
             0.6666666666666666,
             "#ed7953"
            ],
            [
             0.7777777777777778,
             "#fb9f3a"
            ],
            [
             0.8888888888888888,
             "#fdca26"
            ],
            [
             1,
             "#f0f921"
            ]
           ]
          },
          "colorway": [
           "#636efa",
           "#EF553B",
           "#00cc96",
           "#ab63fa",
           "#FFA15A",
           "#19d3f3",
           "#FF6692",
           "#B6E880",
           "#FF97FF",
           "#FECB52"
          ],
          "font": {
           "color": "#2a3f5f"
          },
          "geo": {
           "bgcolor": "white",
           "lakecolor": "white",
           "landcolor": "#E5ECF6",
           "showlakes": true,
           "showland": true,
           "subunitcolor": "white"
          },
          "hoverlabel": {
           "align": "left"
          },
          "hovermode": "closest",
          "mapbox": {
           "style": "light"
          },
          "paper_bgcolor": "white",
          "plot_bgcolor": "#E5ECF6",
          "polar": {
           "angularaxis": {
            "gridcolor": "white",
            "linecolor": "white",
            "ticks": ""
           },
           "bgcolor": "#E5ECF6",
           "radialaxis": {
            "gridcolor": "white",
            "linecolor": "white",
            "ticks": ""
           }
          },
          "scene": {
           "xaxis": {
            "backgroundcolor": "#E5ECF6",
            "gridcolor": "white",
            "gridwidth": 2,
            "linecolor": "white",
            "showbackground": true,
            "ticks": "",
            "zerolinecolor": "white"
           },
           "yaxis": {
            "backgroundcolor": "#E5ECF6",
            "gridcolor": "white",
            "gridwidth": 2,
            "linecolor": "white",
            "showbackground": true,
            "ticks": "",
            "zerolinecolor": "white"
           },
           "zaxis": {
            "backgroundcolor": "#E5ECF6",
            "gridcolor": "white",
            "gridwidth": 2,
            "linecolor": "white",
            "showbackground": true,
            "ticks": "",
            "zerolinecolor": "white"
           }
          },
          "shapedefaults": {
           "line": {
            "color": "#2a3f5f"
           }
          },
          "ternary": {
           "aaxis": {
            "gridcolor": "white",
            "linecolor": "white",
            "ticks": ""
           },
           "baxis": {
            "gridcolor": "white",
            "linecolor": "white",
            "ticks": ""
           },
           "bgcolor": "#E5ECF6",
           "caxis": {
            "gridcolor": "white",
            "linecolor": "white",
            "ticks": ""
           }
          },
          "title": {
           "x": 0.05
          },
          "xaxis": {
           "automargin": true,
           "gridcolor": "white",
           "linecolor": "white",
           "ticks": "",
           "title": {
            "standoff": 15
           },
           "zerolinecolor": "white",
           "zerolinewidth": 2
          },
          "yaxis": {
           "automargin": true,
           "gridcolor": "white",
           "linecolor": "white",
           "ticks": "",
           "title": {
            "standoff": 15
           },
           "zerolinecolor": "white",
           "zerolinewidth": 2
          }
         }
        },
        "title": {
         "text": "Total Confirmed Cases in Canada"
        },
        "xaxis": {
         "anchor": "y",
         "domain": [
          0,
          1
         ],
         "title": {
          "text": "Date"
         }
        },
        "yaxis": {
         "anchor": "x",
         "domain": [
          0,
          1
         ],
         "title": {
          "text": "Confirmed"
         }
        }
       }
      },
      "text/html": [
       "<div>\n",
       "        \n",
       "        \n",
       "            <div id=\"5e9c8371-f733-45f4-a870-9b00898f19b8\" class=\"plotly-graph-div\" style=\"height:525px; width:100%;\"></div>\n",
       "            <script type=\"text/javascript\">\n",
       "                require([\"plotly\"], function(Plotly) {\n",
       "                    window.PLOTLYENV=window.PLOTLYENV || {};\n",
       "                    \n",
       "                if (document.getElementById(\"5e9c8371-f733-45f4-a870-9b00898f19b8\")) {\n",
       "                    Plotly.newPlot(\n",
       "                        '5e9c8371-f733-45f4-a870-9b00898f19b8',\n",
       "                        [{\"hovertemplate\": \"Date=%{x}<br>Confirmed=%{y}<extra></extra>\", \"legendgroup\": \"\", \"line\": {\"color\": \"#636efa\", \"dash\": \"solid\"}, \"mode\": \"lines\", \"name\": \"\", \"orientation\": \"v\", \"showlegend\": false, \"type\": \"scatter\", \"x\": [\"2020-01-22T00:00:00\", \"2020-01-23T00:00:00\", \"2020-01-24T00:00:00\", \"2020-01-25T00:00:00\", \"2020-01-26T00:00:00\", \"2020-01-27T00:00:00\", \"2020-01-28T00:00:00\", \"2020-01-29T00:00:00\", \"2020-01-30T00:00:00\", \"2020-01-31T00:00:00\", \"2020-02-01T00:00:00\", \"2020-02-02T00:00:00\", \"2020-02-03T00:00:00\", \"2020-02-04T00:00:00\", \"2020-02-05T00:00:00\", \"2020-02-06T00:00:00\", \"2020-02-07T00:00:00\", \"2020-02-08T00:00:00\", \"2020-02-09T00:00:00\", \"2020-02-10T00:00:00\", \"2020-02-11T00:00:00\", \"2020-02-12T00:00:00\", \"2020-02-13T00:00:00\", \"2020-02-14T00:00:00\", \"2020-02-15T00:00:00\", \"2020-02-16T00:00:00\", \"2020-02-17T00:00:00\", \"2020-02-18T00:00:00\", \"2020-02-19T00:00:00\", \"2020-02-20T00:00:00\", \"2020-02-21T00:00:00\", \"2020-02-22T00:00:00\", \"2020-02-23T00:00:00\", \"2020-02-24T00:00:00\", \"2020-02-25T00:00:00\", \"2020-02-26T00:00:00\", \"2020-02-27T00:00:00\", \"2020-02-28T00:00:00\", \"2020-02-29T00:00:00\", \"2020-03-01T00:00:00\", \"2020-03-02T00:00:00\", \"2020-03-03T00:00:00\", \"2020-03-04T00:00:00\", \"2020-03-05T00:00:00\", \"2020-03-06T00:00:00\", \"2020-03-07T00:00:00\", \"2020-03-08T00:00:00\", \"2020-03-09T00:00:00\", \"2020-03-10T00:00:00\", \"2020-03-11T00:00:00\", \"2020-03-12T00:00:00\", \"2020-03-13T00:00:00\", \"2020-03-14T00:00:00\", \"2020-03-15T00:00:00\", \"2020-03-16T00:00:00\", \"2020-03-17T00:00:00\", \"2020-03-18T00:00:00\", \"2020-03-19T00:00:00\", \"2020-03-20T00:00:00\", \"2020-03-21T00:00:00\", \"2020-03-22T00:00:00\", \"2020-03-23T00:00:00\", \"2020-03-24T00:00:00\", \"2020-03-25T00:00:00\", \"2020-03-26T00:00:00\", \"2020-03-27T00:00:00\", \"2020-03-28T00:00:00\", \"2020-03-29T00:00:00\", \"2020-03-30T00:00:00\", \"2020-03-31T00:00:00\", \"2020-04-01T00:00:00\", \"2020-04-02T00:00:00\", \"2020-04-03T00:00:00\", \"2020-04-04T00:00:00\", \"2020-04-05T00:00:00\", \"2020-04-06T00:00:00\", \"2020-04-07T00:00:00\", \"2020-04-08T00:00:00\", \"2020-04-09T00:00:00\", \"2020-04-10T00:00:00\", \"2020-04-11T00:00:00\", \"2020-04-12T00:00:00\", \"2020-04-13T00:00:00\", \"2020-04-14T00:00:00\", \"2020-04-15T00:00:00\", \"2020-04-16T00:00:00\", \"2020-04-17T00:00:00\", \"2020-04-18T00:00:00\", \"2020-04-19T00:00:00\", \"2020-04-20T00:00:00\", \"2020-04-21T00:00:00\", \"2020-04-22T00:00:00\", \"2020-04-23T00:00:00\", \"2020-04-24T00:00:00\", \"2020-04-25T00:00:00\", \"2020-04-26T00:00:00\", \"2020-04-27T00:00:00\", \"2020-04-28T00:00:00\", \"2020-04-29T00:00:00\", \"2020-04-30T00:00:00\", \"2020-05-01T00:00:00\", \"2020-05-02T00:00:00\", \"2020-05-03T00:00:00\", \"2020-05-04T00:00:00\", \"2020-05-05T00:00:00\", \"2020-05-06T00:00:00\", \"2020-05-07T00:00:00\", \"2020-05-08T00:00:00\", \"2020-05-09T00:00:00\", \"2020-05-10T00:00:00\", \"2020-05-11T00:00:00\", \"2020-05-12T00:00:00\", \"2020-05-13T00:00:00\", \"2020-05-14T00:00:00\", \"2020-05-15T00:00:00\", \"2020-05-16T00:00:00\", \"2020-05-17T00:00:00\", \"2020-05-18T00:00:00\", \"2020-05-19T00:00:00\", \"2020-05-20T00:00:00\", \"2020-05-21T00:00:00\", \"2020-05-22T00:00:00\", \"2020-05-23T00:00:00\", \"2020-05-24T00:00:00\", \"2020-05-25T00:00:00\", \"2020-05-26T00:00:00\", \"2020-05-27T00:00:00\", \"2020-05-28T00:00:00\", \"2020-05-29T00:00:00\", \"2020-05-30T00:00:00\", \"2020-05-31T00:00:00\", \"2020-06-01T00:00:00\", \"2020-06-02T00:00:00\", \"2020-06-03T00:00:00\", \"2020-06-04T00:00:00\", \"2020-06-05T00:00:00\", \"2020-06-06T00:00:00\", \"2020-06-07T00:00:00\", \"2020-06-08T00:00:00\", \"2020-06-09T00:00:00\", \"2020-06-10T00:00:00\", \"2020-06-11T00:00:00\", \"2020-06-12T00:00:00\", \"2020-06-13T00:00:00\", \"2020-06-14T00:00:00\", \"2020-06-15T00:00:00\", \"2020-06-16T00:00:00\", \"2020-06-17T00:00:00\", \"2020-06-18T00:00:00\", \"2020-06-19T00:00:00\", \"2020-06-20T00:00:00\", \"2020-06-21T00:00:00\", \"2020-06-22T00:00:00\", \"2020-06-23T00:00:00\", \"2020-06-24T00:00:00\", \"2020-06-25T00:00:00\", \"2020-06-26T00:00:00\", \"2020-06-27T00:00:00\", \"2020-06-28T00:00:00\", \"2020-06-29T00:00:00\", \"2020-06-30T00:00:00\", \"2020-07-01T00:00:00\", \"2020-07-02T00:00:00\", \"2020-07-03T00:00:00\", \"2020-07-04T00:00:00\", \"2020-07-05T00:00:00\", \"2020-07-06T00:00:00\", \"2020-07-07T00:00:00\", \"2020-07-08T00:00:00\", \"2020-07-09T00:00:00\", \"2020-07-10T00:00:00\", \"2020-07-11T00:00:00\", \"2020-07-12T00:00:00\", \"2020-07-13T00:00:00\", \"2020-07-14T00:00:00\", \"2020-07-15T00:00:00\", \"2020-07-16T00:00:00\", \"2020-07-17T00:00:00\", \"2020-07-18T00:00:00\", \"2020-07-19T00:00:00\", \"2020-07-20T00:00:00\", \"2020-07-21T00:00:00\", \"2020-07-22T00:00:00\", \"2020-07-23T00:00:00\", \"2020-07-24T00:00:00\", \"2020-07-25T00:00:00\", \"2020-07-26T00:00:00\", \"2020-07-27T00:00:00\", \"2020-07-28T00:00:00\"], \"xaxis\": \"x\", \"y\": [0, 0, 0, 0, 1, 1, 2, 2, 2, 4, 4, 4, 4, 4, 5, 5, 7, 7, 7, 7, 7, 7, 7, 7, 7, 7, 8, 8, 8, 8, 9, 9, 9, 10, 11, 11, 13, 14, 20, 24, 27, 30, 33, 37, 49, 54, 64, 77, 79, 108, 117, 191, 196, 250, 413, 470, 648, 791, 933, 1267, 1456, 2075, 2777, 3238, 4029, 4669, 5563, 6267, 7385, 8514, 9547, 11271, 12424, 12965, 15743, 16550, 17859, 19128, 20641, 22046, 23303, 24286, 25667, 27022, 28196, 30796, 32801, 34343, 35620, 37645, 39389, 41650, 43286, 44906, 46358, 48020, 49603, 51137, 52852, 54444, 56329, 57912, 60490, 61943, 63201, 64680, 66187, 67660, 68904, 70077, 71250, 72405, 73554, 74767, 75945, 77192, 78318, 79397, 80479, 81561, 82728, 83933, 85137, 86092, 87105, 88076, 88975, 89962, 90895, 91667, 92465, 93274, 93947, 94628, 95256, 95934, 96462, 97165, 97766, 98228, 98707, 99146, 99582, 100030, 100391, 100750, 101074, 101478, 101864, 102301, 102749, 103065, 103405, 103754, 104074, 104450, 104616, 104865, 105180, 105817, 106084, 106275, 106630, 106949, 107172, 107381, 107802, 108010, 108321, 108643, 108971, 109137, 109335, 109971, 110337, 110680, 111131, 111546, 111862, 112155, 112925, 113460, 113777, 114385, 115102, 115457, 115776, 116458, 116858], \"yaxis\": \"y\"}],\n",
       "                        {\"legend\": {\"tracegroupgap\": 0}, \"template\": {\"data\": {\"bar\": [{\"error_x\": {\"color\": \"#2a3f5f\"}, \"error_y\": {\"color\": \"#2a3f5f\"}, \"marker\": {\"line\": {\"color\": \"#E5ECF6\", \"width\": 0.5}}, \"type\": \"bar\"}], \"barpolar\": [{\"marker\": {\"line\": {\"color\": \"#E5ECF6\", \"width\": 0.5}}, \"type\": \"barpolar\"}], \"carpet\": [{\"aaxis\": {\"endlinecolor\": \"#2a3f5f\", \"gridcolor\": \"white\", \"linecolor\": \"white\", \"minorgridcolor\": \"white\", \"startlinecolor\": \"#2a3f5f\"}, \"baxis\": {\"endlinecolor\": \"#2a3f5f\", \"gridcolor\": \"white\", \"linecolor\": \"white\", \"minorgridcolor\": \"white\", \"startlinecolor\": \"#2a3f5f\"}, \"type\": \"carpet\"}], \"choropleth\": [{\"colorbar\": {\"outlinewidth\": 0, \"ticks\": \"\"}, \"type\": \"choropleth\"}], \"contour\": [{\"colorbar\": {\"outlinewidth\": 0, \"ticks\": \"\"}, \"colorscale\": [[0.0, \"#0d0887\"], [0.1111111111111111, \"#46039f\"], [0.2222222222222222, \"#7201a8\"], [0.3333333333333333, \"#9c179e\"], [0.4444444444444444, \"#bd3786\"], [0.5555555555555556, \"#d8576b\"], [0.6666666666666666, \"#ed7953\"], [0.7777777777777778, \"#fb9f3a\"], [0.8888888888888888, \"#fdca26\"], [1.0, \"#f0f921\"]], \"type\": \"contour\"}], \"contourcarpet\": [{\"colorbar\": {\"outlinewidth\": 0, \"ticks\": \"\"}, \"type\": \"contourcarpet\"}], \"heatmap\": [{\"colorbar\": {\"outlinewidth\": 0, \"ticks\": \"\"}, \"colorscale\": [[0.0, \"#0d0887\"], [0.1111111111111111, \"#46039f\"], [0.2222222222222222, \"#7201a8\"], [0.3333333333333333, \"#9c179e\"], [0.4444444444444444, \"#bd3786\"], [0.5555555555555556, \"#d8576b\"], [0.6666666666666666, \"#ed7953\"], [0.7777777777777778, \"#fb9f3a\"], [0.8888888888888888, \"#fdca26\"], [1.0, \"#f0f921\"]], \"type\": \"heatmap\"}], \"heatmapgl\": [{\"colorbar\": {\"outlinewidth\": 0, \"ticks\": \"\"}, \"colorscale\": [[0.0, \"#0d0887\"], [0.1111111111111111, \"#46039f\"], [0.2222222222222222, \"#7201a8\"], [0.3333333333333333, \"#9c179e\"], [0.4444444444444444, \"#bd3786\"], [0.5555555555555556, \"#d8576b\"], [0.6666666666666666, \"#ed7953\"], [0.7777777777777778, \"#fb9f3a\"], [0.8888888888888888, \"#fdca26\"], [1.0, \"#f0f921\"]], \"type\": \"heatmapgl\"}], \"histogram\": [{\"marker\": {\"colorbar\": {\"outlinewidth\": 0, \"ticks\": \"\"}}, \"type\": \"histogram\"}], \"histogram2d\": [{\"colorbar\": {\"outlinewidth\": 0, \"ticks\": \"\"}, \"colorscale\": [[0.0, \"#0d0887\"], [0.1111111111111111, \"#46039f\"], [0.2222222222222222, \"#7201a8\"], [0.3333333333333333, \"#9c179e\"], [0.4444444444444444, \"#bd3786\"], [0.5555555555555556, \"#d8576b\"], [0.6666666666666666, \"#ed7953\"], [0.7777777777777778, \"#fb9f3a\"], [0.8888888888888888, \"#fdca26\"], [1.0, \"#f0f921\"]], \"type\": \"histogram2d\"}], \"histogram2dcontour\": [{\"colorbar\": {\"outlinewidth\": 0, \"ticks\": \"\"}, \"colorscale\": [[0.0, \"#0d0887\"], [0.1111111111111111, \"#46039f\"], [0.2222222222222222, \"#7201a8\"], [0.3333333333333333, \"#9c179e\"], [0.4444444444444444, \"#bd3786\"], [0.5555555555555556, \"#d8576b\"], [0.6666666666666666, \"#ed7953\"], [0.7777777777777778, \"#fb9f3a\"], [0.8888888888888888, \"#fdca26\"], [1.0, \"#f0f921\"]], \"type\": \"histogram2dcontour\"}], \"mesh3d\": [{\"colorbar\": {\"outlinewidth\": 0, \"ticks\": \"\"}, \"type\": \"mesh3d\"}], \"parcoords\": [{\"line\": {\"colorbar\": {\"outlinewidth\": 0, \"ticks\": \"\"}}, \"type\": \"parcoords\"}], \"pie\": [{\"automargin\": true, \"type\": \"pie\"}], \"scatter\": [{\"marker\": {\"colorbar\": {\"outlinewidth\": 0, \"ticks\": \"\"}}, \"type\": \"scatter\"}], \"scatter3d\": [{\"line\": {\"colorbar\": {\"outlinewidth\": 0, \"ticks\": \"\"}}, \"marker\": {\"colorbar\": {\"outlinewidth\": 0, \"ticks\": \"\"}}, \"type\": \"scatter3d\"}], \"scattercarpet\": [{\"marker\": {\"colorbar\": {\"outlinewidth\": 0, \"ticks\": \"\"}}, \"type\": \"scattercarpet\"}], \"scattergeo\": [{\"marker\": {\"colorbar\": {\"outlinewidth\": 0, \"ticks\": \"\"}}, \"type\": \"scattergeo\"}], \"scattergl\": [{\"marker\": {\"colorbar\": {\"outlinewidth\": 0, \"ticks\": \"\"}}, \"type\": \"scattergl\"}], \"scattermapbox\": [{\"marker\": {\"colorbar\": {\"outlinewidth\": 0, \"ticks\": \"\"}}, \"type\": \"scattermapbox\"}], \"scatterpolar\": [{\"marker\": {\"colorbar\": {\"outlinewidth\": 0, \"ticks\": \"\"}}, \"type\": \"scatterpolar\"}], \"scatterpolargl\": [{\"marker\": {\"colorbar\": {\"outlinewidth\": 0, \"ticks\": \"\"}}, \"type\": \"scatterpolargl\"}], \"scatterternary\": [{\"marker\": {\"colorbar\": {\"outlinewidth\": 0, \"ticks\": \"\"}}, \"type\": \"scatterternary\"}], \"surface\": [{\"colorbar\": {\"outlinewidth\": 0, \"ticks\": \"\"}, \"colorscale\": [[0.0, \"#0d0887\"], [0.1111111111111111, \"#46039f\"], [0.2222222222222222, \"#7201a8\"], [0.3333333333333333, \"#9c179e\"], [0.4444444444444444, \"#bd3786\"], [0.5555555555555556, \"#d8576b\"], [0.6666666666666666, \"#ed7953\"], [0.7777777777777778, \"#fb9f3a\"], [0.8888888888888888, \"#fdca26\"], [1.0, \"#f0f921\"]], \"type\": \"surface\"}], \"table\": [{\"cells\": {\"fill\": {\"color\": \"#EBF0F8\"}, \"line\": {\"color\": \"white\"}}, \"header\": {\"fill\": {\"color\": \"#C8D4E3\"}, \"line\": {\"color\": \"white\"}}, \"type\": \"table\"}]}, \"layout\": {\"annotationdefaults\": {\"arrowcolor\": \"#2a3f5f\", \"arrowhead\": 0, \"arrowwidth\": 1}, \"coloraxis\": {\"colorbar\": {\"outlinewidth\": 0, \"ticks\": \"\"}}, \"colorscale\": {\"diverging\": [[0, \"#8e0152\"], [0.1, \"#c51b7d\"], [0.2, \"#de77ae\"], [0.3, \"#f1b6da\"], [0.4, \"#fde0ef\"], [0.5, \"#f7f7f7\"], [0.6, \"#e6f5d0\"], [0.7, \"#b8e186\"], [0.8, \"#7fbc41\"], [0.9, \"#4d9221\"], [1, \"#276419\"]], \"sequential\": [[0.0, \"#0d0887\"], [0.1111111111111111, \"#46039f\"], [0.2222222222222222, \"#7201a8\"], [0.3333333333333333, \"#9c179e\"], [0.4444444444444444, \"#bd3786\"], [0.5555555555555556, \"#d8576b\"], [0.6666666666666666, \"#ed7953\"], [0.7777777777777778, \"#fb9f3a\"], [0.8888888888888888, \"#fdca26\"], [1.0, \"#f0f921\"]], \"sequentialminus\": [[0.0, \"#0d0887\"], [0.1111111111111111, \"#46039f\"], [0.2222222222222222, \"#7201a8\"], [0.3333333333333333, \"#9c179e\"], [0.4444444444444444, \"#bd3786\"], [0.5555555555555556, \"#d8576b\"], [0.6666666666666666, \"#ed7953\"], [0.7777777777777778, \"#fb9f3a\"], [0.8888888888888888, \"#fdca26\"], [1.0, \"#f0f921\"]]}, \"colorway\": [\"#636efa\", \"#EF553B\", \"#00cc96\", \"#ab63fa\", \"#FFA15A\", \"#19d3f3\", \"#FF6692\", \"#B6E880\", \"#FF97FF\", \"#FECB52\"], \"font\": {\"color\": \"#2a3f5f\"}, \"geo\": {\"bgcolor\": \"white\", \"lakecolor\": \"white\", \"landcolor\": \"#E5ECF6\", \"showlakes\": true, \"showland\": true, \"subunitcolor\": \"white\"}, \"hoverlabel\": {\"align\": \"left\"}, \"hovermode\": \"closest\", \"mapbox\": {\"style\": \"light\"}, \"paper_bgcolor\": \"white\", \"plot_bgcolor\": \"#E5ECF6\", \"polar\": {\"angularaxis\": {\"gridcolor\": \"white\", \"linecolor\": \"white\", \"ticks\": \"\"}, \"bgcolor\": \"#E5ECF6\", \"radialaxis\": {\"gridcolor\": \"white\", \"linecolor\": \"white\", \"ticks\": \"\"}}, \"scene\": {\"xaxis\": {\"backgroundcolor\": \"#E5ECF6\", \"gridcolor\": \"white\", \"gridwidth\": 2, \"linecolor\": \"white\", \"showbackground\": true, \"ticks\": \"\", \"zerolinecolor\": \"white\"}, \"yaxis\": {\"backgroundcolor\": \"#E5ECF6\", \"gridcolor\": \"white\", \"gridwidth\": 2, \"linecolor\": \"white\", \"showbackground\": true, \"ticks\": \"\", \"zerolinecolor\": \"white\"}, \"zaxis\": {\"backgroundcolor\": \"#E5ECF6\", \"gridcolor\": \"white\", \"gridwidth\": 2, \"linecolor\": \"white\", \"showbackground\": true, \"ticks\": \"\", \"zerolinecolor\": \"white\"}}, \"shapedefaults\": {\"line\": {\"color\": \"#2a3f5f\"}}, \"ternary\": {\"aaxis\": {\"gridcolor\": \"white\", \"linecolor\": \"white\", \"ticks\": \"\"}, \"baxis\": {\"gridcolor\": \"white\", \"linecolor\": \"white\", \"ticks\": \"\"}, \"bgcolor\": \"#E5ECF6\", \"caxis\": {\"gridcolor\": \"white\", \"linecolor\": \"white\", \"ticks\": \"\"}}, \"title\": {\"x\": 0.05}, \"xaxis\": {\"automargin\": true, \"gridcolor\": \"white\", \"linecolor\": \"white\", \"ticks\": \"\", \"title\": {\"standoff\": 15}, \"zerolinecolor\": \"white\", \"zerolinewidth\": 2}, \"yaxis\": {\"automargin\": true, \"gridcolor\": \"white\", \"linecolor\": \"white\", \"ticks\": \"\", \"title\": {\"standoff\": 15}, \"zerolinecolor\": \"white\", \"zerolinewidth\": 2}}}, \"title\": {\"text\": \"Total Confirmed Cases in Canada\"}, \"xaxis\": {\"anchor\": \"y\", \"domain\": [0.0, 1.0], \"title\": {\"text\": \"Date\"}}, \"yaxis\": {\"anchor\": \"x\", \"domain\": [0.0, 1.0], \"title\": {\"text\": \"Confirmed\"}}},\n",
       "                        {\"responsive\": true}\n",
       "                    ).then(function(){\n",
       "                            \n",
       "var gd = document.getElementById('5e9c8371-f733-45f4-a870-9b00898f19b8');\n",
       "var x = new MutationObserver(function (mutations, observer) {{\n",
       "        var display = window.getComputedStyle(gd).display;\n",
       "        if (!display || display === 'none') {{\n",
       "            console.log([gd, 'removed!']);\n",
       "            Plotly.purge(gd);\n",
       "            observer.disconnect();\n",
       "        }}\n",
       "}});\n",
       "\n",
       "// Listen for the removal of the full notebook cells\n",
       "var notebookContainer = gd.closest('#notebook-container');\n",
       "if (notebookContainer) {{\n",
       "    x.observe(notebookContainer, {childList: true});\n",
       "}}\n",
       "\n",
       "// Listen for the clearing of the current output cell\n",
       "var outputEl = gd.closest('.output');\n",
       "if (outputEl) {{\n",
       "    x.observe(outputEl, {childList: true});\n",
       "}}\n",
       "\n",
       "                        })\n",
       "                };\n",
       "                });\n",
       "            </script>\n",
       "        </div>"
      ]
     },
     "metadata": {},
     "output_type": "display_data"
    }
   ],
   "source": [
    "fig = px.line(canada, x=\"Date\", y=\"Confirmed\", title='Total Confirmed Cases in Canada')\n",
    "fig.show()"
   ]
  },
  {
   "cell_type": "code",
   "execution_count": 41,
   "metadata": {},
   "outputs": [
    {
     "data": {
      "application/vnd.plotly.v1+json": {
       "config": {
        "plotlyServerURL": "https://plot.ly"
       },
       "data": [
        {
         "hovertemplate": "Date=%{x}<br>Recovered=%{y}<extra></extra>",
         "legendgroup": "",
         "line": {
          "color": "#636efa",
          "dash": "solid"
         },
         "mode": "lines",
         "name": "",
         "orientation": "v",
         "showlegend": false,
         "type": "scatter",
         "x": [
          "2020-01-22T00:00:00",
          "2020-01-23T00:00:00",
          "2020-01-24T00:00:00",
          "2020-01-25T00:00:00",
          "2020-01-26T00:00:00",
          "2020-01-27T00:00:00",
          "2020-01-28T00:00:00",
          "2020-01-29T00:00:00",
          "2020-01-30T00:00:00",
          "2020-01-31T00:00:00",
          "2020-02-01T00:00:00",
          "2020-02-02T00:00:00",
          "2020-02-03T00:00:00",
          "2020-02-04T00:00:00",
          "2020-02-05T00:00:00",
          "2020-02-06T00:00:00",
          "2020-02-07T00:00:00",
          "2020-02-08T00:00:00",
          "2020-02-09T00:00:00",
          "2020-02-10T00:00:00",
          "2020-02-11T00:00:00",
          "2020-02-12T00:00:00",
          "2020-02-13T00:00:00",
          "2020-02-14T00:00:00",
          "2020-02-15T00:00:00",
          "2020-02-16T00:00:00",
          "2020-02-17T00:00:00",
          "2020-02-18T00:00:00",
          "2020-02-19T00:00:00",
          "2020-02-20T00:00:00",
          "2020-02-21T00:00:00",
          "2020-02-22T00:00:00",
          "2020-02-23T00:00:00",
          "2020-02-24T00:00:00",
          "2020-02-25T00:00:00",
          "2020-02-26T00:00:00",
          "2020-02-27T00:00:00",
          "2020-02-28T00:00:00",
          "2020-02-29T00:00:00",
          "2020-03-01T00:00:00",
          "2020-03-02T00:00:00",
          "2020-03-03T00:00:00",
          "2020-03-04T00:00:00",
          "2020-03-05T00:00:00",
          "2020-03-06T00:00:00",
          "2020-03-07T00:00:00",
          "2020-03-08T00:00:00",
          "2020-03-09T00:00:00",
          "2020-03-10T00:00:00",
          "2020-03-11T00:00:00",
          "2020-03-12T00:00:00",
          "2020-03-13T00:00:00",
          "2020-03-14T00:00:00",
          "2020-03-15T00:00:00",
          "2020-03-16T00:00:00",
          "2020-03-17T00:00:00",
          "2020-03-18T00:00:00",
          "2020-03-19T00:00:00",
          "2020-03-20T00:00:00",
          "2020-03-21T00:00:00",
          "2020-03-22T00:00:00",
          "2020-03-23T00:00:00",
          "2020-03-24T00:00:00",
          "2020-03-25T00:00:00",
          "2020-03-26T00:00:00",
          "2020-03-27T00:00:00",
          "2020-03-28T00:00:00",
          "2020-03-29T00:00:00",
          "2020-03-30T00:00:00",
          "2020-03-31T00:00:00",
          "2020-04-01T00:00:00",
          "2020-04-02T00:00:00",
          "2020-04-03T00:00:00",
          "2020-04-04T00:00:00",
          "2020-04-05T00:00:00",
          "2020-04-06T00:00:00",
          "2020-04-07T00:00:00",
          "2020-04-08T00:00:00",
          "2020-04-09T00:00:00",
          "2020-04-10T00:00:00",
          "2020-04-11T00:00:00",
          "2020-04-12T00:00:00",
          "2020-04-13T00:00:00",
          "2020-04-14T00:00:00",
          "2020-04-15T00:00:00",
          "2020-04-16T00:00:00",
          "2020-04-17T00:00:00",
          "2020-04-18T00:00:00",
          "2020-04-19T00:00:00",
          "2020-04-20T00:00:00",
          "2020-04-21T00:00:00",
          "2020-04-22T00:00:00",
          "2020-04-23T00:00:00",
          "2020-04-24T00:00:00",
          "2020-04-25T00:00:00",
          "2020-04-26T00:00:00",
          "2020-04-27T00:00:00",
          "2020-04-28T00:00:00",
          "2020-04-29T00:00:00",
          "2020-04-30T00:00:00",
          "2020-05-01T00:00:00",
          "2020-05-02T00:00:00",
          "2020-05-03T00:00:00",
          "2020-05-04T00:00:00",
          "2020-05-05T00:00:00",
          "2020-05-06T00:00:00",
          "2020-05-07T00:00:00",
          "2020-05-08T00:00:00",
          "2020-05-09T00:00:00",
          "2020-05-10T00:00:00",
          "2020-05-11T00:00:00",
          "2020-05-12T00:00:00",
          "2020-05-13T00:00:00",
          "2020-05-14T00:00:00",
          "2020-05-15T00:00:00",
          "2020-05-16T00:00:00",
          "2020-05-17T00:00:00",
          "2020-05-18T00:00:00",
          "2020-05-19T00:00:00",
          "2020-05-20T00:00:00",
          "2020-05-21T00:00:00",
          "2020-05-22T00:00:00",
          "2020-05-23T00:00:00",
          "2020-05-24T00:00:00",
          "2020-05-25T00:00:00",
          "2020-05-26T00:00:00",
          "2020-05-27T00:00:00",
          "2020-05-28T00:00:00",
          "2020-05-29T00:00:00",
          "2020-05-30T00:00:00",
          "2020-05-31T00:00:00",
          "2020-06-01T00:00:00",
          "2020-06-02T00:00:00",
          "2020-06-03T00:00:00",
          "2020-06-04T00:00:00",
          "2020-06-05T00:00:00",
          "2020-06-06T00:00:00",
          "2020-06-07T00:00:00",
          "2020-06-08T00:00:00",
          "2020-06-09T00:00:00",
          "2020-06-10T00:00:00",
          "2020-06-11T00:00:00",
          "2020-06-12T00:00:00",
          "2020-06-13T00:00:00",
          "2020-06-14T00:00:00",
          "2020-06-15T00:00:00",
          "2020-06-16T00:00:00",
          "2020-06-17T00:00:00",
          "2020-06-18T00:00:00",
          "2020-06-19T00:00:00",
          "2020-06-20T00:00:00",
          "2020-06-21T00:00:00",
          "2020-06-22T00:00:00",
          "2020-06-23T00:00:00",
          "2020-06-24T00:00:00",
          "2020-06-25T00:00:00",
          "2020-06-26T00:00:00",
          "2020-06-27T00:00:00",
          "2020-06-28T00:00:00",
          "2020-06-29T00:00:00",
          "2020-06-30T00:00:00",
          "2020-07-01T00:00:00",
          "2020-07-02T00:00:00",
          "2020-07-03T00:00:00",
          "2020-07-04T00:00:00",
          "2020-07-05T00:00:00",
          "2020-07-06T00:00:00",
          "2020-07-07T00:00:00",
          "2020-07-08T00:00:00",
          "2020-07-09T00:00:00",
          "2020-07-10T00:00:00",
          "2020-07-11T00:00:00",
          "2020-07-12T00:00:00",
          "2020-07-13T00:00:00",
          "2020-07-14T00:00:00",
          "2020-07-15T00:00:00",
          "2020-07-16T00:00:00",
          "2020-07-17T00:00:00",
          "2020-07-18T00:00:00",
          "2020-07-19T00:00:00",
          "2020-07-20T00:00:00",
          "2020-07-21T00:00:00",
          "2020-07-22T00:00:00",
          "2020-07-23T00:00:00",
          "2020-07-24T00:00:00",
          "2020-07-25T00:00:00",
          "2020-07-26T00:00:00",
          "2020-07-27T00:00:00",
          "2020-07-28T00:00:00"
         ],
         "xaxis": "x",
         "y": [
          0,
          0,
          0,
          0,
          0,
          0,
          0,
          0,
          0,
          0,
          0,
          0,
          0,
          0,
          0,
          0,
          0,
          0,
          0,
          0,
          0,
          1,
          1,
          1,
          1,
          1,
          1,
          1,
          1,
          1,
          3,
          3,
          3,
          3,
          3,
          3,
          6,
          6,
          6,
          6,
          6,
          6,
          6,
          6,
          6,
          8,
          8,
          8,
          8,
          8,
          8,
          8,
          8,
          8,
          9,
          9,
          9,
          9,
          9,
          10,
          10,
          10,
          110,
          183,
          184,
          256,
          466,
          466,
          466,
          1592,
          1324,
          1735,
          2175,
          2577,
          3012,
          3256,
          3791,
          4154,
          5162,
          5855,
          6589,
          7123,
          7758,
          8210,
          8966,
          9698,
          10545,
          10964,
          11847,
          12543,
          13188,
          14454,
          14761,
          15149,
          16013,
          16883,
          18268,
          19231,
          20327,
          21424,
          22764,
          23814,
          24921,
          26030,
          27006,
          28184,
          29260,
          30239,
          31262,
          32109,
          33007,
          34055,
          35177,
          36104,
          36908,
          37832,
          38563,
          39251,
          40069,
          40793,
          41731,
          42608,
          43318,
          43998,
          44651,
          45352,
          46248,
          46961,
          47905,
          48517,
          49213,
          50091,
          50725,
          51506,
          52184,
          53074,
          54087,
          54675,
          55343,
          56117,
          57215,
          58131,
          59034,
          59851,
          60668,
          61466,
          61899,
          63280,
          63782,
          64318,
          64826,
          65249,
          65721,
          66135,
          66533,
          66869,
          67182,
          67445,
          67689,
          68698,
          69120,
          69397,
          69872,
          70232,
          70507,
          70772,
          71141,
          71418,
          71805,
          72095,
          72466,
          72784,
          72954,
          73381,
          73713,
          74067,
          74433,
          98281,
          98436,
          98564,
          98975,
          99248,
          99501,
          99937,
          100504,
          100765,
          100969,
          101447,
          101686
         ],
         "yaxis": "y"
        }
       ],
       "layout": {
        "legend": {
         "tracegroupgap": 0
        },
        "template": {
         "data": {
          "bar": [
           {
            "error_x": {
             "color": "#2a3f5f"
            },
            "error_y": {
             "color": "#2a3f5f"
            },
            "marker": {
             "line": {
              "color": "#E5ECF6",
              "width": 0.5
             }
            },
            "type": "bar"
           }
          ],
          "barpolar": [
           {
            "marker": {
             "line": {
              "color": "#E5ECF6",
              "width": 0.5
             }
            },
            "type": "barpolar"
           }
          ],
          "carpet": [
           {
            "aaxis": {
             "endlinecolor": "#2a3f5f",
             "gridcolor": "white",
             "linecolor": "white",
             "minorgridcolor": "white",
             "startlinecolor": "#2a3f5f"
            },
            "baxis": {
             "endlinecolor": "#2a3f5f",
             "gridcolor": "white",
             "linecolor": "white",
             "minorgridcolor": "white",
             "startlinecolor": "#2a3f5f"
            },
            "type": "carpet"
           }
          ],
          "choropleth": [
           {
            "colorbar": {
             "outlinewidth": 0,
             "ticks": ""
            },
            "type": "choropleth"
           }
          ],
          "contour": [
           {
            "colorbar": {
             "outlinewidth": 0,
             "ticks": ""
            },
            "colorscale": [
             [
              0,
              "#0d0887"
             ],
             [
              0.1111111111111111,
              "#46039f"
             ],
             [
              0.2222222222222222,
              "#7201a8"
             ],
             [
              0.3333333333333333,
              "#9c179e"
             ],
             [
              0.4444444444444444,
              "#bd3786"
             ],
             [
              0.5555555555555556,
              "#d8576b"
             ],
             [
              0.6666666666666666,
              "#ed7953"
             ],
             [
              0.7777777777777778,
              "#fb9f3a"
             ],
             [
              0.8888888888888888,
              "#fdca26"
             ],
             [
              1,
              "#f0f921"
             ]
            ],
            "type": "contour"
           }
          ],
          "contourcarpet": [
           {
            "colorbar": {
             "outlinewidth": 0,
             "ticks": ""
            },
            "type": "contourcarpet"
           }
          ],
          "heatmap": [
           {
            "colorbar": {
             "outlinewidth": 0,
             "ticks": ""
            },
            "colorscale": [
             [
              0,
              "#0d0887"
             ],
             [
              0.1111111111111111,
              "#46039f"
             ],
             [
              0.2222222222222222,
              "#7201a8"
             ],
             [
              0.3333333333333333,
              "#9c179e"
             ],
             [
              0.4444444444444444,
              "#bd3786"
             ],
             [
              0.5555555555555556,
              "#d8576b"
             ],
             [
              0.6666666666666666,
              "#ed7953"
             ],
             [
              0.7777777777777778,
              "#fb9f3a"
             ],
             [
              0.8888888888888888,
              "#fdca26"
             ],
             [
              1,
              "#f0f921"
             ]
            ],
            "type": "heatmap"
           }
          ],
          "heatmapgl": [
           {
            "colorbar": {
             "outlinewidth": 0,
             "ticks": ""
            },
            "colorscale": [
             [
              0,
              "#0d0887"
             ],
             [
              0.1111111111111111,
              "#46039f"
             ],
             [
              0.2222222222222222,
              "#7201a8"
             ],
             [
              0.3333333333333333,
              "#9c179e"
             ],
             [
              0.4444444444444444,
              "#bd3786"
             ],
             [
              0.5555555555555556,
              "#d8576b"
             ],
             [
              0.6666666666666666,
              "#ed7953"
             ],
             [
              0.7777777777777778,
              "#fb9f3a"
             ],
             [
              0.8888888888888888,
              "#fdca26"
             ],
             [
              1,
              "#f0f921"
             ]
            ],
            "type": "heatmapgl"
           }
          ],
          "histogram": [
           {
            "marker": {
             "colorbar": {
              "outlinewidth": 0,
              "ticks": ""
             }
            },
            "type": "histogram"
           }
          ],
          "histogram2d": [
           {
            "colorbar": {
             "outlinewidth": 0,
             "ticks": ""
            },
            "colorscale": [
             [
              0,
              "#0d0887"
             ],
             [
              0.1111111111111111,
              "#46039f"
             ],
             [
              0.2222222222222222,
              "#7201a8"
             ],
             [
              0.3333333333333333,
              "#9c179e"
             ],
             [
              0.4444444444444444,
              "#bd3786"
             ],
             [
              0.5555555555555556,
              "#d8576b"
             ],
             [
              0.6666666666666666,
              "#ed7953"
             ],
             [
              0.7777777777777778,
              "#fb9f3a"
             ],
             [
              0.8888888888888888,
              "#fdca26"
             ],
             [
              1,
              "#f0f921"
             ]
            ],
            "type": "histogram2d"
           }
          ],
          "histogram2dcontour": [
           {
            "colorbar": {
             "outlinewidth": 0,
             "ticks": ""
            },
            "colorscale": [
             [
              0,
              "#0d0887"
             ],
             [
              0.1111111111111111,
              "#46039f"
             ],
             [
              0.2222222222222222,
              "#7201a8"
             ],
             [
              0.3333333333333333,
              "#9c179e"
             ],
             [
              0.4444444444444444,
              "#bd3786"
             ],
             [
              0.5555555555555556,
              "#d8576b"
             ],
             [
              0.6666666666666666,
              "#ed7953"
             ],
             [
              0.7777777777777778,
              "#fb9f3a"
             ],
             [
              0.8888888888888888,
              "#fdca26"
             ],
             [
              1,
              "#f0f921"
             ]
            ],
            "type": "histogram2dcontour"
           }
          ],
          "mesh3d": [
           {
            "colorbar": {
             "outlinewidth": 0,
             "ticks": ""
            },
            "type": "mesh3d"
           }
          ],
          "parcoords": [
           {
            "line": {
             "colorbar": {
              "outlinewidth": 0,
              "ticks": ""
             }
            },
            "type": "parcoords"
           }
          ],
          "pie": [
           {
            "automargin": true,
            "type": "pie"
           }
          ],
          "scatter": [
           {
            "marker": {
             "colorbar": {
              "outlinewidth": 0,
              "ticks": ""
             }
            },
            "type": "scatter"
           }
          ],
          "scatter3d": [
           {
            "line": {
             "colorbar": {
              "outlinewidth": 0,
              "ticks": ""
             }
            },
            "marker": {
             "colorbar": {
              "outlinewidth": 0,
              "ticks": ""
             }
            },
            "type": "scatter3d"
           }
          ],
          "scattercarpet": [
           {
            "marker": {
             "colorbar": {
              "outlinewidth": 0,
              "ticks": ""
             }
            },
            "type": "scattercarpet"
           }
          ],
          "scattergeo": [
           {
            "marker": {
             "colorbar": {
              "outlinewidth": 0,
              "ticks": ""
             }
            },
            "type": "scattergeo"
           }
          ],
          "scattergl": [
           {
            "marker": {
             "colorbar": {
              "outlinewidth": 0,
              "ticks": ""
             }
            },
            "type": "scattergl"
           }
          ],
          "scattermapbox": [
           {
            "marker": {
             "colorbar": {
              "outlinewidth": 0,
              "ticks": ""
             }
            },
            "type": "scattermapbox"
           }
          ],
          "scatterpolar": [
           {
            "marker": {
             "colorbar": {
              "outlinewidth": 0,
              "ticks": ""
             }
            },
            "type": "scatterpolar"
           }
          ],
          "scatterpolargl": [
           {
            "marker": {
             "colorbar": {
              "outlinewidth": 0,
              "ticks": ""
             }
            },
            "type": "scatterpolargl"
           }
          ],
          "scatterternary": [
           {
            "marker": {
             "colorbar": {
              "outlinewidth": 0,
              "ticks": ""
             }
            },
            "type": "scatterternary"
           }
          ],
          "surface": [
           {
            "colorbar": {
             "outlinewidth": 0,
             "ticks": ""
            },
            "colorscale": [
             [
              0,
              "#0d0887"
             ],
             [
              0.1111111111111111,
              "#46039f"
             ],
             [
              0.2222222222222222,
              "#7201a8"
             ],
             [
              0.3333333333333333,
              "#9c179e"
             ],
             [
              0.4444444444444444,
              "#bd3786"
             ],
             [
              0.5555555555555556,
              "#d8576b"
             ],
             [
              0.6666666666666666,
              "#ed7953"
             ],
             [
              0.7777777777777778,
              "#fb9f3a"
             ],
             [
              0.8888888888888888,
              "#fdca26"
             ],
             [
              1,
              "#f0f921"
             ]
            ],
            "type": "surface"
           }
          ],
          "table": [
           {
            "cells": {
             "fill": {
              "color": "#EBF0F8"
             },
             "line": {
              "color": "white"
             }
            },
            "header": {
             "fill": {
              "color": "#C8D4E3"
             },
             "line": {
              "color": "white"
             }
            },
            "type": "table"
           }
          ]
         },
         "layout": {
          "annotationdefaults": {
           "arrowcolor": "#2a3f5f",
           "arrowhead": 0,
           "arrowwidth": 1
          },
          "coloraxis": {
           "colorbar": {
            "outlinewidth": 0,
            "ticks": ""
           }
          },
          "colorscale": {
           "diverging": [
            [
             0,
             "#8e0152"
            ],
            [
             0.1,
             "#c51b7d"
            ],
            [
             0.2,
             "#de77ae"
            ],
            [
             0.3,
             "#f1b6da"
            ],
            [
             0.4,
             "#fde0ef"
            ],
            [
             0.5,
             "#f7f7f7"
            ],
            [
             0.6,
             "#e6f5d0"
            ],
            [
             0.7,
             "#b8e186"
            ],
            [
             0.8,
             "#7fbc41"
            ],
            [
             0.9,
             "#4d9221"
            ],
            [
             1,
             "#276419"
            ]
           ],
           "sequential": [
            [
             0,
             "#0d0887"
            ],
            [
             0.1111111111111111,
             "#46039f"
            ],
            [
             0.2222222222222222,
             "#7201a8"
            ],
            [
             0.3333333333333333,
             "#9c179e"
            ],
            [
             0.4444444444444444,
             "#bd3786"
            ],
            [
             0.5555555555555556,
             "#d8576b"
            ],
            [
             0.6666666666666666,
             "#ed7953"
            ],
            [
             0.7777777777777778,
             "#fb9f3a"
            ],
            [
             0.8888888888888888,
             "#fdca26"
            ],
            [
             1,
             "#f0f921"
            ]
           ],
           "sequentialminus": [
            [
             0,
             "#0d0887"
            ],
            [
             0.1111111111111111,
             "#46039f"
            ],
            [
             0.2222222222222222,
             "#7201a8"
            ],
            [
             0.3333333333333333,
             "#9c179e"
            ],
            [
             0.4444444444444444,
             "#bd3786"
            ],
            [
             0.5555555555555556,
             "#d8576b"
            ],
            [
             0.6666666666666666,
             "#ed7953"
            ],
            [
             0.7777777777777778,
             "#fb9f3a"
            ],
            [
             0.8888888888888888,
             "#fdca26"
            ],
            [
             1,
             "#f0f921"
            ]
           ]
          },
          "colorway": [
           "#636efa",
           "#EF553B",
           "#00cc96",
           "#ab63fa",
           "#FFA15A",
           "#19d3f3",
           "#FF6692",
           "#B6E880",
           "#FF97FF",
           "#FECB52"
          ],
          "font": {
           "color": "#2a3f5f"
          },
          "geo": {
           "bgcolor": "white",
           "lakecolor": "white",
           "landcolor": "#E5ECF6",
           "showlakes": true,
           "showland": true,
           "subunitcolor": "white"
          },
          "hoverlabel": {
           "align": "left"
          },
          "hovermode": "closest",
          "mapbox": {
           "style": "light"
          },
          "paper_bgcolor": "white",
          "plot_bgcolor": "#E5ECF6",
          "polar": {
           "angularaxis": {
            "gridcolor": "white",
            "linecolor": "white",
            "ticks": ""
           },
           "bgcolor": "#E5ECF6",
           "radialaxis": {
            "gridcolor": "white",
            "linecolor": "white",
            "ticks": ""
           }
          },
          "scene": {
           "xaxis": {
            "backgroundcolor": "#E5ECF6",
            "gridcolor": "white",
            "gridwidth": 2,
            "linecolor": "white",
            "showbackground": true,
            "ticks": "",
            "zerolinecolor": "white"
           },
           "yaxis": {
            "backgroundcolor": "#E5ECF6",
            "gridcolor": "white",
            "gridwidth": 2,
            "linecolor": "white",
            "showbackground": true,
            "ticks": "",
            "zerolinecolor": "white"
           },
           "zaxis": {
            "backgroundcolor": "#E5ECF6",
            "gridcolor": "white",
            "gridwidth": 2,
            "linecolor": "white",
            "showbackground": true,
            "ticks": "",
            "zerolinecolor": "white"
           }
          },
          "shapedefaults": {
           "line": {
            "color": "#2a3f5f"
           }
          },
          "ternary": {
           "aaxis": {
            "gridcolor": "white",
            "linecolor": "white",
            "ticks": ""
           },
           "baxis": {
            "gridcolor": "white",
            "linecolor": "white",
            "ticks": ""
           },
           "bgcolor": "#E5ECF6",
           "caxis": {
            "gridcolor": "white",
            "linecolor": "white",
            "ticks": ""
           }
          },
          "title": {
           "x": 0.05
          },
          "xaxis": {
           "automargin": true,
           "gridcolor": "white",
           "linecolor": "white",
           "ticks": "",
           "title": {
            "standoff": 15
           },
           "zerolinecolor": "white",
           "zerolinewidth": 2
          },
          "yaxis": {
           "automargin": true,
           "gridcolor": "white",
           "linecolor": "white",
           "ticks": "",
           "title": {
            "standoff": 15
           },
           "zerolinecolor": "white",
           "zerolinewidth": 2
          }
         }
        },
        "title": {
         "text": "Total Recovered Cases in Canada"
        },
        "xaxis": {
         "anchor": "y",
         "domain": [
          0,
          1
         ],
         "title": {
          "text": "Date"
         }
        },
        "yaxis": {
         "anchor": "x",
         "domain": [
          0,
          1
         ],
         "title": {
          "text": "Recovered"
         }
        }
       }
      },
      "text/html": [
       "<div>\n",
       "        \n",
       "        \n",
       "            <div id=\"c1e6f045-e4bd-4011-a2b0-04b6e787df43\" class=\"plotly-graph-div\" style=\"height:525px; width:100%;\"></div>\n",
       "            <script type=\"text/javascript\">\n",
       "                require([\"plotly\"], function(Plotly) {\n",
       "                    window.PLOTLYENV=window.PLOTLYENV || {};\n",
       "                    \n",
       "                if (document.getElementById(\"c1e6f045-e4bd-4011-a2b0-04b6e787df43\")) {\n",
       "                    Plotly.newPlot(\n",
       "                        'c1e6f045-e4bd-4011-a2b0-04b6e787df43',\n",
       "                        [{\"hovertemplate\": \"Date=%{x}<br>Recovered=%{y}<extra></extra>\", \"legendgroup\": \"\", \"line\": {\"color\": \"#636efa\", \"dash\": \"solid\"}, \"mode\": \"lines\", \"name\": \"\", \"orientation\": \"v\", \"showlegend\": false, \"type\": \"scatter\", \"x\": [\"2020-01-22T00:00:00\", \"2020-01-23T00:00:00\", \"2020-01-24T00:00:00\", \"2020-01-25T00:00:00\", \"2020-01-26T00:00:00\", \"2020-01-27T00:00:00\", \"2020-01-28T00:00:00\", \"2020-01-29T00:00:00\", \"2020-01-30T00:00:00\", \"2020-01-31T00:00:00\", \"2020-02-01T00:00:00\", \"2020-02-02T00:00:00\", \"2020-02-03T00:00:00\", \"2020-02-04T00:00:00\", \"2020-02-05T00:00:00\", \"2020-02-06T00:00:00\", \"2020-02-07T00:00:00\", \"2020-02-08T00:00:00\", \"2020-02-09T00:00:00\", \"2020-02-10T00:00:00\", \"2020-02-11T00:00:00\", \"2020-02-12T00:00:00\", \"2020-02-13T00:00:00\", \"2020-02-14T00:00:00\", \"2020-02-15T00:00:00\", \"2020-02-16T00:00:00\", \"2020-02-17T00:00:00\", \"2020-02-18T00:00:00\", \"2020-02-19T00:00:00\", \"2020-02-20T00:00:00\", \"2020-02-21T00:00:00\", \"2020-02-22T00:00:00\", \"2020-02-23T00:00:00\", \"2020-02-24T00:00:00\", \"2020-02-25T00:00:00\", \"2020-02-26T00:00:00\", \"2020-02-27T00:00:00\", \"2020-02-28T00:00:00\", \"2020-02-29T00:00:00\", \"2020-03-01T00:00:00\", \"2020-03-02T00:00:00\", \"2020-03-03T00:00:00\", \"2020-03-04T00:00:00\", \"2020-03-05T00:00:00\", \"2020-03-06T00:00:00\", \"2020-03-07T00:00:00\", \"2020-03-08T00:00:00\", \"2020-03-09T00:00:00\", \"2020-03-10T00:00:00\", \"2020-03-11T00:00:00\", \"2020-03-12T00:00:00\", \"2020-03-13T00:00:00\", \"2020-03-14T00:00:00\", \"2020-03-15T00:00:00\", \"2020-03-16T00:00:00\", \"2020-03-17T00:00:00\", \"2020-03-18T00:00:00\", \"2020-03-19T00:00:00\", \"2020-03-20T00:00:00\", \"2020-03-21T00:00:00\", \"2020-03-22T00:00:00\", \"2020-03-23T00:00:00\", \"2020-03-24T00:00:00\", \"2020-03-25T00:00:00\", \"2020-03-26T00:00:00\", \"2020-03-27T00:00:00\", \"2020-03-28T00:00:00\", \"2020-03-29T00:00:00\", \"2020-03-30T00:00:00\", \"2020-03-31T00:00:00\", \"2020-04-01T00:00:00\", \"2020-04-02T00:00:00\", \"2020-04-03T00:00:00\", \"2020-04-04T00:00:00\", \"2020-04-05T00:00:00\", \"2020-04-06T00:00:00\", \"2020-04-07T00:00:00\", \"2020-04-08T00:00:00\", \"2020-04-09T00:00:00\", \"2020-04-10T00:00:00\", \"2020-04-11T00:00:00\", \"2020-04-12T00:00:00\", \"2020-04-13T00:00:00\", \"2020-04-14T00:00:00\", \"2020-04-15T00:00:00\", \"2020-04-16T00:00:00\", \"2020-04-17T00:00:00\", \"2020-04-18T00:00:00\", \"2020-04-19T00:00:00\", \"2020-04-20T00:00:00\", \"2020-04-21T00:00:00\", \"2020-04-22T00:00:00\", \"2020-04-23T00:00:00\", \"2020-04-24T00:00:00\", \"2020-04-25T00:00:00\", \"2020-04-26T00:00:00\", \"2020-04-27T00:00:00\", \"2020-04-28T00:00:00\", \"2020-04-29T00:00:00\", \"2020-04-30T00:00:00\", \"2020-05-01T00:00:00\", \"2020-05-02T00:00:00\", \"2020-05-03T00:00:00\", \"2020-05-04T00:00:00\", \"2020-05-05T00:00:00\", \"2020-05-06T00:00:00\", \"2020-05-07T00:00:00\", \"2020-05-08T00:00:00\", \"2020-05-09T00:00:00\", \"2020-05-10T00:00:00\", \"2020-05-11T00:00:00\", \"2020-05-12T00:00:00\", \"2020-05-13T00:00:00\", \"2020-05-14T00:00:00\", \"2020-05-15T00:00:00\", \"2020-05-16T00:00:00\", \"2020-05-17T00:00:00\", \"2020-05-18T00:00:00\", \"2020-05-19T00:00:00\", \"2020-05-20T00:00:00\", \"2020-05-21T00:00:00\", \"2020-05-22T00:00:00\", \"2020-05-23T00:00:00\", \"2020-05-24T00:00:00\", \"2020-05-25T00:00:00\", \"2020-05-26T00:00:00\", \"2020-05-27T00:00:00\", \"2020-05-28T00:00:00\", \"2020-05-29T00:00:00\", \"2020-05-30T00:00:00\", \"2020-05-31T00:00:00\", \"2020-06-01T00:00:00\", \"2020-06-02T00:00:00\", \"2020-06-03T00:00:00\", \"2020-06-04T00:00:00\", \"2020-06-05T00:00:00\", \"2020-06-06T00:00:00\", \"2020-06-07T00:00:00\", \"2020-06-08T00:00:00\", \"2020-06-09T00:00:00\", \"2020-06-10T00:00:00\", \"2020-06-11T00:00:00\", \"2020-06-12T00:00:00\", \"2020-06-13T00:00:00\", \"2020-06-14T00:00:00\", \"2020-06-15T00:00:00\", \"2020-06-16T00:00:00\", \"2020-06-17T00:00:00\", \"2020-06-18T00:00:00\", \"2020-06-19T00:00:00\", \"2020-06-20T00:00:00\", \"2020-06-21T00:00:00\", \"2020-06-22T00:00:00\", \"2020-06-23T00:00:00\", \"2020-06-24T00:00:00\", \"2020-06-25T00:00:00\", \"2020-06-26T00:00:00\", \"2020-06-27T00:00:00\", \"2020-06-28T00:00:00\", \"2020-06-29T00:00:00\", \"2020-06-30T00:00:00\", \"2020-07-01T00:00:00\", \"2020-07-02T00:00:00\", \"2020-07-03T00:00:00\", \"2020-07-04T00:00:00\", \"2020-07-05T00:00:00\", \"2020-07-06T00:00:00\", \"2020-07-07T00:00:00\", \"2020-07-08T00:00:00\", \"2020-07-09T00:00:00\", \"2020-07-10T00:00:00\", \"2020-07-11T00:00:00\", \"2020-07-12T00:00:00\", \"2020-07-13T00:00:00\", \"2020-07-14T00:00:00\", \"2020-07-15T00:00:00\", \"2020-07-16T00:00:00\", \"2020-07-17T00:00:00\", \"2020-07-18T00:00:00\", \"2020-07-19T00:00:00\", \"2020-07-20T00:00:00\", \"2020-07-21T00:00:00\", \"2020-07-22T00:00:00\", \"2020-07-23T00:00:00\", \"2020-07-24T00:00:00\", \"2020-07-25T00:00:00\", \"2020-07-26T00:00:00\", \"2020-07-27T00:00:00\", \"2020-07-28T00:00:00\"], \"xaxis\": \"x\", \"y\": [0.0, 0.0, 0.0, 0.0, 0.0, 0.0, 0.0, 0.0, 0.0, 0.0, 0.0, 0.0, 0.0, 0.0, 0.0, 0.0, 0.0, 0.0, 0.0, 0.0, 0.0, 1.0, 1.0, 1.0, 1.0, 1.0, 1.0, 1.0, 1.0, 1.0, 3.0, 3.0, 3.0, 3.0, 3.0, 3.0, 6.0, 6.0, 6.0, 6.0, 6.0, 6.0, 6.0, 6.0, 6.0, 8.0, 8.0, 8.0, 8.0, 8.0, 8.0, 8.0, 8.0, 8.0, 9.0, 9.0, 9.0, 9.0, 9.0, 10.0, 10.0, 10.0, 110.0, 183.0, 184.0, 256.0, 466.0, 466.0, 466.0, 1592.0, 1324.0, 1735.0, 2175.0, 2577.0, 3012.0, 3256.0, 3791.0, 4154.0, 5162.0, 5855.0, 6589.0, 7123.0, 7758.0, 8210.0, 8966.0, 9698.0, 10545.0, 10964.0, 11847.0, 12543.0, 13188.0, 14454.0, 14761.0, 15149.0, 16013.0, 16883.0, 18268.0, 19231.0, 20327.0, 21424.0, 22764.0, 23814.0, 24921.0, 26030.0, 27006.0, 28184.0, 29260.0, 30239.0, 31262.0, 32109.0, 33007.0, 34055.0, 35177.0, 36104.0, 36908.0, 37832.0, 38563.0, 39251.0, 40069.0, 40793.0, 41731.0, 42608.0, 43318.0, 43998.0, 44651.0, 45352.0, 46248.0, 46961.0, 47905.0, 48517.0, 49213.0, 50091.0, 50725.0, 51506.0, 52184.0, 53074.0, 54087.0, 54675.0, 55343.0, 56117.0, 57215.0, 58131.0, 59034.0, 59851.0, 60668.0, 61466.0, 61899.0, 63280.0, 63782.0, 64318.0, 64826.0, 65249.0, 65721.0, 66135.0, 66533.0, 66869.0, 67182.0, 67445.0, 67689.0, 68698.0, 69120.0, 69397.0, 69872.0, 70232.0, 70507.0, 70772.0, 71141.0, 71418.0, 71805.0, 72095.0, 72466.0, 72784.0, 72954.0, 73381.0, 73713.0, 74067.0, 74433.0, 98281.0, 98436.0, 98564.0, 98975.0, 99248.0, 99501.0, 99937.0, 100504.0, 100765.0, 100969.0, 101447.0, 101686.0], \"yaxis\": \"y\"}],\n",
       "                        {\"legend\": {\"tracegroupgap\": 0}, \"template\": {\"data\": {\"bar\": [{\"error_x\": {\"color\": \"#2a3f5f\"}, \"error_y\": {\"color\": \"#2a3f5f\"}, \"marker\": {\"line\": {\"color\": \"#E5ECF6\", \"width\": 0.5}}, \"type\": \"bar\"}], \"barpolar\": [{\"marker\": {\"line\": {\"color\": \"#E5ECF6\", \"width\": 0.5}}, \"type\": \"barpolar\"}], \"carpet\": [{\"aaxis\": {\"endlinecolor\": \"#2a3f5f\", \"gridcolor\": \"white\", \"linecolor\": \"white\", \"minorgridcolor\": \"white\", \"startlinecolor\": \"#2a3f5f\"}, \"baxis\": {\"endlinecolor\": \"#2a3f5f\", \"gridcolor\": \"white\", \"linecolor\": \"white\", \"minorgridcolor\": \"white\", \"startlinecolor\": \"#2a3f5f\"}, \"type\": \"carpet\"}], \"choropleth\": [{\"colorbar\": {\"outlinewidth\": 0, \"ticks\": \"\"}, \"type\": \"choropleth\"}], \"contour\": [{\"colorbar\": {\"outlinewidth\": 0, \"ticks\": \"\"}, \"colorscale\": [[0.0, \"#0d0887\"], [0.1111111111111111, \"#46039f\"], [0.2222222222222222, \"#7201a8\"], [0.3333333333333333, \"#9c179e\"], [0.4444444444444444, \"#bd3786\"], [0.5555555555555556, \"#d8576b\"], [0.6666666666666666, \"#ed7953\"], [0.7777777777777778, \"#fb9f3a\"], [0.8888888888888888, \"#fdca26\"], [1.0, \"#f0f921\"]], \"type\": \"contour\"}], \"contourcarpet\": [{\"colorbar\": {\"outlinewidth\": 0, \"ticks\": \"\"}, \"type\": \"contourcarpet\"}], \"heatmap\": [{\"colorbar\": {\"outlinewidth\": 0, \"ticks\": \"\"}, \"colorscale\": [[0.0, \"#0d0887\"], [0.1111111111111111, \"#46039f\"], [0.2222222222222222, \"#7201a8\"], [0.3333333333333333, \"#9c179e\"], [0.4444444444444444, \"#bd3786\"], [0.5555555555555556, \"#d8576b\"], [0.6666666666666666, \"#ed7953\"], [0.7777777777777778, \"#fb9f3a\"], [0.8888888888888888, \"#fdca26\"], [1.0, \"#f0f921\"]], \"type\": \"heatmap\"}], \"heatmapgl\": [{\"colorbar\": {\"outlinewidth\": 0, \"ticks\": \"\"}, \"colorscale\": [[0.0, \"#0d0887\"], [0.1111111111111111, \"#46039f\"], [0.2222222222222222, \"#7201a8\"], [0.3333333333333333, \"#9c179e\"], [0.4444444444444444, \"#bd3786\"], [0.5555555555555556, \"#d8576b\"], [0.6666666666666666, \"#ed7953\"], [0.7777777777777778, \"#fb9f3a\"], [0.8888888888888888, \"#fdca26\"], [1.0, \"#f0f921\"]], \"type\": \"heatmapgl\"}], \"histogram\": [{\"marker\": {\"colorbar\": {\"outlinewidth\": 0, \"ticks\": \"\"}}, \"type\": \"histogram\"}], \"histogram2d\": [{\"colorbar\": {\"outlinewidth\": 0, \"ticks\": \"\"}, \"colorscale\": [[0.0, \"#0d0887\"], [0.1111111111111111, \"#46039f\"], [0.2222222222222222, \"#7201a8\"], [0.3333333333333333, \"#9c179e\"], [0.4444444444444444, \"#bd3786\"], [0.5555555555555556, \"#d8576b\"], [0.6666666666666666, \"#ed7953\"], [0.7777777777777778, \"#fb9f3a\"], [0.8888888888888888, \"#fdca26\"], [1.0, \"#f0f921\"]], \"type\": \"histogram2d\"}], \"histogram2dcontour\": [{\"colorbar\": {\"outlinewidth\": 0, \"ticks\": \"\"}, \"colorscale\": [[0.0, \"#0d0887\"], [0.1111111111111111, \"#46039f\"], [0.2222222222222222, \"#7201a8\"], [0.3333333333333333, \"#9c179e\"], [0.4444444444444444, \"#bd3786\"], [0.5555555555555556, \"#d8576b\"], [0.6666666666666666, \"#ed7953\"], [0.7777777777777778, \"#fb9f3a\"], [0.8888888888888888, \"#fdca26\"], [1.0, \"#f0f921\"]], \"type\": \"histogram2dcontour\"}], \"mesh3d\": [{\"colorbar\": {\"outlinewidth\": 0, \"ticks\": \"\"}, \"type\": \"mesh3d\"}], \"parcoords\": [{\"line\": {\"colorbar\": {\"outlinewidth\": 0, \"ticks\": \"\"}}, \"type\": \"parcoords\"}], \"pie\": [{\"automargin\": true, \"type\": \"pie\"}], \"scatter\": [{\"marker\": {\"colorbar\": {\"outlinewidth\": 0, \"ticks\": \"\"}}, \"type\": \"scatter\"}], \"scatter3d\": [{\"line\": {\"colorbar\": {\"outlinewidth\": 0, \"ticks\": \"\"}}, \"marker\": {\"colorbar\": {\"outlinewidth\": 0, \"ticks\": \"\"}}, \"type\": \"scatter3d\"}], \"scattercarpet\": [{\"marker\": {\"colorbar\": {\"outlinewidth\": 0, \"ticks\": \"\"}}, \"type\": \"scattercarpet\"}], \"scattergeo\": [{\"marker\": {\"colorbar\": {\"outlinewidth\": 0, \"ticks\": \"\"}}, \"type\": \"scattergeo\"}], \"scattergl\": [{\"marker\": {\"colorbar\": {\"outlinewidth\": 0, \"ticks\": \"\"}}, \"type\": \"scattergl\"}], \"scattermapbox\": [{\"marker\": {\"colorbar\": {\"outlinewidth\": 0, \"ticks\": \"\"}}, \"type\": \"scattermapbox\"}], \"scatterpolar\": [{\"marker\": {\"colorbar\": {\"outlinewidth\": 0, \"ticks\": \"\"}}, \"type\": \"scatterpolar\"}], \"scatterpolargl\": [{\"marker\": {\"colorbar\": {\"outlinewidth\": 0, \"ticks\": \"\"}}, \"type\": \"scatterpolargl\"}], \"scatterternary\": [{\"marker\": {\"colorbar\": {\"outlinewidth\": 0, \"ticks\": \"\"}}, \"type\": \"scatterternary\"}], \"surface\": [{\"colorbar\": {\"outlinewidth\": 0, \"ticks\": \"\"}, \"colorscale\": [[0.0, \"#0d0887\"], [0.1111111111111111, \"#46039f\"], [0.2222222222222222, \"#7201a8\"], [0.3333333333333333, \"#9c179e\"], [0.4444444444444444, \"#bd3786\"], [0.5555555555555556, \"#d8576b\"], [0.6666666666666666, \"#ed7953\"], [0.7777777777777778, \"#fb9f3a\"], [0.8888888888888888, \"#fdca26\"], [1.0, \"#f0f921\"]], \"type\": \"surface\"}], \"table\": [{\"cells\": {\"fill\": {\"color\": \"#EBF0F8\"}, \"line\": {\"color\": \"white\"}}, \"header\": {\"fill\": {\"color\": \"#C8D4E3\"}, \"line\": {\"color\": \"white\"}}, \"type\": \"table\"}]}, \"layout\": {\"annotationdefaults\": {\"arrowcolor\": \"#2a3f5f\", \"arrowhead\": 0, \"arrowwidth\": 1}, \"coloraxis\": {\"colorbar\": {\"outlinewidth\": 0, \"ticks\": \"\"}}, \"colorscale\": {\"diverging\": [[0, \"#8e0152\"], [0.1, \"#c51b7d\"], [0.2, \"#de77ae\"], [0.3, \"#f1b6da\"], [0.4, \"#fde0ef\"], [0.5, \"#f7f7f7\"], [0.6, \"#e6f5d0\"], [0.7, \"#b8e186\"], [0.8, \"#7fbc41\"], [0.9, \"#4d9221\"], [1, \"#276419\"]], \"sequential\": [[0.0, \"#0d0887\"], [0.1111111111111111, \"#46039f\"], [0.2222222222222222, \"#7201a8\"], [0.3333333333333333, \"#9c179e\"], [0.4444444444444444, \"#bd3786\"], [0.5555555555555556, \"#d8576b\"], [0.6666666666666666, \"#ed7953\"], [0.7777777777777778, \"#fb9f3a\"], [0.8888888888888888, \"#fdca26\"], [1.0, \"#f0f921\"]], \"sequentialminus\": [[0.0, \"#0d0887\"], [0.1111111111111111, \"#46039f\"], [0.2222222222222222, \"#7201a8\"], [0.3333333333333333, \"#9c179e\"], [0.4444444444444444, \"#bd3786\"], [0.5555555555555556, \"#d8576b\"], [0.6666666666666666, \"#ed7953\"], [0.7777777777777778, \"#fb9f3a\"], [0.8888888888888888, \"#fdca26\"], [1.0, \"#f0f921\"]]}, \"colorway\": [\"#636efa\", \"#EF553B\", \"#00cc96\", \"#ab63fa\", \"#FFA15A\", \"#19d3f3\", \"#FF6692\", \"#B6E880\", \"#FF97FF\", \"#FECB52\"], \"font\": {\"color\": \"#2a3f5f\"}, \"geo\": {\"bgcolor\": \"white\", \"lakecolor\": \"white\", \"landcolor\": \"#E5ECF6\", \"showlakes\": true, \"showland\": true, \"subunitcolor\": \"white\"}, \"hoverlabel\": {\"align\": \"left\"}, \"hovermode\": \"closest\", \"mapbox\": {\"style\": \"light\"}, \"paper_bgcolor\": \"white\", \"plot_bgcolor\": \"#E5ECF6\", \"polar\": {\"angularaxis\": {\"gridcolor\": \"white\", \"linecolor\": \"white\", \"ticks\": \"\"}, \"bgcolor\": \"#E5ECF6\", \"radialaxis\": {\"gridcolor\": \"white\", \"linecolor\": \"white\", \"ticks\": \"\"}}, \"scene\": {\"xaxis\": {\"backgroundcolor\": \"#E5ECF6\", \"gridcolor\": \"white\", \"gridwidth\": 2, \"linecolor\": \"white\", \"showbackground\": true, \"ticks\": \"\", \"zerolinecolor\": \"white\"}, \"yaxis\": {\"backgroundcolor\": \"#E5ECF6\", \"gridcolor\": \"white\", \"gridwidth\": 2, \"linecolor\": \"white\", \"showbackground\": true, \"ticks\": \"\", \"zerolinecolor\": \"white\"}, \"zaxis\": {\"backgroundcolor\": \"#E5ECF6\", \"gridcolor\": \"white\", \"gridwidth\": 2, \"linecolor\": \"white\", \"showbackground\": true, \"ticks\": \"\", \"zerolinecolor\": \"white\"}}, \"shapedefaults\": {\"line\": {\"color\": \"#2a3f5f\"}}, \"ternary\": {\"aaxis\": {\"gridcolor\": \"white\", \"linecolor\": \"white\", \"ticks\": \"\"}, \"baxis\": {\"gridcolor\": \"white\", \"linecolor\": \"white\", \"ticks\": \"\"}, \"bgcolor\": \"#E5ECF6\", \"caxis\": {\"gridcolor\": \"white\", \"linecolor\": \"white\", \"ticks\": \"\"}}, \"title\": {\"x\": 0.05}, \"xaxis\": {\"automargin\": true, \"gridcolor\": \"white\", \"linecolor\": \"white\", \"ticks\": \"\", \"title\": {\"standoff\": 15}, \"zerolinecolor\": \"white\", \"zerolinewidth\": 2}, \"yaxis\": {\"automargin\": true, \"gridcolor\": \"white\", \"linecolor\": \"white\", \"ticks\": \"\", \"title\": {\"standoff\": 15}, \"zerolinecolor\": \"white\", \"zerolinewidth\": 2}}}, \"title\": {\"text\": \"Total Recovered Cases in Canada\"}, \"xaxis\": {\"anchor\": \"y\", \"domain\": [0.0, 1.0], \"title\": {\"text\": \"Date\"}}, \"yaxis\": {\"anchor\": \"x\", \"domain\": [0.0, 1.0], \"title\": {\"text\": \"Recovered\"}}},\n",
       "                        {\"responsive\": true}\n",
       "                    ).then(function(){\n",
       "                            \n",
       "var gd = document.getElementById('c1e6f045-e4bd-4011-a2b0-04b6e787df43');\n",
       "var x = new MutationObserver(function (mutations, observer) {{\n",
       "        var display = window.getComputedStyle(gd).display;\n",
       "        if (!display || display === 'none') {{\n",
       "            console.log([gd, 'removed!']);\n",
       "            Plotly.purge(gd);\n",
       "            observer.disconnect();\n",
       "        }}\n",
       "}});\n",
       "\n",
       "// Listen for the removal of the full notebook cells\n",
       "var notebookContainer = gd.closest('#notebook-container');\n",
       "if (notebookContainer) {{\n",
       "    x.observe(notebookContainer, {childList: true});\n",
       "}}\n",
       "\n",
       "// Listen for the clearing of the current output cell\n",
       "var outputEl = gd.closest('.output');\n",
       "if (outputEl) {{\n",
       "    x.observe(outputEl, {childList: true});\n",
       "}}\n",
       "\n",
       "                        })\n",
       "                };\n",
       "                });\n",
       "            </script>\n",
       "        </div>"
      ]
     },
     "metadata": {},
     "output_type": "display_data"
    }
   ],
   "source": [
    "fig = px.line(canada, x=\"Date\", y=\"Recovered\", title='Total Recovered Cases in Canada')\n",
    "fig.show()"
   ]
  },
  {
   "cell_type": "code",
   "execution_count": 42,
   "metadata": {},
   "outputs": [
    {
     "data": {
      "application/vnd.plotly.v1+json": {
       "config": {
        "plotlyServerURL": "https://plot.ly"
       },
       "data": [
        {
         "hovertemplate": "Date=%{x}<br>Deaths=%{y}<extra></extra>",
         "legendgroup": "",
         "line": {
          "color": "#636efa",
          "dash": "solid"
         },
         "mode": "lines",
         "name": "",
         "orientation": "v",
         "showlegend": false,
         "type": "scatter",
         "x": [
          "2020-01-22T00:00:00",
          "2020-01-23T00:00:00",
          "2020-01-24T00:00:00",
          "2020-01-25T00:00:00",
          "2020-01-26T00:00:00",
          "2020-01-27T00:00:00",
          "2020-01-28T00:00:00",
          "2020-01-29T00:00:00",
          "2020-01-30T00:00:00",
          "2020-01-31T00:00:00",
          "2020-02-01T00:00:00",
          "2020-02-02T00:00:00",
          "2020-02-03T00:00:00",
          "2020-02-04T00:00:00",
          "2020-02-05T00:00:00",
          "2020-02-06T00:00:00",
          "2020-02-07T00:00:00",
          "2020-02-08T00:00:00",
          "2020-02-09T00:00:00",
          "2020-02-10T00:00:00",
          "2020-02-11T00:00:00",
          "2020-02-12T00:00:00",
          "2020-02-13T00:00:00",
          "2020-02-14T00:00:00",
          "2020-02-15T00:00:00",
          "2020-02-16T00:00:00",
          "2020-02-17T00:00:00",
          "2020-02-18T00:00:00",
          "2020-02-19T00:00:00",
          "2020-02-20T00:00:00",
          "2020-02-21T00:00:00",
          "2020-02-22T00:00:00",
          "2020-02-23T00:00:00",
          "2020-02-24T00:00:00",
          "2020-02-25T00:00:00",
          "2020-02-26T00:00:00",
          "2020-02-27T00:00:00",
          "2020-02-28T00:00:00",
          "2020-02-29T00:00:00",
          "2020-03-01T00:00:00",
          "2020-03-02T00:00:00",
          "2020-03-03T00:00:00",
          "2020-03-04T00:00:00",
          "2020-03-05T00:00:00",
          "2020-03-06T00:00:00",
          "2020-03-07T00:00:00",
          "2020-03-08T00:00:00",
          "2020-03-09T00:00:00",
          "2020-03-10T00:00:00",
          "2020-03-11T00:00:00",
          "2020-03-12T00:00:00",
          "2020-03-13T00:00:00",
          "2020-03-14T00:00:00",
          "2020-03-15T00:00:00",
          "2020-03-16T00:00:00",
          "2020-03-17T00:00:00",
          "2020-03-18T00:00:00",
          "2020-03-19T00:00:00",
          "2020-03-20T00:00:00",
          "2020-03-21T00:00:00",
          "2020-03-22T00:00:00",
          "2020-03-23T00:00:00",
          "2020-03-24T00:00:00",
          "2020-03-25T00:00:00",
          "2020-03-26T00:00:00",
          "2020-03-27T00:00:00",
          "2020-03-28T00:00:00",
          "2020-03-29T00:00:00",
          "2020-03-30T00:00:00",
          "2020-03-31T00:00:00",
          "2020-04-01T00:00:00",
          "2020-04-02T00:00:00",
          "2020-04-03T00:00:00",
          "2020-04-04T00:00:00",
          "2020-04-05T00:00:00",
          "2020-04-06T00:00:00",
          "2020-04-07T00:00:00",
          "2020-04-08T00:00:00",
          "2020-04-09T00:00:00",
          "2020-04-10T00:00:00",
          "2020-04-11T00:00:00",
          "2020-04-12T00:00:00",
          "2020-04-13T00:00:00",
          "2020-04-14T00:00:00",
          "2020-04-15T00:00:00",
          "2020-04-16T00:00:00",
          "2020-04-17T00:00:00",
          "2020-04-18T00:00:00",
          "2020-04-19T00:00:00",
          "2020-04-20T00:00:00",
          "2020-04-21T00:00:00",
          "2020-04-22T00:00:00",
          "2020-04-23T00:00:00",
          "2020-04-24T00:00:00",
          "2020-04-25T00:00:00",
          "2020-04-26T00:00:00",
          "2020-04-27T00:00:00",
          "2020-04-28T00:00:00",
          "2020-04-29T00:00:00",
          "2020-04-30T00:00:00",
          "2020-05-01T00:00:00",
          "2020-05-02T00:00:00",
          "2020-05-03T00:00:00",
          "2020-05-04T00:00:00",
          "2020-05-05T00:00:00",
          "2020-05-06T00:00:00",
          "2020-05-07T00:00:00",
          "2020-05-08T00:00:00",
          "2020-05-09T00:00:00",
          "2020-05-10T00:00:00",
          "2020-05-11T00:00:00",
          "2020-05-12T00:00:00",
          "2020-05-13T00:00:00",
          "2020-05-14T00:00:00",
          "2020-05-15T00:00:00",
          "2020-05-16T00:00:00",
          "2020-05-17T00:00:00",
          "2020-05-18T00:00:00",
          "2020-05-19T00:00:00",
          "2020-05-20T00:00:00",
          "2020-05-21T00:00:00",
          "2020-05-22T00:00:00",
          "2020-05-23T00:00:00",
          "2020-05-24T00:00:00",
          "2020-05-25T00:00:00",
          "2020-05-26T00:00:00",
          "2020-05-27T00:00:00",
          "2020-05-28T00:00:00",
          "2020-05-29T00:00:00",
          "2020-05-30T00:00:00",
          "2020-05-31T00:00:00",
          "2020-06-01T00:00:00",
          "2020-06-02T00:00:00",
          "2020-06-03T00:00:00",
          "2020-06-04T00:00:00",
          "2020-06-05T00:00:00",
          "2020-06-06T00:00:00",
          "2020-06-07T00:00:00",
          "2020-06-08T00:00:00",
          "2020-06-09T00:00:00",
          "2020-06-10T00:00:00",
          "2020-06-11T00:00:00",
          "2020-06-12T00:00:00",
          "2020-06-13T00:00:00",
          "2020-06-14T00:00:00",
          "2020-06-15T00:00:00",
          "2020-06-16T00:00:00",
          "2020-06-17T00:00:00",
          "2020-06-18T00:00:00",
          "2020-06-19T00:00:00",
          "2020-06-20T00:00:00",
          "2020-06-21T00:00:00",
          "2020-06-22T00:00:00",
          "2020-06-23T00:00:00",
          "2020-06-24T00:00:00",
          "2020-06-25T00:00:00",
          "2020-06-26T00:00:00",
          "2020-06-27T00:00:00",
          "2020-06-28T00:00:00",
          "2020-06-29T00:00:00",
          "2020-06-30T00:00:00",
          "2020-07-01T00:00:00",
          "2020-07-02T00:00:00",
          "2020-07-03T00:00:00",
          "2020-07-04T00:00:00",
          "2020-07-05T00:00:00",
          "2020-07-06T00:00:00",
          "2020-07-07T00:00:00",
          "2020-07-08T00:00:00",
          "2020-07-09T00:00:00",
          "2020-07-10T00:00:00",
          "2020-07-11T00:00:00",
          "2020-07-12T00:00:00",
          "2020-07-13T00:00:00",
          "2020-07-14T00:00:00",
          "2020-07-15T00:00:00",
          "2020-07-16T00:00:00",
          "2020-07-17T00:00:00",
          "2020-07-18T00:00:00",
          "2020-07-19T00:00:00",
          "2020-07-20T00:00:00",
          "2020-07-21T00:00:00",
          "2020-07-22T00:00:00",
          "2020-07-23T00:00:00",
          "2020-07-24T00:00:00",
          "2020-07-25T00:00:00",
          "2020-07-26T00:00:00",
          "2020-07-27T00:00:00",
          "2020-07-28T00:00:00"
         ],
         "xaxis": "x",
         "y": [
          0,
          0,
          0,
          0,
          0,
          0,
          0,
          0,
          0,
          0,
          0,
          0,
          0,
          0,
          0,
          0,
          0,
          0,
          0,
          0,
          0,
          0,
          0,
          0,
          0,
          0,
          0,
          0,
          0,
          0,
          0,
          0,
          0,
          0,
          0,
          0,
          0,
          0,
          0,
          0,
          0,
          0,
          0,
          0,
          0,
          0,
          0,
          1,
          1,
          1,
          1,
          1,
          1,
          1,
          4,
          5,
          8,
          9,
          12,
          19,
          20,
          24,
          25,
          29,
          37,
          53,
          60,
          63,
          79,
          100,
          108,
          138,
          178,
          217,
          258,
          338,
          374,
          406,
          502,
          556,
          653,
          713,
          780,
          900,
          1007,
          1258,
          1355,
          1400,
          1564,
          1726,
          1909,
          2077,
          2240,
          2401,
          2570,
          2686,
          2840,
          2982,
          3154,
          3309,
          3536,
          3683,
          3794,
          4002,
          4189,
          4365,
          4540,
          4696,
          4822,
          4990,
          5114,
          5299,
          5424,
          5591,
          5678,
          5799,
          5902,
          5959,
          6027,
          6149,
          6266,
          6359,
          6465,
          6533,
          6654,
          6752,
          6875,
          6981,
          7062,
          7158,
          7373,
          7403,
          7477,
          7578,
          7716,
          7777,
          7849,
          7876,
          7909,
          7969,
          8037,
          8070,
          8124,
          8182,
          8217,
          8227,
          8270,
          8311,
          8360,
          8407,
          8465,
          8481,
          8493,
          8511,
          8543,
          8566,
          8570,
          8575,
          8581,
          8627,
          8649,
          8677,
          8699,
          8721,
          8731,
          8738,
          8747,
          8764,
          8785,
          8796,
          8810,
          8817,
          8828,
          8835,
          8844,
          8856,
          8874,
          8883,
          8891,
          8895,
          8901,
          8907,
          8912,
          8918,
          8922,
          8928,
          8933,
          8944,
          8956
         ],
         "yaxis": "y"
        }
       ],
       "layout": {
        "legend": {
         "tracegroupgap": 0
        },
        "template": {
         "data": {
          "bar": [
           {
            "error_x": {
             "color": "#2a3f5f"
            },
            "error_y": {
             "color": "#2a3f5f"
            },
            "marker": {
             "line": {
              "color": "#E5ECF6",
              "width": 0.5
             }
            },
            "type": "bar"
           }
          ],
          "barpolar": [
           {
            "marker": {
             "line": {
              "color": "#E5ECF6",
              "width": 0.5
             }
            },
            "type": "barpolar"
           }
          ],
          "carpet": [
           {
            "aaxis": {
             "endlinecolor": "#2a3f5f",
             "gridcolor": "white",
             "linecolor": "white",
             "minorgridcolor": "white",
             "startlinecolor": "#2a3f5f"
            },
            "baxis": {
             "endlinecolor": "#2a3f5f",
             "gridcolor": "white",
             "linecolor": "white",
             "minorgridcolor": "white",
             "startlinecolor": "#2a3f5f"
            },
            "type": "carpet"
           }
          ],
          "choropleth": [
           {
            "colorbar": {
             "outlinewidth": 0,
             "ticks": ""
            },
            "type": "choropleth"
           }
          ],
          "contour": [
           {
            "colorbar": {
             "outlinewidth": 0,
             "ticks": ""
            },
            "colorscale": [
             [
              0,
              "#0d0887"
             ],
             [
              0.1111111111111111,
              "#46039f"
             ],
             [
              0.2222222222222222,
              "#7201a8"
             ],
             [
              0.3333333333333333,
              "#9c179e"
             ],
             [
              0.4444444444444444,
              "#bd3786"
             ],
             [
              0.5555555555555556,
              "#d8576b"
             ],
             [
              0.6666666666666666,
              "#ed7953"
             ],
             [
              0.7777777777777778,
              "#fb9f3a"
             ],
             [
              0.8888888888888888,
              "#fdca26"
             ],
             [
              1,
              "#f0f921"
             ]
            ],
            "type": "contour"
           }
          ],
          "contourcarpet": [
           {
            "colorbar": {
             "outlinewidth": 0,
             "ticks": ""
            },
            "type": "contourcarpet"
           }
          ],
          "heatmap": [
           {
            "colorbar": {
             "outlinewidth": 0,
             "ticks": ""
            },
            "colorscale": [
             [
              0,
              "#0d0887"
             ],
             [
              0.1111111111111111,
              "#46039f"
             ],
             [
              0.2222222222222222,
              "#7201a8"
             ],
             [
              0.3333333333333333,
              "#9c179e"
             ],
             [
              0.4444444444444444,
              "#bd3786"
             ],
             [
              0.5555555555555556,
              "#d8576b"
             ],
             [
              0.6666666666666666,
              "#ed7953"
             ],
             [
              0.7777777777777778,
              "#fb9f3a"
             ],
             [
              0.8888888888888888,
              "#fdca26"
             ],
             [
              1,
              "#f0f921"
             ]
            ],
            "type": "heatmap"
           }
          ],
          "heatmapgl": [
           {
            "colorbar": {
             "outlinewidth": 0,
             "ticks": ""
            },
            "colorscale": [
             [
              0,
              "#0d0887"
             ],
             [
              0.1111111111111111,
              "#46039f"
             ],
             [
              0.2222222222222222,
              "#7201a8"
             ],
             [
              0.3333333333333333,
              "#9c179e"
             ],
             [
              0.4444444444444444,
              "#bd3786"
             ],
             [
              0.5555555555555556,
              "#d8576b"
             ],
             [
              0.6666666666666666,
              "#ed7953"
             ],
             [
              0.7777777777777778,
              "#fb9f3a"
             ],
             [
              0.8888888888888888,
              "#fdca26"
             ],
             [
              1,
              "#f0f921"
             ]
            ],
            "type": "heatmapgl"
           }
          ],
          "histogram": [
           {
            "marker": {
             "colorbar": {
              "outlinewidth": 0,
              "ticks": ""
             }
            },
            "type": "histogram"
           }
          ],
          "histogram2d": [
           {
            "colorbar": {
             "outlinewidth": 0,
             "ticks": ""
            },
            "colorscale": [
             [
              0,
              "#0d0887"
             ],
             [
              0.1111111111111111,
              "#46039f"
             ],
             [
              0.2222222222222222,
              "#7201a8"
             ],
             [
              0.3333333333333333,
              "#9c179e"
             ],
             [
              0.4444444444444444,
              "#bd3786"
             ],
             [
              0.5555555555555556,
              "#d8576b"
             ],
             [
              0.6666666666666666,
              "#ed7953"
             ],
             [
              0.7777777777777778,
              "#fb9f3a"
             ],
             [
              0.8888888888888888,
              "#fdca26"
             ],
             [
              1,
              "#f0f921"
             ]
            ],
            "type": "histogram2d"
           }
          ],
          "histogram2dcontour": [
           {
            "colorbar": {
             "outlinewidth": 0,
             "ticks": ""
            },
            "colorscale": [
             [
              0,
              "#0d0887"
             ],
             [
              0.1111111111111111,
              "#46039f"
             ],
             [
              0.2222222222222222,
              "#7201a8"
             ],
             [
              0.3333333333333333,
              "#9c179e"
             ],
             [
              0.4444444444444444,
              "#bd3786"
             ],
             [
              0.5555555555555556,
              "#d8576b"
             ],
             [
              0.6666666666666666,
              "#ed7953"
             ],
             [
              0.7777777777777778,
              "#fb9f3a"
             ],
             [
              0.8888888888888888,
              "#fdca26"
             ],
             [
              1,
              "#f0f921"
             ]
            ],
            "type": "histogram2dcontour"
           }
          ],
          "mesh3d": [
           {
            "colorbar": {
             "outlinewidth": 0,
             "ticks": ""
            },
            "type": "mesh3d"
           }
          ],
          "parcoords": [
           {
            "line": {
             "colorbar": {
              "outlinewidth": 0,
              "ticks": ""
             }
            },
            "type": "parcoords"
           }
          ],
          "pie": [
           {
            "automargin": true,
            "type": "pie"
           }
          ],
          "scatter": [
           {
            "marker": {
             "colorbar": {
              "outlinewidth": 0,
              "ticks": ""
             }
            },
            "type": "scatter"
           }
          ],
          "scatter3d": [
           {
            "line": {
             "colorbar": {
              "outlinewidth": 0,
              "ticks": ""
             }
            },
            "marker": {
             "colorbar": {
              "outlinewidth": 0,
              "ticks": ""
             }
            },
            "type": "scatter3d"
           }
          ],
          "scattercarpet": [
           {
            "marker": {
             "colorbar": {
              "outlinewidth": 0,
              "ticks": ""
             }
            },
            "type": "scattercarpet"
           }
          ],
          "scattergeo": [
           {
            "marker": {
             "colorbar": {
              "outlinewidth": 0,
              "ticks": ""
             }
            },
            "type": "scattergeo"
           }
          ],
          "scattergl": [
           {
            "marker": {
             "colorbar": {
              "outlinewidth": 0,
              "ticks": ""
             }
            },
            "type": "scattergl"
           }
          ],
          "scattermapbox": [
           {
            "marker": {
             "colorbar": {
              "outlinewidth": 0,
              "ticks": ""
             }
            },
            "type": "scattermapbox"
           }
          ],
          "scatterpolar": [
           {
            "marker": {
             "colorbar": {
              "outlinewidth": 0,
              "ticks": ""
             }
            },
            "type": "scatterpolar"
           }
          ],
          "scatterpolargl": [
           {
            "marker": {
             "colorbar": {
              "outlinewidth": 0,
              "ticks": ""
             }
            },
            "type": "scatterpolargl"
           }
          ],
          "scatterternary": [
           {
            "marker": {
             "colorbar": {
              "outlinewidth": 0,
              "ticks": ""
             }
            },
            "type": "scatterternary"
           }
          ],
          "surface": [
           {
            "colorbar": {
             "outlinewidth": 0,
             "ticks": ""
            },
            "colorscale": [
             [
              0,
              "#0d0887"
             ],
             [
              0.1111111111111111,
              "#46039f"
             ],
             [
              0.2222222222222222,
              "#7201a8"
             ],
             [
              0.3333333333333333,
              "#9c179e"
             ],
             [
              0.4444444444444444,
              "#bd3786"
             ],
             [
              0.5555555555555556,
              "#d8576b"
             ],
             [
              0.6666666666666666,
              "#ed7953"
             ],
             [
              0.7777777777777778,
              "#fb9f3a"
             ],
             [
              0.8888888888888888,
              "#fdca26"
             ],
             [
              1,
              "#f0f921"
             ]
            ],
            "type": "surface"
           }
          ],
          "table": [
           {
            "cells": {
             "fill": {
              "color": "#EBF0F8"
             },
             "line": {
              "color": "white"
             }
            },
            "header": {
             "fill": {
              "color": "#C8D4E3"
             },
             "line": {
              "color": "white"
             }
            },
            "type": "table"
           }
          ]
         },
         "layout": {
          "annotationdefaults": {
           "arrowcolor": "#2a3f5f",
           "arrowhead": 0,
           "arrowwidth": 1
          },
          "coloraxis": {
           "colorbar": {
            "outlinewidth": 0,
            "ticks": ""
           }
          },
          "colorscale": {
           "diverging": [
            [
             0,
             "#8e0152"
            ],
            [
             0.1,
             "#c51b7d"
            ],
            [
             0.2,
             "#de77ae"
            ],
            [
             0.3,
             "#f1b6da"
            ],
            [
             0.4,
             "#fde0ef"
            ],
            [
             0.5,
             "#f7f7f7"
            ],
            [
             0.6,
             "#e6f5d0"
            ],
            [
             0.7,
             "#b8e186"
            ],
            [
             0.8,
             "#7fbc41"
            ],
            [
             0.9,
             "#4d9221"
            ],
            [
             1,
             "#276419"
            ]
           ],
           "sequential": [
            [
             0,
             "#0d0887"
            ],
            [
             0.1111111111111111,
             "#46039f"
            ],
            [
             0.2222222222222222,
             "#7201a8"
            ],
            [
             0.3333333333333333,
             "#9c179e"
            ],
            [
             0.4444444444444444,
             "#bd3786"
            ],
            [
             0.5555555555555556,
             "#d8576b"
            ],
            [
             0.6666666666666666,
             "#ed7953"
            ],
            [
             0.7777777777777778,
             "#fb9f3a"
            ],
            [
             0.8888888888888888,
             "#fdca26"
            ],
            [
             1,
             "#f0f921"
            ]
           ],
           "sequentialminus": [
            [
             0,
             "#0d0887"
            ],
            [
             0.1111111111111111,
             "#46039f"
            ],
            [
             0.2222222222222222,
             "#7201a8"
            ],
            [
             0.3333333333333333,
             "#9c179e"
            ],
            [
             0.4444444444444444,
             "#bd3786"
            ],
            [
             0.5555555555555556,
             "#d8576b"
            ],
            [
             0.6666666666666666,
             "#ed7953"
            ],
            [
             0.7777777777777778,
             "#fb9f3a"
            ],
            [
             0.8888888888888888,
             "#fdca26"
            ],
            [
             1,
             "#f0f921"
            ]
           ]
          },
          "colorway": [
           "#636efa",
           "#EF553B",
           "#00cc96",
           "#ab63fa",
           "#FFA15A",
           "#19d3f3",
           "#FF6692",
           "#B6E880",
           "#FF97FF",
           "#FECB52"
          ],
          "font": {
           "color": "#2a3f5f"
          },
          "geo": {
           "bgcolor": "white",
           "lakecolor": "white",
           "landcolor": "#E5ECF6",
           "showlakes": true,
           "showland": true,
           "subunitcolor": "white"
          },
          "hoverlabel": {
           "align": "left"
          },
          "hovermode": "closest",
          "mapbox": {
           "style": "light"
          },
          "paper_bgcolor": "white",
          "plot_bgcolor": "#E5ECF6",
          "polar": {
           "angularaxis": {
            "gridcolor": "white",
            "linecolor": "white",
            "ticks": ""
           },
           "bgcolor": "#E5ECF6",
           "radialaxis": {
            "gridcolor": "white",
            "linecolor": "white",
            "ticks": ""
           }
          },
          "scene": {
           "xaxis": {
            "backgroundcolor": "#E5ECF6",
            "gridcolor": "white",
            "gridwidth": 2,
            "linecolor": "white",
            "showbackground": true,
            "ticks": "",
            "zerolinecolor": "white"
           },
           "yaxis": {
            "backgroundcolor": "#E5ECF6",
            "gridcolor": "white",
            "gridwidth": 2,
            "linecolor": "white",
            "showbackground": true,
            "ticks": "",
            "zerolinecolor": "white"
           },
           "zaxis": {
            "backgroundcolor": "#E5ECF6",
            "gridcolor": "white",
            "gridwidth": 2,
            "linecolor": "white",
            "showbackground": true,
            "ticks": "",
            "zerolinecolor": "white"
           }
          },
          "shapedefaults": {
           "line": {
            "color": "#2a3f5f"
           }
          },
          "ternary": {
           "aaxis": {
            "gridcolor": "white",
            "linecolor": "white",
            "ticks": ""
           },
           "baxis": {
            "gridcolor": "white",
            "linecolor": "white",
            "ticks": ""
           },
           "bgcolor": "#E5ECF6",
           "caxis": {
            "gridcolor": "white",
            "linecolor": "white",
            "ticks": ""
           }
          },
          "title": {
           "x": 0.05
          },
          "xaxis": {
           "automargin": true,
           "gridcolor": "white",
           "linecolor": "white",
           "ticks": "",
           "title": {
            "standoff": 15
           },
           "zerolinecolor": "white",
           "zerolinewidth": 2
          },
          "yaxis": {
           "automargin": true,
           "gridcolor": "white",
           "linecolor": "white",
           "ticks": "",
           "title": {
            "standoff": 15
           },
           "zerolinecolor": "white",
           "zerolinewidth": 2
          }
         }
        },
        "title": {
         "text": "Total Deaths in Canada"
        },
        "xaxis": {
         "anchor": "y",
         "domain": [
          0,
          1
         ],
         "title": {
          "text": "Date"
         }
        },
        "yaxis": {
         "anchor": "x",
         "domain": [
          0,
          1
         ],
         "title": {
          "text": "Deaths"
         }
        }
       }
      },
      "text/html": [
       "<div>\n",
       "        \n",
       "        \n",
       "            <div id=\"c2d89b8d-bfdb-4319-905d-8fdf1291c829\" class=\"plotly-graph-div\" style=\"height:525px; width:100%;\"></div>\n",
       "            <script type=\"text/javascript\">\n",
       "                require([\"plotly\"], function(Plotly) {\n",
       "                    window.PLOTLYENV=window.PLOTLYENV || {};\n",
       "                    \n",
       "                if (document.getElementById(\"c2d89b8d-bfdb-4319-905d-8fdf1291c829\")) {\n",
       "                    Plotly.newPlot(\n",
       "                        'c2d89b8d-bfdb-4319-905d-8fdf1291c829',\n",
       "                        [{\"hovertemplate\": \"Date=%{x}<br>Deaths=%{y}<extra></extra>\", \"legendgroup\": \"\", \"line\": {\"color\": \"#636efa\", \"dash\": \"solid\"}, \"mode\": \"lines\", \"name\": \"\", \"orientation\": \"v\", \"showlegend\": false, \"type\": \"scatter\", \"x\": [\"2020-01-22T00:00:00\", \"2020-01-23T00:00:00\", \"2020-01-24T00:00:00\", \"2020-01-25T00:00:00\", \"2020-01-26T00:00:00\", \"2020-01-27T00:00:00\", \"2020-01-28T00:00:00\", \"2020-01-29T00:00:00\", \"2020-01-30T00:00:00\", \"2020-01-31T00:00:00\", \"2020-02-01T00:00:00\", \"2020-02-02T00:00:00\", \"2020-02-03T00:00:00\", \"2020-02-04T00:00:00\", \"2020-02-05T00:00:00\", \"2020-02-06T00:00:00\", \"2020-02-07T00:00:00\", \"2020-02-08T00:00:00\", \"2020-02-09T00:00:00\", \"2020-02-10T00:00:00\", \"2020-02-11T00:00:00\", \"2020-02-12T00:00:00\", \"2020-02-13T00:00:00\", \"2020-02-14T00:00:00\", \"2020-02-15T00:00:00\", \"2020-02-16T00:00:00\", \"2020-02-17T00:00:00\", \"2020-02-18T00:00:00\", \"2020-02-19T00:00:00\", \"2020-02-20T00:00:00\", \"2020-02-21T00:00:00\", \"2020-02-22T00:00:00\", \"2020-02-23T00:00:00\", \"2020-02-24T00:00:00\", \"2020-02-25T00:00:00\", \"2020-02-26T00:00:00\", \"2020-02-27T00:00:00\", \"2020-02-28T00:00:00\", \"2020-02-29T00:00:00\", \"2020-03-01T00:00:00\", \"2020-03-02T00:00:00\", \"2020-03-03T00:00:00\", \"2020-03-04T00:00:00\", \"2020-03-05T00:00:00\", \"2020-03-06T00:00:00\", \"2020-03-07T00:00:00\", \"2020-03-08T00:00:00\", \"2020-03-09T00:00:00\", \"2020-03-10T00:00:00\", \"2020-03-11T00:00:00\", \"2020-03-12T00:00:00\", \"2020-03-13T00:00:00\", \"2020-03-14T00:00:00\", \"2020-03-15T00:00:00\", \"2020-03-16T00:00:00\", \"2020-03-17T00:00:00\", \"2020-03-18T00:00:00\", \"2020-03-19T00:00:00\", \"2020-03-20T00:00:00\", \"2020-03-21T00:00:00\", \"2020-03-22T00:00:00\", \"2020-03-23T00:00:00\", \"2020-03-24T00:00:00\", \"2020-03-25T00:00:00\", \"2020-03-26T00:00:00\", \"2020-03-27T00:00:00\", \"2020-03-28T00:00:00\", \"2020-03-29T00:00:00\", \"2020-03-30T00:00:00\", \"2020-03-31T00:00:00\", \"2020-04-01T00:00:00\", \"2020-04-02T00:00:00\", \"2020-04-03T00:00:00\", \"2020-04-04T00:00:00\", \"2020-04-05T00:00:00\", \"2020-04-06T00:00:00\", \"2020-04-07T00:00:00\", \"2020-04-08T00:00:00\", \"2020-04-09T00:00:00\", \"2020-04-10T00:00:00\", \"2020-04-11T00:00:00\", \"2020-04-12T00:00:00\", \"2020-04-13T00:00:00\", \"2020-04-14T00:00:00\", \"2020-04-15T00:00:00\", \"2020-04-16T00:00:00\", \"2020-04-17T00:00:00\", \"2020-04-18T00:00:00\", \"2020-04-19T00:00:00\", \"2020-04-20T00:00:00\", \"2020-04-21T00:00:00\", \"2020-04-22T00:00:00\", \"2020-04-23T00:00:00\", \"2020-04-24T00:00:00\", \"2020-04-25T00:00:00\", \"2020-04-26T00:00:00\", \"2020-04-27T00:00:00\", \"2020-04-28T00:00:00\", \"2020-04-29T00:00:00\", \"2020-04-30T00:00:00\", \"2020-05-01T00:00:00\", \"2020-05-02T00:00:00\", \"2020-05-03T00:00:00\", \"2020-05-04T00:00:00\", \"2020-05-05T00:00:00\", \"2020-05-06T00:00:00\", \"2020-05-07T00:00:00\", \"2020-05-08T00:00:00\", \"2020-05-09T00:00:00\", \"2020-05-10T00:00:00\", \"2020-05-11T00:00:00\", \"2020-05-12T00:00:00\", \"2020-05-13T00:00:00\", \"2020-05-14T00:00:00\", \"2020-05-15T00:00:00\", \"2020-05-16T00:00:00\", \"2020-05-17T00:00:00\", \"2020-05-18T00:00:00\", \"2020-05-19T00:00:00\", \"2020-05-20T00:00:00\", \"2020-05-21T00:00:00\", \"2020-05-22T00:00:00\", \"2020-05-23T00:00:00\", \"2020-05-24T00:00:00\", \"2020-05-25T00:00:00\", \"2020-05-26T00:00:00\", \"2020-05-27T00:00:00\", \"2020-05-28T00:00:00\", \"2020-05-29T00:00:00\", \"2020-05-30T00:00:00\", \"2020-05-31T00:00:00\", \"2020-06-01T00:00:00\", \"2020-06-02T00:00:00\", \"2020-06-03T00:00:00\", \"2020-06-04T00:00:00\", \"2020-06-05T00:00:00\", \"2020-06-06T00:00:00\", \"2020-06-07T00:00:00\", \"2020-06-08T00:00:00\", \"2020-06-09T00:00:00\", \"2020-06-10T00:00:00\", \"2020-06-11T00:00:00\", \"2020-06-12T00:00:00\", \"2020-06-13T00:00:00\", \"2020-06-14T00:00:00\", \"2020-06-15T00:00:00\", \"2020-06-16T00:00:00\", \"2020-06-17T00:00:00\", \"2020-06-18T00:00:00\", \"2020-06-19T00:00:00\", \"2020-06-20T00:00:00\", \"2020-06-21T00:00:00\", \"2020-06-22T00:00:00\", \"2020-06-23T00:00:00\", \"2020-06-24T00:00:00\", \"2020-06-25T00:00:00\", \"2020-06-26T00:00:00\", \"2020-06-27T00:00:00\", \"2020-06-28T00:00:00\", \"2020-06-29T00:00:00\", \"2020-06-30T00:00:00\", \"2020-07-01T00:00:00\", \"2020-07-02T00:00:00\", \"2020-07-03T00:00:00\", \"2020-07-04T00:00:00\", \"2020-07-05T00:00:00\", \"2020-07-06T00:00:00\", \"2020-07-07T00:00:00\", \"2020-07-08T00:00:00\", \"2020-07-09T00:00:00\", \"2020-07-10T00:00:00\", \"2020-07-11T00:00:00\", \"2020-07-12T00:00:00\", \"2020-07-13T00:00:00\", \"2020-07-14T00:00:00\", \"2020-07-15T00:00:00\", \"2020-07-16T00:00:00\", \"2020-07-17T00:00:00\", \"2020-07-18T00:00:00\", \"2020-07-19T00:00:00\", \"2020-07-20T00:00:00\", \"2020-07-21T00:00:00\", \"2020-07-22T00:00:00\", \"2020-07-23T00:00:00\", \"2020-07-24T00:00:00\", \"2020-07-25T00:00:00\", \"2020-07-26T00:00:00\", \"2020-07-27T00:00:00\", \"2020-07-28T00:00:00\"], \"xaxis\": \"x\", \"y\": [0, 0, 0, 0, 0, 0, 0, 0, 0, 0, 0, 0, 0, 0, 0, 0, 0, 0, 0, 0, 0, 0, 0, 0, 0, 0, 0, 0, 0, 0, 0, 0, 0, 0, 0, 0, 0, 0, 0, 0, 0, 0, 0, 0, 0, 0, 0, 1, 1, 1, 1, 1, 1, 1, 4, 5, 8, 9, 12, 19, 20, 24, 25, 29, 37, 53, 60, 63, 79, 100, 108, 138, 178, 217, 258, 338, 374, 406, 502, 556, 653, 713, 780, 900, 1007, 1258, 1355, 1400, 1564, 1726, 1909, 2077, 2240, 2401, 2570, 2686, 2840, 2982, 3154, 3309, 3536, 3683, 3794, 4002, 4189, 4365, 4540, 4696, 4822, 4990, 5114, 5299, 5424, 5591, 5678, 5799, 5902, 5959, 6027, 6149, 6266, 6359, 6465, 6533, 6654, 6752, 6875, 6981, 7062, 7158, 7373, 7403, 7477, 7578, 7716, 7777, 7849, 7876, 7909, 7969, 8037, 8070, 8124, 8182, 8217, 8227, 8270, 8311, 8360, 8407, 8465, 8481, 8493, 8511, 8543, 8566, 8570, 8575, 8581, 8627, 8649, 8677, 8699, 8721, 8731, 8738, 8747, 8764, 8785, 8796, 8810, 8817, 8828, 8835, 8844, 8856, 8874, 8883, 8891, 8895, 8901, 8907, 8912, 8918, 8922, 8928, 8933, 8944, 8956], \"yaxis\": \"y\"}],\n",
       "                        {\"legend\": {\"tracegroupgap\": 0}, \"template\": {\"data\": {\"bar\": [{\"error_x\": {\"color\": \"#2a3f5f\"}, \"error_y\": {\"color\": \"#2a3f5f\"}, \"marker\": {\"line\": {\"color\": \"#E5ECF6\", \"width\": 0.5}}, \"type\": \"bar\"}], \"barpolar\": [{\"marker\": {\"line\": {\"color\": \"#E5ECF6\", \"width\": 0.5}}, \"type\": \"barpolar\"}], \"carpet\": [{\"aaxis\": {\"endlinecolor\": \"#2a3f5f\", \"gridcolor\": \"white\", \"linecolor\": \"white\", \"minorgridcolor\": \"white\", \"startlinecolor\": \"#2a3f5f\"}, \"baxis\": {\"endlinecolor\": \"#2a3f5f\", \"gridcolor\": \"white\", \"linecolor\": \"white\", \"minorgridcolor\": \"white\", \"startlinecolor\": \"#2a3f5f\"}, \"type\": \"carpet\"}], \"choropleth\": [{\"colorbar\": {\"outlinewidth\": 0, \"ticks\": \"\"}, \"type\": \"choropleth\"}], \"contour\": [{\"colorbar\": {\"outlinewidth\": 0, \"ticks\": \"\"}, \"colorscale\": [[0.0, \"#0d0887\"], [0.1111111111111111, \"#46039f\"], [0.2222222222222222, \"#7201a8\"], [0.3333333333333333, \"#9c179e\"], [0.4444444444444444, \"#bd3786\"], [0.5555555555555556, \"#d8576b\"], [0.6666666666666666, \"#ed7953\"], [0.7777777777777778, \"#fb9f3a\"], [0.8888888888888888, \"#fdca26\"], [1.0, \"#f0f921\"]], \"type\": \"contour\"}], \"contourcarpet\": [{\"colorbar\": {\"outlinewidth\": 0, \"ticks\": \"\"}, \"type\": \"contourcarpet\"}], \"heatmap\": [{\"colorbar\": {\"outlinewidth\": 0, \"ticks\": \"\"}, \"colorscale\": [[0.0, \"#0d0887\"], [0.1111111111111111, \"#46039f\"], [0.2222222222222222, \"#7201a8\"], [0.3333333333333333, \"#9c179e\"], [0.4444444444444444, \"#bd3786\"], [0.5555555555555556, \"#d8576b\"], [0.6666666666666666, \"#ed7953\"], [0.7777777777777778, \"#fb9f3a\"], [0.8888888888888888, \"#fdca26\"], [1.0, \"#f0f921\"]], \"type\": \"heatmap\"}], \"heatmapgl\": [{\"colorbar\": {\"outlinewidth\": 0, \"ticks\": \"\"}, \"colorscale\": [[0.0, \"#0d0887\"], [0.1111111111111111, \"#46039f\"], [0.2222222222222222, \"#7201a8\"], [0.3333333333333333, \"#9c179e\"], [0.4444444444444444, \"#bd3786\"], [0.5555555555555556, \"#d8576b\"], [0.6666666666666666, \"#ed7953\"], [0.7777777777777778, \"#fb9f3a\"], [0.8888888888888888, \"#fdca26\"], [1.0, \"#f0f921\"]], \"type\": \"heatmapgl\"}], \"histogram\": [{\"marker\": {\"colorbar\": {\"outlinewidth\": 0, \"ticks\": \"\"}}, \"type\": \"histogram\"}], \"histogram2d\": [{\"colorbar\": {\"outlinewidth\": 0, \"ticks\": \"\"}, \"colorscale\": [[0.0, \"#0d0887\"], [0.1111111111111111, \"#46039f\"], [0.2222222222222222, \"#7201a8\"], [0.3333333333333333, \"#9c179e\"], [0.4444444444444444, \"#bd3786\"], [0.5555555555555556, \"#d8576b\"], [0.6666666666666666, \"#ed7953\"], [0.7777777777777778, \"#fb9f3a\"], [0.8888888888888888, \"#fdca26\"], [1.0, \"#f0f921\"]], \"type\": \"histogram2d\"}], \"histogram2dcontour\": [{\"colorbar\": {\"outlinewidth\": 0, \"ticks\": \"\"}, \"colorscale\": [[0.0, \"#0d0887\"], [0.1111111111111111, \"#46039f\"], [0.2222222222222222, \"#7201a8\"], [0.3333333333333333, \"#9c179e\"], [0.4444444444444444, \"#bd3786\"], [0.5555555555555556, \"#d8576b\"], [0.6666666666666666, \"#ed7953\"], [0.7777777777777778, \"#fb9f3a\"], [0.8888888888888888, \"#fdca26\"], [1.0, \"#f0f921\"]], \"type\": \"histogram2dcontour\"}], \"mesh3d\": [{\"colorbar\": {\"outlinewidth\": 0, \"ticks\": \"\"}, \"type\": \"mesh3d\"}], \"parcoords\": [{\"line\": {\"colorbar\": {\"outlinewidth\": 0, \"ticks\": \"\"}}, \"type\": \"parcoords\"}], \"pie\": [{\"automargin\": true, \"type\": \"pie\"}], \"scatter\": [{\"marker\": {\"colorbar\": {\"outlinewidth\": 0, \"ticks\": \"\"}}, \"type\": \"scatter\"}], \"scatter3d\": [{\"line\": {\"colorbar\": {\"outlinewidth\": 0, \"ticks\": \"\"}}, \"marker\": {\"colorbar\": {\"outlinewidth\": 0, \"ticks\": \"\"}}, \"type\": \"scatter3d\"}], \"scattercarpet\": [{\"marker\": {\"colorbar\": {\"outlinewidth\": 0, \"ticks\": \"\"}}, \"type\": \"scattercarpet\"}], \"scattergeo\": [{\"marker\": {\"colorbar\": {\"outlinewidth\": 0, \"ticks\": \"\"}}, \"type\": \"scattergeo\"}], \"scattergl\": [{\"marker\": {\"colorbar\": {\"outlinewidth\": 0, \"ticks\": \"\"}}, \"type\": \"scattergl\"}], \"scattermapbox\": [{\"marker\": {\"colorbar\": {\"outlinewidth\": 0, \"ticks\": \"\"}}, \"type\": \"scattermapbox\"}], \"scatterpolar\": [{\"marker\": {\"colorbar\": {\"outlinewidth\": 0, \"ticks\": \"\"}}, \"type\": \"scatterpolar\"}], \"scatterpolargl\": [{\"marker\": {\"colorbar\": {\"outlinewidth\": 0, \"ticks\": \"\"}}, \"type\": \"scatterpolargl\"}], \"scatterternary\": [{\"marker\": {\"colorbar\": {\"outlinewidth\": 0, \"ticks\": \"\"}}, \"type\": \"scatterternary\"}], \"surface\": [{\"colorbar\": {\"outlinewidth\": 0, \"ticks\": \"\"}, \"colorscale\": [[0.0, \"#0d0887\"], [0.1111111111111111, \"#46039f\"], [0.2222222222222222, \"#7201a8\"], [0.3333333333333333, \"#9c179e\"], [0.4444444444444444, \"#bd3786\"], [0.5555555555555556, \"#d8576b\"], [0.6666666666666666, \"#ed7953\"], [0.7777777777777778, \"#fb9f3a\"], [0.8888888888888888, \"#fdca26\"], [1.0, \"#f0f921\"]], \"type\": \"surface\"}], \"table\": [{\"cells\": {\"fill\": {\"color\": \"#EBF0F8\"}, \"line\": {\"color\": \"white\"}}, \"header\": {\"fill\": {\"color\": \"#C8D4E3\"}, \"line\": {\"color\": \"white\"}}, \"type\": \"table\"}]}, \"layout\": {\"annotationdefaults\": {\"arrowcolor\": \"#2a3f5f\", \"arrowhead\": 0, \"arrowwidth\": 1}, \"coloraxis\": {\"colorbar\": {\"outlinewidth\": 0, \"ticks\": \"\"}}, \"colorscale\": {\"diverging\": [[0, \"#8e0152\"], [0.1, \"#c51b7d\"], [0.2, \"#de77ae\"], [0.3, \"#f1b6da\"], [0.4, \"#fde0ef\"], [0.5, \"#f7f7f7\"], [0.6, \"#e6f5d0\"], [0.7, \"#b8e186\"], [0.8, \"#7fbc41\"], [0.9, \"#4d9221\"], [1, \"#276419\"]], \"sequential\": [[0.0, \"#0d0887\"], [0.1111111111111111, \"#46039f\"], [0.2222222222222222, \"#7201a8\"], [0.3333333333333333, \"#9c179e\"], [0.4444444444444444, \"#bd3786\"], [0.5555555555555556, \"#d8576b\"], [0.6666666666666666, \"#ed7953\"], [0.7777777777777778, \"#fb9f3a\"], [0.8888888888888888, \"#fdca26\"], [1.0, \"#f0f921\"]], \"sequentialminus\": [[0.0, \"#0d0887\"], [0.1111111111111111, \"#46039f\"], [0.2222222222222222, \"#7201a8\"], [0.3333333333333333, \"#9c179e\"], [0.4444444444444444, \"#bd3786\"], [0.5555555555555556, \"#d8576b\"], [0.6666666666666666, \"#ed7953\"], [0.7777777777777778, \"#fb9f3a\"], [0.8888888888888888, \"#fdca26\"], [1.0, \"#f0f921\"]]}, \"colorway\": [\"#636efa\", \"#EF553B\", \"#00cc96\", \"#ab63fa\", \"#FFA15A\", \"#19d3f3\", \"#FF6692\", \"#B6E880\", \"#FF97FF\", \"#FECB52\"], \"font\": {\"color\": \"#2a3f5f\"}, \"geo\": {\"bgcolor\": \"white\", \"lakecolor\": \"white\", \"landcolor\": \"#E5ECF6\", \"showlakes\": true, \"showland\": true, \"subunitcolor\": \"white\"}, \"hoverlabel\": {\"align\": \"left\"}, \"hovermode\": \"closest\", \"mapbox\": {\"style\": \"light\"}, \"paper_bgcolor\": \"white\", \"plot_bgcolor\": \"#E5ECF6\", \"polar\": {\"angularaxis\": {\"gridcolor\": \"white\", \"linecolor\": \"white\", \"ticks\": \"\"}, \"bgcolor\": \"#E5ECF6\", \"radialaxis\": {\"gridcolor\": \"white\", \"linecolor\": \"white\", \"ticks\": \"\"}}, \"scene\": {\"xaxis\": {\"backgroundcolor\": \"#E5ECF6\", \"gridcolor\": \"white\", \"gridwidth\": 2, \"linecolor\": \"white\", \"showbackground\": true, \"ticks\": \"\", \"zerolinecolor\": \"white\"}, \"yaxis\": {\"backgroundcolor\": \"#E5ECF6\", \"gridcolor\": \"white\", \"gridwidth\": 2, \"linecolor\": \"white\", \"showbackground\": true, \"ticks\": \"\", \"zerolinecolor\": \"white\"}, \"zaxis\": {\"backgroundcolor\": \"#E5ECF6\", \"gridcolor\": \"white\", \"gridwidth\": 2, \"linecolor\": \"white\", \"showbackground\": true, \"ticks\": \"\", \"zerolinecolor\": \"white\"}}, \"shapedefaults\": {\"line\": {\"color\": \"#2a3f5f\"}}, \"ternary\": {\"aaxis\": {\"gridcolor\": \"white\", \"linecolor\": \"white\", \"ticks\": \"\"}, \"baxis\": {\"gridcolor\": \"white\", \"linecolor\": \"white\", \"ticks\": \"\"}, \"bgcolor\": \"#E5ECF6\", \"caxis\": {\"gridcolor\": \"white\", \"linecolor\": \"white\", \"ticks\": \"\"}}, \"title\": {\"x\": 0.05}, \"xaxis\": {\"automargin\": true, \"gridcolor\": \"white\", \"linecolor\": \"white\", \"ticks\": \"\", \"title\": {\"standoff\": 15}, \"zerolinecolor\": \"white\", \"zerolinewidth\": 2}, \"yaxis\": {\"automargin\": true, \"gridcolor\": \"white\", \"linecolor\": \"white\", \"ticks\": \"\", \"title\": {\"standoff\": 15}, \"zerolinecolor\": \"white\", \"zerolinewidth\": 2}}}, \"title\": {\"text\": \"Total Deaths in Canada\"}, \"xaxis\": {\"anchor\": \"y\", \"domain\": [0.0, 1.0], \"title\": {\"text\": \"Date\"}}, \"yaxis\": {\"anchor\": \"x\", \"domain\": [0.0, 1.0], \"title\": {\"text\": \"Deaths\"}}},\n",
       "                        {\"responsive\": true}\n",
       "                    ).then(function(){\n",
       "                            \n",
       "var gd = document.getElementById('c2d89b8d-bfdb-4319-905d-8fdf1291c829');\n",
       "var x = new MutationObserver(function (mutations, observer) {{\n",
       "        var display = window.getComputedStyle(gd).display;\n",
       "        if (!display || display === 'none') {{\n",
       "            console.log([gd, 'removed!']);\n",
       "            Plotly.purge(gd);\n",
       "            observer.disconnect();\n",
       "        }}\n",
       "}});\n",
       "\n",
       "// Listen for the removal of the full notebook cells\n",
       "var notebookContainer = gd.closest('#notebook-container');\n",
       "if (notebookContainer) {{\n",
       "    x.observe(notebookContainer, {childList: true});\n",
       "}}\n",
       "\n",
       "// Listen for the clearing of the current output cell\n",
       "var outputEl = gd.closest('.output');\n",
       "if (outputEl) {{\n",
       "    x.observe(outputEl, {childList: true});\n",
       "}}\n",
       "\n",
       "                        })\n",
       "                };\n",
       "                });\n",
       "            </script>\n",
       "        </div>"
      ]
     },
     "metadata": {},
     "output_type": "display_data"
    }
   ],
   "source": [
    "fig = px.line(canada, x=\"Date\", y=\"Deaths\", title='Total Deaths in Canada')\n",
    "fig.show()"
   ]
  },
  {
   "cell_type": "code",
   "execution_count": 43,
   "metadata": {},
   "outputs": [
    {
     "data": {
      "application/vnd.plotly.v1+json": {
       "config": {
        "plotlyServerURL": "https://plot.ly"
       },
       "data": [
        {
         "hovertemplate": "Date=%{x}<br>Active=%{y}<extra></extra>",
         "legendgroup": "",
         "line": {
          "color": "#636efa",
          "dash": "solid"
         },
         "mode": "lines",
         "name": "",
         "orientation": "v",
         "showlegend": false,
         "type": "scatter",
         "x": [
          "2020-01-22T00:00:00",
          "2020-01-23T00:00:00",
          "2020-01-24T00:00:00",
          "2020-01-25T00:00:00",
          "2020-01-26T00:00:00",
          "2020-01-27T00:00:00",
          "2020-01-28T00:00:00",
          "2020-01-29T00:00:00",
          "2020-01-30T00:00:00",
          "2020-01-31T00:00:00",
          "2020-02-01T00:00:00",
          "2020-02-02T00:00:00",
          "2020-02-03T00:00:00",
          "2020-02-04T00:00:00",
          "2020-02-05T00:00:00",
          "2020-02-06T00:00:00",
          "2020-02-07T00:00:00",
          "2020-02-08T00:00:00",
          "2020-02-09T00:00:00",
          "2020-02-10T00:00:00",
          "2020-02-11T00:00:00",
          "2020-02-12T00:00:00",
          "2020-02-13T00:00:00",
          "2020-02-14T00:00:00",
          "2020-02-15T00:00:00",
          "2020-02-16T00:00:00",
          "2020-02-17T00:00:00",
          "2020-02-18T00:00:00",
          "2020-02-19T00:00:00",
          "2020-02-20T00:00:00",
          "2020-02-21T00:00:00",
          "2020-02-22T00:00:00",
          "2020-02-23T00:00:00",
          "2020-02-24T00:00:00",
          "2020-02-25T00:00:00",
          "2020-02-26T00:00:00",
          "2020-02-27T00:00:00",
          "2020-02-28T00:00:00",
          "2020-02-29T00:00:00",
          "2020-03-01T00:00:00",
          "2020-03-02T00:00:00",
          "2020-03-03T00:00:00",
          "2020-03-04T00:00:00",
          "2020-03-05T00:00:00",
          "2020-03-06T00:00:00",
          "2020-03-07T00:00:00",
          "2020-03-08T00:00:00",
          "2020-03-09T00:00:00",
          "2020-03-10T00:00:00",
          "2020-03-11T00:00:00",
          "2020-03-12T00:00:00",
          "2020-03-13T00:00:00",
          "2020-03-14T00:00:00",
          "2020-03-15T00:00:00",
          "2020-03-16T00:00:00",
          "2020-03-17T00:00:00",
          "2020-03-18T00:00:00",
          "2020-03-19T00:00:00",
          "2020-03-20T00:00:00",
          "2020-03-21T00:00:00",
          "2020-03-22T00:00:00",
          "2020-03-23T00:00:00",
          "2020-03-24T00:00:00",
          "2020-03-25T00:00:00",
          "2020-03-26T00:00:00",
          "2020-03-27T00:00:00",
          "2020-03-28T00:00:00",
          "2020-03-29T00:00:00",
          "2020-03-30T00:00:00",
          "2020-03-31T00:00:00",
          "2020-04-01T00:00:00",
          "2020-04-02T00:00:00",
          "2020-04-03T00:00:00",
          "2020-04-04T00:00:00",
          "2020-04-05T00:00:00",
          "2020-04-06T00:00:00",
          "2020-04-07T00:00:00",
          "2020-04-08T00:00:00",
          "2020-04-09T00:00:00",
          "2020-04-10T00:00:00",
          "2020-04-11T00:00:00",
          "2020-04-12T00:00:00",
          "2020-04-13T00:00:00",
          "2020-04-14T00:00:00",
          "2020-04-15T00:00:00",
          "2020-04-16T00:00:00",
          "2020-04-17T00:00:00",
          "2020-04-18T00:00:00",
          "2020-04-19T00:00:00",
          "2020-04-20T00:00:00",
          "2020-04-21T00:00:00",
          "2020-04-22T00:00:00",
          "2020-04-23T00:00:00",
          "2020-04-24T00:00:00",
          "2020-04-25T00:00:00",
          "2020-04-26T00:00:00",
          "2020-04-27T00:00:00",
          "2020-04-28T00:00:00",
          "2020-04-29T00:00:00",
          "2020-04-30T00:00:00",
          "2020-05-01T00:00:00",
          "2020-05-02T00:00:00",
          "2020-05-03T00:00:00",
          "2020-05-04T00:00:00",
          "2020-05-05T00:00:00",
          "2020-05-06T00:00:00",
          "2020-05-07T00:00:00",
          "2020-05-08T00:00:00",
          "2020-05-09T00:00:00",
          "2020-05-10T00:00:00",
          "2020-05-11T00:00:00",
          "2020-05-12T00:00:00",
          "2020-05-13T00:00:00",
          "2020-05-14T00:00:00",
          "2020-05-15T00:00:00",
          "2020-05-16T00:00:00",
          "2020-05-17T00:00:00",
          "2020-05-18T00:00:00",
          "2020-05-19T00:00:00",
          "2020-05-20T00:00:00",
          "2020-05-21T00:00:00",
          "2020-05-22T00:00:00",
          "2020-05-23T00:00:00",
          "2020-05-24T00:00:00",
          "2020-05-25T00:00:00",
          "2020-05-26T00:00:00",
          "2020-05-27T00:00:00",
          "2020-05-28T00:00:00",
          "2020-05-29T00:00:00",
          "2020-05-30T00:00:00",
          "2020-05-31T00:00:00",
          "2020-06-01T00:00:00",
          "2020-06-02T00:00:00",
          "2020-06-03T00:00:00",
          "2020-06-04T00:00:00",
          "2020-06-05T00:00:00",
          "2020-06-06T00:00:00",
          "2020-06-07T00:00:00",
          "2020-06-08T00:00:00",
          "2020-06-09T00:00:00",
          "2020-06-10T00:00:00",
          "2020-06-11T00:00:00",
          "2020-06-12T00:00:00",
          "2020-06-13T00:00:00",
          "2020-06-14T00:00:00",
          "2020-06-15T00:00:00",
          "2020-06-16T00:00:00",
          "2020-06-17T00:00:00",
          "2020-06-18T00:00:00",
          "2020-06-19T00:00:00",
          "2020-06-20T00:00:00",
          "2020-06-21T00:00:00",
          "2020-06-22T00:00:00",
          "2020-06-23T00:00:00",
          "2020-06-24T00:00:00",
          "2020-06-25T00:00:00",
          "2020-06-26T00:00:00",
          "2020-06-27T00:00:00",
          "2020-06-28T00:00:00",
          "2020-06-29T00:00:00",
          "2020-06-30T00:00:00",
          "2020-07-01T00:00:00",
          "2020-07-02T00:00:00",
          "2020-07-03T00:00:00",
          "2020-07-04T00:00:00",
          "2020-07-05T00:00:00",
          "2020-07-06T00:00:00",
          "2020-07-07T00:00:00",
          "2020-07-08T00:00:00",
          "2020-07-09T00:00:00",
          "2020-07-10T00:00:00",
          "2020-07-11T00:00:00",
          "2020-07-12T00:00:00",
          "2020-07-13T00:00:00",
          "2020-07-14T00:00:00",
          "2020-07-15T00:00:00",
          "2020-07-16T00:00:00",
          "2020-07-17T00:00:00",
          "2020-07-18T00:00:00",
          "2020-07-19T00:00:00",
          "2020-07-20T00:00:00",
          "2020-07-21T00:00:00",
          "2020-07-22T00:00:00",
          "2020-07-23T00:00:00",
          "2020-07-24T00:00:00",
          "2020-07-25T00:00:00",
          "2020-07-26T00:00:00",
          "2020-07-27T00:00:00",
          "2020-07-28T00:00:00"
         ],
         "xaxis": "x",
         "y": [
          0,
          0,
          0,
          0,
          1,
          1,
          2,
          2,
          2,
          4,
          4,
          4,
          4,
          4,
          5,
          5,
          7,
          7,
          7,
          7,
          7,
          6,
          6,
          6,
          6,
          6,
          7,
          7,
          7,
          7,
          6,
          6,
          6,
          7,
          8,
          8,
          7,
          8,
          14,
          18,
          21,
          24,
          27,
          31,
          43,
          46,
          56,
          68,
          70,
          99,
          108,
          182,
          187,
          241,
          400,
          456,
          631,
          773,
          912,
          1238,
          1426,
          2041,
          2642,
          3026,
          3808,
          4360,
          5037,
          5738,
          6840,
          6822,
          8115,
          9398,
          10071,
          10171,
          12473,
          12956,
          13694,
          14568,
          14977,
          15635,
          16061,
          16450,
          17129,
          17912,
          18223,
          19840,
          20901,
          21979,
          22209,
          23376,
          24292,
          25119,
          26285,
          27356,
          27775,
          28451,
          28495,
          28924,
          29371,
          29711,
          30029,
          30415,
          31775,
          31911,
          32006,
          32131,
          32387,
          32725,
          32820,
          32978,
          33129,
          33051,
          32953,
          33072,
          33359,
          33561,
          33853,
          34187,
          34383,
          34619,
          34731,
          34966,
          35354,
          35561,
          35800,
          35972,
          35852,
          36020,
          35928,
          35992,
          35879,
          35780,
          35745,
          35544,
          35356,
          35083,
          34526,
          34614,
          34514,
          34142,
          33455,
          32945,
          32424,
          31997,
          31506,
          31057,
          30905,
          29887,
          29722,
          29576,
          29458,
          29335,
          29191,
          29108,
          28998,
          29015,
          28864,
          28845,
          28910,
          28492,
          28315,
          28201,
          28059,
          27996,
          27934,
          27871,
          27914,
          27828,
          27731,
          27752,
          27695,
          27536,
          27553,
          27755,
          27780,
          27757,
          27824,
          4382,
          4535,
          4696,
          5049,
          5305,
          5364,
          5530,
          5676,
          5764,
          5874,
          6067,
          6216
         ],
         "yaxis": "y"
        }
       ],
       "layout": {
        "legend": {
         "tracegroupgap": 0
        },
        "template": {
         "data": {
          "bar": [
           {
            "error_x": {
             "color": "#2a3f5f"
            },
            "error_y": {
             "color": "#2a3f5f"
            },
            "marker": {
             "line": {
              "color": "#E5ECF6",
              "width": 0.5
             }
            },
            "type": "bar"
           }
          ],
          "barpolar": [
           {
            "marker": {
             "line": {
              "color": "#E5ECF6",
              "width": 0.5
             }
            },
            "type": "barpolar"
           }
          ],
          "carpet": [
           {
            "aaxis": {
             "endlinecolor": "#2a3f5f",
             "gridcolor": "white",
             "linecolor": "white",
             "minorgridcolor": "white",
             "startlinecolor": "#2a3f5f"
            },
            "baxis": {
             "endlinecolor": "#2a3f5f",
             "gridcolor": "white",
             "linecolor": "white",
             "minorgridcolor": "white",
             "startlinecolor": "#2a3f5f"
            },
            "type": "carpet"
           }
          ],
          "choropleth": [
           {
            "colorbar": {
             "outlinewidth": 0,
             "ticks": ""
            },
            "type": "choropleth"
           }
          ],
          "contour": [
           {
            "colorbar": {
             "outlinewidth": 0,
             "ticks": ""
            },
            "colorscale": [
             [
              0,
              "#0d0887"
             ],
             [
              0.1111111111111111,
              "#46039f"
             ],
             [
              0.2222222222222222,
              "#7201a8"
             ],
             [
              0.3333333333333333,
              "#9c179e"
             ],
             [
              0.4444444444444444,
              "#bd3786"
             ],
             [
              0.5555555555555556,
              "#d8576b"
             ],
             [
              0.6666666666666666,
              "#ed7953"
             ],
             [
              0.7777777777777778,
              "#fb9f3a"
             ],
             [
              0.8888888888888888,
              "#fdca26"
             ],
             [
              1,
              "#f0f921"
             ]
            ],
            "type": "contour"
           }
          ],
          "contourcarpet": [
           {
            "colorbar": {
             "outlinewidth": 0,
             "ticks": ""
            },
            "type": "contourcarpet"
           }
          ],
          "heatmap": [
           {
            "colorbar": {
             "outlinewidth": 0,
             "ticks": ""
            },
            "colorscale": [
             [
              0,
              "#0d0887"
             ],
             [
              0.1111111111111111,
              "#46039f"
             ],
             [
              0.2222222222222222,
              "#7201a8"
             ],
             [
              0.3333333333333333,
              "#9c179e"
             ],
             [
              0.4444444444444444,
              "#bd3786"
             ],
             [
              0.5555555555555556,
              "#d8576b"
             ],
             [
              0.6666666666666666,
              "#ed7953"
             ],
             [
              0.7777777777777778,
              "#fb9f3a"
             ],
             [
              0.8888888888888888,
              "#fdca26"
             ],
             [
              1,
              "#f0f921"
             ]
            ],
            "type": "heatmap"
           }
          ],
          "heatmapgl": [
           {
            "colorbar": {
             "outlinewidth": 0,
             "ticks": ""
            },
            "colorscale": [
             [
              0,
              "#0d0887"
             ],
             [
              0.1111111111111111,
              "#46039f"
             ],
             [
              0.2222222222222222,
              "#7201a8"
             ],
             [
              0.3333333333333333,
              "#9c179e"
             ],
             [
              0.4444444444444444,
              "#bd3786"
             ],
             [
              0.5555555555555556,
              "#d8576b"
             ],
             [
              0.6666666666666666,
              "#ed7953"
             ],
             [
              0.7777777777777778,
              "#fb9f3a"
             ],
             [
              0.8888888888888888,
              "#fdca26"
             ],
             [
              1,
              "#f0f921"
             ]
            ],
            "type": "heatmapgl"
           }
          ],
          "histogram": [
           {
            "marker": {
             "colorbar": {
              "outlinewidth": 0,
              "ticks": ""
             }
            },
            "type": "histogram"
           }
          ],
          "histogram2d": [
           {
            "colorbar": {
             "outlinewidth": 0,
             "ticks": ""
            },
            "colorscale": [
             [
              0,
              "#0d0887"
             ],
             [
              0.1111111111111111,
              "#46039f"
             ],
             [
              0.2222222222222222,
              "#7201a8"
             ],
             [
              0.3333333333333333,
              "#9c179e"
             ],
             [
              0.4444444444444444,
              "#bd3786"
             ],
             [
              0.5555555555555556,
              "#d8576b"
             ],
             [
              0.6666666666666666,
              "#ed7953"
             ],
             [
              0.7777777777777778,
              "#fb9f3a"
             ],
             [
              0.8888888888888888,
              "#fdca26"
             ],
             [
              1,
              "#f0f921"
             ]
            ],
            "type": "histogram2d"
           }
          ],
          "histogram2dcontour": [
           {
            "colorbar": {
             "outlinewidth": 0,
             "ticks": ""
            },
            "colorscale": [
             [
              0,
              "#0d0887"
             ],
             [
              0.1111111111111111,
              "#46039f"
             ],
             [
              0.2222222222222222,
              "#7201a8"
             ],
             [
              0.3333333333333333,
              "#9c179e"
             ],
             [
              0.4444444444444444,
              "#bd3786"
             ],
             [
              0.5555555555555556,
              "#d8576b"
             ],
             [
              0.6666666666666666,
              "#ed7953"
             ],
             [
              0.7777777777777778,
              "#fb9f3a"
             ],
             [
              0.8888888888888888,
              "#fdca26"
             ],
             [
              1,
              "#f0f921"
             ]
            ],
            "type": "histogram2dcontour"
           }
          ],
          "mesh3d": [
           {
            "colorbar": {
             "outlinewidth": 0,
             "ticks": ""
            },
            "type": "mesh3d"
           }
          ],
          "parcoords": [
           {
            "line": {
             "colorbar": {
              "outlinewidth": 0,
              "ticks": ""
             }
            },
            "type": "parcoords"
           }
          ],
          "pie": [
           {
            "automargin": true,
            "type": "pie"
           }
          ],
          "scatter": [
           {
            "marker": {
             "colorbar": {
              "outlinewidth": 0,
              "ticks": ""
             }
            },
            "type": "scatter"
           }
          ],
          "scatter3d": [
           {
            "line": {
             "colorbar": {
              "outlinewidth": 0,
              "ticks": ""
             }
            },
            "marker": {
             "colorbar": {
              "outlinewidth": 0,
              "ticks": ""
             }
            },
            "type": "scatter3d"
           }
          ],
          "scattercarpet": [
           {
            "marker": {
             "colorbar": {
              "outlinewidth": 0,
              "ticks": ""
             }
            },
            "type": "scattercarpet"
           }
          ],
          "scattergeo": [
           {
            "marker": {
             "colorbar": {
              "outlinewidth": 0,
              "ticks": ""
             }
            },
            "type": "scattergeo"
           }
          ],
          "scattergl": [
           {
            "marker": {
             "colorbar": {
              "outlinewidth": 0,
              "ticks": ""
             }
            },
            "type": "scattergl"
           }
          ],
          "scattermapbox": [
           {
            "marker": {
             "colorbar": {
              "outlinewidth": 0,
              "ticks": ""
             }
            },
            "type": "scattermapbox"
           }
          ],
          "scatterpolar": [
           {
            "marker": {
             "colorbar": {
              "outlinewidth": 0,
              "ticks": ""
             }
            },
            "type": "scatterpolar"
           }
          ],
          "scatterpolargl": [
           {
            "marker": {
             "colorbar": {
              "outlinewidth": 0,
              "ticks": ""
             }
            },
            "type": "scatterpolargl"
           }
          ],
          "scatterternary": [
           {
            "marker": {
             "colorbar": {
              "outlinewidth": 0,
              "ticks": ""
             }
            },
            "type": "scatterternary"
           }
          ],
          "surface": [
           {
            "colorbar": {
             "outlinewidth": 0,
             "ticks": ""
            },
            "colorscale": [
             [
              0,
              "#0d0887"
             ],
             [
              0.1111111111111111,
              "#46039f"
             ],
             [
              0.2222222222222222,
              "#7201a8"
             ],
             [
              0.3333333333333333,
              "#9c179e"
             ],
             [
              0.4444444444444444,
              "#bd3786"
             ],
             [
              0.5555555555555556,
              "#d8576b"
             ],
             [
              0.6666666666666666,
              "#ed7953"
             ],
             [
              0.7777777777777778,
              "#fb9f3a"
             ],
             [
              0.8888888888888888,
              "#fdca26"
             ],
             [
              1,
              "#f0f921"
             ]
            ],
            "type": "surface"
           }
          ],
          "table": [
           {
            "cells": {
             "fill": {
              "color": "#EBF0F8"
             },
             "line": {
              "color": "white"
             }
            },
            "header": {
             "fill": {
              "color": "#C8D4E3"
             },
             "line": {
              "color": "white"
             }
            },
            "type": "table"
           }
          ]
         },
         "layout": {
          "annotationdefaults": {
           "arrowcolor": "#2a3f5f",
           "arrowhead": 0,
           "arrowwidth": 1
          },
          "coloraxis": {
           "colorbar": {
            "outlinewidth": 0,
            "ticks": ""
           }
          },
          "colorscale": {
           "diverging": [
            [
             0,
             "#8e0152"
            ],
            [
             0.1,
             "#c51b7d"
            ],
            [
             0.2,
             "#de77ae"
            ],
            [
             0.3,
             "#f1b6da"
            ],
            [
             0.4,
             "#fde0ef"
            ],
            [
             0.5,
             "#f7f7f7"
            ],
            [
             0.6,
             "#e6f5d0"
            ],
            [
             0.7,
             "#b8e186"
            ],
            [
             0.8,
             "#7fbc41"
            ],
            [
             0.9,
             "#4d9221"
            ],
            [
             1,
             "#276419"
            ]
           ],
           "sequential": [
            [
             0,
             "#0d0887"
            ],
            [
             0.1111111111111111,
             "#46039f"
            ],
            [
             0.2222222222222222,
             "#7201a8"
            ],
            [
             0.3333333333333333,
             "#9c179e"
            ],
            [
             0.4444444444444444,
             "#bd3786"
            ],
            [
             0.5555555555555556,
             "#d8576b"
            ],
            [
             0.6666666666666666,
             "#ed7953"
            ],
            [
             0.7777777777777778,
             "#fb9f3a"
            ],
            [
             0.8888888888888888,
             "#fdca26"
            ],
            [
             1,
             "#f0f921"
            ]
           ],
           "sequentialminus": [
            [
             0,
             "#0d0887"
            ],
            [
             0.1111111111111111,
             "#46039f"
            ],
            [
             0.2222222222222222,
             "#7201a8"
            ],
            [
             0.3333333333333333,
             "#9c179e"
            ],
            [
             0.4444444444444444,
             "#bd3786"
            ],
            [
             0.5555555555555556,
             "#d8576b"
            ],
            [
             0.6666666666666666,
             "#ed7953"
            ],
            [
             0.7777777777777778,
             "#fb9f3a"
            ],
            [
             0.8888888888888888,
             "#fdca26"
            ],
            [
             1,
             "#f0f921"
            ]
           ]
          },
          "colorway": [
           "#636efa",
           "#EF553B",
           "#00cc96",
           "#ab63fa",
           "#FFA15A",
           "#19d3f3",
           "#FF6692",
           "#B6E880",
           "#FF97FF",
           "#FECB52"
          ],
          "font": {
           "color": "#2a3f5f"
          },
          "geo": {
           "bgcolor": "white",
           "lakecolor": "white",
           "landcolor": "#E5ECF6",
           "showlakes": true,
           "showland": true,
           "subunitcolor": "white"
          },
          "hoverlabel": {
           "align": "left"
          },
          "hovermode": "closest",
          "mapbox": {
           "style": "light"
          },
          "paper_bgcolor": "white",
          "plot_bgcolor": "#E5ECF6",
          "polar": {
           "angularaxis": {
            "gridcolor": "white",
            "linecolor": "white",
            "ticks": ""
           },
           "bgcolor": "#E5ECF6",
           "radialaxis": {
            "gridcolor": "white",
            "linecolor": "white",
            "ticks": ""
           }
          },
          "scene": {
           "xaxis": {
            "backgroundcolor": "#E5ECF6",
            "gridcolor": "white",
            "gridwidth": 2,
            "linecolor": "white",
            "showbackground": true,
            "ticks": "",
            "zerolinecolor": "white"
           },
           "yaxis": {
            "backgroundcolor": "#E5ECF6",
            "gridcolor": "white",
            "gridwidth": 2,
            "linecolor": "white",
            "showbackground": true,
            "ticks": "",
            "zerolinecolor": "white"
           },
           "zaxis": {
            "backgroundcolor": "#E5ECF6",
            "gridcolor": "white",
            "gridwidth": 2,
            "linecolor": "white",
            "showbackground": true,
            "ticks": "",
            "zerolinecolor": "white"
           }
          },
          "shapedefaults": {
           "line": {
            "color": "#2a3f5f"
           }
          },
          "ternary": {
           "aaxis": {
            "gridcolor": "white",
            "linecolor": "white",
            "ticks": ""
           },
           "baxis": {
            "gridcolor": "white",
            "linecolor": "white",
            "ticks": ""
           },
           "bgcolor": "#E5ECF6",
           "caxis": {
            "gridcolor": "white",
            "linecolor": "white",
            "ticks": ""
           }
          },
          "title": {
           "x": 0.05
          },
          "xaxis": {
           "automargin": true,
           "gridcolor": "white",
           "linecolor": "white",
           "ticks": "",
           "title": {
            "standoff": 15
           },
           "zerolinecolor": "white",
           "zerolinewidth": 2
          },
          "yaxis": {
           "automargin": true,
           "gridcolor": "white",
           "linecolor": "white",
           "ticks": "",
           "title": {
            "standoff": 15
           },
           "zerolinecolor": "white",
           "zerolinewidth": 2
          }
         }
        },
        "title": {
         "text": "Total Active Cases in Canada"
        },
        "xaxis": {
         "anchor": "y",
         "domain": [
          0,
          1
         ],
         "title": {
          "text": "Date"
         }
        },
        "yaxis": {
         "anchor": "x",
         "domain": [
          0,
          1
         ],
         "title": {
          "text": "Active"
         }
        }
       }
      },
      "text/html": [
       "<div>\n",
       "        \n",
       "        \n",
       "            <div id=\"cd2ee405-6638-4138-a25d-35fdb480b1a5\" class=\"plotly-graph-div\" style=\"height:525px; width:100%;\"></div>\n",
       "            <script type=\"text/javascript\">\n",
       "                require([\"plotly\"], function(Plotly) {\n",
       "                    window.PLOTLYENV=window.PLOTLYENV || {};\n",
       "                    \n",
       "                if (document.getElementById(\"cd2ee405-6638-4138-a25d-35fdb480b1a5\")) {\n",
       "                    Plotly.newPlot(\n",
       "                        'cd2ee405-6638-4138-a25d-35fdb480b1a5',\n",
       "                        [{\"hovertemplate\": \"Date=%{x}<br>Active=%{y}<extra></extra>\", \"legendgroup\": \"\", \"line\": {\"color\": \"#636efa\", \"dash\": \"solid\"}, \"mode\": \"lines\", \"name\": \"\", \"orientation\": \"v\", \"showlegend\": false, \"type\": \"scatter\", \"x\": [\"2020-01-22T00:00:00\", \"2020-01-23T00:00:00\", \"2020-01-24T00:00:00\", \"2020-01-25T00:00:00\", \"2020-01-26T00:00:00\", \"2020-01-27T00:00:00\", \"2020-01-28T00:00:00\", \"2020-01-29T00:00:00\", \"2020-01-30T00:00:00\", \"2020-01-31T00:00:00\", \"2020-02-01T00:00:00\", \"2020-02-02T00:00:00\", \"2020-02-03T00:00:00\", \"2020-02-04T00:00:00\", \"2020-02-05T00:00:00\", \"2020-02-06T00:00:00\", \"2020-02-07T00:00:00\", \"2020-02-08T00:00:00\", \"2020-02-09T00:00:00\", \"2020-02-10T00:00:00\", \"2020-02-11T00:00:00\", \"2020-02-12T00:00:00\", \"2020-02-13T00:00:00\", \"2020-02-14T00:00:00\", \"2020-02-15T00:00:00\", \"2020-02-16T00:00:00\", \"2020-02-17T00:00:00\", \"2020-02-18T00:00:00\", \"2020-02-19T00:00:00\", \"2020-02-20T00:00:00\", \"2020-02-21T00:00:00\", \"2020-02-22T00:00:00\", \"2020-02-23T00:00:00\", \"2020-02-24T00:00:00\", \"2020-02-25T00:00:00\", \"2020-02-26T00:00:00\", \"2020-02-27T00:00:00\", \"2020-02-28T00:00:00\", \"2020-02-29T00:00:00\", \"2020-03-01T00:00:00\", \"2020-03-02T00:00:00\", \"2020-03-03T00:00:00\", \"2020-03-04T00:00:00\", \"2020-03-05T00:00:00\", \"2020-03-06T00:00:00\", \"2020-03-07T00:00:00\", \"2020-03-08T00:00:00\", \"2020-03-09T00:00:00\", \"2020-03-10T00:00:00\", \"2020-03-11T00:00:00\", \"2020-03-12T00:00:00\", \"2020-03-13T00:00:00\", \"2020-03-14T00:00:00\", \"2020-03-15T00:00:00\", \"2020-03-16T00:00:00\", \"2020-03-17T00:00:00\", \"2020-03-18T00:00:00\", \"2020-03-19T00:00:00\", \"2020-03-20T00:00:00\", \"2020-03-21T00:00:00\", \"2020-03-22T00:00:00\", \"2020-03-23T00:00:00\", \"2020-03-24T00:00:00\", \"2020-03-25T00:00:00\", \"2020-03-26T00:00:00\", \"2020-03-27T00:00:00\", \"2020-03-28T00:00:00\", \"2020-03-29T00:00:00\", \"2020-03-30T00:00:00\", \"2020-03-31T00:00:00\", \"2020-04-01T00:00:00\", \"2020-04-02T00:00:00\", \"2020-04-03T00:00:00\", \"2020-04-04T00:00:00\", \"2020-04-05T00:00:00\", \"2020-04-06T00:00:00\", \"2020-04-07T00:00:00\", \"2020-04-08T00:00:00\", \"2020-04-09T00:00:00\", \"2020-04-10T00:00:00\", \"2020-04-11T00:00:00\", \"2020-04-12T00:00:00\", \"2020-04-13T00:00:00\", \"2020-04-14T00:00:00\", \"2020-04-15T00:00:00\", \"2020-04-16T00:00:00\", \"2020-04-17T00:00:00\", \"2020-04-18T00:00:00\", \"2020-04-19T00:00:00\", \"2020-04-20T00:00:00\", \"2020-04-21T00:00:00\", \"2020-04-22T00:00:00\", \"2020-04-23T00:00:00\", \"2020-04-24T00:00:00\", \"2020-04-25T00:00:00\", \"2020-04-26T00:00:00\", \"2020-04-27T00:00:00\", \"2020-04-28T00:00:00\", \"2020-04-29T00:00:00\", \"2020-04-30T00:00:00\", \"2020-05-01T00:00:00\", \"2020-05-02T00:00:00\", \"2020-05-03T00:00:00\", \"2020-05-04T00:00:00\", \"2020-05-05T00:00:00\", \"2020-05-06T00:00:00\", \"2020-05-07T00:00:00\", \"2020-05-08T00:00:00\", \"2020-05-09T00:00:00\", \"2020-05-10T00:00:00\", \"2020-05-11T00:00:00\", \"2020-05-12T00:00:00\", \"2020-05-13T00:00:00\", \"2020-05-14T00:00:00\", \"2020-05-15T00:00:00\", \"2020-05-16T00:00:00\", \"2020-05-17T00:00:00\", \"2020-05-18T00:00:00\", \"2020-05-19T00:00:00\", \"2020-05-20T00:00:00\", \"2020-05-21T00:00:00\", \"2020-05-22T00:00:00\", \"2020-05-23T00:00:00\", \"2020-05-24T00:00:00\", \"2020-05-25T00:00:00\", \"2020-05-26T00:00:00\", \"2020-05-27T00:00:00\", \"2020-05-28T00:00:00\", \"2020-05-29T00:00:00\", \"2020-05-30T00:00:00\", \"2020-05-31T00:00:00\", \"2020-06-01T00:00:00\", \"2020-06-02T00:00:00\", \"2020-06-03T00:00:00\", \"2020-06-04T00:00:00\", \"2020-06-05T00:00:00\", \"2020-06-06T00:00:00\", \"2020-06-07T00:00:00\", \"2020-06-08T00:00:00\", \"2020-06-09T00:00:00\", \"2020-06-10T00:00:00\", \"2020-06-11T00:00:00\", \"2020-06-12T00:00:00\", \"2020-06-13T00:00:00\", \"2020-06-14T00:00:00\", \"2020-06-15T00:00:00\", \"2020-06-16T00:00:00\", \"2020-06-17T00:00:00\", \"2020-06-18T00:00:00\", \"2020-06-19T00:00:00\", \"2020-06-20T00:00:00\", \"2020-06-21T00:00:00\", \"2020-06-22T00:00:00\", \"2020-06-23T00:00:00\", \"2020-06-24T00:00:00\", \"2020-06-25T00:00:00\", \"2020-06-26T00:00:00\", \"2020-06-27T00:00:00\", \"2020-06-28T00:00:00\", \"2020-06-29T00:00:00\", \"2020-06-30T00:00:00\", \"2020-07-01T00:00:00\", \"2020-07-02T00:00:00\", \"2020-07-03T00:00:00\", \"2020-07-04T00:00:00\", \"2020-07-05T00:00:00\", \"2020-07-06T00:00:00\", \"2020-07-07T00:00:00\", \"2020-07-08T00:00:00\", \"2020-07-09T00:00:00\", \"2020-07-10T00:00:00\", \"2020-07-11T00:00:00\", \"2020-07-12T00:00:00\", \"2020-07-13T00:00:00\", \"2020-07-14T00:00:00\", \"2020-07-15T00:00:00\", \"2020-07-16T00:00:00\", \"2020-07-17T00:00:00\", \"2020-07-18T00:00:00\", \"2020-07-19T00:00:00\", \"2020-07-20T00:00:00\", \"2020-07-21T00:00:00\", \"2020-07-22T00:00:00\", \"2020-07-23T00:00:00\", \"2020-07-24T00:00:00\", \"2020-07-25T00:00:00\", \"2020-07-26T00:00:00\", \"2020-07-27T00:00:00\", \"2020-07-28T00:00:00\"], \"xaxis\": \"x\", \"y\": [0.0, 0.0, 0.0, 0.0, 1.0, 1.0, 2.0, 2.0, 2.0, 4.0, 4.0, 4.0, 4.0, 4.0, 5.0, 5.0, 7.0, 7.0, 7.0, 7.0, 7.0, 6.0, 6.0, 6.0, 6.0, 6.0, 7.0, 7.0, 7.0, 7.0, 6.0, 6.0, 6.0, 7.0, 8.0, 8.0, 7.0, 8.0, 14.0, 18.0, 21.0, 24.0, 27.0, 31.0, 43.0, 46.0, 56.0, 68.0, 70.0, 99.0, 108.0, 182.0, 187.0, 241.0, 400.0, 456.0, 631.0, 773.0, 912.0, 1238.0, 1426.0, 2041.0, 2642.0, 3026.0, 3808.0, 4360.0, 5037.0, 5738.0, 6840.0, 6822.0, 8115.0, 9398.0, 10071.0, 10171.0, 12473.0, 12956.0, 13694.0, 14568.0, 14977.0, 15635.0, 16061.0, 16450.0, 17129.0, 17912.0, 18223.0, 19840.0, 20901.0, 21979.0, 22209.0, 23376.0, 24292.0, 25119.0, 26285.0, 27356.0, 27775.0, 28451.0, 28495.0, 28924.0, 29371.0, 29711.0, 30029.0, 30415.0, 31775.0, 31911.0, 32006.0, 32131.0, 32387.0, 32725.0, 32820.0, 32978.0, 33129.0, 33051.0, 32953.0, 33072.0, 33359.0, 33561.0, 33853.0, 34187.0, 34383.0, 34619.0, 34731.0, 34966.0, 35354.0, 35561.0, 35800.0, 35972.0, 35852.0, 36020.0, 35928.0, 35992.0, 35879.0, 35780.0, 35745.0, 35544.0, 35356.0, 35083.0, 34526.0, 34614.0, 34514.0, 34142.0, 33455.0, 32945.0, 32424.0, 31997.0, 31506.0, 31057.0, 30905.0, 29887.0, 29722.0, 29576.0, 29458.0, 29335.0, 29191.0, 29108.0, 28998.0, 29015.0, 28864.0, 28845.0, 28910.0, 28492.0, 28315.0, 28201.0, 28059.0, 27996.0, 27934.0, 27871.0, 27914.0, 27828.0, 27731.0, 27752.0, 27695.0, 27536.0, 27553.0, 27755.0, 27780.0, 27757.0, 27824.0, 4382.0, 4535.0, 4696.0, 5049.0, 5305.0, 5364.0, 5530.0, 5676.0, 5764.0, 5874.0, 6067.0, 6216.0], \"yaxis\": \"y\"}],\n",
       "                        {\"legend\": {\"tracegroupgap\": 0}, \"template\": {\"data\": {\"bar\": [{\"error_x\": {\"color\": \"#2a3f5f\"}, \"error_y\": {\"color\": \"#2a3f5f\"}, \"marker\": {\"line\": {\"color\": \"#E5ECF6\", \"width\": 0.5}}, \"type\": \"bar\"}], \"barpolar\": [{\"marker\": {\"line\": {\"color\": \"#E5ECF6\", \"width\": 0.5}}, \"type\": \"barpolar\"}], \"carpet\": [{\"aaxis\": {\"endlinecolor\": \"#2a3f5f\", \"gridcolor\": \"white\", \"linecolor\": \"white\", \"minorgridcolor\": \"white\", \"startlinecolor\": \"#2a3f5f\"}, \"baxis\": {\"endlinecolor\": \"#2a3f5f\", \"gridcolor\": \"white\", \"linecolor\": \"white\", \"minorgridcolor\": \"white\", \"startlinecolor\": \"#2a3f5f\"}, \"type\": \"carpet\"}], \"choropleth\": [{\"colorbar\": {\"outlinewidth\": 0, \"ticks\": \"\"}, \"type\": \"choropleth\"}], \"contour\": [{\"colorbar\": {\"outlinewidth\": 0, \"ticks\": \"\"}, \"colorscale\": [[0.0, \"#0d0887\"], [0.1111111111111111, \"#46039f\"], [0.2222222222222222, \"#7201a8\"], [0.3333333333333333, \"#9c179e\"], [0.4444444444444444, \"#bd3786\"], [0.5555555555555556, \"#d8576b\"], [0.6666666666666666, \"#ed7953\"], [0.7777777777777778, \"#fb9f3a\"], [0.8888888888888888, \"#fdca26\"], [1.0, \"#f0f921\"]], \"type\": \"contour\"}], \"contourcarpet\": [{\"colorbar\": {\"outlinewidth\": 0, \"ticks\": \"\"}, \"type\": \"contourcarpet\"}], \"heatmap\": [{\"colorbar\": {\"outlinewidth\": 0, \"ticks\": \"\"}, \"colorscale\": [[0.0, \"#0d0887\"], [0.1111111111111111, \"#46039f\"], [0.2222222222222222, \"#7201a8\"], [0.3333333333333333, \"#9c179e\"], [0.4444444444444444, \"#bd3786\"], [0.5555555555555556, \"#d8576b\"], [0.6666666666666666, \"#ed7953\"], [0.7777777777777778, \"#fb9f3a\"], [0.8888888888888888, \"#fdca26\"], [1.0, \"#f0f921\"]], \"type\": \"heatmap\"}], \"heatmapgl\": [{\"colorbar\": {\"outlinewidth\": 0, \"ticks\": \"\"}, \"colorscale\": [[0.0, \"#0d0887\"], [0.1111111111111111, \"#46039f\"], [0.2222222222222222, \"#7201a8\"], [0.3333333333333333, \"#9c179e\"], [0.4444444444444444, \"#bd3786\"], [0.5555555555555556, \"#d8576b\"], [0.6666666666666666, \"#ed7953\"], [0.7777777777777778, \"#fb9f3a\"], [0.8888888888888888, \"#fdca26\"], [1.0, \"#f0f921\"]], \"type\": \"heatmapgl\"}], \"histogram\": [{\"marker\": {\"colorbar\": {\"outlinewidth\": 0, \"ticks\": \"\"}}, \"type\": \"histogram\"}], \"histogram2d\": [{\"colorbar\": {\"outlinewidth\": 0, \"ticks\": \"\"}, \"colorscale\": [[0.0, \"#0d0887\"], [0.1111111111111111, \"#46039f\"], [0.2222222222222222, \"#7201a8\"], [0.3333333333333333, \"#9c179e\"], [0.4444444444444444, \"#bd3786\"], [0.5555555555555556, \"#d8576b\"], [0.6666666666666666, \"#ed7953\"], [0.7777777777777778, \"#fb9f3a\"], [0.8888888888888888, \"#fdca26\"], [1.0, \"#f0f921\"]], \"type\": \"histogram2d\"}], \"histogram2dcontour\": [{\"colorbar\": {\"outlinewidth\": 0, \"ticks\": \"\"}, \"colorscale\": [[0.0, \"#0d0887\"], [0.1111111111111111, \"#46039f\"], [0.2222222222222222, \"#7201a8\"], [0.3333333333333333, \"#9c179e\"], [0.4444444444444444, \"#bd3786\"], [0.5555555555555556, \"#d8576b\"], [0.6666666666666666, \"#ed7953\"], [0.7777777777777778, \"#fb9f3a\"], [0.8888888888888888, \"#fdca26\"], [1.0, \"#f0f921\"]], \"type\": \"histogram2dcontour\"}], \"mesh3d\": [{\"colorbar\": {\"outlinewidth\": 0, \"ticks\": \"\"}, \"type\": \"mesh3d\"}], \"parcoords\": [{\"line\": {\"colorbar\": {\"outlinewidth\": 0, \"ticks\": \"\"}}, \"type\": \"parcoords\"}], \"pie\": [{\"automargin\": true, \"type\": \"pie\"}], \"scatter\": [{\"marker\": {\"colorbar\": {\"outlinewidth\": 0, \"ticks\": \"\"}}, \"type\": \"scatter\"}], \"scatter3d\": [{\"line\": {\"colorbar\": {\"outlinewidth\": 0, \"ticks\": \"\"}}, \"marker\": {\"colorbar\": {\"outlinewidth\": 0, \"ticks\": \"\"}}, \"type\": \"scatter3d\"}], \"scattercarpet\": [{\"marker\": {\"colorbar\": {\"outlinewidth\": 0, \"ticks\": \"\"}}, \"type\": \"scattercarpet\"}], \"scattergeo\": [{\"marker\": {\"colorbar\": {\"outlinewidth\": 0, \"ticks\": \"\"}}, \"type\": \"scattergeo\"}], \"scattergl\": [{\"marker\": {\"colorbar\": {\"outlinewidth\": 0, \"ticks\": \"\"}}, \"type\": \"scattergl\"}], \"scattermapbox\": [{\"marker\": {\"colorbar\": {\"outlinewidth\": 0, \"ticks\": \"\"}}, \"type\": \"scattermapbox\"}], \"scatterpolar\": [{\"marker\": {\"colorbar\": {\"outlinewidth\": 0, \"ticks\": \"\"}}, \"type\": \"scatterpolar\"}], \"scatterpolargl\": [{\"marker\": {\"colorbar\": {\"outlinewidth\": 0, \"ticks\": \"\"}}, \"type\": \"scatterpolargl\"}], \"scatterternary\": [{\"marker\": {\"colorbar\": {\"outlinewidth\": 0, \"ticks\": \"\"}}, \"type\": \"scatterternary\"}], \"surface\": [{\"colorbar\": {\"outlinewidth\": 0, \"ticks\": \"\"}, \"colorscale\": [[0.0, \"#0d0887\"], [0.1111111111111111, \"#46039f\"], [0.2222222222222222, \"#7201a8\"], [0.3333333333333333, \"#9c179e\"], [0.4444444444444444, \"#bd3786\"], [0.5555555555555556, \"#d8576b\"], [0.6666666666666666, \"#ed7953\"], [0.7777777777777778, \"#fb9f3a\"], [0.8888888888888888, \"#fdca26\"], [1.0, \"#f0f921\"]], \"type\": \"surface\"}], \"table\": [{\"cells\": {\"fill\": {\"color\": \"#EBF0F8\"}, \"line\": {\"color\": \"white\"}}, \"header\": {\"fill\": {\"color\": \"#C8D4E3\"}, \"line\": {\"color\": \"white\"}}, \"type\": \"table\"}]}, \"layout\": {\"annotationdefaults\": {\"arrowcolor\": \"#2a3f5f\", \"arrowhead\": 0, \"arrowwidth\": 1}, \"coloraxis\": {\"colorbar\": {\"outlinewidth\": 0, \"ticks\": \"\"}}, \"colorscale\": {\"diverging\": [[0, \"#8e0152\"], [0.1, \"#c51b7d\"], [0.2, \"#de77ae\"], [0.3, \"#f1b6da\"], [0.4, \"#fde0ef\"], [0.5, \"#f7f7f7\"], [0.6, \"#e6f5d0\"], [0.7, \"#b8e186\"], [0.8, \"#7fbc41\"], [0.9, \"#4d9221\"], [1, \"#276419\"]], \"sequential\": [[0.0, \"#0d0887\"], [0.1111111111111111, \"#46039f\"], [0.2222222222222222, \"#7201a8\"], [0.3333333333333333, \"#9c179e\"], [0.4444444444444444, \"#bd3786\"], [0.5555555555555556, \"#d8576b\"], [0.6666666666666666, \"#ed7953\"], [0.7777777777777778, \"#fb9f3a\"], [0.8888888888888888, \"#fdca26\"], [1.0, \"#f0f921\"]], \"sequentialminus\": [[0.0, \"#0d0887\"], [0.1111111111111111, \"#46039f\"], [0.2222222222222222, \"#7201a8\"], [0.3333333333333333, \"#9c179e\"], [0.4444444444444444, \"#bd3786\"], [0.5555555555555556, \"#d8576b\"], [0.6666666666666666, \"#ed7953\"], [0.7777777777777778, \"#fb9f3a\"], [0.8888888888888888, \"#fdca26\"], [1.0, \"#f0f921\"]]}, \"colorway\": [\"#636efa\", \"#EF553B\", \"#00cc96\", \"#ab63fa\", \"#FFA15A\", \"#19d3f3\", \"#FF6692\", \"#B6E880\", \"#FF97FF\", \"#FECB52\"], \"font\": {\"color\": \"#2a3f5f\"}, \"geo\": {\"bgcolor\": \"white\", \"lakecolor\": \"white\", \"landcolor\": \"#E5ECF6\", \"showlakes\": true, \"showland\": true, \"subunitcolor\": \"white\"}, \"hoverlabel\": {\"align\": \"left\"}, \"hovermode\": \"closest\", \"mapbox\": {\"style\": \"light\"}, \"paper_bgcolor\": \"white\", \"plot_bgcolor\": \"#E5ECF6\", \"polar\": {\"angularaxis\": {\"gridcolor\": \"white\", \"linecolor\": \"white\", \"ticks\": \"\"}, \"bgcolor\": \"#E5ECF6\", \"radialaxis\": {\"gridcolor\": \"white\", \"linecolor\": \"white\", \"ticks\": \"\"}}, \"scene\": {\"xaxis\": {\"backgroundcolor\": \"#E5ECF6\", \"gridcolor\": \"white\", \"gridwidth\": 2, \"linecolor\": \"white\", \"showbackground\": true, \"ticks\": \"\", \"zerolinecolor\": \"white\"}, \"yaxis\": {\"backgroundcolor\": \"#E5ECF6\", \"gridcolor\": \"white\", \"gridwidth\": 2, \"linecolor\": \"white\", \"showbackground\": true, \"ticks\": \"\", \"zerolinecolor\": \"white\"}, \"zaxis\": {\"backgroundcolor\": \"#E5ECF6\", \"gridcolor\": \"white\", \"gridwidth\": 2, \"linecolor\": \"white\", \"showbackground\": true, \"ticks\": \"\", \"zerolinecolor\": \"white\"}}, \"shapedefaults\": {\"line\": {\"color\": \"#2a3f5f\"}}, \"ternary\": {\"aaxis\": {\"gridcolor\": \"white\", \"linecolor\": \"white\", \"ticks\": \"\"}, \"baxis\": {\"gridcolor\": \"white\", \"linecolor\": \"white\", \"ticks\": \"\"}, \"bgcolor\": \"#E5ECF6\", \"caxis\": {\"gridcolor\": \"white\", \"linecolor\": \"white\", \"ticks\": \"\"}}, \"title\": {\"x\": 0.05}, \"xaxis\": {\"automargin\": true, \"gridcolor\": \"white\", \"linecolor\": \"white\", \"ticks\": \"\", \"title\": {\"standoff\": 15}, \"zerolinecolor\": \"white\", \"zerolinewidth\": 2}, \"yaxis\": {\"automargin\": true, \"gridcolor\": \"white\", \"linecolor\": \"white\", \"ticks\": \"\", \"title\": {\"standoff\": 15}, \"zerolinecolor\": \"white\", \"zerolinewidth\": 2}}}, \"title\": {\"text\": \"Total Active Cases in Canada\"}, \"xaxis\": {\"anchor\": \"y\", \"domain\": [0.0, 1.0], \"title\": {\"text\": \"Date\"}}, \"yaxis\": {\"anchor\": \"x\", \"domain\": [0.0, 1.0], \"title\": {\"text\": \"Active\"}}},\n",
       "                        {\"responsive\": true}\n",
       "                    ).then(function(){\n",
       "                            \n",
       "var gd = document.getElementById('cd2ee405-6638-4138-a25d-35fdb480b1a5');\n",
       "var x = new MutationObserver(function (mutations, observer) {{\n",
       "        var display = window.getComputedStyle(gd).display;\n",
       "        if (!display || display === 'none') {{\n",
       "            console.log([gd, 'removed!']);\n",
       "            Plotly.purge(gd);\n",
       "            observer.disconnect();\n",
       "        }}\n",
       "}});\n",
       "\n",
       "// Listen for the removal of the full notebook cells\n",
       "var notebookContainer = gd.closest('#notebook-container');\n",
       "if (notebookContainer) {{\n",
       "    x.observe(notebookContainer, {childList: true});\n",
       "}}\n",
       "\n",
       "// Listen for the clearing of the current output cell\n",
       "var outputEl = gd.closest('.output');\n",
       "if (outputEl) {{\n",
       "    x.observe(outputEl, {childList: true});\n",
       "}}\n",
       "\n",
       "                        })\n",
       "                };\n",
       "                });\n",
       "            </script>\n",
       "        </div>"
      ]
     },
     "metadata": {},
     "output_type": "display_data"
    }
   ],
   "source": [
    "fig = px.line(canada, x=\"Date\", y=\"Active\", title='Total Active Cases in Canada')\n",
    "fig.show()"
   ]
  },
  {
   "cell_type": "code",
   "execution_count": null,
   "metadata": {},
   "outputs": [],
   "source": []
  }
 ],
 "metadata": {
  "kernelspec": {
   "display_name": "Python 3",
   "language": "python",
   "name": "python3"
  },
  "language_info": {
   "codemirror_mode": {
    "name": "ipython",
    "version": 3
   },
   "file_extension": ".py",
   "mimetype": "text/x-python",
   "name": "python",
   "nbconvert_exporter": "python",
   "pygments_lexer": "ipython3",
   "version": "3.8.3"
  }
 },
 "nbformat": 4,
 "nbformat_minor": 4
}
