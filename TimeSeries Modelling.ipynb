{
 "cells": [
  {
   "cell_type": "markdown",
   "metadata": {},
   "source": [
    "# Covid Timeseries Modelling"
   ]
  },
  {
   "cell_type": "code",
   "execution_count": 1,
   "metadata": {},
   "outputs": [],
   "source": [
    "import pandas as pd\n",
    "import matplotlib.pyplot as plt\n",
    "from statsmodels.tsa.arima_model import ARIMA\n",
    "from sklearn.preprocessing import MinMaxScaler\n",
    "import torch\n",
    "from torch import nn, optim\n",
    "import numpy as np\n",
    "import plotly.express as px\n",
    "\n",
    "%matplotlib inline\n",
    "%config InlineBackend.figure_format='retina'"
   ]
  },
  {
   "cell_type": "code",
   "execution_count": 2,
   "metadata": {},
   "outputs": [
    {
     "data": {
      "text/html": [
       "<div>\n",
       "<style scoped>\n",
       "    .dataframe tbody tr th:only-of-type {\n",
       "        vertical-align: middle;\n",
       "    }\n",
       "\n",
       "    .dataframe tbody tr th {\n",
       "        vertical-align: top;\n",
       "    }\n",
       "\n",
       "    .dataframe thead th {\n",
       "        text-align: right;\n",
       "    }\n",
       "</style>\n",
       "<table border=\"1\" class=\"dataframe\">\n",
       "  <thead>\n",
       "    <tr style=\"text-align: right;\">\n",
       "      <th></th>\n",
       "      <th>Country/Region</th>\n",
       "      <th>Date</th>\n",
       "      <th>Confirmed</th>\n",
       "      <th>Deaths</th>\n",
       "      <th>Recovered</th>\n",
       "      <th>Active</th>\n",
       "      <th>New cases</th>\n",
       "      <th>New deaths</th>\n",
       "      <th>New recovered</th>\n",
       "    </tr>\n",
       "  </thead>\n",
       "  <tbody>\n",
       "    <tr>\n",
       "      <th>0</th>\n",
       "      <td>Afghanistan</td>\n",
       "      <td>2020-01-22</td>\n",
       "      <td>0</td>\n",
       "      <td>0</td>\n",
       "      <td>0.0</td>\n",
       "      <td>0.0</td>\n",
       "      <td>0</td>\n",
       "      <td>0</td>\n",
       "      <td>0</td>\n",
       "    </tr>\n",
       "    <tr>\n",
       "      <th>1</th>\n",
       "      <td>Albania</td>\n",
       "      <td>2020-01-22</td>\n",
       "      <td>0</td>\n",
       "      <td>0</td>\n",
       "      <td>0.0</td>\n",
       "      <td>0.0</td>\n",
       "      <td>0</td>\n",
       "      <td>0</td>\n",
       "      <td>0</td>\n",
       "    </tr>\n",
       "    <tr>\n",
       "      <th>2</th>\n",
       "      <td>Algeria</td>\n",
       "      <td>2020-01-22</td>\n",
       "      <td>0</td>\n",
       "      <td>0</td>\n",
       "      <td>0.0</td>\n",
       "      <td>0.0</td>\n",
       "      <td>0</td>\n",
       "      <td>0</td>\n",
       "      <td>0</td>\n",
       "    </tr>\n",
       "    <tr>\n",
       "      <th>3</th>\n",
       "      <td>Andorra</td>\n",
       "      <td>2020-01-22</td>\n",
       "      <td>0</td>\n",
       "      <td>0</td>\n",
       "      <td>0.0</td>\n",
       "      <td>0.0</td>\n",
       "      <td>0</td>\n",
       "      <td>0</td>\n",
       "      <td>0</td>\n",
       "    </tr>\n",
       "    <tr>\n",
       "      <th>4</th>\n",
       "      <td>Angola</td>\n",
       "      <td>2020-01-22</td>\n",
       "      <td>0</td>\n",
       "      <td>0</td>\n",
       "      <td>0.0</td>\n",
       "      <td>0.0</td>\n",
       "      <td>0</td>\n",
       "      <td>0</td>\n",
       "      <td>0</td>\n",
       "    </tr>\n",
       "  </tbody>\n",
       "</table>\n",
       "</div>"
      ],
      "text/plain": [
       "  Country/Region       Date  Confirmed  Deaths  Recovered  Active  New cases  \\\n",
       "0    Afghanistan 2020-01-22          0       0        0.0     0.0          0   \n",
       "1        Albania 2020-01-22          0       0        0.0     0.0          0   \n",
       "2        Algeria 2020-01-22          0       0        0.0     0.0          0   \n",
       "3        Andorra 2020-01-22          0       0        0.0     0.0          0   \n",
       "4         Angola 2020-01-22          0       0        0.0     0.0          0   \n",
       "\n",
       "   New deaths  New recovered  \n",
       "0           0              0  \n",
       "1           0              0  \n",
       "2           0              0  \n",
       "3           0              0  \n",
       "4           0              0  "
      ]
     },
     "execution_count": 2,
     "metadata": {},
     "output_type": "execute_result"
    }
   ],
   "source": [
    "full_grouped = pd.read_csv('COVID-19-complete-07-aug.csv', parse_dates=['Date'], index_col=0, header = 0)\n",
    "full_grouped.head()"
   ]
  },
  {
   "cell_type": "code",
   "execution_count": 3,
   "metadata": {},
   "outputs": [
    {
     "data": {
      "text/html": [
       "<div>\n",
       "<style scoped>\n",
       "    .dataframe tbody tr th:only-of-type {\n",
       "        vertical-align: middle;\n",
       "    }\n",
       "\n",
       "    .dataframe tbody tr th {\n",
       "        vertical-align: top;\n",
       "    }\n",
       "\n",
       "    .dataframe thead th {\n",
       "        text-align: right;\n",
       "    }\n",
       "</style>\n",
       "<table border=\"1\" class=\"dataframe\">\n",
       "  <thead>\n",
       "    <tr style=\"text-align: right;\">\n",
       "      <th></th>\n",
       "      <th>Country/Region</th>\n",
       "      <th>Date</th>\n",
       "      <th>Confirmed</th>\n",
       "      <th>Deaths</th>\n",
       "      <th>Recovered</th>\n",
       "      <th>Active</th>\n",
       "      <th>New cases</th>\n",
       "      <th>New deaths</th>\n",
       "      <th>New recovered</th>\n",
       "    </tr>\n",
       "  </thead>\n",
       "  <tbody>\n",
       "    <tr>\n",
       "      <th>0</th>\n",
       "      <td>Afghanistan</td>\n",
       "      <td>2020-01-22</td>\n",
       "      <td>0</td>\n",
       "      <td>0</td>\n",
       "      <td>0.0</td>\n",
       "      <td>0.0</td>\n",
       "      <td>0</td>\n",
       "      <td>0</td>\n",
       "      <td>0</td>\n",
       "    </tr>\n",
       "    <tr>\n",
       "      <th>1</th>\n",
       "      <td>Albania</td>\n",
       "      <td>2020-01-22</td>\n",
       "      <td>0</td>\n",
       "      <td>0</td>\n",
       "      <td>0.0</td>\n",
       "      <td>0.0</td>\n",
       "      <td>0</td>\n",
       "      <td>0</td>\n",
       "      <td>0</td>\n",
       "    </tr>\n",
       "    <tr>\n",
       "      <th>2</th>\n",
       "      <td>Algeria</td>\n",
       "      <td>2020-01-22</td>\n",
       "      <td>0</td>\n",
       "      <td>0</td>\n",
       "      <td>0.0</td>\n",
       "      <td>0.0</td>\n",
       "      <td>0</td>\n",
       "      <td>0</td>\n",
       "      <td>0</td>\n",
       "    </tr>\n",
       "    <tr>\n",
       "      <th>3</th>\n",
       "      <td>Andorra</td>\n",
       "      <td>2020-01-22</td>\n",
       "      <td>0</td>\n",
       "      <td>0</td>\n",
       "      <td>0.0</td>\n",
       "      <td>0.0</td>\n",
       "      <td>0</td>\n",
       "      <td>0</td>\n",
       "      <td>0</td>\n",
       "    </tr>\n",
       "    <tr>\n",
       "      <th>4</th>\n",
       "      <td>Angola</td>\n",
       "      <td>2020-01-22</td>\n",
       "      <td>0</td>\n",
       "      <td>0</td>\n",
       "      <td>0.0</td>\n",
       "      <td>0.0</td>\n",
       "      <td>0</td>\n",
       "      <td>0</td>\n",
       "      <td>0</td>\n",
       "    </tr>\n",
       "    <tr>\n",
       "      <th>...</th>\n",
       "      <td>...</td>\n",
       "      <td>...</td>\n",
       "      <td>...</td>\n",
       "      <td>...</td>\n",
       "      <td>...</td>\n",
       "      <td>...</td>\n",
       "      <td>...</td>\n",
       "      <td>...</td>\n",
       "      <td>...</td>\n",
       "    </tr>\n",
       "    <tr>\n",
       "      <th>36823</th>\n",
       "      <td>West Bank and Gaza</td>\n",
       "      <td>2020-08-06</td>\n",
       "      <td>13398</td>\n",
       "      <td>92</td>\n",
       "      <td>6907.0</td>\n",
       "      <td>6399.0</td>\n",
       "      <td>333</td>\n",
       "      <td>3</td>\n",
       "      <td>289</td>\n",
       "    </tr>\n",
       "    <tr>\n",
       "      <th>36824</th>\n",
       "      <td>Western Sahara</td>\n",
       "      <td>2020-08-06</td>\n",
       "      <td>10</td>\n",
       "      <td>1</td>\n",
       "      <td>8.0</td>\n",
       "      <td>1.0</td>\n",
       "      <td>0</td>\n",
       "      <td>0</td>\n",
       "      <td>0</td>\n",
       "    </tr>\n",
       "    <tr>\n",
       "      <th>36825</th>\n",
       "      <td>Yemen</td>\n",
       "      <td>2020-08-06</td>\n",
       "      <td>1768</td>\n",
       "      <td>508</td>\n",
       "      <td>898.0</td>\n",
       "      <td>362.0</td>\n",
       "      <td>5</td>\n",
       "      <td>0</td>\n",
       "      <td>4</td>\n",
       "    </tr>\n",
       "    <tr>\n",
       "      <th>36826</th>\n",
       "      <td>Zambia</td>\n",
       "      <td>2020-08-06</td>\n",
       "      <td>7164</td>\n",
       "      <td>199</td>\n",
       "      <td>5786.0</td>\n",
       "      <td>1179.0</td>\n",
       "      <td>142</td>\n",
       "      <td>23</td>\n",
       "      <td>119</td>\n",
       "    </tr>\n",
       "    <tr>\n",
       "      <th>36827</th>\n",
       "      <td>Zimbabwe</td>\n",
       "      <td>2020-08-06</td>\n",
       "      <td>4339</td>\n",
       "      <td>84</td>\n",
       "      <td>1264.0</td>\n",
       "      <td>2991.0</td>\n",
       "      <td>118</td>\n",
       "      <td>3</td>\n",
       "      <td>26</td>\n",
       "    </tr>\n",
       "  </tbody>\n",
       "</table>\n",
       "<p>36828 rows × 9 columns</p>\n",
       "</div>"
      ],
      "text/plain": [
       "           Country/Region       Date  Confirmed  Deaths  Recovered  Active  \\\n",
       "0             Afghanistan 2020-01-22          0       0        0.0     0.0   \n",
       "1                 Albania 2020-01-22          0       0        0.0     0.0   \n",
       "2                 Algeria 2020-01-22          0       0        0.0     0.0   \n",
       "3                 Andorra 2020-01-22          0       0        0.0     0.0   \n",
       "4                  Angola 2020-01-22          0       0        0.0     0.0   \n",
       "...                   ...        ...        ...     ...        ...     ...   \n",
       "36823  West Bank and Gaza 2020-08-06      13398      92     6907.0  6399.0   \n",
       "36824      Western Sahara 2020-08-06         10       1        8.0     1.0   \n",
       "36825               Yemen 2020-08-06       1768     508      898.0   362.0   \n",
       "36826              Zambia 2020-08-06       7164     199     5786.0  1179.0   \n",
       "36827            Zimbabwe 2020-08-06       4339      84     1264.0  2991.0   \n",
       "\n",
       "       New cases  New deaths  New recovered  \n",
       "0              0           0              0  \n",
       "1              0           0              0  \n",
       "2              0           0              0  \n",
       "3              0           0              0  \n",
       "4              0           0              0  \n",
       "...          ...         ...            ...  \n",
       "36823        333           3            289  \n",
       "36824          0           0              0  \n",
       "36825          5           0              4  \n",
       "36826        142          23            119  \n",
       "36827        118           3             26  \n",
       "\n",
       "[36828 rows x 9 columns]"
      ]
     },
     "execution_count": 3,
     "metadata": {},
     "output_type": "execute_result"
    }
   ],
   "source": [
    "full_grouped"
   ]
  },
  {
   "cell_type": "code",
   "execution_count": 4,
   "metadata": {},
   "outputs": [
    {
     "data": {
      "text/html": [
       "<div>\n",
       "<style scoped>\n",
       "    .dataframe tbody tr th:only-of-type {\n",
       "        vertical-align: middle;\n",
       "    }\n",
       "\n",
       "    .dataframe tbody tr th {\n",
       "        vertical-align: top;\n",
       "    }\n",
       "\n",
       "    .dataframe thead th {\n",
       "        text-align: right;\n",
       "    }\n",
       "</style>\n",
       "<table border=\"1\" class=\"dataframe\">\n",
       "  <thead>\n",
       "    <tr style=\"text-align: right;\">\n",
       "      <th></th>\n",
       "      <th>Country/Region</th>\n",
       "      <th>Date</th>\n",
       "      <th>Confirmed</th>\n",
       "      <th>Deaths</th>\n",
       "      <th>Recovered</th>\n",
       "      <th>Active</th>\n",
       "      <th>New cases</th>\n",
       "      <th>New deaths</th>\n",
       "      <th>New recovered</th>\n",
       "    </tr>\n",
       "  </thead>\n",
       "  <tbody>\n",
       "    <tr>\n",
       "      <th>32</th>\n",
       "      <td>Canada</td>\n",
       "      <td>2020-01-22</td>\n",
       "      <td>0</td>\n",
       "      <td>0</td>\n",
       "      <td>0.0</td>\n",
       "      <td>0.0</td>\n",
       "      <td>0</td>\n",
       "      <td>0</td>\n",
       "      <td>0</td>\n",
       "    </tr>\n",
       "    <tr>\n",
       "      <th>218</th>\n",
       "      <td>Canada</td>\n",
       "      <td>2020-01-23</td>\n",
       "      <td>0</td>\n",
       "      <td>0</td>\n",
       "      <td>0.0</td>\n",
       "      <td>0.0</td>\n",
       "      <td>0</td>\n",
       "      <td>0</td>\n",
       "      <td>0</td>\n",
       "    </tr>\n",
       "    <tr>\n",
       "      <th>404</th>\n",
       "      <td>Canada</td>\n",
       "      <td>2020-01-24</td>\n",
       "      <td>0</td>\n",
       "      <td>0</td>\n",
       "      <td>0.0</td>\n",
       "      <td>0.0</td>\n",
       "      <td>0</td>\n",
       "      <td>0</td>\n",
       "      <td>0</td>\n",
       "    </tr>\n",
       "    <tr>\n",
       "      <th>590</th>\n",
       "      <td>Canada</td>\n",
       "      <td>2020-01-25</td>\n",
       "      <td>0</td>\n",
       "      <td>0</td>\n",
       "      <td>0.0</td>\n",
       "      <td>0.0</td>\n",
       "      <td>0</td>\n",
       "      <td>0</td>\n",
       "      <td>0</td>\n",
       "    </tr>\n",
       "    <tr>\n",
       "      <th>776</th>\n",
       "      <td>Canada</td>\n",
       "      <td>2020-01-26</td>\n",
       "      <td>1</td>\n",
       "      <td>0</td>\n",
       "      <td>0.0</td>\n",
       "      <td>1.0</td>\n",
       "      <td>1</td>\n",
       "      <td>0</td>\n",
       "      <td>0</td>\n",
       "    </tr>\n",
       "  </tbody>\n",
       "</table>\n",
       "</div>"
      ],
      "text/plain": [
       "    Country/Region       Date  Confirmed  Deaths  Recovered  Active  \\\n",
       "32          Canada 2020-01-22          0       0        0.0     0.0   \n",
       "218         Canada 2020-01-23          0       0        0.0     0.0   \n",
       "404         Canada 2020-01-24          0       0        0.0     0.0   \n",
       "590         Canada 2020-01-25          0       0        0.0     0.0   \n",
       "776         Canada 2020-01-26          1       0        0.0     1.0   \n",
       "\n",
       "     New cases  New deaths  New recovered  \n",
       "32           0           0              0  \n",
       "218          0           0              0  \n",
       "404          0           0              0  \n",
       "590          0           0              0  \n",
       "776          1           0              0  "
      ]
     },
     "execution_count": 4,
     "metadata": {},
     "output_type": "execute_result"
    }
   ],
   "source": [
    "canada = full_grouped[full_grouped['Country/Region'] == 'Canada']\n",
    "canada.head()"
   ]
  },
  {
   "cell_type": "code",
   "execution_count": 5,
   "metadata": {},
   "outputs": [
    {
     "data": {
      "text/plain": [
       "(198, 2)"
      ]
     },
     "execution_count": 5,
     "metadata": {},
     "output_type": "execute_result"
    }
   ],
   "source": [
    "# canada[['Date', 'New cases']]\n",
    "daily_cases = canada.drop(['Country/Region', 'Confirmed', 'Deaths', 'Recovered', 'Active', 'New deaths', 'New recovered'],axis=1)  \n",
    "daily_cases.shape\n",
    "# df.drop(['B', 'C'], axis=1)"
   ]
  },
  {
   "cell_type": "code",
   "execution_count": 6,
   "metadata": {},
   "outputs": [
    {
     "data": {
      "text/html": [
       "<div>\n",
       "<style scoped>\n",
       "    .dataframe tbody tr th:only-of-type {\n",
       "        vertical-align: middle;\n",
       "    }\n",
       "\n",
       "    .dataframe tbody tr th {\n",
       "        vertical-align: top;\n",
       "    }\n",
       "\n",
       "    .dataframe thead th {\n",
       "        text-align: right;\n",
       "    }\n",
       "</style>\n",
       "<table border=\"1\" class=\"dataframe\">\n",
       "  <thead>\n",
       "    <tr style=\"text-align: right;\">\n",
       "      <th></th>\n",
       "      <th>Date</th>\n",
       "      <th>New cases</th>\n",
       "    </tr>\n",
       "  </thead>\n",
       "  <tbody>\n",
       "    <tr>\n",
       "      <th>32</th>\n",
       "      <td>2020-01-22</td>\n",
       "      <td>0</td>\n",
       "    </tr>\n",
       "    <tr>\n",
       "      <th>218</th>\n",
       "      <td>2020-01-23</td>\n",
       "      <td>0</td>\n",
       "    </tr>\n",
       "    <tr>\n",
       "      <th>404</th>\n",
       "      <td>2020-01-24</td>\n",
       "      <td>0</td>\n",
       "    </tr>\n",
       "    <tr>\n",
       "      <th>590</th>\n",
       "      <td>2020-01-25</td>\n",
       "      <td>0</td>\n",
       "    </tr>\n",
       "    <tr>\n",
       "      <th>776</th>\n",
       "      <td>2020-01-26</td>\n",
       "      <td>1</td>\n",
       "    </tr>\n",
       "  </tbody>\n",
       "</table>\n",
       "</div>"
      ],
      "text/plain": [
       "          Date  New cases\n",
       "32  2020-01-22          0\n",
       "218 2020-01-23          0\n",
       "404 2020-01-24          0\n",
       "590 2020-01-25          0\n",
       "776 2020-01-26          1"
      ]
     },
     "execution_count": 6,
     "metadata": {},
     "output_type": "execute_result"
    }
   ],
   "source": [
    "# daily_cases = canada[['Date', 'New cases']]\n",
    "daily_cases.head()"
   ]
  },
  {
   "cell_type": "code",
   "execution_count": 7,
   "metadata": {},
   "outputs": [
    {
     "data": {
      "text/plain": [
       "0"
      ]
     },
     "execution_count": 7,
     "metadata": {},
     "output_type": "execute_result"
    }
   ],
   "source": [
    "daily_cases.isnull().sum().sum()"
   ]
  },
  {
   "cell_type": "code",
   "execution_count": 8,
   "metadata": {},
   "outputs": [
    {
     "data": {
      "text/html": [
       "<div>\n",
       "<style scoped>\n",
       "    .dataframe tbody tr th:only-of-type {\n",
       "        vertical-align: middle;\n",
       "    }\n",
       "\n",
       "    .dataframe tbody tr th {\n",
       "        vertical-align: top;\n",
       "    }\n",
       "\n",
       "    .dataframe thead th {\n",
       "        text-align: right;\n",
       "    }\n",
       "</style>\n",
       "<table border=\"1\" class=\"dataframe\">\n",
       "  <thead>\n",
       "    <tr style=\"text-align: right;\">\n",
       "      <th></th>\n",
       "      <th>New cases</th>\n",
       "    </tr>\n",
       "    <tr>\n",
       "      <th>Date</th>\n",
       "      <th></th>\n",
       "    </tr>\n",
       "  </thead>\n",
       "  <tbody>\n",
       "    <tr>\n",
       "      <th>2020-01-22</th>\n",
       "      <td>0</td>\n",
       "    </tr>\n",
       "    <tr>\n",
       "      <th>2020-01-23</th>\n",
       "      <td>0</td>\n",
       "    </tr>\n",
       "    <tr>\n",
       "      <th>2020-01-24</th>\n",
       "      <td>0</td>\n",
       "    </tr>\n",
       "    <tr>\n",
       "      <th>2020-01-25</th>\n",
       "      <td>0</td>\n",
       "    </tr>\n",
       "    <tr>\n",
       "      <th>2020-01-26</th>\n",
       "      <td>1</td>\n",
       "    </tr>\n",
       "  </tbody>\n",
       "</table>\n",
       "</div>"
      ],
      "text/plain": [
       "            New cases\n",
       "Date                 \n",
       "2020-01-22          0\n",
       "2020-01-23          0\n",
       "2020-01-24          0\n",
       "2020-01-25          0\n",
       "2020-01-26          1"
      ]
     },
     "execution_count": 8,
     "metadata": {},
     "output_type": "execute_result"
    }
   ],
   "source": [
    "daily_cases = daily_cases.set_index('Date')\n",
    "daily_cases.index = pd.to_datetime(daily_cases.index)\n",
    "daily_cases.head()"
   ]
  },
  {
   "cell_type": "code",
   "execution_count": 9,
   "metadata": {},
   "outputs": [],
   "source": [
    "# series.reset_index(drop=True, inplace=True)"
   ]
  },
  {
   "cell_type": "code",
   "execution_count": 10,
   "metadata": {},
   "outputs": [
    {
     "data": {
      "text/plain": [
       "(198, 1)"
      ]
     },
     "execution_count": 10,
     "metadata": {},
     "output_type": "execute_result"
    }
   ],
   "source": [
    "daily_cases.shape"
   ]
  },
  {
   "cell_type": "markdown",
   "metadata": {},
   "source": [
    "## Moving Average\n",
    "\n",
    "1. Moving average can be used as a data preparation technique to create a smoothed version of the original dataset."
   ]
  },
  {
   "cell_type": "code",
   "execution_count": 13,
   "metadata": {},
   "outputs": [],
   "source": [
    "# # Tail-rolling average transform\n",
    "# rolling = series.rolling(window=3)\n",
    "# rolling_mean = rolling.mean()\n",
    "# print(rolling_mean.head(10))\n",
    "# # plot original and transformed dataset\n",
    "# series.plot()\n",
    "# rolling_mean.plot(color='red')\n",
    "# plt.show()"
   ]
  },
  {
   "cell_type": "code",
   "execution_count": 12,
   "metadata": {},
   "outputs": [],
   "source": [
    "# rolling_mean.drop[index=[0,1]]"
   ]
  },
  {
   "cell_type": "markdown",
   "metadata": {},
   "source": [
    "# LSTM"
   ]
  },
  {
   "cell_type": "code",
   "execution_count": 14,
   "metadata": {},
   "outputs": [
    {
     "data": {
      "text/html": [
       "<div>\n",
       "<style scoped>\n",
       "    .dataframe tbody tr th:only-of-type {\n",
       "        vertical-align: middle;\n",
       "    }\n",
       "\n",
       "    .dataframe tbody tr th {\n",
       "        vertical-align: top;\n",
       "    }\n",
       "\n",
       "    .dataframe thead th {\n",
       "        text-align: right;\n",
       "    }\n",
       "</style>\n",
       "<table border=\"1\" class=\"dataframe\">\n",
       "  <thead>\n",
       "    <tr style=\"text-align: right;\">\n",
       "      <th></th>\n",
       "      <th>New cases</th>\n",
       "    </tr>\n",
       "    <tr>\n",
       "      <th>Date</th>\n",
       "      <th></th>\n",
       "    </tr>\n",
       "  </thead>\n",
       "  <tbody>\n",
       "    <tr>\n",
       "      <th>2020-01-22</th>\n",
       "      <td>0</td>\n",
       "    </tr>\n",
       "    <tr>\n",
       "      <th>2020-01-23</th>\n",
       "      <td>0</td>\n",
       "    </tr>\n",
       "    <tr>\n",
       "      <th>2020-01-24</th>\n",
       "      <td>0</td>\n",
       "    </tr>\n",
       "    <tr>\n",
       "      <th>2020-01-25</th>\n",
       "      <td>0</td>\n",
       "    </tr>\n",
       "    <tr>\n",
       "      <th>2020-01-26</th>\n",
       "      <td>1</td>\n",
       "    </tr>\n",
       "    <tr>\n",
       "      <th>...</th>\n",
       "      <td>...</td>\n",
       "    </tr>\n",
       "    <tr>\n",
       "      <th>2020-08-02</th>\n",
       "      <td>245</td>\n",
       "    </tr>\n",
       "    <tr>\n",
       "      <th>2020-08-03</th>\n",
       "      <td>205</td>\n",
       "    </tr>\n",
       "    <tr>\n",
       "      <th>2020-08-04</th>\n",
       "      <td>686</td>\n",
       "    </tr>\n",
       "    <tr>\n",
       "      <th>2020-08-05</th>\n",
       "      <td>374</td>\n",
       "    </tr>\n",
       "    <tr>\n",
       "      <th>2020-08-06</th>\n",
       "      <td>354</td>\n",
       "    </tr>\n",
       "  </tbody>\n",
       "</table>\n",
       "<p>198 rows × 1 columns</p>\n",
       "</div>"
      ],
      "text/plain": [
       "            New cases\n",
       "Date                 \n",
       "2020-01-22          0\n",
       "2020-01-23          0\n",
       "2020-01-24          0\n",
       "2020-01-25          0\n",
       "2020-01-26          1\n",
       "...               ...\n",
       "2020-08-02        245\n",
       "2020-08-03        205\n",
       "2020-08-04        686\n",
       "2020-08-05        374\n",
       "2020-08-06        354\n",
       "\n",
       "[198 rows x 1 columns]"
      ]
     },
     "execution_count": 14,
     "metadata": {},
     "output_type": "execute_result"
    }
   ],
   "source": [
    "daily_cases"
   ]
  },
  {
   "cell_type": "code",
   "execution_count": 15,
   "metadata": {},
   "outputs": [
    {
     "data": {
      "text/plain": [
       "DatetimeIndex(['2020-01-22', '2020-01-23', '2020-01-24', '2020-01-25',\n",
       "               '2020-01-26', '2020-01-27', '2020-01-28', '2020-01-29',\n",
       "               '2020-01-30', '2020-01-31',\n",
       "               ...\n",
       "               '2020-07-28', '2020-07-29', '2020-07-30', '2020-07-31',\n",
       "               '2020-08-01', '2020-08-02', '2020-08-03', '2020-08-04',\n",
       "               '2020-08-05', '2020-08-06'],\n",
       "              dtype='datetime64[ns]', name='Date', length=198, freq=None)"
      ]
     },
     "execution_count": 15,
     "metadata": {},
     "output_type": "execute_result"
    }
   ],
   "source": [
    "daily_cases.index"
   ]
  },
  {
   "cell_type": "code",
   "execution_count": 16,
   "metadata": {},
   "outputs": [
    {
     "data": {
      "text/plain": [
       "(151, 1)"
      ]
     },
     "execution_count": 16,
     "metadata": {},
     "output_type": "execute_result"
    }
   ],
   "source": [
    "test_data_size = 47\n",
    "train_data = daily_cases[:-test_data_size]\n",
    "test_data = daily_cases[-test_data_size:]\n",
    "train_data.shape"
   ]
  },
  {
   "cell_type": "code",
   "execution_count": 17,
   "metadata": {},
   "outputs": [],
   "source": [
    "# test_data"
   ]
  },
  {
   "cell_type": "code",
   "execution_count": 18,
   "metadata": {},
   "outputs": [],
   "source": [
    "scaler = MinMaxScaler()\n",
    "scaler = scaler.fit(np.expand_dims(train_data['New cases'], axis=1))\n",
    "train_data = scaler.transform(np.expand_dims(train_data['New cases'], axis=1))\n",
    "test_data = scaler.transform(np.expand_dims(test_data['New cases'], axis=1))"
   ]
  },
  {
   "cell_type": "code",
   "execution_count": 19,
   "metadata": {},
   "outputs": [
    {
     "data": {
      "text/plain": [
       "array([[0.        ],\n",
       "       [0.        ],\n",
       "       [0.        ],\n",
       "       [0.        ],\n",
       "       [0.00035997],\n",
       "       [0.        ],\n",
       "       [0.00035997],\n",
       "       [0.        ],\n",
       "       [0.        ],\n",
       "       [0.00071994]])"
      ]
     },
     "execution_count": 19,
     "metadata": {},
     "output_type": "execute_result"
    }
   ],
   "source": [
    "train_data[:10]"
   ]
  },
  {
   "cell_type": "code",
   "execution_count": 20,
   "metadata": {},
   "outputs": [
    {
     "data": {
      "text/plain": [
       "array([[0.1137509 ],\n",
       "       [0.12239021],\n",
       "       [0.12562995],\n",
       "       [0.11519078],\n",
       "       [0.13534917],\n",
       "       [0.05975522],\n",
       "       [0.08963283],\n",
       "       [0.11339093],\n",
       "       [0.22930166],\n",
       "       [0.09611231]])"
      ]
     },
     "execution_count": 20,
     "metadata": {},
     "output_type": "execute_result"
    }
   ],
   "source": [
    "test_data[:10]"
   ]
  },
  {
   "cell_type": "code",
   "execution_count": 21,
   "metadata": {},
   "outputs": [],
   "source": [
    "def create_sequences(data, seq_length):\n",
    "    xs = []\n",
    "    ys = []\n",
    "    for i in range(len(data)-seq_length-1):\n",
    "        x = data[i:(i+seq_length)]\n",
    "        y = data[i+seq_length]\n",
    "        xs.append(x)\n",
    "        ys.append(y)\n",
    "    return np.array(xs), np.array(ys)"
   ]
  },
  {
   "cell_type": "code",
   "execution_count": 47,
   "metadata": {},
   "outputs": [],
   "source": [
    "seq_length = 21\n",
    "X_train, y_train = create_sequences(train_data, seq_length)\n",
    "X_test, y_test = create_sequences(test_data, seq_length)\n",
    "X_train = torch.from_numpy(X_train).float()\n",
    "y_train = torch.from_numpy(y_train).float()\n",
    "X_test = torch.from_numpy(X_test).float()\n",
    "y_test = torch.from_numpy(y_test).float()"
   ]
  },
  {
   "cell_type": "code",
   "execution_count": 48,
   "metadata": {},
   "outputs": [
    {
     "data": {
      "text/plain": [
       "torch.Size([129, 21, 1])"
      ]
     },
     "execution_count": 48,
     "metadata": {},
     "output_type": "execute_result"
    }
   ],
   "source": [
    "X_train.shape"
   ]
  },
  {
   "cell_type": "code",
   "execution_count": 49,
   "metadata": {},
   "outputs": [
    {
     "data": {
      "text/plain": [
       "tensor([[[0.0000],\n",
       "         [0.0000],\n",
       "         [0.0000],\n",
       "         [0.0000],\n",
       "         [0.0004],\n",
       "         [0.0000],\n",
       "         [0.0004],\n",
       "         [0.0000],\n",
       "         [0.0000],\n",
       "         [0.0007],\n",
       "         [0.0000],\n",
       "         [0.0000],\n",
       "         [0.0000],\n",
       "         [0.0000],\n",
       "         [0.0004],\n",
       "         [0.0000],\n",
       "         [0.0007],\n",
       "         [0.0000],\n",
       "         [0.0000],\n",
       "         [0.0000],\n",
       "         [0.0000]],\n",
       "\n",
       "        [[0.0000],\n",
       "         [0.0000],\n",
       "         [0.0000],\n",
       "         [0.0004],\n",
       "         [0.0000],\n",
       "         [0.0004],\n",
       "         [0.0000],\n",
       "         [0.0000],\n",
       "         [0.0007],\n",
       "         [0.0000],\n",
       "         [0.0000],\n",
       "         [0.0000],\n",
       "         [0.0000],\n",
       "         [0.0004],\n",
       "         [0.0000],\n",
       "         [0.0007],\n",
       "         [0.0000],\n",
       "         [0.0000],\n",
       "         [0.0000],\n",
       "         [0.0000],\n",
       "         [0.0000]]])"
      ]
     },
     "execution_count": 49,
     "metadata": {},
     "output_type": "execute_result"
    }
   ],
   "source": [
    "X_train[:2]"
   ]
  },
  {
   "cell_type": "code",
   "execution_count": 50,
   "metadata": {},
   "outputs": [
    {
     "data": {
      "text/plain": [
       "torch.Size([129, 1])"
      ]
     },
     "execution_count": 50,
     "metadata": {},
     "output_type": "execute_result"
    }
   ],
   "source": [
    "y_train.shape"
   ]
  },
  {
   "cell_type": "code",
   "execution_count": 51,
   "metadata": {},
   "outputs": [
    {
     "data": {
      "text/plain": [
       "tensor([[0.],\n",
       "        [0.]])"
      ]
     },
     "execution_count": 51,
     "metadata": {},
     "output_type": "execute_result"
    }
   ],
   "source": [
    "y_train[:2]"
   ]
  },
  {
   "cell_type": "code",
   "execution_count": 52,
   "metadata": {},
   "outputs": [
    {
     "data": {
      "text/plain": [
       "torch.Size([25, 21, 1])"
      ]
     },
     "execution_count": 52,
     "metadata": {},
     "output_type": "execute_result"
    }
   ],
   "source": [
    "X_test.shape"
   ]
  },
  {
   "cell_type": "code",
   "execution_count": 53,
   "metadata": {},
   "outputs": [
    {
     "data": {
      "text/plain": [
       "tensor([[[0.1138],\n",
       "         [0.1224],\n",
       "         [0.1256],\n",
       "         [0.1152],\n",
       "         [0.1353],\n",
       "         [0.0598],\n",
       "         [0.0896],\n",
       "         [0.1134],\n",
       "         [0.2293],\n",
       "         [0.0961],\n",
       "         [0.0688],\n",
       "         [0.1278],\n",
       "         [0.1148],\n",
       "         [0.0803],\n",
       "         [0.0752],\n",
       "         [0.1515],\n",
       "         [0.0749],\n",
       "         [0.1120],\n",
       "         [0.1159],\n",
       "         [0.1181],\n",
       "         [0.0598]],\n",
       "\n",
       "        [[0.1224],\n",
       "         [0.1256],\n",
       "         [0.1152],\n",
       "         [0.1353],\n",
       "         [0.0598],\n",
       "         [0.0896],\n",
       "         [0.1134],\n",
       "         [0.2293],\n",
       "         [0.0961],\n",
       "         [0.0688],\n",
       "         [0.1278],\n",
       "         [0.1148],\n",
       "         [0.0803],\n",
       "         [0.0752],\n",
       "         [0.1515],\n",
       "         [0.0749],\n",
       "         [0.1120],\n",
       "         [0.1159],\n",
       "         [0.1181],\n",
       "         [0.0598],\n",
       "         [0.0713]]])"
      ]
     },
     "execution_count": 53,
     "metadata": {},
     "output_type": "execute_result"
    }
   ],
   "source": [
    "X_test[:2]"
   ]
  },
  {
   "cell_type": "code",
   "execution_count": 54,
   "metadata": {},
   "outputs": [
    {
     "data": {
      "text/plain": [
       "torch.Size([25, 1])"
      ]
     },
     "execution_count": 54,
     "metadata": {},
     "output_type": "execute_result"
    }
   ],
   "source": [
    "y_test.shape"
   ]
  },
  {
   "cell_type": "code",
   "execution_count": 55,
   "metadata": {},
   "outputs": [
    {
     "data": {
      "text/plain": [
       "tensor([[0.0713],\n",
       "        [0.2289]])"
      ]
     },
     "execution_count": 55,
     "metadata": {},
     "output_type": "execute_result"
    }
   ],
   "source": [
    "y_test[:2]"
   ]
  },
  {
   "cell_type": "code",
   "execution_count": 56,
   "metadata": {},
   "outputs": [],
   "source": [
    "class CoronaVirusPredictor(nn.Module):\n",
    "  def __init__(self, n_features, n_hidden, seq_len, n_layers=2):\n",
    "    super(CoronaVirusPredictor, self).__init__()\n",
    "    self.n_hidden = n_hidden\n",
    "    self.seq_len = seq_len\n",
    "    self.n_layers = n_layers\n",
    "    self.lstm = nn.LSTM(\n",
    "      input_size=n_features,\n",
    "      hidden_size=n_hidden,\n",
    "      num_layers=n_layers,\n",
    "      dropout=0.5\n",
    "    )\n",
    "    self.linear = nn.Linear(in_features=n_hidden, out_features=1)\n",
    "    \n",
    "  def reset_hidden_state(self):\n",
    "    self.hidden = (\n",
    "        torch.zeros(self.n_layers, self.seq_len, self.n_hidden),\n",
    "        torch.zeros(self.n_layers, self.seq_len, self.n_hidden)\n",
    "    )\n",
    "    \n",
    "  def forward(self, sequences):\n",
    "    lstm_out, self.hidden = self.lstm(\n",
    "      sequences.view(len(sequences), self.seq_len, -1),\n",
    "      self.hidden\n",
    "    )\n",
    "    last_time_step = \\\n",
    "      lstm_out.view(self.seq_len, len(sequences), self.n_hidden)[-1]\n",
    "    y_pred = self.linear(last_time_step)\n",
    "    return y_pred"
   ]
  },
  {
   "cell_type": "code",
   "execution_count": 57,
   "metadata": {},
   "outputs": [],
   "source": [
    "def train_model(\n",
    "  model,\n",
    "  train_data,\n",
    "  train_labels,\n",
    "  test_data=None,\n",
    "  test_labels=None\n",
    "):\n",
    "  loss_fn = torch.nn.MSELoss(reduction='sum')\n",
    "\n",
    "  optimiser = torch.optim.Adam(model.parameters(), lr=1e-3)\n",
    "    \n",
    "  num_epochs = 500\n",
    "\n",
    "  train_hist = np.zeros(num_epochs)\n",
    "    \n",
    "  test_hist = np.zeros(num_epochs)\n",
    "\n",
    "  for t in range(num_epochs):\n",
    "    model.reset_hidden_state()\n",
    "    y_pred = model(X_train)\n",
    "    loss = loss_fn(y_pred.float(), y_train)\n",
    "    \n",
    "    if test_data is not None:\n",
    "      with torch.no_grad():\n",
    "        y_test_pred = model(X_test)\n",
    "        test_loss = loss_fn(y_test_pred.float(), y_test)\n",
    "      test_hist[t] = test_loss.item()\n",
    "      if t % 10 == 0:\n",
    "        print(f'Epoch {t} train loss: {loss.item()} test loss: {test_loss.item()}')\n",
    "    elif t % 10 == 0:\n",
    "      print(f'Epoch {t} train loss: {loss.item()}')\n",
    "    train_hist[t] = loss.item()\n",
    "    optimiser.zero_grad()\n",
    "    loss.backward()\n",
    "    optimiser.step()\n",
    "    \n",
    "  return model.eval(), train_hist, test_hist"
   ]
  },
  {
   "cell_type": "code",
   "execution_count": 58,
   "metadata": {},
   "outputs": [
    {
     "name": "stdout",
     "output_type": "stream",
     "text": [
      "Epoch 0 train loss: 17.858339309692383 test loss: 0.693083643913269\n",
      "Epoch 10 train loss: 7.50335693359375 test loss: 0.5463271141052246\n",
      "Epoch 20 train loss: 7.52445650100708 test loss: 0.39099615812301636\n",
      "Epoch 30 train loss: 7.466091632843018 test loss: 0.481197714805603\n",
      "Epoch 40 train loss: 7.383060932159424 test loss: 0.5783107280731201\n",
      "Epoch 50 train loss: 7.325435161590576 test loss: 0.6308876276016235\n",
      "Epoch 60 train loss: 7.360288619995117 test loss: 1.1126021146774292\n",
      "Epoch 70 train loss: 7.360636234283447 test loss: 0.6026981472969055\n",
      "Epoch 80 train loss: 7.3515706062316895 test loss: 0.855276882648468\n",
      "Epoch 90 train loss: 7.376070022583008 test loss: 0.8095082640647888\n",
      "Epoch 100 train loss: 7.485405445098877 test loss: 0.9200671315193176\n",
      "Epoch 110 train loss: 7.318950653076172 test loss: 0.7620330452919006\n",
      "Epoch 120 train loss: 7.262612819671631 test loss: 0.7061187624931335\n",
      "Epoch 130 train loss: 7.306317329406738 test loss: 0.8668073415756226\n",
      "Epoch 140 train loss: 7.191040992736816 test loss: 0.733252763748169\n",
      "Epoch 150 train loss: 7.2379841804504395 test loss: 0.8068485856056213\n",
      "Epoch 160 train loss: 7.38886022567749 test loss: 0.7986456155776978\n",
      "Epoch 170 train loss: 7.336206912994385 test loss: 0.8074774742126465\n",
      "Epoch 180 train loss: 7.323116302490234 test loss: 0.7367438077926636\n",
      "Epoch 190 train loss: 7.172736167907715 test loss: 0.675798773765564\n",
      "Epoch 200 train loss: 7.076780319213867 test loss: 0.8173133730888367\n",
      "Epoch 210 train loss: 7.258077621459961 test loss: 0.6932196617126465\n",
      "Epoch 220 train loss: 7.079349994659424 test loss: 0.6548330783843994\n",
      "Epoch 230 train loss: 7.088217258453369 test loss: 0.7498126029968262\n",
      "Epoch 240 train loss: 7.118163585662842 test loss: 0.7765367031097412\n",
      "Epoch 250 train loss: 7.320593357086182 test loss: 0.684257447719574\n",
      "Epoch 260 train loss: 7.164256572723389 test loss: 0.7235819101333618\n",
      "Epoch 270 train loss: 7.1744232177734375 test loss: 0.7859248518943787\n",
      "Epoch 280 train loss: 7.17976188659668 test loss: 0.690873384475708\n",
      "Epoch 290 train loss: 6.976297855377197 test loss: 0.7163839340209961\n",
      "Epoch 300 train loss: 7.163369178771973 test loss: 0.7336152791976929\n",
      "Epoch 310 train loss: 7.080127239227295 test loss: 0.6908280849456787\n",
      "Epoch 320 train loss: 7.1811418533325195 test loss: 0.7889398336410522\n",
      "Epoch 330 train loss: 7.029931545257568 test loss: 0.644669234752655\n",
      "Epoch 340 train loss: 7.067343711853027 test loss: 0.6815382838249207\n",
      "Epoch 350 train loss: 7.062817096710205 test loss: 0.7517843246459961\n",
      "Epoch 360 train loss: 7.161349773406982 test loss: 0.6873274445533752\n",
      "Epoch 370 train loss: 7.051445007324219 test loss: 0.6855552792549133\n",
      "Epoch 380 train loss: 7.019806385040283 test loss: 0.7039903402328491\n",
      "Epoch 390 train loss: 7.16403341293335 test loss: 0.6796255707740784\n",
      "Epoch 400 train loss: 7.080094814300537 test loss: 0.6796323657035828\n",
      "Epoch 410 train loss: 7.015436172485352 test loss: 0.625268280506134\n",
      "Epoch 420 train loss: 7.0634846687316895 test loss: 0.6999225616455078\n",
      "Epoch 430 train loss: 7.001710891723633 test loss: 0.6769583225250244\n",
      "Epoch 440 train loss: 7.095484256744385 test loss: 0.7181463837623596\n",
      "Epoch 450 train loss: 7.156391143798828 test loss: 0.7926939129829407\n",
      "Epoch 460 train loss: 7.128199100494385 test loss: 0.7602521777153015\n",
      "Epoch 470 train loss: 7.0515642166137695 test loss: 0.7289680242538452\n",
      "Epoch 480 train loss: 7.024582862854004 test loss: 0.6726449728012085\n",
      "Epoch 490 train loss: 6.949702739715576 test loss: 0.6998817324638367\n"
     ]
    }
   ],
   "source": [
    "model = CoronaVirusPredictor(\n",
    "  n_features=1,\n",
    "  n_hidden=512,\n",
    "  seq_len=seq_length,\n",
    "  n_layers=2\n",
    ")\n",
    "model, train_hist, test_hist = train_model(\n",
    "  model,\n",
    "  X_train,\n",
    "  y_train,\n",
    "  X_test,\n",
    "  y_test\n",
    ")"
   ]
  },
  {
   "cell_type": "code",
   "execution_count": 34,
   "metadata": {},
   "outputs": [
    {
     "data": {
      "image/png": "[encoded data removed]",
      "text/plain": [
       "<Figure size 432x288 with 1 Axes>"
      ]
     },
     "metadata": {
      "image/png": {
       "height": 252,
       "width": 368
      },
      "needs_background": "light"
     },
     "output_type": "display_data"
    }
   ],
   "source": [
    "plt.plot(train_hist, label=\"Training loss\")\n",
    "plt.plot(test_hist, label=\"Test loss\")\n",
    "plt.ylim((0, 50))\n",
    "plt.legend();"
   ]
  },
  {
   "cell_type": "markdown",
   "metadata": {},
   "source": [
    "# Daily Cases Prediction"
   ]
  },
  {
   "cell_type": "code",
   "execution_count": 35,
   "metadata": {},
   "outputs": [],
   "source": [
    "with torch.no_grad():\n",
    "  test_seq = X_test[:1]\n",
    "  preds = []\n",
    "  for _ in range(len(X_test)):\n",
    "    y_test_pred = model(test_seq)\n",
    "    pred = torch.flatten(y_test_pred).item()\n",
    "    preds.append(pred)\n",
    "    new_seq = test_seq.numpy().flatten()\n",
    "    new_seq = np.append(new_seq, [pred])\n",
    "    new_seq = new_seq[1:]\n",
    "    test_seq = torch.as_tensor(new_seq).view(1, seq_length, 1).float()"
   ]
  },
  {
   "cell_type": "code",
   "execution_count": 36,
   "metadata": {},
   "outputs": [],
   "source": [
    "true_cases = scaler.inverse_transform(\n",
    "    np.expand_dims(y_test.flatten().numpy(), axis=0)\n",
    ").flatten()\n",
    "predicted_cases = scaler.inverse_transform(\n",
    "  np.expand_dims(preds, axis=0)\n",
    ").flatten()"
   ]
  },
  {
   "cell_type": "code",
   "execution_count": 37,
   "metadata": {},
   "outputs": [
    {
     "data": {
      "image/png": "[encoded data removed]",
      "text/plain": [
       "<Figure size 432x288 with 1 Axes>"
      ]
     },
     "metadata": {
      "image/png": {
       "height": 248,
       "width": 397
      },
      "needs_background": "light"
     },
     "output_type": "display_data"
    }
   ],
   "source": [
    "plt.plot(\n",
    "  daily_cases.index[:len(train_data)],\n",
    "  scaler.inverse_transform(train_data).flatten(),\n",
    "  label='Historical Daily Cases'\n",
    ")\n",
    "plt.plot(\n",
    "  daily_cases.index[len(train_data):len(train_data) + len(true_cases)],\n",
    "  true_cases,\n",
    "  label='Real Daily Cases'\n",
    ")\n",
    "plt.plot(\n",
    "  daily_cases.index[len(train_data):len(train_data) + len(true_cases)],\n",
    "  predicted_cases,\n",
    "  label='Predicted Daily Cases'\n",
    ")\n",
    "plt.legend();"
   ]
  },
  {
   "cell_type": "markdown",
   "metadata": {},
   "source": [
    "## Using All Data for Training"
   ]
  },
  {
   "cell_type": "code",
   "execution_count": 38,
   "metadata": {},
   "outputs": [
    {
     "data": {
      "text/plain": [
       "(198, 1)"
      ]
     },
     "execution_count": 38,
     "metadata": {},
     "output_type": "execute_result"
    }
   ],
   "source": [
    "scaler = MinMaxScaler()\n",
    "scaler = scaler.fit(np.expand_dims(daily_cases['New cases'], axis=1))\n",
    "all_data = scaler.transform(np.expand_dims(daily_cases['New cases'], axis=1))\n",
    "all_data.shape"
   ]
  },
  {
   "cell_type": "code",
   "execution_count": 59,
   "metadata": {},
   "outputs": [
    {
     "name": "stdout",
     "output_type": "stream",
     "text": [
      "Epoch 0 train loss: 16.57248878479004\n",
      "Epoch 10 train loss: 8.411317825317383\n",
      "Epoch 20 train loss: 7.757671356201172\n",
      "Epoch 30 train loss: 7.4265594482421875\n",
      "Epoch 40 train loss: 7.442873954772949\n",
      "Epoch 50 train loss: 7.443954944610596\n",
      "Epoch 60 train loss: 7.362251281738281\n",
      "Epoch 70 train loss: 7.488959312438965\n",
      "Epoch 80 train loss: 7.4332990646362305\n",
      "Epoch 90 train loss: 7.508632183074951\n",
      "Epoch 100 train loss: 7.439659118652344\n",
      "Epoch 110 train loss: 7.444631576538086\n",
      "Epoch 120 train loss: 7.483813285827637\n",
      "Epoch 130 train loss: 7.4112629890441895\n",
      "Epoch 140 train loss: 7.29299783706665\n",
      "Epoch 150 train loss: 7.36135196685791\n",
      "Epoch 160 train loss: 7.292508602142334\n",
      "Epoch 170 train loss: 7.31424617767334\n",
      "Epoch 180 train loss: 7.329385757446289\n",
      "Epoch 190 train loss: 7.509514808654785\n",
      "Epoch 200 train loss: 7.453478813171387\n",
      "Epoch 210 train loss: 7.413172245025635\n",
      "Epoch 220 train loss: 7.3800368309021\n",
      "Epoch 230 train loss: 7.397085666656494\n",
      "Epoch 240 train loss: 7.428744792938232\n",
      "Epoch 250 train loss: 7.336019039154053\n",
      "Epoch 260 train loss: 7.434661865234375\n",
      "Epoch 270 train loss: 7.382967948913574\n",
      "Epoch 280 train loss: 7.3642401695251465\n",
      "Epoch 290 train loss: 7.390025615692139\n",
      "Epoch 300 train loss: 7.348767280578613\n",
      "Epoch 310 train loss: 7.359244346618652\n",
      "Epoch 320 train loss: 7.344960689544678\n",
      "Epoch 330 train loss: 7.298666954040527\n",
      "Epoch 340 train loss: 7.363685607910156\n",
      "Epoch 350 train loss: 7.345180511474609\n",
      "Epoch 360 train loss: 7.350015163421631\n",
      "Epoch 370 train loss: 7.365412712097168\n",
      "Epoch 380 train loss: 7.3200364112854\n",
      "Epoch 390 train loss: 7.331493854522705\n",
      "Epoch 400 train loss: 7.29592227935791\n",
      "Epoch 410 train loss: 7.359190464019775\n",
      "Epoch 420 train loss: 7.360881805419922\n",
      "Epoch 430 train loss: 7.303181171417236\n",
      "Epoch 440 train loss: 7.316054344177246\n",
      "Epoch 450 train loss: 7.385306358337402\n",
      "Epoch 460 train loss: 7.326356410980225\n",
      "Epoch 470 train loss: 7.3564348220825195\n",
      "Epoch 480 train loss: 7.289649486541748\n",
      "Epoch 490 train loss: 7.264713764190674\n"
     ]
    }
   ],
   "source": [
    "X_all, y_all = create_sequences(all_data, seq_length)\n",
    "X_all = torch.from_numpy(X_all).float()\n",
    "y_all = torch.from_numpy(y_all).float()\n",
    "model = CoronaVirusPredictor(\n",
    "  n_features=1,\n",
    "  n_hidden=100,\n",
    "  seq_len=seq_length,\n",
    "  n_layers=2\n",
    ")\n",
    "model, train_hist, _ = train_model(model, X_all, y_all)"
   ]
  },
  {
   "cell_type": "code",
   "execution_count": 60,
   "metadata": {},
   "outputs": [],
   "source": [
    "DAYS_TO_PREDICT = 6\n",
    "\n",
    "with torch.no_grad():\n",
    "  test_seq = X_all[:1]\n",
    "  preds = []\n",
    "\n",
    "  for _ in range(DAYS_TO_PREDICT):\n",
    "    y_test_pred = model(test_seq)\n",
    "    pred = torch.flatten(y_test_pred).item()\n",
    "    preds.append(pred)\n",
    "    new_seq = test_seq.numpy().flatten()\n",
    "    new_seq = np.append(new_seq, [pred])\n",
    "    new_seq = new_seq[1:]\n",
    "    test_seq = torch.as_tensor(new_seq).view(1, seq_length, 1).float()"
   ]
  },
  {
   "cell_type": "code",
   "execution_count": 61,
   "metadata": {},
   "outputs": [],
   "source": [
    "predicted_cases = scaler.inverse_transform(\n",
    "  np.expand_dims(preds, axis=0)\n",
    ").flatten()"
   ]
  },
  {
   "cell_type": "code",
   "execution_count": 42,
   "metadata": {},
   "outputs": [
    {
     "data": {
      "text/plain": [
       "Timestamp('2020-08-06 00:00:00')"
      ]
     },
     "execution_count": 42,
     "metadata": {},
     "output_type": "execute_result"
    }
   ],
   "source": [
    "daily_cases.index[-1]"
   ]
  },
  {
   "cell_type": "code",
   "execution_count": 43,
   "metadata": {},
   "outputs": [
    {
     "data": {
      "image/png": "[encoded data removed]",
      "text/plain": [
       "<Figure size 432x288 with 1 Axes>"
      ]
     },
     "metadata": {
      "image/png": {
       "height": 248,
       "width": 375
      },
      "needs_background": "light"
     },
     "output_type": "display_data"
    }
   ],
   "source": [
    "predicted_index = pd.date_range(\n",
    "  start=daily_cases.index[-1],\n",
    "  periods=DAYS_TO_PREDICT + 1,\n",
    "  closed='right'\n",
    ")\n",
    "predicted_cases = pd.Series(\n",
    "  data=predicted_cases,\n",
    "  index=predicted_index\n",
    ")\n",
    "plt.plot(predicted_cases, label='Predicted Daily Cases')\n",
    "plt.legend();"
   ]
  },
  {
   "cell_type": "code",
   "execution_count": 44,
   "metadata": {},
   "outputs": [
    {
     "data": {
      "text/plain": [
       "2020-08-07    403.666377\n",
       "2020-08-08    299.334567\n",
       "2020-08-09    196.762621\n",
       "2020-08-10    111.493809\n",
       "2020-08-11     51.904928\n",
       "2020-08-12     21.003679\n",
       "2020-08-13     16.914639\n",
       "2020-08-14     34.047316\n",
       "2020-08-15     64.863848\n",
       "2020-08-16    101.634494\n",
       "2020-08-17    137.698065\n",
       "2020-08-18    168.145125\n",
       "Freq: D, dtype: float64"
      ]
     },
     "execution_count": 44,
     "metadata": {},
     "output_type": "execute_result"
    }
   ],
   "source": [
    "predicted_cases"
   ]
  },
  {
   "cell_type": "code",
   "execution_count": 45,
   "metadata": {},
   "outputs": [],
   "source": [
    "# fig = px.line(canada, x=\"Date\", y=\"New cases\", title='Daily new Cases in Canada')\n",
    "# fig.show()"
   ]
  },
  {
   "cell_type": "code",
   "execution_count": 46,
   "metadata": {},
   "outputs": [
    {
     "data": {
      "image/png": "[encoded data removed]",
      "text/plain": [
       "<Figure size 432x288 with 1 Axes>"
      ]
     },
     "metadata": {
      "image/png": {
       "height": 248,
       "width": 381
      },
      "needs_background": "light"
     },
     "output_type": "display_data"
    }
   ],
   "source": [
    "plt.plot(daily_cases, label='Historical Daily Cases')\n",
    "plt.plot(predicted_cases, label='Predicted Daily Cases')\n",
    "plt.legend();"
   ]
  },
  {
   "cell_type": "code",
   "execution_count": null,
   "metadata": {},
   "outputs": [],
   "source": []
  }
 ],
 "metadata": {
  "kernelspec": {
   "display_name": "Python 3",
   "language": "python",
   "name": "python3"
  },
  "language_info": {
   "codemirror_mode": {
    "name": "ipython",
    "version": 3
   },
   "file_extension": ".py",
   "mimetype": "text/x-python",
   "name": "python",
   "nbconvert_exporter": "python",
   "pygments_lexer": "ipython3",
   "version": "3.8.3"
  }
 },
 "nbformat": 4,
 "nbformat_minor": 4
}
