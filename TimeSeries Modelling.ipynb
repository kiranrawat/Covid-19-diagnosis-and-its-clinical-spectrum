{
 "cells": [
  {
   "cell_type": "markdown",
   "metadata": {},
   "source": [
    "# Covid Timeseries Modelling"
   ]
  },
  {
   "cell_type": "code",
   "execution_count": 2,
   "metadata": {},
   "outputs": [],
   "source": [
    "import pandas as pd\n",
    "import matplotlib.pyplot as plt\n",
    "from statsmodels.tsa.arima_model import ARIMA\n",
    "from sklearn.preprocessing import MinMaxScaler\n",
    "import torch\n",
    "from torch import nn, optim\n",
    "import numpy as np\n",
    "import plotly.express as px\n",
    "\n",
    "%matplotlib inline\n",
    "%config InlineBackend.figure_format='retina'"
   ]
  },
  {
   "cell_type": "code",
   "execution_count": 3,
   "metadata": {},
   "outputs": [
    {
     "data": {
      "text/html": [
       "<div>\n",
       "<style scoped>\n",
       "    .dataframe tbody tr th:only-of-type {\n",
       "        vertical-align: middle;\n",
       "    }\n",
       "\n",
       "    .dataframe tbody tr th {\n",
       "        vertical-align: top;\n",
       "    }\n",
       "\n",
       "    .dataframe thead th {\n",
       "        text-align: right;\n",
       "    }\n",
       "</style>\n",
       "<table border=\"1\" class=\"dataframe\">\n",
       "  <thead>\n",
       "    <tr style=\"text-align: right;\">\n",
       "      <th></th>\n",
       "      <th>Country/Region</th>\n",
       "      <th>Date</th>\n",
       "      <th>Confirmed</th>\n",
       "      <th>Deaths</th>\n",
       "      <th>Recovered</th>\n",
       "      <th>Active</th>\n",
       "      <th>New cases</th>\n",
       "      <th>New deaths</th>\n",
       "      <th>New recovered</th>\n",
       "    </tr>\n",
       "  </thead>\n",
       "  <tbody>\n",
       "    <tr>\n",
       "      <th>0</th>\n",
       "      <td>Afghanistan</td>\n",
       "      <td>2020-01-22</td>\n",
       "      <td>0</td>\n",
       "      <td>0</td>\n",
       "      <td>0.0</td>\n",
       "      <td>0.0</td>\n",
       "      <td>0</td>\n",
       "      <td>0</td>\n",
       "      <td>0</td>\n",
       "    </tr>\n",
       "    <tr>\n",
       "      <th>1</th>\n",
       "      <td>Albania</td>\n",
       "      <td>2020-01-22</td>\n",
       "      <td>0</td>\n",
       "      <td>0</td>\n",
       "      <td>0.0</td>\n",
       "      <td>0.0</td>\n",
       "      <td>0</td>\n",
       "      <td>0</td>\n",
       "      <td>0</td>\n",
       "    </tr>\n",
       "    <tr>\n",
       "      <th>2</th>\n",
       "      <td>Algeria</td>\n",
       "      <td>2020-01-22</td>\n",
       "      <td>0</td>\n",
       "      <td>0</td>\n",
       "      <td>0.0</td>\n",
       "      <td>0.0</td>\n",
       "      <td>0</td>\n",
       "      <td>0</td>\n",
       "      <td>0</td>\n",
       "    </tr>\n",
       "    <tr>\n",
       "      <th>3</th>\n",
       "      <td>Andorra</td>\n",
       "      <td>2020-01-22</td>\n",
       "      <td>0</td>\n",
       "      <td>0</td>\n",
       "      <td>0.0</td>\n",
       "      <td>0.0</td>\n",
       "      <td>0</td>\n",
       "      <td>0</td>\n",
       "      <td>0</td>\n",
       "    </tr>\n",
       "    <tr>\n",
       "      <th>4</th>\n",
       "      <td>Angola</td>\n",
       "      <td>2020-01-22</td>\n",
       "      <td>0</td>\n",
       "      <td>0</td>\n",
       "      <td>0.0</td>\n",
       "      <td>0.0</td>\n",
       "      <td>0</td>\n",
       "      <td>0</td>\n",
       "      <td>0</td>\n",
       "    </tr>\n",
       "  </tbody>\n",
       "</table>\n",
       "</div>"
      ],
      "text/plain": [
       "  Country/Region       Date  Confirmed  Deaths  Recovered  Active  New cases  \\\n",
       "0    Afghanistan 2020-01-22          0       0        0.0     0.0          0   \n",
       "1        Albania 2020-01-22          0       0        0.0     0.0          0   \n",
       "2        Algeria 2020-01-22          0       0        0.0     0.0          0   \n",
       "3        Andorra 2020-01-22          0       0        0.0     0.0          0   \n",
       "4         Angola 2020-01-22          0       0        0.0     0.0          0   \n",
       "\n",
       "   New deaths  New recovered  \n",
       "0           0              0  \n",
       "1           0              0  \n",
       "2           0              0  \n",
       "3           0              0  \n",
       "4           0              0  "
      ]
     },
     "execution_count": 3,
     "metadata": {},
     "output_type": "execute_result"
    }
   ],
   "source": [
    "full_grouped = pd.read_csv('COVID-19-complete-03-sep.csv', parse_dates=['Date'], index_col=0, header = 0)\n",
    "full_grouped.head()"
   ]
  },
  {
   "cell_type": "code",
   "execution_count": 4,
   "metadata": {},
   "outputs": [
    {
     "data": {
      "text/html": [
       "<div>\n",
       "<style scoped>\n",
       "    .dataframe tbody tr th:only-of-type {\n",
       "        vertical-align: middle;\n",
       "    }\n",
       "\n",
       "    .dataframe tbody tr th {\n",
       "        vertical-align: top;\n",
       "    }\n",
       "\n",
       "    .dataframe thead th {\n",
       "        text-align: right;\n",
       "    }\n",
       "</style>\n",
       "<table border=\"1\" class=\"dataframe\">\n",
       "  <thead>\n",
       "    <tr style=\"text-align: right;\">\n",
       "      <th></th>\n",
       "      <th>Country/Region</th>\n",
       "      <th>Date</th>\n",
       "      <th>Confirmed</th>\n",
       "      <th>Deaths</th>\n",
       "      <th>Recovered</th>\n",
       "      <th>Active</th>\n",
       "      <th>New cases</th>\n",
       "      <th>New deaths</th>\n",
       "      <th>New recovered</th>\n",
       "    </tr>\n",
       "  </thead>\n",
       "  <tbody>\n",
       "    <tr>\n",
       "      <th>0</th>\n",
       "      <td>Afghanistan</td>\n",
       "      <td>2020-01-22</td>\n",
       "      <td>0</td>\n",
       "      <td>0</td>\n",
       "      <td>0.0</td>\n",
       "      <td>0.0</td>\n",
       "      <td>0</td>\n",
       "      <td>0</td>\n",
       "      <td>0</td>\n",
       "    </tr>\n",
       "    <tr>\n",
       "      <th>1</th>\n",
       "      <td>Albania</td>\n",
       "      <td>2020-01-22</td>\n",
       "      <td>0</td>\n",
       "      <td>0</td>\n",
       "      <td>0.0</td>\n",
       "      <td>0.0</td>\n",
       "      <td>0</td>\n",
       "      <td>0</td>\n",
       "      <td>0</td>\n",
       "    </tr>\n",
       "    <tr>\n",
       "      <th>2</th>\n",
       "      <td>Algeria</td>\n",
       "      <td>2020-01-22</td>\n",
       "      <td>0</td>\n",
       "      <td>0</td>\n",
       "      <td>0.0</td>\n",
       "      <td>0.0</td>\n",
       "      <td>0</td>\n",
       "      <td>0</td>\n",
       "      <td>0</td>\n",
       "    </tr>\n",
       "    <tr>\n",
       "      <th>3</th>\n",
       "      <td>Andorra</td>\n",
       "      <td>2020-01-22</td>\n",
       "      <td>0</td>\n",
       "      <td>0</td>\n",
       "      <td>0.0</td>\n",
       "      <td>0.0</td>\n",
       "      <td>0</td>\n",
       "      <td>0</td>\n",
       "      <td>0</td>\n",
       "    </tr>\n",
       "    <tr>\n",
       "      <th>4</th>\n",
       "      <td>Angola</td>\n",
       "      <td>2020-01-22</td>\n",
       "      <td>0</td>\n",
       "      <td>0</td>\n",
       "      <td>0.0</td>\n",
       "      <td>0.0</td>\n",
       "      <td>0</td>\n",
       "      <td>0</td>\n",
       "      <td>0</td>\n",
       "    </tr>\n",
       "    <tr>\n",
       "      <th>...</th>\n",
       "      <td>...</td>\n",
       "      <td>...</td>\n",
       "      <td>...</td>\n",
       "      <td>...</td>\n",
       "      <td>...</td>\n",
       "      <td>...</td>\n",
       "      <td>...</td>\n",
       "      <td>...</td>\n",
       "      <td>...</td>\n",
       "    </tr>\n",
       "    <tr>\n",
       "      <th>41845</th>\n",
       "      <td>West Bank and Gaza</td>\n",
       "      <td>2020-09-02</td>\n",
       "      <td>23875</td>\n",
       "      <td>162</td>\n",
       "      <td>15483.0</td>\n",
       "      <td>8230.0</td>\n",
       "      <td>594</td>\n",
       "      <td>3</td>\n",
       "      <td>145</td>\n",
       "    </tr>\n",
       "    <tr>\n",
       "      <th>41846</th>\n",
       "      <td>Western Sahara</td>\n",
       "      <td>2020-09-02</td>\n",
       "      <td>10</td>\n",
       "      <td>1</td>\n",
       "      <td>8.0</td>\n",
       "      <td>1.0</td>\n",
       "      <td>0</td>\n",
       "      <td>0</td>\n",
       "      <td>0</td>\n",
       "    </tr>\n",
       "    <tr>\n",
       "      <th>41847</th>\n",
       "      <td>Yemen</td>\n",
       "      <td>2020-09-02</td>\n",
       "      <td>1976</td>\n",
       "      <td>571</td>\n",
       "      <td>0.0</td>\n",
       "      <td>1405.0</td>\n",
       "      <td>14</td>\n",
       "      <td>1</td>\n",
       "      <td>0</td>\n",
       "    </tr>\n",
       "    <tr>\n",
       "      <th>41848</th>\n",
       "      <td>Zambia</td>\n",
       "      <td>2020-09-02</td>\n",
       "      <td>12415</td>\n",
       "      <td>292</td>\n",
       "      <td>11494.0</td>\n",
       "      <td>629.0</td>\n",
       "      <td>34</td>\n",
       "      <td>2</td>\n",
       "      <td>15</td>\n",
       "    </tr>\n",
       "    <tr>\n",
       "      <th>41849</th>\n",
       "      <td>Zimbabwe</td>\n",
       "      <td>2020-09-02</td>\n",
       "      <td>6638</td>\n",
       "      <td>206</td>\n",
       "      <td>5250.0</td>\n",
       "      <td>1182.0</td>\n",
       "      <td>79</td>\n",
       "      <td>3</td>\n",
       "      <td>9</td>\n",
       "    </tr>\n",
       "  </tbody>\n",
       "</table>\n",
       "<p>41850 rows × 9 columns</p>\n",
       "</div>"
      ],
      "text/plain": [
       "           Country/Region       Date  Confirmed  Deaths  Recovered  Active  \\\n",
       "0             Afghanistan 2020-01-22          0       0        0.0     0.0   \n",
       "1                 Albania 2020-01-22          0       0        0.0     0.0   \n",
       "2                 Algeria 2020-01-22          0       0        0.0     0.0   \n",
       "3                 Andorra 2020-01-22          0       0        0.0     0.0   \n",
       "4                  Angola 2020-01-22          0       0        0.0     0.0   \n",
       "...                   ...        ...        ...     ...        ...     ...   \n",
       "41845  West Bank and Gaza 2020-09-02      23875     162    15483.0  8230.0   \n",
       "41846      Western Sahara 2020-09-02         10       1        8.0     1.0   \n",
       "41847               Yemen 2020-09-02       1976     571        0.0  1405.0   \n",
       "41848              Zambia 2020-09-02      12415     292    11494.0   629.0   \n",
       "41849            Zimbabwe 2020-09-02       6638     206     5250.0  1182.0   \n",
       "\n",
       "       New cases  New deaths  New recovered  \n",
       "0              0           0              0  \n",
       "1              0           0              0  \n",
       "2              0           0              0  \n",
       "3              0           0              0  \n",
       "4              0           0              0  \n",
       "...          ...         ...            ...  \n",
       "41845        594           3            145  \n",
       "41846          0           0              0  \n",
       "41847         14           1              0  \n",
       "41848         34           2             15  \n",
       "41849         79           3              9  \n",
       "\n",
       "[41850 rows x 9 columns]"
      ]
     },
     "execution_count": 4,
     "metadata": {},
     "output_type": "execute_result"
    }
   ],
   "source": [
    "full_grouped"
   ]
  },
  {
   "cell_type": "code",
   "execution_count": 5,
   "metadata": {},
   "outputs": [
    {
     "data": {
      "text/html": [
       "<div>\n",
       "<style scoped>\n",
       "    .dataframe tbody tr th:only-of-type {\n",
       "        vertical-align: middle;\n",
       "    }\n",
       "\n",
       "    .dataframe tbody tr th {\n",
       "        vertical-align: top;\n",
       "    }\n",
       "\n",
       "    .dataframe thead th {\n",
       "        text-align: right;\n",
       "    }\n",
       "</style>\n",
       "<table border=\"1\" class=\"dataframe\">\n",
       "  <thead>\n",
       "    <tr style=\"text-align: right;\">\n",
       "      <th></th>\n",
       "      <th>Country/Region</th>\n",
       "      <th>Date</th>\n",
       "      <th>Confirmed</th>\n",
       "      <th>Deaths</th>\n",
       "      <th>Recovered</th>\n",
       "      <th>Active</th>\n",
       "      <th>New cases</th>\n",
       "      <th>New deaths</th>\n",
       "      <th>New recovered</th>\n",
       "    </tr>\n",
       "  </thead>\n",
       "  <tbody>\n",
       "    <tr>\n",
       "      <th>32</th>\n",
       "      <td>Canada</td>\n",
       "      <td>2020-01-22</td>\n",
       "      <td>0</td>\n",
       "      <td>0</td>\n",
       "      <td>0.0</td>\n",
       "      <td>0.0</td>\n",
       "      <td>0</td>\n",
       "      <td>0</td>\n",
       "      <td>0</td>\n",
       "    </tr>\n",
       "    <tr>\n",
       "      <th>218</th>\n",
       "      <td>Canada</td>\n",
       "      <td>2020-01-23</td>\n",
       "      <td>0</td>\n",
       "      <td>0</td>\n",
       "      <td>0.0</td>\n",
       "      <td>0.0</td>\n",
       "      <td>0</td>\n",
       "      <td>0</td>\n",
       "      <td>0</td>\n",
       "    </tr>\n",
       "    <tr>\n",
       "      <th>404</th>\n",
       "      <td>Canada</td>\n",
       "      <td>2020-01-24</td>\n",
       "      <td>0</td>\n",
       "      <td>0</td>\n",
       "      <td>0.0</td>\n",
       "      <td>0.0</td>\n",
       "      <td>0</td>\n",
       "      <td>0</td>\n",
       "      <td>0</td>\n",
       "    </tr>\n",
       "    <tr>\n",
       "      <th>590</th>\n",
       "      <td>Canada</td>\n",
       "      <td>2020-01-25</td>\n",
       "      <td>0</td>\n",
       "      <td>0</td>\n",
       "      <td>0.0</td>\n",
       "      <td>0.0</td>\n",
       "      <td>0</td>\n",
       "      <td>0</td>\n",
       "      <td>0</td>\n",
       "    </tr>\n",
       "    <tr>\n",
       "      <th>776</th>\n",
       "      <td>Canada</td>\n",
       "      <td>2020-01-26</td>\n",
       "      <td>1</td>\n",
       "      <td>0</td>\n",
       "      <td>0.0</td>\n",
       "      <td>1.0</td>\n",
       "      <td>1</td>\n",
       "      <td>0</td>\n",
       "      <td>0</td>\n",
       "    </tr>\n",
       "  </tbody>\n",
       "</table>\n",
       "</div>"
      ],
      "text/plain": [
       "    Country/Region       Date  Confirmed  Deaths  Recovered  Active  \\\n",
       "32          Canada 2020-01-22          0       0        0.0     0.0   \n",
       "218         Canada 2020-01-23          0       0        0.0     0.0   \n",
       "404         Canada 2020-01-24          0       0        0.0     0.0   \n",
       "590         Canada 2020-01-25          0       0        0.0     0.0   \n",
       "776         Canada 2020-01-26          1       0        0.0     1.0   \n",
       "\n",
       "     New cases  New deaths  New recovered  \n",
       "32           0           0              0  \n",
       "218          0           0              0  \n",
       "404          0           0              0  \n",
       "590          0           0              0  \n",
       "776          1           0              0  "
      ]
     },
     "execution_count": 5,
     "metadata": {},
     "output_type": "execute_result"
    }
   ],
   "source": [
    "canada = full_grouped[full_grouped['Country/Region'] == 'Canada']\n",
    "canada.head()"
   ]
  },
  {
   "cell_type": "code",
   "execution_count": 6,
   "metadata": {},
   "outputs": [
    {
     "data": {
      "text/plain": [
       "(225, 2)"
      ]
     },
     "execution_count": 6,
     "metadata": {},
     "output_type": "execute_result"
    }
   ],
   "source": [
    "# canada[['Date', 'New cases']]\n",
    "daily_cases = canada.drop(['Country/Region', 'Confirmed', 'Deaths', 'Recovered', 'Active', 'New deaths', 'New recovered'],axis=1)  \n",
    "daily_cases.shape\n",
    "# df.drop(['B', 'C'], axis=1)"
   ]
  },
  {
   "cell_type": "code",
   "execution_count": 7,
   "metadata": {},
   "outputs": [
    {
     "data": {
      "text/html": [
       "<div>\n",
       "<style scoped>\n",
       "    .dataframe tbody tr th:only-of-type {\n",
       "        vertical-align: middle;\n",
       "    }\n",
       "\n",
       "    .dataframe tbody tr th {\n",
       "        vertical-align: top;\n",
       "    }\n",
       "\n",
       "    .dataframe thead th {\n",
       "        text-align: right;\n",
       "    }\n",
       "</style>\n",
       "<table border=\"1\" class=\"dataframe\">\n",
       "  <thead>\n",
       "    <tr style=\"text-align: right;\">\n",
       "      <th></th>\n",
       "      <th>Date</th>\n",
       "      <th>New cases</th>\n",
       "    </tr>\n",
       "  </thead>\n",
       "  <tbody>\n",
       "    <tr>\n",
       "      <th>32</th>\n",
       "      <td>2020-01-22</td>\n",
       "      <td>0</td>\n",
       "    </tr>\n",
       "    <tr>\n",
       "      <th>218</th>\n",
       "      <td>2020-01-23</td>\n",
       "      <td>0</td>\n",
       "    </tr>\n",
       "    <tr>\n",
       "      <th>404</th>\n",
       "      <td>2020-01-24</td>\n",
       "      <td>0</td>\n",
       "    </tr>\n",
       "    <tr>\n",
       "      <th>590</th>\n",
       "      <td>2020-01-25</td>\n",
       "      <td>0</td>\n",
       "    </tr>\n",
       "    <tr>\n",
       "      <th>776</th>\n",
       "      <td>2020-01-26</td>\n",
       "      <td>1</td>\n",
       "    </tr>\n",
       "  </tbody>\n",
       "</table>\n",
       "</div>"
      ],
      "text/plain": [
       "          Date  New cases\n",
       "32  2020-01-22          0\n",
       "218 2020-01-23          0\n",
       "404 2020-01-24          0\n",
       "590 2020-01-25          0\n",
       "776 2020-01-26          1"
      ]
     },
     "execution_count": 7,
     "metadata": {},
     "output_type": "execute_result"
    }
   ],
   "source": [
    "# daily_cases = canada[['Date', 'New cases']]\n",
    "daily_cases.head()"
   ]
  },
  {
   "cell_type": "code",
   "execution_count": 8,
   "metadata": {},
   "outputs": [
    {
     "data": {
      "text/plain": [
       "0"
      ]
     },
     "execution_count": 8,
     "metadata": {},
     "output_type": "execute_result"
    }
   ],
   "source": [
    "daily_cases.isnull().sum().sum()"
   ]
  },
  {
   "cell_type": "code",
   "execution_count": 9,
   "metadata": {},
   "outputs": [
    {
     "data": {
      "text/html": [
       "<div>\n",
       "<style scoped>\n",
       "    .dataframe tbody tr th:only-of-type {\n",
       "        vertical-align: middle;\n",
       "    }\n",
       "\n",
       "    .dataframe tbody tr th {\n",
       "        vertical-align: top;\n",
       "    }\n",
       "\n",
       "    .dataframe thead th {\n",
       "        text-align: right;\n",
       "    }\n",
       "</style>\n",
       "<table border=\"1\" class=\"dataframe\">\n",
       "  <thead>\n",
       "    <tr style=\"text-align: right;\">\n",
       "      <th></th>\n",
       "      <th>New cases</th>\n",
       "    </tr>\n",
       "    <tr>\n",
       "      <th>Date</th>\n",
       "      <th></th>\n",
       "    </tr>\n",
       "  </thead>\n",
       "  <tbody>\n",
       "    <tr>\n",
       "      <th>2020-01-22</th>\n",
       "      <td>0</td>\n",
       "    </tr>\n",
       "    <tr>\n",
       "      <th>2020-01-23</th>\n",
       "      <td>0</td>\n",
       "    </tr>\n",
       "    <tr>\n",
       "      <th>2020-01-24</th>\n",
       "      <td>0</td>\n",
       "    </tr>\n",
       "    <tr>\n",
       "      <th>2020-01-25</th>\n",
       "      <td>0</td>\n",
       "    </tr>\n",
       "    <tr>\n",
       "      <th>2020-01-26</th>\n",
       "      <td>1</td>\n",
       "    </tr>\n",
       "  </tbody>\n",
       "</table>\n",
       "</div>"
      ],
      "text/plain": [
       "            New cases\n",
       "Date                 \n",
       "2020-01-22          0\n",
       "2020-01-23          0\n",
       "2020-01-24          0\n",
       "2020-01-25          0\n",
       "2020-01-26          1"
      ]
     },
     "execution_count": 9,
     "metadata": {},
     "output_type": "execute_result"
    }
   ],
   "source": [
    "daily_cases = daily_cases.set_index('Date')\n",
    "daily_cases.index = pd.to_datetime(daily_cases.index)\n",
    "daily_cases.head()"
   ]
  },
  {
   "cell_type": "code",
   "execution_count": 10,
   "metadata": {},
   "outputs": [],
   "source": [
    "# series.reset_index(drop=True, inplace=True)"
   ]
  },
  {
   "cell_type": "code",
   "execution_count": 11,
   "metadata": {},
   "outputs": [
    {
     "data": {
      "text/plain": [
       "(225, 1)"
      ]
     },
     "execution_count": 11,
     "metadata": {},
     "output_type": "execute_result"
    }
   ],
   "source": [
    "daily_cases.shape"
   ]
  },
  {
   "cell_type": "markdown",
   "metadata": {},
   "source": [
    "## Moving Average\n",
    "\n",
    "1. Moving average can be used as a data preparation technique to create a smoothed version of the original dataset."
   ]
  },
  {
   "cell_type": "code",
   "execution_count": 12,
   "metadata": {},
   "outputs": [],
   "source": [
    "# # Tail-rolling average transform\n",
    "# rolling = series.rolling(window=3)\n",
    "# rolling_mean = rolling.mean()\n",
    "# print(rolling_mean.head(10))\n",
    "# # plot original and transformed dataset\n",
    "# series.plot()\n",
    "# rolling_mean.plot(color='red')\n",
    "# plt.show()"
   ]
  },
  {
   "cell_type": "code",
   "execution_count": 13,
   "metadata": {},
   "outputs": [],
   "source": [
    "# rolling_mean.drop[index=[0,1]]"
   ]
  },
  {
   "cell_type": "markdown",
   "metadata": {},
   "source": [
    "# LSTM"
   ]
  },
  {
   "cell_type": "code",
   "execution_count": 14,
   "metadata": {},
   "outputs": [
    {
     "data": {
      "text/html": [
       "<div>\n",
       "<style scoped>\n",
       "    .dataframe tbody tr th:only-of-type {\n",
       "        vertical-align: middle;\n",
       "    }\n",
       "\n",
       "    .dataframe tbody tr th {\n",
       "        vertical-align: top;\n",
       "    }\n",
       "\n",
       "    .dataframe thead th {\n",
       "        text-align: right;\n",
       "    }\n",
       "</style>\n",
       "<table border=\"1\" class=\"dataframe\">\n",
       "  <thead>\n",
       "    <tr style=\"text-align: right;\">\n",
       "      <th></th>\n",
       "      <th>New cases</th>\n",
       "    </tr>\n",
       "    <tr>\n",
       "      <th>Date</th>\n",
       "      <th></th>\n",
       "    </tr>\n",
       "  </thead>\n",
       "  <tbody>\n",
       "    <tr>\n",
       "      <th>2020-01-22</th>\n",
       "      <td>0</td>\n",
       "    </tr>\n",
       "    <tr>\n",
       "      <th>2020-01-23</th>\n",
       "      <td>0</td>\n",
       "    </tr>\n",
       "    <tr>\n",
       "      <th>2020-01-24</th>\n",
       "      <td>0</td>\n",
       "    </tr>\n",
       "    <tr>\n",
       "      <th>2020-01-25</th>\n",
       "      <td>0</td>\n",
       "    </tr>\n",
       "    <tr>\n",
       "      <th>2020-01-26</th>\n",
       "      <td>1</td>\n",
       "    </tr>\n",
       "    <tr>\n",
       "      <th>...</th>\n",
       "      <td>...</td>\n",
       "    </tr>\n",
       "    <tr>\n",
       "      <th>2020-08-29</th>\n",
       "      <td>297</td>\n",
       "    </tr>\n",
       "    <tr>\n",
       "      <th>2020-08-30</th>\n",
       "      <td>249</td>\n",
       "    </tr>\n",
       "    <tr>\n",
       "      <th>2020-08-31</th>\n",
       "      <td>1030</td>\n",
       "    </tr>\n",
       "    <tr>\n",
       "      <th>2020-09-01</th>\n",
       "      <td>504</td>\n",
       "    </tr>\n",
       "    <tr>\n",
       "      <th>2020-09-02</th>\n",
       "      <td>519</td>\n",
       "    </tr>\n",
       "  </tbody>\n",
       "</table>\n",
       "<p>225 rows × 1 columns</p>\n",
       "</div>"
      ],
      "text/plain": [
       "            New cases\n",
       "Date                 \n",
       "2020-01-22          0\n",
       "2020-01-23          0\n",
       "2020-01-24          0\n",
       "2020-01-25          0\n",
       "2020-01-26          1\n",
       "...               ...\n",
       "2020-08-29        297\n",
       "2020-08-30        249\n",
       "2020-08-31       1030\n",
       "2020-09-01        504\n",
       "2020-09-02        519\n",
       "\n",
       "[225 rows x 1 columns]"
      ]
     },
     "execution_count": 14,
     "metadata": {},
     "output_type": "execute_result"
    }
   ],
   "source": [
    "daily_cases"
   ]
  },
  {
   "cell_type": "code",
   "execution_count": 15,
   "metadata": {},
   "outputs": [
    {
     "data": {
      "text/plain": [
       "DatetimeIndex(['2020-01-22', '2020-01-23', '2020-01-24', '2020-01-25',\n",
       "               '2020-01-26', '2020-01-27', '2020-01-28', '2020-01-29',\n",
       "               '2020-01-30', '2020-01-31',\n",
       "               ...\n",
       "               '2020-08-24', '2020-08-25', '2020-08-26', '2020-08-27',\n",
       "               '2020-08-28', '2020-08-29', '2020-08-30', '2020-08-31',\n",
       "               '2020-09-01', '2020-09-02'],\n",
       "              dtype='datetime64[ns]', name='Date', length=225, freq=None)"
      ]
     },
     "execution_count": 15,
     "metadata": {},
     "output_type": "execute_result"
    }
   ],
   "source": [
    "daily_cases.index"
   ]
  },
  {
   "cell_type": "code",
   "execution_count": 16,
   "metadata": {},
   "outputs": [
    {
     "data": {
      "text/plain": [
       "(178, 1)"
      ]
     },
     "execution_count": 16,
     "metadata": {},
     "output_type": "execute_result"
    }
   ],
   "source": [
    "test_data_size = 47\n",
    "train_data = daily_cases[:-test_data_size]\n",
    "test_data = daily_cases[-test_data_size:]\n",
    "train_data.shape"
   ]
  },
  {
   "cell_type": "code",
   "execution_count": 17,
   "metadata": {},
   "outputs": [],
   "source": [
    "# test_data"
   ]
  },
  {
   "cell_type": "code",
   "execution_count": 18,
   "metadata": {},
   "outputs": [],
   "source": [
    "scaler = MinMaxScaler()\n",
    "scaler = scaler.fit(np.expand_dims(train_data['New cases'], axis=1))\n",
    "train_data = scaler.transform(np.expand_dims(train_data['New cases'], axis=1))\n",
    "test_data = scaler.transform(np.expand_dims(test_data['New cases'], axis=1))"
   ]
  },
  {
   "cell_type": "code",
   "execution_count": 19,
   "metadata": {},
   "outputs": [
    {
     "data": {
      "text/plain": [
       "array([[0.        ],\n",
       "       [0.        ],\n",
       "       [0.        ],\n",
       "       [0.        ],\n",
       "       [0.00035997],\n",
       "       [0.        ],\n",
       "       [0.00035997],\n",
       "       [0.        ],\n",
       "       [0.        ],\n",
       "       [0.00071994]])"
      ]
     },
     "execution_count": 19,
     "metadata": {},
     "output_type": "execute_result"
    }
   ],
   "source": [
    "train_data[:10]"
   ]
  },
  {
   "cell_type": "code",
   "execution_count": 20,
   "metadata": {},
   "outputs": [
    {
     "data": {
      "text/plain": [
       "array([[0.1137509 ],\n",
       "       [0.10547156],\n",
       "       [0.27717783],\n",
       "       [0.19258459],\n",
       "       [0.11411087],\n",
       "       [0.21886249],\n",
       "       [0.25809935],\n",
       "       [0.12778978],\n",
       "       [0.11483081],\n",
       "       [0.24550036]])"
      ]
     },
     "execution_count": 20,
     "metadata": {},
     "output_type": "execute_result"
    }
   ],
   "source": [
    "test_data[:10]"
   ]
  },
  {
   "cell_type": "code",
   "execution_count": 21,
   "metadata": {},
   "outputs": [],
   "source": [
    "def create_sequences(data, seq_length):\n",
    "    xs = []\n",
    "    ys = []\n",
    "    for i in range(len(data)-seq_length-1):\n",
    "        x = data[i:(i+seq_length)]\n",
    "        y = data[i+seq_length]\n",
    "        xs.append(x)\n",
    "        ys.append(y)\n",
    "    return np.array(xs), np.array(ys)"
   ]
  },
  {
   "cell_type": "code",
   "execution_count": 22,
   "metadata": {},
   "outputs": [],
   "source": [
    "seq_length = 21\n",
    "X_train, y_train = create_sequences(train_data, seq_length)\n",
    "X_test, y_test = create_sequences(test_data, seq_length)\n",
    "X_train = torch.from_numpy(X_train).float()\n",
    "y_train = torch.from_numpy(y_train).float()\n",
    "X_test = torch.from_numpy(X_test).float()\n",
    "y_test = torch.from_numpy(y_test).float()"
   ]
  },
  {
   "cell_type": "code",
   "execution_count": 23,
   "metadata": {},
   "outputs": [
    {
     "data": {
      "text/plain": [
       "torch.Size([156, 21, 1])"
      ]
     },
     "execution_count": 23,
     "metadata": {},
     "output_type": "execute_result"
    }
   ],
   "source": [
    "X_train.shape"
   ]
  },
  {
   "cell_type": "code",
   "execution_count": 24,
   "metadata": {},
   "outputs": [
    {
     "data": {
      "text/plain": [
       "tensor([[[0.0000],\n",
       "         [0.0000],\n",
       "         [0.0000],\n",
       "         [0.0000],\n",
       "         [0.0004],\n",
       "         [0.0000],\n",
       "         [0.0004],\n",
       "         [0.0000],\n",
       "         [0.0000],\n",
       "         [0.0007],\n",
       "         [0.0000],\n",
       "         [0.0000],\n",
       "         [0.0000],\n",
       "         [0.0000],\n",
       "         [0.0004],\n",
       "         [0.0000],\n",
       "         [0.0007],\n",
       "         [0.0000],\n",
       "         [0.0000],\n",
       "         [0.0000],\n",
       "         [0.0000]],\n",
       "\n",
       "        [[0.0000],\n",
       "         [0.0000],\n",
       "         [0.0000],\n",
       "         [0.0004],\n",
       "         [0.0000],\n",
       "         [0.0004],\n",
       "         [0.0000],\n",
       "         [0.0000],\n",
       "         [0.0007],\n",
       "         [0.0000],\n",
       "         [0.0000],\n",
       "         [0.0000],\n",
       "         [0.0000],\n",
       "         [0.0004],\n",
       "         [0.0000],\n",
       "         [0.0007],\n",
       "         [0.0000],\n",
       "         [0.0000],\n",
       "         [0.0000],\n",
       "         [0.0000],\n",
       "         [0.0000]]])"
      ]
     },
     "execution_count": 24,
     "metadata": {},
     "output_type": "execute_result"
    }
   ],
   "source": [
    "X_train[:2]"
   ]
  },
  {
   "cell_type": "code",
   "execution_count": 25,
   "metadata": {},
   "outputs": [
    {
     "data": {
      "text/plain": [
       "torch.Size([156, 1])"
      ]
     },
     "execution_count": 25,
     "metadata": {},
     "output_type": "execute_result"
    }
   ],
   "source": [
    "y_train.shape"
   ]
  },
  {
   "cell_type": "code",
   "execution_count": 26,
   "metadata": {},
   "outputs": [
    {
     "data": {
      "text/plain": [
       "tensor([[0.],\n",
       "        [0.]])"
      ]
     },
     "execution_count": 26,
     "metadata": {},
     "output_type": "execute_result"
    }
   ],
   "source": [
    "y_train[:2]"
   ]
  },
  {
   "cell_type": "code",
   "execution_count": 27,
   "metadata": {},
   "outputs": [
    {
     "data": {
      "text/plain": [
       "torch.Size([25, 21, 1])"
      ]
     },
     "execution_count": 27,
     "metadata": {},
     "output_type": "execute_result"
    }
   ],
   "source": [
    "X_test.shape"
   ]
  },
  {
   "cell_type": "code",
   "execution_count": 28,
   "metadata": {},
   "outputs": [
    {
     "data": {
      "text/plain": [
       "tensor([[[0.1138],\n",
       "         [0.1055],\n",
       "         [0.2772],\n",
       "         [0.1926],\n",
       "         [0.1141],\n",
       "         [0.2189],\n",
       "         [0.2581],\n",
       "         [0.1278],\n",
       "         [0.1148],\n",
       "         [0.2455],\n",
       "         [0.1440],\n",
       "         [0.1749],\n",
       "         [0.1152],\n",
       "         [0.2174],\n",
       "         [0.0871],\n",
       "         [0.0882],\n",
       "         [0.0738],\n",
       "         [0.2469],\n",
       "         [0.1346],\n",
       "         [0.1274],\n",
       "         [0.1857]],\n",
       "\n",
       "        [[0.1055],\n",
       "         [0.2772],\n",
       "         [0.1926],\n",
       "         [0.1141],\n",
       "         [0.2189],\n",
       "         [0.2581],\n",
       "         [0.1278],\n",
       "         [0.1148],\n",
       "         [0.2455],\n",
       "         [0.1440],\n",
       "         [0.1749],\n",
       "         [0.1152],\n",
       "         [0.2174],\n",
       "         [0.0871],\n",
       "         [0.0882],\n",
       "         [0.0738],\n",
       "         [0.2469],\n",
       "         [0.1346],\n",
       "         [0.1274],\n",
       "         [0.1857],\n",
       "         [0.0882]]])"
      ]
     },
     "execution_count": 28,
     "metadata": {},
     "output_type": "execute_result"
    }
   ],
   "source": [
    "X_test[:2]"
   ]
  },
  {
   "cell_type": "code",
   "execution_count": 29,
   "metadata": {},
   "outputs": [
    {
     "data": {
      "text/plain": [
       "torch.Size([25, 1])"
      ]
     },
     "execution_count": 29,
     "metadata": {},
     "output_type": "execute_result"
    }
   ],
   "source": [
    "y_test.shape"
   ]
  },
  {
   "cell_type": "code",
   "execution_count": 30,
   "metadata": {},
   "outputs": [
    {
     "data": {
      "text/plain": [
       "tensor([[0.0882],\n",
       "        [0.0788]])"
      ]
     },
     "execution_count": 30,
     "metadata": {},
     "output_type": "execute_result"
    }
   ],
   "source": [
    "y_test[:2]"
   ]
  },
  {
   "cell_type": "code",
   "execution_count": 35,
   "metadata": {},
   "outputs": [],
   "source": [
    "class CoronaVirusPredictor(nn.Module):\n",
    "  def __init__(self, n_features, n_hidden, seq_len, n_layers=2):\n",
    "    super(CoronaVirusPredictor, self).__init__()\n",
    "    self.n_hidden = n_hidden\n",
    "    self.seq_len = seq_len\n",
    "    self.n_layers = n_layers\n",
    "    self.lstm = nn.LSTM(\n",
    "      input_size=n_features,\n",
    "      hidden_size=n_hidden,\n",
    "      num_layers=n_layers,\n",
    "      dropout=0.5\n",
    "    )\n",
    "    self.linear = nn.Linear(in_features=n_hidden, out_features=1)\n",
    "    \n",
    "  def reset_hidden_state(self):\n",
    "    self.hidden = (\n",
    "        torch.zeros(self.n_layers, self.seq_len, self.n_hidden),\n",
    "        torch.zeros(self.n_layers, self.seq_len, self.n_hidden)\n",
    "    )\n",
    "    \n",
    "  def forward(self, sequences):\n",
    "    lstm_out, self.hidden = self.lstm(\n",
    "      sequences.view(len(sequences), self.seq_len, -1),\n",
    "      self.hidden\n",
    "    )\n",
    "    last_time_step = \\\n",
    "      lstm_out.view(self.seq_len, len(sequences), self.n_hidden)[-1]\n",
    "    y_pred = self.linear(last_time_step)\n",
    "    return y_pred"
   ]
  },
  {
   "cell_type": "code",
   "execution_count": 61,
   "metadata": {},
   "outputs": [],
   "source": [
    "def train_model(\n",
    "  model,\n",
    "  train_data,\n",
    "  train_labels,\n",
    "  test_data=None,\n",
    "  test_labels=None\n",
    "):\n",
    "  loss_fn = torch.nn.MSELoss(reduction='sum')\n",
    "\n",
    "  optimiser = torch.optim.Adam(model.parameters(), lr=1e-5)\n",
    "    \n",
    "  num_epochs = 1000\n",
    "\n",
    "  train_hist = np.zeros(num_epochs)\n",
    "    \n",
    "  test_hist = np.zeros(num_epochs)\n",
    "\n",
    "  for t in range(num_epochs):\n",
    "    model.reset_hidden_state()\n",
    "    y_pred = model(X_train)\n",
    "    loss = loss_fn(y_pred.float(), y_train)\n",
    "    \n",
    "    if test_data is not None:\n",
    "      with torch.no_grad():\n",
    "        y_test_pred = model(X_test)\n",
    "        test_loss = loss_fn(y_test_pred.float(), y_test)\n",
    "      test_hist[t] = test_loss.item()\n",
    "      if t % 10 == 0:\n",
    "        print(f'Epoch {t} train loss: {loss.item()} test loss: {test_loss.item()}')\n",
    "    elif t % 10 == 0:\n",
    "      print(f'Epoch {t} train loss: {loss.item()}')\n",
    "    train_hist[t] = loss.item()\n",
    "    optimiser.zero_grad()\n",
    "    loss.backward()\n",
    "    optimiser.step()\n",
    "    \n",
    "  return model.eval(), train_hist, test_hist"
   ]
  },
  {
   "cell_type": "code",
   "execution_count": 62,
   "metadata": {
    "scrolled": true
   },
   "outputs": [
    {
     "name": "stdout",
     "output_type": "stream",
     "text": [
      "Epoch 0 train loss: 12.643534660339355 test loss: 0.2690757215023041\n",
      "Epoch 10 train loss: 12.447915077209473 test loss: 0.258086621761322\n",
      "Epoch 20 train loss: 12.193963050842285 test loss: 0.24456819891929626\n",
      "Epoch 30 train loss: 11.95717716217041 test loss: 0.23379087448120117\n",
      "Epoch 40 train loss: 11.765547752380371 test loss: 0.2223663032054901\n",
      "Epoch 50 train loss: 11.647228240966797 test loss: 0.2053355872631073\n",
      "Epoch 60 train loss: 11.424375534057617 test loss: 0.2038399875164032\n",
      "Epoch 70 train loss: 11.216714859008789 test loss: 0.19686762988567352\n",
      "Epoch 80 train loss: 11.046435356140137 test loss: 0.18889343738555908\n",
      "Epoch 90 train loss: 10.869202613830566 test loss: 0.18519538640975952\n",
      "Epoch 100 train loss: 10.69572639465332 test loss: 0.17317980527877808\n",
      "Epoch 110 train loss: 10.530759811401367 test loss: 0.17376573383808136\n",
      "Epoch 120 train loss: 10.371621131896973 test loss: 0.1680460125207901\n",
      "Epoch 130 train loss: 10.210175514221191 test loss: 0.16456979513168335\n",
      "Epoch 140 train loss: 10.091461181640625 test loss: 0.16238096356391907\n",
      "Epoch 150 train loss: 9.892916679382324 test loss: 0.16816386580467224\n",
      "Epoch 160 train loss: 9.778736114501953 test loss: 0.16335105895996094\n",
      "Epoch 170 train loss: 9.657757759094238 test loss: 0.16809403896331787\n",
      "Epoch 180 train loss: 9.514322280883789 test loss: 0.16357998549938202\n",
      "Epoch 190 train loss: 9.40170669555664 test loss: 0.1646479219198227\n",
      "Epoch 200 train loss: 9.288963317871094 test loss: 0.17458975315093994\n",
      "Epoch 210 train loss: 9.191843032836914 test loss: 0.17512530088424683\n",
      "Epoch 220 train loss: 9.060067176818848 test loss: 0.1838880181312561\n",
      "Epoch 230 train loss: 9.006211280822754 test loss: 0.1905117630958557\n",
      "Epoch 240 train loss: 8.863165855407715 test loss: 0.19535313546657562\n",
      "Epoch 250 train loss: 8.773958206176758 test loss: 0.2053644210100174\n",
      "Epoch 260 train loss: 8.670411109924316 test loss: 0.21522168815135956\n",
      "Epoch 270 train loss: 8.634162902832031 test loss: 0.21417652070522308\n",
      "Epoch 280 train loss: 8.597846984863281 test loss: 0.23639389872550964\n",
      "Epoch 290 train loss: 8.476844787597656 test loss: 0.24588365852832794\n",
      "Epoch 300 train loss: 8.437786102294922 test loss: 0.2587975859642029\n",
      "Epoch 310 train loss: 8.401693344116211 test loss: 0.2671677768230438\n",
      "Epoch 320 train loss: 8.357940673828125 test loss: 0.2814611792564392\n",
      "Epoch 330 train loss: 8.315974235534668 test loss: 0.29007187485694885\n",
      "Epoch 340 train loss: 8.24405288696289 test loss: 0.3032229244709015\n",
      "Epoch 350 train loss: 8.22940731048584 test loss: 0.3163597881793976\n",
      "Epoch 360 train loss: 8.221291542053223 test loss: 0.3266502022743225\n",
      "Epoch 370 train loss: 8.187685012817383 test loss: 0.3351078927516937\n",
      "Epoch 380 train loss: 8.175533294677734 test loss: 0.3547951281070709\n",
      "Epoch 390 train loss: 8.168622016906738 test loss: 0.35717830061912537\n",
      "Epoch 400 train loss: 8.202057838439941 test loss: 0.37082207202911377\n",
      "Epoch 410 train loss: 8.188567161560059 test loss: 0.3752201497554779\n",
      "Epoch 420 train loss: 8.153460502624512 test loss: 0.38725408911705017\n",
      "Epoch 430 train loss: 8.161016464233398 test loss: 0.3973066806793213\n",
      "Epoch 440 train loss: 8.143228530883789 test loss: 0.4061577022075653\n",
      "Epoch 450 train loss: 8.15169620513916 test loss: 0.4107620418071747\n",
      "Epoch 460 train loss: 8.123275756835938 test loss: 0.4114284813404083\n",
      "Epoch 470 train loss: 8.105687141418457 test loss: 0.4201057553291321\n",
      "Epoch 480 train loss: 8.165175437927246 test loss: 0.41827964782714844\n",
      "Epoch 490 train loss: 8.151280403137207 test loss: 0.42823848128318787\n",
      "Epoch 500 train loss: 8.137378692626953 test loss: 0.43107759952545166\n",
      "Epoch 510 train loss: 8.106907844543457 test loss: 0.4217044711112976\n",
      "Epoch 520 train loss: 8.159740447998047 test loss: 0.43481308221817017\n",
      "Epoch 530 train loss: 8.15291690826416 test loss: 0.4294741153717041\n",
      "Epoch 540 train loss: 8.137356758117676 test loss: 0.4349932372570038\n",
      "Epoch 550 train loss: 8.09630298614502 test loss: 0.4420296251773834\n",
      "Epoch 560 train loss: 8.13790512084961 test loss: 0.4210352897644043\n",
      "Epoch 570 train loss: 8.145027160644531 test loss: 0.44152259826660156\n",
      "Epoch 580 train loss: 8.128273010253906 test loss: 0.43840962648391724\n",
      "Epoch 590 train loss: 8.15417766571045 test loss: 0.4326031506061554\n",
      "Epoch 600 train loss: 8.115988731384277 test loss: 0.439316064119339\n",
      "Epoch 610 train loss: 8.179717063903809 test loss: 0.43256521224975586\n",
      "Epoch 620 train loss: 8.119645118713379 test loss: 0.4288027584552765\n",
      "Epoch 630 train loss: 8.135147094726562 test loss: 0.44109928607940674\n",
      "Epoch 640 train loss: 8.148605346679688 test loss: 0.4386136531829834\n",
      "Epoch 650 train loss: 8.163389205932617 test loss: 0.4269386827945709\n",
      "Epoch 660 train loss: 8.150972366333008 test loss: 0.4393896758556366\n",
      "Epoch 670 train loss: 8.132411003112793 test loss: 0.42593660950660706\n",
      "Epoch 680 train loss: 8.165225982666016 test loss: 0.4402479827404022\n",
      "Epoch 690 train loss: 8.116698265075684 test loss: 0.4266304671764374\n",
      "Epoch 700 train loss: 8.145995140075684 test loss: 0.433977872133255\n",
      "Epoch 710 train loss: 8.104214668273926 test loss: 0.43648797273635864\n",
      "Epoch 720 train loss: 8.129591941833496 test loss: 0.44489386677742004\n",
      "Epoch 730 train loss: 8.149003982543945 test loss: 0.44507738947868347\n",
      "Epoch 740 train loss: 8.140743255615234 test loss: 0.44759419560432434\n",
      "Epoch 750 train loss: 8.125246047973633 test loss: 0.43308648467063904\n",
      "Epoch 760 train loss: 8.103985786437988 test loss: 0.44292378425598145\n",
      "Epoch 770 train loss: 8.172380447387695 test loss: 0.441901296377182\n",
      "Epoch 780 train loss: 8.146464347839355 test loss: 0.44662341475486755\n",
      "Epoch 790 train loss: 8.134166717529297 test loss: 0.4453691244125366\n",
      "Epoch 800 train loss: 8.140177726745605 test loss: 0.4502421021461487\n",
      "Epoch 810 train loss: 8.109655380249023 test loss: 0.4347793161869049\n",
      "Epoch 820 train loss: 8.159456253051758 test loss: 0.4426307678222656\n",
      "Epoch 830 train loss: 8.137075424194336 test loss: 0.44496944546699524\n",
      "Epoch 840 train loss: 8.175050735473633 test loss: 0.43244802951812744\n",
      "Epoch 850 train loss: 8.155070304870605 test loss: 0.4418713450431824\n",
      "Epoch 860 train loss: 8.13044261932373 test loss: 0.4339706003665924\n",
      "Epoch 870 train loss: 8.17019271850586 test loss: 0.4451739490032196\n",
      "Epoch 880 train loss: 8.17216682434082 test loss: 0.4378400444984436\n",
      "Epoch 890 train loss: 8.13294792175293 test loss: 0.4469130039215088\n",
      "Epoch 900 train loss: 8.155467987060547 test loss: 0.4316276013851166\n",
      "Epoch 910 train loss: 8.153151512145996 test loss: 0.43853524327278137\n",
      "Epoch 920 train loss: 8.132798194885254 test loss: 0.43531039357185364\n",
      "Epoch 930 train loss: 8.136401176452637 test loss: 0.43261921405792236\n",
      "Epoch 940 train loss: 8.143218040466309 test loss: 0.450155109167099\n",
      "Epoch 950 train loss: 8.132472038269043 test loss: 0.44194093346595764\n",
      "Epoch 960 train loss: 8.136467933654785 test loss: 0.43581774830818176\n",
      "Epoch 970 train loss: 8.114630699157715 test loss: 0.4450768828392029\n",
      "Epoch 980 train loss: 8.136077880859375 test loss: 0.44427189230918884\n",
      "Epoch 990 train loss: 8.13522720336914 test loss: 0.43671369552612305\n"
     ]
    }
   ],
   "source": [
    "model = CoronaVirusPredictor(\n",
    "  n_features=1,\n",
    "  n_hidden=128,\n",
    "  seq_len=seq_length,\n",
    "  n_layers=2\n",
    ")\n",
    "model, train_hist, test_hist = train_model(\n",
    "  model,\n",
    "  X_train,\n",
    "  y_train,\n",
    "  X_test,\n",
    "  y_test\n",
    ")"
   ]
  },
  {
   "cell_type": "code",
   "execution_count": 63,
   "metadata": {},
   "outputs": [
    {
     "data": {
      "image/png": "[encoded data removed]",
      "text/plain": [
       "<Figure size 432x288 with 1 Axes>"
      ]
     },
     "metadata": {
      "image/png": {
       "height": 252,
       "width": 368
      },
      "needs_background": "light"
     },
     "output_type": "display_data"
    }
   ],
   "source": [
    "plt.plot(train_hist, label=\"Training loss\")\n",
    "plt.plot(test_hist, label=\"Test loss\")\n",
    "plt.ylim((0, 50))\n",
    "plt.legend();"
   ]
  },
  {
   "cell_type": "markdown",
   "metadata": {},
   "source": [
    "# Daily Cases Prediction"
   ]
  },
  {
   "cell_type": "code",
   "execution_count": 64,
   "metadata": {},
   "outputs": [],
   "source": [
    "with torch.no_grad():\n",
    "  test_seq = X_test[:1]\n",
    "  preds = []\n",
    "  for _ in range(len(X_test)):\n",
    "    y_test_pred = model(test_seq)\n",
    "    pred = torch.flatten(y_test_pred).item()\n",
    "    preds.append(pred)\n",
    "    new_seq = test_seq.numpy().flatten()\n",
    "    new_seq = np.append(new_seq, [pred])\n",
    "    new_seq = new_seq[1:]\n",
    "    test_seq = torch.as_tensor(new_seq).view(1, seq_length, 1).float()"
   ]
  },
  {
   "cell_type": "code",
   "execution_count": 65,
   "metadata": {},
   "outputs": [],
   "source": [
    "true_cases = scaler.inverse_transform(\n",
    "    np.expand_dims(y_test.flatten().numpy(), axis=0)\n",
    ").flatten()\n",
    "predicted_cases = scaler.inverse_transform(\n",
    "  np.expand_dims(preds, axis=0)\n",
    ").flatten()"
   ]
  },
  {
   "cell_type": "code",
   "execution_count": 66,
   "metadata": {},
   "outputs": [
    {
     "data": {
      "image/png": "[encoded data removed]",
      "text/plain": [
       "<Figure size 432x288 with 1 Axes>"
      ]
     },
     "metadata": {
      "image/png": {
       "height": 248,
       "width": 381
      },
      "needs_background": "light"
     },
     "output_type": "display_data"
    }
   ],
   "source": [
    "plt.plot(\n",
    "  daily_cases.index[:len(train_data)],\n",
    "  scaler.inverse_transform(train_data).flatten(),\n",
    "  label='Historical Daily Cases'\n",
    ")\n",
    "plt.plot(\n",
    "  daily_cases.index[len(train_data):len(train_data) + len(true_cases)],\n",
    "  true_cases,\n",
    "  label='Real Daily Cases'\n",
    ")\n",
    "plt.plot(\n",
    "  daily_cases.index[len(train_data):len(train_data) + len(true_cases)],\n",
    "  predicted_cases,\n",
    "  label='Predicted Daily Cases'\n",
    ")\n",
    "plt.legend();"
   ]
  },
  {
   "cell_type": "markdown",
   "metadata": {},
   "source": [
    "## Using All Data for Training"
   ]
  },
  {
   "cell_type": "code",
   "execution_count": 52,
   "metadata": {},
   "outputs": [
    {
     "data": {
      "text/plain": [
       "(225, 1)"
      ]
     },
     "execution_count": 52,
     "metadata": {},
     "output_type": "execute_result"
    }
   ],
   "source": [
    "scaler = MinMaxScaler()\n",
    "scaler = scaler.fit(np.expand_dims(daily_cases['New cases'], axis=1))\n",
    "all_data = scaler.transform(np.expand_dims(daily_cases['New cases'], axis=1))\n",
    "all_data.shape"
   ]
  },
  {
   "cell_type": "code",
   "execution_count": 53,
   "metadata": {
    "scrolled": true
   },
   "outputs": [
    {
     "name": "stdout",
     "output_type": "stream",
     "text": [
      "Epoch 0 train loss: 15.985953330993652\n",
      "Epoch 10 train loss: 8.193687438964844\n",
      "Epoch 20 train loss: 8.207362174987793\n",
      "Epoch 30 train loss: 8.188924789428711\n",
      "Epoch 40 train loss: 8.166810035705566\n",
      "Epoch 50 train loss: 8.132048606872559\n",
      "Epoch 60 train loss: 8.127018928527832\n",
      "Epoch 70 train loss: 8.137188911437988\n",
      "Epoch 80 train loss: 8.100286483764648\n",
      "Epoch 90 train loss: 8.142196655273438\n",
      "Epoch 100 train loss: 8.155620574951172\n",
      "Epoch 110 train loss: 8.14154052734375\n",
      "Epoch 120 train loss: 8.131197929382324\n",
      "Epoch 130 train loss: 8.164223670959473\n",
      "Epoch 140 train loss: 8.135916709899902\n",
      "Epoch 150 train loss: 8.155842781066895\n",
      "Epoch 160 train loss: 8.16070556640625\n",
      "Epoch 170 train loss: 8.17951488494873\n",
      "Epoch 180 train loss: 8.158507347106934\n",
      "Epoch 190 train loss: 8.170045852661133\n",
      "Epoch 200 train loss: 8.132844924926758\n",
      "Epoch 210 train loss: 8.097430229187012\n",
      "Epoch 220 train loss: 8.116544723510742\n",
      "Epoch 230 train loss: 8.13879108428955\n",
      "Epoch 240 train loss: 8.176928520202637\n",
      "Epoch 250 train loss: 8.262812614440918\n",
      "Epoch 260 train loss: 8.122482299804688\n",
      "Epoch 270 train loss: 8.055736541748047\n",
      "Epoch 280 train loss: 8.034012794494629\n",
      "Epoch 290 train loss: 8.209833145141602\n",
      "Epoch 300 train loss: 8.283169746398926\n",
      "Epoch 310 train loss: 8.091730117797852\n",
      "Epoch 320 train loss: 8.400348663330078\n",
      "Epoch 330 train loss: 8.245574951171875\n",
      "Epoch 340 train loss: 8.07114315032959\n",
      "Epoch 350 train loss: 8.230069160461426\n",
      "Epoch 360 train loss: 8.192157745361328\n",
      "Epoch 370 train loss: 8.166474342346191\n",
      "Epoch 380 train loss: 8.038044929504395\n",
      "Epoch 390 train loss: 8.144405364990234\n",
      "Epoch 400 train loss: 8.089049339294434\n",
      "Epoch 410 train loss: 8.008609771728516\n",
      "Epoch 420 train loss: 8.093225479125977\n",
      "Epoch 430 train loss: 8.160511016845703\n",
      "Epoch 440 train loss: 294.9706726074219\n",
      "Epoch 450 train loss: 8.079399108886719\n",
      "Epoch 460 train loss: 8.315858840942383\n",
      "Epoch 470 train loss: 8.02933406829834\n",
      "Epoch 480 train loss: 8.141674041748047\n",
      "Epoch 490 train loss: 8.197660446166992\n",
      "Epoch 500 train loss: 8.177088737487793\n",
      "Epoch 510 train loss: 8.152610778808594\n",
      "Epoch 520 train loss: 8.055712699890137\n",
      "Epoch 530 train loss: 8.201408386230469\n",
      "Epoch 540 train loss: 8.082845687866211\n",
      "Epoch 550 train loss: 8.035750389099121\n",
      "Epoch 560 train loss: 8.117964744567871\n",
      "Epoch 570 train loss: 8.097201347351074\n",
      "Epoch 580 train loss: 8.118358612060547\n",
      "Epoch 590 train loss: 8.12106990814209\n",
      "Epoch 600 train loss: 8.05207347869873\n",
      "Epoch 610 train loss: 8.075237274169922\n",
      "Epoch 620 train loss: 7.903053283691406\n",
      "Epoch 630 train loss: 8.022425651550293\n",
      "Epoch 640 train loss: 8.006402015686035\n",
      "Epoch 650 train loss: 8.162627220153809\n",
      "Epoch 660 train loss: 8.099676132202148\n",
      "Epoch 670 train loss: 8.168710708618164\n",
      "Epoch 680 train loss: 8.110984802246094\n",
      "Epoch 690 train loss: 8.089739799499512\n",
      "Epoch 700 train loss: 8.046000480651855\n",
      "Epoch 710 train loss: 7.993496894836426\n",
      "Epoch 720 train loss: 8.099143981933594\n",
      "Epoch 730 train loss: 8.117117881774902\n",
      "Epoch 740 train loss: 8.090450286865234\n",
      "Epoch 750 train loss: 8.04216194152832\n",
      "Epoch 760 train loss: 7.995187759399414\n",
      "Epoch 770 train loss: 7.937404155731201\n",
      "Epoch 780 train loss: 7.990872383117676\n",
      "Epoch 790 train loss: 7.95277738571167\n",
      "Epoch 800 train loss: 8.075166702270508\n",
      "Epoch 810 train loss: 8.14017391204834\n",
      "Epoch 820 train loss: 8.065461158752441\n",
      "Epoch 830 train loss: 8.041345596313477\n",
      "Epoch 840 train loss: 8.090936660766602\n",
      "Epoch 850 train loss: 8.083656311035156\n",
      "Epoch 860 train loss: 7.990137100219727\n",
      "Epoch 870 train loss: 7.988798141479492\n",
      "Epoch 880 train loss: 8.021575927734375\n",
      "Epoch 890 train loss: 7.977494239807129\n",
      "Epoch 900 train loss: 8.076984405517578\n",
      "Epoch 910 train loss: 8.013810157775879\n",
      "Epoch 920 train loss: 8.02814769744873\n",
      "Epoch 930 train loss: 8.007220268249512\n",
      "Epoch 940 train loss: 7.9642534255981445\n",
      "Epoch 950 train loss: 8.225347518920898\n",
      "Epoch 960 train loss: 7.997550010681152\n",
      "Epoch 970 train loss: 8.003752708435059\n",
      "Epoch 980 train loss: 8.002532005310059\n",
      "Epoch 990 train loss: 7.932278633117676\n"
     ]
    }
   ],
   "source": [
    "X_all, y_all = create_sequences(all_data, seq_length)\n",
    "X_all = torch.from_numpy(X_all).float()\n",
    "y_all = torch.from_numpy(y_all).float()\n",
    "model = CoronaVirusPredictor(\n",
    "  n_features=1,\n",
    "  n_hidden=100,\n",
    "  seq_len=seq_length,\n",
    "  n_layers=2\n",
    ")\n",
    "model, train_hist, _ = train_model(model, X_all, y_all)"
   ]
  },
  {
   "cell_type": "code",
   "execution_count": 54,
   "metadata": {},
   "outputs": [],
   "source": [
    "DAYS_TO_PREDICT = 6\n",
    "\n",
    "with torch.no_grad():\n",
    "  test_seq = X_all[:1]\n",
    "  preds = []\n",
    "\n",
    "  for _ in range(DAYS_TO_PREDICT):\n",
    "    y_test_pred = model(test_seq)\n",
    "    pred = torch.flatten(y_test_pred).item()\n",
    "    preds.append(pred)\n",
    "    new_seq = test_seq.numpy().flatten()\n",
    "    new_seq = np.append(new_seq, [pred])\n",
    "    new_seq = new_seq[1:]\n",
    "    test_seq = torch.as_tensor(new_seq).view(1, seq_length, 1).float()"
   ]
  },
  {
   "cell_type": "code",
   "execution_count": 55,
   "metadata": {},
   "outputs": [],
   "source": [
    "predicted_cases = scaler.inverse_transform(\n",
    "  np.expand_dims(preds, axis=0)\n",
    ").flatten()"
   ]
  },
  {
   "cell_type": "code",
   "execution_count": 56,
   "metadata": {},
   "outputs": [
    {
     "data": {
      "text/plain": [
       "Timestamp('2020-09-02 00:00:00')"
      ]
     },
     "execution_count": 56,
     "metadata": {},
     "output_type": "execute_result"
    }
   ],
   "source": [
    "daily_cases.index[-1]"
   ]
  },
  {
   "cell_type": "code",
   "execution_count": 57,
   "metadata": {},
   "outputs": [
    {
     "data": {
      "image/png": "[encoded data removed]",
      "text/plain": [
       "<Figure size 432x288 with 1 Axes>"
      ]
     },
     "metadata": {
      "image/png": {
       "height": 248,
       "width": 389
      },
      "needs_background": "light"
     },
     "output_type": "display_data"
    }
   ],
   "source": [
    "predicted_index = pd.date_range(\n",
    "  start=daily_cases.index[-1],\n",
    "  periods=DAYS_TO_PREDICT + 1,\n",
    "  closed='right'\n",
    ")\n",
    "predicted_cases = pd.Series(\n",
    "  data=predicted_cases,\n",
    "  index=predicted_index\n",
    ")\n",
    "plt.plot(predicted_cases, label='Predicted Daily Cases')\n",
    "plt.legend();"
   ]
  },
  {
   "cell_type": "code",
   "execution_count": 58,
   "metadata": {},
   "outputs": [
    {
     "data": {
      "text/plain": [
       "2020-09-03    862.363916\n",
       "2020-09-04    578.422341\n",
       "2020-09-05    450.716294\n",
       "2020-09-06    598.364174\n",
       "2020-09-07    642.048270\n",
       "2020-09-08    467.665982\n",
       "Freq: D, dtype: float64"
      ]
     },
     "execution_count": 58,
     "metadata": {},
     "output_type": "execute_result"
    }
   ],
   "source": [
    "predicted_cases"
   ]
  },
  {
   "cell_type": "code",
   "execution_count": 59,
   "metadata": {},
   "outputs": [],
   "source": [
    "# fig = px.line(canada, x=\"Date\", y=\"New cases\", title='Daily new Cases in Canada')\n",
    "# fig.show()"
   ]
  },
  {
   "cell_type": "code",
   "execution_count": 60,
   "metadata": {},
   "outputs": [
    {
     "data": {
      "image/png": "[encoded data removed]",
      "text/plain": [
       "<Figure size 432x288 with 1 Axes>"
      ]
     },
     "metadata": {
      "image/png": {
       "height": 248,
       "width": 381
      },
      "needs_background": "light"
     },
     "output_type": "display_data"
    }
   ],
   "source": [
    "plt.plot(daily_cases, label='Historical Daily Cases')\n",
    "plt.plot(predicted_cases, label='Predicted Daily Cases')\n",
    "plt.legend();"
   ]
  },
  {
   "cell_type": "code",
   "execution_count": null,
   "metadata": {},
   "outputs": [],
   "source": []
  }
 ],
 "metadata": {
  "kernelspec": {
   "display_name": "Python 3",
   "language": "python",
   "name": "python3"
  },
  "language_info": {
   "codemirror_mode": {
    "name": "ipython",
    "version": 3
   },
   "file_extension": ".py",
   "mimetype": "text/x-python",
   "name": "python",
   "nbconvert_exporter": "python",
   "pygments_lexer": "ipython3",
   "version": "3.8.3"
  }
 },
 "nbformat": 4,
 "nbformat_minor": 4
}
